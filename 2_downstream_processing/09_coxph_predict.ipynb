{
 "cells": [
  {
   "cell_type": "markdown",
   "metadata": {},
   "source": [
    "# Benchmarks"
   ]
  },
  {
   "cell_type": "markdown",
   "metadata": {},
   "source": [
    "## Initialize"
   ]
  },
  {
   "cell_type": "code",
   "execution_count": null,
   "metadata": {
    "execution": {
     "iopub.execute_input": "2023-04-28T07:54:29.657526Z",
     "iopub.status.busy": "2023-04-28T07:54:29.657217Z",
     "iopub.status.idle": "2023-04-28T07:54:33.396820Z",
     "shell.execute_reply": "2023-04-28T07:54:33.396182Z",
     "shell.execute_reply.started": "2023-04-28T07:54:29.657504Z"
    },
    "tags": []
   },
   "outputs": [],
   "source": [
    "import os\n",
    "import math\n",
    "import pathlib\n",
    "import numpy as np\n",
    "import pandas as pd\n",
    "from tqdm.auto import tqdm\n",
    "from IPython.display import clear_output\n",
    "\n",
    "import warnings\n",
    "from lifelines.utils import CensoringType\n",
    "from lifelines.utils import concordance_index"
   ]
  },
  {
   "cell_type": "code",
   "execution_count": null,
   "metadata": {
    "execution": {
     "iopub.execute_input": "2023-04-28T07:54:33.398355Z",
     "iopub.status.busy": "2023-04-28T07:54:33.397989Z",
     "iopub.status.idle": "2023-04-28T07:54:33.431091Z",
     "shell.execute_reply": "2023-04-28T07:54:33.430450Z",
     "shell.execute_reply.started": "2023-04-28T07:54:33.398338Z"
    },
    "tags": []
   },
   "outputs": [],
   "source": [
    "node = !hostname\n",
    "if \"sc\" in node[0]:\n",
    "    base_path = \"/sc-projects/sc-proj-ukb-cvd\"\n",
    "else: \n",
    "    base_path = \"/data/analysis/ag-reils/ag-reils-shared/cardioRS\"\n",
    "print(base_path)\n",
    "\n",
    "project_label = \"22_medical_records\"\n",
    "project_path = f\"{base_path}/results/projects/{project_label}\"\n",
    "figure_path = f\"{project_path}/figures\"\n",
    "output_path = f\"{project_path}/data\"\n",
    "\n",
    "experiment = 230425\n",
    "experiment_path = f\"{output_path}/{experiment}\"\n",
    "pathlib.Path(experiment_path).mkdir(parents=True, exist_ok=True)"
   ]
  },
  {
   "cell_type": "code",
   "execution_count": null,
   "metadata": {
    "execution": {
     "iopub.execute_input": "2023-04-27T12:49:48.368194Z",
     "iopub.status.busy": "2023-04-27T12:49:48.367607Z",
     "iopub.status.idle": "2023-04-27T12:50:01.765545Z",
     "shell.execute_reply": "2023-04-27T12:50:01.765080Z",
     "shell.execute_reply.started": "2023-04-27T12:49:48.368175Z"
    },
    "tags": []
   },
   "outputs": [],
   "source": [
    "!ls -t \"/sc-projects/sc-proj-ukb-cvd/results/projects/22_medical_records/data/230425/coxph/models\" | head -n5"
   ]
  },
  {
   "cell_type": "code",
   "execution_count": null,
   "metadata": {
    "execution": {
     "iopub.execute_input": "2023-04-27T12:50:14.917647Z",
     "iopub.status.busy": "2023-04-27T12:50:14.917117Z",
     "iopub.status.idle": "2023-04-27T12:50:14.930636Z",
     "shell.execute_reply": "2023-04-27T12:50:14.930083Z",
     "shell.execute_reply.started": "2023-04-27T12:50:14.917628Z"
    },
    "tags": []
   },
   "outputs": [],
   "source": [
    "endpoints_md = pd.read_csv(f\"{experiment_path}/endpoints.csv\")\n",
    "endpoints = sorted(endpoints_md.endpoint.to_list())"
   ]
  },
  {
   "cell_type": "code",
   "execution_count": null,
   "metadata": {
    "execution": {
     "iopub.execute_input": "2023-04-27T12:50:18.818857Z",
     "iopub.status.busy": "2023-04-27T12:50:18.818342Z",
     "iopub.status.idle": "2023-04-27T12:50:18.821505Z",
     "shell.execute_reply": "2023-04-27T12:50:18.821074Z",
     "shell.execute_reply.started": "2023-04-27T12:50:18.818826Z"
    },
    "tags": []
   },
   "outputs": [],
   "source": [
    "partitions = [p for p in range(0, 22)]\n",
    "splits = [\"train\", \"valid\", \"test\"]"
   ]
  },
  {
   "cell_type": "code",
   "execution_count": null,
   "metadata": {
    "execution": {
     "iopub.execute_input": "2023-04-27T12:50:20.197729Z",
     "iopub.status.busy": "2023-04-27T12:50:20.197240Z",
     "iopub.status.idle": "2023-04-27T12:50:20.236053Z",
     "shell.execute_reply": "2023-04-27T12:50:20.235498Z",
     "shell.execute_reply.started": "2023-04-27T12:50:20.197713Z"
    },
    "tags": []
   },
   "outputs": [],
   "source": [
    "endpoint_defs = pd.read_feather(f\"{output_path}/phecode_defs_220306.feather\").query(\"endpoint==@endpoints\").sort_values(\"endpoint\").set_index(\"endpoint\")"
   ]
  },
  {
   "cell_type": "code",
   "execution_count": null,
   "metadata": {
    "execution": {
     "iopub.execute_input": "2023-04-27T12:50:20.849735Z",
     "iopub.status.busy": "2023-04-27T12:50:20.849230Z",
     "iopub.status.idle": "2023-04-27T12:50:42.266267Z",
     "shell.execute_reply": "2023-04-27T12:50:42.265685Z",
     "shell.execute_reply.started": "2023-04-27T12:50:20.849718Z"
    },
    "tags": []
   },
   "outputs": [],
   "source": [
    "eligable_eids = pd.read_feather(f\"{output_path}/eligable_eids_220627.feather\")\n",
    "eids_dict = eligable_eids.set_index(\"endpoint\")[\"eid_list\"].to_dict()"
   ]
  },
  {
   "cell_type": "code",
   "execution_count": null,
   "metadata": {
    "execution": {
     "iopub.execute_input": "2023-04-27T12:50:42.267444Z",
     "iopub.status.busy": "2023-04-27T12:50:42.267294Z",
     "iopub.status.idle": "2023-04-27T12:50:42.271443Z",
     "shell.execute_reply": "2023-04-27T12:50:42.271000Z",
     "shell.execute_reply.started": "2023-04-27T12:50:42.267429Z"
    },
    "tags": []
   },
   "outputs": [],
   "source": [
    "%env MKL_NUM_THREADS=2\n",
    "%env NUMEXPR_NUM_THREADS=2\n",
    "%env OMP_NUM_THREADS=2"
   ]
  },
  {
   "cell_type": "code",
   "execution_count": null,
   "metadata": {
    "tags": []
   },
   "outputs": [],
   "source": [
    "ray.shutdown()"
   ]
  },
  {
   "cell_type": "code",
   "execution_count": null,
   "metadata": {
    "execution": {
     "iopub.execute_input": "2023-04-27T12:50:42.272109Z",
     "iopub.status.busy": "2023-04-27T12:50:42.271973Z",
     "iopub.status.idle": "2023-04-27T12:50:43.464576Z",
     "shell.execute_reply": "2023-04-27T12:50:43.464039Z",
     "shell.execute_reply.started": "2023-04-27T12:50:42.272095Z"
    },
    "tags": []
   },
   "outputs": [],
   "source": [
    "import ray\n",
    "#ray start --head --port=6379 --num-cpus 64 # in terminal\n",
    "ray.init(address='auto')#, dashboard_port=24762, dashboard_host=\"0.0.0.0\", include_dashboard=True)#, webui_url=\"0.0.0.0\"))\n",
    "#ray.init(num_cpus=32)#, dashboard_port=24762, dashboard_host=\"0.0.0.0\", include_dashboard=True)#, webui_url=\"0.0.0.0\"))"
   ]
  },
  {
   "cell_type": "markdown",
   "metadata": {},
   "source": [
    "# Predict COX"
   ]
  },
  {
   "cell_type": "code",
   "execution_count": null,
   "metadata": {
    "execution": {
     "iopub.execute_input": "2023-04-27T12:51:22.399913Z",
     "iopub.status.busy": "2023-04-27T12:51:22.399283Z",
     "iopub.status.idle": "2023-04-27T12:51:22.405532Z",
     "shell.execute_reply": "2023-04-27T12:51:22.405061Z",
     "shell.execute_reply.started": "2023-04-27T12:51:22.399894Z"
    },
    "tags": []
   },
   "outputs": [],
   "source": [
    "in_path = pathlib.Path(f\"{output_path}/{experiment}/coxph/input\")\n",
    "model_path = f\"{experiment_path}/coxph/models\"\n",
    "\n",
    "out_path = f\"{experiment_path}/coxph/predictions\"\n",
    "pathlib.Path(out_path).mkdir(parents=True, exist_ok=True)"
   ]
  },
  {
   "cell_type": "code",
   "execution_count": null,
   "metadata": {
    "execution": {
     "iopub.execute_input": "2023-04-28T07:54:36.638059Z",
     "iopub.status.busy": "2023-04-28T07:54:36.637787Z",
     "iopub.status.idle": "2023-04-28T07:54:36.640627Z",
     "shell.execute_reply": "2023-04-28T07:54:36.640190Z",
     "shell.execute_reply.started": "2023-04-28T07:54:36.638042Z"
    },
    "tags": []
   },
   "outputs": [],
   "source": [
    "model_path = f\"{experiment_path}/coxph/models\""
   ]
  },
  {
   "cell_type": "code",
   "execution_count": null,
   "metadata": {
    "execution": {
     "iopub.execute_input": "2023-04-28T07:54:40.657563Z",
     "iopub.status.busy": "2023-04-28T07:54:40.657233Z",
     "iopub.status.idle": "2023-04-28T07:54:40.662655Z",
     "shell.execute_reply": "2023-04-28T07:54:40.662218Z",
     "shell.execute_reply.started": "2023-04-28T07:54:40.657545Z"
    },
    "tags": []
   },
   "outputs": [],
   "source": [
    "model_path"
   ]
  },
  {
   "cell_type": "code",
   "execution_count": null,
   "metadata": {
    "execution": {
     "iopub.execute_input": "2023-04-27T12:51:32.857529Z",
     "iopub.status.busy": "2023-04-27T12:51:32.856930Z",
     "iopub.status.idle": "2023-04-27T12:51:32.860027Z",
     "shell.execute_reply": "2023-04-27T12:51:32.859565Z",
     "shell.execute_reply.started": "2023-04-27T12:51:32.857511Z"
    },
    "tags": []
   },
   "outputs": [],
   "source": [
    "models = ['Identity(Records)+MLP', 'Identity(Records)+Linear']"
   ]
  },
  {
   "cell_type": "code",
   "execution_count": null,
   "metadata": {
    "execution": {
     "iopub.execute_input": "2023-04-27T12:52:55.520455Z",
     "iopub.status.busy": "2023-04-27T12:52:55.519806Z",
     "iopub.status.idle": "2023-04-27T12:52:55.606891Z",
     "shell.execute_reply": "2023-04-27T12:52:55.606274Z",
     "shell.execute_reply.started": "2023-04-27T12:52:55.520435Z"
    },
    "tags": []
   },
   "outputs": [],
   "source": [
    "from lifelines import CoxPHFitter\n",
    "from lifelines.exceptions import ConvergenceError\n",
    "import zstandard\n",
    "import pickle\n",
    "import os\n",
    "\n",
    "def get_score_defs():\n",
    "\n",
    "    with open(r'/home/USER/code/MedicalHistoryPhenomeWide/2_downstream_processing/score_definitions.yaml') as file:\n",
    "        score_defs = yaml.full_load(file)\n",
    "    \n",
    "    return score_defs\n",
    "\n",
    "def get_features(endpoint, score_defs):\n",
    "    features = {\n",
    "        'Identity(Records)+MLP': {\n",
    "            \"MedicalHistory\": [endpoint],\n",
    "            \"Age+Sex\": score_defs[\"AgeSex\"],\n",
    "            \"Comorbidities\": score_defs[\"Comorbidities\"],\n",
    "            \"SCORE2\": score_defs[\"SCORE2\"],\n",
    "            \"ASCVD\": score_defs[\"ASCVD\"],\n",
    "            \"QRISK3\": score_defs[\"QRISK3\"],\n",
    "            \"Age+Sex+Comorbidities\": score_defs[\"AgeSex\"] + score_defs[\"Comorbidities\"],\n",
    "            \"Age+Sex+MedicalHistory\": score_defs[\"AgeSex\"] + [endpoint],\n",
    "            \"SCORE2+MedicalHistory\": score_defs[\"SCORE2\"] + [endpoint],\n",
    "            \"ASCVD+MedicalHistory\": score_defs[\"ASCVD\"] + [endpoint],\n",
    "            \"QRISK3+MedicalHistory\": score_defs[\"QRISK3\"] + [endpoint],\n",
    "            \"Age+Sex+Comorbidities+MedicalHistory\": score_defs[\"AgeSex\"] + score_defs[\"Comorbidities\"] + [endpoint],\n",
    "            },\n",
    "        'Identity(Records)+Linear': {\n",
    "            \"MedicalHistoryLM\": [endpoint],\n",
    "            \"Age+Sex+MedicalHistoryLM\": score_defs[\"AgeSex\"] + [endpoint],\n",
    "            \"Age+Sex+Comorbidities+MedicalHistoryLM\": score_defs[\"AgeSex\"] + score_defs[\"Comorbidities\"] + [endpoint],\n",
    "            }\n",
    "    }\n",
    "    return features\n",
    "\n",
    "def get_test_data(in_path, partition, models):\n",
    "    test_data = {model: pd.read_feather(f\"{in_path}/{model}/{partition}/test.feather\").set_index(\"eid\") for model in models}\n",
    "    return test_data\n",
    "            \n",
    "def load_pickle(fp):\n",
    "    with open(fp, \"rb\") as fh:\n",
    "        dctx = zstandard.ZstdDecompressor()\n",
    "        with dctx.stream_reader(fh) as decompressor:\n",
    "            data = pickle.loads(decompressor.read())\n",
    "    return data\n",
    "\n",
    "def predict_cox(cph, data_endpoint, endpoint, feature_set, partition, pred_path):\n",
    "    times = [1, 2, 3, 4, 5, 6, 7, 8, 9, 10, 11, 12, 13, 14, 15]\n",
    "    time_cols = {t: f\"Ft_{t}\" for t in times}\n",
    "    \n",
    "    if feature_set==\"Age+Sex+MedicalHistory+I(Age*MH)\":\n",
    "        data_endpoint.columns = [c.replace(\"-\", \"\") for c in data_endpoint.columns]\n",
    "    \n",
    "    surv_test = 1-cph.predict_survival_function(data_endpoint, times=times) \n",
    "    temp_pred = data_endpoint.reset_index()[[\"eid\"]].assign(endpoint=endpoint, features=feature_set, partition=partition)\n",
    "    for t, col in time_cols.items(): temp_pred[col] = surv_test.T[t].to_list()\n",
    "    \n",
    "    temp_pred.to_feather(f\"{out_path}/{endpoint}_{feature_set}_{partition}.feather\")\n",
    "\n",
    "@ray.remote\n",
    "def predict_endpoint(data_partition, eids_dict, endpoint, partition, models, features, model_path, out_path):\n",
    "    eids_incl = eids_dict[endpoint].tolist()\n",
    "    results = []\n",
    "    for model in models:\n",
    "        data_model = data_partition[model]\n",
    "        for feature_set, covariates in features[model].items():\n",
    "            identifier = f\"{endpoint}_{feature_set}_{partition}\"\n",
    "            pred_path = f\"{out_path}/{identifier}.feather\"\n",
    "            if not os.path.isfile(pred_path):\n",
    "                try:\n",
    "                    cph = load_pickle(f\"{model_path}/{identifier}.p\")\n",
    "                    data_endpoint = data_model[data_model.index.isin(eids_incl)]\n",
    "                    predict_cox(cph, data_endpoint, endpoint, feature_set, partition, pred_path)\n",
    "                except:\n",
    "                    print(f\"{identifier} not available\")\n",
    "    return True"
   ]
  },
  {
   "cell_type": "code",
   "execution_count": null,
   "metadata": {
    "execution": {
     "iopub.execute_input": "2023-04-27T16:39:43.809582Z",
     "iopub.status.busy": "2023-04-27T16:39:43.809051Z",
     "iopub.status.idle": "2023-04-27T16:41:18.845375Z",
     "shell.execute_reply": "2023-04-27T16:41:18.844702Z",
     "shell.execute_reply.started": "2023-04-27T16:39:43.809563Z"
    },
    "tags": []
   },
   "outputs": [],
   "source": [
    "import yaml\n",
    "score_defs = get_score_defs()\n",
    "\n",
    "ray_eids = ray.put(eids_dict)\n",
    "for partition in tqdm(partitions):\n",
    "    try:\n",
    "        del ray_partition\n",
    "    except:\n",
    "        print(\"Ray object not yet initialised\")\n",
    "    ray_partition = ray.put(get_test_data(in_path, partition, models))\n",
    "    progress = []\n",
    "    for endpoint in endpoints:\n",
    "        features = get_features(endpoint, score_defs)\n",
    "        progress.append(predict_endpoint.remote(ray_partition, ray_eids, endpoint, partition, models, features, model_path, out_path))\n",
    "    [ray.get(s) for s in tqdm(progress)]"
   ]
  },
  {
   "cell_type": "code",
   "execution_count": null,
   "metadata": {
    "execution": {
     "iopub.execute_input": "2023-04-27T16:39:20.211633Z",
     "iopub.status.busy": "2023-04-27T16:39:20.211496Z",
     "iopub.status.idle": "2023-04-27T16:39:20.214757Z",
     "shell.execute_reply": "2023-04-27T16:39:20.214421Z",
     "shell.execute_reply.started": "2023-04-27T16:39:20.211618Z"
    },
    "tags": []
   },
   "outputs": [],
   "source": [
    "1+1"
   ]
  },
  {
   "cell_type": "code",
   "execution_count": null,
   "metadata": {},
   "outputs": [],
   "source": []
  }
 ],
 "metadata": {
  "kernelspec": {
   "display_name": "Python [conda env:udm]",
   "language": "python",
   "name": "conda-env-udm-py"
  },
  "language_info": {
   "codemirror_mode": {
    "name": "ipython",
    "version": 3
   },
   "file_extension": ".py",
   "mimetype": "text/x-python",
   "name": "python",
   "nbconvert_exporter": "python",
   "pygments_lexer": "ipython3",
   "version": "3.10.9"
  },
  "toc-autonumbering": false
 },
 "nbformat": 4,
 "nbformat_minor": 4
}