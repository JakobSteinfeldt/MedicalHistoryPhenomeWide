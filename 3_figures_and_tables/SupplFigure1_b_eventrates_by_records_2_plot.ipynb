{
 "cells": [
  {
   "cell_type": "markdown",
   "metadata": {},
   "source": [
    "# Benchmarks"
   ]
  },
  {
   "cell_type": "markdown",
   "metadata": {},
   "source": [
    "## Initialize"
   ]
  },
  {
   "cell_type": "code",
   "execution_count": null,
   "metadata": {
    "ExecuteTime": {
     "end_time": "2021-01-05T11:03:09.852316Z",
     "start_time": "2021-01-05T11:03:07.701Z"
    },
    "tags": []
   },
   "outputs": [],
   "source": [
    "#library(Rmisc)\n",
    "library(dtplyr)\n",
    "library(tidyverse)\n",
    "library(glue)\n",
    "library(arrow)\n",
    "library(patchwork)\n",
    "library(data.table)\n",
    "library(\"jsonlite\")\n",
    "library(ggthemes)"
   ]
  },
  {
   "cell_type": "code",
   "execution_count": null,
   "metadata": {
    "ExecuteTime": {
     "end_time": "2021-01-05T11:03:10.491477Z",
     "start_time": "2021-01-05T11:03:10.445Z"
    },
    "tags": []
   },
   "outputs": [],
   "source": [
    "if (grepl(\"sc\", Sys.info()[[\"nodename\"]], fixed=TRUE)) {\n",
    "    base_path = \"/sc-projects/sc-proj-ukb-cvd\"\n",
    "} else {\n",
    "    base_path = \"/data/analysis/ag-reils/ag-reils-shared/cardioRS\"}\n",
    "print(base_path)\n",
    "\n",
    "project_label=\"22_medical_records\"\n",
    "project_path = glue(\"{base_path}/results/projects/{project_label}\")\n",
    "figure_path = glue(\"{project_path}/figures\")\n",
    "output_path = glue(\"{project_path}/data\")\n",
    "\n",
    "experiment = 220627\n",
    "experiment_path = glue(\"{output_path}/{experiment}\")"
   ]
  },
  {
   "cell_type": "code",
   "execution_count": null,
   "metadata": {
    "tags": []
   },
   "outputs": [],
   "source": [
    "concept = fread(\"/sc-projects/sc-proj-ukb-cvd/data/mapping/athena/CONCEPT.csv\")"
   ]
  },
  {
   "cell_type": "markdown",
   "metadata": {},
   "source": [
    "## Generate Data"
   ]
  },
  {
   "cell_type": "code",
   "execution_count": null,
   "metadata": {
    "tags": []
   },
   "outputs": [],
   "source": [
    "record_freqs = arrow::read_feather(glue(\"{experiment_path}/records_inc_disease_freq.feather\")) %>%\n",
    "    rename(concept_id=record) %>% mutate(concept_id = str_replace(concept_id, \"OMOP_\", \"\")) %>%\n",
    "    left_join(concept %>% mutate(concept_id = as.character(concept_id)) %>% as_tibble(), on=\"concept_id\")"
   ]
  },
  {
   "cell_type": "code",
   "execution_count": null,
   "metadata": {
    "tags": []
   },
   "outputs": [],
   "source": [
    "base_size = 8\n",
    "title_size = 10\n",
    "facet_size = 10\n",
    "geom_text_size=3\n",
    "theme_set(theme_classic(base_size = base_size) + \n",
    "          theme(strip.background = element_blank(), plot.title=element_text(size=title_size, hjust=0), \n",
    "                strip.text.x = element_text(size = facet_size),axis.title=element_text(size=10), axis.text=element_text(size=8, color=\"black\"),\n",
    "                legend.position=\"bottom\", axis.line = element_line(size = 0.2), axis.ticks=element_line(size=0.2), panel.grid.major = element_line()))"
   ]
  },
  {
   "cell_type": "code",
   "execution_count": null,
   "metadata": {
    "tags": []
   },
   "outputs": [],
   "source": [
    "record_freqs = record_freqs %>% \n",
    "    mutate(highlight = factor(case_when(str_detect(concept_name, \n",
    "                                                   \"Heart failure$|Dilated cardiomyopathy|Type 2 diabetes mellitus$|Essential hypertension|^Rheumatoid arthritis$|Diabetic glomerulonephritis|Portal hypertension\") ~\"Yes\", \n",
    "                                        TRUE ~\"No\"))) %>% \n",
    "    mutate(label=case_when(highlight==\"Yes\" ~ tools::toTitleCase(concept_name), TRUE ~\"\")) %>% #%>% filter(highlight==1)%>%\n",
    "    mutate(freq_records = n_records/n_eligable) %>%\n",
    "    mutate(log_freq_records = log(freq_records))"
   ]
  },
  {
   "cell_type": "code",
   "execution_count": null,
   "metadata": {
    "tags": []
   },
   "outputs": [],
   "source": [
    "record_freqs %>% filter(highlight==\"Yes\")"
   ]
  },
  {
   "cell_type": "code",
   "execution_count": null,
   "metadata": {
    "tags": []
   },
   "outputs": [],
   "source": [
    "record_freqs %>% ggplot() + geom_density(aes(x=log(freq_records)))"
   ]
  },
  {
   "cell_type": "code",
   "execution_count": null,
   "metadata": {},
   "outputs": [],
   "source": [
    "record_freqs"
   ]
  },
  {
   "cell_type": "code",
   "execution_count": null,
   "metadata": {
    "tags": []
   },
   "outputs": [],
   "source": [
    "n1 = record_freqs %>% filter(freq_records <0.01) %>% group_by(domain_id) %>% tally()"
   ]
  },
  {
   "cell_type": "code",
   "execution_count": null,
   "metadata": {
    "tags": []
   },
   "outputs": [],
   "source": [
    "n2 = record_freqs %>% filter(freq_records <0.01, freq_events_record>0.2) %>% group_by(domain_id) %>% tally()"
   ]
  },
  {
   "cell_type": "code",
   "execution_count": null,
   "metadata": {
    "tags": []
   },
   "outputs": [],
   "source": [
    "bind_cols(n1, n2) %>% mutate(perc =`n...4`/`n...2`)"
   ]
  },
  {
   "cell_type": "code",
   "execution_count": null,
   "metadata": {
    "tags": []
   },
   "outputs": [],
   "source": [
    "record_freqs %>% filter(freq_records <0.01, freq_events_record>0.2) %>% filter(str_detect(concept_name, \"Portal hypertension\")) #%>% group_by(domain_id) %>% slice_max(freq_events_record, n=5)"
   ]
  },
  {
   "cell_type": "code",
   "execution_count": null,
   "metadata": {
    "tags": []
   },
   "outputs": [],
   "source": [
    "record_freqs %>% filter(n_records>3000&n_records<4000) %>% arrange(desc(freq_events_record)) #%>% filter(freq_events_record<0.24)"
   ]
  },
  {
   "cell_type": "code",
   "execution_count": null,
   "metadata": {
    "tags": []
   },
   "outputs": [],
   "source": [
    "library(ggrepel)"
   ]
  },
  {
   "cell_type": "code",
   "execution_count": null,
   "metadata": {
    "tags": []
   },
   "outputs": [],
   "source": [
    "library(scales)"
   ]
  },
  {
   "cell_type": "code",
   "execution_count": null,
   "metadata": {
    "tags": []
   },
   "outputs": [],
   "source": [
    "require(scales)\n",
    "plot_width=8.25; plot_height=4; plot_res=320\n",
    "options(repr.plot.width=plot_width, repr.plot.height=plot_height, repr.plot.dpi=plot_res)\n",
    "rf_plot = ggplot(record_freqs, aes(id=concept_id, name=concept_name, domain=domain_id, x=log_freq_records, y=freq_events_record, color=highlight, alpha=highlight, size=highlight, label=label)) + \n",
    "    labs(x=\"Individuals with prior record (%)\", y=\"Mortality rate (%)\") + \n",
    "    scale_alpha_manual(values = c(\"Yes\" = 1, \"No\"=0.2))+\n",
    "    scale_color_manual(values = c(\"Yes\" = \"red\", \"No\"=\"black\"))+\n",
    "    scale_size_manual(values = c(\"Yes\" = 2, \"No\"=1))+\n",
    "   scale_y_continuous(expand=c(0, 0), \n",
    "                       breaks = c(0.25, 0.5, 0.75, 1),\n",
    "                      labels = c(\"25\", \"50\", \"75\", \"100\")) + \n",
    "    scale_x_continuous(expand=c(0, 0), \n",
    "                       breaks = c(log(1/10000), log(1/1000), log(1/100), log(1/10)),\n",
    "                      labels = c(\"0.01\", \"0.1\", \"1\", \"10\"))+#, labels = percent)+#, labels = trans_format(\"log10\", math_format(10^.x)))+\n",
    "    geom_label_repel(box.padding = 0.8, max.overlaps = Inf, size=3, color=\"black\", force=3, min.segment.length=0) +\n",
    "    geom_point()+#alpha=0.2, size=0.2) + \n",
    "   # geom_point(data = record_freqs %>% filter(highlight==\"Yes\"), aes(x=log_freq_records, y=freq_events_record), alpha=0.2, color=\"red\", size=1), +#alpha=0.2, size=0.2) + \n",
    "    theme(legend.position=\"none\")+#+\n",
    "    coord_cartesian(ylim=c(0, 0.75))\n",
    "    #scale_x_continuous(expand=c(0, 0))\n",
    "rf_plot"
   ]
  },
  {
   "cell_type": "code",
   "execution_count": null,
   "metadata": {
    "tags": []
   },
   "outputs": [],
   "source": [
    "library(gt)\n",
    "plot_name = \"SupplFigure1b_recordsmortality\"\n",
    "rf_plot %>% ggsave(filename=glue(\"outputs/{plot_name}.pdf\"), device=cairo_pdf, width=plot_width, height=plot_height, dpi=plot_res)"
   ]
  },
  {
   "cell_type": "markdown",
   "metadata": {},
   "source": [
    "## Check how many have rare records?"
   ]
  },
  {
   "cell_type": "code",
   "execution_count": null,
   "metadata": {
    "tags": []
   },
   "outputs": [],
   "source": [
    "data_records = arrow::read_feather(glue(\"{output_path}/baseline_records_220627.feather\", as_data_frame=FALSE)) "
   ]
  },
  {
   "cell_type": "code",
   "execution_count": null,
   "metadata": {
    "tags": []
   },
   "outputs": [],
   "source": [
    "data_records_freq = data_records %>% summarise(across(-eid, ~ mean(.x))) %>% pivot_longer(everything(),names_to=\"concept_id\", values_to=\"freq\") %>% arrange(freq)"
   ]
  },
  {
   "cell_type": "markdown",
   "metadata": {},
   "source": [
    "## Simpler"
   ]
  },
  {
   "cell_type": "code",
   "execution_count": null,
   "metadata": {
    "tags": []
   },
   "outputs": [],
   "source": [
    "data_records_freq_binned = data_records_freq %>% \n",
    "    mutate(freq_bin = case_when(\n",
    "        freq >= 0.01 ~\"Common\",\n",
    "        freq < 0.01 ~ \"Rare\"\n",
    "        #freq < 0.001 & freq >=0.0001 ~ \"Very Rare\",\n",
    "        #freq < 0.0001 ~ \"Extremely Rare\"\n",
    "    )\n",
    "          ) %>%  \n",
    "    as_tibble() %>%\n",
    "    left_join(concept %>% as_tibble() %>% mutate(concept_id = glue(\"OMOP_{concept_id}\")))"
   ]
  },
  {
   "cell_type": "code",
   "execution_count": null,
   "metadata": {
    "tags": []
   },
   "outputs": [],
   "source": [
    "bin = \"Common\"\n",
    "bin_selection_df = data_records_freq_binned %>% filter(str_detect(concept_id, \"OMOP_\")) %>% filter(freq_bin==!!bin) \n",
    "record_selection = bin_selection_df$concept_id\n",
    "print(length(record_selection))\n",
    "n_verycommon = (data_records %>% select(all_of(record_selection)) %>% mutate(n = rowSums(across(all_of(record_selection)))))$n"
   ]
  },
  {
   "cell_type": "code",
   "execution_count": null,
   "metadata": {
    "tags": []
   },
   "outputs": [],
   "source": [
    "bin = \"Rare\"\n",
    "bin_selection_df = data_records_freq_binned %>% filter(str_detect(concept_id, \"OMOP_\")) %>% filter(freq_bin==!!bin) \n",
    "record_selection = bin_selection_df$concept_id\n",
    "print(length(record_selection))\n",
    "n_common = (data_records %>% select(all_of(record_selection)) %>% mutate(n = rowSums(across(all_of(record_selection)))))$n"
   ]
  },
  {
   "cell_type": "code",
   "execution_count": null,
   "metadata": {
    "tags": []
   },
   "outputs": [],
   "source": [
    "overview = data_records %>% select(eid)\n",
    "overview[\"n_common\"] = n_verycommon\n",
    "overview[\"n_rare\"] = n_common\n",
    "#overview[\"n_veryrare_n9944\"] = n_veryrare\n",
    "#overview[\"n_extremelyrare_n55544\"] = n_extremelyrare"
   ]
  },
  {
   "cell_type": "code",
   "execution_count": null,
   "metadata": {
    "tags": []
   },
   "outputs": [],
   "source": [
    "temp_plot = overview %>% mutate(ratio = n_rare/n_common)"
   ]
  },
  {
   "cell_type": "code",
   "execution_count": null,
   "metadata": {
    "tags": []
   },
   "outputs": [],
   "source": [
    "library(ggdist)\n",
    "temp_plot %>% median_qi(ratio, na.rm=TRUE)"
   ]
  },
  {
   "cell_type": "code",
   "execution_count": null,
   "metadata": {
    "tags": []
   },
   "outputs": [],
   "source": [
    "options(repr.plot.width=3, repr.plot.height=2, repr.plot.res=600)\n",
    "ratio = ggplot(temp_plot, aes(x=log(ratio))) +\n",
    "    labs(x=\"Rare versus common concepts (Ratio)\", y=\"Density\") + \n",
    "    geom_density(fill=\"black\", alpha=0.1) + \n",
    "    scale_x_continuous(expand=c(0, 0), \n",
    "                       breaks = c(log(0.1), log(1), log(10)), \n",
    "                       labels = c(\"0.1\", \"1\", \"10\")) +\n",
    "    scale_y_continuous(expand=c(0, 0))\n",
    "ratio"
   ]
  },
  {
   "cell_type": "code",
   "execution_count": null,
   "metadata": {
    "tags": []
   },
   "outputs": [],
   "source": [
    "temp = overview %>% pivot_longer(-eid, names_to=\"type\", values_to=\"count\")"
   ]
  },
  {
   "cell_type": "code",
   "execution_count": null,
   "metadata": {
    "tags": []
   },
   "outputs": [],
   "source": [
    "temp "
   ]
  },
  {
   "cell_type": "code",
   "execution_count": null,
   "metadata": {
    "tags": []
   },
   "outputs": [],
   "source": [
    "temp %>% mutate(n_bigger0 = ifelse(count>0, TRUE, FALSE), n_bigger10 = ifelse(count>10, TRUE, FALSE), n_bigger100 = ifelse(count>100, TRUE, FALSE)) %>% \n",
    "    group_by(type) %>% summarise(n_bigger0_ratio = mean(n_bigger0),\n",
    "                                 n_bigger10_ratio = mean(n_bigger10),\n",
    "                                 n_bigger100_ratio = mean(n_bigger100)) %>%\n",
    "    mutate(type = factor(type, levels=c(\"n_common\", \"n_rare\"))) %>% arrange(type)                 "
   ]
  },
  {
   "cell_type": "code",
   "execution_count": null,
   "metadata": {
    "tags": []
   },
   "outputs": [],
   "source": [
    "temp_plot = temp %>% group_by(type, count) %>% summarise(n_count = n()) %>% \n",
    "    mutate(cumsum = cumsum(n_count)) %>% \n",
    "    mutate(rev_cumsum=502460-cumsum, freq_rev_cumsum = (502460-cumsum)/502460) %>% mutate(n_unique_records = count+1) %>% \n",
    "    select(type, n_unique_records, rev_cumsum,freq_rev_cumsum) %>%\n",
    "    mutate(log_n_unique_records = log(n_unique_records)) %>%\n",
    "    mutate(type = fct_rev(factor(type, levels=c(\"n_common\", \"n_rare\"))))"
   ]
  },
  {
   "cell_type": "code",
   "execution_count": null,
   "metadata": {
    "tags": []
   },
   "outputs": [],
   "source": [
    "type_map = c(\n",
    "    \"n_common\" = \"Common (>= 1%, n = 1.186)\",\n",
    "    \"n_rare\" = \"Rare (< 1%, n = 69.850)\"\n",
    "    #\"n_extremelyrare_n55544\" = \"Extremely rare\\n(<0.01%, n = 55544)\"\n",
    ")"
   ]
  },
  {
   "cell_type": "raw",
   "metadata": {
    "execution": {
     "iopub.execute_input": "2022-07-21T22:22:54.388562Z",
     "iopub.status.busy": "2022-07-21T22:22:54.387422Z",
     "iopub.status.idle": "2022-07-21T22:22:54.978932Z",
     "shell.execute_reply": "2022-07-21T22:22:54.977817Z"
    },
    "tags": []
   },
   "source": [
    "options(repr.plot.width=8.25, repr.plot.height=2, repr.plot.res=600)\n",
    "ggplot(temp_plot, aes(x=log_n_unique_records, y=freq_rev_cumsum*100)) + \n",
    "    labs(x=\"Unique records before recruitment\", y=\"Individuals (%)\") + \n",
    "    geom_col(aes(x=log_n_unique_records, y=freq_rev_cumsum*100), alpha=0.3, size=10, fill=\"black\", width=0.1) +#\n",
    "    #geom_line(color=\"black\") + \n",
    "\n",
    "    geom_segment(data=temp_plot %>% filter(n_unique_records==1), \n",
    "                 mapping=aes(x=log(1), xend=log(3), y=freq_rev_cumsum*100, yend=freq_rev_cumsum*100), \n",
    "                 alpha=0.5, arrow = arrow(length = unit(0.1, \"cm\"), type = \"closed\"), size=0.25) + \n",
    "    geom_text(data=temp_plot %>% filter(n_unique_records==1), \n",
    "              mapping=aes(label=glue(\"{round(freq_rev_cumsum*100, 1)}%\"), y=freq_rev_cumsum*100), \n",
    "              size=2.5, x=log(4), hjust=0) + \n",
    "\n",
    "    geom_segment(data=temp_plot %>% filter(n_unique_records==10), \n",
    "                 mapping=aes(x=log(10), xend=log(20), y=freq_rev_cumsum*100, yend=freq_rev_cumsum*100), \n",
    "                 alpha=0.5, arrow = arrow(length = unit(0.1, \"cm\"), type = \"closed\"), size=0.25) + \n",
    "    geom_text(data=temp_plot %>% filter(n_unique_records==10), \n",
    "              mapping=aes(label=glue(\"{round(freq_rev_cumsum*100, 1)}%\"), y=freq_rev_cumsum*100), \n",
    "              size=2.5, x=log(25), hjust=0) + \n",
    "\n",
    "    scale_x_continuous(expand=c(0, 0), breaks = c(log(1), log(10), log(100)), labels = c(\"1\", \"10\", \"100\")) +\n",
    "    scale_y_continuous(expand=c(0, 0)) +# expand_limits(y=c(0, 5)) + \n",
    "    coord_cartesian(xlim=c(log(1), log(200)), ylim=c(0, 100)) + \n",
    "    facet_grid(~type, labeller=labeller(type=type_map)) +\n",
    "    theme(legend.position=\"none\")"
   ]
  },
  {
   "cell_type": "code",
   "execution_count": null,
   "metadata": {
    "tags": []
   },
   "outputs": [],
   "source": [
    "options(repr.plot.width=8.25, repr.plot.height=2, repr.plot.res=600)\n",
    "minimum = ggplot(temp_plot, aes(x=log_n_unique_records, y=freq_rev_cumsum*100)) + \n",
    "    labs(x=\"Unique concepts before recruitment (n)\", y=\"Individuals (%)\") + \n",
    "    geom_ribbon(aes(xmin=log_n_unique_records, ymin=0, ymax=freq_rev_cumsum*100), alpha=0.1) +#\n",
    "    geom_line(color=\"black\") + \n",
    "\n",
    "    geom_segment(data=temp_plot %>% filter(n_unique_records==1), \n",
    "                 mapping=aes(x=log(1), xend=log(3), y=freq_rev_cumsum*100, yend=freq_rev_cumsum*100), \n",
    "                 alpha=0.5, arrow = arrow(length = unit(0.1, \"cm\"), type = \"closed\"), size=0.25) + \n",
    "    geom_text(data=temp_plot %>% filter(n_unique_records==1), \n",
    "              mapping=aes(label=glue(\"{round(freq_rev_cumsum*100, 1)}%\"), y=freq_rev_cumsum*100), \n",
    "              size=2.5, x=log(4), hjust=0) + \n",
    "\n",
    "    geom_segment(data=temp_plot %>% filter(n_unique_records==10), \n",
    "                 mapping=aes(x=log(10), xend=log(20), y=freq_rev_cumsum*100, yend=freq_rev_cumsum*100), \n",
    "                 alpha=0.5, arrow = arrow(length = unit(0.1, \"cm\"), type = \"closed\"), size=0.25) + \n",
    "    geom_text(data=temp_plot %>% filter(n_unique_records==10), \n",
    "              mapping=aes(label=glue(\"{round(freq_rev_cumsum*100, 1)}%\"), y=freq_rev_cumsum*100), \n",
    "              size=2.5, x=log(25), hjust=0) + \n",
    "\n",
    "    scale_x_continuous(expand=c(0, 0), breaks = c(log(1), log(10), log(100)), labels = c(\"1\", \"10\", \"100\")) +\n",
    "    scale_y_continuous(expand=c(0, 0)) +# expand_limits(y=c(0, 5)) + \n",
    "    coord_cartesian(xlim=c(log(1), log(200)), ylim=c(0, 100)) + \n",
    "    facet_grid(~type, labeller=labeller(type=type_map)) +\n",
    "    theme(legend.position=\"none\")"
   ]
  },
  {
   "cell_type": "code",
   "execution_count": null,
   "metadata": {
    "tags": []
   },
   "outputs": [],
   "source": [
    "plot_width=8.25; plot_height=6; plot_res=320\n",
    "options(repr.plot.width=plot_width, repr.plot.height=plot_height, repr.plot.dpi=plot_res)\n",
    "supplfig1bc = rf_plot / (minimum + ratio) + plot_layout(height=c(0.8, 0.20))\n",
    "supplfig1bc "
   ]
  },
  {
   "cell_type": "code",
   "execution_count": null,
   "metadata": {
    "tags": []
   },
   "outputs": [],
   "source": [
    "library(gt)\n",
    "plot_name = \"SupplFigure1bc_recordsmortalityratio\"\n",
    "supplfig1bc %>% ggsave(filename=glue(\"outputs/{plot_name}.pdf\"), device=cairo_pdf, width=plot_width, height=plot_height, dpi=plot_res)"
   ]
  },
  {
   "cell_type": "code",
   "execution_count": null,
   "metadata": {
    "tags": []
   },
   "outputs": [],
   "source": [
    "data_records_freq_binned %>% filter(freq>0)"
   ]
  },
  {
   "cell_type": "code",
   "execution_count": null,
   "metadata": {
    "tags": []
   },
   "outputs": [],
   "source": [
    "library(plotly)\n",
    "rf_plot_plotly = ggplotly(rf_plot)"
   ]
  },
  {
   "cell_type": "code",
   "execution_count": null,
   "metadata": {
    "tags": []
   },
   "outputs": [],
   "source": [
    "htmlwidgets::saveWidget(rf_plot_plotly, \"record_frequencies.html\")"
   ]
  },
  {
   "cell_type": "markdown",
   "metadata": {},
   "source": [
    "### Funnelplot"
   ]
  },
  {
   "cell_type": "code",
   "execution_count": null,
   "metadata": {
    "tags": []
   },
   "outputs": [],
   "source": [
    "temp_funnel = record_freqs %>% rename(d=\"n\") %>% mutate(n=d*event) %>% select(concept_id, concept_name, domain_id, n, d)\n",
    "temp_funnel"
   ]
  },
  {
   "cell_type": "code",
   "execution_count": null,
   "metadata": {
    "tags": []
   },
   "outputs": [],
   "source": [
    "(data_prep %>% summarise(rate = mean(event)))"
   ]
  },
  {
   "cell_type": "code",
   "execution_count": null,
   "metadata": {
    "tags": []
   },
   "outputs": [],
   "source": [
    "funnel_scores <- funscore(input=temp_funnel, \n",
    "                     benchmark=0.0781216415237034, \n",
    "                     alpha=0.80, \n",
    "                     alpha2=0.95, \n",
    "                     method='exact')\n",
    "\n",
    "funnel_limits   <- fundata(input=temp_funnel, \n",
    "                      benchmark=0.0781216415237034, \n",
    "                      alpha=0.80, \n",
    "                      alpha2=0.95, \n",
    "                      method='exact', \n",
    "                      step=1)"
   ]
  },
  {
   "cell_type": "code",
   "execution_count": null,
   "metadata": {
    "tags": []
   },
   "outputs": [],
   "source": [
    "funnel_scores %>% head()"
   ]
  },
  {
   "cell_type": "code",
   "execution_count": null,
   "metadata": {
    "tags": []
   },
   "outputs": [],
   "source": [
    "funnel_scores %>% filter(n<5000)"
   ]
  },
  {
   "cell_type": "code",
   "execution_count": null,
   "metadata": {
    "tags": []
   },
   "outputs": [],
   "source": [
    "funnel_scores %>% filter(n<5000) %>% group_by(score2) %>% tally()"
   ]
  },
  {
   "cell_type": "code",
   "execution_count": null,
   "metadata": {
    "tags": []
   },
   "outputs": [],
   "source": [
    "options(repr.plot.width=10, repr.plot.height=6, repr.plot.res=600)\n",
    "rf_plot = ggplot(funnel_scores, aes(x=d, y=r))+#, color=highlight, alpha=highlight, size=highlight)) + \n",
    "    labs(x=\"Record Frequency\", y=\"Mortality Rate [%]\") + \n",
    "    #scale_alpha_manual(values = c(\"Yes\" = 1, \"No\"=0.2))+\n",
    "    #scale_color_manual(values = c(\"Yes\" = \"red\", \"No\"=\"black\"))+\n",
    "   # scale_size_manual(values = c(\"Yes\" = 1, \"No\"=0.2))+\n",
    "    geom_hline(data=funnel_limits, aes(yintercept=benchmark), colour=\"red\") +\n",
    "    #geom_smooth(data=funnel_limits, aes(x=d, y=up))+\n",
    "    #geom_smooth(data=funnel_limits, aes(x=d, y=lo))+\n",
    "    geom_line(data=funnel_limits, aes(x=d, y=up2), color=\"orange\")+\n",
    "    geom_line(data=funnel_limits, aes(x=d, y=lo2), color=\"orange\")+\n",
    "    scale_x_continuous(trans=\"log10\", expand=c(0, 0))+\n",
    "    coord_cartesian(xlim=c(25, NA))+\n",
    "    #geom_text_repel(box.padding = 0.5, max.overlaps = Inf, size=3, color=\"black\", force=3) +\n",
    "    geom_point(size=0.2, aes(alpha=score2, color=score2)) + \n",
    "    theme(legend.position=\"none\")+\n",
    "    scale_color_manual(values = c(\"Extreme\" = \"black\", \"In Control\"=\"black\"))+\n",
    "    scale_alpha_manual(values = c(\"Extreme\" = 0.5, \"In Control\"=0.1)) #+ \n",
    "    #geom_smooth(method=\"loess\", data=funnel_scores, aes(x=d, y=r), color=\"blue\", linetype=\"22\")\n",
    "    #scale_x_continuous(expand=c(0, 0))\n",
    "rf_plot"
   ]
  },
  {
   "cell_type": "code",
   "execution_count": null,
   "metadata": {
    "tags": []
   },
   "outputs": [],
   "source": [
    "library(funnelR)\n",
    "\n"
   ]
  },
  {
   "cell_type": "code",
   "execution_count": null,
   "metadata": {
    "tags": []
   },
   "outputs": [],
   "source": [
    "my_plot4_mod <- my_plot +\n",
    "                labs(x=\"Physician practice size\", y=\"Proportion (%) of satisfied patients\") +\n",
    "                geom_hline(yintercept=0.40, colour=\"darkred\", linetype=6, size=1) +               \n",
    "                theme_minimal() +\n",
    "                scale_colour_manual(values=c(\"green\",\"darkgreen\")) + \n",
    "                geom_text(aes(label=id), colour=\"black\", size=4, nudge_x=10) \n",
    "                \n",
    "\n",
    "my_plot4_mod"
   ]
  },
  {
   "cell_type": "code",
   "execution_count": null,
   "metadata": {},
   "outputs": [],
   "source": [
    "library(funnelR)\n",
    "\n",
    "my_limits   <- fundata(input=temp_funnel, \n",
    "                      benchmark=0.0781216415237034, \n",
    "                      alpha=0.80, \n",
    "                      alpha2=0.95, \n",
    "                      method='exact', \n",
    "                      step=1)\n",
    "\n",
    "my_plot     <- funplot(input=temp_funnel,\n",
    "                       \n",
    "                       fundata=my_limits)\n",
    "\n",
    "my_plot"
   ]
  },
  {
   "cell_type": "markdown",
   "metadata": {},
   "source": [
    "# Hazard Ratios"
   ]
  },
  {
   "cell_type": "code",
   "execution_count": null,
   "metadata": {
    "tags": []
   },
   "outputs": [],
   "source": []
  },
  {
   "cell_type": "code",
   "execution_count": null,
   "metadata": {
    "tags": []
   },
   "outputs": [],
   "source": [
    "data_prep %>% head()"
   ]
  },
  {
   "cell_type": "code",
   "execution_count": null,
   "metadata": {
    "tags": []
   },
   "outputs": [],
   "source": [
    "library(foreach)\n",
    "library(doParallel)\n",
    "registerDoParallel(cores=20)"
   ]
  },
  {
   "cell_type": "code",
   "execution_count": null,
   "metadata": {},
   "outputs": [],
   "source": [
    "r = \"OMOP_4081598\""
   ]
  },
  {
   "cell_type": "code",
   "execution_count": null,
   "metadata": {
    "tags": []
   },
   "outputs": [],
   "source": [
    "data_temp = arrow::read_feather(\"/sc-projects/sc-proj-ukb-cvd/data/2_datasets_pre/211110_anewbeginning/data_prep_recordfrequencies_220412.feather\",\n",
    "                                   col_select=c(eid, age_at_recruitment_f21022_0_0, sex_f31_0_0, !!r, event, time)) "
   ]
  },
  {
   "cell_type": "code",
   "execution_count": null,
   "metadata": {
    "tags": []
   },
   "outputs": [],
   "source": [
    "str(data_temp)"
   ]
  },
  {
   "cell_type": "code",
   "execution_count": null,
   "metadata": {
    "tags": []
   },
   "outputs": [],
   "source": [
    "library(\"survival\")\n",
    "fit_cox = function(r){\n",
    "    data_temp = arrow::read_feather(\"/sc-projects/sc-proj-ukb-cvd/data/2_datasets_pre/211110_anewbeginning/data_prep_recordfrequencies_220412.feather\",\n",
    "                                   col_select=c(eid, age_at_recruitment_f21022_0_0, sex_f31_0_0, !!r, event, time)) \n",
    "    f = as.formula(glue(\"Surv(time, event) ~ age_at_recruitment_f21022_0_0+sex_f31_0_0+{r}\"))\n",
    "    cox <- coxph(f, data = data_temp)\n",
    "    rm(data_temp)\n",
    "    return (cox)\n",
    "}"
   ]
  },
  {
   "cell_type": "code",
   "execution_count": null,
   "metadata": {
    "tags": []
   },
   "outputs": [],
   "source": [
    "library(broom)\n",
    "\n",
    "coxsummaries = list()\n",
    "coxcoefs = list()\n",
    "record_list = record_ids\n",
    "for (r in record_list){\n",
    "    cox = fit_cox(r)\n",
    "    coxsummaries[[r]] = glance(cox) %>% mutate(record=r) \n",
    "    coxcoefs[[r]] = tidy(cox) %>% mutate(record=r)\n",
    "}"
   ]
  },
  {
   "cell_type": "code",
   "execution_count": null,
   "metadata": {
    "tags": []
   },
   "outputs": [],
   "source": [
    "coxsummaries = bind_rows(coxsummaries) %>% select(record, everything()) \n",
    "coxsummaries %>% write_feather(\"rf_coxsummaries_220413.feather\")"
   ]
  },
  {
   "cell_type": "code",
   "execution_count": null,
   "metadata": {
    "tags": []
   },
   "outputs": [],
   "source": [
    "coxcoefs = bind_rows(coxcoefs) %>% select(record, everything()) \n",
    "coxcoefs %>% write_feather(\"rf_coxcoefs_220413.feather\")"
   ]
  },
  {
   "cell_type": "code",
   "execution_count": null,
   "metadata": {
    "tags": []
   },
   "outputs": [],
   "source": [
    "temp_coxcoefs = coxcoefs %>% filter(str_detect(term, \"OMOP\")) "
   ]
  },
  {
   "cell_type": "code",
   "execution_count": null,
   "metadata": {
    "tags": []
   },
   "outputs": [],
   "source": [
    "temp_hr = temp_coxcoefs %>% mutate(HR = exp(estimate)) %>% left_join(record_frequencies)"
   ]
  },
  {
   "cell_type": "code",
   "execution_count": null,
   "metadata": {
    "tags": []
   },
   "outputs": [],
   "source": [
    "temp_hr"
   ]
  },
  {
   "cell_type": "code",
   "execution_count": null,
   "metadata": {
    "tags": []
   },
   "outputs": [],
   "source": [
    "options(repr.plot.width=10, repr.plot.height=6, repr.plot.res=600)\n",
    "hr_plot = ggplot(temp_hr %>% filter(domain_id %in% c(\"Condition\", \"Drug\", \"Procedure\")), aes(id=concept_id, name=concept_name, domain=domain_id, x=n/502460, y=HR)) + \n",
    "    labs(x=\"Record Frequency\", y=\"Adj. HR [%]\") + \n",
    "    #scale_alpha_manual(values = c(\"Yes\" = 1, \"No\"=0.2))+\n",
    "    #scale_color_manual(values = c(\"Yes\" = \"red\", \"No\"=\"black\"))+\n",
    "    #scale_size_manual(values = c(\"Yes\" = 1, \"No\"=0.2))+\n",
    "    #scale_y_log10(expand=c(0, 0))+\n",
    "    scale_x_log10(expand=c(0, 0))+\n",
    "    #geom_text_repel(box.padding = 0.5, max.overlaps = Inf, size=3, color=\"black\", force=3) +\n",
    "    geom_point(size=0.2) + \n",
    "    theme(legend.position=\"none\")#+\n",
    "    #scale_x_continuous(expand=c(0, 0))\n",
    "hr_plot#+ annotation_logticks()"
   ]
  },
  {
   "cell_type": "code",
   "execution_count": null,
   "metadata": {
    "tags": []
   },
   "outputs": [],
   "source": [
    "options(repr.plot.width=10, repr.plot.height=6, repr.plot.res=600)\n",
    "hr_plot = ggplot(temp_hr %>% filter(domain_id %in% c(\"Condition\", \"Drug\", \"Procedure\")), aes(id=concept_id, name=concept_name, domain=domain_id, x=n/502460, y=HR)) + \n",
    "    labs(x=\"Record Frequency\", y=\"Adj. Hazard Ratio for Record\") + \n",
    "    #scale_alpha_manual(values = c(\"Yes\" = 1, \"No\"=0.2))+\n",
    "    #scale_color_manual(values = c(\"Yes\" = \"red\", \"No\"=\"black\"))+\n",
    "    #scale_size_manual(values = c(\"Yes\" = 1, \"No\"=0.2))+\n",
    "    scale_x_log10(expand=c(0, 0))+\n",
    "    #scale_x_log10(expand=c(0, 0))+\n",
    "    #geom_text_repel(box.padding = 0.5, max.overlaps = Inf, size=3, color=\"black\", force=3) +\n",
    "    geom_point(size=0.2, alpha=0.1) + \n",
    "    geom_hline(yintercept=1, linetype=\"22\", color=\"red\") +\n",
    "    theme(legend.position=\"none\")#+\n",
    "    #scale_x_continuous(expand=c(0, 0))\n",
    "hr_plot#+ annotation_logticks()"
   ]
  },
  {
   "cell_type": "code",
   "execution_count": null,
   "metadata": {
    "tags": []
   },
   "outputs": [],
   "source": [
    "exp(rnorm(100, mean=0, sd=1))"
   ]
  },
  {
   "cell_type": "code",
   "execution_count": null,
   "metadata": {
    "tags": []
   },
   "outputs": [],
   "source": [
    "temp_hr %>% select(record, estimate, HR, n, concept_name, domain_id) %>% arrange(desc(HR)) %>% filter(domain_id %in% c(\"Condition\", \"Drug\", \"Procedure\"))"
   ]
  },
  {
   "cell_type": "code",
   "execution_count": null,
   "metadata": {
    "tags": []
   },
   "outputs": [],
   "source": [
    "temp_hr"
   ]
  },
  {
   "cell_type": "code",
   "execution_count": null,
   "metadata": {
    "tags": []
   },
   "outputs": [],
   "source": [
    "library(\"metafor\")"
   ]
  },
  {
   "cell_type": "code",
   "execution_count": null,
   "metadata": {
    "tags": []
   },
   "outputs": [],
   "source": [
    "funnel(x=temp_hr$estimate, sei=temp_hr[[\"std.error\"]], ni=temp_hr$n, yaxis=\"sei\", size=0.1)"
   ]
  },
  {
   "cell_type": "code",
   "execution_count": null,
   "metadata": {
    "tags": []
   },
   "outputs": [],
   "source": [
    "temp_funnel = temp_hr %>% mutate(n=HR, d=n)\n",
    "temp_funnel"
   ]
  },
  {
   "cell_type": "code",
   "execution_count": null,
   "metadata": {
    "tags": []
   },
   "outputs": [],
   "source": [
    "library(funnelR)\n",
    "\n",
    "\n",
    "my_limits   <- fundata(input=temp_funnel, \n",
    "                      benchmark=1, \n",
    "                      alpha=0.80, \n",
    "                      alpha2=0.95, \n",
    "                      method='exact', \n",
    "                      step=1)\n",
    "\n",
    "my_limits "
   ]
  },
  {
   "cell_type": "code",
   "execution_count": null,
   "metadata": {},
   "outputs": [],
   "source": [
    "my_plot     <- funplot(input=temp_funnel, \n",
    "                       fundata=temp_funnel)\n",
    "\n",
    "my_plot"
   ]
  },
  {
   "cell_type": "code",
   "execution_count": null,
   "metadata": {
    "tags": []
   },
   "outputs": [],
   "source": [
    "record_frequency"
   ]
  },
  {
   "cell_type": "code",
   "execution_count": null,
   "metadata": {
    "tags": []
   },
   "outputs": [],
   "source": [
    "library(broom)"
   ]
  },
  {
   "cell_type": "code",
   "execution_count": null,
   "metadata": {},
   "outputs": [],
   "source": [
    "glance(cox)"
   ]
  },
  {
   "cell_type": "code",
   "execution_count": null,
   "metadata": {},
   "outputs": [],
   "source": [
    "tidy(cox)"
   ]
  },
  {
   "cell_type": "code",
   "execution_count": null,
   "metadata": {
    "tags": []
   },
   "outputs": [],
   "source": [
    "res.cox"
   ]
  },
  {
   "cell_type": "code",
   "execution_count": null,
   "metadata": {},
   "outputs": [],
   "source": [
    "data_prep %>% select(eid, age_at_recruitment_f21022_0_0, sex_f31_0_0, OMOP_1000560, event)"
   ]
  },
  {
   "cell_type": "code",
   "execution_count": null,
   "metadata": {
    "tags": []
   },
   "outputs": [],
   "source": [
    "record_freqs %>% filter(n>20, event>0.5) %>% arrange(desc(event)) %>% filter(domain_id==\"Condition\")"
   ]
  },
  {
   "cell_type": "code",
   "execution_count": null,
   "metadata": {},
   "outputs": [],
   "source": [
    "mi_data = data_outcomes %>% filter(endpoint==\"phecode_404\") \n",
    "data_records_mi = data_records %>% left_join(mi_data, on=\"eid\") %>% filter(prevalent == 0) %>% select(-endpoint, -prevalent, -time)"
   ]
  },
  {
   "cell_type": "code",
   "execution_count": null,
   "metadata": {},
   "outputs": [],
   "source": [
    "data_records_mi"
   ]
  },
  {
   "cell_type": "code",
   "execution_count": null,
   "metadata": {},
   "outputs": [],
   "source": [
    "dfs = list()\n",
    "i=1\n",
    "for (subset in record_ids_subsets){\n",
    "    print(i)\n",
    "    temp_freq = data_records_mi %>% \n",
    "        select(eid, all_of(subset), event) %>% \n",
    "        pivot_longer(starts_with(\"OMOP_\"), names_to=\"concept_id\", values_to=\"record\") %>% \n",
    "        filter(record==1) %>% group_by(concept_id) %>% summarise(n=n(), event=mean(event))\n",
    "    dfs[[i]] = temp_freq\n",
    "    i = i+1\n",
    "    flush.console()\n",
    "    }"
   ]
  },
  {
   "cell_type": "code",
   "execution_count": null,
   "metadata": {},
   "outputs": [],
   "source": [
    "record_freqs = bind_rows(dfs) %>% mutate(concept_id = str_remove_all(concept_id, \"OMOP_\")) %>% left_join(concept %>% mutate(concept_id = as.character(concept_id)), on=\"concept_id\")"
   ]
  },
  {
   "cell_type": "code",
   "execution_count": null,
   "metadata": {},
   "outputs": [],
   "source": [
    "base_size = 8\n",
    "title_size = 10\n",
    "facet_size = 10\n",
    "geom_text_size=3\n",
    "theme_set(theme_classic(base_size = base_size) + \n",
    "          theme(strip.background = element_blank(), plot.title=element_text(size=title_size, hjust=0), \n",
    "                strip.text.x = element_text(size = facet_size),axis.title=element_text(size=10), axis.text=element_text(size=8, color=\"black\"),\n",
    "                legend.position=\"bottom\", axis.line = element_line(size = 0.2), axis.ticks=element_line(size=0.2), panel.grid.major = element_line()))"
   ]
  },
  {
   "cell_type": "code",
   "execution_count": null,
   "metadata": {},
   "outputs": [],
   "source": [
    "record_freqs = record_freqs %>% mutate(highlight = factor(case_when(str_detect(concept_name, \"simvastatin|Type 2 diabetes mellitus|smok|aspirin|Essential hypertension\") ~\"Yes\", TRUE ~\"No\"))) %>% mutate(freq = n/nrow(data_records)) #%>% filter(highlight==1)"
   ]
  },
  {
   "cell_type": "code",
   "execution_count": null,
   "metadata": {},
   "outputs": [],
   "source": [
    "record_freqs %>% filter(highlight==\"Yes\")"
   ]
  },
  {
   "cell_type": "code",
   "execution_count": null,
   "metadata": {},
   "outputs": [],
   "source": [
    "options(repr.plot.width=10, repr.plot.height=5, repr.plot.res=320)\n",
    "ggplot(record_freqs, aes(x=freq, y=event, color=highlight, alpha=highlight, size=highlight)) + \n",
    "    scale_alpha_manual(values = c(\"Yes\" = 1, \"No\"=0.1))+\n",
    "    scale_color_manual(values = c(\"Yes\" = \"red\", \"No\"=\"black\"))+\n",
    "    scale_size_manual(values = c(\"Yes\" = 1, \"No\"=0.1))+\n",
    "    geom_point()+\n",
    "    scale_x_continuous(expand=c(0, 0))"
   ]
  },
  {
   "cell_type": "code",
   "execution_count": null,
   "metadata": {},
   "outputs": [],
   "source": [
    "Acute myocardial infarction"
   ]
  },
  {
   "cell_type": "code",
   "execution_count": null,
   "metadata": {},
   "outputs": [],
   "source": [
    "record_freqs "
   ]
  },
  {
   "cell_type": "code",
   "execution_count": null,
   "metadata": {},
   "outputs": [],
   "source": [
    "data_records_death_long_subset"
   ]
  },
  {
   "cell_type": "code",
   "execution_count": null,
   "metadata": {},
   "outputs": [],
   "source": [
    "library(svMisc)"
   ]
  },
  {
   "cell_type": "code",
   "execution_count": null,
   "metadata": {},
   "outputs": [],
   "source": [
    "endpoint_label = record_ids[1]"
   ]
  },
  {
   "cell_type": "code",
   "execution_count": null,
   "metadata": {},
   "outputs": [],
   "source": [
    "endpoint_label"
   ]
  },
  {
   "cell_type": "code",
   "execution_count": null,
   "metadata": {},
   "outputs": [],
   "source": [
    "record_baselines = tibble(concept_id=NA, n = NA, death = NA)\n",
    "\n",
    "for (i in 1:length(record_ids)){\n",
    "    progress(i)\n",
    "    endpoint_label = record_ids[i]\n",
    "    temp_record = (data_records_death %>% filter(!!sym(endpoint_label)==1))\n",
    "    record_baselines %>% add_row(concept_id = id, n=nrow(temp_record), death = mean(temp_record$event))\n",
    "    flush.console()   \n",
    "    }"
   ]
  },
  {
   "cell_type": "code",
   "execution_count": null,
   "metadata": {},
   "outputs": [],
   "source": [
    "record_baselines"
   ]
  },
  {
   "cell_type": "code",
   "execution_count": null,
   "metadata": {},
   "outputs": [],
   "source": [
    "mean((data_records_death %>% filter(OMOP_1000772==1))&event)"
   ]
  },
  {
   "cell_type": "code",
   "execution_count": null,
   "metadata": {},
   "outputs": [],
   "source": [
    "temp_record = (data_records_death %>% filter(OMOP_1000772==1))"
   ]
  },
  {
   "cell_type": "code",
   "execution_count": null,
   "metadata": {},
   "outputs": [],
   "source": [
    "n_record = nrow(temp_record)"
   ]
  },
  {
   "cell_type": "code",
   "execution_count": null,
   "metadata": {},
   "outputs": [],
   "source": []
  },
  {
   "cell_type": "code",
   "execution_count": null,
   "metadata": {},
   "outputs": [],
   "source": [
    "nrow(data_records_death)*ncol(data_records_death)"
   ]
  },
  {
   "cell_type": "code",
   "execution_count": null,
   "metadata": {},
   "outputs": [],
   "source": []
  },
  {
   "cell_type": "code",
   "execution_count": null,
   "metadata": {},
   "outputs": [],
   "source": [
    "data_records_death %>% select(starts_with(\"OMOP_\")) "
   ]
  },
  {
   "cell_type": "code",
   "execution_count": null,
   "metadata": {},
   "outputs": [],
   "source": [
    "ggplot(temp, aes()"
   ]
  },
  {
   "cell_type": "code",
   "execution_count": null,
   "metadata": {},
   "outputs": [],
   "source": []
  },
  {
   "cell_type": "code",
   "execution_count": null,
   "metadata": {},
   "outputs": [],
   "source": []
  },
  {
   "cell_type": "raw",
   "metadata": {},
   "source": [
    "partitions = 0:5\n",
    "\n",
    "pred_list = list()\n",
    "for (p in partitions){\n",
    "    pred_list[p] = append(pred_list, arrow::read_feather(glue(\"{output_path}/predictions/predictions_partition{p}_220223.feather\"), as_data_frame=TRUE) %>% select(-split))\n",
    "    }"
   ]
  },
  {
   "cell_type": "code",
   "execution_count": null,
   "metadata": {},
   "outputs": [],
   "source": [
    "model = \"GNN(Records)+MLP\""
   ]
  },
  {
   "cell_type": "code",
   "execution_count": null,
   "metadata": {},
   "outputs": [],
   "source": [
    "p0 = arrow::read_feather(glue(\"{output_path}/predictions/predictions_partition0_220223.feather\"), as_data_frame=TRUE) %>% select(-split) %>% filter(model==!!model) \n",
    "p1 = arrow::read_feather(glue(\"{output_path}/predictions/predictions_partition1_220223.feather\"), as_data_frame=TRUE) %>% select(-split) %>% filter(model==!!model) \n",
    "p2 = arrow::read_feather(glue(\"{output_path}/predictions/predictions_partition2_220223.feather\"), as_data_frame=TRUE) %>% select(-split) %>% filter(model==!!model) \n",
    "p3 = arrow::read_feather(glue(\"{output_path}/predictions/predictions_partition3_220223.feather\"), as_data_frame=TRUE) %>% select(-split) %>% filter(model==!!model) \n",
    "p4 = arrow::read_feather(glue(\"{output_path}/predictions/predictions_partition4_220223.feather\"), as_data_frame=TRUE) %>% select(-split) %>% filter(model==!!model) \n",
    "p5 = arrow::read_feather(glue(\"{output_path}/predictions/predictions_partition5_220223.feather\"), as_data_frame=TRUE) %>% select(-split) %>% filter(model==!!model) \n",
    "p6 = arrow::read_feather(glue(\"{output_path}/predictions/predictions_partition6_220223.feather\"), as_data_frame=TRUE) %>% select(-split) %>% filter(model==!!model) \n",
    "p7 = arrow::read_feather(glue(\"{output_path}/predictions/predictions_partition7_220223.feather\"), as_data_frame=TRUE) %>% select(-split) %>% filter(model==!!model) \n",
    "p8 = arrow::read_feather(glue(\"{output_path}/predictions/predictions_partition8_220223.feather\"), as_data_frame=TRUE) %>% select(-split) %>% filter(model==!!model) \n",
    "p9 = arrow::read_feather(glue(\"{output_path}/predictions/predictions_partition9_220223.feather\"), as_data_frame=TRUE) %>% select(-split) %>% filter(model==!!model) \n",
    "p10 = arrow::read_feather(glue(\"{output_path}/predictions/predictions_partition10_220223.feather\"), as_data_frame=TRUE) %>% select(-split) %>% filter(model==!!model) \n",
    "p11 = arrow::read_feather(glue(\"{output_path}/predictions/predictions_partition11_220223.feather\"), as_data_frame=TRUE) %>% select(-split) %>% filter(model==!!model) \n",
    "p12 = arrow::read_feather(glue(\"{output_path}/predictions/predictions_partition12_220223.feather\"), as_data_frame=TRUE) %>% select(-split) %>% filter(model==!!model) \n",
    "p13 = arrow::read_feather(glue(\"{output_path}/predictions/predictions_partition13_220223.feather\"), as_data_frame=TRUE) %>% select(-split) %>% filter(model==!!model) \n",
    "p14 = arrow::read_feather(glue(\"{output_path}/predictions/predictions_partition14_220223.feather\"), as_data_frame=TRUE) %>% select(-split) %>% filter(model==!!model) \n",
    "p15 = arrow::read_feather(glue(\"{output_path}/predictions/predictions_partition15_220223.feather\"), as_data_frame=TRUE) %>% select(-split) %>% filter(model==!!model) \n",
    "p16 = arrow::read_feather(glue(\"{output_path}/predictions/predictions_partition16_220223.feather\"), as_data_frame=TRUE) %>% select(-split) %>% filter(model==!!model) \n",
    "p17 = arrow::read_feather(glue(\"{output_path}/predictions/predictions_partition17_220223.feather\"), as_data_frame=TRUE) %>% select(-split) %>% filter(model==!!model) \n",
    "p18 = arrow::read_feather(glue(\"{output_path}/predictions/predictions_partition18_220223.feather\"), as_data_frame=TRUE) %>% select(-split) %>% filter(model==!!model) \n",
    "p19 = arrow::read_feather(glue(\"{output_path}/predictions/predictions_partition19_220223.feather\"), as_data_frame=TRUE) %>% select(-split) %>% filter(model==!!model) \n",
    "p20 = arrow::read_feather(glue(\"{output_path}/predictions/predictions_partition20_220223.feather\"), as_data_frame=TRUE) %>% select(-split) %>% filter(model==!!model) \n",
    "p21 = arrow::read_feather(glue(\"{output_path}/predictions/predictions_partition21_220223.feather\"), as_data_frame=TRUE) %>% select(-split) %>% filter(model==!!model) "
   ]
  },
  {
   "cell_type": "code",
   "execution_count": null,
   "metadata": {},
   "outputs": [],
   "source": [
    "predictions = lazy_dt(bind_rows(p0, p1, p2, p3, p4, p5, p6, p7, p8, p9, p10, p11, p12, p13, p14)) "
   ]
  },
  {
   "cell_type": "code",
   "execution_count": null,
   "metadata": {},
   "outputs": [],
   "source": [
    "base_size = 8\n",
    "title_size = 10\n",
    "facet_size = 10\n",
    "geom_text_size=3\n",
    "theme_set(theme_classic(base_size = base_size) + \n",
    "          theme(strip.background = element_blank(), plot.title=element_text(size=title_size, hjust=0), \n",
    "                strip.text.x = element_text(size = facet_size),axis.title=element_text(size=10), axis.text=element_text(size=8, color=\"black\"),\n",
    "                legend.position=\"bottom\", axis.line = element_line(size = 0.2), axis.ticks=element_line(size=0.2)))"
   ]
  },
  {
   "cell_type": "code",
   "execution_count": null,
   "metadata": {
    "ExecuteTime": {
     "end_time": "2021-01-05T11:03:23.526022Z",
     "start_time": "2021-01-05T11:03:20.042Z"
    }
   },
   "outputs": [],
   "source": [
    "colors_dict = read_json(\"colors.json\")\n",
    "color_map <- c(\n",
    "    \"Identity(AgeSex)+MLP\" = colors_dict$pastel$red$mid,\n",
    "    \"Identity(Records)+MLP\" = colors_dict$pastel$red$mid,\n",
    "    \"GNN(Records)+MLP\" = colors_dict$pastel$red$mid,\n",
    "    \"Identity(AgeSex+Records)+MLP\" = colors_dict$pastel$red$mid,\n",
    "    \"GNN(AgeSex+Records)+MLP\" = colors_dict$pastel$red$mid\n",
    ")"
   ]
  },
  {
   "cell_type": "code",
   "execution_count": null,
   "metadata": {},
   "outputs": [],
   "source": []
  },
  {
   "cell_type": "code",
   "execution_count": null,
   "metadata": {},
   "outputs": [],
   "source": [
    "outcome_freq = data_outcomes %>% filter(prevalent==0) %>% group_by(endpoint) %>% summarize(freq = sum(event)/n()) %>% as_tibble()\n",
    "outcome_freq %>% arrange(desc(freq))"
   ]
  },
  {
   "cell_type": "code",
   "execution_count": null,
   "metadata": {},
   "outputs": [],
   "source": [
    "endpoint_map = phecode_defs$phecode_string\n",
    "names(endpoint_map) =  phecode_defs$endpoint\n",
    "endpoint_order_freq = (outcome_freq %>% arrange(desc(freq)))$endpoint"
   ]
  },
  {
   "cell_type": "markdown",
   "metadata": {},
   "source": [
    "## Load data"
   ]
  },
  {
   "cell_type": "code",
   "execution_count": null,
   "metadata": {
    "ExecuteTime": {
     "end_time": "2021-01-05T11:03:12.470354Z",
     "start_time": "2021-01-05T11:03:11.387Z"
    }
   },
   "outputs": [],
   "source": [
    "list.dirs(path = project_path, full.names = TRUE, recursive = TRUE)"
   ]
  },
  {
   "cell_type": "markdown",
   "metadata": {},
   "source": [
    "# Figure 2: Selected Endpoints"
   ]
  },
  {
   "cell_type": "markdown",
   "metadata": {},
   "source": [
    "## Metabolic state and incident disease"
   ]
  },
  {
   "cell_type": "code",
   "execution_count": null,
   "metadata": {},
   "outputs": [],
   "source": [
    "pred_outcomes = predictions %>% left_join(data_outcomes, on=c(eid, endpoint)) %>% as.data.table() "
   ]
  },
  {
   "cell_type": "code",
   "execution_count": null,
   "metadata": {},
   "outputs": [],
   "source": [
    "logh_inc = pred_outcomes %>% filter(prevalent==0) %>% group_by(endpoint, model) %>% mutate(logh_perc = ntile(logh, 100)) %>% ungroup() %>% as_tibble()"
   ]
  },
  {
   "cell_type": "markdown",
   "metadata": {},
   "source": [
    "## No buffer"
   ]
  },
  {
   "cell_type": "code",
   "execution_count": null,
   "metadata": {},
   "outputs": [],
   "source": [
    "logh_T_agg = logh_inc %>% group_by(endpoint, model, logh_perc) %>% summarise(ratio = mean(event)) %>% as_tibble()"
   ]
  },
  {
   "cell_type": "code",
   "execution_count": null,
   "metadata": {},
   "outputs": [],
   "source": [
    "logh_T_agg %>% write_feather(glue(\"{output_path}/logh_agg_220224.feather\"))"
   ]
  },
  {
   "cell_type": "code",
   "execution_count": null,
   "metadata": {},
   "outputs": [],
   "source": [
    "plot_width = 50; plot_height=75; plot_res = 320\n",
    "options(repr.plot.width = plot_width, repr.plot.height = plot_height, repr.plot.res=plot_res)\n",
    "#temp_rank = event_rest %>% filter(features==\"Metabolomics\") %>% arrange(desc(MET10PercvsREST))\n",
    "endpoint_order = (phecode_defs %>% mutate(phecode_rank = as.numeric(phecode)) %>% arrange(phecode_rank) %>% as_tibble())$endpoint\n",
    "endpoint_selection = endpoint_order# %>% head(500)\n",
    "temp = logh_T_agg %>% filter(model==\"GNN(Records)+MLP\") %>% mutate(endpoint = factor(endpoint, levels=endpoint_order)) %>% filter(endpoint %in% endpoint_selection) %>% ungroup() #%>% sample_n(10000)\n",
    "\n",
    "mh_events = ggplot(temp, aes(x=logh_perc, y=ratio*100, color=logh_perc)) + \n",
    "    labs(title=NULL, x=\"Medical History Percentile [%]\", y=\"Observed Event Rate [%]\") +\n",
    "    geom_point(alpha=0.7, size=0.1) + \n",
    "    scale_colour_gradient(\n",
    "  low = \"#7AC6FF\",\n",
    "  high = \"#023768\",\n",
    "  space = \"Lab\",\n",
    "  na.value = \"grey50\",\n",
    "  guide = \"colourbar\",\n",
    "  aesthetics = \"colour\"\n",
    ")+\n",
    "    #scale_color_manual(values=c(\"Metabolomics\"=\"black\"))+\n",
    "    scale_y_continuous(limits=c(0, NA), expand=expansion(mult=c(0, .05)))+#, limits=c(0, NA))+\n",
    "    scale_x_continuous(expand=expansion(add=c(0, 1)))+\n",
    "    facet_wrap(~endpoint, scale=\"free\", labeller = labeller(endpoint = endpoint_map), ncol=25) + theme(legend.position=\"none\")"
   ]
  },
  {
   "cell_type": "code",
   "execution_count": null,
   "metadata": {},
   "outputs": [],
   "source": [
    "plot_name = \"MedicalHistoryRisk\"\n",
    "mh_events %>% ggsave(filename=glue(\"outputs/{plot_name}.pdf\"), device=\"pdf\", width=plot_width, height=plot_height, dpi=plot_res, limitsize=FALSE)"
   ]
  },
  {
   "cell_type": "code",
   "execution_count": null,
   "metadata": {},
   "outputs": [],
   "source": [
    "plot_name = \"MedicalHistoryRisk\"\n",
    "mh_events %>% ggsave(filename=glue(\"outputs/{plot_name}.png\"), device=\"png\", width=plot_width, height=plot_height, dpi=plot_res, limitsize=FALSE)"
   ]
  },
  {
   "cell_type": "markdown",
   "metadata": {},
   "source": [
    "## Add buffer"
   ]
  },
  {
   "cell_type": "code",
   "execution_count": null,
   "metadata": {},
   "outputs": [],
   "source": [
    "pred_outcomes %>% head()"
   ]
  },
  {
   "cell_type": "code",
   "execution_count": null,
   "metadata": {},
   "outputs": [],
   "source": [
    "logh_T_agg_buffer = pred_outcomes %>% filter(prevalent==0) %>% mutate(event_buffer = case_when((event!=0&time<1) ~ 0, TRUE ~ event)) %>% group_by(endpoint, model) %>% mutate(logh_perc = ntile(logh, 100)) %>% group_by(endpoint, model, logh_perc) %>% summarise(ratio = mean(event_buffer)) %>% as_tibble()"
   ]
  },
  {
   "cell_type": "code",
   "execution_count": null,
   "metadata": {},
   "outputs": [],
   "source": [
    "logh_T_agg_buffer %>% write_feather(glue(\"{output_path}/logh_agg_1ybuffer_220224.feather\"))"
   ]
  },
  {
   "cell_type": "code",
   "execution_count": null,
   "metadata": {},
   "outputs": [],
   "source": [
    "plot_width = 50; plot_height=75; plot_res = 320\n",
    "options(repr.plot.width = plot_width, repr.plot.height = plot_height, repr.plot.res=plot_res)\n",
    "#temp_rank = event_rest %>% filter(features==\"Metabolomics\") %>% arrange(desc(MET10PercvsREST))\n",
    "endpoint_order = (phecode_defs %>% mutate(phecode_rank = as.numeric(phecode)) %>% arrange(phecode_rank) %>% as_tibble())$endpoint\n",
    "endpoint_selection = endpoint_order# %>% head(500)\n",
    "temp = logh_T_agg_buffer %>% filter(model==\"GNN(Records)+MLP\") %>% mutate(endpoint = factor(endpoint, levels=endpoint_order)) %>% filter(endpoint %in% endpoint_selection) %>% ungroup() #%>% sample_n(10000)\n",
    "\n",
    "mh_events = ggplot(temp, aes(x=logh_perc, y=ratio*100, color=logh_perc)) + \n",
    "    labs(title=NULL, x=\"Medical History Percentile [%]\", y=\"Observed Event Rate [%]\") +\n",
    "    geom_point(alpha=0.7, size=0.1) + \n",
    "    scale_colour_gradient(\n",
    "  low = \"#7AC6FF\",\n",
    "  high = \"#023768\",\n",
    "  space = \"Lab\",\n",
    "  na.value = \"grey50\",\n",
    "  guide = \"colourbar\",\n",
    "  aesthetics = \"colour\"\n",
    ")+\n",
    "    #scale_color_manual(values=c(\"Metabolomics\"=\"black\"))+\n",
    "    scale_y_continuous(limits=c(0, NA), expand=expansion(mult=c(0, .05)))+#, limits=c(0, NA))+\n",
    "    scale_x_continuous(expand=expansion(add=c(0, 1)))+\n",
    "    facet_wrap(~endpoint, scale=\"free\", labeller = labeller(endpoint = endpoint_map), ncol=25) + theme(legend.position=\"none\")"
   ]
  },
  {
   "cell_type": "code",
   "execution_count": null,
   "metadata": {},
   "outputs": [],
   "source": [
    "plot_name = \"MedicalHistoryRisk_1ybuffer\"\n",
    "mh_events %>% ggsave(filename=glue(\"outputs/{plot_name}.png\"), device=\"png\", width=plot_width, height=plot_height, dpi=plot_res, limitsize=FALSE)"
   ]
  },
  {
   "cell_type": "markdown",
   "metadata": {
    "tags": []
   },
   "source": [
    "## Metabolomic State and Event Trajectories"
   ]
  },
  {
   "cell_type": "code",
   "execution_count": null,
   "metadata": {},
   "outputs": [],
   "source": []
  },
  {
   "cell_type": "code",
   "execution_count": null,
   "metadata": {},
   "outputs": [],
   "source": [
    "logh_mh = logh_inc %>% select(endpoint, model, eid, logh_perc, event, time) %>% group_by(endpoint) %>% \n",
    "    mutate(MH=case_when(logh_perc %in% 91:100 ~ \"High\", \n",
    "                        logh_perc %in% 45:55 ~ \"Mid\", \n",
    "                        logh_perc %in% 1:10 ~ \"Low\",\n",
    "                        TRUE ~ \"NA\")\n",
    "          ) %>% mutate(MET = fct_rev(factor(MET, levels=c(\"Low\", \"Mid\", \"High\")))) %>% ungroup() %>% \n",
    "    filter(MH!=\"NA\") #%>% select(eid, endpoint, logh, logh_group)"
   ]
  },
  {
   "cell_type": "code",
   "execution_count": null,
   "metadata": {},
   "outputs": [],
   "source": [
    "require(\"ggquickeda\")\n",
    "plot_width = 50; plot_height=75; plot_res = 320\n",
    "options(repr.plot.width = plot_width, repr.plot.height = plot_height, repr.plot.res=plot_res)\n",
    "met_map = c(\"High\"=\"#023768\", \"Mid\"=\"#4F8EC1\", \"Low\"=\"#7AC6FF\")\n",
    "\n",
    "endpoint_order = (phecode_defs %>% mutate(phecode_rank = as.numeric(phecode)) %>% arrange(phecode_rank) %>% as_tibble())$endpoint\n",
    "endpoint_selection = endpoint_order# %>% head(500)\n",
    "temp = logh_mh %>% mutate(endpoint = factor(endpoint, levels=endpoint_order)) %>% filter(endpoint %in% endpoint_selection) %>% ungroup() \n",
    "\n",
    "km_plot = ggplot(temp, aes(time = time, status = event, fill=MET, color=MET,group=MET)) +\n",
    "    geom_km(trans = \"event\") + \n",
    "    geom_kmticks(trans = \"event\", size=0.3) + geom_kmband(trans = \"event\") + \n",
    "    labs(x=\"Time [Years]\", y=\"Cumulative Events [%]\")+\n",
    "    scale_color_manual(values=met_map)+scale_fill_manual(values=met_map)+\n",
    "    scale_y_continuous(labels = function(x) round(x*100, 1), expand=c(0, 0))+\n",
    "    scale_x_continuous(expand=expansion(add=c(0, .1)), breaks=c(5, 10))+\n",
    "    facet_wrap(~ endpoint, scale=\"free\", labeller = labeller(endpoint = endpoint_map), ncol=25) + theme(legend.position=\"none\")"
   ]
  },
  {
   "cell_type": "code",
   "execution_count": null,
   "metadata": {},
   "outputs": [],
   "source": [
    "plot_name = \"MedicalHistory_KMs\"\n",
    "km_plot %>% ggsave(filename=glue(\"outputs/{plot_name}.png\"), device=\"png\", width=plot_width, height=plot_height, dpi=plot_res, limitsize=FALSE)"
   ]
  },
  {
   "cell_type": "markdown",
   "metadata": {},
   "source": [
    "# Top 1%"
   ]
  },
  {
   "cell_type": "code",
   "execution_count": null,
   "metadata": {},
   "outputs": [],
   "source": [
    "logh_mh = logh_inc %>% select(endpoint, model, eid, logh_perc, event, time) %>% group_by(endpoint) %>% \n",
    "    mutate(MH=case_when(logh_perc == 100 ~ \"High\", \n",
    "                        logh_perc %in% 50:51 ~ \"Mid\", \n",
    "                        logh_perc == 1 ~ \"Low\",\n",
    "                        TRUE ~ \"NA\")\n",
    "          ) %>% mutate(MET = fct_rev(factor(MH, levels=c(\"Low\", \"Mid\", \"High\")))) %>% ungroup() %>% \n",
    "    filter(MH!=\"NA\") #%>% select(eid, endpoint, logh, logh_group)"
   ]
  },
  {
   "cell_type": "code",
   "execution_count": null,
   "metadata": {},
   "outputs": [],
   "source": [
    "require(\"ggquickeda\")\n",
    "plot_width = 50; plot_height=75; plot_res = 320\n",
    "options(repr.plot.width = plot_width, repr.plot.height = plot_height, repr.plot.res=plot_res)\n",
    "mh_map = c(\"High\"=\"#023768\", \"Mid\"=\"#4F8EC1\", \"Low\"=\"#7AC6FF\")\n",
    "\n",
    "endpoint_order = (phecode_defs %>% mutate(phecode_rank = as.numeric(phecode)) %>% arrange(phecode_rank) %>% as_tibble())$endpoint\n",
    "endpoint_selection = endpoint_order# %>% head(500)\n",
    "temp = logh_mh %>% mutate(endpoint = factor(endpoint, levels=endpoint_order)) %>% filter(endpoint %in% endpoint_selection) %>% ungroup() \n",
    "\n",
    "km_plot = ggplot(temp, aes(time = time, status = event, fill=MH, color=MH,group=MH)) +\n",
    "    geom_km(trans = \"event\") + \n",
    "    geom_kmticks(trans = \"event\", size=0.3) + geom_kmband(trans = \"event\") + \n",
    "    labs(x=\"Time [Years]\", y=\"Cumulative Events [%]\")+\n",
    "    scale_color_manual(values=met_map)+scale_fill_manual(values=mh_map)+\n",
    "    scale_y_continuous(labels = function(x) round(x*100, 1), expand=c(0, 0))+\n",
    "    scale_x_continuous(expand=expansion(add=c(0, .1)), breaks=c(5, 10))+\n",
    "    facet_wrap(~ endpoint, scale=\"free\", labeller = labeller(endpoint = endpoint_map), ncol=25) + theme(legend.position=\"none\")"
   ]
  },
  {
   "cell_type": "code",
   "execution_count": null,
   "metadata": {},
   "outputs": [],
   "source": [
    "plot_name = \"MedicalHistory_KMs_Top1\"\n",
    "km_plot %>% ggsave(filename=glue(\"outputs/{plot_name}.png\"), device=\"png\", width=plot_width, height=plot_height, dpi=plot_res, limitsize=FALSE)"
   ]
  },
  {
   "cell_type": "markdown",
   "metadata": {},
   "source": [
    "# Figure 2"
   ]
  },
  {
   "cell_type": "code",
   "execution_count": null,
   "metadata": {},
   "outputs": [],
   "source": [
    "plot_width=8.25; plot_height=10; plot_dpi=320\n",
    "options(repr.plot.width = plot_width, repr.plot.height = plot_height, repr.plot.res=plot_dpi)\n",
    "fig2 = met_events / km_plot# +plot_annotation(tag_levels = 'A')"
   ]
  },
  {
   "cell_type": "code",
   "execution_count": null,
   "metadata": {},
   "outputs": [],
   "source": [
    "fig2"
   ]
  },
  {
   "cell_type": "code",
   "execution_count": null,
   "metadata": {},
   "outputs": [],
   "source": [
    "library(gt)\n",
    "plot_name = \"Figures_2_AB\"\n",
    "fig2 %>% ggsave(filename=glue(\"outputs/{plot_name}.pdf\"), device=\"pdf\", width=plot_width, height=plot_height, dpi=320)"
   ]
  },
  {
   "cell_type": "code",
   "execution_count": null,
   "metadata": {},
   "outputs": [],
   "source": []
  }
 ],
 "metadata": {
  "hide_input": false,
  "kernelspec": {
   "display_name": "R [conda env:r_env]",
   "language": "R",
   "name": "conda-env-r_env-r"
  },
  "language_info": {
   "codemirror_mode": "r",
   "file_extension": ".r",
   "mimetype": "text/x-r-source",
   "name": "R",
   "pygments_lexer": "r",
   "version": "4.0.2"
  },
  "toc-autonumbering": false
 },
 "nbformat": 4,
 "nbformat_minor": 4
}
