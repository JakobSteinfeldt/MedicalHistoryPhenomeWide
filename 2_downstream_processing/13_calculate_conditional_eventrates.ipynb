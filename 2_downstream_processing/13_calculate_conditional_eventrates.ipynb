{
 "cells": [
  {
   "cell_type": "code",
   "execution_count": null,
   "metadata": {
    "tags": []
   },
   "outputs": [],
   "source": [
    "import pandas as pd\n",
    "import numpy as np\n",
    "import pathlib\n",
    "from tqdm.auto import tqdm\n",
    "\n",
    "import hydra\n",
    "from omegaconf import DictConfig, OmegaConf\n",
    "\n",
    "import torch\n",
    "from torch_geometric import seed_everything\n",
    "import pathlib\n",
    "\n",
    "import ray"
   ]
  },
  {
   "cell_type": "code",
   "execution_count": null,
   "metadata": {
    "tags": []
   },
   "outputs": [],
   "source": [
    "node = !hostname\n",
    "if \"sc\" in node[0]:\n",
    "    base_path = \"/sc-projects/sc-proj-ukb-cvd\"\n",
    "else: \n",
    "    base_path = \"/data/analysis/ag-reils/ag-reils-shared/cardioRS\"\n",
    "print(base_path)\n",
    "\n",
    "project_label = \"22_medical_records\"\n",
    "project_path = f\"{base_path}/results/projects/{project_label}\"\n",
    "figure_path = f\"{project_path}/figures\"\n",
    "output_path = f\"{project_path}/data\"\n",
    "\n",
    "experiment = 220627\n",
    "experiment_path = f\"{output_path}/{experiment}\"\n",
    "pathlib.Path(experiment_path).mkdir(parents=True, exist_ok=True)"
   ]
  },
  {
   "cell_type": "code",
   "execution_count": null,
   "metadata": {
    "tags": []
   },
   "outputs": [],
   "source": [
    "attribution_df = pd.read_feather(f\"{experiment_path}/attributions_pre.feather\")\n",
    "records = attribution_df.record.unique().tolist()"
   ]
  },
  {
   "cell_type": "code",
   "execution_count": null,
   "metadata": {
    "tags": []
   },
   "outputs": [],
   "source": [
    "endpoint_defs = pd.read_feather(f\"{output_path}/phecode_defs_220306.feather\").sort_values(\"endpoint\")\n",
    "endpoints_md = pd.read_csv(f\"{experiment_path}/endpoints.csv\")\n",
    "endpoints = sorted(endpoints_md.endpoint.to_list())"
   ]
  },
  {
   "cell_type": "code",
   "execution_count": null,
   "metadata": {
    "tags": []
   },
   "outputs": [],
   "source": [
    "data_outcomes = pd.read_feather(f\"{output_path}/baseline_outcomes_220627.feather\").set_index(\"eid\")\n",
    "data_records = pd.read_feather(f\"{output_path}/baseline_records_220627.feather\", columns=[\"eid\"] + records).set_index(\"eid\")\n",
    "data_all = data_records.merge(data_outcomes, left_index=True, right_index=True, how=\"left\")"
   ]
  },
  {
   "cell_type": "code",
   "execution_count": null,
   "metadata": {
    "tags": []
   },
   "outputs": [],
   "source": [
    "eligable_eids = pd.read_feather(f\"{output_path}/eligable_eids_220627.feather\")\n",
    "eids_dict = eligable_eids.set_index(\"endpoint\")[\"eid_list\"].to_dict()"
   ]
  },
  {
   "cell_type": "code",
   "execution_count": null,
   "metadata": {
    "tags": []
   },
   "outputs": [],
   "source": [
    "ray.shutdown()"
   ]
  },
  {
   "cell_type": "code",
   "execution_count": null,
   "metadata": {
    "tags": []
   },
   "outputs": [],
   "source": [
    "import ray\n",
    "\n",
    "ray.init(num_cpus=20, include_dashboard=False)"
   ]
  },
  {
   "cell_type": "code",
   "execution_count": null,
   "metadata": {
    "tags": []
   },
   "outputs": [],
   "source": [
    "@ray.remote\n",
    "def calc_ratio(data_all, eids_dict, record, eids_record, endpoints):\n",
    "    r_ds = []\n",
    "    \n",
    "    for endpoint in endpoints:\n",
    "        eids_endpoint = eids_dict[endpoint]\n",
    "        \n",
    "        # record set\n",
    "        eid_idxs_dict = {}\n",
    "        eid_idxs_dict[\"record\"] = np.where(np.in1d(eids_endpoint, eids_record, assume_unique=True))[0]\n",
    "\n",
    "        for key, eid_idxs in eid_idxs_dict.items():\n",
    "            eids_temp = eids_endpoint[eid_idxs]\n",
    "            s = data_all[f\"{endpoint}_event\"].loc[eids_temp]\n",
    "            n=s.sum()\n",
    "            freq = n/len(s)\n",
    "            \n",
    "            if key==\"record\":\n",
    "                s_record\n",
    "                n_record = n\n",
    "                freq_record = freq\n",
    "        \n",
    "        r_ds.append({\"endpoint\": endpoint, \"n_eligable\": len(eids_dict[endpoint]), \n",
    "                  \"record\": record, \"n_records\": len(eids_record), \n",
    "                  \"n_events_record\": n_record, \"freq_events_record\": freq_record})\n",
    "    return r_ds"
   ]
  },
  {
   "cell_type": "code",
   "execution_count": null,
   "metadata": {
    "tags": []
   },
   "outputs": [],
   "source": [
    "record_freqs = data_records.mean().sort_values(ascending=False)\n",
    "record_freqs"
   ]
  },
  {
   "cell_type": "code",
   "execution_count": null,
   "metadata": {
    "tags": []
   },
   "outputs": [],
   "source": [
    "d_nested = []\n",
    "ref_data_all = ray.put(data_all)\n",
    "ref_eids_dict = ray.put(eids_dict)\n",
    "for record in tqdm(record_freqs.index):\n",
    "    s_record = data_all[record]\n",
    "    eids_record = s_record[s_record==True].index.values\n",
    "    ref_results = calc_ratio.remote(ref_data_all, ref_eids_dict, record, eids_record, endpoints)\n",
    "    d_nested.append(ref_results)\n",
    "d_nested = [ray.get(e) for e in tqdm(d_nested)]\n",
    "del ref_data_all\n",
    "del ref_eids_dict"
   ]
  },
  {
   "cell_type": "code",
   "execution_count": null,
   "metadata": {
    "tags": []
   },
   "outputs": [],
   "source": [
    "from itertools import chain\n",
    "\n",
    "d = list(chain(*d_nested))"
   ]
  },
  {
   "cell_type": "code",
   "execution_count": null,
   "metadata": {
    "tags": []
   },
   "outputs": [],
   "source": [
    "endpoints_freqs = pd.DataFrame().from_dict(d)"
   ]
  },
  {
   "cell_type": "code",
   "execution_count": null,
   "metadata": {
    "tags": []
   },
   "outputs": [],
   "source": [
    "endpoints_freqs"
   ]
  },
  {
   "cell_type": "code",
   "execution_count": null,
   "metadata": {
    "tags": []
   },
   "outputs": [],
   "source": [
    "endpoints_freqs.to_feather(f\"{experiment_path}/attributions_conditional_eventrates.feather\")"
   ]
  },
  {
   "cell_type": "code",
   "execution_count": null,
   "metadata": {},
   "outputs": [],
   "source": []
  }
 ],
 "metadata": {
  "interpreter": {
   "hash": "7fb005937abf8310e947cacdef9aa24b4c9570846765db425bfb20f46bc066c7"
  },
  "kernelspec": {
   "display_name": "Python [conda env:ehrgraphs]",
   "language": "python",
   "name": "conda-env-ehrgraphs-py"
  },
  "language_info": {
   "codemirror_mode": {
    "name": "ipython",
    "version": 3
   },
   "file_extension": ".py",
   "mimetype": "text/x-python",
   "name": "python",
   "nbconvert_exporter": "python",
   "pygments_lexer": "ipython3",
   "version": "3.9.7"
  }
 },
 "nbformat": 4,
 "nbformat_minor": 4
}
