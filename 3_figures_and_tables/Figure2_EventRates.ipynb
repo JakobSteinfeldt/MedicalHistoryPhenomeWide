{
 "cells": [
  {
   "cell_type": "markdown",
   "metadata": {},
   "source": [
    "# Benchmarks"
   ]
  },
  {
   "cell_type": "markdown",
   "metadata": {},
   "source": [
    "## Initialize"
   ]
  },
  {
   "cell_type": "code",
   "execution_count": null,
   "metadata": {
    "ExecuteTime": {
     "end_time": "2021-01-05T11:03:09.852316Z",
     "start_time": "2021-01-05T11:03:07.701Z"
    },
    "execution": {
     "iopub.execute_input": "2023-05-12T09:31:06.411918Z",
     "iopub.status.busy": "2023-05-12T09:31:06.410159Z",
     "iopub.status.idle": "2023-05-12T09:31:09.203178Z",
     "shell.execute_reply": "2023-05-12T09:31:09.202308Z"
    },
    "tags": []
   },
   "outputs": [],
   "source": [
    "#library(Rmisc)\n",
    "#library(dtplyr)\n",
    "library(tidyverse)\n",
    "library(tidytable)\n",
    "library(glue)\n",
    "library(arrow)\n",
    "library(patchwork)\n",
    "#library(data.table)\n",
    "library(\"jsonlite\")\n",
    "library(ggthemes)"
   ]
  },
  {
   "cell_type": "code",
   "execution_count": null,
   "metadata": {
    "ExecuteTime": {
     "end_time": "2021-01-05T11:03:10.491477Z",
     "start_time": "2021-01-05T11:03:10.445Z"
    },
    "execution": {
     "iopub.execute_input": "2023-05-12T09:31:09.219294Z",
     "iopub.status.busy": "2023-05-12T09:31:09.204488Z",
     "iopub.status.idle": "2023-05-12T09:31:09.231980Z",
     "shell.execute_reply": "2023-05-12T09:31:09.231193Z"
    },
    "tags": []
   },
   "outputs": [],
   "source": [
    "if (grepl(\"sc\", Sys.info()[[\"nodename\"]], fixed=TRUE)) {\n",
    "    base_path = \"/sc-projects/sc-proj-ukb-cvd\"\n",
    "} else {\n",
    "    base_path = \"/data/analysis/ag-reils/ag-reils-shared/cardioRS\"}\n",
    "print(base_path)\n",
    "\n",
    "project_label=\"22_medical_records\"\n",
    "project_path = glue(\"{base_path}/results/projects/{project_label}\")\n",
    "figure_path = glue(\"{project_path}/figures\")\n",
    "output_path = glue(\"{project_path}/data\")\n",
    "\n",
    "experiment = 230425\n",
    "experiment_path = glue(\"{output_path}/{experiment}\")"
   ]
  },
  {
   "cell_type": "code",
   "execution_count": null,
   "metadata": {
    "execution": {
     "iopub.execute_input": "2023-05-12T09:31:09.233922Z",
     "iopub.status.busy": "2023-05-12T09:31:09.233241Z",
     "iopub.status.idle": "2023-05-12T09:31:09.257761Z",
     "shell.execute_reply": "2023-05-12T09:31:09.256984Z"
    },
    "tags": []
   },
   "outputs": [],
   "source": [
    "library(data.table)\n",
    "library(arrow)"
   ]
  },
  {
   "cell_type": "code",
   "execution_count": null,
   "metadata": {
    "execution": {
     "iopub.execute_input": "2023-05-12T09:31:09.259673Z",
     "iopub.status.busy": "2023-05-12T09:31:09.258997Z",
     "iopub.status.idle": "2023-05-12T09:31:09.311146Z",
     "shell.execute_reply": "2023-05-12T09:31:09.310380Z"
    },
    "tags": []
   },
   "outputs": [],
   "source": [
    "endpoints_md = fread(glue(\"{experiment_path}/endpoints.csv\"), colClasses=c(\"phecode\"=\"character\"))\n",
    "endpoints = sort(endpoints_md$endpoint)"
   ]
  },
  {
   "cell_type": "code",
   "execution_count": null,
   "metadata": {
    "execution": {
     "iopub.execute_input": "2023-05-12T09:31:09.313019Z",
     "iopub.status.busy": "2023-05-12T09:31:09.312369Z",
     "iopub.status.idle": "2023-05-12T09:31:09.350103Z",
     "shell.execute_reply": "2023-05-12T09:31:09.344218Z"
    },
    "tags": []
   },
   "outputs": [],
   "source": [
    "endpoint_defs = arrow::read_feather(glue(\"{output_path}/phecode_defs_220306.feather\")) %>% arrange(endpoint)"
   ]
  },
  {
   "cell_type": "code",
   "execution_count": null,
   "metadata": {
    "execution": {
     "iopub.execute_input": "2023-05-12T09:31:09.352045Z",
     "iopub.status.busy": "2023-05-12T09:31:09.351418Z",
     "iopub.status.idle": "2023-05-12T09:31:09.364538Z",
     "shell.execute_reply": "2023-05-12T09:31:09.363776Z"
    },
    "tags": []
   },
   "outputs": [],
   "source": [
    "endpoint_selection = c(\n",
    "    \n",
    "   'phecode_401', #  \"Hypertension\", # intervention\n",
    "    'phecode_202', #  \"Diabetes mellitus\", # intervention\n",
    "    'phecode_416-21', #  \"Atrial fibrillation\", # intervention\n",
    "    'phecode_468', #  \"Pneumonia\", # intervention\n",
    "    'phecode_474', #  \"Chronic obstructive pulmonary disease [COPD]\", # interventio\n",
    "    'phecode_583', #  \"Chronic kidney disease\", # intervention\n",
    "    \n",
    "    'phecode_404', #  \"Ischemic heart disease\",\n",
    "    'phecode_404-1', #  \"Myocardial infarction [Heart attack]\", # intervention\n",
    "    'phecode_431-11', #  \"Cerebral infarction [Ischemic stroke]\",\n",
    "    'phecode_424', #  \"Heart failure\", # intervention\n",
    "    'phecode_420', #  \"Cardiac arrest\", # intervention\n",
    "    'OMOP_4306655', #  \"All-Cause Death\", # intervention\n",
    "    \n",
    "    'phecode_438-11',   #  \"Abdominal aortic aneurysm\",\n",
    "    'phecode_440-3',#  \"Pulmonary embolism\", # intervention\n",
    "    'phecode_413-21',#  \"Aortic stenosis\", # intervention\n",
    "    'phecode_413-11', #  \"Mitral valve insufficiency\",\n",
    "    'phecode_410-2',#  \"Endocarditis\",\n",
    "    'phecode_400',#  \"Rheumatic fever and chronic rheumatic heart diseases\",\t\n",
    "    \n",
    "    'phecode_164', #  \"Anemia\", # intervention\n",
    "    'phecode_718',  #  \"Back pain\", # intervention\n",
    "    'phecode_324-11', #  \"Parkinson's disease (Primary)\",\n",
    "    'phecode_705-1', #  \"Rheumatoid arthritis\", # NEW + interventio\n",
    "    'phecode_665', #  \"Psoriasis\", # interesting\n",
    "    'phecode_284'#  \"Suicide ideation and attempt or self harm\" # intervention\n",
    ")\n",
    "endpoint_defs = endpoint_defs %>% \n",
    "    mutate(name = phecode_string) %>%\n",
    "    mutate(name = \n",
    "           case_when( \n",
    "               phecode_string == \"Myocardial infarction [Heart attack]\"~\"Myocardial infarction\",\n",
    "               phecode_string == \"Cerebral infarction [Ischemic stroke]\"~\"Ischemic stroke\",\n",
    "               phecode_string == \"Chronic obstructive pulmonary disease [COPD]\"~\"COPD\",\n",
    "               phecode_string == \"Mitral valve insufficiency\"~\"Mitral insufficiency\",\n",
    "               phecode_string == \"Parkinson's disease (Primary)\"~\"Parkinson's\",\n",
    "               phecode_string == \"Suicide ideation and attempt or self harm\"~\"Suicide attempt\",\n",
    "               phecode_string == \"Ischemic heart disease\"~\"Ischemic HD\",\n",
    "               phecode_string == \"Chronic kidney disease\"~\"Chronic KD\",\n",
    "               phecode_string == \"Rheumatic fever and chronic rheumatic heart diseases\"~\"Rheumatic HD\",\n",
    "               phecode_string == \"Abdominal aortic aneurysm\"~\"Abdominal AA\",\n",
    "                  TRUE ~ name)\n",
    "           )\n",
    "            \n",
    "endpoint_map = endpoint_defs$name\n",
    "names(endpoint_map) =  endpoint_defs$endpoint\n",
    "#endpoint_order = (endpoint_defs %>% arrange(as.numeric(phecode)))$endpoint\n",
    "endpoint_order = endpoint_selection"
   ]
  },
  {
   "cell_type": "code",
   "execution_count": null,
   "metadata": {
    "execution": {
     "iopub.execute_input": "2023-05-12T09:31:09.366372Z",
     "iopub.status.busy": "2023-05-12T09:31:09.365701Z",
     "iopub.status.idle": "2023-05-12T09:31:09.377484Z",
     "shell.execute_reply": "2023-05-12T09:31:09.376720Z"
    },
    "tags": []
   },
   "outputs": [],
   "source": [
    "str_replace_all(endpoint_selection, \"\\\\-\", \"\\\\.\")"
   ]
  },
  {
   "cell_type": "code",
   "execution_count": null,
   "metadata": {
    "execution": {
     "iopub.execute_input": "2023-05-12T09:31:09.379310Z",
     "iopub.status.busy": "2023-05-12T09:31:09.378655Z",
     "iopub.status.idle": "2023-05-12T09:31:09.876913Z",
     "shell.execute_reply": "2023-05-12T09:31:09.876095Z"
    },
    "tags": []
   },
   "outputs": [],
   "source": [
    "endpoints_md %>% filter(endpoint %in% endpoint_selection) %>% as_tibble() %>% arrange(n)  %>%\n",
    "    mutate(endpoint = recode(endpoint, !!!endpoint_map)) %>% mutate(perc = freq*100)"
   ]
  },
  {
   "cell_type": "code",
   "execution_count": null,
   "metadata": {
    "execution": {
     "iopub.execute_input": "2023-05-12T09:31:09.878815Z",
     "iopub.status.busy": "2023-05-12T09:31:09.878149Z",
     "iopub.status.idle": "2023-05-12T09:31:57.365046Z",
     "shell.execute_reply": "2023-05-12T09:31:57.363656Z"
    },
    "tags": []
   },
   "outputs": [],
   "source": [
    "eligable_eids = arrow::read_feather(glue(\"{output_path}/eligable_eids_long_220627.feather\")) %>% \n",
    "    filter(endpoint %in% endpoint_selection) %>% \n",
    "    mutate(endpoint = as.character(endpoint)) %>%\n",
    "    mutate(eid = as.numeric(as.character(eid))) %>%\n",
    "    mutate(included = 1)"
   ]
  },
  {
   "cell_type": "code",
   "execution_count": null,
   "metadata": {
    "execution": {
     "iopub.execute_input": "2023-05-12T09:31:57.367132Z",
     "iopub.status.busy": "2023-05-12T09:31:57.366434Z",
     "iopub.status.idle": "2023-05-12T09:33:09.469269Z",
     "shell.execute_reply": "2023-05-12T09:33:09.468175Z"
    },
    "tags": []
   },
   "outputs": [],
   "source": [
    "data_outcomes = arrow::read_feather(glue(\"{output_path}/baseline_outcomes_long_220627.feather\", as_data_frame=FALSE)) %>% \n",
    "    filter(endpoint %in% endpoint_selection) %>% left_join(eligable_eids, by=c(\"eid\", \"endpoint\"))"
   ]
  },
  {
   "cell_type": "code",
   "execution_count": null,
   "metadata": {
    "execution": {
     "iopub.execute_input": "2023-05-12T09:33:09.471475Z",
     "iopub.status.busy": "2023-05-12T09:33:09.470777Z",
     "iopub.status.idle": "2023-05-12T09:33:09.510848Z",
     "shell.execute_reply": "2023-05-12T09:33:09.510040Z"
    },
    "tags": []
   },
   "outputs": [],
   "source": [
    "records_per_individual = arrow::read_feather(\"/sc-projects/sc-proj-ukb-cvd/data/2_datasets_pre/211110_anewbeginning/artifacts/records_per_individual_220627.feather\")\n",
    "eids_with_records = records_per_individual %>% filter(n_records > 0) %>% pull(eid)"
   ]
  },
  {
   "cell_type": "markdown",
   "metadata": {},
   "source": [
    "# FROM LOGHS"
   ]
  },
  {
   "cell_type": "raw",
   "metadata": {
    "execution": {
     "iopub.execute_input": "2023-04-28T05:38:11.733043Z",
     "iopub.status.busy": "2023-04-28T05:38:11.732011Z",
     "iopub.status.idle": "2023-04-28T05:38:11.754565Z",
     "shell.execute_reply": "2023-04-28T05:38:11.753310Z"
    },
    "tags": []
   },
   "source": [
    "partitions = 0:21\n",
    "partitions\n",
    "paths = c()\n",
    "for (p in partitions){\n",
    "    temp_path = glue(\"{experiment_path}/loghs/Identity(Records)+MLP/{p}/test.feather\")\n",
    "    paths = c(paths, temp_path)\n",
    "    }"
   ]
  },
  {
   "cell_type": "raw",
   "metadata": {
    "execution": {
     "iopub.execute_input": "2023-04-28T05:38:11.757331Z",
     "iopub.status.busy": "2023-04-28T05:38:11.756312Z",
     "iopub.status.idle": "2023-04-28T05:38:16.043255Z",
     "shell.execute_reply": "2023-04-28T05:38:16.041975Z"
    },
    "tags": []
   },
   "source": [
    "predictions = paths %>% map_df(\n",
    "    ~suppressWarnings(read_feather(., col_select=c(\"eid\", all_of(endpoint_selection)))) %>% \n",
    "    pivot_longer(endpoint_selection, names_to=\"endpoint\", values_to=\"logh\") %>%\n",
    "    mutate(eid = as.integer(as.character(eid))) %>%\n",
    "    select(endpoint, eid, logh))# %>% arrange(endpoint, eid)\n",
    "predictions %>% head()"
   ]
  },
  {
   "cell_type": "code",
   "execution_count": null,
   "metadata": {
    "execution": {
     "iopub.execute_input": "2023-05-12T09:33:09.512712Z",
     "iopub.status.busy": "2023-05-12T09:33:09.512066Z",
     "iopub.status.idle": "2023-05-12T09:33:12.354351Z",
     "shell.execute_reply": "2023-05-12T09:33:12.353370Z"
    },
    "tags": []
   },
   "outputs": [],
   "source": [
    "prediction_paths = arrow::read_feather(glue(\"{experiment_path}/prediction_paths.feather\")) %>% \n",
    "    filter(endpoint %in% endpoint_selection) %>% \n",
    "    filter(score == \"MedicalHistory\") %>%\n",
    "    mutate(full_path = glue(\"{experiment_path}/coxph/predictions/{path}\")) %>% \n",
    "    pull(full_path)"
   ]
  },
  {
   "cell_type": "code",
   "execution_count": null,
   "metadata": {
    "execution": {
     "iopub.execute_input": "2023-05-12T09:33:12.356290Z",
     "iopub.status.busy": "2023-05-12T09:33:12.355631Z",
     "iopub.status.idle": "2023-05-12T09:33:18.884598Z",
     "shell.execute_reply": "2023-05-12T09:33:18.883723Z"
    },
    "tags": []
   },
   "outputs": [],
   "source": [
    "predictions = prediction_paths %>% map_df(\n",
    "    ~suppressWarnings(read_feather(., col_select=c(\"eid\", \"endpoint\", \"features\", \"partition\", \"Ft_10\")))) %>% \n",
    "    filter(eid %in% eids_with_records)\n",
    "    #pivot_longer(endpoint_selection, names_to=\"endpoint\", values_to=\"logh\") %>%\n",
    "    #mutate(eid = as.integer(as.character(eid))) %>%\n",
    "    #select(endpoint, eid, logh))# %>% arrange(endpoint, eid)\n",
    "predictions %>% head()"
   ]
  },
  {
   "cell_type": "code",
   "execution_count": null,
   "metadata": {
    "execution": {
     "iopub.execute_input": "2023-05-12T09:33:18.886878Z",
     "iopub.status.busy": "2023-05-12T09:33:18.885945Z",
     "iopub.status.idle": "2023-05-12T09:33:18.948620Z",
     "shell.execute_reply": "2023-05-12T09:33:18.947797Z"
    },
    "tags": []
   },
   "outputs": [],
   "source": [
    "base_size = 8\n",
    "title_size = 10\n",
    "facet_size = 8.5\n",
    "geom_text_size=3\n",
    "theme_set(theme_classic(base_size = base_size) + \n",
    "          theme(strip.background = element_blank(), plot.title=element_text(size=title_size, hjust=0), \n",
    "                strip.text.x = element_text(size = facet_size),axis.title=element_text(size=10), axis.text=element_text(size=8, color=\"black\"),\n",
    "                legend.position=\"bottom\", axis.line = element_line(size = 0.2), axis.ticks=element_line(size=0.2)))"
   ]
  },
  {
   "cell_type": "markdown",
   "metadata": {},
   "source": [
    "# Figure 2: Selected Endpoints"
   ]
  },
  {
   "cell_type": "code",
   "execution_count": null,
   "metadata": {
    "execution": {
     "iopub.execute_input": "2023-05-12T09:33:18.950621Z",
     "iopub.status.busy": "2023-05-12T09:33:18.949923Z",
     "iopub.status.idle": "2023-05-12T09:33:21.736433Z",
     "shell.execute_reply": "2023-05-12T09:33:21.735373Z"
    },
    "tags": []
   },
   "outputs": [],
   "source": [
    "pred_outcomes = data_outcomes %>% \n",
    "    filter(eid %in% eids_with_records) %>%\n",
    "    left_join(predictions, by=c(\"eid\", \"endpoint\")) %>% as_tibble() %>% \n",
    "    filter(included==1) %>% left_join(endpoints_md) %>% filter(n==n) "
   ]
  },
  {
   "cell_type": "code",
   "execution_count": null,
   "metadata": {
    "execution": {
     "iopub.execute_input": "2023-05-12T09:33:21.738455Z",
     "iopub.status.busy": "2023-05-12T09:33:21.737769Z",
     "iopub.status.idle": "2023-05-12T09:33:21.743035Z",
     "shell.execute_reply": "2023-05-12T09:33:21.742249Z"
    },
    "tags": []
   },
   "outputs": [],
   "source": [
    "#pred_outcomes = predictions %>% left_join(data_outcomes, on=c(eid, endpoint)) %>% as_tibble()"
   ]
  },
  {
   "cell_type": "markdown",
   "metadata": {},
   "source": [
    "## Endpoint Prevalence + Rate Ratios"
   ]
  },
  {
   "cell_type": "code",
   "execution_count": null,
   "metadata": {
    "execution": {
     "iopub.execute_input": "2023-05-12T09:33:21.744943Z",
     "iopub.status.busy": "2023-05-12T09:33:21.744254Z",
     "iopub.status.idle": "2023-05-12T09:33:22.286473Z",
     "shell.execute_reply": "2023-05-12T09:33:22.285565Z"
    },
    "tags": []
   },
   "outputs": [],
   "source": [
    "pred_outcomes %>% filter(endpoint==\"phecode_420\") %>% filter(included==1) %>% mutate(perc = ntile(Ft_10, 100)) %>% filter(perc==100) #%>% summarise(mean(event))"
   ]
  },
  {
   "cell_type": "code",
   "execution_count": null,
   "metadata": {
    "execution": {
     "iopub.execute_input": "2023-05-12T09:33:22.288484Z",
     "iopub.status.busy": "2023-05-12T09:33:22.287797Z",
     "iopub.status.idle": "2023-05-12T09:33:23.681892Z",
     "shell.execute_reply": "2023-05-12T09:33:23.678930Z"
    },
    "tags": []
   },
   "outputs": [],
   "source": [
    "logh_inc = pred_outcomes %>% filter(included==1) %>% group_by(endpoint) %>% mutate(logh_perc = ntile(Ft_10, 10)) %>% ungroup() %>% as_tibble()"
   ]
  },
  {
   "cell_type": "code",
   "execution_count": null,
   "metadata": {
    "execution": {
     "iopub.execute_input": "2023-05-12T09:33:23.686178Z",
     "iopub.status.busy": "2023-05-12T09:33:23.684874Z",
     "iopub.status.idle": "2023-05-12T09:33:23.800983Z",
     "shell.execute_reply": "2023-05-12T09:33:23.799448Z"
    },
    "tags": []
   },
   "outputs": [],
   "source": [
    "logh_T_agg = logh_inc %>% group_by(endpoint, logh_perc) %>% summarise(n=sum(event), ratio = mean(event)) %>% as_tibble()"
   ]
  },
  {
   "cell_type": "code",
   "execution_count": null,
   "metadata": {
    "execution": {
     "iopub.execute_input": "2023-05-12T09:33:23.804503Z",
     "iopub.status.busy": "2023-05-12T09:33:23.803312Z",
     "iopub.status.idle": "2023-05-12T09:33:24.570940Z",
     "shell.execute_reply": "2023-05-12T09:33:24.569987Z"
    },
    "tags": []
   },
   "outputs": [],
   "source": [
    "temp = logh_T_agg %>% mutate(endpoint = factor(endpoint, levels=endpoint_order)) %>% \n",
    "    filter(endpoint %in% endpoint_selection) %>% ungroup() #%>% sample_n(10000)\n",
    "temp %>% filter(logh_perc %in% c(1, 10)) %>% \n",
    "    pivot_wider(names_from=logh_perc, values_from=c(n, ratio)) %>% \n",
    "    mutate(ratio=ratio_10/ratio_1) %>%\n",
    "    mutate(endpoint = recode(endpoint, !!!endpoint_map)) %>%\n",
    "    #mutate(ratio_1=ratio_1*100, ratio_10 = ratio_10*100) %>% \n",
    "    arrange(ratio)"
   ]
  },
  {
   "cell_type": "markdown",
   "metadata": {},
   "source": [
    "## Endpoint selection for health state and incident disease rates"
   ]
  },
  {
   "cell_type": "code",
   "execution_count": null,
   "metadata": {
    "execution": {
     "iopub.execute_input": "2023-05-12T09:33:24.573257Z",
     "iopub.status.busy": "2023-05-12T09:33:24.572557Z",
     "iopub.status.idle": "2023-05-12T09:33:25.784048Z",
     "shell.execute_reply": "2023-05-12T09:33:25.782921Z"
    },
    "tags": []
   },
   "outputs": [],
   "source": [
    "pred_outcomes = predictions %>% left_join(data_outcomes, on=c(eid, endpoint)) %>% as.data.table() "
   ]
  },
  {
   "cell_type": "markdown",
   "metadata": {},
   "source": [
    "## Example illustration with deciles"
   ]
  },
  {
   "cell_type": "raw",
   "metadata": {
    "execution": {
     "iopub.execute_input": "2023-04-28T06:38:31.359966Z",
     "iopub.status.busy": "2023-04-28T06:38:31.359097Z",
     "iopub.status.idle": "2023-04-28T06:38:33.333993Z",
     "shell.execute_reply": "2023-04-28T06:38:33.332748Z"
    },
    "tags": []
   },
   "source": [
    "logh_inc = pred_outcomes %>% filter(included==1) %>% group_by(endpoint) %>% mutate(logh_perc = ntile(Ft_10, 10)) %>% ungroup() %>% as_tibble()"
   ]
  },
  {
   "cell_type": "raw",
   "metadata": {
    "execution": {
     "iopub.execute_input": "2023-04-28T06:38:33.827033Z",
     "iopub.status.busy": "2023-04-28T06:38:33.826131Z",
     "iopub.status.idle": "2023-04-28T06:38:34.205482Z",
     "shell.execute_reply": "2023-04-28T06:38:34.204428Z"
    },
    "tags": []
   },
   "source": [
    "logh_T_agg = logh_inc %>% group_by(endpoint, logh_perc) %>% summarise(n=sum(event), ratio = mean(event)) %>% as_tibble()"
   ]
  },
  {
   "cell_type": "raw",
   "metadata": {
    "execution": {
     "iopub.execute_input": "2023-04-28T06:38:35.060471Z",
     "iopub.status.busy": "2023-04-28T06:38:35.059606Z",
     "iopub.status.idle": "2023-04-28T06:38:35.066161Z",
     "shell.execute_reply": "2023-04-28T06:38:35.065177Z"
    },
    "tags": []
   },
   "source": [
    "#logh_T_endpoint = logh_inc %>% group_by(endpoint) %>% summarise(n_all=sum(event), ratio_all = mean(event)) %>% as_tibble()"
   ]
  },
  {
   "cell_type": "raw",
   "metadata": {
    "execution": {
     "iopub.execute_input": "2023-04-28T06:38:35.342697Z",
     "iopub.status.busy": "2023-04-28T06:38:35.341865Z",
     "iopub.status.idle": "2023-04-28T06:38:35.351173Z",
     "shell.execute_reply": "2023-04-28T06:38:35.350199Z"
    },
    "tags": []
   },
   "source": [
    "endpoint_order"
   ]
  },
  {
   "cell_type": "raw",
   "metadata": {
    "execution": {
     "iopub.execute_input": "2023-04-28T06:38:35.857421Z",
     "iopub.status.busy": "2023-04-28T06:38:35.856581Z",
     "iopub.status.idle": "2023-04-28T06:38:36.149366Z",
     "shell.execute_reply": "2023-04-28T06:38:36.148317Z"
    },
    "tags": []
   },
   "source": [
    "plot_width = 2; plot_height=2; plot_res = 320\n",
    "options(repr.plot.width = plot_width, repr.plot.height = plot_height, repr.plot.res=plot_res)\n",
    "#temp_rank = event_rest %>% filter(features==\"Metabolomics\") %>% arrange(desc(MET10PercvsREST))\n",
    "#endpoint_order = (endpoint_defs %>% mutate(phecode_rank = as.numeric(phecode)) %>% arrange(phecode_rank) %>% as_tibble())$endpoint\n",
    "temp = logh_T_agg %>% filter(endpoint==\"OMOP_4306655\") %>% ungroup() %>% arrange(endpoint) #%>% sample_n(10000)\n",
    "\n",
    "fig2a = ggplot(temp, aes(x=as.numeric(as.character(logh_perc)), y=ratio*100, color=logh_perc)) + \n",
    "    labs(title=\"All-cause Death\", x=\"Risk Decile\", y=\"Incident Events (%)\") +\n",
    "    geom_line(alpha=0.7, size=0.3) +    \n",
    "    geom_point(alpha=0.7, size=0.3) + \n",
    "    geom_point(data=temp %>% filter(logh_perc %in% c(1, 10)), alpha=1, size=1, color=\"black\") + \n",
    "    geom_hline(aes(yintercept=0.361170266*100), alpha=0.3, linetype=\"22\", size=0.25) + \n",
    "    geom_hline(aes(yintercept=0.003323648*100), alpha=0.3, linetype=\"22\", size=0.25) + \n",
    "    geom_text(data=temp %>% filter(logh_perc==1), mapping=aes(label=glue(\"Bottom 10%: {n} ({round(ratio*100, 1)}%)\")), color=\"black\", size=2, x=1, y=27, hjust=0) + \n",
    "    geom_text(data=temp %>% filter(logh_perc==10), mapping=aes(label=glue(\"Top 10%: {n} ({round(ratio*100, 1)}%)\")), color=\"black\", size=2, x=1, y=30, hjust=0) + \n",
    "    geom_text(data=temp %>% pivot_wider(names_from=logh_perc, values_from=c(\"n\", \"ratio\")), \n",
    "              mapping=aes(label=glue(\"Rate Ratio: ({round(ratio_10*100, 1)}% / {round(ratio_1*100, 1)}%)\")), \n",
    "              color=\"black\", size=2, x=1, y=24, hjust=0, alpha=0.9) + \n",
    "    geom_text(data=temp %>% pivot_wider(names_from=logh_perc, values_from=c(\"n\", \"ratio\")), \n",
    "              mapping=aes(label=glue(\"Rate Ratio: ~ {round(ratio_10/ratio_1, 1)}\")), \n",
    "              color=\"black\", size=3, x=1, y=20, hjust=0, alpha=0.9) +\n",
    "    scale_colour_gradient(low = \"#7AC6FF\", high = \"#023768\", space = \"Lab\", na.value = \"grey50\", guide = \"colourbar\", aesthetics = \"colour\")+\n",
    "    scale_y_continuous(limits=c(0, NA), expand=expansion(mult=c(.02, .02)))+#, limits=c(0, NA))+\n",
    "    scale_x_continuous(expand=expansion(add=c(0.25, 0.25)), breaks = c(1, 2, 3, 4, 5, 6, 7, 8, 9, 10))+\n",
    "    theme(legend.position=\"none\", plot.title = element_text(hjust = 0.5))\n",
    "fig2a"
   ]
  },
  {
   "cell_type": "code",
   "execution_count": null,
   "metadata": {
    "execution": {
     "iopub.execute_input": "2023-04-28T06:45:09.837499Z",
     "iopub.status.busy": "2023-04-28T06:45:09.836686Z",
     "iopub.status.idle": "2023-04-28T06:45:09.846018Z",
     "shell.execute_reply": "2023-04-28T06:45:09.845064Z"
    },
    "tags": []
   },
   "outputs": [],
   "source": [
    "0.361170266/0.003323648"
   ]
  },
  {
   "cell_type": "markdown",
   "metadata": {},
   "source": [
    "## Real Figure with percentiles"
   ]
  },
  {
   "cell_type": "code",
   "execution_count": null,
   "metadata": {
    "execution": {
     "iopub.execute_input": "2023-05-12T06:39:32.899118Z",
     "iopub.status.busy": "2023-05-12T06:39:32.898291Z",
     "iopub.status.idle": "2023-05-12T06:39:32.905299Z",
     "shell.execute_reply": "2023-05-12T06:39:32.904053Z"
    }
   },
   "outputs": [],
   "source": [
    "## exclude individuals without records!!"
   ]
  },
  {
   "cell_type": "code",
   "execution_count": null,
   "metadata": {
    "execution": {
     "iopub.execute_input": "2023-05-12T09:33:25.786239Z",
     "iopub.status.busy": "2023-05-12T09:33:25.785513Z",
     "iopub.status.idle": "2023-05-12T09:33:26.990296Z",
     "shell.execute_reply": "2023-05-12T09:33:26.988806Z"
    },
    "tags": []
   },
   "outputs": [],
   "source": [
    "logh_inc = pred_outcomes %>% #''filter(partition %in% c(13, 14, 15, 16, 17, 18, 19, 20, 21)) %>% \n",
    "    filter(included==1) %>% group_by(endpoint) %>% mutate(logh_perc = ntile(Ft_10, 100)) %>% ungroup() %>% as_tibble()"
   ]
  },
  {
   "cell_type": "code",
   "execution_count": null,
   "metadata": {
    "execution": {
     "iopub.execute_input": "2023-05-12T09:33:26.993508Z",
     "iopub.status.busy": "2023-05-12T09:33:26.992487Z",
     "iopub.status.idle": "2023-05-12T09:33:27.178179Z",
     "shell.execute_reply": "2023-05-12T09:33:27.176515Z"
    },
    "tags": []
   },
   "outputs": [],
   "source": [
    "logh_T_agg = logh_inc %>% group_by(endpoint, logh_perc) %>% summarise(n=sum(event), ratio = mean(event)) %>% as_tibble()"
   ]
  },
  {
   "cell_type": "code",
   "execution_count": null,
   "metadata": {
    "execution": {
     "iopub.execute_input": "2023-05-12T09:33:27.387035Z",
     "iopub.status.busy": "2023-05-12T09:33:27.386070Z",
     "iopub.status.idle": "2023-05-12T09:33:27.392168Z",
     "shell.execute_reply": "2023-05-12T09:33:27.391357Z"
    },
    "tags": []
   },
   "outputs": [],
   "source": [
    "#logh_T_endpoint = logh_inc %>% group_by(endpoint) %>% summarise(n_all=sum(event), ratio_all = mean(event)) %>% as_tibble()"
   ]
  },
  {
   "cell_type": "code",
   "execution_count": null,
   "metadata": {
    "execution": {
     "iopub.execute_input": "2023-05-12T09:33:27.394139Z",
     "iopub.status.busy": "2023-05-12T09:33:27.393464Z",
     "iopub.status.idle": "2023-05-12T09:33:27.400889Z",
     "shell.execute_reply": "2023-05-12T09:33:27.400103Z"
    },
    "tags": []
   },
   "outputs": [],
   "source": [
    "endpoint_order"
   ]
  },
  {
   "cell_type": "code",
   "execution_count": null,
   "metadata": {
    "execution": {
     "iopub.execute_input": "2023-05-12T09:33:27.402791Z",
     "iopub.status.busy": "2023-05-12T09:33:27.402109Z",
     "iopub.status.idle": "2023-05-12T09:33:27.707879Z",
     "shell.execute_reply": "2023-05-12T09:33:27.707048Z"
    },
    "tags": []
   },
   "outputs": [],
   "source": [
    "library(lemon)"
   ]
  },
  {
   "cell_type": "code",
   "execution_count": null,
   "metadata": {
    "execution": {
     "iopub.execute_input": "2023-05-12T09:41:20.441078Z",
     "iopub.status.busy": "2023-05-12T09:41:20.440304Z",
     "iopub.status.idle": "2023-05-12T09:41:21.865120Z",
     "shell.execute_reply": "2023-05-12T09:41:21.864092Z"
    },
    "tags": []
   },
   "outputs": [],
   "source": [
    "plot_width = 8.25; plot_height=4; plot_res = 320\n",
    "options(repr.plot.width = plot_width, repr.plot.height = plot_height, repr.plot.res=plot_res)\n",
    "#temp_rank = event_rest %>% filter(features==\"Metabolomics\") %>% arrange(desc(MET10PercvsREST))\n",
    "#endpoint_order = (endpoint_defs %>% mutate(phecode_rank = as.numeric(phecode)) %>% arrange(phecode_rank) %>% as_tibble())$endpoint\n",
    "temp = logh_T_agg %>% filter(endpoint %in% endpoint_selection) %>% mutate(endpoint = factor(endpoint, levels=endpoint_order)) %>% ungroup() %>% arrange(endpoint) #%>% sample_n(10000)\n",
    "\n",
    "fig2a = ggplot(temp, aes(x=logh_perc, y=ratio*100, color=logh_perc)) + \n",
    "    labs(title=NULL, x=\"Risk Percentile (%)\", y=\"Incident Events (%)\") +\n",
    "    geom_point(alpha=0.7, size=0.3) + \n",
    "    coord_cartesian(clip=\"off\")+\n",
    "    scale_colour_gradient(low = \"#7AC6FF\", high = \"#023768\", space = \"Lab\", na.value = \"grey50\", guide = \"colourbar\", aesthetics = \"colour\")+\n",
    "    scale_y_continuous(limits=c(0, NA), expand=expansion(mult=c(0, .05)))+#, limits=c(0, NA))+\n",
    "    scale_x_continuous(expand=expansion(add=c(0, 1)))+\n",
    "    facet_rep_wrap(~endpoint, scales=\"free_y\", labeller = labeller(endpoint = as_labeller(endpoint_map, default=label_wrap_gen(22))), ncol=6) + \n",
    "    theme(legend.position=\"none\") + theme(panel.spacing.y = unit(-0.7, \"lines\"), strip.clip = \"off\", panel.border = element_blank())\n",
    "fig2a"
   ]
  },
  {
   "cell_type": "code",
   "execution_count": null,
   "metadata": {
    "execution": {
     "iopub.execute_input": "2023-05-12T09:33:29.271026Z",
     "iopub.status.busy": "2023-05-12T09:33:29.270341Z",
     "iopub.status.idle": "2023-05-12T09:33:29.286307Z",
     "shell.execute_reply": "2023-05-12T09:33:29.285549Z"
    },
    "tags": []
   },
   "outputs": [],
   "source": [
    "endpoints_md %>% filter(str_detect(phecode_string, \"arrest\"))"
   ]
  },
  {
   "cell_type": "code",
   "execution_count": null,
   "metadata": {
    "execution": {
     "iopub.execute_input": "2023-05-12T09:33:29.288191Z",
     "iopub.status.busy": "2023-05-12T09:33:29.287542Z",
     "iopub.status.idle": "2023-05-12T09:33:29.320922Z",
     "shell.execute_reply": "2023-05-12T09:33:29.320128Z"
    },
    "tags": []
   },
   "outputs": [],
   "source": [
    "temp %>% filter(endpoint == \"phecode_420\") %>% arrange(logh_perc)# %>% filter(logh_perc==100)"
   ]
  },
  {
   "cell_type": "markdown",
   "metadata": {},
   "source": [
    "# Kaplan Mayer"
   ]
  },
  {
   "cell_type": "code",
   "execution_count": null,
   "metadata": {
    "execution": {
     "iopub.execute_input": "2023-05-12T09:33:29.322847Z",
     "iopub.status.busy": "2023-05-12T09:33:29.322178Z",
     "iopub.status.idle": "2023-05-12T09:33:30.366484Z",
     "shell.execute_reply": "2023-05-12T09:33:30.365418Z"
    },
    "tags": []
   },
   "outputs": [],
   "source": [
    "logh_mh = logh_inc %>% select(endpoint, eid, logh_perc, event, time) %>% group_by(endpoint) %>% \n",
    "    mutate(MH=case_when(logh_perc %in% 100 ~ \"High\", \n",
    "                        logh_perc %in% 50 ~ \"Mid\", \n",
    "                        logh_perc %in% 1 ~ \"Low\",\n",
    "                        TRUE ~ \"NA\")\n",
    "          ) %>% mutate(MH=fct_rev(factor(MH, levels=c(\"Low\", \"Mid\", \"High\")))) %>% ungroup() %>% \n",
    "    filter(MH!=\"NA\") #%>% select(eid, endpoint, logh, logh_group)"
   ]
  },
  {
   "cell_type": "raw",
   "metadata": {},
   "source": [
    "logh_mh = logh_inc %>% select(endpoint, eid, logh_perc, event, time) %>% group_by(endpoint) %>% \n",
    "    mutate(MH=case_when(logh_perc %in% 91:100 ~ \"High\", \n",
    "                        logh_perc %in% 45:55 ~ \"Mid\", \n",
    "                        logh_perc %in% 1:10 ~ \"Low\",\n",
    "                        TRUE ~ \"NA\")\n",
    "          ) %>% mutate(MET = fct_rev(factor(MH, levels=c(\"Low\", \"Mid\", \"High\")))) %>% ungroup() %>% \n",
    "    filter(MH!=\"NA\") #%>% select(eid, endpoint, logh, logh_group)"
   ]
  },
  {
   "cell_type": "code",
   "execution_count": null,
   "metadata": {
    "execution": {
     "iopub.execute_input": "2023-05-12T09:41:10.339262Z",
     "iopub.status.busy": "2023-05-12T09:41:10.338418Z",
     "iopub.status.idle": "2023-05-12T09:41:18.430293Z",
     "shell.execute_reply": "2023-05-12T09:41:18.429341Z"
    },
    "tags": []
   },
   "outputs": [],
   "source": [
    "require(\"ggquickeda\")\n",
    "plot_width = 8.25; plot_height=4; plot_res = 320\n",
    "options(repr.plot.width = plot_width, repr.plot.height = plot_height, repr.plot.res=plot_res)\n",
    "met_map = c(\"High\"=\"#023768\", \"Mid\"=\"#4F8EC1\", \"Low\"=\"#7AC6FF\")\n",
    "\n",
    "temp = logh_mh %>% mutate(endpoint = factor(endpoint, levels=endpoint_order)) %>% filter(endpoint %in% endpoint_selection) %>% ungroup() \n",
    "\n",
    "fig2b = ggplot(temp, aes(time = time, status = event, fill=factor(MH), color=factor(MH), group=factor(MH))) +\n",
    "    geom_km(trans = \"event\") + \n",
    "    geom_kmticks(trans = \"event\", size=0.2, alpha=0.01) + \n",
    "    geom_kmband(trans = \"event\") + \n",
    "    labs(x=\"Time (Years)\", y=\"Cumulative Events (%)\")+\n",
    "    coord_cartesian(clip=\"off\")+\n",
    "    scale_color_manual(values=met_map)+scale_fill_manual(values=met_map)+\n",
    "    scale_y_continuous(labels = function(x) round(x*100, 1), expand=c(0, 0))+\n",
    "    scale_x_continuous(expand=expansion(add=c(0, .1)), breaks=c(5, 10))+\n",
    "    facet_rep_wrap(~endpoint, scales=\"free_y\", labeller = labeller(endpoint = as_labeller(endpoint_map, default=label_wrap_gen(22))), ncol=6) + \n",
    "    theme(legend.position=\"none\") + theme(panel.spacing.y = unit(-0.7, \"lines\"), strip.clip = \"off\", panel.border = element_blank())\n",
    "fig2b"
   ]
  },
  {
   "cell_type": "raw",
   "metadata": {
    "execution": {
     "iopub.execute_input": "2023-04-28T05:39:03.713644Z",
     "iopub.status.busy": "2023-04-28T05:39:03.712798Z",
     "iopub.status.idle": "2023-04-28T05:39:04.089839Z",
     "shell.execute_reply": "2023-04-28T05:39:04.088763Z"
    },
    "tags": []
   },
   "source": [
    "require(\"ggquickeda\")\n",
    "plot_width = 8.25; plot_height=4; plot_res = 320\n",
    "options(repr.plot.width = plot_width, repr.plot.height = plot_height, repr.plot.res=plot_res)\n",
    "met_map = c(\"High\"=\"#023768\", \"Mid\"=\"#4F8EC1\", \"Low\"=\"#7AC6FF\")\n",
    "\n",
    "temp = logh_mh %>% filter(endpoint==\"phecode_420\") %>% ungroup() %>% filter(MH==\"High\") %>% filter(!(event==FALSE&time>12))\n",
    "\n",
    "fig2b = ggplot(temp, aes(time = time, status = as.numeric(event), fill=factor(MH), color=factor(MH), group=factor(MH))) + \n",
    "    #geom_kmticks(trans = \"event\", size=0.2, alpha=0.01) + \n",
    "    geom_kmband(trans = \"event\") + \n",
    "    geom_km(trans = \"event\", na.rm = TRUE) +\n",
    "    labs(x=\"Time (Years)\", y=\"Cumulative Events (%)\")+\n",
    "    scale_color_manual(values=met_map)+scale_fill_manual(values=met_map)+\n",
    "    coord_cartesian(clip=\"off\")+\n",
    "    scale_y_continuous(labels = function(x) round(x*100, 1), expand=c(0, 0))+\n",
    "    scale_x_continuous(expand=expansion(add=c(0, .1)), breaks=c(5, 10))+\n",
    "    theme(legend.position=\"none\") + theme(panel.spacing.y = unit(-0.7, \"lines\"))\n",
    "fig2b"
   ]
  },
  {
   "cell_type": "raw",
   "metadata": {},
   "source": [
    "StatKm <- ggplot2::ggproto(\"StatKm\", ggplot2::Stat,\n",
    "                           \n",
    "                           compute_group = function(data, scales, trans = scales::identity_trans(), firstx = 0, firsty = 1,\n",
    "                                                    type = \"kaplan-meier\", start.time = 0) {\n",
    "                             \n",
    "                             sf <- survival::survfit.formula(survival::Surv(data$time, data$status) ~ 1, se.fit = FALSE,\n",
    "                                                             type = type, start.time = start.time)\n",
    "                             \n",
    "                             transloc <- scales::as.trans(trans)$trans\n",
    "                             \n",
    "                             if(is.null(sf$surv)) {\n",
    "                               x <- rep(sf$time, 2)\n",
    "                               sf$surv <- rep(1, length(x))\n",
    "                             }\n",
    "                             \n",
    "                             x <- c(firstx, sf$time)\n",
    "                             y <- transloc(c(firsty, sf$surv))\n",
    "                             y[y == -Inf] <- min(y[is.finite(y)])\n",
    "                             y[y == Inf] <- max(y[is.finite(y)])\n",
    "                             \n",
    "                             step <- dostep(x, y)\n",
    "                             df.out <- data.frame(time = step$x, survival = step$y)\n",
    "                             \n",
    "                             df.out\n",
    "                             \n",
    "                           },\n",
    "                           \n",
    "                           default_aes = ggplot2::aes(y = ..survival.., x = ..time..),\n",
    "                           required_aes = c(\"time\", \"status\")\n",
    "                           \n",
    "                           \n",
    ")"
   ]
  },
  {
   "cell_type": "code",
   "execution_count": null,
   "metadata": {
    "execution": {
     "iopub.execute_input": "2023-05-12T09:41:35.467766Z",
     "iopub.status.busy": "2023-05-12T09:41:35.466902Z",
     "iopub.status.idle": "2023-05-12T09:41:45.499239Z",
     "shell.execute_reply": "2023-05-12T09:41:45.498196Z"
    },
    "tags": []
   },
   "outputs": [],
   "source": [
    "plot_width = 8.25; plot_height=8; plot_res = 320\n",
    "options(repr.plot.width = plot_width, repr.plot.height = plot_height, repr.plot.res=plot_res)\n",
    "\n",
    "fig2bc = (fig2a / fig2b) & theme(panel.border = element_blank())\n",
    "fig2bc "
   ]
  },
  {
   "cell_type": "code",
   "execution_count": null,
   "metadata": {
    "execution": {
     "iopub.execute_input": "2023-05-12T09:41:45.501299Z",
     "iopub.status.busy": "2023-05-12T09:41:45.500606Z",
     "iopub.status.idle": "2023-05-12T09:41:53.751243Z",
     "shell.execute_reply": "2023-05-12T09:41:53.750246Z"
    },
    "tags": []
   },
   "outputs": [],
   "source": [
    "library(gt)\n",
    "plot_name = \"Figure2bc\"\n",
    "fig2bc %>% ggsave(filename=glue(\"outputs/{plot_name}.pdf\"), device=\"pdf\", width=plot_width, height=plot_height, dpi=plot_res)"
   ]
  },
  {
   "cell_type": "code",
   "execution_count": null,
   "metadata": {},
   "outputs": [],
   "source": []
  }
 ],
 "metadata": {
  "hide_input": false,
  "kernelspec": {
   "display_name": "R [conda env:cm_r]",
   "language": "R",
   "name": "conda-env-cm_r-r"
  },
  "language_info": {
   "codemirror_mode": "r",
   "file_extension": ".r",
   "mimetype": "text/x-r-source",
   "name": "R",
   "pygments_lexer": "r",
   "version": "4.2.2"
  },
  "toc-autonumbering": false
 },
 "nbformat": 4,
 "nbformat_minor": 4
}
