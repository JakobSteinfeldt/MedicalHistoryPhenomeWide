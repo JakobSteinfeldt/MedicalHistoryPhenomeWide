{
 "cells": [
  {
   "cell_type": "markdown",
   "metadata": {},
   "source": [
    "# 2. Exploration"
   ]
  },
  {
   "cell_type": "code",
   "execution_count": null,
   "metadata": {
    "ExecuteTime": {
     "end_time": "2021-01-05T07:55:18.706103Z",
     "start_time": "2021-01-05T07:55:03.465Z"
    },
    "tags": []
   },
   "outputs": [],
   "source": [
    "try(library(tidyverse), silent=TRUE)\n",
    "library(lubridate)\n",
    "library(glue)\n",
    "library(cowplot)\n",
    "library(survminer)\n",
    "library(survival)\n",
    "library(ggsci)\n",
    "library(arsenal)\n",
    "library(yaml)\n",
    "\n",
    "#setwd(\"/\")\n",
    "#path = \"/home/USER/projects/uk_biobank/\"\n",
    "#dataset_path = \"data/datasets/cvd_massive_excl_emb_ind\""
   ]
  },
  {
   "cell_type": "code",
   "execution_count": null,
   "metadata": {
    "ExecuteTime": {
     "end_time": "2021-01-05T07:55:18.725125Z",
     "start_time": "2021-01-05T07:55:03.658Z"
    },
    "tags": []
   },
   "outputs": [],
   "source": [
    "if (grepl(\"sc\", Sys.info()[[\"nodename\"]], fixed=TRUE)) {\n",
    "    base_path = \"/sc-projects/sc-proj-ukb-cvd\"\n",
    "} else {\n",
    "    base_path = \"/data/analysis/ag-reils/ag-reils-shared/cardioRS\"}\n",
    "print(base_path)\n",
    "\n",
    "project_label=\"22_medical_records\"\n",
    "project_path = glue(\"{base_path}/results/projects/{project_label}\")\n",
    "figure_path = glue(\"{project_path}/figures\")\n",
    "output_path = glue(\"{project_path}/data\")\n",
    "\n",
    "experiment = 220627\n",
    "experiment_path = glue(\"{output_path}/{experiment}\")"
   ]
  },
  {
   "cell_type": "markdown",
   "metadata": {},
   "source": [
    "## Load data"
   ]
  },
  {
   "cell_type": "code",
   "execution_count": null,
   "metadata": {
    "tags": []
   },
   "outputs": [],
   "source": [
    "endpoint_defs = arrow::read_feather(glue(\"{output_path}/phecode_defs_220306.feather\")) %>% arrange(endpoint)"
   ]
  },
  {
   "cell_type": "code",
   "execution_count": null,
   "metadata": {
    "tags": []
   },
   "outputs": [],
   "source": [
    "data_outcomes = arrow::read_feather(glue(\"{output_path}/baseline_outcomes_220627.feather\", as_data_frame=FALSE))"
   ]
  },
  {
   "cell_type": "code",
   "execution_count": null,
   "metadata": {
    "tags": []
   },
   "outputs": [],
   "source": [
    "data_covariates = arrow::read_feather(glue(\"{experiment_path}/data_covariates_full.feather\"))"
   ]
  },
  {
   "cell_type": "code",
   "execution_count": null,
   "metadata": {
    "ExecuteTime": {
     "end_time": "2021-01-05T07:55:32.625039Z",
     "start_time": "2021-01-05T07:55:06.938Z"
    },
    "tags": []
   },
   "outputs": [],
   "source": [
    "data_covariates = data_covariates %>% mutate(male_erectile_dysfunction = case_when(sex==\"Female\" ~ FALSE, TRUE ~ male_erectile_dysfunction))\n",
    "data_covariates = data_covariates %>% mutate_at(c(\"sex\", \"smoking_status\", \"ethnic_background\"), as.factor)\n",
    "data_covariates = data_covariates %>% mutate(\n",
    "    sex=fct_relevel(sex, c(\"Male\", \"Female\")),\n",
    "    smoking_status=fct_relevel(smoking_status, c(\"Current\", \"Previous\", \"Never\"))\n",
    ")"
   ]
  },
  {
   "cell_type": "code",
   "execution_count": null,
   "metadata": {
    "tags": []
   },
   "outputs": [],
   "source": [
    "colnames(data_covariates)"
   ]
  },
  {
   "cell_type": "code",
   "execution_count": null,
   "metadata": {
    "tags": []
   },
   "outputs": [],
   "source": [
    "table1_columns = c( # 38 clinical predictors\n",
    "    # basics\n",
    "    \"age\", \n",
    "    \"sex\", \n",
    "    \"ethnic_background\",# # added\n",
    "   # \"education_years\",\n",
    "    'smoking_status', # current smoker\n",
    "    #'alcohol_intake_frequency', # 'Daily or almost daily'\n",
    "  #  \"daily_physical_activity\",\n",
    "\n",
    "    #\"daily_healthy_food\",\n",
    "    \n",
    "    # family history\n",
    "   # \"fh_diabetes\",\n",
    "    \n",
    "    # diagnoses\n",
    "   # \"diabetes2\",\n",
    "        \n",
    "    # physical\n",
    "    #\"weight\", \n",
    "    #\"standing_height\", \n",
    "    \"bmi\",\n",
    "   # 'waist_hip_ratio',\n",
    "    #\"waist_circumference\",\n",
    "    \"systolic_blood_pressure\",\n",
    "    \n",
    "    # lipids\n",
    "    \"cholesterol\", \n",
    "    #\"ldl_direct\", \n",
    "    \"hdl_cholesterol\"\n",
    "    #\"triglycerides\",\n",
    "    \n",
    "    # diabetes\n",
    "    #'glucose'\n",
    "   # 'glycated_haemoglobin_hba1c',\n",
    "    \n",
    "    # kidney\n",
    "  #  'creatinine',\n",
    "  #  'cystatin_c',\n",
    "  #  'urea',\n",
    "  #  'urate',\n",
    "        \n",
    "    # liver\n",
    "  #  'aspartate_aminotransferase',\n",
    "  #  'alanine_aminotransferase',\n",
    "   # 'alkaline_phosphatase',\n",
    "   # 'albumin',\n",
    "    \n",
    "    # inflammation\n",
    "   # 'creactive_protein',\n",
    "    \n",
    "    # Blood counts\n",
    "   # 'red_blood_cell_erythrocyte_count',\n",
    "   # 'white_blood_cell_leukocyte_count',\n",
    "   # 'platelet_count',\n",
    "   # 'haemoglobin_concentration',\n",
    "   # 'haematocrit_percentage',\n",
    "   #     'mean_corpuscular_volume',\n",
    "   # 'mean_corpuscular_haemoglobin',\n",
    "  #  'mean_corpuscular_haemoglobin_concentration',\n",
    "    \n",
    "    # medications\n",
    "  #  'antihypertensives'\n",
    "        )"
   ]
  },
  {
   "cell_type": "markdown",
   "metadata": {},
   "source": [
    "# Baseline Characteristics - Table 1"
   ]
  },
  {
   "cell_type": "code",
   "execution_count": null,
   "metadata": {
    "tags": []
   },
   "outputs": [],
   "source": [
    "table_data = data_covariates %>% select(all_of(table1_columns))"
   ]
  },
  {
   "cell_type": "code",
   "execution_count": null,
   "metadata": {
    "tags": []
   },
   "outputs": [],
   "source": [
    "table_data"
   ]
  },
  {
   "cell_type": "code",
   "execution_count": null,
   "metadata": {
    "tags": []
   },
   "outputs": [],
   "source": [
    "library(gtsummary)\n",
    "table1 = table_data %>% \n",
    "    tbl_summary(by=\"sex\", \n",
    "                label=list(\n",
    "                    age ~\"Age (years)\",\n",
    "                    ethnic_background ~\"Ethnicity\",\n",
    "                    smoking_status ~ \"Smoking status\",\n",
    "                    #alcohol_intake_frequency ~ \"Daily Alcohol Intake\",\n",
    "                    bmi ~ \"Body Mass Index\",\n",
    "                    systolic_blood_pressure ~ \"Systolic Blood Pressure (mmHg)\",\n",
    "                    cholesterol ~\"Total Cholesterol (mmol/l)\",\n",
    "                    hdl_cholesterol ~ \"HDL Cholesterol (mmol/l)\"\n",
    "                ),\n",
    "                missing=\"ifany\") %>% \n",
    "    add_overall(last=TRUE) %>% \n",
    "    bold_labels()"
   ]
  },
  {
   "cell_type": "code",
   "execution_count": null,
   "metadata": {
    "tags": []
   },
   "outputs": [],
   "source": [
    "library(gt)\n",
    "plot_name = \"Table1\"\n",
    "table1 %>% as_gt() %>% \n",
    "    #opt_align_table_header(align = \"left\") %>% \n",
    "    gt::gtsave(glue(\"outputs/{plot_name}.html\"))\n",
    "#table1 %>% as_gt()  %>% tab_header(title = \"Table 1\") %>% \n",
    "#    #opt_align_table_header(align = \"left\") %>%\n",
    " #   gt::gtsave(glue(\"{figure_path}/{plot_name}.html\"))"
   ]
  },
  {
   "cell_type": "markdown",
   "metadata": {},
   "source": [
    "# Cumulative Person Years"
   ]
  },
  {
   "cell_type": "code",
   "execution_count": null,
   "metadata": {
    "tags": []
   },
   "outputs": [],
   "source": [
    "data_outcomes %>% summarise(median_yeasr = median(OMOP_4306655_time), sum_years=sum(OMOP_4306655_time))"
   ]
  },
  {
   "cell_type": "markdown",
   "metadata": {},
   "source": [
    "# Endpoint Characteristics"
   ]
  },
  {
   "cell_type": "code",
   "execution_count": null,
   "metadata": {
    "tags": []
   },
   "outputs": [],
   "source": [
    "library(data.table)\n",
    "endpoints_md = fread(glue(\"{experiment_path}/endpoints.csv\"), colClasses = c(\"phecode\"=\"character\"))\n",
    "endpoints = sort(endpoints_md$endpoint)"
   ]
  },
  {
   "cell_type": "code",
   "execution_count": null,
   "metadata": {
    "tags": []
   },
   "outputs": [],
   "source": [
    "endpoint_selection = c(\n",
    "    \"phecode_008\",\n",
    "    \"phecode_092-2\",\n",
    "    \"phecode_105\",\n",
    "    \"phecode_107-2\",\n",
    "    \"phecode_164\",\n",
    "    \"phecode_202-2\",\n",
    "    \"phecode_284\",\n",
    "    \"phecode_292\",\n",
    "    \"phecode_324-11\",\n",
    "    \"phecode_328\",\n",
    "    \"phecode_371\",\n",
    "    \"phecode_401\",\n",
    "    \"phecode_404\",\n",
    "    \"phecode_424\",\n",
    "    \"phecode_440-11\",\n",
    "    \"phecode_468\",\n",
    "    \"phecode_474\",\n",
    "    \"phecode_522-1\",\n",
    "    \"phecode_542-1\",\n",
    "    \"phecode_581-1\",\n",
    "    \"phecode_583\",\n",
    "    \"phecode_665\",\n",
    "    \"phecode_705-1\",\n",
    "    \"OMOP_4306655\"  \n",
    "    )"
   ]
  },
  {
   "cell_type": "code",
   "execution_count": null,
   "metadata": {
    "tags": []
   },
   "outputs": [],
   "source": [
    "endpoint_defs = arrow::read_feather(glue(\"{output_path}/phecode_defs_220306.feather\")) %>% arrange(endpoint)"
   ]
  },
  {
   "cell_type": "code",
   "execution_count": null,
   "metadata": {
    "tags": []
   },
   "outputs": [],
   "source": [
    "endpoint_defs = endpoint_defs %>% \n",
    "    mutate(name = phecode_string) %>% \n",
    "    mutate(name = \n",
    "           case_when( \n",
    "               endpoint == \"phecode_008\"~\"H. pylori\", \n",
    "               endpoint == \"phecode_092-2\"~\"Sepsis\", \n",
    "               endpoint == \"phecode_105\"~\"Breast cancer\", \n",
    "                endpoint == \"phecode_107-2\"~\"Prostate cancer\", \n",
    "               endpoint == \"phecode_123\"~\"Malignant plasma cell neoplasms\", \n",
    "               endpoint == \"phecode_164\"~\"Anemia\", \n",
    "               endpoint == \"phecode_200-1\"~\"Hypothyroidism\", \n",
    "               endpoint == \"phecode_232\"~\"Vitamin deficiencies\", \n",
    "               endpoint == \"phecode_284\"~\"Suicide attempt or self harm\", \n",
    "               #endpoint == \"phecode_287-5\"~\"Drug-induced psychosis\", \n",
    "               endpoint == \"phecode_324-11\"~\"Parkinson's\",\n",
    "               endpoint == \"phecode_328\"~\"Dementia\", \n",
    "               #endpoint == \"phecode_404\"~\"Coronary heart disease\", \n",
    "               endpoint == \"phecode_424\"~\"Heart failure\", \n",
    "               endpoint == \"phecode_440-11\"~\"Deep vein thrombosis\", \n",
    "               endpoint == \"phecode_468\"~\"Pneumonia\", \n",
    "               endpoint == \"phecode_474\"~\"COPD\", \n",
    "               endpoint == \"phecode_518\"~\"Appendicitis\", \n",
    "               endpoint == \"phecode_542-1\"~\"Fibrosis and cirrhosis of liver\", \n",
    "               endpoint == \"phecode_583\"~\"Chronic kidney disease\", \n",
    "               endpoint == \"phecode_705-1\"~\"Rheumatoid arthritis\", \n",
    "               endpoint == \"phecode_908-1\"~\"(Pre)eclampsia\", \n",
    "               #endpoint == \"phecode_976\"~\"Complication of anesthesia\",\n",
    "               TRUE ~ name)\n",
    "           )\n",
    "\n",
    "endpoint_map = endpoint_defs$name\n",
    "names(endpoint_map) =  endpoint_defs$endpoint\n",
    "endpoint_order = (endpoint_defs %>% arrange(as.numeric(phecode)))$endpoint"
   ]
  },
  {
   "cell_type": "code",
   "execution_count": null,
   "metadata": {
    "tags": []
   },
   "outputs": [],
   "source": [
    "icd_to_phecode_map = fread(\"/sc-projects/sc-proj-ukb-cvd/data/mapping/phecodes/ICD10_to_phecode_V2.csv\", \n",
    "                           colClasses = c(\"phecode\"=\"character\")) %>%\n",
    "     group_by(phecode) %>% summarise(ICD = str_c(icd10, collapse=\", \"))"
   ]
  },
  {
   "cell_type": "code",
   "execution_count": null,
   "metadata": {
    "tags": []
   },
   "outputs": [],
   "source": [
    "endpoint_summary = endpoints_md %>% \n",
    "    #filter(endpoint %in% endpoint_selection) %>% \n",
    "    select(phecode, phecode_string, eligable, n, freq) %>%\n",
    "    left_join(icd_to_phecode_map)"
   ]
  },
  {
   "cell_type": "code",
   "execution_count": null,
   "metadata": {
    "tags": []
   },
   "outputs": [],
   "source": [
    "endpoint_summary %>% write_csv(\"outputs/endpoints.csv\")"
   ]
  },
  {
   "cell_type": "markdown",
   "metadata": {},
   "source": [
    "## Predictors"
   ]
  },
  {
   "cell_type": "code",
   "execution_count": null,
   "metadata": {},
   "outputs": [],
   "source": [
    "predictor_defs = arrow::read_feather(\"/sc-projects/sc-proj-ukb-cvd/data/2_datasets_pre/211110_anewbeginning/artifacts/record_frequencies_220627.feather\")"
   ]
  },
  {
   "cell_type": "code",
   "execution_count": null,
   "metadata": {
    "tags": []
   },
   "outputs": [],
   "source": [
    "predictor_defs %>% filter(concept_id==concept_id) %>% arrange(domain_id, concept_class_id, concept_id) %>% filter(n>=50) %>% \n",
    "    select(domain_id, concept_class_id, concept_id, concept_name, n) %>% write_csv(\"outputs/concept_ids.csv\")"
   ]
  },
  {
   "cell_type": "code",
   "execution_count": null,
   "metadata": {},
   "outputs": [],
   "source": [
    "data_covariates "
   ]
  },
  {
   "cell_type": "code",
   "execution_count": null,
   "metadata": {},
   "outputs": [],
   "source": []
  }
 ],
 "metadata": {
  "hide_input": false,
  "kernelspec": {
   "display_name": "R [conda env:r_env]",
   "language": "R",
   "name": "conda-env-r_env-r"
  },
  "language_info": {
   "codemirror_mode": "r",
   "file_extension": ".r",
   "mimetype": "text/x-r-source",
   "name": "R",
   "pygments_lexer": "r",
   "version": "4.0.2"
  },
  "toc-autonumbering": true,
  "toc-showcode": false,
  "toc-showmarkdowntxt": true
 },
 "nbformat": 4,
 "nbformat_minor": 4
}