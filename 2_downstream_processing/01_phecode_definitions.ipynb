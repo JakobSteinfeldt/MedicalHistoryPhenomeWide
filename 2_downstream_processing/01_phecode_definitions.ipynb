{
 "cells": [
  {
   "cell_type": "code",
   "execution_count": null,
   "metadata": {
    "execution": {
     "iopub.execute_input": "2023-04-26T09:05:26.775459Z",
     "iopub.status.busy": "2023-04-26T09:05:26.773404Z",
     "iopub.status.idle": "2023-04-26T09:05:30.716085Z",
     "shell.execute_reply": "2023-04-26T09:05:30.714702Z"
    }
   },
   "outputs": [],
   "source": [
    "#library(Rmisc)\n",
    "library(dtplyr)\n",
    "library(tidyverse)\n",
    "library(glue)\n",
    "library(arrow)\n",
    "library(patchwork)\n",
    "library(data.table)\n",
    "library(\"jsonlite\")\n",
    "library(ggthemes)"
   ]
  },
  {
   "cell_type": "code",
   "execution_count": null,
   "metadata": {
    "execution": {
     "iopub.execute_input": "2023-04-26T09:05:30.748719Z",
     "iopub.status.busy": "2023-04-26T09:05:30.717800Z",
     "iopub.status.idle": "2023-04-26T09:05:30.763577Z",
     "shell.execute_reply": "2023-04-26T09:05:30.762552Z"
    }
   },
   "outputs": [],
   "source": [
    "if (grepl(\"sc\", Sys.info()[[\"nodename\"]], fixed=TRUE)) {\n",
    "    base_path = \"/sc-projects/sc-proj-ukb-cvd\"\n",
    "} else {\n",
    "    base_path = \"/data/analysis/ag-reils/ag-reils-shared/cardioRS\"}\n",
    "print(base_path)\n",
    "\n",
    "project_label=\"22_medical_records\"\n",
    "project_path = glue(\"{base_path}/results/projects/{project_label}\")\n",
    "figure_path = glue(\"{project_path}/figures\")\n",
    "output_path = glue(\"{project_path}/data\")"
   ]
  },
  {
   "cell_type": "code",
   "execution_count": null,
   "metadata": {
    "execution": {
     "iopub.execute_input": "2023-04-26T09:05:30.765871Z",
     "iopub.status.busy": "2023-04-26T09:05:30.765048Z",
     "iopub.status.idle": "2023-04-26T09:05:31.051665Z",
     "shell.execute_reply": "2023-04-26T09:05:31.050487Z"
    }
   },
   "outputs": [],
   "source": [
    "phecode_defs_path = \"/sc-projects/sc-proj-ukb-cvd/data/mapping/phecodes/phecode_strings_V2.csv\"\n",
    "phecode_defs = fread(phecode_defs_path, colClasses=c(\"character\", \"character\", \"character\", \"character\", \"integer\", \"character\", \"integer\"))#, dtype={\"phecode\": str}).sort_values(\"phecode\")\n",
    "phecode_defs = phecode_defs %>% add_row(phecode = \"4306655\", phecode_string = \"All-Cause Death\", phecode_category = \"Death\", sex=\"Both\")\n",
    "phecode_defs = phecode_defs %>% as_tibble %>% separate(phecode, into=c(\"first\", \"second\"), remove=FALSE) %>% \n",
    "    mutate(comb = str_remove_all(glue(\"{first}-{second}\"), \"-NA\")) %>%\n",
    "    mutate(endpoint=case_when(comb == \"4306655\" ~ glue(\"OMOP_{comb}\"),\n",
    "                              TRUE ~ glue(\"phecode_{comb}\"))) %>%\n",
    "    select(phecode, endpoint, everything(), -first, -second, -comb) "
   ]
  },
  {
   "cell_type": "code",
   "execution_count": null,
   "metadata": {
    "execution": {
     "iopub.execute_input": "2023-04-26T09:05:40.795722Z",
     "iopub.status.busy": "2023-04-26T09:05:40.794696Z",
     "iopub.status.idle": "2023-04-26T09:05:40.875707Z",
     "shell.execute_reply": "2023-04-26T09:05:40.874486Z"
    }
   },
   "outputs": [],
   "source": [
    "phecode_defs %>% write_feather(glue(\"{output_path}/phecode_defs_220306.feather\"))"
   ]
  }
 ],
 "metadata": {
  "interpreter": {
   "hash": "7fb005937abf8310e947cacdef9aa24b4c9570846765db425bfb20f46bc066c7"
  },
  "kernelspec": {
   "display_name": "R [conda env:r_env]",
   "language": "R",
   "name": "conda-env-r_env-r"
  },
  "language_info": {
   "codemirror_mode": "r",
   "file_extension": ".r",
   "mimetype": "text/x-r-source",
   "name": "R",
   "pygments_lexer": "r",
   "version": "4.0.2"
  }
 },
 "nbformat": 4,
 "nbformat_minor": 4
}
