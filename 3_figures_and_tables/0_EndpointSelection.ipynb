{
 "cells": [
  {
   "cell_type": "markdown",
   "metadata": {},
   "source": [
    "# Benchmarks"
   ]
  },
  {
   "cell_type": "markdown",
   "metadata": {},
   "source": [
    "## Initialize"
   ]
  },
  {
   "cell_type": "code",
   "execution_count": null,
   "metadata": {
    "ExecuteTime": {
     "end_time": "2021-01-05T11:03:09.852316Z",
     "start_time": "2021-01-05T11:03:07.701Z"
    },
    "tags": []
   },
   "outputs": [],
   "source": [
    "#library(Rmisc)\n",
    "library(dtplyr)\n",
    "library(tidyverse)\n",
    "library(glue)\n",
    "library(arrow)\n",
    "library(patchwork)\n",
    "library(data.table)\n",
    "library(\"jsonlite\")\n",
    "library(ggthemes)"
   ]
  },
  {
   "cell_type": "code",
   "execution_count": null,
   "metadata": {
    "ExecuteTime": {
     "end_time": "2021-01-05T11:03:10.491477Z",
     "start_time": "2021-01-05T11:03:10.445Z"
    },
    "tags": []
   },
   "outputs": [],
   "source": [
    "if (grepl(\"sc\", Sys.info()[[\"nodename\"]], fixed=TRUE)) {\n",
    "    base_path = \"/sc-projects/sc-proj-ukb-cvd\"\n",
    "} else {\n",
    "    base_path = \"/data/analysis/ag-reils/ag-reils-shared/cardioRS\"}\n",
    "print(base_path)\n",
    "\n",
    "project_label=\"22_medical_records\"\n",
    "project_path = glue(\"{base_path}/results/projects/{project_label}\")\n",
    "figure_path = glue(\"{project_path}/figures\")\n",
    "output_path = glue(\"{project_path}/data\")\n",
    "\n",
    "experiment = 220613\n",
    "experiment_path = glue(\"{output_path}/{experiment}\")"
   ]
  },
  {
   "cell_type": "code",
   "execution_count": null,
   "metadata": {
    "tags": []
   },
   "outputs": [],
   "source": [
    "endpoints_md = fread(glue(\"{output_path}/220531/endpoints.csv\"), colClasses = c(\"phecode\"=\"character\")) %>% \n",
    "    select(-ICD10_only, -phecode_top, -leaf) %>% as_tibble()\n",
    "endpoints = sort(endpoints_md$endpoint)"
   ]
  },
  {
   "cell_type": "code",
   "execution_count": null,
   "metadata": {
    "tags": []
   },
   "outputs": [],
   "source": [
    "name = \"benchmarks_cindex_220615\"\n",
    "benchmark_endpoints = arrow::read_feather(glue(\"{experiment_path}/{name}.feather\"))# %>% left_join(endpoint_defs) "
   ]
  },
  {
   "cell_type": "code",
   "execution_count": null,
   "metadata": {
    "tags": []
   },
   "outputs": [],
   "source": [
    "benchmark_clean = benchmark_endpoints %>% \n",
    "    filter(score %in% c(\"Age+Sex\", \"Age+Sex+MedicalHistory\")) %>% \n",
    "    pivot_wider(names_from=\"score\", values_from=\"cindex\") %>% \n",
    "    mutate(delta=`Age+Sex+MedicalHistory`-`Age+Sex`)\n",
    "benchmark_agg = benchmark_clean %>% group_by(endpoint) %>% summarise(across(all_of(c(\"Age+Sex+MedicalHistory\", \"Age+Sex\", \"delta\")), ~ median(.)))"
   ]
  },
  {
   "cell_type": "code",
   "execution_count": null,
   "metadata": {
    "tags": []
   },
   "outputs": [],
   "source": [
    "do_md = endpoints_md %>% #mutate(endpoint = as.character(endpoint)) %>%\n",
    "    left_join(benchmark_agg) %>% as_tibble()"
   ]
  },
  {
   "cell_type": "code",
   "execution_count": null,
   "metadata": {
    "tags": []
   },
   "outputs": [],
   "source": [
    "## cardio endpoints with interventions\n",
    "\n",
    "options(repr.matrix.max.rows=600, repr.matrix.max.cols=200)\n",
    "do_md %>% \n",
    "    #filter(str_detect(phecode_category, \"Cardio\")) %>%\n",
    "    #filter(str_detect(phecode_string, \"aneurysm\")) %>%\n",
    "    filter(str_detect(phecode, \"438\")) %>%\n",
    "    #filter(!str_detect(phecode, \"\\\\.\")) %>%\n",
    "#filter(freq>0.001) %>%\n",
    "    #filter(str_detect(phecode_string, \"Embolism\")) %>%\n",
    "    #sample_n(10) \n",
    "    #filter(delta>0.05) %>% \n",
    "    arrange(desc(freq)) #%>% arrange(desc(delta))\n",
    "    #arrange(desc(ratio))"
   ]
  },
  {
   "cell_type": "raw",
   "metadata": {
    "execution": {
     "iopub.execute_input": "2022-06-16T15:36:38.502203Z",
     "iopub.status.busy": "2022-06-16T15:36:38.501351Z",
     "iopub.status.idle": "2022-06-16T15:36:38.690161Z",
     "shell.execute_reply": "2022-06-16T15:36:38.689116Z"
    },
    "jupyter": {
     "source_hidden": true
    },
    "tags": []
   },
   "source": [
    "## very good endpoints without formal risk stratification tools\n",
    "\n",
    "options(repr.matrix.max.rows=100, repr.matrix.max.cols=200)\n",
    "do_md %>% \n",
    "    #filter(str_detect(phecode_category, \"Cardio\")) %>%\n",
    "   # filter(!str_detect(phecode, \"\\\\.\"))# %>%\n",
    "filter(freq>0.001) %>%\n",
    "    #filter(str_detect(phecode_string, \"Embolism\")) %>%\n",
    "    #sample_n(10) \n",
    "    arrange(desc(delta)) %>% head(200) %>% tail(100)\n",
    "    #arrange(desc(ratio))"
   ]
  },
  {
   "cell_type": "code",
   "execution_count": null,
   "metadata": {
    "tags": []
   },
   "outputs": [],
   "source": [
    "unique(do_md$phecode_category)"
   ]
  },
  {
   "cell_type": "code",
   "execution_count": null,
   "metadata": {
    "tags": []
   },
   "outputs": [],
   "source": [
    "endpoint_selection_order = c(\n",
    "    \n",
    "        \"Hypertension\", # intervention\n",
    "        \"Diabetes mellitus\", # intervention\n",
    "        \"Atrial fibrillation\", # intervention\n",
    "        \"Ischemic heart disease\",\n",
    "        \"Myocardial infarction [Heart attack]\", # intervention\n",
    "        \"Cerebral infarction [Ischemic stroke]\",\n",
    "        \"Heart failure\", # intervention\n",
    "        \"Pneumonia\", # intervention\n",
    "        \"Chronic obstructive pulmonary disease [COPD]\", # interventio\n",
    "        \"Chronic kidney disease\", # intervention\n",
    "        \"Cardiac arrest\", # intervention\n",
    "        \"All-Cause Death\", # intervention\n",
    "                \n",
    "        \"Aortic stenosis\", # intervention\n",
    "        \"Mitral valve insufficiency\",\n",
    "        \"Endocarditis\",\n",
    "        \"Pulmonary embolism\", # intervention\n",
    "        \"Abdominal aortic aneurysm\",\n",
    "        \"Rheumatic fever and chronic rheumatic heart diseases\",\t\n",
    "        \n",
    "        \"Back pain\", # intervention\n",
    "        \"Anemia\", # intervention\n",
    "        \"Rheumatoid arthritis\", # NEW + interventio\n",
    "        \"Psoriasis\", # interesting\n",
    "        \"Parkinson's disease (Primary)\",\n",
    "        \"Suicide ideation and attempt or self harm\" # intervention\n",
    ")\n",
    "\n",
    "endpoint_selection = do_md %>% \n",
    "    filter(phecode_string %in% endpoint_selection_order) %>%\n",
    "    arrange(as.numeric(phecode)) %>%\n",
    "    mutate(phecode_string=factor(phecode_string, levels=endpoint_selection_order)) %>% \n",
    "    arrange(phecode_string)\n",
    "endpoint_selection"
   ]
  },
  {
   "cell_type": "code",
   "execution_count": null,
   "metadata": {
    "tags": []
   },
   "outputs": [],
   "source": [
    "cat(paste0(\"'\", endpoint_selection$endpoint, \"'\\n\"))"
   ]
  },
  {
   "cell_type": "code",
   "execution_count": null,
   "metadata": {},
   "outputs": [],
   "source": [
    "unique(do_md$phecode_category)"
   ]
  },
  {
   "cell_type": "code",
   "execution_count": null,
   "metadata": {},
   "outputs": [],
   "source": [
    "do_md %>% \n",
    "    #filter(leaf==0) %>%\n",
    "    filter(delta<0.02) %>%\n",
    "    arrange(delta)# %>% \n",
    "    #filter(str_detect(phecode_string, \"ardio\"))\n",
    "    #filter(phecode_category == \"Resp\")"
   ]
  }
 ],
 "metadata": {
  "hide_input": false,
  "kernelspec": {
   "display_name": "R [conda env:r_env]",
   "language": "R",
   "name": "conda-env-r_env-r"
  },
  "language_info": {
   "codemirror_mode": "r",
   "file_extension": ".r",
   "mimetype": "text/x-r-source",
   "name": "R",
   "pygments_lexer": "r",
   "version": "4.0.2"
  },
  "toc-autonumbering": false
 },
 "nbformat": 4,
 "nbformat_minor": 4
}
