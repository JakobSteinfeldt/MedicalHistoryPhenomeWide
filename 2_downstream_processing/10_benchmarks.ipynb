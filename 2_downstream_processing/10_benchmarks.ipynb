{
 "cells": [
  {
   "cell_type": "markdown",
   "metadata": {},
   "source": [
    "# Benchmark Models"
   ]
  },
  {
   "cell_type": "code",
   "execution_count": null,
   "metadata": {
    "execution": {
     "iopub.execute_input": "2023-05-04T06:53:36.114989Z",
     "iopub.status.busy": "2023-05-04T06:53:36.114820Z",
     "iopub.status.idle": "2023-05-04T06:53:42.936707Z",
     "shell.execute_reply": "2023-05-04T06:53:42.936101Z",
     "shell.execute_reply.started": "2023-05-04T06:53:36.114970Z"
    },
    "tags": []
   },
   "outputs": [],
   "source": [
    "import os\n",
    "import math\n",
    "import pathlib\n",
    "import numpy as np\n",
    "import pandas as pd\n",
    "from tqdm.auto import tqdm\n",
    "from IPython.display import clear_output\n",
    "import ray\n",
    "\n",
    "import warnings\n",
    "import lifelines\n",
    "from lifelines.utils import CensoringType\n",
    "from lifelines.utils import concordance_index"
   ]
  },
  {
   "cell_type": "code",
   "execution_count": null,
   "metadata": {
    "execution": {
     "iopub.execute_input": "2023-05-04T06:53:42.938237Z",
     "iopub.status.busy": "2023-05-04T06:53:42.937858Z",
     "iopub.status.idle": "2023-05-04T06:53:43.117101Z",
     "shell.execute_reply": "2023-05-04T06:53:43.116452Z",
     "shell.execute_reply.started": "2023-05-04T06:53:42.938217Z"
    },
    "tags": []
   },
   "outputs": [],
   "source": [
    "node = !hostname\n",
    "if \"sc\" in node[0]:\n",
    "    base_path = \"/sc-projects/sc-proj-ukb-cvd\"\n",
    "else: \n",
    "    base_path = \"/data/analysis/ag-reils/ag-reils-shared/cardioRS\"\n",
    "print(base_path)\n",
    "\n",
    "project_label = \"22_medical_records\"\n",
    "project_path = f\"{base_path}/results/projects/{project_label}\"\n",
    "figure_path = f\"{project_path}/figures\"\n",
    "output_path = f\"{project_path}/data\"\n",
    "\n",
    "experiment = 230425\n",
    "experiment_path = f\"{output_path}/{experiment}\"\n",
    "pathlib.Path(experiment_path).mkdir(parents=True, exist_ok=True)"
   ]
  },
  {
   "cell_type": "code",
   "execution_count": null,
   "metadata": {
    "execution": {
     "iopub.execute_input": "2023-04-27T17:08:20.745058Z",
     "iopub.status.busy": "2023-04-27T17:08:20.744618Z",
     "iopub.status.idle": "2023-04-27T17:08:32.324362Z",
     "shell.execute_reply": "2023-04-27T17:08:32.323703Z",
     "shell.execute_reply.started": "2023-04-27T17:08:20.745035Z"
    },
    "tags": []
   },
   "outputs": [],
   "source": [
    "in_path = f\"{experiment_path}/coxph/predictions\"\n",
    "prediction_paths = !ls $in_path\n",
    "predictions = pd.Series(prediction_paths).str.split(\"_\", expand=True)\\\n",
    "    .assign(path = prediction_paths)\\\n",
    "    .assign(endpoint = lambda x: x[0]+\"_\"+x[1])\\\n",
    "    .assign(score = lambda x: x[2])\\\n",
    "    .assign(partition = lambda x: x[3].str.replace(\".feather\", \"\", regex=True).astype(int))\\\n",
    "    [[\"endpoint\", \"score\", \"partition\", \"path\"]].sort_values([\"endpoint\", \"score\", \"partition\"]).reset_index(drop=True)\n",
    "predictions"
   ]
  },
  {
   "cell_type": "code",
   "execution_count": null,
   "metadata": {
    "execution": {
     "iopub.execute_input": "2023-04-27T16:56:27.440468Z",
     "iopub.status.busy": "2023-04-27T16:56:27.440080Z",
     "iopub.status.idle": "2023-04-27T16:56:27.562156Z",
     "shell.execute_reply": "2023-04-27T16:56:27.561745Z",
     "shell.execute_reply.started": "2023-04-27T16:56:27.440449Z"
    },
    "tags": []
   },
   "outputs": [],
   "source": [
    "predictions.score.unique()"
   ]
  },
  {
   "cell_type": "code",
   "execution_count": null,
   "metadata": {
    "execution": {
     "iopub.execute_input": "2023-04-27T16:40:49.312011Z",
     "iopub.status.busy": "2023-04-27T16:40:49.311426Z",
     "iopub.status.idle": "2023-04-27T16:40:49.592237Z",
     "shell.execute_reply": "2023-04-27T16:40:49.591522Z",
     "shell.execute_reply.started": "2023-04-27T16:40:49.311982Z"
    },
    "tags": []
   },
   "outputs": [],
   "source": [
    "predictions.to_feather(f\"{experiment_path}/prediction_paths.feather\")"
   ]
  },
  {
   "cell_type": "markdown",
   "metadata": {},
   "source": [
    "## Submit Benchmark jobs"
   ]
  },
  {
   "cell_type": "code",
   "execution_count": null,
   "metadata": {
    "execution": {
     "iopub.execute_input": "2023-04-27T17:08:32.326081Z",
     "iopub.status.busy": "2023-04-27T17:08:32.325607Z",
     "iopub.status.idle": "2023-04-27T17:08:32.330319Z",
     "shell.execute_reply": "2023-04-27T17:08:32.329690Z",
     "shell.execute_reply.started": "2023-04-27T17:08:32.326060Z"
    },
    "tags": []
   },
   "outputs": [],
   "source": [
    "# %%\n",
    "import datetime\n",
    "import itertools\n",
    "import os\n",
    "import pathlib\n",
    "import re\n",
    "import subprocess\n",
    "\n",
    "import pandas as pd\n",
    "from omegaconf import OmegaConf\n",
    "from tqdm.auto import tqdm\n",
    "\n",
    "# %% codecell\n",
    "USER = \"USER\"  # Anonymized\n",
    "BASE = pathlib.Path(f\"/home/{USER}/code/\")\n",
    "\n",
    "EXPERIMENT_NAME = \"22_medhistory\"  # name under which to store the generated .sh scripts and yamls\n",
    "TEMPLATE_CONFIG = f\"{BASE}/config/\"  # template yaml to use\n",
    "TRAIN_SCRIPT = f\"{BASE}/MedicalHistoryPhenomeWide/2_downstream_processing/10_benchmarks_iteration.py\"\n",
    "ACTIVATE_ENV_CMD = \"\"\"mamba activate ehrgraphs\"\"\"\n",
    "\n",
    "TAG = 230425\n",
    "JOBNAME = \"benchmarks\""
   ]
  },
  {
   "cell_type": "code",
   "execution_count": null,
   "metadata": {
    "execution": {
     "iopub.execute_input": "2023-04-27T17:08:32.331336Z",
     "iopub.status.busy": "2023-04-27T17:08:32.331167Z",
     "iopub.status.idle": "2023-04-27T17:08:32.356570Z",
     "shell.execute_reply": "2023-04-27T17:08:32.356042Z",
     "shell.execute_reply.started": "2023-04-27T17:08:32.331320Z"
    },
    "tags": []
   },
   "outputs": [],
   "source": [
    "TRAIN_SCRIPT"
   ]
  },
  {
   "cell_type": "code",
   "execution_count": null,
   "metadata": {
    "execution": {
     "iopub.execute_input": "2023-04-27T17:08:32.358120Z",
     "iopub.status.busy": "2023-04-27T17:08:32.357773Z",
     "iopub.status.idle": "2023-04-27T17:08:32.375220Z",
     "shell.execute_reply": "2023-04-27T17:08:32.374656Z",
     "shell.execute_reply.started": "2023-04-27T17:08:32.358104Z"
    },
    "tags": []
   },
   "outputs": [],
   "source": [
    "os.makedirs(f\"/home/{USER}/tmp/{EXPERIMENT_NAME}/job_submissions\", exist_ok=True)\n",
    "os.makedirs(f\"/home/{USER}/tmp/{EXPERIMENT_NAME}/job_configs\", exist_ok=True)\n",
    "os.makedirs(f\"/home/{USER}/tmp/{EXPERIMENT_NAME}/job_outputs\", exist_ok=True)"
   ]
  },
  {
   "cell_type": "code",
   "execution_count": null,
   "metadata": {
    "execution": {
     "iopub.execute_input": "2023-04-27T17:08:32.376116Z",
     "iopub.status.busy": "2023-04-27T17:08:32.375967Z",
     "iopub.status.idle": "2023-04-27T17:08:32.389578Z",
     "shell.execute_reply": "2023-04-27T17:08:32.389115Z",
     "shell.execute_reply.started": "2023-04-27T17:08:32.376102Z"
    },
    "tags": []
   },
   "outputs": [],
   "source": [
    "def make_job_script(user, job_name, iteration):\n",
    "\n",
    "    job_script_str = (\n",
    "        f\"\"\"#!/bin/bash\n",
    "\n",
    "#SBATCH --job-name={job_name}  # Specify job name\n",
    "#SBATCH --nodes=1              # Specify number of nodes\n",
    "#SBATCH --mem=485G              # Specify number of nodes\n",
    "#SBATCH --time=1:00:00        # Set a limit on the total run time\n",
    "#SBATCH --tasks-per-node=1\n",
    "#SBATCH --exclusive\n",
    "\n",
    "{ACTIVATE_ENV_CMD}\n",
    "\n",
    "ray start --head --port=6378 --num-cpus 32\n",
    "python {TRAIN_SCRIPT} --iteration {iteration}\"\"\"\n",
    "            )\n",
    "\n",
    "    return job_script_str\n"
   ]
  },
  {
   "cell_type": "code",
   "execution_count": null,
   "metadata": {
    "execution": {
     "iopub.execute_input": "2023-04-27T17:08:32.390458Z",
     "iopub.status.busy": "2023-04-27T17:08:32.390320Z",
     "iopub.status.idle": "2023-04-27T17:08:32.415212Z",
     "shell.execute_reply": "2023-04-27T17:08:32.414392Z",
     "shell.execute_reply.started": "2023-04-27T17:08:32.390445Z"
    },
    "tags": []
   },
   "outputs": [],
   "source": [
    "def submit(path, job_name, job_script, time_stamp=None):\n",
    "    if not time_stamp:\n",
    "        time_stamp = datetime.datetime.now().strftime(\"%Y-%m-%d_%H:%M:%S\")\n",
    "\n",
    "    script_path_long = f\"{path}/{job_name}_{time_stamp}.sh\"\n",
    "\n",
    "    with open(script_path_long, \"w\") as outfile:\n",
    "        outfile.write(job_script)\n",
    "    script_path = f\"{path}/{job_name}.sh\"\n",
    "    try:\n",
    "        os.unlink(script_path)\n",
    "    except FileNotFoundError:  # because we cannot overwrite symlinks directly\n",
    "        pass\n",
    "    os.symlink(os.path.realpath(script_path_long), script_path)\n",
    "\n",
    "    output_path = f\"/home/{USER}/tmp/{EXPERIMENT_NAME}/job_outputs/{job_name}\"\n",
    "\n",
    "    print(job_script)\n",
    "    print(\"\\n\\nSubmission:\\n===========\\n\")\n",
    "    sub_cmd = (\n",
    "        f\"sbatch --error={output_path}_%j_stderr.out --output={output_path}_%j_stdout.out <\"\n",
    "        f\" {script_path}\"\n",
    "    )\n",
    "    print(sub_cmd)\n",
    "\n",
    "    ret = subprocess.run(sub_cmd, shell=True, cwd=os.getcwd(), capture_output=True)\n",
    "    print(ret.stdout.decode())"
   ]
  },
  {
   "cell_type": "code",
   "execution_count": null,
   "metadata": {
    "execution": {
     "iopub.execute_input": "2023-04-27T17:08:32.416560Z",
     "iopub.status.busy": "2023-04-27T17:08:32.416052Z",
     "iopub.status.idle": "2023-04-27T17:08:32.429320Z",
     "shell.execute_reply": "2023-04-27T17:08:32.428688Z",
     "shell.execute_reply.started": "2023-04-27T17:08:32.416540Z"
    },
    "tags": []
   },
   "outputs": [],
   "source": [
    "iterations = [i for i in range(1, 100)]"
   ]
  },
  {
   "cell_type": "code",
   "execution_count": null,
   "metadata": {
    "tags": []
   },
   "outputs": [],
   "source": [
    "import time\n",
    "\n",
    "jobids = []\n",
    "for iteration in iterations:\n",
    "    \n",
    "    job_name = f\"{iteration}_{JOBNAME}\"\n",
    "\n",
    "    job_script = make_job_script(user=USER, job_name=job_name, iteration=iteration)\n",
    "\n",
    "    jobid = submit(\n",
    "        path=f\"/home/{USER}/tmp/{EXPERIMENT_NAME}/job_submissions\",\n",
    "        job_name=job_name,\n",
    "        job_script=job_script,\n",
    "    )\n",
    "\n",
    "    jobids.append(jobid)\n",
    "\n",
    "print(jobids)"
   ]
  },
  {
   "cell_type": "markdown",
   "metadata": {},
   "source": [
    "## Check progress"
   ]
  },
  {
   "cell_type": "code",
   "execution_count": null,
   "metadata": {
    "execution": {
     "iopub.execute_input": "2023-05-04T06:53:43.118324Z",
     "iopub.status.busy": "2023-05-04T06:53:43.117926Z",
     "iopub.status.idle": "2023-05-04T06:53:43.952777Z",
     "shell.execute_reply": "2023-05-04T06:53:43.952268Z",
     "shell.execute_reply.started": "2023-05-04T06:53:43.118306Z"
    },
    "tags": []
   },
   "outputs": [],
   "source": [
    "from pathlib import Path\n",
    "benchmark_paths = paths = list(Path(\"/sc-projects/sc-proj-ukb-cvd/results/projects/22_medical_records/data/230425/benchmarks/\").rglob('*.feather'))\n",
    "\n",
    "benchmarks_df = pd.concat([pd.read_feather(p) for p in benchmark_paths], axis=0)\n",
    "\n",
    "benchmarks_df.value_counts([\"iteration\"]).to_frame().sort_values(\"iteration\")"
   ]
  },
  {
   "cell_type": "code",
   "execution_count": null,
   "metadata": {
    "execution": {
     "iopub.execute_input": "2023-05-04T06:53:47.953788Z",
     "iopub.status.busy": "2023-05-04T06:53:47.953227Z",
     "iopub.status.idle": "2023-05-04T06:53:48.605652Z",
     "shell.execute_reply": "2023-05-04T06:53:48.605022Z",
     "shell.execute_reply.started": "2023-05-04T06:53:47.953769Z"
    },
    "tags": []
   },
   "outputs": [],
   "source": [
    "benchmarks_df.reset_index(drop=True).to_feather(f\"{experiment_path}/benchmarks_cindex_230425.feather\")"
   ]
  },
  {
   "cell_type": "code",
   "execution_count": null,
   "metadata": {},
   "outputs": [],
   "source": [
    "benchmarks_df.groupby([\"score\"]).mean(\"cindex\").sort_values(\"cindex\")"
   ]
  },
  {
   "cell_type": "code",
   "execution_count": null,
   "metadata": {
    "tags": []
   },
   "outputs": [],
   "source": [
    "benchmarks_df.groupby([\"score\"]).mean(\"cindex\").sort_values(\"cindex\")"
   ]
  },
  {
   "cell_type": "code",
   "execution_count": null,
   "metadata": {},
   "outputs": [],
   "source": []
  }
 ],
 "metadata": {
  "kernelspec": {
   "display_name": "Python [conda env:udm]",
   "language": "python",
   "name": "conda-env-udm-py"
  },
  "language_info": {
   "codemirror_mode": {
    "name": "ipython",
    "version": 3
   },
   "file_extension": ".py",
   "mimetype": "text/x-python",
   "name": "python",
   "nbconvert_exporter": "python",
   "pygments_lexer": "ipython3",
   "version": "3.10.9"
  },
  "toc-autonumbering": false
 },
 "nbformat": 4,
 "nbformat_minor": 4
}