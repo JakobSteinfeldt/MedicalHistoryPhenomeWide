{
 "cells": [
  {
   "cell_type": "code",
   "execution_count": null,
   "id": "ba97d7c8",
   "metadata": {
    "execution": {
     "iopub.execute_input": "2023-05-12T09:57:48.511931Z",
     "iopub.status.busy": "2023-05-12T09:57:48.510077Z",
     "iopub.status.idle": "2023-05-12T09:57:51.387781Z",
     "shell.execute_reply": "2023-05-12T09:57:51.386746Z"
    },
    "tags": []
   },
   "outputs": [],
   "source": [
    "library(ggplot2)\n",
    "library(dtplyr)\n",
    "library(tidyverse)\n",
    "library(glue)\n",
    "library(arrow)\n",
    "library(patchwork)\n",
    "library(data.table)\n",
    "library(\"jsonlite\")\n",
    "library(ggthemes)\n",
    "library(stringr)\n",
    "library(ggtext)\n",
    "library(ggdist)"
   ]
  },
  {
   "cell_type": "code",
   "execution_count": null,
   "id": "a8e81549",
   "metadata": {
    "execution": {
     "iopub.execute_input": "2023-05-12T09:57:51.409599Z",
     "iopub.status.busy": "2023-05-12T09:57:51.389177Z",
     "iopub.status.idle": "2023-05-12T09:57:51.419027Z",
     "shell.execute_reply": "2023-05-12T09:57:51.418210Z"
    },
    "tags": []
   },
   "outputs": [],
   "source": [
    "base_path = \"/sc-projects/sc-proj-ukb-cvd/results/projects/22_medical_records/data/220823_allofus/230502_revision\"\n",
    "base_path"
   ]
  },
  {
   "cell_type": "code",
   "execution_count": null,
   "id": "5740c72d",
   "metadata": {
    "execution": {
     "iopub.execute_input": "2023-05-12T09:57:51.421003Z",
     "iopub.status.busy": "2023-05-12T09:57:51.420314Z",
     "iopub.status.idle": "2023-05-12T09:57:51.480460Z",
     "shell.execute_reply": "2023-05-12T09:57:51.479649Z"
    },
    "tags": []
   },
   "outputs": [],
   "source": [
    "base_size = 8\n",
    "title_size = 10\n",
    "facet_size = 9\n",
    "geom_text_size=3\n",
    "theme_set(theme_classic(base_size = base_size) +\n",
    "          theme(strip.background = element_blank(), plot.title=element_text(size=title_size, hjust=0),\n",
    "                strip.text.x = element_text(size = facet_size),axis.title=element_text(size=10), axis.text=element_text(size=8, color=\"black\"),\n",
    "                legend.position=\"bottom\", axis.line = element_line(size = 0.2), axis.ticks=element_line(size=0.2), panel.grid.major.y=element_line()))"
   ]
  },
  {
   "cell_type": "code",
   "execution_count": null,
   "id": "92d1c0d6",
   "metadata": {
    "execution": {
     "iopub.execute_input": "2023-05-12T09:57:51.482368Z",
     "iopub.status.busy": "2023-05-12T09:57:51.481705Z",
     "iopub.status.idle": "2023-05-12T09:57:51.563868Z",
     "shell.execute_reply": "2023-05-12T09:57:51.563060Z"
    },
    "tags": []
   },
   "outputs": [],
   "source": [
    "endpoint_defs = arrow::read_feather(glue(\"{base_path}/phecode_defs_220306.feather\")) %>% arrange(endpoint)\n",
    "endpoints_md = fread(glue(\"{base_path}/endpoints.csv\"), colClasses=c(\"phecode\"=\"character\"))\n",
    "endpoints = sort(endpoints_md$endpoint)\n",
    "\n",
    "glue(\"{base_path}/phecode_defs_220306.feather\")"
   ]
  },
  {
   "cell_type": "code",
   "execution_count": null,
   "id": "b9a74bd8",
   "metadata": {
    "execution": {
     "iopub.execute_input": "2023-05-12T09:57:51.565787Z",
     "iopub.status.busy": "2023-05-12T09:57:51.565116Z",
     "iopub.status.idle": "2023-05-12T09:57:51.575138Z",
     "shell.execute_reply": "2023-05-12T09:57:51.574342Z"
    },
    "tags": []
   },
   "outputs": [],
   "source": [
    "endpoint_map = endpoint_defs$phecode_string\n",
    "names(endpoint_map) =  endpoint_defs$endpoint\n",
    "endpoint_order = (endpoint_defs %>% arrange(as.numeric(phecode)))$endpoint"
   ]
  },
  {
   "cell_type": "code",
   "execution_count": null,
   "id": "45fb8930",
   "metadata": {
    "execution": {
     "iopub.execute_input": "2023-05-12T09:57:51.577051Z",
     "iopub.status.busy": "2023-05-12T09:57:51.576389Z",
     "iopub.status.idle": "2023-05-12T09:57:51.602870Z",
     "shell.execute_reply": "2023-05-12T09:57:51.602086Z"
    },
    "tags": []
   },
   "outputs": [],
   "source": [
    "base_size = 8\n",
    "title_size = 10\n",
    "facet_size = 9\n",
    "geom_text_size=3\n",
    "theme_set(theme_classic(base_size = base_size) +\n",
    "          theme(strip.background = element_blank(), plot.title=element_text(size=title_size, hjust=0),\n",
    "                strip.text.x = element_text(size = facet_size),axis.title=element_text(size=10), axis.text=element_text(size=8, color=\"black\"),\n",
    "                legend.position=\"bottom\", axis.line = element_line(size = 0.2), axis.ticks=element_line(size=0.2), panel.grid.major.y=element_line()))"
   ]
  },
  {
   "cell_type": "code",
   "execution_count": null,
   "id": "eefb4d07",
   "metadata": {
    "execution": {
     "iopub.execute_input": "2023-05-12T09:57:51.604814Z",
     "iopub.status.busy": "2023-05-12T09:57:51.604130Z",
     "iopub.status.idle": "2023-05-12T09:57:51.655622Z",
     "shell.execute_reply": "2023-05-12T09:57:51.654726Z"
    },
    "tags": []
   },
   "outputs": [],
   "source": [
    "endpoint_selection = c(\n",
    "\n",
    "   'phecode_401', #  \"Hypertension\", # intervention\n",
    "    'phecode_202', #  \"Diabetes mellitus\", # intervention\n",
    "    'phecode_416-21', #  \"Atrial fibrillation\", # intervention\n",
    "    'phecode_468', #  \"Pneumonia\", # intervention\n",
    "    'phecode_474', #  \"Chronic obstructive pulmonary disease [COPD]\", # interventio\n",
    "    'phecode_583', #  \"Chronic kidney disease\", # intervention\n",
    "\n",
    "    'phecode_404', #  \"Ischemic heart disease\",\n",
    "    'phecode_404-1', #  \"Myocardial infarction [Heart attack]\", # intervention\n",
    "    'phecode_431-11', #  \"Cerebral infarction [Ischemic stroke]\",\n",
    "    'phecode_424', #  \"Heart failure\", # intervention\n",
    "    'phecode_420', #  \"Cardiac arrest\", # intervention\n",
    "    'OMOP_4306655', #  \"All-Cause Death\", # intervention\n",
    "\n",
    "    'phecode_438-11',   #  \"Abdominal aortic aneurysm\",\n",
    "    'phecode_440-3',#  \"Pulmonary embolism\", # intervention\n",
    "    'phecode_413-21',#  \"Aortic stenosis\", # intervention\n",
    "    'phecode_413-11', #  \"Mitral valve insufficiency\",\n",
    "    'phecode_410-2',#  \"Endocarditis\",\n",
    "    'phecode_400',#  \"Rheumatic fever and chronic rheumatic heart diseases\",\n",
    "\n",
    "    'phecode_164', #  \"Anemia\", # intervention\n",
    "    'phecode_718',  #  \"Back pain\", # intervention\n",
    "    'phecode_324-11', #  \"Parkinson's disease (Primary)\",\n",
    "    'phecode_705-1', #  \"Rheumatoid arthritis\", # NEW + interventio\n",
    "    'phecode_665', #  \"Psoriasis\", # interesting\n",
    "    'phecode_284'#  \"Suicide ideation and attempt or self harm\" # intervention\n",
    ")\n",
    "endpoint_defs = endpoint_defs %>%\n",
    "    mutate(name = phecode_string) %>%\n",
    "    mutate(name =\n",
    "           case_when(\n",
    "               phecode_string == \"Myocardial infarction [Heart attack]\"~\"Myocardial infarction\",\n",
    "               phecode_string == \"Cerebral infarction [Ischemic stroke]\"~\"Ischemic stroke\",\n",
    "               phecode_string == \"Chronic obstructive pulmonary disease [COPD]\"~\"COPD\",\n",
    "               phecode_string == \"Mitral valve insufficiency\"~\"Mitral insufficiency\",\n",
    "               phecode_string == \"Parkinson's disease (Primary)\"~\"Parkinson's\",\n",
    "               phecode_string == \"Suicide ideation and attempt or self harm\"~\"Suicide attempt\",\n",
    "               phecode_string == \"Ischemic heart disease\"~\"Ischemic HD\",\n",
    "               phecode_string == \"Chronic kidney disease\"~\"Chronic KD\",\n",
    "               phecode_string == \"Rheumatic fever and chronic rheumatic heart diseases\"~\"Rheumatic HD\",\n",
    "               phecode_string == \"Abdominal aortic aneurysm\"~\"Abdominal AA\",\n",
    "                  TRUE ~ name)\n",
    "           )\n",
    "\n",
    "endpoint_map = endpoint_defs$name\n",
    "names(endpoint_map) =  endpoint_defs$endpoint\n",
    "#endpoint_order = (endpoint_defs %>% arrange(as.numeric(phecode)))$endpoint\n",
    "endpoint_order = endpoint_selection"
   ]
  },
  {
   "cell_type": "code",
   "execution_count": null,
   "id": "a96f292e",
   "metadata": {
    "execution": {
     "iopub.execute_input": "2023-05-12T09:57:51.657582Z",
     "iopub.status.busy": "2023-05-12T09:57:51.656891Z",
     "iopub.status.idle": "2023-05-12T09:57:51.684387Z",
     "shell.execute_reply": "2023-05-12T09:57:51.683432Z"
    },
    "tags": []
   },
   "outputs": [],
   "source": [
    "name = \"230503_bootstrap_results_revision_ensemble\"\n",
    "benchmark_endpoints = arrow::read_feather(glue(\"{base_path}/{name}.feather\"))"
   ]
  },
  {
   "cell_type": "code",
   "execution_count": null,
   "id": "5b6db891",
   "metadata": {
    "execution": {
     "iopub.execute_input": "2023-05-12T09:57:51.686440Z",
     "iopub.status.busy": "2023-05-12T09:57:51.685728Z",
     "iopub.status.idle": "2023-05-12T09:57:51.951091Z",
     "shell.execute_reply": "2023-05-12T09:57:51.950250Z"
    },
    "tags": []
   },
   "outputs": [],
   "source": [
    "incident_events = read_csv(glue(\"{base_path}/../221011_incident_events.csv\"))\n",
    "incident_events = incident_events %>% rename(endpoint = \"...1\")\n",
    "incident_events = setDT(incident_events)[, endpoint := str_replace(endpoint, \"\\\\.\", \"-\")] %>% as_tibble()"
   ]
  },
  {
   "cell_type": "code",
   "execution_count": null,
   "id": "73f67912",
   "metadata": {
    "execution": {
     "iopub.execute_input": "2023-05-12T09:57:52.226651Z",
     "iopub.status.busy": "2023-05-12T09:57:52.225851Z",
     "iopub.status.idle": "2023-05-12T09:57:52.264151Z",
     "shell.execute_reply": "2023-05-12T09:57:52.263335Z"
    },
    "tags": []
   },
   "outputs": [],
   "source": [
    "incident_events %>% filter(num_incident_events >= 100)"
   ]
  },
  {
   "cell_type": "code",
   "execution_count": null,
   "id": "eb241d86",
   "metadata": {
    "execution": {
     "iopub.execute_input": "2023-05-12T09:57:52.765557Z",
     "iopub.status.busy": "2023-05-12T09:57:52.764839Z",
     "iopub.status.idle": "2023-05-12T09:57:53.773305Z",
     "shell.execute_reply": "2023-05-12T09:57:53.772290Z"
    },
    "tags": []
   },
   "outputs": [],
   "source": [
    "benchmark_endpoints = benchmark_endpoints %>% group_by(endpoint, uuid) %>% filter(all(!is.na(cindex))) %>% ungroup()\n",
    "benchmark_endpoints = setDT(benchmark_endpoints)[, endpoint := str_replace(endpoint, \"\\\\.\", \"-\")] %>% as_tibble()\n",
    "benchmark_endpoints = benchmark_endpoints %>% left_join(endpoints_md)"
   ]
  },
  {
   "cell_type": "code",
   "execution_count": null,
   "id": "27e1bd39",
   "metadata": {
    "execution": {
     "iopub.execute_input": "2023-05-12T09:57:53.775274Z",
     "iopub.status.busy": "2023-05-12T09:57:53.774595Z",
     "iopub.status.idle": "2023-05-12T09:57:53.856992Z",
     "shell.execute_reply": "2023-05-12T09:57:53.856136Z"
    },
    "tags": []
   },
   "outputs": [],
   "source": [
    "benchmark_endpoints"
   ]
  },
  {
   "cell_type": "code",
   "execution_count": null,
   "id": "95bf80da",
   "metadata": {
    "execution": {
     "iopub.execute_input": "2023-05-12T09:57:53.858994Z",
     "iopub.status.busy": "2023-05-12T09:57:53.858279Z",
     "iopub.status.idle": "2023-05-12T09:57:53.918772Z",
     "shell.execute_reply": "2023-05-12T09:57:53.917900Z"
    },
    "tags": []
   },
   "outputs": [],
   "source": [
    "endpoints_sorted = (benchmark_endpoints %>%\n",
    "    filter(score == \"AgeSex+MedicalHistory_UKBBParams\") %>%\n",
    "    group_by(endpoint, score) %>%\n",
    "    summarise(cindex=mean(cindex, na.rm=TRUE)) %>%\n",
    "    arrange(cindex) %>% ungroup())$endpoint"
   ]
  },
  {
   "cell_type": "code",
   "execution_count": null,
   "id": "f0cc3408",
   "metadata": {
    "execution": {
     "iopub.execute_input": "2023-05-12T09:57:53.921048Z",
     "iopub.status.busy": "2023-05-12T09:57:53.920204Z",
     "iopub.status.idle": "2023-05-12T09:57:53.932645Z",
     "shell.execute_reply": "2023-05-12T09:57:53.931873Z"
    },
    "tags": []
   },
   "outputs": [],
   "source": [
    "categories_sorted = (endpoint_defs %>% distinct(phecode_category))$phecode_category"
   ]
  },
  {
   "cell_type": "code",
   "execution_count": null,
   "id": "8cd71685",
   "metadata": {
    "execution": {
     "iopub.execute_input": "2023-05-12T09:57:54.037896Z",
     "iopub.status.busy": "2023-05-12T09:57:54.037238Z",
     "iopub.status.idle": "2023-05-12T09:57:57.924217Z",
     "shell.execute_reply": "2023-05-12T09:57:57.923288Z"
    },
    "tags": []
   },
   "outputs": [],
   "source": [
    "plot_width = 8.25; plot_height=2.5; plot_res = 320\n",
    "options(repr.plot.width = plot_width, repr.plot.height = plot_height, repr.plot.res=plot_res)\n",
    "\n",
    "library(ggtext)\n",
    "library(ggdist)\n",
    "\n",
    "scores_plot = c(\"AgeSex_AoUCPH\", \"AgeSex+MedicalHistory_UKBBParams\")\n",
    "\n",
    "table_2_aou = benchmark_endpoints %>%\n",
    "    filter(score %in% scores_plot) %>%\n",
    "    mutate(score = factor(score, levels=scores_plot)) %>%\n",
    "    mutate(endpoint = factor(endpoint, levels=endpoints_sorted)) %>%\n",
    "    select(c(endpoint, uuid, score, cindex, phecode_category, phecode_string)) %>%\n",
    "    group_by(uuid) %>%\n",
    "    pivot_wider(names_from=score, values_from=cindex) %>%\n",
    "    mutate(delta = `AgeSex+MedicalHistory_UKBBParams`-`AgeSex_AoUCPH`) %>%\n",
    "    rename('Age+Sex+MedicalHistory'='AgeSex+MedicalHistory_UKBBParams') %>%\n",
    "    rename('Age+Sex'='AgeSex_AoUCPH') %>%\n",
    "    pivot_longer(all_of(c(\"Age+Sex\", \"Age+Sex+MedicalHistory\", \"delta\")), names_to=\"type\", values_to=\"cindex\") %>%\n",
    "    group_by(endpoint, phecode_string, phecode_category, type) %>%\n",
    "    median_qi(cindex, .width=1-(0.05/1568)) %>%\n",
    "    mutate(agg = glue(\"{round(cindex, 3)} ({round(.lower, 3)}, {round(.upper, 3)})\")) %>%\n",
    "    ungroup() %>% select(endpoint, phecode_string, phecode_category, type, agg) %>%\n",
    "    pivot_wider(names_from=type, values_from=agg) %>%\n",
    "      mutate(delta2 = str_replace_all(delta, \"\\\\(\", \",\")) %>% mutate(delta2 = str_replace_all(delta2, \"\\\\)\", \"\")) %>% #mutate(delta2 = str_replace_all(delta2, \",\", \" \")) %>%#mutate(delta2 = gsub(\")\", \"\", delta2)) %>%\n",
    "    separate(delta2, into = c(\"delta_median\", \"delta_lower\", \"delta_upper\"), sep = \",\", remove = TRUE, extra = \"merge\") %>%\n",
    "      mutate(delta_median= as.numeric(delta_median),\n",
    "             delta_lower = as.numeric(delta_lower),\n",
    "             delta_upper = as.numeric(delta_upper)) %>%\n",
    "    mutate(sign = case_when(\n",
    "        delta_upper<0 ~ \"-\",\n",
    "        delta_lower>0 ~ \"+\",\n",
    "        TRUE ~ \"ns\")) %>%\n",
    "    select(-delta_upper, -delta_lower) %>% arrange(as.character(endpoint)) %>% \n",
    "    left_join(incident_events, by='endpoint') %>% \n",
    "    filter(num_incident_events >= 100)%>% \n",
    "    rename(delta_agesex_aou=delta, sign_agesex_aou=sign, `Age+Sex_aou`=`Age+Sex`, `Age+Sex+MedicalHistory_aou`=`Age+Sex+MedicalHistory`, delta_median_agesex_aou = delta_median)\n",
    "\n",
    "table_2_aou"
   ]
  },
  {
   "cell_type": "code",
   "execution_count": null,
   "id": "617ef6e9-7d58-4e01-adf1-3c561db477d2",
   "metadata": {
    "execution": {
     "iopub.execute_input": "2023-05-12T09:57:57.926268Z",
     "iopub.status.busy": "2023-05-12T09:57:57.925573Z",
     "iopub.status.idle": "2023-05-12T09:57:57.947901Z",
     "shell.execute_reply": "2023-05-12T09:57:57.947116Z"
    },
    "tags": []
   },
   "outputs": [],
   "source": [
    "table_2_aou %>% group_by(sign_agesex_aou) %>% tally() %>% mutate(freq=n/sum(n))"
   ]
  },
  {
   "cell_type": "code",
   "execution_count": null,
   "id": "f6bc36af-89b6-42ba-88bf-7765b78492b4",
   "metadata": {
    "execution": {
     "iopub.execute_input": "2023-05-12T09:57:57.949795Z",
     "iopub.status.busy": "2023-05-12T09:57:57.949120Z",
     "iopub.status.idle": "2023-05-12T09:57:58.039694Z",
     "shell.execute_reply": "2023-05-12T09:57:58.038748Z"
    },
    "tags": []
   },
   "outputs": [],
   "source": [
    "options(pillar.print_max = Inf)\n",
    "table_2_aou %>% \n",
    "    #select(all_of(c(\"phecode_category\", \"endpoint\", \"phecode_string\", \"Age+Sex\", 'Age+Sex+MedicalHistory', \"delta\", \"sign\"))) %>%\n",
    "    mutate(endpoint = factor(endpoint, levels = endpoints_md$endpoint)) %>% \n",
    "    #filter(endpoint %in% endpoint_selection) %>%\n",
    "    arrange(endpoint) %>% \n",
    "    write_csv(\"outputs/SupplTable9_DiscriminativePerformanceAll-AoU.csv\")"
   ]
  },
  {
   "cell_type": "code",
   "execution_count": null,
   "id": "1321cb61-8685-4e64-91fe-f07fbd4ddaab",
   "metadata": {
    "execution": {
     "iopub.execute_input": "2023-05-12T09:57:58.041678Z",
     "iopub.status.busy": "2023-05-12T09:57:58.040987Z",
     "iopub.status.idle": "2023-05-12T09:57:58.058583Z",
     "shell.execute_reply": "2023-05-12T09:57:58.057782Z"
    },
    "tags": []
   },
   "outputs": [],
   "source": [
    "table_2_ukb = fread(\"outputs/SupplTable5_DiscriminativePerformanceAll.csv\") %>% as_tibble()"
   ]
  },
  {
   "cell_type": "code",
   "execution_count": null,
   "id": "d70c0105-cbb7-4c77-8f1e-676b10e72117",
   "metadata": {
    "execution": {
     "iopub.execute_input": "2023-05-12T09:57:58.060467Z",
     "iopub.status.busy": "2023-05-12T09:57:58.059799Z",
     "iopub.status.idle": "2023-05-12T09:57:58.080682Z",
     "shell.execute_reply": "2023-05-12T09:57:58.079901Z"
    },
    "tags": []
   },
   "outputs": [],
   "source": [
    "table_2_ukb %>% group_by(sign_agesex) %>% tally() %>% mutate(freq=n/sum(n))"
   ]
  },
  {
   "cell_type": "code",
   "execution_count": null,
   "id": "128401c7-651c-4380-be5f-282c19294bc0",
   "metadata": {
    "execution": {
     "iopub.execute_input": "2023-05-12T09:57:58.082593Z",
     "iopub.status.busy": "2023-05-12T09:57:58.081918Z",
     "iopub.status.idle": "2023-05-12T09:57:58.109643Z",
     "shell.execute_reply": "2023-05-12T09:57:58.108834Z"
    },
    "tags": []
   },
   "outputs": [],
   "source": [
    "results_both = table_2_ukb %>% select(endpoint, phecode_string, phecode_category, `Age+Sex`, `Age+Sex+MedicalHistory`, `delta_agesex`, sign_agesex, delta_median_agesex) %>% \n",
    "    left_join(table_2_aou) %>% filter(sign_agesex_aou == sign_agesex_aou) %>%\n",
    "    mutate(sign_agg = glue(\"UKB: {sign_agesex} | AoU: {sign_agesex_aou}\")) %>%\n",
    "    mutate(label = glue(\"{sign_agesex}{sign_agesex_aou}\"))\n",
    "    #mutate(label = case_when(sign_agg == \"UKB: + | AoU: +\" ~ \"++\"))\n",
    "    #mutate(perc_ukb = ntile(delta_median_agesex, 10), perc_aou=ntile(delta_median_agesex_aou, 10)) %>%\n",
    "    \n",
    "    #mutate(sign_agg = case_when(sign_agesex==\"+\" & sign_agesex_aou==\"+\" ~ \"++\",\n",
    "    #                            sign_agesex==\"+\" & sign_agesex_aou==\"-\" ~ \"+-\", \n",
    "    ##                            sign_agesex==\"-\" & sign_agesex_aou==\"+\" ~ \"-+\",\n",
    "    #                            sign_agesex==\"-\" & sign_agesex_aou==\"-\" ~ \"--\",\n",
    "    #                            TRUE ~ \"ns\"\n",
    "    #                           ))"
   ]
  },
  {
   "cell_type": "code",
   "execution_count": null,
   "id": "b4cd4848-ce07-47ec-bc19-0bda271e24c5",
   "metadata": {
    "execution": {
     "iopub.execute_input": "2023-05-12T09:57:58.127765Z",
     "iopub.status.busy": "2023-05-12T09:57:58.127096Z",
     "iopub.status.idle": "2023-05-12T09:57:58.209750Z",
     "shell.execute_reply": "2023-05-12T09:57:58.208793Z"
    },
    "tags": []
   },
   "outputs": [],
   "source": [
    "results_both %>% write_csv(\"outputs/SupplTable8_UKBvsAoU.csv\")"
   ]
  },
  {
   "cell_type": "code",
   "execution_count": null,
   "id": "c695c643-b722-4d6f-97f8-9414e44ffb90",
   "metadata": {
    "execution": {
     "iopub.execute_input": "2023-05-12T09:57:59.238746Z",
     "iopub.status.busy": "2023-05-12T09:57:59.238007Z",
     "iopub.status.idle": "2023-05-12T09:57:59.249268Z",
     "shell.execute_reply": "2023-05-12T09:57:59.248486Z"
    },
    "tags": []
   },
   "outputs": [],
   "source": [
    "#results_both %>% mutate(perc_ukb = ntile(delta_median_agesex, 10), perc_aou=ntile(delta_median_agesex_aou, 10)) %>% group_by(perc_ukb) %>% "
   ]
  },
  {
   "cell_type": "code",
   "execution_count": null,
   "id": "3d380247",
   "metadata": {
    "execution": {
     "iopub.execute_input": "2023-05-12T09:57:59.685646Z",
     "iopub.status.busy": "2023-05-12T09:57:59.684939Z",
     "iopub.status.idle": "2023-05-12T09:57:59.711065Z",
     "shell.execute_reply": "2023-05-12T09:57:59.710296Z"
    },
    "tags": []
   },
   "outputs": [],
   "source": [
    "results_both %>% group_by(sign_agesex, sign_agesex_aou) %>% tally() %>% ungroup() %>% mutate(freq=n/sum(n))"
   ]
  },
  {
   "cell_type": "code",
   "execution_count": null,
   "id": "00d199de-c4b8-43a3-9d89-3ebe70139619",
   "metadata": {
    "execution": {
     "iopub.execute_input": "2023-05-12T09:58:02.640379Z",
     "iopub.status.busy": "2023-05-12T09:58:02.639683Z",
     "iopub.status.idle": "2023-05-12T09:58:02.663023Z",
     "shell.execute_reply": "2023-05-12T09:58:02.662234Z"
    },
    "tags": []
   },
   "outputs": [],
   "source": [
    "results_both %>% group_by(sign_agg) %>% tally() %>% ungroup() %>% mutate(freq=n/sum(n)) %>% arrange(desc(freq))"
   ]
  },
  {
   "cell_type": "code",
   "execution_count": null,
   "id": "7ac2dc08-e511-460d-ba55-a8e4bb6095fa",
   "metadata": {
    "execution": {
     "iopub.execute_input": "2023-05-12T09:58:04.280083Z",
     "iopub.status.busy": "2023-05-12T09:58:04.279360Z",
     "iopub.status.idle": "2023-05-12T09:58:04.286525Z",
     "shell.execute_reply": "2023-05-12T09:58:04.285728Z"
    },
    "tags": []
   },
   "outputs": [],
   "source": [
    "1347+99+54"
   ]
  },
  {
   "cell_type": "code",
   "execution_count": null,
   "id": "46e5409e-cbad-4333-af49-df32c82787bf",
   "metadata": {
    "execution": {
     "iopub.execute_input": "2023-05-12T09:58:04.481121Z",
     "iopub.status.busy": "2023-05-12T09:58:04.480437Z",
     "iopub.status.idle": "2023-05-12T09:58:04.487468Z",
     "shell.execute_reply": "2023-05-12T09:58:04.486698Z"
    },
    "tags": []
   },
   "outputs": [],
   "source": [
    "cor(results_both$delta_median_agesex, results_both$delta_median_agesex_aou, method=\"pearson\")"
   ]
  },
  {
   "cell_type": "code",
   "execution_count": null,
   "id": "a8a4f6b5-48e9-49ae-be02-e4c9774d816f",
   "metadata": {
    "execution": {
     "iopub.execute_input": "2023-05-12T09:58:05.796183Z",
     "iopub.status.busy": "2023-05-12T09:58:05.795491Z",
     "iopub.status.idle": "2023-05-12T09:58:05.995366Z",
     "shell.execute_reply": "2023-05-12T09:58:05.994481Z"
    },
    "tags": []
   },
   "outputs": [],
   "source": [
    "library(ggforce)"
   ]
  },
  {
   "cell_type": "code",
   "execution_count": null,
   "id": "cd45383c-7aa8-4fa2-ae12-31d6f9ed599f",
   "metadata": {
    "execution": {
     "iopub.execute_input": "2023-05-12T09:58:06.623687Z",
     "iopub.status.busy": "2023-05-12T09:58:06.622967Z",
     "iopub.status.idle": "2023-05-12T09:58:07.739226Z",
     "shell.execute_reply": "2023-05-12T09:58:07.738352Z"
    },
    "tags": []
   },
   "outputs": [],
   "source": [
    "plot_width = 5; plot_height=5; plot_res = 600\n",
    "options(repr.plot.width = plot_width, repr.plot.height = plot_height, repr.plot.res=plot_res)\n",
    "\n",
    "aou_all = ggplot(results_both, aes(x=delta_median_agesex, y=delta_median_agesex_aou)) + \n",
    "    labs(x=\"Delta C-Index in UK Biobank\", y=\"Delta C-Index in All of US\", color=\"Significance\")+\n",
    "    coord_cartesian(xlim=c(-0.6, 0.6), ylim=c(-0.6, 0.6))+\n",
    "    geom_abline(alpha=.3)+\n",
    "    geom_hline(yintercept=0, linetype=\"22\", alpha=.3)+\n",
    "    geom_vline(xintercept=0, linetype=\"22\", alpha=.3)+\n",
    "\n",
    "    geom_mark_hull(data = results_both %>% filter(label %in% c(\"++\", \"--\")), \n",
    "                 aes(label = factor(sign_agg), fill=factor(sign_agg), color=factor(sign_agg)), \n",
    "                  show.legend = FALSE, alpha=0.1, size=0.5)+#, radius=0, concavity=2)+#, expand = unit(3, \"mm\")) +\n",
    "    scale_fill_manual(values=c(\"UKB: + | AoU: +\"=\"forestgreen\", \"UKB: - | AoU: -\"=\"firebrick\"))+\n",
    "    scale_color_manual(values=c(\"UKB: + | AoU: +\"=\"forestgreen\", \"UKB: - | AoU: -\"=\"firebrick\"))+\n",
    "    geom_point(data = results_both %>% filter(!label %in% c(\"++\")), color=\"black\", alpha=0.5, size=0.5)+\n",
    "    geom_point(data = results_both %>% filter(label %in% c(\"++\")), color=\"forestgreen\", alpha=0.5, size=0.5)+\n",
    "    geom_point(data = results_both %>% filter(label %in% c(\"--\")), color=\"firebrick\", alpha=0.5, size=0.5)\n",
    "    \n",
    "aou_all\n",
    "    #geom_label(size=1) + \n"
   ]
  },
  {
   "cell_type": "code",
   "execution_count": null,
   "id": "50366df3-0b29-4735-9f5a-9b7e2f644952",
   "metadata": {
    "execution": {
     "iopub.execute_input": "2023-05-12T10:16:25.425369Z",
     "iopub.status.busy": "2023-05-12T10:16:25.424570Z",
     "iopub.status.idle": "2023-05-12T10:16:25.759505Z",
     "shell.execute_reply": "2023-05-12T10:16:25.758674Z"
    },
    "tags": []
   },
   "outputs": [],
   "source": [
    "library(ggrepel)\n",
    "library(ggpubr)\n",
    "\n",
    "plot_width <- 3.25\n",
    "plot_height <- 4.5\n",
    "plot_res <- 600\n",
    "options(repr.plot.width = plot_width, repr.plot.height = plot_height, repr.plot.res = plot_res)\n",
    "\n",
    "temp <- results_both %>%\n",
    "  mutate(quant_ukb = ntile(delta_median_agesex, 100)) %>%\n",
    "  group_by(quant_ukb) %>% \n",
    "  summarise(median_delta_ukb = median(delta_median_agesex),\n",
    "            median_delta_aou = median(delta_median_agesex_aou))\n",
    "\n",
    "aou_perc <- ggplot(temp, aes(x = median_delta_ukb, y = median_delta_aou)) + \n",
    "  labs(x = \"Delta C-Index in UK Biobank\", y = \"Delta C-Index in All of US\", color = \"Percentile of Delta\\nC-Index in UK Biobank\") +\n",
    "  coord_cartesian(xlim = c(-0.4, 0.4), ylim = c(-0.4, 0.4)) +\n",
    "  geom_abline(alpha = 0.3) +\n",
    "  geom_hline(yintercept = 0, linetype = \"22\", alpha = 0.3) +\n",
    "  geom_vline(xintercept = 0, linetype = \"22\", alpha = 0.3) +\n",
    "  geom_point(aes(color = as.numeric(quant_ukb))) +\n",
    "  scale_colour_gradient(low = \"#7AC6FF\", high = \"#023768\", space = \"Lab\", na.value = \"grey50\", guide = \"colourbar\", aesthetics = \"colour\") +              \n",
    "  theme(legend.position = c(0.75, 0.12), legend.direction = \"horizontal\", legend.key.width = unit(0.8, \"cm\")) +\n",
    "  guides(colour = guide_colourbar(title.position = \"top\", title.hjust = 0.5), size = guide_legend(title.position = \"top\", title.hjust = 0.5)) #+ \n",
    "  #stat_cor(method = \"pearson\", label.x = 0, label.y = 0)\n",
    "\n",
    "aou_perc"
   ]
  },
  {
   "cell_type": "raw",
   "id": "3e3bd389-548b-49cf-83b2-d10a1ef54efa",
   "metadata": {
    "execution": {
     "iopub.execute_input": "2023-05-11T09:59:10.936374Z",
     "iopub.status.busy": "2023-05-11T09:59:10.935665Z",
     "iopub.status.idle": "2023-05-11T09:59:10.941952Z",
     "shell.execute_reply": "2023-05-11T09:59:10.941095Z"
    },
    "tags": []
   },
   "source": [
    "plot_width = 5; plot_height=5; plot_res = 600\n",
    "options(repr.plot.width = plot_width, repr.plot.height = plot_height, repr.plot.res=plot_res)\n",
    "\n",
    "library(ggrepel)\n",
    "library(ggpubr)\n",
    "\n",
    "temp = results_both %>%\n",
    "    mutate(quant_ukb = ntile(delta_median_agesex, 100)) %>%\n",
    "    group_by(quant_ukb) %>% \n",
    "    summarise(median_delta_ukb = median(delta_median_agesex),\n",
    "              median_delta_aou = median(delta_median_agesex_aou))\n",
    "\n",
    "aou_perc = ggplot(temp, aes(x=median_delta_ukb, y=median_delta_aou) + \n",
    "    labs(x=\"Delta C-Index in UK Biobank\", y=\"Delta C-Index in All of US\", color=\"Percentile of Delta\\nC-Index in UK Biobank\")+\n",
    "    coord_cartesian(xlim=c(-0.4, 0.4), ylim=c(-0.4, 0.4))+\n",
    "    geom_abline(alpha=.3)+\n",
    "    geom_hline(yintercept=0, linetype=\"22\", alpha=.3)+\n",
    "    geom_vline(xintercept=0, linetype=\"22\", alpha=.3)+\n",
    "    geom_point(aes(color=as.numeric(quant_ukb)))+\n",
    "    scale_colour_gradient(low = \"#7AC6FF\", high = \"#023768\", space = \"Lab\", na.value = \"grey50\", guide = \"colourbar\", aesthetics = \"colour\")+              \n",
    "    theme(legend.position=c(0.78, 0.1), legend.direction=\"horizontal\", legend.key.width = unit(0.8, \"cm\"))+\n",
    "    guides(colour = guide_colourbar(title.position=\"top\", title.hjust = 0.5), size = guide_legend(title.position=\"top\", title.hjust = 0.5))+ \n",
    "    stat_cor(method = \"pearson\", label.x = 3, label.y = 30)"
   ]
  },
  {
   "cell_type": "code",
   "execution_count": null,
   "id": "93db2ec2-592e-4f43-a7ee-bd120b313640",
   "metadata": {
    "execution": {
     "iopub.execute_input": "2023-05-12T10:16:27.095875Z",
     "iopub.status.busy": "2023-05-12T10:16:27.095134Z",
     "iopub.status.idle": "2023-05-12T10:16:28.111963Z",
     "shell.execute_reply": "2023-05-12T10:16:28.110769Z"
    },
    "tags": []
   },
   "outputs": [],
   "source": [
    "plot_width = 10; plot_height=5; plot_res = 600\n",
    "options(repr.plot.width = plot_width, repr.plot.height = plot_height, repr.plot.res=plot_res)\n",
    "\n",
    "aou_bc = aou_all + aou_perc\n",
    "aou_bc"
   ]
  },
  {
   "cell_type": "code",
   "execution_count": null,
   "id": "48d3465f-0feb-4b13-9f46-7a18128c1538",
   "metadata": {
    "execution": {
     "iopub.execute_input": "2023-05-12T09:58:44.778127Z",
     "iopub.status.busy": "2023-05-12T09:58:44.777265Z",
     "iopub.status.idle": "2023-05-12T09:58:46.050468Z",
     "shell.execute_reply": "2023-05-12T09:58:46.049466Z"
    },
    "tags": []
   },
   "outputs": [],
   "source": [
    "plot_name = \"Figure4bc_AoU_details\"\n",
    "aou_bc %>% ggsave(filename=glue(\"outputs/{plot_name}.png\"), device=\"png\", width=plot_width, height=plot_height, dpi=plot_res)\n",
    "aou_bc %>% ggsave(filename=glue(\"outputs/{plot_name}.pdf\"), device=\"pdf\", width=plot_width, height=plot_height, dpi=plot_res)"
   ]
  },
  {
   "cell_type": "code",
   "execution_count": null,
   "id": "8ac04fc8-17b1-42a8-8856-a4f9833ff1dd",
   "metadata": {
    "execution": {
     "iopub.execute_input": "2023-05-12T10:04:55.372590Z",
     "iopub.status.busy": "2023-05-12T10:04:55.371728Z",
     "iopub.status.idle": "2023-05-12T10:04:55.412379Z",
     "shell.execute_reply": "2023-05-12T10:04:55.411577Z"
    },
    "tags": [],
    "vscode": {
     "languageId": "r"
    }
   },
   "outputs": [],
   "source": [
    "results = arrow::read_feather(glue(\"{base_path}/230503_result_ukbbparams_ubr_clean_cindices_ensemble.feather\")) %>% left_join(endpoints_md)"
   ]
  },
  {
   "cell_type": "code",
   "execution_count": null,
   "id": "bf335741-b6d3-4537-bf01-aa428e5aa757",
   "metadata": {
    "execution": {
     "iopub.execute_input": "2023-05-12T10:04:56.781804Z",
     "iopub.status.busy": "2023-05-12T10:04:56.781067Z",
     "iopub.status.idle": "2023-05-12T10:04:56.832370Z",
     "shell.execute_reply": "2023-05-12T10:04:56.831559Z"
    },
    "tags": [],
    "vscode": {
     "languageId": "r"
    }
   },
   "outputs": [],
   "source": [
    "library(gghighlight)"
   ]
  },
  {
   "cell_type": "code",
   "execution_count": null,
   "id": "003c9e06-a7bb-43f5-ac10-230bd46c8d4d",
   "metadata": {
    "execution": {
     "iopub.execute_input": "2023-05-12T10:12:43.647471Z",
     "iopub.status.busy": "2023-05-12T10:12:43.646620Z",
     "iopub.status.idle": "2023-05-12T10:12:44.002571Z",
     "shell.execute_reply": "2023-05-12T10:12:44.001752Z"
    },
    "tags": [],
    "vscode": {
     "languageId": "r"
    }
   },
   "outputs": [],
   "source": [
    "base_size = 8\n",
    "title_size = 10\n",
    "facet_size = 9\n",
    "geom_text_size=3\n",
    "theme_set(theme_classic(base_size = base_size) +\n",
    "          theme(strip.background = element_blank(), plot.title=element_text(size=title_size, hjust=0),\n",
    "                strip.text.x = element_text(size = facet_size),axis.title=element_text(size=10), axis.text=element_text(size=8, color=\"black\"),\n",
    "                legend.position=\"bottom\", axis.line = element_line(size = 0.2), axis.ticks=element_line(size=0.2), panel.grid.major.y=element_line()))\n",
    "\n",
    "plot_width = 8.25; plot_height=2.5; plot_res = 320\n",
    "options(repr.plot.width = plot_width, repr.plot.height = plot_height, repr.plot.res=plot_res)\n",
    "\n",
    "#temp = benchmark_endpoints %>%\n",
    "#    filter(score %in% scores_plot) %>%\n",
    "#    mutate(score = factor(score, levels=scores_plot)) %>%\n",
    "#    mutate(endpoint = factor(endpoint, levels=endpoints_sorted)) %>%\n",
    "\n",
    "groups_sorted = c('Entire population', 'No UBR categorization', 'At least one UBR categorization', 'Age >= 65', 'Annual income < $25k', 'Less than high school education', 'Non-white or Hispanic/Latino', 'Sexual and gender minorities')\n",
    "\n",
    "cbbPalette <- c(\"#000000\", \"#D55E00\")\n",
    "\n",
    "annotation_y = results %>% filter(endpoint == 'phecode_420') %>% filter(score == 'Entire population') %>% pull(cindex)\n",
    "results = results %>% \n",
    "  mutate(Group=factor(Group, levels=groups_sorted)) %>%\n",
    "  mutate(\"is_cardiac\" = endpoint == 'phecode_420') %>%\n",
    "  mutate(Endpoint=factor(is_cardiac, labels=c(\"Phenome-wide\", \"Cardiac arrest\"))) %>%\n",
    "  mutate(is_cardiac_dbl = as.numeric(endpoint == 'phecode_420')) %>%\n",
    "  filter(Group != \"At least one UBR categorization\")\n",
    "\n",
    "fig_phenome = results %>%\n",
    "  ggplot(aes(x = Group, y = cindex))+#, color=is_cardiac))+#, scale=1 + is_cardiac_dbl)) +\n",
    "  #stat_halfeye(side='left', scale=0.5) + \n",
    "    stat_pointinterval(size=0.5, alpha=0.7)+\n",
    "  coord_cartesian(ylim=c(0.5, 0.9), clip = \"on\")+\n",
    "  #stat_dotsinterval(side = \"right\", scale = 0.5, slab_size = NA) +\n",
    "  scale_fill_brewer(palette=\"Set1\") + \n",
    "  labs(x=\"Group\", y=\"C-Index\") + \n",
    "    theme(axis.title.x=element_blank(),\n",
    "      panel.grid.major=element_blank(),\n",
    "      strip.text = element_text(angle=270, hjust=1)\n",
    "    ) +\n",
    "    theme(legend.position=\"none\") + \n",
    "    #theme(legend.position = c(0.95, 0.25)) + \n",
    "  scale_x_discrete(labels = function(x) str_wrap(x, width = 5)) +\n",
    "  scale_fill_manual(values=cbbPalette) + \n",
    "  scale_colour_manual(values=cbbPalette)# + \n",
    "  #annotate(geom = \"text\", x = \"Entire population\", y = annotation_y + 0.15, label = \"Cardiac arrest\", hjust = \"left\", size=2)\n",
    "\n",
    "# Create a new data frame with only \"Cardiac arrest\" data\n",
    "cardiac_arrest_data <- results %>%\n",
    "  filter(is_cardiac == TRUE) %>%\n",
    "  mutate(color = \"Cardiac arrest\")\n",
    "\n",
    "# Add the point for \"Cardiac arrest\" with the desired color (orange)\n",
    "fig_phenome <- fig_phenome +\n",
    "  geom_point(data = cardiac_arrest_data, aes(x = Group, y = cindex, color = color), size = 2.5) +\n",
    "  scale_color_manual(\"\", values = c(\"Phenome-wide\" = cbbPalette[1], \"Cardiac arrest\" = \"#D55E00\"), breaks = \"Cardiac arrest\") +\n",
    "  theme(\n",
    "      legend.position = c(0.85, 0.15),\n",
    "      legend.background = element_rect(fill = \"transparent\")\n",
    "  )# +\n",
    "  #guides(color = guide_legend(override.aes = list(shape = c(NA, 19), linetype = c(\"blank\", \"solid\"))))\n",
    "                   \n",
    "                   \n",
    "fig_phenome\n",
    "\n"
   ]
  },
  {
   "cell_type": "code",
   "execution_count": null,
   "id": "0409b442-9d4c-4c6e-976e-c94f4cb7f051",
   "metadata": {
    "execution": {
     "iopub.execute_input": "2023-05-12T10:05:01.639766Z",
     "iopub.status.busy": "2023-05-12T10:05:01.639039Z",
     "iopub.status.idle": "2023-05-12T10:05:01.651640Z",
     "shell.execute_reply": "2023-05-12T10:05:01.650861Z"
    },
    "tags": [],
    "vscode": {
     "languageId": "r"
    }
   },
   "outputs": [],
   "source": [
    "\n",
    "results_cardiac = arrow::read_feather(glue(\"{base_path}/230503_result_ukbbparams_ubr_cardiac_arrest_delta_clean_cindices_revision_ensemble.feather\"))"
   ]
  },
  {
   "cell_type": "code",
   "execution_count": null,
   "id": "10938fe2-7616-49e3-9729-ff6c450010cb",
   "metadata": {
    "execution": {
     "iopub.execute_input": "2023-05-12T10:05:01.894490Z",
     "iopub.status.busy": "2023-05-12T10:05:01.893823Z",
     "iopub.status.idle": "2023-05-12T10:05:01.900865Z",
     "shell.execute_reply": "2023-05-12T10:05:01.900107Z"
    },
    "tags": [],
    "vscode": {
     "languageId": "r"
    }
   },
   "outputs": [],
   "source": [
    "results_cardiac = results_cardiac %>% mutate(Group=score)"
   ]
  },
  {
   "cell_type": "code",
   "execution_count": null,
   "id": "3ef3aab4-941d-4e08-a587-c77c63b666be",
   "metadata": {
    "execution": {
     "iopub.execute_input": "2023-05-12T10:05:02.168973Z",
     "iopub.status.busy": "2023-05-12T10:05:02.168186Z",
     "iopub.status.idle": "2023-05-12T10:05:02.215608Z",
     "shell.execute_reply": "2023-05-12T10:05:02.214781Z"
    },
    "tags": []
   },
   "outputs": [],
   "source": [
    "results_cardiac"
   ]
  },
  {
   "cell_type": "code",
   "execution_count": null,
   "id": "a0d538ce-1bfb-4a0b-b6cb-f68222b26a42",
   "metadata": {
    "execution": {
     "iopub.execute_input": "2023-05-12T10:12:57.538553Z",
     "iopub.status.busy": "2023-05-12T10:12:57.537742Z",
     "iopub.status.idle": "2023-05-12T10:12:57.585937Z",
     "shell.execute_reply": "2023-05-12T10:12:57.585021Z"
    },
    "tags": [],
    "vscode": {
     "languageId": "r"
    }
   },
   "outputs": [],
   "source": [
    "base_size = 8\n",
    "title_size = 10\n",
    "facet_size = 9\n",
    "geom_text_size=3\n",
    "theme_set(theme_classic(base_size = base_size) +\n",
    "          theme(strip.background = element_blank(), plot.title=element_text(size=title_size, hjust=0),\n",
    "                strip.text.x = element_text(size = facet_size),axis.title=element_text(size=10), axis.text=element_text(size=6, color=\"black\"),\n",
    "                legend.position=\"bottom\", axis.line = element_line(size = 0.2), axis.ticks=element_line(size=0.2), panel.grid.major.y=element_line()))\n",
    "\n",
    "plot_width = 4; plot_height=5; plot_res = 320\n",
    "options(repr.plot.width = plot_width, repr.plot.height = plot_height, repr.plot.res=plot_res)\n",
    "\n",
    "groups_sorted = c('Entire population', 'No UBR categorization', 'At least one UBR categorization', 'Age >= 65', 'Annual income < $25k', 'Less than high school education', 'Non-white or Hispanic/Latino', 'Sexual and gender minorities')\n",
    "\n",
    "fig_cardiac = results_cardiac %>% \n",
    "  mutate(Group=factor(Group, levels=groups_sorted)) %>%\n",
    "  #filter(Group != \"Entire population\") %>%\n",
    "  filter(Group != \"At least one UBR categorization\") %>%\n",
    "  ggplot(aes(x = Group, y = delta_cindex)) +\n",
    "    #geom_boxplot(outlier.alpha = 0.25) + \n",
    "    stat_pointinterval(size=0.5, alpha=0.7)+\n",
    "    #geom_signif(\n",
    "    #  comparisons = list(\n",
    "    #    c(\"No UBR categorization\", \"Age >= 65\"), \n",
    "    #    c(\"No UBR categorization\", \"Annual income < $25k\"),\n",
    "    #    c(\"No UBR categorization\", \"Less than high school education\"),\n",
    "    #    c(\"No UBR categorization\", \"Non-white or Hispanic/Latino\"),\n",
    "    #    c(\"No UBR categorization\", \"Sexual and gender minorities\")),\n",
    "    #  map_signif_level = TRUE,\n",
    "    #  test=wilcox.test,\n",
    "    #  step_increase=0.08,\n",
    "    #  vjust=0.5\n",
    "    #) + \n",
    "  coord_cartesian(ylim=c(0, 0.3), clip = \"on\")+\n",
    "  #stat_dotsinterval(side = \"right\", scale = 0.5, slab_size = NA) +\n",
    "  scale_fill_brewer(palette=\"Set1\") + \n",
    "  labs(x=\"Group\", y=\"Delta C-Index\\nover age and sex\") + \n",
    "    theme(axis.title.x=element_blank(),\n",
    "      panel.grid.major=element_blank(),\n",
    "      strip.text = element_text(angle=270, hjust=1)\n",
    "    ) +\n",
    "    theme(legend.position=\"none\") + \n",
    "  scale_x_discrete(labels = function(x) str_wrap(x, width = 5))\n",
    "\n",
    "\n",
    "combined = fig_phenome / fig_cardiac"
   ]
  },
  {
   "cell_type": "code",
   "execution_count": null,
   "id": "35d7014d-4418-4fa9-8995-87640beb36df",
   "metadata": {
    "execution": {
     "iopub.execute_input": "2023-05-12T10:05:11.541900Z",
     "iopub.status.busy": "2023-05-12T10:05:11.541148Z",
     "iopub.status.idle": "2023-05-12T10:05:13.319068Z",
     "shell.execute_reply": "2023-05-12T10:05:13.318054Z"
    },
    "tags": [],
    "vscode": {
     "languageId": "r"
    }
   },
   "outputs": [],
   "source": [
    "plot_name = \"Figure4de_AoU_subgroups\"\n",
    "combined %>% ggsave(filename=glue(\"outputs/{plot_name}.png\"), device=\"png\", width=plot_width, height=plot_height, dpi=plot_res)\n",
    "combined %>% ggsave(filename=glue(\"outputs/{plot_name}.pdf\"), device=\"pdf\", width=plot_width, height=plot_height, dpi=plot_res)"
   ]
  },
  {
   "cell_type": "code",
   "execution_count": null,
   "id": "56900432-21cd-4f27-b76b-f6cadf5dd1dc",
   "metadata": {
    "execution": {
     "iopub.execute_input": "2023-05-12T10:18:36.982098Z",
     "iopub.status.busy": "2023-05-12T10:18:36.981264Z",
     "iopub.status.idle": "2023-05-12T10:18:37.948451Z",
     "shell.execute_reply": "2023-05-12T10:18:37.947615Z"
    },
    "tags": []
   },
   "outputs": [],
   "source": [
    "plot_width = 13; plot_height=5; plot_res = 320\n",
    "options(repr.plot.width = plot_width, repr.plot.height = plot_height, repr.plot.res=plot_res)\n",
    "\n",
    "bcde = aou_bc + combined\n",
    "bcde"
   ]
  },
  {
   "cell_type": "code",
   "execution_count": null,
   "id": "31ef4579-4f5c-4037-abd8-21f7ec5a9ce7",
   "metadata": {
    "execution": {
     "iopub.execute_input": "2023-05-12T10:18:37.950483Z",
     "iopub.status.busy": "2023-05-12T10:18:37.949782Z",
     "iopub.status.idle": "2023-05-12T10:18:39.237583Z",
     "shell.execute_reply": "2023-05-12T10:18:39.236574Z"
    },
    "tags": []
   },
   "outputs": [],
   "source": [
    "plot_name = \"Figure4bcde_AoU_detailsandsubgroups\"\n",
    "bcde %>% ggsave(filename=glue(\"outputs/{plot_name}.png\"), device=\"png\", width=plot_width, height=plot_height, dpi=plot_res)\n",
    "bcde %>% ggsave(filename=glue(\"outputs/{plot_name}.pdf\"), device=\"pdf\", width=plot_width, height=plot_height, dpi=plot_res)"
   ]
  },
  {
   "cell_type": "raw",
   "id": "03c40eb9-c1ab-4863-9b65-304ebabe24ee",
   "metadata": {
    "execution": {
     "iopub.execute_input": "2023-05-11T07:53:34.236806Z",
     "iopub.status.busy": "2023-05-11T07:53:34.236121Z",
     "iopub.status.idle": "2023-05-11T07:53:35.391764Z",
     "shell.execute_reply": "2023-05-11T07:53:35.390845Z"
    },
    "tags": []
   },
   "source": [
    "plot_width = 8.25; plot_height=8.25; plot_res = 600\n",
    "options(repr.plot.width = plot_width, repr.plot.height = plot_height, repr.plot.res=plot_res)\n",
    "\n",
    "temp = results_both\n",
    "\n",
    "ggplot(temp, aes(x=delta_median_agesex, y=delta_median_agesex_aou)) + \n",
    "    labs(x=\"Difference in C-Index in UK Biobank\", y=\"Difference in C-Index in All of US\", color=\"Significance\")+\n",
    "    geom_abline()+\n",
    "    geom_mark_hull(data = results_both %>% filter(label %in% c(\"++\", \"+ns\", \"+-\", \"--\")), aes(label = factor(sign_agg), fill=factor(sign_agg)), show.legend = FALSE)+#, expand = unit(3, \"mm\")) +\n",
    "    geom_point(alpha=1)\n",
    "    \n",
    "    #geom_label(size=1) + "
   ]
  },
  {
   "cell_type": "code",
   "execution_count": null,
   "id": "3e28d990-3a09-4269-9e45-0f41260d76b1",
   "metadata": {
    "execution": {
     "iopub.execute_input": "2023-05-11T08:47:39.106755Z",
     "iopub.status.busy": "2023-05-11T08:47:39.105829Z",
     "iopub.status.idle": "2023-05-11T08:47:39.569932Z",
     "shell.execute_reply": "2023-05-11T08:47:39.569007Z"
    }
   },
   "outputs": [],
   "source": [
    "library(ggrepel)\n",
    "library(ggpubr)\n",
    "\n",
    "plot_width <- 5\n",
    "plot_height <- 5\n",
    "plot_res <- 600\n",
    "options(repr.plot.width = plot_width, repr.plot.height = plot_height, repr.plot.res = plot_res)\n",
    "\n",
    "temp <- results_both %>%\n",
    "  mutate(quant_ukb = ntile(delta_median_agesex, 10)) %>%\n",
    "  group_by(quant_ukb) %>% \n",
    "  summarise(median_delta_ukb = median(delta_median_agesex),\n",
    "            median_delta_aou = median(delta_median_agesex_aou))\n",
    "\n",
    "aou_perc <- ggplot(temp, aes(x = median_delta_ukb, y = median_delta_aou)) + \n",
    "  labs(x = \"Delta C-Index in UK Biobank\", y = \"Delta C-Index in All of US\", color = \"Decile of Delta\\nC-Index in UK Biobank\") +\n",
    "  coord_cartesian(xlim = c(-0, 0.2), ylim = c(-0, 0.2)) +\n",
    "  geom_abline(alpha = 0.3) +\n",
    "  geom_hline(yintercept = 0, linetype = \"22\", alpha = 0.3) +\n",
    "  geom_vline(xintercept = 0, linetype = \"22\", alpha = 0.3) +\n",
    "  geom_point(aes(color = as.numeric(quant_ukb))) +\n",
    "  scale_colour_gradient(low = \"#7AC6FF\", high = \"#023768\", space = \"Lab\", na.value = \"grey50\", guide = \"colourbar\", aesthetics = \"colour\") +              \n",
    "  theme(legend.position = c(0.78, 0.1), legend.direction = \"horizontal\", legend.key.width = unit(0.8, \"cm\")) +\n",
    "  guides(colour = guide_colourbar(title.position = \"top\", title.hjust = 0.5), size = guide_legend(title.position = \"top\", title.hjust = 0.5)) + \n",
    "  stat_cor(method = \"pearson\", label.x = 0, label.y = 0.2)\n",
    "\n",
    "aou_perc"
   ]
  },
  {
   "cell_type": "code",
   "execution_count": null,
   "id": "2a53e93d-50ee-4cf4-a922-a70c81c4b288",
   "metadata": {},
   "outputs": [],
   "source": []
  }
 ],
 "metadata": {
  "kernelspec": {
   "display_name": "R [conda env:cm_r]",
   "language": "R",
   "name": "conda-env-cm_r-r"
  },
  "language_info": {
   "codemirror_mode": "r",
   "file_extension": ".r",
   "mimetype": "text/x-r-source",
   "name": "R",
   "pygments_lexer": "r",
   "version": "4.2.2"
  }
 },
 "nbformat": 4,
 "nbformat_minor": 5
}
