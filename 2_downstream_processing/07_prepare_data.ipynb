{
 "cells": [
  {
   "cell_type": "markdown",
   "metadata": {},
   "source": [
    "# Benchmarks"
   ]
  },
  {
   "cell_type": "markdown",
   "metadata": {},
   "source": [
    "## Initialize"
   ]
  },
  {
   "cell_type": "code",
   "execution_count": null,
   "metadata": {
    "execution": {
     "iopub.execute_input": "2023-04-26T09:35:56.425798Z",
     "iopub.status.busy": "2023-04-26T09:35:56.425619Z",
     "iopub.status.idle": "2023-04-26T09:35:59.110029Z",
     "shell.execute_reply": "2023-04-26T09:35:59.109397Z",
     "shell.execute_reply.started": "2023-04-26T09:35:56.425778Z"
    },
    "tags": []
   },
   "outputs": [],
   "source": [
    "import os\n",
    "import math\n",
    "import pathlib\n",
    "import numpy as np\n",
    "import pandas as pd\n",
    "import pyarrow as pa\n",
    "import pyarrow.feather as feather\n",
    "from tqdm.auto import tqdm\n",
    "from IPython.display import clear_output\n",
    "\n",
    "import warnings\n",
    "from lifelines.utils import CensoringType\n",
    "from lifelines.utils import concordance_index"
   ]
  },
  {
   "cell_type": "code",
   "execution_count": null,
   "metadata": {
    "tags": []
   },
   "outputs": [],
   "source": [
    "import ray\n",
    "ray.shutdown()"
   ]
  },
  {
   "cell_type": "code",
   "execution_count": null,
   "metadata": {
    "execution": {
     "iopub.execute_input": "2023-04-26T09:36:01.057114Z",
     "iopub.status.busy": "2023-04-26T09:36:01.056624Z",
     "iopub.status.idle": "2023-04-26T09:36:01.068805Z",
     "shell.execute_reply": "2023-04-26T09:36:01.068238Z",
     "shell.execute_reply.started": "2023-04-26T09:36:01.057093Z"
    },
    "tags": []
   },
   "outputs": [],
   "source": [
    "node = !hostname\n",
    "if \"sc\" in node[0]:\n",
    "    base_path = \"/sc-projects/sc-proj-ukb-cvd\"\n",
    "else: \n",
    "    base_path = \"/data/analysis/ag-reils/ag-reils-shared/cardioRS\"\n",
    "print(base_path)\n",
    "\n",
    "project_label = \"22_medical_records\"\n",
    "project_path = f\"{base_path}/results/projects/{project_label}\"\n",
    "figure_path = f\"{project_path}/figures\"\n",
    "output_path = f\"{project_path}/data\"\n",
    "\n",
    "pathlib.Path(figure_path).mkdir(parents=True, exist_ok=True)\n",
    "pathlib.Path(output_path).mkdir(parents=True, exist_ok=True)\n",
    "\n",
    "experiment = 230425\n",
    "experiment_path = f\"{output_path}/{experiment}\"\n",
    "pathlib.Path(experiment_path).mkdir(parents=True, exist_ok=True)"
   ]
  },
  {
   "cell_type": "code",
   "execution_count": null,
   "metadata": {
    "execution": {
     "iopub.execute_input": "2023-04-26T09:36:03.249796Z",
     "iopub.status.busy": "2023-04-26T09:36:03.249477Z",
     "iopub.status.idle": "2023-04-26T09:36:04.371216Z",
     "shell.execute_reply": "2023-04-26T09:36:04.370688Z",
     "shell.execute_reply.started": "2023-04-26T09:36:03.249779Z"
    },
    "tags": []
   },
   "outputs": [],
   "source": [
    "import ray\n",
    "# ray start --head --port=6379 --num-cpus 64\n",
    "#ray.init(num_cpus=24, include_dashboard=False)#, dashboard_port=24762, dashboard_host=\"0.0.0.0\", include_dashboard=True)#, webui_url=\"0.0.0.0\"))\n",
    "ray.init(address='auto')"
   ]
  },
  {
   "cell_type": "code",
   "execution_count": null,
   "metadata": {
    "execution": {
     "iopub.execute_input": "2023-04-26T09:36:07.108074Z",
     "iopub.status.busy": "2023-04-26T09:36:07.107744Z",
     "iopub.status.idle": "2023-04-26T09:36:07.128579Z",
     "shell.execute_reply": "2023-04-26T09:36:07.128037Z",
     "shell.execute_reply.started": "2023-04-26T09:36:07.108056Z"
    },
    "tags": []
   },
   "outputs": [],
   "source": [
    "endpoints_md = pd.read_csv(f\"{experiment_path}/endpoints.csv\")\n",
    "endpoints = sorted(endpoints_md.endpoint.to_list())"
   ]
  },
  {
   "cell_type": "code",
   "execution_count": null,
   "metadata": {
    "execution": {
     "iopub.execute_input": "2023-04-26T09:36:07.584424Z",
     "iopub.status.busy": "2023-04-26T09:36:07.583914Z",
     "iopub.status.idle": "2023-04-26T09:36:07.658161Z",
     "shell.execute_reply": "2023-04-26T09:36:07.657527Z",
     "shell.execute_reply.started": "2023-04-26T09:36:07.584406Z"
    },
    "tags": []
   },
   "outputs": [],
   "source": [
    "data_covariates = pd.read_feather(f\"{experiment_path}/data_covariates_full.feather\").set_index(\"eid\")"
   ]
  },
  {
   "cell_type": "code",
   "execution_count": null,
   "metadata": {
    "execution": {
     "iopub.execute_input": "2023-04-26T09:36:31.363627Z",
     "iopub.status.busy": "2023-04-26T09:36:31.363254Z",
     "iopub.status.idle": "2023-04-26T09:36:31.398413Z",
     "shell.execute_reply": "2023-04-26T09:36:31.397791Z",
     "shell.execute_reply.started": "2023-04-26T09:36:31.363609Z"
    },
    "tags": []
   },
   "outputs": [],
   "source": [
    "AgeSex = [\"age\", \"sex\"]\n",
    "\n",
    "SCORE2 = [\n",
    "    \"age\", \n",
    "    \"sex\",\n",
    "    \"smoking_status\", # current smoker\n",
    "    \"systolic_blood_pressure\",\n",
    "    \"cholesterol\",\n",
    "    \"hdl_cholesterol\",\n",
    "\n",
    "] \n",
    "\n",
    "ASCVD = [\n",
    "    \"age\", \n",
    "    \"sex\",\n",
    "    \"ethnic_background\",\n",
    "    \"smoking_status\", # current smoker\n",
    "    \"diabetes\", # diabetes\n",
    "    \"antihypertensives\", \n",
    "    \"systolic_blood_pressure\",\n",
    "    \"cholesterol\",\n",
    "    \"hdl_cholesterol\",\n",
    "] \n",
    "\n",
    "QRISK3 = [\n",
    "    \"age\", \n",
    "    \"sex\",\n",
    "    \"ethnic_background\",\n",
    "    \"smoking_status\", # current smoker\n",
    "    \"bmi\",\n",
    "    \"diabetes1\", # type 1 diabetes\n",
    "    \"diabetes2\", # type 1 diabetes\n",
    "    \"fh_heart_disease\",\n",
    "    \"renal_failure\", \n",
    "    \"atrial_fibrillation\", \n",
    "    \"migraine\",\n",
    "    \"rheumatoid_arthritis\", \n",
    "    \"systemic_lupus_erythematosus\", \n",
    "    \"schizophrenia\", \n",
    "    \"bipolar_disorder\", \n",
    "    \"major_depressive_disorder\", \n",
    "    \"male_erectile_dysfunction\", \n",
    "    \"antihypertensives\", \n",
    "    \"corticosteroids\",\n",
    "    \"psycholeptics\",\n",
    "    \"systolic_blood_pressure\",\n",
    "    \"cholesterol\",\n",
    "    \"hdl_cholesterol\",\n",
    "\n",
    "]\n",
    "\n",
    "Comorbidities = [\n",
    "    'aids',\n",
    "    'leukemia',\n",
    "    'lymphoma',\n",
    "    'solid_tumor',\n",
    "    'diabetes',\n",
    "    'dementia',\n",
    "    'hemiplegia',\n",
    "    'myocardial_infarction',\n",
    "    'heart_failure',\n",
    "    'stroke_tia',\n",
    "    'pad',\n",
    "    'copd',\n",
    "    'peptic_ulcer',\n",
    "    'chronic_liver_disease',\n",
    "    'chronic_kidney_disease', \n",
    "    'connective_tissue_disorder'\n",
    "]\n",
    "\n",
    "# assert, that all variables are available\n",
    "covariates_scores = sorted(list(set(AgeSex + SCORE2 + ASCVD + QRISK3 + Comorbidities)))\n",
    "if not set(covariates_scores).issubset(data_covariates.columns.to_list()):\n",
    "    print(\"Not all required covariates are prepared!\", list(set(covariates_scores).difference(data_covariates.columns.to_list())))\n",
    "else:\n",
    "    print(\"Success, all required covariates are prepared!\")\n",
    "    data_covariates = data_covariates[covariates_scores]"
   ]
  },
  {
   "cell_type": "code",
   "execution_count": null,
   "metadata": {
    "tags": []
   },
   "outputs": [],
   "source": [
    "variables_cont = data_covariates.select_dtypes(include=[\"int32\", \"int64\", \"float32\", \"float64\"]).columns.to_list()#dtypes.to_frame().rename(columns={0:\"dtype\"}).query(\"dtype!='bool'\")\n",
    "variables_cat = data_covariates.select_dtypes(include=[\"category\"]).columns.to_list()\n",
    "variables_bool = data_covariates.select_dtypes(include=[\"bool\"]).columns.to_list()#dtypes.to_frame().rename(columns={0:\"dtype\"}).query(\"dtype!='bool'\")\n",
    "print(\"Cont: \", variables_cont)\n",
    "print(\"Cat: \", variables_cat)\n",
    "print(\"Bool: \", variables_bool)\n",
    "\n",
    "variables_to_norm = variables_cont + endpoints\n",
    "variables_to_norm"
   ]
  },
  {
   "cell_type": "code",
   "execution_count": null,
   "metadata": {
    "execution": {
     "iopub.execute_input": "2023-04-26T09:36:42.160534Z",
     "iopub.status.busy": "2023-04-26T09:36:42.159856Z",
     "iopub.status.idle": "2023-04-26T09:36:42.171038Z",
     "shell.execute_reply": "2023-04-26T09:36:42.170551Z",
     "shell.execute_reply.started": "2023-04-26T09:36:42.160516Z"
    },
    "tags": []
   },
   "outputs": [],
   "source": [
    "in_path = pathlib.Path(f\"{experiment_path}/loghs\")\n",
    "in_path.mkdir(parents=True, exist_ok=True)\n",
    "\n",
    "out_path = f\"{experiment_path}/coxph/input\"\n",
    "pathlib.Path(out_path).mkdir(parents=True, exist_ok=True)"
   ]
  },
  {
   "cell_type": "code",
   "execution_count": null,
   "metadata": {
    "execution": {
     "iopub.execute_input": "2023-04-26T09:37:50.361458Z",
     "iopub.status.busy": "2023-04-26T09:37:50.361087Z",
     "iopub.status.idle": "2023-04-26T09:37:50.380651Z",
     "shell.execute_reply": "2023-04-26T09:37:50.380131Z",
     "shell.execute_reply.started": "2023-04-26T09:37:50.361439Z"
    },
    "tags": []
   },
   "outputs": [],
   "source": [
    "models = models = [f.name for f in in_path.iterdir() if f.is_dir() and \"ipynb_checkpoints\" not in str(f)]\n",
    "partitions = [i for i in range(22)] #[0, 1, 3, 4, 5, 6, 7, 8, 9, 10, 11, 12, 13, 14, 15, 16]"
   ]
  },
  {
   "cell_type": "code",
   "execution_count": null,
   "metadata": {
    "execution": {
     "iopub.execute_input": "2023-04-26T09:38:16.627846Z",
     "iopub.status.busy": "2023-04-26T09:38:16.627476Z",
     "iopub.status.idle": "2023-04-26T09:38:17.158720Z",
     "shell.execute_reply": "2023-04-26T09:38:17.158090Z",
     "shell.execute_reply.started": "2023-04-26T09:38:16.627828Z"
    },
    "tags": []
   },
   "outputs": [],
   "source": [
    "from sklearn.preprocessing import StandardScaler\n",
    "import matplotlib.pyplot as plt\n",
    "import miceforest\n",
    "import pickle\n",
    "import zstandard\n",
    "\n",
    "def read_merge_data(fp_in, split, data_covariates, variables_to_prepare):\n",
    "    temp = pd.read_feather(f\"{fp_in}/{split}.feather\").set_index(\"eid\")\n",
    "    temp[\"split\"] = temp[\"split\"].astype(str)\n",
    "    temp = temp.merge(data_covariates, left_index=True, right_index=True, how=\"left\")[variables_to_prepare]\n",
    "    return temp   \n",
    "\n",
    "def load_pickle(fp):\n",
    "    with open(fp, \"rb\") as fh:\n",
    "        dctx = zstandard.ZstdDecompressor()\n",
    "        with dctx.stream_reader(fh) as decompressor:\n",
    "            data = pickle.loads(decompressor.read())\n",
    "    return data\n",
    "    \n",
    "def save_pickle(data, data_path):\n",
    "    pathlib.Path(data_path).parent.mkdir(parents=True, exist_ok=True)\n",
    "    with open(data_path, \"wb\") as fh:\n",
    "        cctx = zstandard.ZstdCompressor()\n",
    "        with cctx.stream_writer(fh) as compressor:\n",
    "            compressor.write(pickle.dumps(data, protocol=pickle.HIGHEST_PROTOCOL))\n",
    "            \n",
    "def get_variable_schema(data):\n",
    "    \n",
    "    missing = data.columns[data.isna().any()].to_list()\n",
    "    \n",
    "    print(missing)\n",
    "    \n",
    "    variable_schema = {}\n",
    "    for m in missing:\n",
    "        variable_schema[m] = [x for x in data.columns if x != m and x in missing]\n",
    "    \n",
    "    return variable_schema\n",
    "\n",
    "def tune_imputer(data):\n",
    "    \n",
    "    variable_schema = get_variable_schema(data)\n",
    "        \n",
    "    kernel = miceforest.ImputationKernel(data, datasets=1, random_state=42)#, train_nonmissing=True)\n",
    "    \n",
    "    best_hps, losses = kernel.tune_parameters(dataset=0, n_jobs=96, optimization_steps=5, verbose=True) # add bootstrrapping! \n",
    "  \n",
    "    return best_hps\n",
    "\n",
    "def get_imputer_hps(data_covariates, variables_to_prepare, model, partition, samples):\n",
    "\n",
    "    fp_in = f\"{in_path}/{model}/{partition}\"\n",
    "    fp_out = f\"{out_path}/{model}/\"\n",
    "    pathlib.Path(fp_out).mkdir(parents=True, exist_ok=True)\n",
    "    \n",
    "    temp = read_merge_data(fp_in, \"train\", data_covariates, variables_to_prepare).sample(samples)\n",
    "\n",
    "    print(\"tune hps\")\n",
    "    best_hps = tune_imputer(temp)\n",
    "    save_pickle(best_hps, f\"{fp_out}/imputer_best_hps.p\")\n",
    "    \n",
    "    return best_hps\n",
    "\n",
    "def fit_imputer(data, best_hps, fp_out):\n",
    "    \n",
    "    variable_schema = get_variable_schema(data)\n",
    "    print(variable_schema)\n",
    "        \n",
    "    kernel = miceforest.ImputationKernel(data, datasets=1, random_state=42)#, train_nonmissing=True)\n",
    "\n",
    "    # Run the MICE algorithm for 3 iterations\n",
    "    kernel.mice(3, n_jobs=96, variable_parameters=best_hps, verbose=True)\n",
    "    \n",
    "    kernel.plot_imputed_distributions(wspace=0.3,hspace=0.3)\n",
    "    \n",
    "    plt.savefig(f\"{fp_out}/imputer_distributions.pdf\", bbox_inches='tight')\n",
    "    \n",
    "    return kernel\n",
    "    \n",
    "@ray.remote\n",
    "def scale_encode_save_feather(partition, split, temp_df, scaler, variables_cont, variables_cat, fp_out):\n",
    "    print(partition, split, f\"scale {split}\")\n",
    "    temp_df[variables_cont] = scaler.transform(temp_df[variables_cont].values)\n",
    "\n",
    "    print(partition, split, f\"onehotencode {split}\")\n",
    "    temp_df = pd.get_dummies(temp_df, columns=variables_cat, prefix=variables_cat)\n",
    "\n",
    "    # save imputed and standardized file\n",
    "    print(partition, split, f\"save {split}\")\n",
    "    temp_df.reset_index(drop=False).to_feather(f\"{fp_out}/{split}.feather\")\n",
    "    \n",
    "\n",
    "def impute_norm_variables(data_covariates, model, partition, variables_to_prepare, variables_cont, variables_cat, samples):\n",
    "\n",
    "    fp_in = f\"{in_path}/{model}/{partition}\"\n",
    "    fp_out = f\"{out_path}/{model}/{partition}\"\n",
    "      \n",
    "    if pathlib.Path(fp_in).is_dir():\n",
    "        if not pathlib.Path(fp_out).is_dir():\n",
    "            pathlib.Path(fp_out).mkdir(parents=True, exist_ok=True)\n",
    "            \n",
    "    for split in tqdm([\"train\", \"valid\", \"test\"]):\n",
    "        \n",
    "        print(partition, split, \"read and merge data\")\n",
    "        temp = read_merge_data(fp_in, split, data_covariates, variables_to_prepare)\n",
    "        \n",
    "    \n",
    "        if split==\"train\": \n",
    "            # fit and save imputer\n",
    "            print(partition, split, \"fit imputer\")\n",
    "            print(partition, split, \"fit imputer: load hps\")\n",
    "            best_hps = load_pickle(f\"{out_path}/{model}/imputer_best_hps.p\")\n",
    "            print(partition, split, \"fit imputer: fit imputer\")\n",
    "            imputer = fit_imputer(temp.sample(samples), best_hps, fp_out)\n",
    "            print(partition, split, \"fit imputer: save imputer\")\n",
    "            save_pickle(imputer, f\"{fp_out}/imputer.p\")\n",
    "            \n",
    "            # check imputer and log results\n",
    "            print(partition, split, \"check imputer: plot distributions\")\n",
    "            print(imputer.plot_imputed_distributions(wspace=0.3,hspace=0.3))\n",
    "            #plt.savefig(f\"{fp_out}/imputed_dists.png\")\n",
    "            \n",
    "        # apply imputer and scaler\n",
    "        print(partition, split, f\"impute {split}\")\n",
    "        try:\n",
    "            temp = imputer.impute_new_data(new_data=temp, verbose=True).complete_data(0)\n",
    "        except AssertionError as e:\n",
    "            print(f\"ERROR {partition} {split}\")\n",
    "            print(e)\n",
    "            temp.reset_index().to_feather(f\"error_{partition}_{split}.feather\")\n",
    "        \n",
    "        if split==\"train\": \n",
    "            \n",
    "            # fit and save standardscaler\n",
    "            print(partition, split, \"fit scaler\")\n",
    "            scaler = StandardScaler(with_mean=True, with_std=True, copy=True).fit(temp[variables_cont].values)\n",
    "            save_pickle(scaler, f\"{fp_out}/scaler.p\")\n",
    "            \n",
    "        scale_encode_save_feather.remote(partition, split, temp, scaler, variables_cont, variables_cat, fp_out)\n",
    "        \n",
    "    return True"
   ]
  },
  {
   "cell_type": "code",
   "execution_count": null,
   "metadata": {
    "execution": {
     "iopub.execute_input": "2023-04-26T09:38:17.814978Z",
     "iopub.status.busy": "2023-04-26T09:38:17.814424Z",
     "iopub.status.idle": "2023-04-26T09:58:49.181401Z",
     "shell.execute_reply": "2023-04-26T09:58:49.180756Z",
     "shell.execute_reply.started": "2023-04-26T09:38:17.814959Z"
    },
    "tags": []
   },
   "outputs": [],
   "source": [
    "variables_to_prepare = covariates_scores + endpoints\n",
    "get_imputer_hps(data_covariates, variables_to_prepare, models[0], partitions[0], samples=10000)"
   ]
  },
  {
   "cell_type": "code",
   "execution_count": null,
   "metadata": {
    "execution": {
     "iopub.execute_input": "2023-04-26T09:58:49.182620Z",
     "iopub.status.busy": "2023-04-26T09:58:49.182458Z",
     "iopub.status.idle": "2023-04-26T10:17:02.726049Z",
     "shell.execute_reply": "2023-04-26T10:17:02.704525Z",
     "shell.execute_reply.started": "2023-04-26T09:58:49.182602Z"
    },
    "tags": []
   },
   "outputs": [],
   "source": [
    "variables_to_prepare = covariates_scores + endpoints\n",
    "get_imputer_hps(data_covariates, variables_to_prepare, models[1], partitions[0], samples=10000)"
   ]
  },
  {
   "cell_type": "code",
   "execution_count": null,
   "metadata": {
    "tags": []
   },
   "outputs": [],
   "source": [
    "#impute_norm_variables(data_covariates, models[0], partitions[0], variables_to_norm, 10000)"
   ]
  },
  {
   "cell_type": "code",
   "execution_count": null,
   "metadata": {
    "execution": {
     "iopub.execute_input": "2023-04-26T10:29:19.650589Z",
     "iopub.status.busy": "2023-04-26T10:29:19.650314Z",
     "iopub.status.idle": "2023-04-26T10:29:19.654604Z",
     "shell.execute_reply": "2023-04-26T10:29:19.654107Z",
     "shell.execute_reply.started": "2023-04-26T10:29:19.650571Z"
    },
    "tags": []
   },
   "outputs": [],
   "source": [
    "def norm_logh_and_extra(data_covariates, variables_to_prepare, variables_cont, variables_cat, samples):\n",
    "    \n",
    "    print(f\"Tune and fit imputation with {samples} samples\")\n",
    "\n",
    "    progress = []\n",
    "    for model in models:\n",
    "        hps_path = f\"{out_path}/{model}/imputer_best_hps.p\"\n",
    "        if not pathlib.Path(hps_path).is_file():\n",
    "            print(f\"No HPs found, estimating new HPs...\")\n",
    "            get_imputer_hps(data_covariates, model, partitions[0], samples)\n",
    "        else:\n",
    "            print(f\"Use {hps_path}\")\n",
    "        \n",
    "        for partition in tqdm(partitions):\n",
    "            progress.append(impute_norm_variables(data_covariates, model, partition, variables_to_prepare, variables_cont, variables_cat, samples))\n",
    "    #[ray.get(s) for s in tqdm(progress)]"
   ]
  },
  {
   "cell_type": "code",
   "execution_count": null,
   "metadata": {
    "execution": {
     "iopub.execute_input": "2023-04-26T10:29:22.542852Z",
     "iopub.status.busy": "2023-04-26T10:29:22.542541Z",
     "iopub.status.idle": "2023-04-26T14:01:12.585578Z",
     "shell.execute_reply": "2023-04-26T14:01:12.585066Z",
     "shell.execute_reply.started": "2023-04-26T10:29:22.542834Z"
    },
    "tags": []
   },
   "outputs": [],
   "source": [
    "variables_to_prepare = covariates_scores + endpoints\n",
    "norm_logh_and_extra(data_covariates, variables_to_prepare, variables_cont, variables_cat, 10000)"
   ]
  }
 ],
 "metadata": {
  "kernelspec": {
   "display_name": "Python [conda env:udm]",
   "language": "python",
   "name": "conda-env-udm-py"
  },
  "language_info": {
   "codemirror_mode": {
    "name": "ipython",
    "version": 3
   },
   "file_extension": ".py",
   "mimetype": "text/x-python",
   "name": "python",
   "nbconvert_exporter": "python",
   "pygments_lexer": "ipython3",
   "version": "3.10.9"
  },
  "toc-autonumbering": false
 },
 "nbformat": 4,
 "nbformat_minor": 4
}
