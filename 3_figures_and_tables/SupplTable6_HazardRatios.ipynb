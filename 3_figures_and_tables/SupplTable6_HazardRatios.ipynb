{
 "cells": [
  {
   "cell_type": "markdown",
   "metadata": {},
   "source": [
    "# Benchmarks"
   ]
  },
  {
   "cell_type": "markdown",
   "metadata": {},
   "source": [
    "## Initialize"
   ]
  },
  {
   "cell_type": "code",
   "execution_count": null,
   "metadata": {
    "ExecuteTime": {
     "end_time": "2021-01-05T11:03:09.852316Z",
     "start_time": "2021-01-05T11:03:07.701Z"
    },
    "execution": {
     "iopub.execute_input": "2023-05-10T09:47:34.211226Z",
     "iopub.status.busy": "2023-05-10T09:47:34.209118Z",
     "iopub.status.idle": "2023-05-10T09:47:38.012545Z",
     "shell.execute_reply": "2023-05-10T09:47:38.011087Z"
    },
    "tags": []
   },
   "outputs": [],
   "source": [
    "#library(Rmisc)\n",
    "library(dtplyr)\n",
    "library(tidyverse)\n",
    "library(glue)\n",
    "library(arrow)\n",
    "library(patchwork)\n",
    "library(data.table)\n",
    "library(\"jsonlite\")\n",
    "library(ggthemes)"
   ]
  },
  {
   "cell_type": "code",
   "execution_count": null,
   "metadata": {
    "ExecuteTime": {
     "end_time": "2021-01-05T11:03:10.491477Z",
     "start_time": "2021-01-05T11:03:10.445Z"
    },
    "execution": {
     "iopub.execute_input": "2023-05-10T09:47:38.045890Z",
     "iopub.status.busy": "2023-05-10T09:47:38.014388Z",
     "iopub.status.idle": "2023-05-10T09:47:38.063372Z",
     "shell.execute_reply": "2023-05-10T09:47:38.062352Z"
    },
    "tags": []
   },
   "outputs": [],
   "source": [
    "if (grepl(\"sc\", Sys.info()[[\"nodename\"]], fixed=TRUE)) {\n",
    "    base_path = \"/sc-projects/sc-proj-ukb-cvd\"\n",
    "} else {\n",
    "    base_path = \"/data/analysis/ag-reils/ag-reils-shared/cardioRS\"}\n",
    "print(base_path)\n",
    "\n",
    "project_label=\"22_medical_records\"\n",
    "project_path = glue(\"{base_path}/results/projects/{project_label}\")\n",
    "figure_path = glue(\"{project_path}/figures\")\n",
    "output_path = glue(\"{project_path}/data\")\n",
    "\n",
    "experiment = 230425\n",
    "experiment_path = glue(\"{output_path}/{experiment}\")"
   ]
  },
  {
   "cell_type": "code",
   "execution_count": null,
   "metadata": {
    "execution": {
     "iopub.execute_input": "2023-05-10T09:47:38.065660Z",
     "iopub.status.busy": "2023-05-10T09:47:38.064833Z",
     "iopub.status.idle": "2023-05-10T09:47:38.079423Z",
     "shell.execute_reply": "2023-05-10T09:47:38.078269Z"
    },
    "tags": []
   },
   "outputs": [],
   "source": [
    "base_size = 8\n",
    "title_size = 10\n",
    "facet_size = 10\n",
    "geom_text_size=3\n",
    "theme_set(theme_classic(base_size = base_size) + \n",
    "          theme(strip.background = element_blank(), plot.title=element_text(size=title_size, hjust=0), \n",
    "                strip.text.x = element_text(size = facet_size),axis.title=element_text(size=10), axis.text=element_text(size=8, color=\"black\"),\n",
    "                legend.position=\"bottom\", axis.line = element_line(size = 0.2), axis.ticks=element_line(size=0.2), panel.grid.major=element_line()))"
   ]
  },
  {
   "cell_type": "code",
   "execution_count": null,
   "metadata": {
    "ExecuteTime": {
     "end_time": "2021-01-05T11:03:23.526022Z",
     "start_time": "2021-01-05T11:03:20.042Z"
    },
    "execution": {
     "iopub.execute_input": "2023-05-10T09:47:38.081854Z",
     "iopub.status.busy": "2023-05-10T09:47:38.080962Z",
     "iopub.status.idle": "2023-05-10T09:47:38.094209Z",
     "shell.execute_reply": "2023-05-10T09:47:38.093141Z"
    },
    "tags": []
   },
   "outputs": [],
   "source": [
    "colors_dict = read_json(\"colors.json\")\n",
    "color_map <- c(\n",
    "    \"Identity(AgeSex)+MLP\" = colors_dict$pastel$red$mid,\n",
    "    \"Identity(Records)+MLP\" = colors_dict$pastel$red$mid,\n",
    "    \"GNN(Records)+MLP\" = colors_dict$pastel$red$mid,\n",
    "    \"Identity(AgeSex+Records)+MLP\" = colors_dict$pastel$red$mid,\n",
    "    \"GNN(AgeSex+Records)+MLP\" = colors_dict$pastel$red$mid\n",
    ")"
   ]
  },
  {
   "cell_type": "code",
   "execution_count": null,
   "metadata": {
    "execution": {
     "iopub.execute_input": "2023-05-10T09:47:38.096533Z",
     "iopub.status.busy": "2023-05-10T09:47:38.095675Z",
     "iopub.status.idle": "2023-05-10T09:47:39.239933Z",
     "shell.execute_reply": "2023-05-10T09:47:39.238438Z"
    },
    "tags": []
   },
   "outputs": [],
   "source": [
    "endpoint_defs = arrow::read_feather(glue(\"{output_path}/phecode_defs_220306.feather\")) %>% arrange(endpoint)"
   ]
  },
  {
   "cell_type": "code",
   "execution_count": null,
   "metadata": {
    "execution": {
     "iopub.execute_input": "2023-05-10T09:47:39.242282Z",
     "iopub.status.busy": "2023-05-10T09:47:39.241419Z",
     "iopub.status.idle": "2023-05-10T09:47:39.250668Z",
     "shell.execute_reply": "2023-05-10T09:47:39.249637Z"
    },
    "tags": []
   },
   "outputs": [],
   "source": [
    "endpoint_map = endpoint_defs$phecode_string\n",
    "names(endpoint_map) =  endpoint_defs$endpoint\n",
    "#endpoint_order_freq = (outcome_freq %>% arrange(desc(freq)))$endpoint"
   ]
  },
  {
   "cell_type": "code",
   "execution_count": null,
   "metadata": {
    "execution": {
     "iopub.execute_input": "2023-05-10T09:47:39.252957Z",
     "iopub.status.busy": "2023-05-10T09:47:39.252120Z",
     "iopub.status.idle": "2023-05-10T09:47:39.261912Z",
     "shell.execute_reply": "2023-05-10T09:47:39.260839Z"
    },
    "tags": []
   },
   "outputs": [],
   "source": [
    "endpoint_order = (endpoint_defs %>% arrange(as.numeric(phecode)))$endpoint"
   ]
  },
  {
   "cell_type": "code",
   "execution_count": null,
   "metadata": {
    "execution": {
     "iopub.execute_input": "2023-05-10T09:47:39.264243Z",
     "iopub.status.busy": "2023-05-10T09:47:39.263394Z",
     "iopub.status.idle": "2023-05-10T09:47:39.270669Z",
     "shell.execute_reply": "2023-05-10T09:47:39.269679Z"
    },
    "tags": []
   },
   "outputs": [],
   "source": [
    "endpoint_selection = c(\n",
    "'phecode_164',\n",
    "'phecode_179',\n",
    "'phecode_202-2',\n",
    "'phecode_284',\n",
    "'phecode_401',\n",
    "'phecode_404-1',\n",
    "'phecode_413-21',\n",
    "'phecode_413-32',\n",
    "'phecode_416-21',\n",
    "'phecode_420',\n",
    "'phecode_424',\n",
    "'phecode_431-1',\n",
    "'phecode_438-6',\n",
    "'phecode_440-3',\n",
    "'phecode_444-13',\n",
    "'phecode_448',\n",
    "'phecode_468',\n",
    "'phecode_474',\n",
    "'phecode_542-4',\n",
    "'phecode_583',\n",
    "'phecode_665-1',\n",
    "'phecode_705-1',\n",
    "'phecode_718',\n",
    "'OMOP_4306655'\n",
    "    )"
   ]
  },
  {
   "cell_type": "markdown",
   "metadata": {},
   "source": [
    "## Load data"
   ]
  },
  {
   "cell_type": "markdown",
   "metadata": {},
   "source": [
    "# Load Benchmarks"
   ]
  },
  {
   "cell_type": "code",
   "execution_count": null,
   "metadata": {
    "execution": {
     "iopub.execute_input": "2023-05-10T09:47:39.277245Z",
     "iopub.status.busy": "2023-05-10T09:47:39.276383Z",
     "iopub.status.idle": "2023-05-10T09:47:39.603594Z",
     "shell.execute_reply": "2023-05-10T09:47:39.602369Z"
    },
    "tags": []
   },
   "outputs": [],
   "source": [
    "name = \"hrs_endpoints\"\n",
    "hrs_endpoints = arrow::read_feather(glue(\"{experiment_path}/{name}.feather\"), col_select=c(\"endpoint\", \"score\", \"partition\", \"hrs_mh\", \"hrs_mh_age\", \"hrs_mh_sex\")) %>% left_join(endpoint_defs) "
   ]
  },
  {
   "cell_type": "code",
   "execution_count": null,
   "metadata": {
    "execution": {
     "iopub.execute_input": "2023-05-10T09:47:39.605860Z",
     "iopub.status.busy": "2023-05-10T09:47:39.605034Z",
     "iopub.status.idle": "2023-05-10T09:47:39.700591Z",
     "shell.execute_reply": "2023-05-10T09:47:39.699566Z"
    },
    "tags": []
   },
   "outputs": [],
   "source": [
    "hrs_endpoints"
   ]
  },
  {
   "cell_type": "raw",
   "metadata": {
    "execution": {
     "iopub.execute_input": "2022-04-19T10:49:54.212848Z",
     "iopub.status.busy": "2022-04-19T10:49:54.211840Z",
     "iopub.status.idle": "2022-04-19T10:49:54.283308Z",
     "shell.execute_reply": "2022-04-19T10:49:54.282284Z"
    },
    "tags": []
   },
   "source": [
    "hrs_endpoints %>% filter(score %in% c(\"Age+Sex+MedicalHistory\", \"MedicalHistory\")) %>% group_by(endpoint) %>% tally()# %>% arrange(n)"
   ]
  },
  {
   "cell_type": "code",
   "execution_count": null,
   "metadata": {
    "execution": {
     "iopub.execute_input": "2023-05-10T09:47:39.702862Z",
     "iopub.status.busy": "2023-05-10T09:47:39.702032Z",
     "iopub.status.idle": "2023-05-10T09:47:41.872345Z",
     "shell.execute_reply": "2023-05-10T09:47:41.871318Z"
    },
    "tags": []
   },
   "outputs": [],
   "source": [
    "hrs = hrs_endpoints %>% \n",
    "    group_by(endpoint, score, phecode_string, phecode_category) %>% \n",
    "    #filter(score %in% c(\"MedicalHistory\", \"Age+Sex+MedicalHistory\", \"Age+Sex+MedicalHistory+I(Age*MH)\")) %>%\n",
    "    #mutate(endpoint = factor(endpoint, levels=endpoints_sorted)) %>%\n",
    "    #mutate(phecode_category = factor(phecode_category, levels=pcats_sorted)) %>%\n",
    "    select(endpoint, score, hrs_mh, hrs_mh_age, hrs_mh_sex, phecode_string, phecode_category) %>%\n",
    "    ungroup()\n",
    "hrs"
   ]
  },
  {
   "cell_type": "code",
   "execution_count": null,
   "metadata": {
    "execution": {
     "iopub.execute_input": "2023-05-10T09:47:44.728361Z",
     "iopub.status.busy": "2023-05-10T09:47:44.727421Z",
     "iopub.status.idle": "2023-05-10T09:47:44.742621Z",
     "shell.execute_reply": "2023-05-10T09:47:44.741618Z"
    },
    "tags": []
   },
   "outputs": [],
   "source": [
    "unique(hrs$score)"
   ]
  },
  {
   "cell_type": "code",
   "execution_count": null,
   "metadata": {
    "execution": {
     "iopub.execute_input": "2023-05-10T09:47:47.207007Z",
     "iopub.status.busy": "2023-05-10T09:47:47.206048Z",
     "iopub.status.idle": "2023-05-10T09:55:00.773506Z",
     "shell.execute_reply": "2023-05-10T09:55:00.772293Z"
    },
    "tags": []
   },
   "outputs": [],
   "source": [
    "purrr::map_dfr(integer(100), ~ hrs %>% group_by(endpoint, score) %>% sample_frac(1, replace=TRUE), .id=\"i\") -> temp_hrs"
   ]
  },
  {
   "cell_type": "code",
   "execution_count": null,
   "metadata": {
    "execution": {
     "iopub.execute_input": "2023-05-10T09:55:00.775851Z",
     "iopub.status.busy": "2023-05-10T09:55:00.775019Z",
     "iopub.status.idle": "2023-05-10T09:55:00.969547Z",
     "shell.execute_reply": "2023-05-10T09:55:00.968333Z"
    },
    "tags": []
   },
   "outputs": [],
   "source": [
    "library(ggdist)"
   ]
  },
  {
   "cell_type": "code",
   "execution_count": null,
   "metadata": {
    "execution": {
     "iopub.execute_input": "2023-05-10T09:55:00.972003Z",
     "iopub.status.busy": "2023-05-10T09:55:00.971137Z",
     "iopub.status.idle": "2023-05-10T09:56:01.667536Z",
     "shell.execute_reply": "2023-05-10T09:56:01.666310Z"
    },
    "tags": []
   },
   "outputs": [],
   "source": [
    "temp_hrs_mh = temp_hrs %>% group_by(endpoint, score, phecode_string, phecode_category) %>% median_qi(hrs_mh, hrs_mh_age, hrs_mh_sex, na.rm=TRUE)"
   ]
  },
  {
   "cell_type": "code",
   "execution_count": null,
   "metadata": {
    "execution": {
     "iopub.execute_input": "2023-05-10T09:56:31.151925Z",
     "iopub.status.busy": "2023-05-10T09:56:31.150966Z",
     "iopub.status.idle": "2023-05-10T10:08:25.483500Z",
     "shell.execute_reply": "2023-05-10T10:08:25.482383Z"
    },
    "tags": []
   },
   "outputs": [],
   "source": [
    "temp_hrs_linear = temp_hrs %>% ungroup() %>%\n",
    "    filter(score %in% c(\"MedicalHistory\", \"Age+Sex+MedicalHistory\", \"Age+Sex+Comorbidities+MedicalHistory\", \"ASCVD+MedicalHistory\")) %>%\n",
    "    group_by(endpoint, score, phecode_string, phecode_category) %>% \n",
    "    median_qi(`hrs_mh`, na.rm=TRUE) %>% rename(hr = `hrs_mh`) %>%\n",
    "    mutate(hr = round(hr, 2), .lower=round(.lower, 2), .upper=round(.upper, 2)) %>%#c(hr, .lower, .upper), round, 1) %>%\n",
    "    mutate(HR_MedicalHistory = glue(\"{hr} ({.lower}, {.upper})\")) %>% \n",
    "    select(endpoint, score, phecode_string, phecode_category, HR_MedicalHistory) %>%\n",
    "    pivot_wider(names_from=\"score\", values_from=\"HR_MedicalHistory\") %>% \n",
    "    select(all_of(c(\"phecode_category\", \"endpoint\", \"phecode_string\", \"MedicalHistory\", 'Age+Sex+MedicalHistory',  \"Age+Sex+Comorbidities+MedicalHistory\", \"ASCVD+MedicalHistory\"))) %>% \n",
    "    mutate(endpoint = factor(endpoint, levels = endpoint_order)) %>% \n",
    "    arrange(endpoint) %>%\n",
    "    #mutate(endpoint = recode(endpoint, !!!endpoint_map)) %>%\n",
    "    ungroup()\n",
    "    \n",
    "temp_hrs_linear"
   ]
  },
  {
   "cell_type": "code",
   "execution_count": null,
   "metadata": {
    "execution": {
     "iopub.execute_input": "2023-05-10T10:11:55.342681Z",
     "iopub.status.busy": "2023-05-10T10:11:55.341689Z",
     "iopub.status.idle": "2023-05-10T10:11:55.411704Z",
     "shell.execute_reply": "2023-05-10T10:11:55.410625Z"
    },
    "tags": []
   },
   "outputs": [],
   "source": [
    "temp_hrs_linear %>% arrange(as.character(endpoint))"
   ]
  },
  {
   "cell_type": "code",
   "execution_count": null,
   "metadata": {
    "execution": {
     "iopub.execute_input": "2023-05-10T10:12:40.670559Z",
     "iopub.status.busy": "2023-05-10T10:12:40.669552Z",
     "iopub.status.idle": "2023-05-10T10:12:41.364337Z",
     "shell.execute_reply": "2023-05-10T10:12:41.361347Z"
    },
    "tags": []
   },
   "outputs": [],
   "source": [
    "temp_hrs_linear  %>% \n",
    "    write_csv(\"outputs/SupplTable6_HRsAll.csv\")"
   ]
  },
  {
   "cell_type": "code",
   "execution_count": null,
   "metadata": {},
   "outputs": [],
   "source": []
  }
 ],
 "metadata": {
  "hide_input": false,
  "kernelspec": {
   "display_name": "R [conda env:r_env]",
   "language": "R",
   "name": "conda-env-r_env-r"
  },
  "language_info": {
   "codemirror_mode": "r",
   "file_extension": ".r",
   "mimetype": "text/x-r-source",
   "name": "R",
   "pygments_lexer": "r",
   "version": "4.0.2"
  },
  "toc-autonumbering": false
 },
 "nbformat": 4,
 "nbformat_minor": 4
}
