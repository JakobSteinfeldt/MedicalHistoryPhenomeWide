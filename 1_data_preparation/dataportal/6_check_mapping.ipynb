{
 "cells": [
  {
   "cell_type": "markdown",
   "metadata": {},
   "source": [
    "# Preprocessing"
   ]
  },
  {
   "cell_type": "code",
   "execution_count": null,
   "metadata": {
    "jupyter": {
     "outputs_hidden": false
    },
    "pycharm": {
     "name": "#%%\n"
    },
    "tags": []
   },
   "outputs": [],
   "source": [
    "import pandas as pd\n",
    "import numpy as np\n",
    "import os\n",
    "import yaml\n",
    "from tqdm.notebook import trange, tqdm\n",
    "\n",
    "node = !hostname\n",
    "if \"sc\" in node[0]:\n",
    "    base_path = \"/sc-projects/sc-proj-ukb-cvd\"\n",
    "else: base_path = \"/data/analysis/ag-reils/ag-reils-shared/cardioRS\"\n",
    "print(base_path)\n",
    "\n",
    "dataset_name = \"211110_anewbeginning\"\n",
    "mapping_path = f\"{base_path}/data/mapping\"\n",
    "dataset_path = f\"{base_path}/data/2_datasets_pre/{dataset_name}\""
   ]
  },
  {
   "cell_type": "code",
   "execution_count": null,
   "metadata": {
    "jupyter": {
     "outputs_hidden": false
    },
    "pycharm": {
     "name": "#%%\n"
    },
    "tags": []
   },
   "outputs": [],
   "source": [
    "from pathlib import Path\n",
    "Path(dataset_path).mkdir(parents=True, exist_ok=True)"
   ]
  },
  {
   "cell_type": "code",
   "execution_count": null,
   "metadata": {
    "tags": []
   },
   "outputs": [],
   "source": [
    "import wandb\n",
    "import pathlib\n",
    "\n",
    "project=\"recordgraphs\"\n",
    "entity=\"cardiors\"\n",
    "artifact_date = \"220531\""
   ]
  },
  {
   "cell_type": "code",
   "execution_count": null,
   "metadata": {
    "tags": []
   },
   "outputs": [],
   "source": [
    "artifact_name = \"final_records_omop\"\n",
    "type_name = \"prepare_records\"\n",
    "description = \"Cleaned first patient records from the data portal in long format\""
   ]
  },
  {
   "cell_type": "code",
   "execution_count": null,
   "metadata": {
    "tags": []
   },
   "outputs": [],
   "source": [
    "artifact_path_new = f\"{dataset_path}/artifacts/{artifact_name}_{artifact_date}.feather\"\n",
    "records_new = pd.read_feather(artifact_path_new)"
   ]
  },
  {
   "cell_type": "code",
   "execution_count": null,
   "metadata": {
    "tags": []
   },
   "outputs": [],
   "source": [
    "records_new.shape"
   ]
  },
  {
   "cell_type": "code",
   "execution_count": null,
   "metadata": {
    "tags": []
   },
   "outputs": [],
   "source": [
    "records_new.eid.unique()"
   ]
  },
  {
   "cell_type": "code",
   "execution_count": null,
   "metadata": {
    "tags": []
   },
   "outputs": [],
   "source": [
    "artifact_path_old = f\"{dataset_path}/artifacts/{artifact_name}_220407.feather\"\n",
    "records_old = pd.read_feather(artifact_path_old)"
   ]
  },
  {
   "cell_type": "code",
   "execution_count": null,
   "metadata": {},
   "outputs": [],
   "source": [
    "records_old.shape"
   ]
  },
  {
   "cell_type": "code",
   "execution_count": null,
   "metadata": {
    "tags": []
   },
   "outputs": [],
   "source": [
    "eid_test = 1000018\n",
    "records_temp_old = records_old.query(\"eid ==@eid_test\")\n",
    "records_temp_new = records_new.query(\"eid ==@eid_test\")"
   ]
  },
  {
   "cell_type": "code",
   "execution_count": null,
   "metadata": {
    "tags": []
   },
   "outputs": [],
   "source": [
    "print(records_temp_old.query(\"vocabulary=='phecode'\").shape)\n",
    "print(records_temp_new.query(\"vocabulary=='phecode'\").shape)"
   ]
  },
  {
   "cell_type": "code",
   "execution_count": null,
   "metadata": {
    "tags": []
   },
   "outputs": [],
   "source": [
    "records_temp_old.query(\"vocabulary=='phecode'\").sort_values(\"date\").query(\"origin=='hes_icd10'\")"
   ]
  },
  {
   "cell_type": "code",
   "execution_count": null,
   "metadata": {
    "tags": []
   },
   "outputs": [],
   "source": [
    "records_temp_new.query(\"vocabulary=='phecode'\").sort_values(\"date\").query(\"origin=='hes_icd10'\")#.query(\"date>'01-01-2021'\")"
   ]
  },
  {
   "cell_type": "code",
   "execution_count": null,
   "metadata": {
    "tags": []
   },
   "outputs": [],
   "source": [
    "records_temp_old.sort_values(\"date\").query(\"vocabulary=='phecode'\")"
   ]
  },
  {
   "cell_type": "code",
   "execution_count": null,
   "metadata": {},
   "outputs": [],
   "source": [
    "records_new.vocabulary.unique()"
   ]
  },
  {
   "cell_type": "code",
   "execution_count": null,
   "metadata": {
    "tags": []
   },
   "outputs": [],
   "source": [
    "vocab_list = ['SNOMED', 'RxNorm', 'CVX']\n",
    "records_raw = records_new.query(\"vocabulary==@vocab_list\")"
   ]
  },
  {
   "cell_type": "code",
   "execution_count": null,
   "metadata": {
    "tags": []
   },
   "outputs": [],
   "source": [
    "records_raw.query(\"unique_record_id == 70\")"
   ]
  },
  {
   "cell_type": "code",
   "execution_count": null,
   "metadata": {},
   "outputs": [],
   "source": [
    "records_phecodes = records_new.query(\"vocabulary!=@vocab_list\")"
   ]
  },
  {
   "cell_type": "code",
   "execution_count": null,
   "metadata": {
    "tags": []
   },
   "outputs": [],
   "source": [
    "phecode_unique_ids = records_phecodes"
   ]
  },
  {
   "cell_type": "code",
   "execution_count": null,
   "metadata": {},
   "outputs": [],
   "source": [
    "record_counts = rec"
   ]
  },
  {
   "cell_type": "code",
   "execution_count": null,
   "metadata": {
    "tags": []
   },
   "outputs": [],
   "source": [
    "run = wandb.init(project=project, job_type=\"log_artifact\", entity=entity, tags=[\"artifact\"])"
   ]
  },
  {
   "cell_type": "code",
   "execution_count": null,
   "metadata": {
    "jupyter": {
     "outputs_hidden": false
    },
    "pycharm": {
     "name": "#%%\n"
    },
    "tags": []
   },
   "outputs": [],
   "source": [
    "def get_path_from_wandb(reference: str):\n",
    "    path = pathlib.Path(reference.split(\"file://\")[1])\n",
    "    assert path.exists()\n",
    "    return path\n",
    "\n",
    "def read_artifact(run, artifact_name, type_name):\n",
    "    \n",
    "    artifact = run.use_artifact(f'cardiors/recordgraphs/{artifact_name}:latest', type=type_name)\n",
    "    file_path = get_path_from_wandb(artifact.manifest.entries[artifact_name].ref)\n",
    "    print(file_path)\n",
    "\n",
    "    return file_path"
   ]
  },
  {
   "cell_type": "code",
   "execution_count": null,
   "metadata": {
    "tags": []
   },
   "outputs": [],
   "source": [
    "def add_artifact(run, artifact_name, type_name, description, artifact_path, df):\n",
    "   \n",
    "    artifact = wandb.Artifact(artifact_name, type=type_name, \n",
    "                              description=description,\n",
    "                             metadata = {\"1_shape\": f\"{len(df)}x{len(df.columns)}\",\n",
    "                                         \"2_cols\": str(df.columns.to_list())})\n",
    "    artifact.add_reference(f\"\"\"file://{artifact_path}\"\"\", artifact_name, checksum=True)\n",
    "    run.log_artifact(artifact)"
   ]
  },
  {
   "cell_type": "code",
   "execution_count": null,
   "metadata": {
    "tags": []
   },
   "outputs": [],
   "source": [
    "phecode_defs_path = \"/sc-projects/sc-proj-ukb-cvd/data/mapping/phecodes/phecode_strings_V2.csv\"\n",
    "\n",
    "artifact_name = \"phecode_definitions\"\n",
    "type_name = \"prepare_phecodes\"\n",
    "description = \"Definition of phecodes\"\n",
    "artifact_path = f\"{dataset_path}/artifacts/{artifact_name}_{artifact_date}.feather\"\n",
    "\n",
    "phecode_defs = pd.read_csv(phecode_defs_path, dtype={\"phecode\": str}).sort_values(\"phecode\").reset_index()\n",
    "#phecode_defs.to_feather(artifact_path)\n",
    "#add_artifact(run, artifact_name, type_name, description, artifact_path, phecode_defs)"
   ]
  },
  {
   "cell_type": "code",
   "execution_count": null,
   "metadata": {
    "tags": []
   },
   "outputs": [],
   "source": [
    "phecode_mapping_path = \"/sc-projects/sc-proj-ukb-cvd/data/mapping/phecodes/ICD10_to_phecode_V2.csv\"\n",
    "\n",
    "artifact_name = \"icd10_phecode_mapping\"\n",
    "type_name = \"prepare_phecodes\"\n",
    "description = \"Mapping of ICD10 to phecodes\"\n",
    "artifact_path = f\"{dataset_path}/artifacts/{artifact_name}_{artifact_date}.feather\"\n",
    "\n",
    "phecode_mapping = pd.read_csv(phecode_mapping_path, dtype={\"icd10\": str, \"phecode\": str})\\\n",
    "    .rename(columns={\"icd10\": \"ICD10\"})\\\n",
    "    .assign(ICD10 = lambda x: x.ICD10.str.replace(\".\", \"\", regex=False))\\\n",
    "    .reset_index(drop=True)\n",
    "#phecode_mapping.to_feather(artifact_path)\n",
    "\n",
    "#add_artifact(run, artifact_name, type_name, description, artifact_path, phecode_mapping)"
   ]
  },
  {
   "cell_type": "markdown",
   "metadata": {},
   "source": [
    "## Prepare SNOMED -> ICD10 -> PheCode Mapping"
   ]
  },
  {
   "cell_type": "code",
   "execution_count": null,
   "metadata": {
    "tags": []
   },
   "outputs": [],
   "source": [
    "vocab_dir = f\"{mapping_path}/athena\"\n",
    "concepts = pd.read_csv(f\"{vocab_dir}/CONCEPT.csv\", sep='\\t')\n",
    "concepts.concept_id = concepts.concept_id.apply(lambda s: f\"OMOP_{s}\")"
   ]
  },
  {
   "cell_type": "code",
   "execution_count": null,
   "metadata": {
    "tags": []
   },
   "outputs": [],
   "source": [
    "snomed_concepts = concepts.query('vocabulary_id == \"SNOMED\"').copy()\n",
    "snomed_concepts.head()"
   ]
  },
  {
   "cell_type": "code",
   "execution_count": null,
   "metadata": {
    "tags": []
   },
   "outputs": [],
   "source": [
    "sct_icd = pd.read_csv(f\"{mapping_path}/umls/der2_iisssccRefset_ExtendedMapFull_US1000124_20220301.txt\", sep=\"\\t\")\n",
    "sct_icd.head()"
   ]
  },
  {
   "cell_type": "code",
   "execution_count": null,
   "metadata": {
    "tags": []
   },
   "outputs": [],
   "source": [
    "mapping_df = sct_icd.merge(\n",
    "    snomed_concepts, left_on=\"referencedComponentId\", right_on=\"concept_code\", how=\"left\"\n",
    ")"
   ]
  },
  {
   "cell_type": "code",
   "execution_count": null,
   "metadata": {
    "tags": []
   },
   "outputs": [],
   "source": [
    "mapping_df = mapping_df.merge(phecode_mapping, left_on=\"mapTarget\", right_on=\"ICD10\", how=\"left\")\n",
    "mapping_df.head()"
   ]
  },
  {
   "cell_type": "code",
   "execution_count": null,
   "metadata": {
    "tags": []
   },
   "outputs": [],
   "source": [
    "valid_rules = (\"TRUE\", \"OTHERWISE TRUE\", \"IFA 248152002 | Female (finding) |\", \"IFA 248153007 | Male (finding) |\")\n",
    "\n",
    "mapping_df = mapping_df[mapping_df.mapRule.isin(valid_rules)]\n",
    "mapping_df = mapping_df[\n",
    "    [\"concept_id\", \"phecode\", \"ICD10\", \"mapRule\", \"concept_code\"]\n",
    "].drop_duplicates()\n",
    "\n",
    "mapping_df = mapping_df[~mapping_df.phecode.isna()]\n",
    "mapping_df = mapping_df[~mapping_df.concept_id.isna()]\n",
    "mapping_df.concept_id = mapping_df.concept_id.astype(\"category\")\n",
    "mapping_df.concept_id = mapping_df.concept_id.apply(lambda s: s.split(\"OMOP_\")[1]).astype(int)\n",
    "mapping_df.phecode = mapping_df.phecode.astype(\"category\")\n",
    "mapping_df.ICD10 = mapping_df.ICD10.astype(\"category\")\n",
    "mapping_df.mapRule = mapping_df.mapRule.astype(\"category\")\n",
    "\n",
    "mapping_df"
   ]
  },
  {
   "cell_type": "code",
   "execution_count": null,
   "metadata": {
    "tags": []
   },
   "outputs": [],
   "source": [
    "artifact_name = \"snomed_icd10_phecode_mapping\"\n",
    "type_name = \"prepare_phecodes\"\n",
    "description = \"Mapping of SNOMED to phecodes via ICD10\"\n",
    "artifact_path = f\"{dataset_path}/artifacts/{artifact_name}_{artifact_date}.feather\"\n",
    "\n",
    "mapping_df.reset_index(drop=True).to_feather(artifact_path)\n",
    "add_artifact(run, artifact_name, type_name, description, artifact_path, phecode_mapping)"
   ]
  },
  {
   "cell_type": "markdown",
   "metadata": {},
   "source": [
    "## Prepare Records TTE"
   ]
  },
  {
   "cell_type": "code",
   "execution_count": null,
   "metadata": {
    "tags": []
   },
   "outputs": [],
   "source": [
    "# load native file\n",
    "records_raw_wo_death = pd.read_feather(read_artifact(run, \"complete_records_extended\", \"prepare_records\"))\\\n",
    "    .query(\"concept_id==concept_id\")\\\n",
    "    .assign(concept_id = lambda x: x.concept_id.astype(int))\n",
    "records_raw_wo_death.origin.unique()"
   ]
  },
  {
   "cell_type": "code",
   "execution_count": null,
   "metadata": {
    "tags": []
   },
   "outputs": [],
   "source": [
    "# prepare explicit coding of death\n",
    "records_death = records_raw_wo_death.query('origin==\"death_records\"').copy()\n",
    "records_death = records_death.drop_duplicates(subset=['eid', \"death_date\"], keep='first').copy()\n",
    "records_death[[\"vocabulary_origin\", \"concept_id\", \"code\", \"concept_name\", \"domain_id\", \"concept_class_id\", \"vocabulary_id\"]] = [\"SNOMED\", 4306655, '419620001', 'Death', 'Observation', 'Event', 'SNOMED']"
   ]
  },
  {
   "cell_type": "code",
   "execution_count": null,
   "metadata": {
    "tags": []
   },
   "outputs": [],
   "source": [
    "# concat to aggregated records + make sure we can trace back the mapped records\n",
    "records_raw = pd.concat([records_raw_wo_death, records_death], axis=0)\\\n",
    "    .reset_index(drop=True)\\\n",
    "    .reset_index()\\\n",
    "    .rename(columns={\"index\":\"unique_record_id\"})"
   ]
  },
  {
   "cell_type": "markdown",
   "metadata": {},
   "source": [
    "## Build phecode representation"
   ]
  },
  {
   "cell_type": "markdown",
   "metadata": {},
   "source": [
    "### Separate SNOMED and ICD records"
   ]
  },
  {
   "cell_type": "code",
   "execution_count": null,
   "metadata": {
    "tags": []
   },
   "outputs": [],
   "source": [
    "records_raw.value_counts(\"origin\")"
   ]
  },
  {
   "cell_type": "code",
   "execution_count": null,
   "metadata": {
    "tags": []
   },
   "outputs": [],
   "source": [
    "# identify original snomed records\n",
    "records_raw_sct = (\n",
    "    records_raw[records_raw.vocabulary_origin.isin((\"CTV3\", \"SNOMED\"))]\n",
    "    .query('vocabulary_id == \"SNOMED\"')\n",
    "    .copy()\n",
    ")\n",
    "\n",
    "records_raw_sct.concept_id = records_raw_sct.concept_id.astype(int)\n",
    "records_raw_sct.value_counts(\"origin\")"
   ]
  },
  {
   "cell_type": "code",
   "execution_count": null,
   "metadata": {
    "tags": []
   },
   "outputs": [],
   "source": [
    "# identify original ICD records\n",
    "records_raw_icd = records_raw[records_raw.vocabulary_origin == \"ICD10\"].copy()\n",
    "records_raw_icd.concept_id = records_raw_icd.concept_id.astype(int)\n",
    "records_raw_icd.value_counts(\"origin\")"
   ]
  },
  {
   "cell_type": "code",
   "execution_count": null,
   "metadata": {
    "tags": []
   },
   "outputs": [],
   "source": [
    "# check for remaining records\n",
    "rest_idxs = records_raw_sct.index.to_list() + records_raw_icd.index.to_list()\n",
    "records_rest = records_raw.loc[~records_raw.index.isin(rest_idxs)]\n",
    "records_rest.value_counts(\"origin\")"
   ]
  },
  {
   "cell_type": "code",
   "execution_count": null,
   "metadata": {
    "tags": []
   },
   "outputs": [],
   "source": [
    "records_rest.value_counts(\"vocabulary_origin\")"
   ]
  },
  {
   "cell_type": "code",
   "execution_count": null,
   "metadata": {
    "tags": []
   },
   "outputs": [],
   "source": [
    "# check that its not coming from SNOMED or ICD codes\n",
    "records_rest.query(\"vocabulary_origin=='SNOMED'\").value_counts(\"vocabulary_id\")"
   ]
  },
  {
   "cell_type": "code",
   "execution_count": null,
   "metadata": {
    "tags": []
   },
   "outputs": [],
   "source": [
    "records_raw_sct.shape, records_raw_icd.shape"
   ]
  },
  {
   "cell_type": "code",
   "execution_count": null,
   "metadata": {
    "tags": []
   },
   "outputs": [],
   "source": [
    "records_raw_icd"
   ]
  },
  {
   "cell_type": "code",
   "execution_count": null,
   "metadata": {
    "tags": []
   },
   "outputs": [],
   "source": [
    "records_raw_sct"
   ]
  },
  {
   "cell_type": "markdown",
   "metadata": {
    "execution": {
     "iopub.execute_input": "2022-05-27T15:44:44.334686Z",
     "iopub.status.busy": "2022-05-27T15:44:44.334459Z",
     "iopub.status.idle": "2022-05-27T15:44:44.337437Z",
     "shell.execute_reply": "2022-05-27T15:44:44.337167Z",
     "shell.execute_reply.started": "2022-05-27T15:44:44.334668Z"
    }
   },
   "source": [
    "### Map ICD records to phecodes"
   ]
  },
  {
   "cell_type": "code",
   "execution_count": null,
   "metadata": {
    "tags": []
   },
   "outputs": [],
   "source": [
    "icd_phecodes_1 = records_raw_icd.merge(phecode_mapping, left_on=\"code_origin\", right_on=\"ICD10\", how=\"left\")"
   ]
  },
  {
   "cell_type": "code",
   "execution_count": null,
   "metadata": {
    "tags": []
   },
   "outputs": [],
   "source": [
    "icd_phecodes_1_mapped = icd_phecodes_1.query(\"phecode==phecode\")"
   ]
  },
  {
   "cell_type": "code",
   "execution_count": null,
   "metadata": {
    "tags": []
   },
   "outputs": [],
   "source": [
    "icd_phecodes_1_unmapped = icd_phecodes_1.query(\"phecode!=phecode\").drop([\"phecode\", \"ICD10\"], axis=1, inplace=False)"
   ]
  },
  {
   "cell_type": "code",
   "execution_count": null,
   "metadata": {
    "tags": []
   },
   "outputs": [],
   "source": [
    "# map unmapped to parent icd codes\n",
    "icd_phecodes_2 = icd_phecodes_1_unmapped\\\n",
    "    .assign(code_origin_cut = lambda x: x.code_origin.str.slice(start=0, stop=3))\\\n",
    "    .merge(phecode_mapping, left_on=\"code_origin_cut\", right_on=\"ICD10\", how=\"left\").drop([\"code_origin_cut\"], axis=1, inplace=False)"
   ]
  },
  {
   "cell_type": "code",
   "execution_count": null,
   "metadata": {
    "tags": []
   },
   "outputs": [],
   "source": [
    "icd_phecodes_2_mapped = icd_phecodes_2.query(\"phecode==phecode\")"
   ]
  },
  {
   "cell_type": "code",
   "execution_count": null,
   "metadata": {},
   "outputs": [],
   "source": [
    "# sanity checks of the missing maps\n",
    "icd_phecodes_2_unmapped = icd_phecodes_2.query(\"phecode!=phecode\")\n",
    "icd_phecodes_2_unmapped_agg = icd_phecodes_2_unmapped.assign(code_origin_cut = lambda x: x.code_origin.str.slice(start=0, stop=3)).value_counts(\"code_origin_cut\")\n",
    "#print(icd_phecodes_2_unmapped_agg.to_string())"
   ]
  },
  {
   "cell_type": "code",
   "execution_count": null,
   "metadata": {
    "tags": []
   },
   "outputs": [],
   "source": [
    "# agg icd to phecode maps\n",
    "icd_phecodes = pd.concat([icd_phecodes_1_mapped, icd_phecodes_2_mapped], axis=0)"
   ]
  },
  {
   "cell_type": "code",
   "execution_count": null,
   "metadata": {
    "tags": []
   },
   "outputs": [],
   "source": [
    "icd_phecodes"
   ]
  },
  {
   "cell_type": "code",
   "execution_count": null,
   "metadata": {},
   "outputs": [],
   "source": [
    "icd_phecodes.concept_id = icd_phecodes.phecode.apply(lambda s: f\"phecode_{s}\")\n",
    "icd_phecodes.concept_id = icd_phecodes.concept_id.astype(\"category\")\n",
    "\n",
    "icd_phecodes.vocabulary_id = \"phecode\"\n",
    "\n",
    "icd_phecodes.drop([\"phecode\", \"ICD10\"], axis=1, inplace=True)\n",
    "icd_phecodes"
   ]
  },
  {
   "cell_type": "markdown",
   "metadata": {
    "execution": {
     "iopub.execute_input": "2022-05-27T15:44:44.334686Z",
     "iopub.status.busy": "2022-05-27T15:44:44.334459Z",
     "iopub.status.idle": "2022-05-27T15:44:44.337437Z",
     "shell.execute_reply": "2022-05-27T15:44:44.337167Z",
     "shell.execute_reply.started": "2022-05-27T15:44:44.334668Z"
    }
   },
   "source": [
    "### Map SNOMED records to phecodes"
   ]
  },
  {
   "cell_type": "code",
   "execution_count": null,
   "metadata": {
    "tags": []
   },
   "outputs": [],
   "source": [
    "sct_phecodes_1 = records_raw_sct.merge(mapping_df[[\"concept_id\", \"phecode\", \"mapRule\"]], on=\"concept_id\", how=\"left\") \n",
    "sct_phecodes_1"
   ]
  },
  {
   "cell_type": "code",
   "execution_count": null,
   "metadata": {},
   "outputs": [],
   "source": [
    "sct_phecodes_1_mapped = sct_phecodes_1.query(\"phecode==phecode\")"
   ]
  },
  {
   "cell_type": "code",
   "execution_count": null,
   "metadata": {},
   "outputs": [],
   "source": [
    "sct_phecodes_1_mapped.shape"
   ]
  },
  {
   "cell_type": "code",
   "execution_count": null,
   "metadata": {
    "tags": []
   },
   "outputs": [],
   "source": [
    "sct_phecodes_1_mapped"
   ]
  },
  {
   "cell_type": "code",
   "execution_count": null,
   "metadata": {
    "tags": []
   },
   "outputs": [],
   "source": [
    "sct_phecodes_1_unmapped = sct_phecodes_1.query(\"phecode!=phecode\")"
   ]
  },
  {
   "cell_type": "code",
   "execution_count": null,
   "metadata": {
    "tags": []
   },
   "outputs": [],
   "source": [
    "sct_phecodes_1_unmapped.shape"
   ]
  },
  {
   "cell_type": "code",
   "execution_count": null,
   "metadata": {
    "tags": []
   },
   "outputs": [],
   "source": [
    "sct_phecodes_1_unmapped.query(\"domain_id=='Condition'\").value_counts(\"concept_name\")"
   ]
  },
  {
   "cell_type": "code",
   "execution_count": null,
   "metadata": {},
   "outputs": [],
   "source": [
    "# add and merge baseline covariates for merge rules\n",
    "baseline_covariates = pd.read_feather(read_artifact(run, \"baseline_covariates\", \"prepare_covariates\"))\n",
    "baseline_covariates.head()"
   ]
  },
  {
   "cell_type": "code",
   "execution_count": null,
   "metadata": {},
   "outputs": [],
   "source": [
    "sct_phecodes = sct_phecodes_1_mapped.merge(baseline_covariates[['eid', 'sex_f31_0_0']], on='eid')\n",
    "sct_phecodes"
   ]
  },
  {
   "cell_type": "code",
   "execution_count": null,
   "metadata": {},
   "outputs": [],
   "source": [
    "sct_phecodes['sex_is_correct'] = True\n",
    "false_indices = sct_phecodes.query('(mapRule == \"IFA 248152002 | Female (finding) |\") & (sex_f31_0_0 == \"Male\")').index\n",
    "sct_phecodes.loc[false_indices, \"sex_is_correct\"] = False\n",
    "false_indices = sct_phecodes.query('(mapRule == \"IFA 248153007 | Male (finding) |\") & (sex_f31_0_0 == \"Female\")').index\n",
    "sct_phecodes.loc[false_indices, \"sex_is_correct\"] = False\n",
    "sct_phecodes = sct_phecodes.query('sex_is_correct').copy()"
   ]
  },
  {
   "cell_type": "code",
   "execution_count": null,
   "metadata": {},
   "outputs": [],
   "source": [
    "sct_phecodes.concept_id = sct_phecodes.phecode.apply(lambda s: f\"phecode_{s}\")\n",
    "sct_phecodes.concept_id = sct_phecodes.concept_id.astype(\"category\")\n",
    "\n",
    "sct_phecodes[\"vocabulary_id\"] = \"phecode\"\n",
    "\n",
    "sct_phecodes.drop([\"phecode\", \"mapRule\", \"sex_f31_0_0\"], axis=1, inplace=True)"
   ]
  },
  {
   "cell_type": "markdown",
   "metadata": {},
   "source": [
    "### Sanity checks"
   ]
  },
  {
   "cell_type": "code",
   "execution_count": null,
   "metadata": {},
   "outputs": [],
   "source": [
    "phecode_records = pd.concat([sct_phecodes, icd_phecodes], axis=0)\n",
    "phecode_records = phecode_records.query(\"date > recruitment_date\")\n",
    "phecode_records = phecode_records.sort_values(by=\"date\")[[\"eid\", \"origin\", \"concept_id\"]].drop_duplicates()"
   ]
  },
  {
   "cell_type": "code",
   "execution_count": null,
   "metadata": {},
   "outputs": [],
   "source": [
    "phecode_records"
   ]
  },
  {
   "cell_type": "code",
   "execution_count": null,
   "metadata": {},
   "outputs": [],
   "source": [
    "phecode_defs.phecode = phecode_defs.phecode.apply(lambda s: f\"phecode_{s}\")"
   ]
  },
  {
   "cell_type": "code",
   "execution_count": null,
   "metadata": {},
   "outputs": [],
   "source": [
    "concept_counts = phecode_records.groupby([\"origin\", \"concept_id\"]).count()\n",
    "concept_counts = concept_counts[\"eid\"].sort_values(ascending=False).to_frame(name=\"count\")"
   ]
  },
  {
   "cell_type": "code",
   "execution_count": null,
   "metadata": {},
   "outputs": [],
   "source": [
    "concept_counts_merged = concept_counts.reset_index().merge(phecode_defs, left_on=\"concept_id\", right_on=\"phecode\", how='left')\n",
    "concept_counts_merged = concept_counts_merged[['count', 'origin', 'concept_id', 'phecode_string', 'phecode_category']].query('count > 0')\n",
    "concept_counts_merged[:20]"
   ]
  },
  {
   "cell_type": "code",
   "execution_count": null,
   "metadata": {},
   "outputs": [],
   "source": [
    "concept_counts = phecode_records[['concept_id', 'eid']].groupby([\"concept_id\"]).count()\n",
    "concept_counts = concept_counts[\"eid\"].sort_values(ascending=False).to_frame(name=\"count\")"
   ]
  },
  {
   "cell_type": "code",
   "execution_count": null,
   "metadata": {},
   "outputs": [],
   "source": [
    "concept_counts_merged = concept_counts.reset_index().merge(phecode_defs, left_on=\"concept_id\", right_on=\"phecode\", how='left')\n",
    "concept_counts_merged = concept_counts_merged[['count', 'concept_id', 'phecode_string', 'phecode_category']].query('count > 0')\n",
    "concept_counts_merged[:20]"
   ]
  },
  {
   "cell_type": "code",
   "execution_count": null,
   "metadata": {
    "tags": []
   },
   "outputs": [],
   "source": [
    "concept_counts_merged[~concept_counts_merged.phecode_category.isin((\"Cong\", \"Dev\", \"Neonate\"))].query(\n",
    "    \"count >= 25\"\n",
    ")"
   ]
  },
  {
   "cell_type": "code",
   "execution_count": null,
   "metadata": {
    "tags": []
   },
   "outputs": [],
   "source": [
    "#concept_counts_merged.reset_index(drop=True).to_feather(\"/home/USER/concept_counts_snomed_220527.feather\")\n",
    "#concept_counts_merged.reset_index(drop=True).to_excel(\"/home/USER/concept_counts_snomed_220527.xlsx\")"
   ]
  },
  {
   "cell_type": "code",
   "execution_count": null,
   "metadata": {},
   "outputs": [],
   "source": [
    "run.log(dict(incident_phecode_counts=wandb.Table(dataframe=concept_counts.reset_index())))"
   ]
  },
  {
   "cell_type": "markdown",
   "metadata": {},
   "source": [
    "## Concatenate records"
   ]
  },
  {
   "cell_type": "code",
   "execution_count": null,
   "metadata": {},
   "outputs": [],
   "source": [
    "records_raw.concept_id = records_raw.concept_id.apply(lambda s: f'OMOP_{s}')"
   ]
  },
  {
   "cell_type": "code",
   "execution_count": null,
   "metadata": {
    "tags": []
   },
   "outputs": [],
   "source": [
    "records_raw"
   ]
  },
  {
   "cell_type": "code",
   "execution_count": null,
   "metadata": {},
   "outputs": [],
   "source": [
    "records_all_vocabs = pd.concat([\n",
    "    records_raw,#.assign(concept_id = lambda x: f'OMOP_{x.concept_id}'), \n",
    "    icd_phecodes, \n",
    "    sct_phecodes], axis=0).rename(dict(vocabulary_id='vocabulary'), axis=1).reset_index(drop=True)\n",
    "records_all_vocabs"
   ]
  },
  {
   "cell_type": "code",
   "execution_count": null,
   "metadata": {},
   "outputs": [],
   "source": [
    "use_columns = [\n",
    "    'eid',\n",
    "    'birth_date',\n",
    "    'recruitment_date',\n",
    "    'death_date',\n",
    "    'cens_date',\n",
    "    'exit_date',\n",
    "    'domain_id',\n",
    "    'code',\n",
    "    'concept_id',\n",
    "    \"unique_record_id\",\n",
    "    'origin',\n",
    "    'date',\n",
    "    'vocabulary',    \n",
    "]\n",
    "\n",
    "records_all_vocabs = records_all_vocabs[use_columns].copy()"
   ]
  },
  {
   "cell_type": "code",
   "execution_count": null,
   "metadata": {},
   "outputs": [],
   "source": [
    "records_all_vocabs.info()"
   ]
  },
  {
   "cell_type": "code",
   "execution_count": null,
   "metadata": {
    "jupyter": {
     "outputs_hidden": false
    },
    "pycharm": {
     "name": "#%%\n"
    },
    "tags": []
   },
   "outputs": [],
   "source": [
    "# make everything faster\n",
    "for col in tqdm(records_all_vocabs.columns): \n",
    "    if \"date\" in col: records_all_vocabs[col] = records_all_vocabs[col].astype(\"datetime64[D]\")"
   ]
  },
  {
   "cell_type": "code",
   "execution_count": null,
   "metadata": {
    "tags": []
   },
   "outputs": [],
   "source": [
    "# make everything faster\n",
    "for col in tqdm([\"concept_id\", \"vocabulary\"]): \n",
    "    records_all_vocabs[col] = records_all_vocabs[col].astype(\"category\")"
   ]
  },
  {
   "cell_type": "code",
   "execution_count": null,
   "metadata": {},
   "outputs": [],
   "source": [
    "records_mapped_unique = records_all_vocabs.drop_duplicates().reset_index(drop=True)"
   ]
  },
  {
   "cell_type": "code",
   "execution_count": null,
   "metadata": {
    "tags": []
   },
   "outputs": [],
   "source": [
    "records_mapped_unique.shape"
   ]
  },
  {
   "cell_type": "code",
   "execution_count": null,
   "metadata": {
    "tags": []
   },
   "outputs": [],
   "source": [
    "records_mapped_unique.info()"
   ]
  },
  {
   "cell_type": "code",
   "execution_count": null,
   "metadata": {
    "jupyter": {
     "outputs_hidden": false
    },
    "pycharm": {
     "name": "#%%\n"
    },
    "tags": []
   },
   "outputs": [],
   "source": [
    "def add_artifact(run, artifact_name, type_name, description, artifact_path, df):\n",
    "   \n",
    "    artifact = wandb.Artifact(artifact_name, type=type_name, \n",
    "                              description=description,\n",
    "                             metadata = {\"1_shape\": f\"{len(df)}x{len(df.columns)}\",\n",
    "                                         \"2_cols\": str(df.columns.to_list())})\n",
    "    artifact.add_reference(f\"\"\"file://{artifact_path}\"\"\", artifact_name, checksum=True)\n",
    "    run.log_artifact(artifact)"
   ]
  },
  {
   "cell_type": "code",
   "execution_count": null,
   "metadata": {
    "jupyter": {
     "outputs_hidden": false
    },
    "pycharm": {
     "name": "#%%\n"
    },
    "tags": []
   },
   "outputs": [],
   "source": [
    "# log in wandb\n",
    "artifact_name = \"final_records_omop\"\n",
    "type_name = \"prepare_records\"\n",
    "description = \"Cleaned first patient records from the data portal in long format\"\n",
    "artifact_path = f\"{dataset_path}/artifacts/{artifact_name}_{artifact_date}.feather\"\n",
    "records_mapped_unique.to_feather(artifact_path)\n",
    "add_artifact(run, artifact_name, type_name, description, artifact_path, records_mapped_unique)"
   ]
  },
  {
   "cell_type": "code",
   "execution_count": null,
   "metadata": {
    "tags": []
   },
   "outputs": [],
   "source": [
    "1+1"
   ]
  }
 ],
 "metadata": {
  "kernelspec": {
   "display_name": "Python [conda env:ehrgraphs]",
   "language": "python",
   "name": "conda-env-ehrgraphs-py"
  },
  "language_info": {
   "codemirror_mode": {
    "name": "ipython",
    "version": 3
   },
   "file_extension": ".py",
   "mimetype": "text/x-python",
   "name": "python",
   "nbconvert_exporter": "python",
   "pygments_lexer": "ipython3",
   "version": "3.9.7"
  },
  "toc-autonumbering": true,
  "toc-showcode": false,
  "toc-showmarkdowntxt": false
 },
 "nbformat": 4,
 "nbformat_minor": 4
}