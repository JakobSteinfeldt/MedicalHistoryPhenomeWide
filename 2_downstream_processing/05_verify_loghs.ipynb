{
 "cells": [
  {
   "cell_type": "markdown",
   "metadata": {},
   "source": [
    "# Benchmarks"
   ]
  },
  {
   "cell_type": "markdown",
   "metadata": {},
   "source": [
    "## Initialize"
   ]
  },
  {
   "cell_type": "code",
   "execution_count": null,
   "metadata": {
    "execution": {
     "iopub.execute_input": "2023-04-26T09:23:55.189087Z",
     "iopub.status.busy": "2023-04-26T09:23:55.188539Z",
     "iopub.status.idle": "2023-04-26T09:23:58.661093Z",
     "shell.execute_reply": "2023-04-26T09:23:58.660476Z",
     "shell.execute_reply.started": "2023-04-26T09:23:55.189067Z"
    },
    "tags": []
   },
   "outputs": [],
   "source": [
    "import os\n",
    "import math\n",
    "import pathlib\n",
    "import numpy as np\n",
    "import pandas as pd\n",
    "import pyarrow as pa\n",
    "import pyarrow.feather as feather\n",
    "from tqdm.auto import tqdm\n",
    "from IPython.display import clear_output\n",
    "\n",
    "import warnings\n",
    "from lifelines.utils import CensoringType\n",
    "from lifelines.utils import concordance_index"
   ]
  },
  {
   "cell_type": "code",
   "execution_count": null,
   "metadata": {
    "tags": []
   },
   "outputs": [],
   "source": [
    "import ray\n",
    "ray.shutdown()"
   ]
  },
  {
   "cell_type": "code",
   "execution_count": null,
   "metadata": {
    "execution": {
     "iopub.execute_input": "2023-04-26T09:23:58.662502Z",
     "iopub.status.busy": "2023-04-26T09:23:58.662159Z",
     "iopub.status.idle": "2023-04-26T09:23:58.675647Z",
     "shell.execute_reply": "2023-04-26T09:23:58.675052Z",
     "shell.execute_reply.started": "2023-04-26T09:23:58.662484Z"
    },
    "tags": []
   },
   "outputs": [],
   "source": [
    "node = !hostname\n",
    "if \"sc\" in node[0]:\n",
    "    base_path = \"/sc-projects/sc-proj-ukb-cvd\"\n",
    "else: \n",
    "    base_path = \"/data/analysis/ag-reils/ag-reils-shared/cardioRS\"\n",
    "print(base_path)\n",
    "\n",
    "project_label = \"22_medical_records\"\n",
    "project_path = f\"{base_path}/results/projects/{project_label}\"\n",
    "figure_path = f\"{project_path}/figures\"\n",
    "output_path = f\"{project_path}/data\"\n",
    "\n",
    "pathlib.Path(figure_path).mkdir(parents=True, exist_ok=True)\n",
    "pathlib.Path(output_path).mkdir(parents=True, exist_ok=True)\n",
    "\n",
    "experiment = 230425\n",
    "experiment_path = f\"{output_path}/{experiment}\"\n",
    "pathlib.Path(experiment_path).mkdir(parents=True, exist_ok=True)"
   ]
  },
  {
   "cell_type": "code",
   "execution_count": null,
   "metadata": {
    "execution": {
     "iopub.execute_input": "2023-04-26T09:26:51.700292Z",
     "iopub.status.busy": "2023-04-26T09:26:51.699592Z",
     "iopub.status.idle": "2023-04-26T09:27:20.070091Z",
     "shell.execute_reply": "2023-04-26T09:27:20.069379Z",
     "shell.execute_reply.started": "2023-04-26T09:26:51.700272Z"
    },
    "tags": []
   },
   "outputs": [],
   "source": [
    "import ray\n",
    "ray.init(num_cpus=24, include_dashboard=False)#, dashboard_port=24762, dashboard_host=\"0.0.0.0\", include_dashboard=True)#, webui_url=\"0.0.0.0\"))"
   ]
  },
  {
   "cell_type": "code",
   "execution_count": null,
   "metadata": {
    "execution": {
     "iopub.execute_input": "2023-04-26T09:28:20.726472Z",
     "iopub.status.busy": "2023-04-26T09:28:20.726083Z",
     "iopub.status.idle": "2023-04-26T09:28:20.737543Z",
     "shell.execute_reply": "2023-04-26T09:28:20.737029Z",
     "shell.execute_reply.started": "2023-04-26T09:28:20.726453Z"
    },
    "tags": []
   },
   "outputs": [],
   "source": [
    "endpoints_md = pd.read_csv(f\"{experiment_path}/endpoints.csv\")\n",
    "endpoints = sorted(endpoints_md.endpoint.to_list())"
   ]
  },
  {
   "cell_type": "code",
   "execution_count": null,
   "metadata": {
    "execution": {
     "iopub.execute_input": "2023-04-26T09:28:22.279164Z",
     "iopub.status.busy": "2023-04-26T09:28:22.278690Z",
     "iopub.status.idle": "2023-04-26T09:28:22.282256Z",
     "shell.execute_reply": "2023-04-26T09:28:22.281803Z",
     "shell.execute_reply.started": "2023-04-26T09:28:22.279145Z"
    },
    "tags": []
   },
   "outputs": [],
   "source": [
    "in_path = pathlib.Path(f\"{experiment_path}/loghs\")\n",
    "in_path.mkdir(parents=True, exist_ok=True)"
   ]
  },
  {
   "cell_type": "code",
   "execution_count": null,
   "metadata": {
    "execution": {
     "iopub.execute_input": "2023-04-26T09:28:22.709407Z",
     "iopub.status.busy": "2023-04-26T09:28:22.709010Z",
     "iopub.status.idle": "2023-04-26T09:28:22.713597Z",
     "shell.execute_reply": "2023-04-26T09:28:22.713127Z",
     "shell.execute_reply.started": "2023-04-26T09:28:22.709388Z"
    },
    "tags": []
   },
   "outputs": [],
   "source": [
    "models = models = [f.name for f in in_path.iterdir() if f.is_dir() and \"ipynb_checkpoints\" not in str(f)]\n",
    "partitions = [i for i in range(22)] #[0, 1, 3, 4, 5, 6, 7, 8, 9, 10, 11, 12, 13, 14, 15, 16]"
   ]
  },
  {
   "cell_type": "code",
   "execution_count": null,
   "metadata": {
    "execution": {
     "iopub.execute_input": "2023-04-26T09:28:25.126214Z",
     "iopub.status.busy": "2023-04-26T09:28:25.125839Z",
     "iopub.status.idle": "2023-04-26T09:28:25.760325Z",
     "shell.execute_reply": "2023-04-26T09:28:25.759729Z",
     "shell.execute_reply.started": "2023-04-26T09:28:25.126196Z"
    },
    "tags": []
   },
   "outputs": [],
   "source": [
    "from sklearn.preprocessing import StandardScaler\n",
    "import pickle\n",
    "import zstandard\n",
    "\n",
    "def read_data(fp_in, split):\n",
    "    temp = pd.read_feather(f\"{fp_in}/{split}.feather\").set_index(\"eid\")\n",
    "    return temp   \n",
    "    \n",
    "def save_pickle(data, data_path):\n",
    "    with open(data_path, \"wb\") as fh:\n",
    "        cctx = zstandard.ZstdCompressor()\n",
    "        with cctx.stream_writer(fh) as compressor:\n",
    "            compressor.write(pickle.dumps(data, protocol=pickle.HIGHEST_PROTOCOL))\n",
    "    \n",
    "def read_predictions(model, partition, split):\n",
    "\n",
    "    fp_in = f\"{in_path}/{model}/{partition}\"\n",
    "    \n",
    "    if pathlib.Path(fp_in).is_dir(): \n",
    "        temp = read_data(fp_in, split)\n",
    "        \n",
    "    return temp"
   ]
  },
  {
   "cell_type": "code",
   "execution_count": null,
   "metadata": {
    "execution": {
     "iopub.execute_input": "2023-04-26T09:28:35.533582Z",
     "iopub.status.busy": "2023-04-26T09:28:35.532920Z",
     "iopub.status.idle": "2023-04-26T09:30:53.398230Z",
     "shell.execute_reply": "2023-04-26T09:30:53.397409Z",
     "shell.execute_reply.started": "2023-04-26T09:28:35.533563Z"
    },
    "tags": []
   },
   "outputs": [],
   "source": [
    "for partition in partitions:\n",
    "    for split in [\"train\", \"valid\", \"test\"]:\n",
    "        try: \n",
    "            temp = read_predictions('Identity(Records)+MLP', partition, split)\n",
    "            print(partition, split, (temp.isna().sum() > 0).sum())\n",
    "        except UnboundLocalError:\n",
    "            print(partition, split, \"not available\")"
   ]
  },
  {
   "cell_type": "code",
   "execution_count": null,
   "metadata": {},
   "outputs": [],
   "source": []
  }
 ],
 "metadata": {
  "kernelspec": {
   "display_name": "Python [conda env:udm]",
   "language": "python",
   "name": "conda-env-udm-py"
  },
  "language_info": {
   "codemirror_mode": {
    "name": "ipython",
    "version": 3
   },
   "file_extension": ".py",
   "mimetype": "text/x-python",
   "name": "python",
   "nbconvert_exporter": "python",
   "pygments_lexer": "ipython3",
   "version": "3.10.9"
  },
  "toc-autonumbering": false
 },
 "nbformat": 4,
 "nbformat_minor": 4
}
