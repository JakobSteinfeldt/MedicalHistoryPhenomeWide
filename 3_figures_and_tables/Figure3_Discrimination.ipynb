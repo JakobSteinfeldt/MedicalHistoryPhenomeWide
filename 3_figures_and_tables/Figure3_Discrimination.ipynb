{
 "cells": [
  {
   "cell_type": "markdown",
   "metadata": {},
   "source": [
    "# Benchmarks"
   ]
  },
  {
   "cell_type": "markdown",
   "metadata": {},
   "source": [
    "## Initialize"
   ]
  },
  {
   "cell_type": "code",
   "execution_count": null,
   "metadata": {
    "ExecuteTime": {
     "end_time": "2021-01-05T11:03:09.852316Z",
     "start_time": "2021-01-05T11:03:07.701Z"
    },
    "execution": {
     "iopub.execute_input": "2023-05-12T09:49:20.215556Z",
     "iopub.status.busy": "2023-05-12T09:49:20.213863Z",
     "iopub.status.idle": "2023-05-12T09:49:22.861192Z",
     "shell.execute_reply": "2023-05-12T09:49:22.860095Z"
    },
    "tags": []
   },
   "outputs": [],
   "source": [
    "#library(Rmisc)\n",
    "library(dtplyr)\n",
    "library(tidyverse)\n",
    "library(glue)\n",
    "library(arrow)\n",
    "library(patchwork)\n",
    "library(data.table)\n",
    "library(\"jsonlite\")\n",
    "library(ggthemes)"
   ]
  },
  {
   "cell_type": "code",
   "execution_count": null,
   "metadata": {
    "ExecuteTime": {
     "end_time": "2021-01-05T11:03:10.491477Z",
     "start_time": "2021-01-05T11:03:10.445Z"
    },
    "execution": {
     "iopub.execute_input": "2023-05-12T09:49:22.880767Z",
     "iopub.status.busy": "2023-05-12T09:49:22.862790Z",
     "iopub.status.idle": "2023-05-12T09:49:22.900787Z",
     "shell.execute_reply": "2023-05-12T09:49:22.899997Z"
    },
    "tags": []
   },
   "outputs": [],
   "source": [
    "if (grepl(\"sc\", Sys.info()[[\"nodename\"]], fixed=TRUE)) {\n",
    "    base_path = \"/sc-projects/sc-proj-ukb-cvd\"\n",
    "} else {\n",
    "    base_path = \"/data/analysis/ag-reils/ag-reils-shared/cardioRS\"}\n",
    "print(base_path)\n",
    "\n",
    "project_label=\"22_medical_records\"\n",
    "project_path = glue(\"{base_path}/results/projects/{project_label}\")\n",
    "figure_path = glue(\"{project_path}/figures\")\n",
    "output_path = glue(\"{project_path}/data\")\n",
    "\n",
    "experiment = 230425\n",
    "experiment_path = glue(\"{output_path}/{experiment}\")"
   ]
  },
  {
   "cell_type": "code",
   "execution_count": null,
   "metadata": {
    "execution": {
     "iopub.execute_input": "2023-05-12T09:49:22.902747Z",
     "iopub.status.busy": "2023-05-12T09:49:22.902068Z",
     "iopub.status.idle": "2023-05-12T09:49:22.961146Z",
     "shell.execute_reply": "2023-05-12T09:49:22.960343Z"
    },
    "tags": []
   },
   "outputs": [],
   "source": [
    "base_size = 8\n",
    "title_size = 10\n",
    "facet_size = 9\n",
    "geom_text_size=3\n",
    "theme_set(theme_classic(base_size = base_size) + \n",
    "          theme(strip.background = element_blank(), plot.title=element_text(size=title_size, hjust=0), \n",
    "                strip.text.x = element_text(size = facet_size),axis.title=element_text(size=10), axis.text=element_text(size=8, color=\"black\"),\n",
    "                legend.position=\"bottom\", axis.line = element_line(size = 0.2), axis.ticks=element_line(size=0.2), panel.grid.major.y=element_line()))"
   ]
  },
  {
   "cell_type": "code",
   "execution_count": null,
   "metadata": {
    "ExecuteTime": {
     "end_time": "2021-01-05T11:03:23.526022Z",
     "start_time": "2021-01-05T11:03:20.042Z"
    },
    "execution": {
     "iopub.execute_input": "2023-05-12T09:49:22.963094Z",
     "iopub.status.busy": "2023-05-12T09:49:22.962436Z",
     "iopub.status.idle": "2023-05-12T09:49:22.972351Z",
     "shell.execute_reply": "2023-05-12T09:49:22.971559Z"
    },
    "tags": []
   },
   "outputs": [],
   "source": [
    "colors_dict = read_json(\"colors.json\")\n",
    "color_map <- c(\n",
    "    \"Identity(AgeSex)+MLP\" = colors_dict$pastel$red$mid,\n",
    "    \"Identity(Records)+MLP\" = colors_dict$pastel$red$mid,\n",
    "    \"GNN(Records)+MLP\" = colors_dict$pastel$red$mid,\n",
    "    \"Identity(AgeSex+Records)+MLP\" = colors_dict$pastel$red$mid,\n",
    "    \"GNN(AgeSex+Records)+MLP\" = colors_dict$pastel$red$mid\n",
    ")"
   ]
  },
  {
   "cell_type": "code",
   "execution_count": null,
   "metadata": {
    "execution": {
     "iopub.execute_input": "2023-05-12T09:49:22.974241Z",
     "iopub.status.busy": "2023-05-12T09:49:22.973578Z",
     "iopub.status.idle": "2023-05-12T09:49:23.039881Z",
     "shell.execute_reply": "2023-05-12T09:49:23.039030Z"
    },
    "tags": []
   },
   "outputs": [],
   "source": [
    "endpoint_defs = arrow::read_feather(glue(\"{output_path}/phecode_defs_220306.feather\")) %>% arrange(endpoint)\n",
    "endpoints_md = fread(glue(\"{experiment_path}/endpoints.csv\"), colClasses=c(\"phecode\"=\"character\"))\n",
    "endpoints = sort(endpoints_md$endpoint)"
   ]
  },
  {
   "cell_type": "code",
   "execution_count": null,
   "metadata": {
    "execution": {
     "iopub.execute_input": "2023-05-12T09:49:23.041766Z",
     "iopub.status.busy": "2023-05-12T09:49:23.041092Z",
     "iopub.status.idle": "2023-05-12T09:49:23.057273Z",
     "shell.execute_reply": "2023-05-12T09:49:23.056483Z"
    },
    "tags": []
   },
   "outputs": [],
   "source": [
    "endpoint_map = endpoint_defs$phecode_string\n",
    "names(endpoint_map) =  endpoint_defs$endpoint\n",
    "endpoint_order = (endpoint_defs %>% arrange(as.numeric(phecode)))$endpoint"
   ]
  },
  {
   "cell_type": "code",
   "execution_count": null,
   "metadata": {
    "execution": {
     "iopub.execute_input": "2023-05-12T09:49:23.059155Z",
     "iopub.status.busy": "2023-05-12T09:49:23.058515Z",
     "iopub.status.idle": "2023-05-12T09:49:23.104911Z",
     "shell.execute_reply": "2023-05-12T09:49:23.103967Z"
    },
    "tags": []
   },
   "outputs": [],
   "source": [
    "endpoint_selection = c(\n",
    "    \n",
    "   'phecode_401', #  \"Hypertension\", # intervention\n",
    "    'phecode_202', #  \"Diabetes mellitus\", # intervention\n",
    "    'phecode_416-21', #  \"Atrial fibrillation\", # intervention\n",
    "    'phecode_468', #  \"Pneumonia\", # intervention\n",
    "    'phecode_474', #  \"Chronic obstructive pulmonary disease [COPD]\", # interventio\n",
    "    'phecode_583', #  \"Chronic kidney disease\", # intervention\n",
    "    \n",
    "    'phecode_404', #  \"Ischemic heart disease\",\n",
    "    'phecode_404-1', #  \"Myocardial infarction [Heart attack]\", # intervention\n",
    "    'phecode_431-11', #  \"Cerebral infarction [Ischemic stroke]\",\n",
    "    'phecode_424', #  \"Heart failure\", # intervention\n",
    "    'phecode_420', #  \"Cardiac arrest\", # intervention\n",
    "    'OMOP_4306655', #  \"All-Cause Death\", # intervention\n",
    "    \n",
    "    'phecode_438-11',   #  \"Abdominal aortic aneurysm\",\n",
    "    'phecode_440-3',#  \"Pulmonary embolism\", # intervention\n",
    "    'phecode_413-21',#  \"Aortic stenosis\", # intervention\n",
    "    'phecode_413-11', #  \"Mitral valve insufficiency\",\n",
    "    'phecode_410-2',#  \"Endocarditis\",\n",
    "    'phecode_400',#  \"Rheumatic fever and chronic rheumatic heart diseases\",\t\n",
    "    \n",
    "    'phecode_164', #  \"Anemia\", # intervention\n",
    "    'phecode_718',  #  \"Back pain\", # intervention\n",
    "    'phecode_324-11', #  \"Parkinson's disease (Primary)\",\n",
    "    'phecode_705-1', #  \"Rheumatoid arthritis\", # NEW + interventio\n",
    "    'phecode_665', #  \"Psoriasis\", # interesting\n",
    "    'phecode_284'#  \"Suicide ideation and attempt or self harm\" # intervention\n",
    ")\n",
    "endpoint_defs = endpoint_defs %>% \n",
    "    mutate(name = phecode_string) %>%\n",
    "    mutate(name = \n",
    "           case_when( \n",
    "               phecode_string == \"Myocardial infarction [Heart attack]\"~\"Myocardial infarction\",\n",
    "               phecode_string == \"Cerebral infarction [Ischemic stroke]\"~\"Ischemic stroke\",\n",
    "               phecode_string == \"Chronic obstructive pulmonary disease [COPD]\"~\"COPD\",\n",
    "               phecode_string == \"Mitral valve insufficiency\"~\"Mitral insufficiency\",\n",
    "               phecode_string == \"Parkinson's disease (Primary)\"~\"Parkinson's\",\n",
    "               phecode_string == \"Suicide ideation and attempt or self harm\"~\"Suicide attempt\",\n",
    "               phecode_string == \"Ischemic heart disease\"~\"Ischemic HD\",\n",
    "               phecode_string == \"Chronic kidney disease\"~\"Chronic KD\",\n",
    "               phecode_string == \"Rheumatic fever and chronic rheumatic heart diseases\"~\"Rheumatic HD\",\n",
    "               phecode_string == \"Abdominal aortic aneurysm\"~\"Abdominal AA\",\n",
    "                  TRUE ~ name)\n",
    "           )\n",
    "            \n",
    "endpoint_map = endpoint_defs$name\n",
    "names(endpoint_map) =  endpoint_defs$endpoint\n",
    "#endpoint_order = (endpoint_defs %>% arrange(as.numeric(phecode)))$endpoint\n",
    "endpoint_order = endpoint_selection"
   ]
  },
  {
   "cell_type": "markdown",
   "metadata": {},
   "source": [
    "## Load data"
   ]
  },
  {
   "cell_type": "markdown",
   "metadata": {},
   "source": [
    "# Load Benchmarks"
   ]
  },
  {
   "cell_type": "code",
   "execution_count": null,
   "metadata": {
    "execution": {
     "iopub.execute_input": "2023-05-12T09:49:23.774547Z",
     "iopub.status.busy": "2023-05-12T09:49:23.773850Z",
     "iopub.status.idle": "2023-05-12T09:49:24.881432Z",
     "shell.execute_reply": "2023-05-12T09:49:24.880417Z"
    },
    "tags": []
   },
   "outputs": [],
   "source": [
    "name = \"benchmarks_cindex_230425\"\n",
    "benchmark_endpoints = arrow::read_feather(glue(\"{experiment_path}/{name}.feather\")) %>% left_join(endpoints_md) "
   ]
  },
  {
   "cell_type": "code",
   "execution_count": null,
   "metadata": {
    "execution": {
     "iopub.execute_input": "2023-05-12T09:49:24.883417Z",
     "iopub.status.busy": "2023-05-12T09:49:24.882754Z",
     "iopub.status.idle": "2023-05-12T09:49:25.232983Z",
     "shell.execute_reply": "2023-05-12T09:49:25.232177Z"
    },
    "tags": []
   },
   "outputs": [],
   "source": [
    "benchmark_endpoints %>% group_by(endpoint, score)  %>% summarise(cindex=mean(cindex)) %>% group_by(score) %>% summarise(mean(cindex)) %>% arrange(`mean(cindex)`)"
   ]
  },
  {
   "cell_type": "code",
   "execution_count": null,
   "metadata": {
    "execution": {
     "iopub.execute_input": "2023-05-12T09:49:25.234887Z",
     "iopub.status.busy": "2023-05-12T09:49:25.234224Z",
     "iopub.status.idle": "2023-05-12T09:49:25.317433Z",
     "shell.execute_reply": "2023-05-12T09:49:25.316551Z"
    },
    "tags": []
   },
   "outputs": [],
   "source": [
    "endpoints_sorted = (benchmark_endpoints %>% \n",
    "    filter(score == \"Age+Sex+MedicalHistory\") %>% \n",
    "    group_by(endpoint, score) %>% \n",
    "    summarise(cindex=mean(cindex, na.rm=TRUE)) %>% \n",
    "    arrange(cindex) %>% ungroup())$endpoint"
   ]
  },
  {
   "cell_type": "code",
   "execution_count": null,
   "metadata": {
    "execution": {
     "iopub.execute_input": "2023-05-12T09:49:25.319498Z",
     "iopub.status.busy": "2023-05-12T09:49:25.318798Z",
     "iopub.status.idle": "2023-05-12T09:49:25.325454Z",
     "shell.execute_reply": "2023-05-12T09:49:25.324638Z"
    },
    "tags": []
   },
   "outputs": [],
   "source": [
    "categories_sorted = (endpoint_defs %>% distinct(phecode_category))$phecode_category"
   ]
  },
  {
   "cell_type": "code",
   "execution_count": null,
   "metadata": {
    "execution": {
     "iopub.execute_input": "2023-05-12T09:49:25.934698Z",
     "iopub.status.busy": "2023-05-12T09:49:25.934003Z",
     "iopub.status.idle": "2023-05-12T09:49:26.009581Z",
     "shell.execute_reply": "2023-05-12T09:49:26.008747Z"
    },
    "tags": []
   },
   "outputs": [],
   "source": [
    "benchmark_endpoints"
   ]
  },
  {
   "cell_type": "markdown",
   "metadata": {},
   "source": [
    "benchmark_endpoints## General Performance"
   ]
  },
  {
   "cell_type": "code",
   "execution_count": null,
   "metadata": {
    "execution": {
     "iopub.execute_input": "2023-05-12T09:49:27.916198Z",
     "iopub.status.busy": "2023-05-12T09:49:27.915463Z",
     "iopub.status.idle": "2023-05-12T09:49:30.722178Z",
     "shell.execute_reply": "2023-05-12T09:49:30.721341Z"
    },
    "tags": []
   },
   "outputs": [],
   "source": [
    "plot_width = 8.25; plot_height=2.5; plot_res = 600\n",
    "options(repr.plot.width = plot_width, repr.plot.height = plot_height, repr.plot.res=plot_res)\n",
    "\n",
    "library(ggtext)\n",
    "library(ggdist)\n",
    "\n",
    "scores_plot = c(\"Age+Sex\", \"Age+Sex+MedicalHistory\")#, \"AgeSexMedicalHistory\")\n",
    "\n",
    "temp = benchmark_endpoints %>% \n",
    "    filter(score %in% scores_plot) %>% \n",
    "    mutate(score = factor(score, levels=scores_plot)) %>%\n",
    "    mutate(endpoint = factor(endpoint, levels=endpoints_sorted)) %>%\n",
    "    ungroup() %>%\n",
    "    pivot_wider(names_from=score, values_from=cindex) %>% \n",
    "    mutate(id = row_number()) %>%\n",
    "    mutate(delta = !!sym(scores_plot[2])-!!sym(scores_plot[1])) %>%\n",
    "    group_by(endpoint, phecode_string, freq, phecode_category) %>%\n",
    "    median_qi(delta, .width=1-(0.05/1883)) %>%\n",
    "    mutate(pos = case_when(delta>=0 ~ \"pos\", delta < 0 ~\"neg\")) %>%\n",
    "    mutate(endpoint = fct_reorder(endpoint, delta)) %>%\n",
    "    mutate(highlight = case_when(endpoint %in% endpoint_selection ~ \"YES\", TRUE ~ \"NO\")) %>%# %>% filter(endpoint %in% endpoint_sample)\n",
    "    mutate(phecode_category = factor(phecode_category, levels=categories_sorted))\n",
    "\n",
    "temp = bind_rows(temp, \n",
    "                 temp %>% filter(endpoint == \"OMOP_4306655\") %>% mutate(delta=0, highlight=\"NO\", endpoint=\"2\"),\n",
    "                temp %>% filter(endpoint == \"OMOP_4306655\") %>% mutate(delta=0, highlight=\"NO\", endpoint=\"1\"))\n",
    "\n",
    "endpoint_order = (temp %>% arrange(delta))$endpoint\n",
    "\n",
    "temp = temp %>% mutate(endpoint = factor(endpoint, levels=endpoint_order)) %>% ungroup() %>% \n",
    "    arrange(endpoint) %>% group_by(phecode_category) %>% mutate(endpoint_id = row_number()) #%>%\n",
    "\n",
    "temp_plot = temp %>% filter(!phecode_category %in% c(\"Signs/Symptoms\", \"Preg\", \"Rx\", \"Stat\"))\n",
    "\n",
    "overview = ggplot(temp_plot) +\n",
    "    geom_ribbon(aes(x=endpoint_id, ymin=0, ymax=delta), fill=\"black\", alpha=0.2)+\n",
    "    geom_point(aes(x=endpoint_id, y=delta, color=highlight, size=highlight, alpha=highlight)) +\n",
    "    #geom_text(data=temp %>% filter(highlight==\"YES\"), aes(x=endpoint, y=delta+0.045, label=\"↓\"), color=\"black\", size=5, alpha=0.7) +\n",
    "    #geom_segment(aes(x=endpoint, xend=endpoint, y=0, yend=delta, color=highlight, size=highlight), alpha=0.5)+#+\n",
    "    labs(x=\"Endpoints\", y=\"Delta C-Index\")+\n",
    "    scale_color_manual(values=c(\"NO\"=\"black\", \"YES\"=\"firebrick\"))+\n",
    "    scale_alpha_manual(values=c(\"NO\"=0.5, \"YES\"=1))+\n",
    "    scale_size_manual(values=c(\"NO\"=0.01, \"YES\"=1))+\n",
    "    #scale_colour_manual(values = c(\"pos\"=\"forestgreen\", \"neg\" = \"firebrick\")) + \n",
    "    #coord_polar() +\n",
    "    coord_cartesian(ylim=c(-0.35, 0.4), clip = \"off\")+\n",
    "    scale_y_continuous(expand=c(0, 0))+\n",
    "    scale_x_discrete(expand=expansion(add=20))+\n",
    "    facet_grid(~phecode_category, scales=\"free_x\", space=\"free_x\")+#, switch=TRUE)+\n",
    "    #facet_grid2(~phecode_category, scales = \"free\", independent = \"all\") + \n",
    "    theme(axis.title.x=element_blank(),\n",
    "        axis.text.x=element_blank(),\n",
    "        axis.ticks.x=element_blank(),\n",
    "        panel.grid.major=element_blank(), \n",
    "         strip.text = element_text(angle=270, hjust=1)) + \n",
    "    theme(legend.position=\"none\") \n",
    "\n",
    "temp = temp %>% filter(!(phecode_category == \"Death\" & highlight==\"NO\")) \n",
    "    \n",
    "    #geom_ribbon(aes(x=id, ymin=AgeSex, ymax=`Age+Sex+MedicalHistory`), fill=\"red\", alpha=0.2)\n",
    "#geom_violin(size=0.1)\n",
    "overview"
   ]
  },
  {
   "cell_type": "code",
   "execution_count": null,
   "metadata": {
    "execution": {
     "iopub.execute_input": "2023-05-12T09:49:30.724127Z",
     "iopub.status.busy": "2023-05-12T09:49:30.723457Z",
     "iopub.status.idle": "2023-05-12T09:49:31.366377Z",
     "shell.execute_reply": "2023-05-12T09:49:31.365403Z"
    },
    "tags": []
   },
   "outputs": [],
   "source": [
    "library(gt)\n",
    "plot_name = \"Figure3a_overview\"\n",
    "overview %>% ggsave(filename=glue(\"outputs/{plot_name}.pdf\"), device=\"pdf\", width=plot_width, height=plot_height, dpi=plot_res)"
   ]
  },
  {
   "cell_type": "code",
   "execution_count": null,
   "metadata": {
    "execution": {
     "iopub.execute_input": "2023-05-12T09:49:31.368360Z",
     "iopub.status.busy": "2023-05-12T09:49:31.367672Z",
     "iopub.status.idle": "2023-05-12T09:49:31.388140Z",
     "shell.execute_reply": "2023-05-12T09:49:31.387385Z"
    },
    "tags": []
   },
   "outputs": [],
   "source": [
    "temp %>% ungroup() %>% median_qi(delta, .width = c(.25)) %>% select(.lower, delta, .upper)"
   ]
  },
  {
   "cell_type": "code",
   "execution_count": null,
   "metadata": {
    "execution": {
     "iopub.execute_input": "2023-05-12T09:49:31.390021Z",
     "iopub.status.busy": "2023-05-12T09:49:31.389386Z",
     "iopub.status.idle": "2023-05-12T09:49:35.319258Z",
     "shell.execute_reply": "2023-05-12T09:49:35.318316Z"
    },
    "tags": []
   },
   "outputs": [],
   "source": [
    "scores_plot = c(\"Age+Sex\", \"Age+Sex+MedicalHistory\")#, \"AgeSexMedicalHistory\")\n",
    "\n",
    "table_2 = benchmark_endpoints %>% \n",
    "    filter(score %in% scores_plot) %>% \n",
    "    mutate(score = factor(score, levels=scores_plot)) %>%\n",
    "    mutate(endpoint = factor(endpoint, levels=endpoints_sorted)) %>%\n",
    "    group_by(endpoint, score, phecode_string, phecode_category) %>%\n",
    "    pivot_wider(names_from=score, values_from=cindex) %>% \n",
    "    mutate(id = row_number()) %>%\n",
    "    mutate(delta = `Age+Sex+MedicalHistory`-`Age+Sex`) %>%\n",
    "    #select(endpoint, iteration, phecode_string, phecode_category, sex, `Age+Sex`, `Age+Sex+MedicalHistory`, delta) %>%\n",
    "    pivot_longer(all_of(c(\"Age+Sex\", \"Age+Sex+MedicalHistory\", \"delta\")), names_to=\"type\", values_to=\"cindex\") %>%\n",
    "    group_by(endpoint, phecode_string, phecode_category, type) %>%\n",
    "    median_qi(cindex, .width=1-(0.05/1883)) %>%\n",
    "    mutate(agg = glue(\"{round(cindex, 3)} ({round(.lower, 3)}, {round(.upper, 3)})\")) %>%\n",
    "    ungroup() %>% select(endpoint, phecode_string, phecode_category, type, agg) %>%\n",
    "    pivot_wider(names_from=type, values_from=agg) %>%\n",
    "      mutate(delta2 = str_replace_all(delta, \"\\\\(\", \",\")) %>% mutate(delta2 = str_replace_all(delta2, \"\\\\)\", \"\")) %>% #mutate(delta2 = str_replace_all(delta2, \",\", \" \")) %>%#mutate(delta2 = gsub(\")\", \"\", delta2)) %>%\n",
    "    separate(delta2, into = c(\"delta_median\", \"delta_lower\", \"delta_upper\"), sep = \",\", remove = TRUE, extra = \"merge\") %>%\n",
    "      mutate(delta_median= as.numeric(delta_median),\n",
    "             delta_lower = as.numeric(delta_lower),\n",
    "             delta_upper = as.numeric(delta_upper)) %>%\n",
    "    mutate(sign = case_when(\n",
    "        delta_upper<0 ~ \"-\",\n",
    "        delta_lower>0 ~ \"+\",\n",
    "        TRUE ~ \"ns\")) %>%\n",
    "    select(-delta_upper, -delta_lower) %>% arrange(as.character(endpoint)) %>% \n",
    "    rename(delta_agesex=delta, sign_agesex=sign, delta_median_agesex = delta_median)"
   ]
  },
  {
   "cell_type": "code",
   "execution_count": null,
   "metadata": {
    "execution": {
     "iopub.execute_input": "2023-05-12T09:49:35.321228Z",
     "iopub.status.busy": "2023-05-12T09:49:35.320574Z",
     "iopub.status.idle": "2023-05-12T09:49:39.322054Z",
     "shell.execute_reply": "2023-05-12T09:49:39.321087Z"
    },
    "tags": []
   },
   "outputs": [],
   "source": [
    "scores_plot = c(\"ASCVD\", \"ASCVD+MedicalHistory\")#, \"AgeSexMedicalHistory\")\n",
    "\n",
    "table_2_ascvd = benchmark_endpoints %>% \n",
    "    filter(score %in% scores_plot) %>% \n",
    "    mutate(score = factor(score, levels=scores_plot)) %>%\n",
    "    mutate(endpoint = factor(endpoint, levels=endpoints_sorted)) %>%\n",
    "    group_by(endpoint, score, phecode_string, phecode_category) %>%\n",
    "    pivot_wider(names_from=score, values_from=cindex) %>% \n",
    "    mutate(id = row_number()) %>%\n",
    "    mutate(delta = `ASCVD+MedicalHistory`-`ASCVD`) %>%\n",
    "    #select(endpoint, iteration, phecode_string, phecode_category, sex, `Age+Sex`, `Age+Sex+MedicalHistory`, delta) %>%\n",
    "    pivot_longer(all_of(c(\"ASCVD\", \"ASCVD+MedicalHistory\", \"delta\")), names_to=\"type\", values_to=\"cindex\") %>%\n",
    "    group_by(endpoint, phecode_string, phecode_category, type) %>%\n",
    "    median_qi(cindex, .width=1-(0.05/1883)) %>%\n",
    "    mutate(agg = glue(\"{round(cindex, 3)} ({round(.lower, 3)}, {round(.upper, 3)})\")) %>%\n",
    "    ungroup() %>% select(endpoint, phecode_string, phecode_category, type, agg) %>%\n",
    "    pivot_wider(names_from=type, values_from=agg) %>%\n",
    "      mutate(delta2 = str_replace_all(delta, \"\\\\(\", \",\")) %>% mutate(delta2 = str_replace_all(delta2, \"\\\\)\", \"\")) %>% #mutate(delta2 = str_replace_all(delta2, \",\", \" \")) %>%#mutate(delta2 = gsub(\")\", \"\", delta2)) %>%\n",
    "    separate(delta2, into = c(\"delta_median\", \"delta_lower\", \"delta_upper\"), sep = \",\", remove = TRUE, extra = \"merge\") %>%\n",
    "      mutate(delta_median= as.numeric(delta_median),\n",
    "             delta_lower = as.numeric(delta_lower),\n",
    "             delta_upper = as.numeric(delta_upper)) %>%\n",
    "    mutate(sign = case_when(\n",
    "        delta_upper<0 ~ \"-\",\n",
    "        delta_lower>0 ~ \"+\",\n",
    "        TRUE ~ \"ns\")) %>%\n",
    "    select(-delta_upper, -delta_lower) %>% arrange(as.character(endpoint)) %>% \n",
    "    rename(delta_ascvd=delta, sign_ascvd=sign, delta_median_ascvd = delta_median)"
   ]
  },
  {
   "cell_type": "code",
   "execution_count": null,
   "metadata": {
    "execution": {
     "iopub.execute_input": "2023-05-12T09:49:39.324075Z",
     "iopub.status.busy": "2023-05-12T09:49:39.323411Z",
     "iopub.status.idle": "2023-05-12T09:49:43.292835Z",
     "shell.execute_reply": "2023-05-12T09:49:43.291840Z"
    },
    "tags": []
   },
   "outputs": [],
   "source": [
    "scores_plot = c(\"Age+Sex+Comorbidities\", \"Age+Sex+Comorbidities+MedicalHistory\")#, \"AgeSexMedicalHistory\")\n",
    "\n",
    "table_2_comorb = benchmark_endpoints %>% \n",
    "    filter(score %in% scores_plot) %>% \n",
    "    mutate(score = factor(score, levels=scores_plot)) %>%\n",
    "    mutate(endpoint = factor(endpoint, levels=endpoints_sorted)) %>%\n",
    "    group_by(endpoint, score, phecode_string, phecode_category) %>%\n",
    "    pivot_wider(names_from=score, values_from=cindex) %>% \n",
    "    mutate(id = row_number()) %>%\n",
    "    mutate(delta = `Age+Sex+Comorbidities+MedicalHistory`-`Age+Sex+Comorbidities`) %>%\n",
    "    #select(endpoint, iteration, phecode_string, phecode_category, sex, `Age+Sex`, `Age+Sex+MedicalHistory`, delta) %>%\n",
    "    pivot_longer(all_of(c(\"Age+Sex+Comorbidities\", \"Age+Sex+Comorbidities+MedicalHistory\", \"delta\")), names_to=\"type\", values_to=\"cindex\") %>%\n",
    "    group_by(endpoint, phecode_string, phecode_category, type) %>%\n",
    "    median_qi(cindex, .width=1-(0.05/1883)) %>%\n",
    "    mutate(agg = glue(\"{round(cindex, 3)} ({round(.lower, 3)}, {round(.upper, 3)})\")) %>%\n",
    "    ungroup() %>% select(endpoint, phecode_string, phecode_category, type, agg) %>%\n",
    "    pivot_wider(names_from=type, values_from=agg) %>%\n",
    "      mutate(delta2 = str_replace_all(delta, \"\\\\(\", \",\")) %>% mutate(delta2 = str_replace_all(delta2, \"\\\\)\", \"\")) %>% #mutate(delta2 = str_replace_all(delta2, \",\", \" \")) %>%#mutate(delta2 = gsub(\")\", \"\", delta2)) %>%\n",
    "    separate(delta2, into = c(\"delta_median\", \"delta_lower\", \"delta_upper\"), sep = \",\", remove = TRUE, extra = \"merge\") %>%\n",
    "      mutate(delta_median= as.numeric(delta_median),\n",
    "             delta_lower = as.numeric(delta_lower),\n",
    "             delta_upper = as.numeric(delta_upper)) %>%\n",
    "    mutate(sign = case_when(\n",
    "        delta_upper<0 ~ \"-\",\n",
    "        delta_lower>0 ~ \"+\",\n",
    "        TRUE ~ \"ns\")) %>%\n",
    "    select(-delta_upper, -delta_lower) %>% arrange(as.character(endpoint)) %>% \n",
    "    rename(delta_comorb=delta, sign_comorb=sign, delta_median_comorb = delta_median)"
   ]
  },
  {
   "cell_type": "code",
   "execution_count": null,
   "metadata": {
    "execution": {
     "iopub.execute_input": "2023-05-05T14:43:03.820579Z",
     "iopub.status.busy": "2023-05-05T14:43:03.819656Z",
     "iopub.status.idle": "2023-05-05T14:43:03.858075Z",
     "shell.execute_reply": "2023-05-05T14:43:03.856930Z"
    },
    "tags": []
   },
   "outputs": [],
   "source": [
    "table_2_merged = table_2 %>% left_join(table_2_ascvd) %>% left_join(table_2_comorb)"
   ]
  },
  {
   "cell_type": "code",
   "execution_count": null,
   "metadata": {
    "execution": {
     "iopub.execute_input": "2023-05-05T14:43:03.860675Z",
     "iopub.status.busy": "2023-05-05T14:43:03.859768Z",
     "iopub.status.idle": "2023-05-05T14:43:03.892248Z",
     "shell.execute_reply": "2023-05-05T14:43:03.891197Z"
    },
    "tags": []
   },
   "outputs": [],
   "source": [
    "table_2 %>% group_by(sign_agesex) %>% tally() %>% mutate(freq=n/sum(n))"
   ]
  },
  {
   "cell_type": "code",
   "execution_count": null,
   "metadata": {
    "execution": {
     "iopub.execute_input": "2023-05-05T14:43:03.894773Z",
     "iopub.status.busy": "2023-05-05T14:43:03.893902Z",
     "iopub.status.idle": "2023-05-05T14:43:03.948957Z",
     "shell.execute_reply": "2023-05-05T14:43:03.947865Z"
    },
    "tags": []
   },
   "outputs": [],
   "source": [
    "table_2 %>% filter(sign_agesex==\"-\") %>% left_join(endpoints_md)"
   ]
  },
  {
   "cell_type": "code",
   "execution_count": null,
   "metadata": {
    "execution": {
     "iopub.execute_input": "2023-05-05T14:43:06.093002Z",
     "iopub.status.busy": "2023-05-05T14:43:06.092086Z",
     "iopub.status.idle": "2023-05-05T14:43:06.119018Z",
     "shell.execute_reply": "2023-05-05T14:43:06.117955Z"
    },
    "tags": []
   },
   "outputs": [],
   "source": [
    "table_2_ascvd %>% group_by(sign_ascvd) %>% tally() %>% mutate(freq=n/sum(n))"
   ]
  },
  {
   "cell_type": "code",
   "execution_count": null,
   "metadata": {
    "execution": {
     "iopub.execute_input": "2023-05-05T14:43:06.305507Z",
     "iopub.status.busy": "2023-05-05T14:43:06.304622Z",
     "iopub.status.idle": "2023-05-05T14:43:06.331102Z",
     "shell.execute_reply": "2023-05-05T14:43:06.330005Z"
    },
    "tags": []
   },
   "outputs": [],
   "source": [
    "table_2_comorb %>% group_by(sign_comorb) %>% tally() %>% mutate(freq=n/sum(n))"
   ]
  },
  {
   "cell_type": "code",
   "execution_count": null,
   "metadata": {
    "execution": {
     "iopub.execute_input": "2023-05-05T14:43:07.651136Z",
     "iopub.status.busy": "2023-05-05T14:43:07.650234Z",
     "iopub.status.idle": "2023-05-05T14:43:07.777038Z",
     "shell.execute_reply": "2023-05-05T14:43:07.775947Z"
    },
    "tags": []
   },
   "outputs": [],
   "source": [
    "table_2_merged"
   ]
  },
  {
   "cell_type": "code",
   "execution_count": null,
   "metadata": {
    "execution": {
     "iopub.execute_input": "2023-05-05T14:43:11.489529Z",
     "iopub.status.busy": "2023-05-05T14:43:11.488610Z",
     "iopub.status.idle": "2023-05-05T14:43:11.498122Z",
     "shell.execute_reply": "2023-05-05T14:43:11.497078Z"
    },
    "tags": []
   },
   "outputs": [],
   "source": [
    "36*100/100000"
   ]
  },
  {
   "cell_type": "code",
   "execution_count": null,
   "metadata": {
    "execution": {
     "iopub.execute_input": "2023-05-05T14:43:21.019652Z",
     "iopub.status.busy": "2023-05-05T14:43:21.018655Z",
     "iopub.status.idle": "2023-05-05T14:43:21.172905Z",
     "shell.execute_reply": "2023-05-05T14:43:21.171626Z"
    },
    "tags": []
   },
   "outputs": [],
   "source": [
    "options(pillar.print_max = Inf)\n",
    "table_2_merged %>% \n",
    "    #select(all_of(c(\"phecode_category\", \"endpoint\", \"phecode_string\", \"Age+Sex\", 'Age+Sex+MedicalHistory', \"delta\", \"sign\"))) %>%\n",
    "    mutate(endpoint = factor(endpoint, levels = endpoints_md$endpoint)) %>% \n",
    "    #filter(endpoint %in% endpoint_selection) %>%\n",
    "    arrange(endpoint) %>% \n",
    "    write_csv(\"outputs/SupplTable5_DiscriminativePerformanceAll.csv\")"
   ]
  },
  {
   "cell_type": "code",
   "execution_count": null,
   "metadata": {
    "execution": {
     "iopub.execute_input": "2023-05-04T07:46:15.262026Z",
     "iopub.status.busy": "2023-05-04T07:46:15.260982Z",
     "iopub.status.idle": "2023-05-04T07:46:15.441977Z",
     "shell.execute_reply": "2023-05-04T07:46:15.440684Z"
    },
    "tags": []
   },
   "outputs": [],
   "source": [
    "temp %>% write_feather(\"outputs/cindexdeltas.feather\")\n",
    "temp %>% write_csv(\"outputs/cindexdeltas.csv\")"
   ]
  },
  {
   "cell_type": "code",
   "execution_count": null,
   "metadata": {
    "execution": {
     "iopub.execute_input": "2023-05-04T08:36:34.714954Z",
     "iopub.status.busy": "2023-05-04T08:36:34.713928Z",
     "iopub.status.idle": "2023-05-04T08:36:34.742647Z",
     "shell.execute_reply": "2023-05-04T08:36:34.741550Z"
    },
    "tags": []
   },
   "outputs": [],
   "source": [
    "temp %>% ungroup() %>% group_by(.lower>0) %>% tally()"
   ]
  },
  {
   "cell_type": "code",
   "execution_count": null,
   "metadata": {
    "execution": {
     "iopub.execute_input": "2023-05-04T07:31:11.978017Z",
     "iopub.status.busy": "2023-05-04T07:31:11.976894Z",
     "iopub.status.idle": "2023-05-04T07:31:11.991361Z",
     "shell.execute_reply": "2023-05-04T07:31:11.990252Z"
    },
    "tags": []
   },
   "outputs": [],
   "source": [
    "1776/1883"
   ]
  },
  {
   "cell_type": "code",
   "execution_count": null,
   "metadata": {
    "execution": {
     "iopub.execute_input": "2023-05-04T07:31:18.628228Z",
     "iopub.status.busy": "2023-05-04T07:31:18.627131Z",
     "iopub.status.idle": "2023-05-04T07:31:18.639653Z",
     "shell.execute_reply": "2023-05-04T07:31:18.638191Z"
    },
    "tags": []
   },
   "outputs": [],
   "source": [
    "1800/1883"
   ]
  },
  {
   "cell_type": "code",
   "execution_count": null,
   "metadata": {
    "execution": {
     "iopub.execute_input": "2023-05-04T07:35:00.122435Z",
     "iopub.status.busy": "2023-05-04T07:35:00.121022Z",
     "iopub.status.idle": "2023-05-04T07:35:00.162704Z",
     "shell.execute_reply": "2023-05-04T07:35:00.161138Z"
    },
    "tags": []
   },
   "outputs": [],
   "source": []
  },
  {
   "cell_type": "code",
   "execution_count": null,
   "metadata": {
    "execution": {
     "iopub.execute_input": "2023-05-12T09:49:55.332158Z",
     "iopub.status.busy": "2023-05-12T09:49:55.331339Z",
     "iopub.status.idle": "2023-05-12T09:49:55.364224Z",
     "shell.execute_reply": "2023-05-12T09:49:55.363429Z"
    },
    "tags": []
   },
   "outputs": [],
   "source": [
    "base_size = 8\n",
    "title_size = 10\n",
    "facet_size = 9\n",
    "geom_text_size=3\n",
    "theme_set(theme_classic(base_size = base_size) + \n",
    "          theme(strip.background = element_blank(), plot.title=element_text(size=title_size, hjust=0), \n",
    "                strip.text.x = element_text(size = facet_size),axis.title=element_text(size=10), axis.text=element_text(size=8, color=\"black\"),\n",
    "                legend.position=\"bottom\", axis.line = element_line(size = 0.2), axis.ticks=element_line(size=0.2), panel.grid.major=element_line()))"
   ]
  },
  {
   "cell_type": "markdown",
   "metadata": {
    "execution": {
     "iopub.execute_input": "2022-06-15T09:54:05.829379Z",
     "iopub.status.busy": "2022-06-15T09:54:05.828551Z",
     "iopub.status.idle": "2022-06-15T09:54:05.842105Z",
     "shell.execute_reply": "2022-06-15T09:54:05.840873Z"
    }
   },
   "source": [
    "## Performance against CVD Scores"
   ]
  },
  {
   "cell_type": "code",
   "execution_count": null,
   "metadata": {},
   "outputs": [],
   "source": [
    "SCORE2: Myocardial infarction, Stroke, hypertensive heart disease, Ischemic heart disease, heart failure, arrhythmias, cardiovascular death + cardiac arrest\n",
    "ASCVD: \n",
    "QRISK3:  Ischemic heart disease, Myocardial infarction, TIA, stroke\n",
    "\n",
    "AF: some scores ESC\n"
   ]
  },
  {
   "cell_type": "code",
   "execution_count": null,
   "metadata": {
    "tags": []
   },
   "outputs": [],
   "source": [
    "endpoint_selection"
   ]
  },
  {
   "cell_type": "code",
   "execution_count": null,
   "metadata": {
    "execution": {
     "iopub.execute_input": "2023-05-12T09:49:56.060387Z",
     "iopub.status.busy": "2023-05-12T09:49:56.059700Z",
     "iopub.status.idle": "2023-05-12T09:49:56.067908Z",
     "shell.execute_reply": "2023-05-12T09:49:56.067150Z"
    },
    "tags": []
   },
   "outputs": [],
   "source": [
    "plot_width = 8.25; plot_height=2; plot_res = 320\n",
    "options(repr.plot.width = plot_width, repr.plot.height = plot_height, repr.plot.res=plot_res)\n",
    "\n",
    "plot_against_score = function(score1, score2, endpoint_order=c()){\n",
    "    \n",
    "    scores_plot = c(score1, score2)#, \"AgeSexMedicalHistory\"\n",
    "    \n",
    "    score_label = glue(\"{score1} vs. {score2}\")\n",
    "    #print(score_label)\n",
    "\n",
    "    temp = benchmark_endpoints %>% \n",
    "        filter(score %in% scores_plot) %>% \n",
    "        filter(endpoint %in% endpoint_selection) %>%\n",
    "        mutate(score = factor(score, levels=scores_plot)) %>%\n",
    "        mutate(endpoint = factor(endpoint, levels=sort(endpoint_selection))) %>%\n",
    "        group_by(endpoint, score, phecode_string, phecode_category) %>%\n",
    "        ungroup() %>%\n",
    "        pivot_wider(names_from=score, values_from=cindex) %>% \n",
    "        mutate(id = row_number()) %>%\n",
    "        mutate(delta = !!sym(score2)-!!sym(score1)) %>%\n",
    "        mutate(pos = case_when(delta>=0 ~ \"pos\", delta < 0 ~\"neg\")) %>%\n",
    "        mutate(endpoint = fct_reorder(endpoint, delta)) %>%\n",
    "        mutate(highlight = case_when(endpoint %in% endpoint_selection ~ \"YES\", TRUE ~ \"NO\")) %>%# %>% filter(endpoint %in% endpoint_sample)\n",
    "        mutate(phecode_category = factor(phecode_category, levels=categories_sorted)) %>%\n",
    "        filter(endpoint %in% endpoint_selection) #%>% mutate(endpoint=factor(endpoint, levels=endpoint_order_diff))\n",
    "    \n",
    "    temp_abs = temp %>% group_by(endpoint) %>% summarise(delta=median(delta), m_score2=median(!!sym(score2)), m_score1=median(!!sym(score1))) %>% ungroup() \n",
    "    #print(levels(temp_abs$endpoint))\n",
    "    \n",
    "    temp_abs_segment = temp_abs %>% rowwise() %>% mutate(min_cindex = min(m_score1, m_score2), max_cindex=max(m_score1, m_score2)) %>% ungroup()# %>% filter(abs(min_cindex-max_cindex)>0.02) \n",
    "    \n",
    "    endpoint_order = (temp %>% group_by(endpoint) %>% summarise(delta=median(delta)) %>% arrange(delta))$endpoint\n",
    "    print(endpoint_order)\n",
    "    \n",
    "    if (length(endpoint_order)>0){\n",
    "        temp = temp %>% filter(endpoint %in% endpoint_order) %>% mutate(endpoint=factor(endpoint, levels=endpoint_order))\n",
    "        temp_abs = temp_abs %>% filter(endpoint %in% endpoint_order) %>% mutate(endpoint=factor(endpoint, levels=endpoint_order))\n",
    "        temp_abs_segment = temp_abs_segment %>% filter(endpoint %in% endpoint_order) %>% mutate(endpoint=factor(endpoint, levels=endpoint_order))\n",
    "        }\n",
    "    #print(temp_abs_segment)\n",
    "    \n",
    "    abs = ggplot(temp_abs) + \n",
    "        #geom_violin(aes(x=fct_rev(endpoint), y=delta), size=0.5) +\n",
    "        labs(y=\"Concordance Index\")+\n",
    "\n",
    "        #geom_segment(data=temp_abs_segment, mapping=aes(x=endpoint, xend=endpoint, y=min_cindex+0.01, yend=max_cindex-0.01), alpha=0.4)+#, arrow = arrow(length = unit(0.01, \"npc\")), arrow.fill=\"black\")+#+\n",
    "\n",
    "    \n",
    "        geom_point(aes(x=fct_rev(endpoint), y=m_score1), size=1, color=\"black\", alpha=0.7)+\n",
    "        #geom_point(aes(x=fct_rev(endpoint), y=m_asm), size=1, color=\"#023768\", alpha=0.7)+\n",
    "        geom_point(aes(x=fct_rev(endpoint), y=m_score2), size=1.5, color=\"firebrick\", alpha=0.7)+\n",
    "        geom_segment(data=temp_abs %>% filter(abs(delta)>0.02) %>% mutate(endpoint=factor(endpoint, levels=endpoint_order)), \n",
    "                     aes(x=fct_rev(endpoint), xend=fct_rev(endpoint), y=m_score1+0.01, yend=m_score2-0.01), alpha=0.2, arrow = arrow(length = unit(0.01, \"npc\")), arrow.fill=\"black\")+#,\n",
    "\n",
    "        scale_x_discrete(labels=endpoint_map) +\n",
    "\n",
    "        coord_flip(ylim=c(0.48, 0.9))+\n",
    "         theme(strip.text = element_text(angle=270), axis.title.y=element_blank()) + \n",
    "        theme(legend.position=\"none\")\n",
    "\n",
    "        #geom_ribbon(aes(x=id, ymin=AgeSex, ymax=`Age+Sex+MedicalHistory`), fill=\"red\", alpha=0.2)\n",
    "    #geom_violin(size=0.1)\n",
    "    rel = ggplot(temp) + \n",
    "        #geom_violin(aes(x=fct_rev(endpoint), y=delta), size=0.5) +\n",
    "        labs(y=\"Difference in Concordance Index\")+\n",
    "        geom_hline(yintercept=0, size=0.25, alpha=0.5, linetype=\"22\") + \n",
    "        stat_pointinterval(aes(x=fct_rev(endpoint), y=delta), size=0.5, alpha=0.7, .width = c(0.66, 0.95, 1-(0.05/1883)))+\n",
    "\n",
    "        theme(axis.title.y=element_blank(),\n",
    "            axis.text.y=element_blank(),\n",
    "           axis.ticks.y=element_blank()) + \n",
    "        coord_flip(ylim=c(-0.01, 0.235))+\n",
    "         theme(strip.text = element_text(angle=270)) + \n",
    "        theme(legend.position=\"none\")\n",
    "\n",
    "        #geom_ribbon(aes(x=id, ymin=AgeSex, ymax=`Age+Sex+MedicalHistory`), fill=\"red\", alpha=0.2)\n",
    "    #geom_violin(size=0.1) \n",
    "    return(abs|rel)\n",
    "    }"
   ]
  },
  {
   "cell_type": "code",
   "execution_count": null,
   "metadata": {
    "execution": {
     "iopub.execute_input": "2023-05-12T09:49:56.797857Z",
     "iopub.status.busy": "2023-05-12T09:49:56.797137Z",
     "iopub.status.idle": "2023-05-12T09:49:56.802586Z",
     "shell.execute_reply": "2023-05-12T09:49:56.801817Z"
    },
    "tags": []
   },
   "outputs": [],
   "source": [
    "library(ggdist)"
   ]
  },
  {
   "cell_type": "code",
   "execution_count": null,
   "metadata": {
    "execution": {
     "iopub.execute_input": "2023-05-12T09:49:57.111709Z",
     "iopub.status.busy": "2023-05-12T09:49:57.111047Z",
     "iopub.status.idle": "2023-05-12T09:49:57.136638Z",
     "shell.execute_reply": "2023-05-12T09:49:57.135862Z"
    },
    "tags": []
   },
   "outputs": [],
   "source": [
    "base_size = 8\n",
    "title_size = 10\n",
    "facet_size = 9\n",
    "geom_text_size=3\n",
    "theme_set(theme_classic(base_size = base_size) + \n",
    "          theme(strip.background = element_blank(), plot.title=element_text(size=title_size, hjust=0), \n",
    "                strip.text.x = element_text(size = facet_size),axis.title=element_text(size=10), axis.text=element_text(size=8, color=\"black\"),\n",
    "                legend.position=\"bottom\", axis.line = element_line(size = 0.2), axis.ticks=element_line(size=0.2), panel.grid.major=element_line()))"
   ]
  },
  {
   "cell_type": "code",
   "execution_count": null,
   "metadata": {
    "execution": {
     "iopub.execute_input": "2023-05-12T09:49:57.409386Z",
     "iopub.status.busy": "2023-05-12T09:49:57.408716Z",
     "iopub.status.idle": "2023-05-12T09:49:57.416728Z",
     "shell.execute_reply": "2023-05-12T09:49:57.415989Z"
    },
    "tags": []
   },
   "outputs": [],
   "source": [
    "endpoint_order=c(\"phecode_324-11\", \"phecode_438-11\", \"phecode_431-11\", \"phecode_401\",\n",
    "                 \"phecode_413-21\", \"phecode_413-11\", \"phecode_404\",   \"phecode_416-21\", \"phecode_400\",   \"phecode_440-3\",\n",
    "\"phecode_404-1\",  \"phecode_583\",    \"phecode_410-2\",  \"phecode_424\",    \"phecode_468\",  \n",
    "\"phecode_164\",    \"phecode_420\",    \"phecode_202\",    \"phecode_705-1\",  \"phecode_474\",   \n",
    "\"OMOP_4306655\",   \"phecode_665\",    \"phecode_284\",    \"phecode_718\")\n",
    "length(endpoint_order)"
   ]
  },
  {
   "cell_type": "code",
   "execution_count": null,
   "metadata": {
    "execution": {
     "iopub.execute_input": "2023-05-12T09:49:58.863807Z",
     "iopub.status.busy": "2023-05-12T09:49:58.863105Z",
     "iopub.status.idle": "2023-05-12T09:49:58.870176Z",
     "shell.execute_reply": "2023-05-12T09:49:58.869435Z"
    },
    "tags": []
   },
   "outputs": [],
   "source": [
    "sort(endpoint_selection)"
   ]
  },
  {
   "cell_type": "code",
   "execution_count": null,
   "metadata": {
    "execution": {
     "iopub.execute_input": "2023-05-12T09:49:59.057793Z",
     "iopub.status.busy": "2023-05-12T09:49:59.057125Z",
     "iopub.status.idle": "2023-05-12T09:49:59.744954Z",
     "shell.execute_reply": "2023-05-12T09:49:59.744092Z"
    },
    "tags": []
   },
   "outputs": [],
   "source": [
    "plot_width = 8.25; plot_height=3.25; plot_res = 320\n",
    "options(repr.plot.width = plot_width, repr.plot.height = plot_height, repr.plot.res=plot_res)\n",
    "\n",
    "fig3b = plot_against_score(\"Age+Sex\", \"Age+Sex+MedicalHistory\", endpoint_order)\n",
    "fig3b"
   ]
  },
  {
   "cell_type": "code",
   "execution_count": null,
   "metadata": {
    "execution": {
     "iopub.execute_input": "2023-05-12T09:50:02.749639Z",
     "iopub.status.busy": "2023-05-12T09:50:02.748901Z",
     "iopub.status.idle": "2023-05-12T09:50:03.057036Z",
     "shell.execute_reply": "2023-05-12T09:50:03.056089Z"
    },
    "tags": []
   },
   "outputs": [],
   "source": [
    "library(gt)\n",
    "plot_name = \"Figure3b_performances\"\n",
    "fig3b %>% ggsave(filename=glue(\"outputs/{plot_name}.pdf\"), device=cairo_pdf, width=plot_width, height=plot_height, dpi=plot_res)"
   ]
  },
  {
   "cell_type": "code",
   "execution_count": null,
   "metadata": {
    "execution": {
     "iopub.execute_input": "2023-05-04T07:53:13.668192Z",
     "iopub.status.busy": "2023-05-04T07:53:13.667157Z",
     "iopub.status.idle": "2023-05-04T07:53:13.676460Z",
     "shell.execute_reply": "2023-05-04T07:53:13.675426Z"
    },
    "tags": []
   },
   "outputs": [],
   "source": [
    "library(ggdist)"
   ]
  },
  {
   "cell_type": "code",
   "execution_count": null,
   "metadata": {},
   "outputs": [],
   "source": []
  },
  {
   "cell_type": "code",
   "execution_count": null,
   "metadata": {
    "tags": []
   },
   "outputs": [],
   "source": [
    "table_2 %>% filter(endpoint %in% endpoint_selection) %>% arrange(as.character(endpoint)) %>% arrange(delta)"
   ]
  },
  {
   "cell_type": "code",
   "execution_count": null,
   "metadata": {},
   "outputs": [],
   "source": []
  }
 ],
 "metadata": {
  "hide_input": false,
  "kernelspec": {
   "display_name": "R [conda env:cm_r]",
   "language": "R",
   "name": "conda-env-cm_r-r"
  },
  "language_info": {
   "codemirror_mode": "r",
   "file_extension": ".r",
   "mimetype": "text/x-r-source",
   "name": "R",
   "pygments_lexer": "r",
   "version": "4.2.2"
  },
  "toc-autonumbering": false
 },
 "nbformat": 4,
 "nbformat_minor": 4
}
