{
 "cells": [
  {
   "cell_type": "code",
   "execution_count": null,
   "id": "1536f107-81b0-4bfc-922b-68d52bde324f",
   "metadata": {
    "execution": {
     "iopub.execute_input": "2023-05-10T11:41:49.854781Z",
     "iopub.status.busy": "2023-05-10T11:41:49.854113Z",
     "iopub.status.idle": "2023-05-10T11:41:55.192468Z",
     "shell.execute_reply": "2023-05-10T11:41:55.191822Z",
     "shell.execute_reply.started": "2023-05-10T11:41:49.854759Z"
    },
    "tags": []
   },
   "outputs": [],
   "source": [
    "#!/usr/bin/env python\n",
    "# coding: utf-8\n",
    "\n",
    "import os\n",
    "import math\n",
    "import sys\n",
    "import pathlib\n",
    "import numpy as np\n",
    "import pandas as pd\n",
    "from tqdm.auto import tqdm\n",
    "from IPython.display import clear_output\n",
    "\n",
    "import warnings\n",
    "import lifelines\n",
    "from lifelines.utils import CensoringType\n",
    "from lifelines.utils import concordance_index\n",
    "\n",
    "from lifelines import CoxPHFitter\n",
    "from lifelines.exceptions import ConvergenceError\n",
    "from formulaic.errors import FactorEvaluationError\n",
    "import zstandard\n",
    "import pickle\n",
    "import yaml\n",
    "import ray\n",
    "import argparse"
   ]
  },
  {
   "cell_type": "code",
   "execution_count": null,
   "id": "23f0ba68-a1dd-4b27-a182-0f6194ab5202",
   "metadata": {
    "tags": []
   },
   "outputs": [],
   "source": [
    "base_path = \"/sc-projects/sc-proj-ukb-cvd\"\n",
    "print(base_path)\n",
    "\n",
    "project_label = \"22_medical_records\"\n",
    "project_path = f\"{base_path}/results/projects/{project_label}\"\n",
    "figure_path = f\"{project_path}/figures\"\n",
    "output_path = f\"{project_path}/data\""
   ]
  },
  {
   "cell_type": "code",
   "execution_count": null,
   "id": "6bcfbeaa-2f08-44a4-b9da-bc4d9ad7311d",
   "metadata": {
    "execution": {
     "iopub.execute_input": "2023-05-10T11:41:56.619227Z",
     "iopub.status.busy": "2023-05-10T11:41:56.618779Z",
     "iopub.status.idle": "2023-05-10T11:41:56.890717Z",
     "shell.execute_reply": "2023-05-10T11:41:56.890059Z",
     "shell.execute_reply.started": "2023-05-10T11:41:56.619207Z"
    },
    "tags": []
   },
   "outputs": [],
   "source": [
    "ci_df = pd.read_feather(\"outputs/covid_cindeces_230425.feather\")[[\"eid\", \"logh\", \"event\", \"time\", \"predictors\", \"severity\"]].set_index(\"eid\")"
   ]
  },
  {
   "cell_type": "code",
   "execution_count": null,
   "id": "592fb181-66b7-4940-a9cc-3f4b664b3255",
   "metadata": {
    "execution": {
     "iopub.execute_input": "2023-05-10T11:41:57.970606Z",
     "iopub.status.busy": "2023-05-10T11:41:57.970208Z",
     "iopub.status.idle": "2023-05-10T11:42:00.373232Z",
     "shell.execute_reply": "2023-05-10T11:42:00.372533Z",
     "shell.execute_reply.started": "2023-05-10T11:41:57.970588Z"
    },
    "tags": []
   },
   "outputs": [],
   "source": [
    "eids = ci_df.index.unique()\n",
    "predictors = ci_df.predictors.unique()\n",
    "severities = ci_df.severity.unique()\n",
    "ci_df_dict = dict(tuple(ci_df.groupby(['predictors', \"severity\"])))"
   ]
  },
  {
   "cell_type": "code",
   "execution_count": null,
   "id": "a6a28737-2c1b-46ca-bfa0-1bdf9c77294f",
   "metadata": {
    "execution": {
     "iopub.execute_input": "2023-05-10T11:42:00.374586Z",
     "iopub.status.busy": "2023-05-10T11:42:00.374351Z",
     "iopub.status.idle": "2023-05-10T11:42:18.311801Z",
     "shell.execute_reply": "2023-05-10T11:42:18.311095Z",
     "shell.execute_reply.started": "2023-05-10T11:42:00.374569Z"
    },
    "tags": []
   },
   "outputs": [],
   "source": [
    "os.environ['MKL_NUM_THREADS'] = \"1\"\n",
    "os.environ['NUMEXPR_NUM_THREADS'] = \"1\"\n",
    "os.environ['OMP_NUM_THREADS'] = \"1\"\n",
    "\n",
    "ray.init(num_cpus=12, include_dashboard=False)"
   ]
  },
  {
   "cell_type": "code",
   "execution_count": null,
   "id": "d5b6f682-2e00-431c-8a99-fb926bcd5e60",
   "metadata": {
    "execution": {
     "iopub.execute_input": "2023-05-10T11:42:18.313690Z",
     "iopub.status.busy": "2023-05-10T11:42:18.312970Z",
     "iopub.status.idle": "2023-05-10T11:48:28.238181Z",
     "shell.execute_reply": "2023-05-10T11:48:28.237559Z",
     "shell.execute_reply.started": "2023-05-10T11:42:18.313668Z"
    },
    "tags": []
   },
   "outputs": [],
   "source": [
    "@ray.remote\n",
    "def calc_cindex(df_dict_ref, eids_i, i, severity, predictor):\n",
    "    df = df_dict_ref[predictor, severity]\n",
    "    df_i = df[df.index.isin(eids_i)]\n",
    "    cindex = 1-concordance_index(df_i[\"time\"], df_i[\"logh\"], df_i[\"event\"])\n",
    "    return {\"iteration\": i, \"severity\":severity, \"predictor\": predictor, \"cindex\":cindex}\n",
    "\n",
    "ci_df_dict_ref = ray.put(ci_df_dict)\n",
    "\n",
    "rows_ray = []\n",
    "for i in tqdm(range(1000)):\n",
    "    eids_i = np.random.choice(eids, size=len(eids))\n",
    "    for predictor in predictors:\n",
    "        for severity in severities:\n",
    "            ray_ref = calc_cindex.remote(ci_df_dict_ref, eids_i, i, severity, predictor)\n",
    "            rows_ray.append(ray_ref)\n",
    "\n",
    "            \n",
    "rows_finished = [ray.get(r) for r in tqdm(rows_ray)]"
   ]
  },
  {
   "cell_type": "code",
   "execution_count": null,
   "id": "0051eb9b-86d1-4cdc-9a18-eb430edea2b6",
   "metadata": {
    "execution": {
     "iopub.execute_input": "2023-05-10T11:48:28.239621Z",
     "iopub.status.busy": "2023-05-10T11:48:28.239044Z",
     "iopub.status.idle": "2023-05-10T11:48:28.249607Z",
     "shell.execute_reply": "2023-05-10T11:48:28.249237Z",
     "shell.execute_reply.started": "2023-05-10T11:48:28.239595Z"
    },
    "tags": []
   },
   "outputs": [],
   "source": [
    "benchmarks = pd.DataFrame({}).append(rows_finished, ignore_index=True) "
   ]
  },
  {
   "cell_type": "code",
   "execution_count": null,
   "id": "4028da4b-03d5-4f72-8bf0-8b87ebda5461",
   "metadata": {
    "execution": {
     "iopub.execute_input": "2023-05-10T11:48:28.250898Z",
     "iopub.status.busy": "2023-05-10T11:48:28.250561Z",
     "iopub.status.idle": "2023-05-10T11:48:28.277230Z",
     "shell.execute_reply": "2023-05-10T11:48:28.276869Z",
     "shell.execute_reply.started": "2023-05-10T11:48:28.250883Z"
    },
    "tags": []
   },
   "outputs": [],
   "source": [
    "benchmarks_agg = benchmarks.groupby([\"severity\", \"predictor\"])[\"cindex\"].quantile([0.5, 0.025, 0.975]).to_frame().reset_index()\n",
    "benchmarks_agg[\"cindex\"] = benchmarks_agg[\"cindex\"].round(3)"
   ]
  },
  {
   "cell_type": "code",
   "execution_count": null,
   "id": "93710e02-43e9-4417-ba7b-08fbedf41e29",
   "metadata": {
    "execution": {
     "iopub.execute_input": "2023-05-10T11:48:28.277858Z",
     "iopub.status.busy": "2023-05-10T11:48:28.277707Z",
     "iopub.status.idle": "2023-05-10T11:48:28.294432Z",
     "shell.execute_reply": "2023-05-10T11:48:28.294071Z",
     "shell.execute_reply.started": "2023-05-10T11:48:28.277844Z"
    },
    "tags": []
   },
   "outputs": [],
   "source": [
    "nice_df = benchmarks_agg.pivot(index=[\"severity\", \"predictor\"], columns=\"level_2\", values=\"cindex\")"
   ]
  },
  {
   "cell_type": "code",
   "execution_count": null,
   "id": "5e4adf54-e0ad-4f90-9b7a-01a92df96d9c",
   "metadata": {
    "execution": {
     "iopub.execute_input": "2023-05-10T11:51:22.009706Z",
     "iopub.status.busy": "2023-05-10T11:51:22.009336Z",
     "iopub.status.idle": "2023-05-10T11:51:22.019313Z",
     "shell.execute_reply": "2023-05-10T11:51:22.018874Z",
     "shell.execute_reply.started": "2023-05-10T11:51:22.009687Z"
    },
    "tags": []
   },
   "outputs": [],
   "source": [
    "nice_df.reset_index().sort_values([\"severity\", \"predictor\"])"
   ]
  },
  {
   "cell_type": "code",
   "execution_count": null,
   "id": "04bc3e30-55b2-4e69-bf23-f145454dc195",
   "metadata": {},
   "outputs": [],
   "source": []
  }
 ],
 "metadata": {
  "kernelspec": {
   "display_name": "Python [conda env:udm]",
   "language": "python",
   "name": "conda-env-udm-py"
  },
  "language_info": {
   "codemirror_mode": {
    "name": "ipython",
    "version": 3
   },
   "file_extension": ".py",
   "mimetype": "text/x-python",
   "name": "python",
   "nbconvert_exporter": "python",
   "pygments_lexer": "ipython3",
   "version": "3.10.9"
  }
 },
 "nbformat": 4,
 "nbformat_minor": 5
}
