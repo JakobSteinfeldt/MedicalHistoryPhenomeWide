{
 "cells": [
  {
   "cell_type": "code",
   "execution_count": null,
   "metadata": {
    "execution": {
     "iopub.execute_input": "2023-04-26T09:06:37.603658Z",
     "iopub.status.busy": "2023-04-26T09:06:37.603352Z",
     "iopub.status.idle": "2023-04-26T09:06:44.828365Z",
     "shell.execute_reply": "2023-04-26T09:06:44.827710Z",
     "shell.execute_reply.started": "2023-04-26T09:06:37.603637Z"
    },
    "tags": []
   },
   "outputs": [],
   "source": [
    "import numpy as np\n",
    "import pandas as pd\n",
    "import pathlib\n",
    "from tqdm.auto import tqdm\n",
    "\n",
    "import hydra\n",
    "from omegaconf import DictConfig, OmegaConf\n",
    "\n",
    "import torch\n",
    "import ray"
   ]
  },
  {
   "cell_type": "code",
   "execution_count": null,
   "metadata": {
    "execution": {
     "iopub.execute_input": "2023-04-26T09:06:54.399174Z",
     "iopub.status.busy": "2023-04-26T09:06:54.398611Z",
     "iopub.status.idle": "2023-04-26T09:06:54.416227Z",
     "shell.execute_reply": "2023-04-26T09:06:54.415601Z",
     "shell.execute_reply.started": "2023-04-26T09:06:54.399153Z"
    },
    "tags": []
   },
   "outputs": [],
   "source": [
    "node = !hostname\n",
    "if \"sc\" in node[0]:\n",
    "    base_path = \"/sc-projects/sc-proj-ukb-cvd\"\n",
    "else: \n",
    "    base_path = \"/data/analysis/ag-reils/ag-reils-shared/cardioRS\"\n",
    "print(base_path)\n",
    "\n",
    "project_label = \"22_medical_records\"\n",
    "project_path = f\"{base_path}/results/projects/{project_label}\"\n",
    "figure_path = f\"{project_path}/figures\"\n",
    "output_path = f\"{project_path}/data\"\n",
    "\n",
    "pathlib.Path(figure_path).mkdir(parents=True, exist_ok=True)\n",
    "pathlib.Path(output_path).mkdir(parents=True, exist_ok=True)\n",
    "\n",
    "experiment = 230425\n",
    "experiment_path = f\"{output_path}/{experiment}\"\n",
    "pathlib.Path(experiment_path).mkdir(parents=True, exist_ok=True)"
   ]
  },
  {
   "cell_type": "code",
   "execution_count": null,
   "metadata": {
    "tags": []
   },
   "outputs": [],
   "source": [
    "ray.shutdown()"
   ]
  },
  {
   "cell_type": "code",
   "execution_count": null,
   "metadata": {
    "execution": {
     "iopub.execute_input": "2023-04-26T09:06:59.161740Z",
     "iopub.status.busy": "2023-04-26T09:06:59.161093Z",
     "iopub.status.idle": "2023-04-26T09:07:26.188065Z",
     "shell.execute_reply": "2023-04-26T09:07:26.187484Z",
     "shell.execute_reply.started": "2023-04-26T09:06:59.161718Z"
    },
    "tags": []
   },
   "outputs": [],
   "source": [
    "ray.init(num_cpus=24, include_dashboard=False)"
   ]
  },
  {
   "cell_type": "code",
   "execution_count": null,
   "metadata": {
    "execution": {
     "iopub.execute_input": "2023-04-26T09:11:38.787743Z",
     "iopub.status.busy": "2023-04-26T09:11:38.786963Z",
     "iopub.status.idle": "2023-04-26T09:11:39.035662Z",
     "shell.execute_reply": "2023-04-26T09:11:39.035175Z",
     "shell.execute_reply.started": "2023-04-26T09:11:38.787725Z"
    },
    "tags": []
   },
   "outputs": [],
   "source": [
    "import wandb\n",
    "api = wandb.Api(timeout=60)\n",
    "entity, project = \"cardiors\", \"recordgraphs\"  # set to your entity and project \n",
    "tag = \"revision_230425\"\n",
    "runs = api.runs(entity + \"/\" + project, filters={\"tags\": {\"$in\": [tag]}}) "
   ]
  },
  {
   "cell_type": "code",
   "execution_count": null,
   "metadata": {
    "execution": {
     "iopub.execute_input": "2023-04-26T09:11:39.087605Z",
     "iopub.status.busy": "2023-04-26T09:11:39.087025Z",
     "iopub.status.idle": "2023-04-26T09:11:49.842853Z",
     "shell.execute_reply": "2023-04-26T09:11:49.842278Z",
     "shell.execute_reply.started": "2023-04-26T09:11:39.087589Z"
    },
    "tags": []
   },
   "outputs": [],
   "source": [
    "run_list = []\n",
    "for run in tqdm(runs):\n",
    "    run_list.append(\n",
    "        {\n",
    "            \"id\": run.path[-1], \n",
    "            \"name\": run.name,\n",
    "            \"tags\": run.tags,\n",
    "            \"config\": {k: v for k,v in run.config.items() if not k.startswith('_')},\n",
    "            \"summary\": run.summary._json_dict,\n",
    "            \"path\": None if \"best_checkpoint\" not in run.config.keys() else str(pathlib.Path(run.config[\"best_checkpoint\"]).parent.parent)\n",
    "        }\n",
    "    )"
   ]
  },
  {
   "cell_type": "code",
   "execution_count": null,
   "metadata": {
    "execution": {
     "iopub.execute_input": "2023-04-26T09:11:51.859098Z",
     "iopub.status.busy": "2023-04-26T09:11:51.858570Z",
     "iopub.status.idle": "2023-04-26T09:11:52.214600Z",
     "shell.execute_reply": "2023-04-26T09:11:52.214053Z",
     "shell.execute_reply.started": "2023-04-26T09:11:51.859077Z"
    },
    "tags": []
   },
   "outputs": [],
   "source": [
    "runs_df = pd.DataFrame(run_list).query(\"path==path\")\n",
    "print(runs_df.shape)\n",
    "runs_df.sort_values(\"name\")"
   ]
  },
  {
   "cell_type": "code",
   "execution_count": null,
   "metadata": {
    "execution": {
     "iopub.execute_input": "2023-04-26T09:12:59.424098Z",
     "iopub.status.busy": "2023-04-26T09:12:59.423591Z",
     "iopub.status.idle": "2023-04-26T09:12:59.427204Z",
     "shell.execute_reply": "2023-04-26T09:12:59.426770Z",
     "shell.execute_reply.started": "2023-04-26T09:12:59.424081Z"
    },
    "tags": []
   },
   "outputs": [],
   "source": [
    "runs_df.iloc[0].path"
   ]
  },
  {
   "cell_type": "code",
   "execution_count": null,
   "metadata": {
    "execution": {
     "iopub.execute_input": "2023-04-26T09:14:24.018872Z",
     "iopub.status.busy": "2023-04-26T09:14:24.018133Z",
     "iopub.status.idle": "2023-04-26T09:14:28.985461Z",
     "shell.execute_reply": "2023-04-26T09:14:28.984785Z",
     "shell.execute_reply.started": "2023-04-26T09:14:24.018853Z"
    },
    "tags": []
   },
   "outputs": [],
   "source": [
    "temp = pd.read_feather(\"/sc-projects/sc-proj-ukb-cvd/results/models/RecordGraphs/w0vw9p4h/predictions/predictions.feather\")"
   ]
  },
  {
   "cell_type": "code",
   "execution_count": null,
   "metadata": {
    "execution": {
     "iopub.execute_input": "2023-04-26T09:14:29.798354Z",
     "iopub.status.busy": "2023-04-26T09:14:29.798172Z",
     "iopub.status.idle": "2023-04-26T09:14:29.881442Z",
     "shell.execute_reply": "2023-04-26T09:14:29.880836Z",
     "shell.execute_reply.started": "2023-04-26T09:14:29.798338Z"
    },
    "tags": []
   },
   "outputs": [],
   "source": [
    "temp"
   ]
  },
  {
   "cell_type": "markdown",
   "metadata": {},
   "source": [
    "## Process Predictions"
   ]
  },
  {
   "cell_type": "code",
   "execution_count": null,
   "metadata": {
    "execution": {
     "iopub.execute_input": "2023-04-26T09:15:02.948164Z",
     "iopub.status.busy": "2023-04-26T09:15:02.947615Z",
     "iopub.status.idle": "2023-04-26T09:15:02.951203Z",
     "shell.execute_reply": "2023-04-26T09:15:02.950703Z",
     "shell.execute_reply.started": "2023-04-26T09:15:02.948145Z"
    },
    "tags": []
   },
   "outputs": [],
   "source": [
    "name_dict = {\n",
    "    \"CovariatesOnlyTraining_['age_at_recruitment_f21022_0_0', 'sex_f31_0_0']_None_MLPHead\": \"Identity(AgeSex)+MLP\",\n",
    "    \"RecordsIdentityTraining_[]_None_MLPHead\": \"Identity(Records)+MLP\",\n",
    "     \"RecordsIdentityTraining_[]_None_LinearHead\": \"Identity(Records)+Linear\",\n",
    "    \"RecordsGraphTraining_[]_HeteroGNN_MLPHead\": \"GNN(Records)+MLP\",\n",
    "    \"RecordsIdentityTraining_['age_at_recruitment_f21022_0_0', 'sex_f31_0_0']_None_MLPHead\": \"Identity(AgeSex+Records)+MLP\",\n",
    "    \"RecordsGraphTraining_['age_at_recruitment_f21022_0_0', 'sex_f31_0_0']_HeteroGNN_MLPHead\": \"GNN(AgeSex+Records)+MLP\"\n",
    "}"
   ]
  },
  {
   "cell_type": "code",
   "execution_count": null,
   "metadata": {
    "execution": {
     "iopub.execute_input": "2023-04-26T09:15:05.497533Z",
     "iopub.status.busy": "2023-04-26T09:15:05.497106Z",
     "iopub.status.idle": "2023-04-26T09:15:05.500096Z",
     "shell.execute_reply": "2023-04-26T09:15:05.499576Z",
     "shell.execute_reply.started": "2023-04-26T09:15:05.497514Z"
    },
    "tags": []
   },
   "outputs": [],
   "source": [
    "id_vars = [\"eid\", \"model\", \"partition\", \"split\"]"
   ]
  },
  {
   "cell_type": "code",
   "execution_count": null,
   "metadata": {
    "execution": {
     "iopub.execute_input": "2023-04-26T09:15:08.903633Z",
     "iopub.status.busy": "2023-04-26T09:15:08.902989Z",
     "iopub.status.idle": "2023-04-26T09:15:08.910004Z",
     "shell.execute_reply": "2023-04-26T09:15:08.909489Z",
     "shell.execute_reply.started": "2023-04-26T09:15:08.903615Z"
    },
    "tags": []
   },
   "outputs": [],
   "source": [
    "out_path = f\"{experiment_path}/loghs\"\n",
    "pathlib.Path(out_path).mkdir(parents=True, exist_ok=True)"
   ]
  },
  {
   "cell_type": "code",
   "execution_count": null,
   "metadata": {
    "execution": {
     "iopub.execute_input": "2023-04-26T09:15:09.825808Z",
     "iopub.status.busy": "2023-04-26T09:15:09.825276Z",
     "iopub.status.idle": "2023-04-26T09:15:09.830647Z",
     "shell.execute_reply": "2023-04-26T09:15:09.830133Z",
     "shell.execute_reply.started": "2023-04-26T09:15:09.825790Z"
    },
    "tags": []
   },
   "outputs": [],
   "source": [
    "@ray.remote\n",
    "def prepare_predictions(in_path, out_path):\n",
    "    \n",
    "    temp = pd.read_feather(in_path).rename(columns={\"index\": \"eid\"}).reset_index(drop=True)\n",
    "    temp[\"model\"] = (temp.module.astype(str) + \"_\" + temp.covariate_cols.astype(str) + \"_\" + temp.encoder.astype(str) + \"_\" + temp[\"head\"].astype(str)).astype(\"category\")\n",
    "    temp = temp.replace({\"model\":name_dict}).drop(columns=[\"module\", \"encoder\", \"head\", \"covariate_cols\", \"record_cols\"])\n",
    "    for c in id_vars: temp[c] = temp[c].astype(\"category\")\n",
    "    \n",
    "    model = temp.model.unique()[0]\n",
    "    partition = temp.partition.unique()[0]\n",
    "    for split in [\"train\", \"valid\", \"test\"]:\n",
    "        fp_out = f\"{out_path}/{model}/{partition}\"\n",
    "        pathlib.Path(fp_out).mkdir(parents=True, exist_ok=True)\n",
    "        temp.query(\"split==@split\").reset_index(drop=True).to_feather(f\"{fp_out}/{split}.feather\")"
   ]
  },
  {
   "cell_type": "code",
   "execution_count": null,
   "metadata": {
    "execution": {
     "iopub.execute_input": "2023-04-26T09:15:11.194644Z",
     "iopub.status.busy": "2023-04-26T09:15:11.194226Z",
     "iopub.status.idle": "2023-04-26T09:15:11.231309Z",
     "shell.execute_reply": "2023-04-26T09:15:11.230774Z",
     "shell.execute_reply.started": "2023-04-26T09:15:11.194625Z"
    },
    "tags": []
   },
   "outputs": [],
   "source": [
    "for p in tqdm(runs_df.path): \n",
    "    prepare_predictions.remote(f\"{p}/predictions/predictions.feather\", out_path)"
   ]
  },
  {
   "cell_type": "code",
   "execution_count": null,
   "metadata": {
    "tags": []
   },
   "outputs": [],
   "source": [
    "1+1"
   ]
  }
 ],
 "metadata": {
  "interpreter": {
   "hash": "7fb005937abf8310e947cacdef9aa24b4c9570846765db425bfb20f46bc066c7"
  },
  "kernelspec": {
   "display_name": "Python [conda env:udm]",
   "language": "python",
   "name": "conda-env-udm-py"
  },
  "language_info": {
   "codemirror_mode": {
    "name": "ipython",
    "version": 3
   },
   "file_extension": ".py",
   "mimetype": "text/x-python",
   "name": "python",
   "nbconvert_exporter": "python",
   "pygments_lexer": "ipython3",
   "version": "3.10.9"
  }
 },
 "nbformat": 4,
 "nbformat_minor": 4
}
