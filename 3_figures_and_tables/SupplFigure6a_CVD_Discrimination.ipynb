{
 "cells": [
  {
   "cell_type": "markdown",
   "metadata": {},
   "source": [
    "# Benchmarks"
   ]
  },
  {
   "cell_type": "markdown",
   "metadata": {},
   "source": [
    "## Initialize"
   ]
  },
  {
   "cell_type": "code",
   "execution_count": null,
   "metadata": {
    "ExecuteTime": {
     "end_time": "2021-01-05T11:03:09.852316Z",
     "start_time": "2021-01-05T11:03:07.701Z"
    },
    "execution": {
     "iopub.execute_input": "2023-05-12T10:46:02.437334Z",
     "iopub.status.busy": "2023-05-12T10:46:02.435779Z",
     "iopub.status.idle": "2023-05-12T10:46:05.235382Z",
     "shell.execute_reply": "2023-05-12T10:46:05.234398Z"
    },
    "tags": []
   },
   "outputs": [],
   "source": [
    "#library(Rmisc)\n",
    "library(dtplyr)\n",
    "library(tidyverse)\n",
    "library(glue)\n",
    "library(arrow)\n",
    "library(patchwork)\n",
    "library(data.table)\n",
    "library(\"jsonlite\")\n",
    "library(ggthemes)"
   ]
  },
  {
   "cell_type": "code",
   "execution_count": null,
   "metadata": {
    "ExecuteTime": {
     "end_time": "2021-01-05T11:03:10.491477Z",
     "start_time": "2021-01-05T11:03:10.445Z"
    },
    "execution": {
     "iopub.execute_input": "2023-05-12T10:46:05.258252Z",
     "iopub.status.busy": "2023-05-12T10:46:05.236764Z",
     "iopub.status.idle": "2023-05-12T10:46:05.271086Z",
     "shell.execute_reply": "2023-05-12T10:46:05.270316Z"
    },
    "tags": []
   },
   "outputs": [],
   "source": [
    "if (grepl(\"sc\", Sys.info()[[\"nodename\"]], fixed=TRUE)) {\n",
    "    base_path = \"/sc-projects/sc-proj-ukb-cvd\"\n",
    "} else {\n",
    "    base_path = \"/data/analysis/ag-reils/ag-reils-shared/cardioRS\"}\n",
    "print(base_path)\n",
    "\n",
    "project_label=\"22_medical_records\"\n",
    "project_path = glue(\"{base_path}/results/projects/{project_label}\")\n",
    "figure_path = glue(\"{project_path}/figures\")\n",
    "output_path = glue(\"{project_path}/data\")\n",
    "\n",
    "experiment = 230425\n",
    "experiment_path = glue(\"{output_path}/{experiment}\")"
   ]
  },
  {
   "cell_type": "code",
   "execution_count": null,
   "metadata": {
    "execution": {
     "iopub.execute_input": "2023-05-12T10:46:05.272862Z",
     "iopub.status.busy": "2023-05-12T10:46:05.272199Z",
     "iopub.status.idle": "2023-05-12T10:46:05.282596Z",
     "shell.execute_reply": "2023-05-12T10:46:05.281839Z"
    },
    "tags": []
   },
   "outputs": [],
   "source": [
    "base_size = 8\n",
    "title_size = 10\n",
    "facet_size = 9\n",
    "geom_text_size=3\n",
    "theme_set(theme_classic(base_size = base_size) + \n",
    "          theme(strip.background = element_blank(), plot.title=element_text(size=title_size, hjust=0), \n",
    "                strip.text.x = element_text(size = facet_size),axis.title=element_text(size=10), axis.text=element_text(size=8, color=\"black\"),\n",
    "                legend.position=\"bottom\", axis.line = element_line(size = 0.2), axis.ticks=element_line(size=0.2), panel.grid.major.y=element_line()))"
   ]
  },
  {
   "cell_type": "code",
   "execution_count": null,
   "metadata": {
    "ExecuteTime": {
     "end_time": "2021-01-05T11:03:23.526022Z",
     "start_time": "2021-01-05T11:03:20.042Z"
    },
    "execution": {
     "iopub.execute_input": "2023-05-12T10:46:05.284301Z",
     "iopub.status.busy": "2023-05-12T10:46:05.283677Z",
     "iopub.status.idle": "2023-05-12T10:46:05.293254Z",
     "shell.execute_reply": "2023-05-12T10:46:05.292519Z"
    },
    "tags": []
   },
   "outputs": [],
   "source": [
    "colors_dict = read_json(\"colors.json\")\n",
    "color_map <- c(\n",
    "    \"Identity(AgeSex)+MLP\" = colors_dict$pastel$red$mid,\n",
    "    \"Identity(Records)+MLP\" = colors_dict$pastel$red$mid,\n",
    "    \"GNN(Records)+MLP\" = colors_dict$pastel$red$mid,\n",
    "    \"Identity(AgeSex+Records)+MLP\" = colors_dict$pastel$red$mid,\n",
    "    \"GNN(AgeSex+Records)+MLP\" = colors_dict$pastel$red$mid\n",
    ")"
   ]
  },
  {
   "cell_type": "code",
   "execution_count": null,
   "metadata": {
    "execution": {
     "iopub.execute_input": "2023-05-12T10:46:05.294937Z",
     "iopub.status.busy": "2023-05-12T10:46:05.294298Z",
     "iopub.status.idle": "2023-05-12T10:46:06.081619Z",
     "shell.execute_reply": "2023-05-12T10:46:06.080694Z"
    },
    "tags": []
   },
   "outputs": [],
   "source": [
    "endpoint_defs = arrow::read_feather(glue(\"{output_path}/phecode_defs_220306.feather\")) %>% arrange(endpoint)\n",
    "endpoints_md = fread(glue(\"{experiment_path}/endpoints.csv\"), colClasses=c(\"phecode\"=\"character\"))\n",
    "endpoints = sort(endpoints_md$endpoint)"
   ]
  },
  {
   "cell_type": "code",
   "execution_count": null,
   "metadata": {
    "execution": {
     "iopub.execute_input": "2023-05-12T10:46:06.083392Z",
     "iopub.status.busy": "2023-05-12T10:46:06.082743Z",
     "iopub.status.idle": "2023-05-12T10:46:06.094545Z",
     "shell.execute_reply": "2023-05-12T10:46:06.091485Z"
    },
    "tags": []
   },
   "outputs": [],
   "source": [
    "endpoint_map = endpoint_defs$phecode_string\n",
    "names(endpoint_map) =  endpoint_defs$endpoint\n",
    "endpoint_order = (endpoint_defs %>% arrange(as.numeric(phecode)))$endpoint"
   ]
  },
  {
   "cell_type": "code",
   "execution_count": null,
   "metadata": {
    "execution": {
     "iopub.execute_input": "2023-05-12T10:46:06.096227Z",
     "iopub.status.busy": "2023-05-12T10:46:06.095633Z",
     "iopub.status.idle": "2023-05-12T10:46:06.113148Z",
     "shell.execute_reply": "2023-05-12T10:46:06.112420Z"
    },
    "tags": []
   },
   "outputs": [],
   "source": [
    "endpoint_selection = c(\n",
    "    \n",
    "   'phecode_401', #  \"Hypertension\", # intervention\n",
    "    'phecode_202', #  \"Diabetes mellitus\", # intervention\n",
    "    'phecode_416-21', #  \"Atrial fibrillation\", # intervention\n",
    "    'phecode_468', #  \"Pneumonia\", # intervention\n",
    "    'phecode_474', #  \"Chronic obstructive pulmonary disease [COPD]\", # interventio\n",
    "    'phecode_583', #  \"Chronic kidney disease\", # intervention\n",
    "    \n",
    "    'phecode_404', #  \"Ischemic heart disease\",\n",
    "    'phecode_404-1', #  \"Myocardial infarction [Heart attack]\", # intervention\n",
    "    'phecode_431-11', #  \"Cerebral infarction [Ischemic stroke]\",\n",
    "    'phecode_424', #  \"Heart failure\", # intervention\n",
    "    'phecode_420', #  \"Cardiac arrest\", # intervention\n",
    "    'OMOP_4306655', #  \"All-Cause Death\", # intervention\n",
    "    \n",
    "    'phecode_438-11',   #  \"Abdominal aortic aneurysm\",\n",
    "    'phecode_440-3',#  \"Pulmonary embolism\", # intervention\n",
    "    'phecode_413-21',#  \"Aortic stenosis\", # intervention\n",
    "    'phecode_413-11', #  \"Mitral valve insufficiency\",\n",
    "    'phecode_410-2',#  \"Endocarditis\",\n",
    "    'phecode_400',#  \"Rheumatic fever and chronic rheumatic heart diseases\",\t\n",
    "    \n",
    "    'phecode_164', #  \"Anemia\", # intervention\n",
    "    'phecode_718',  #  \"Back pain\", # intervention\n",
    "    'phecode_324-11', #  \"Parkinson's disease (Primary)\",\n",
    "    'phecode_705-1', #  \"Rheumatoid arthritis\", # NEW + interventio\n",
    "    'phecode_665', #  \"Psoriasis\", # interesting\n",
    "    'phecode_284'#  \"Suicide ideation and attempt or self harm\" # intervention\n",
    ")\n",
    "endpoint_defs = endpoint_defs %>% \n",
    "    mutate(name = phecode_string) %>%\n",
    "    mutate(name = \n",
    "           case_when( \n",
    "               phecode_string == \"Myocardial infarction [Heart attack]\"~\"Myocardial infarction\",\n",
    "               phecode_string == \"Cerebral infarction [Ischemic stroke]\"~\"Ischemic stroke\",\n",
    "               phecode_string == \"Chronic obstructive pulmonary disease [COPD]\"~\"COPD\",\n",
    "               phecode_string == \"Mitral valve insufficiency\"~\"Mitral insufficiency\",\n",
    "               phecode_string == \"Parkinson's disease (Primary)\"~\"Parkinson's\",\n",
    "               phecode_string == \"Suicide ideation and attempt or self harm\"~\"Suicide attempt\",\n",
    "               phecode_string == \"Ischemic heart disease\"~\"Ischemic HD\",\n",
    "               phecode_string == \"Chronic kidney disease\"~\"Chronic KD\",\n",
    "               phecode_string == \"Rheumatic fever and chronic rheumatic heart diseases\"~\"Rheumatic HD\",\n",
    "               phecode_string == \"Abdominal aortic aneurysm\"~\"Abdominal AA\",\n",
    "                  TRUE ~ name)\n",
    "           )\n",
    "            \n",
    "endpoint_map = endpoint_defs$name\n",
    "names(endpoint_map) =  endpoint_defs$endpoint\n",
    "#endpoint_order = (endpoint_defs %>% arrange(as.numeric(phecode)))$endpoint\n",
    "endpoint_order = endpoint_selection"
   ]
  },
  {
   "cell_type": "markdown",
   "metadata": {},
   "source": [
    "## Load data"
   ]
  },
  {
   "cell_type": "markdown",
   "metadata": {},
   "source": [
    "# Load Benchmarks"
   ]
  },
  {
   "cell_type": "code",
   "execution_count": null,
   "metadata": {
    "execution": {
     "iopub.execute_input": "2023-05-12T10:46:07.580098Z",
     "iopub.status.busy": "2023-05-12T10:46:07.579430Z",
     "iopub.status.idle": "2023-05-12T10:46:08.729992Z",
     "shell.execute_reply": "2023-05-12T10:46:08.729056Z"
    },
    "tags": []
   },
   "outputs": [],
   "source": [
    "name = \"benchmarks_cindex_230425\"\n",
    "benchmark_endpoints = arrow::read_feather(glue(\"{experiment_path}/{name}.feather\")) %>% left_join(endpoints_md) "
   ]
  },
  {
   "cell_type": "code",
   "execution_count": null,
   "metadata": {
    "execution": {
     "iopub.execute_input": "2023-05-12T10:46:08.731763Z",
     "iopub.status.busy": "2023-05-12T10:46:08.731124Z",
     "iopub.status.idle": "2023-05-12T10:46:09.006435Z",
     "shell.execute_reply": "2023-05-12T10:46:09.005606Z"
    },
    "tags": []
   },
   "outputs": [],
   "source": [
    "benchmark_endpoints %>% group_by(endpoint, score)  %>% summarise(cindex=mean(cindex)) %>% group_by(score) %>% summarise(mean(cindex)) %>% arrange(`mean(cindex)`)"
   ]
  },
  {
   "cell_type": "code",
   "execution_count": null,
   "metadata": {
    "execution": {
     "iopub.execute_input": "2023-05-12T10:46:09.105717Z",
     "iopub.status.busy": "2023-05-12T10:46:09.104979Z",
     "iopub.status.idle": "2023-05-12T10:46:09.196097Z",
     "shell.execute_reply": "2023-05-12T10:46:09.195214Z"
    },
    "tags": []
   },
   "outputs": [],
   "source": [
    "endpoints_sorted = (benchmark_endpoints %>% \n",
    "    filter(score == \"Age+Sex+MedicalHistory\") %>% \n",
    "    group_by(endpoint, score) %>% \n",
    "    summarise(cindex=mean(cindex, na.rm=TRUE)) %>% \n",
    "    arrange(cindex) %>% ungroup())$endpoint"
   ]
  },
  {
   "cell_type": "code",
   "execution_count": null,
   "metadata": {
    "execution": {
     "iopub.execute_input": "2023-05-12T10:46:09.197990Z",
     "iopub.status.busy": "2023-05-12T10:46:09.197310Z",
     "iopub.status.idle": "2023-05-12T10:46:09.204197Z",
     "shell.execute_reply": "2023-05-12T10:46:09.203425Z"
    },
    "tags": []
   },
   "outputs": [],
   "source": [
    "categories_sorted = (endpoint_defs %>% distinct(phecode_category))$phecode_category"
   ]
  },
  {
   "cell_type": "code",
   "execution_count": null,
   "metadata": {
    "execution": {
     "iopub.execute_input": "2023-05-12T10:46:09.382740Z",
     "iopub.status.busy": "2023-05-12T10:46:09.382080Z",
     "iopub.status.idle": "2023-05-12T10:46:09.451564Z",
     "shell.execute_reply": "2023-05-12T10:46:09.450760Z"
    },
    "tags": []
   },
   "outputs": [],
   "source": [
    "benchmark_endpoints"
   ]
  },
  {
   "cell_type": "markdown",
   "metadata": {},
   "source": [
    "benchmark_endpoints## General Performance"
   ]
  },
  {
   "cell_type": "code",
   "execution_count": null,
   "metadata": {
    "execution": {
     "iopub.execute_input": "2023-05-12T10:46:14.308554Z",
     "iopub.status.busy": "2023-05-12T10:46:14.307862Z",
     "iopub.status.idle": "2023-05-12T10:46:14.456394Z",
     "shell.execute_reply": "2023-05-12T10:46:14.455583Z"
    },
    "tags": []
   },
   "outputs": [],
   "source": [
    "library(ggdist)"
   ]
  },
  {
   "cell_type": "code",
   "execution_count": null,
   "metadata": {
    "execution": {
     "iopub.execute_input": "2023-05-12T10:46:14.498247Z",
     "iopub.status.busy": "2023-05-12T10:46:14.497606Z",
     "iopub.status.idle": "2023-05-12T10:46:14.507579Z",
     "shell.execute_reply": "2023-05-12T10:46:14.506839Z"
    },
    "tags": []
   },
   "outputs": [],
   "source": [
    "base_size = 8\n",
    "title_size = 10\n",
    "facet_size = 9\n",
    "geom_text_size=3\n",
    "theme_set(theme_classic(base_size = base_size) + \n",
    "          theme(strip.background = element_blank(), plot.title=element_text(size=title_size, hjust=0), \n",
    "                strip.text.x = element_text(size = facet_size),axis.title=element_text(size=10), axis.text=element_text(size=8, color=\"black\"),\n",
    "                legend.position=\"bottom\", axis.line = element_line(size = 0.2), axis.ticks=element_line(size=0.2), panel.grid.major=element_line()))"
   ]
  },
  {
   "cell_type": "markdown",
   "metadata": {
    "execution": {
     "iopub.execute_input": "2022-06-15T09:54:05.829379Z",
     "iopub.status.busy": "2022-06-15T09:54:05.828551Z",
     "iopub.status.idle": "2022-06-15T09:54:05.842105Z",
     "shell.execute_reply": "2022-06-15T09:54:05.840873Z"
    }
   },
   "source": [
    "## Performance against CVD Scores"
   ]
  },
  {
   "cell_type": "code",
   "execution_count": null,
   "metadata": {
    "execution": {
     "iopub.execute_input": "2023-05-10T08:44:33.924383Z",
     "iopub.status.busy": "2023-05-10T08:44:33.923529Z",
     "iopub.status.idle": "2023-05-10T08:44:33.931014Z",
     "shell.execute_reply": "2023-05-10T08:44:33.929986Z"
    },
    "tags": []
   },
   "outputs": [],
   "source": [
    "SCORE2: Myocardial infarction, Stroke, hypertensive heart disease, Ischemic heart disease, heart failure, arrhythmias, cardiovascular death + cardiac arrest\n",
    "ASCVD: \n",
    "QRISK3:  Ischemic heart disease, Myocardial infarction, TIA, stroke\n",
    "\n",
    "AF: some scores ESC\n"
   ]
  },
  {
   "cell_type": "code",
   "execution_count": null,
   "metadata": {
    "execution": {
     "iopub.execute_input": "2023-05-12T10:46:17.194441Z",
     "iopub.status.busy": "2023-05-12T10:46:17.193750Z",
     "iopub.status.idle": "2023-05-12T10:46:17.680305Z",
     "shell.execute_reply": "2023-05-12T10:46:17.679499Z"
    },
    "tags": []
   },
   "outputs": [],
   "source": [
    "score_new =  \"Age+Sex+MedicalHistory\"\n",
    "scores_ref = c(\"Age+Sex\", \"SCORE2\", \"ASCVD\", \"QRISK3\")\n",
    "scores_plot = c(scores_ref, score_new)\n",
    "benchmark_endpoints %>% \n",
    "        filter(score %in% scores_plot) %>% \n",
    "        mutate(score = factor(score, levels=scores_plot)) %>%\n",
    "        mutate(endpoint = factor(endpoint, levels=endpoints_sorted)) %>%\n",
    "        group_by(endpoint, score, phecode_string, phecode_category) %>%\n",
    "        ungroup() %>%\n",
    "        pivot_wider(names_from=score, values_from=cindex) %>% \n",
    "        mutate(id = row_number()) %>%\n",
    "        pivot_longer(c(\"Age+Sex\", \"SCORE2\", \"ASCVD\", \"QRISK3\"), names_to=\"ref_score\", values_to=\"cindex\")"
   ]
  },
  {
   "cell_type": "code",
   "execution_count": null,
   "metadata": {
    "execution": {
     "iopub.execute_input": "2023-05-12T10:46:18.219899Z",
     "iopub.status.busy": "2023-05-12T10:46:18.219228Z",
     "iopub.status.idle": "2023-05-12T10:46:18.320089Z",
     "shell.execute_reply": "2023-05-12T10:46:18.319196Z"
    },
    "tags": []
   },
   "outputs": [],
   "source": [
    "endpoint_map_wrapped = str_wrap(endpoint_map, 10)\n",
    "names(endpoint_map_wrapped) = names(endpoint_map)"
   ]
  },
  {
   "cell_type": "code",
   "execution_count": null,
   "metadata": {
    "execution": {
     "iopub.execute_input": "2023-05-12T10:46:59.534733Z",
     "iopub.status.busy": "2023-05-12T10:46:59.533947Z",
     "iopub.status.idle": "2023-05-12T10:46:59.546420Z",
     "shell.execute_reply": "2023-05-12T10:46:59.545679Z"
    },
    "tags": []
   },
   "outputs": [],
   "source": [
    "plot_width = 8.25; plot_height=2; plot_res = 320\n",
    "options(repr.plot.width = plot_width, repr.plot.height = plot_height, repr.plot.res=plot_res)\n",
    "\n",
    "plot_against_score = function(score1, score2, endpoint_order=c()){\n",
    "    \n",
    "    #scores_plot = c(score1, score2)#, \"AgeSexMedicalHistory\"\n",
    "    score2 =  \"Age+Sex+MedicalHistory\"\n",
    "    scores_ref = c(\"QRISK3\", \"ASCVD\", \"SCORE2\", \"Age+Sex\")\n",
    "    scores_plot = c(scores_ref, score2)\n",
    "    \n",
    "    score_label = glue(\"{scores_ref} vs. {score2}\")\n",
    "    #print(score_label)\n",
    "\n",
    "    temp = benchmark_endpoints %>% \n",
    "        filter(score %in% scores_plot) %>% \n",
    "        filter(endpoint %in% endpoint_order) %>%\n",
    "        mutate(score = factor(score, levels=scores_plot)) %>%\n",
    "        mutate(endpoint = factor(endpoint, levels=endpoints_sorted)) %>%\n",
    "        group_by(endpoint, score, phecode_string, phecode_category) %>%\n",
    "        ungroup() %>%\n",
    "        pivot_wider(names_from=score, values_from=cindex) %>% \n",
    "        mutate(id = row_number()) %>%\n",
    "        pivot_longer(c(\"Age+Sex\", \"SCORE2\", \"ASCVD\", \"QRISK3\"), names_to=\"ref_score\", values_to=\"cindex\") %>%\n",
    "        mutate(delta = !!sym(score2)-cindex) %>%\n",
    "        mutate(pos = case_when(delta>=0 ~ \"pos\", delta < 0 ~\"neg\")) %>%\n",
    "        mutate(endpoint = fct_reorder(endpoint, delta)) %>%\n",
    "        mutate(highlight = case_when(endpoint %in% endpoint_selection ~ \"YES\", TRUE ~ \"NO\")) %>%# %>% filter(endpoint %in% endpoint_sample)\n",
    "        mutate(phecode_category = factor(phecode_category, levels=categories_sorted)) %>%\n",
    "        filter(endpoint %in% endpoint_selection) %>%#%>% mutate(endpoint=factor(endpoint, levels=endpoint_order_diff))\n",
    "        mutate(ref_score = factor(ref_score, levels=scores_plot))\n",
    "    \n",
    "    temp_abs = temp %>% group_by(endpoint, ref_score) %>% summarise(delta=median(delta), m_score2=median(!!sym(score2)), m_score1=median(cindex)) %>% ungroup()  %>% mutate(ref_score = factor(ref_score, levels=scores_plot))\n",
    "    \n",
    "    #temp_abs_segment = temp_abs %>% rowwise() %>% mutate(min_cindex = min(m_score1, m_score2), max_cindex=max(m_score1, m_score2)) %>% ungroup()# %>% filter(abs(min_cindex-max_cindex)>0.02) \n",
    "    \n",
    "    #if (length(endpoint_order)>0){\n",
    "    #    temp = temp %>% filter(endpoint %in% endpoint_order) %>% mutate(endpoint=factor(endpoint, levels=endpoint_order))\n",
    "    #    temp_abs = temp_abs %>% filter(endpoint %in% endpoint_order) %>% mutate(endpoint=factor(endpoint, levels=endpoint_order))\n",
    "    #    temp_abs_segment = temp_abs_segment %>% filter(endpoint %in% endpoint_order) %>% mutate(endpoint=factor(endpoint, levels=endpoint_order))\n",
    "    #    }\n",
    "    #print(temp_abs_segment)\n",
    "    \n",
    "    abs = ggplot(temp_abs) + \n",
    "        #geom_violin(aes(x=fct_rev(endpoint), y=delta), size=0.5) +\n",
    "        labs(y=\"Concordance Index\")+\n",
    "        #geom_segment(data=temp_abs_segment, mapping=aes(x=endpoint, xend=endpoint, y=min_cindex+0.01, yend=max_cindex-0.01), alpha=0.4)+#, arrow = arrow(length = unit(0.01, \"npc\")), arrow.fill=\"black\")+#+\n",
    "       \n",
    "    \n",
    "        geom_segment(aes(x=0.9, xend=4.1, y=m_score2, yend=m_score2), size=1.5, color=\"firebrick\", alpha=0.1, lineend=\"round\")+\n",
    "        geom_point(aes(x=fct_rev(ref_score), y=m_score2), size=1.5, color=\"firebrick\", alpha=0.7)+\n",
    "        geom_point(aes(x=fct_rev(ref_score), y=m_score1), size=1, color=\"black\", alpha=0.7)+\n",
    "        #geom_point(aes(x=fct_rev(endpoint), y=m_asm), size=1, color=\"#023768\", alpha=0.7)+\n",
    "        #geom_point(aes(x=fct_rev(ref_score), y=m_score2), size=1.5, color=\"firebrick\", alpha=0.7)+\n",
    "        \n",
    "    \n",
    "         geom_segment(data=temp_abs %>% filter(abs(delta)>0.01) %>% mutate(endpoint=factor(endpoint, levels=endpoint_order)), \n",
    "                     aes(x=fct_rev(ref_score), xend=fct_rev(ref_score), y=m_score1+0.01, yend=m_score2-0.01), alpha=0.2, arrow = arrow(length = unit(0.01, \"npc\")), arrow.fill=\"black\")+#,\n",
    "    \n",
    "        scale_x_discrete()+#labels=endpoint_map) +\n",
    "        coord_flip(ylim=c(0.5, 0.9))+\n",
    "        facet_grid(rows=vars(endpoint), labeller=labeller(endpoint=endpoint_map_wrapped), switch=\"both\")+\n",
    "        theme(legend.position=\"none\", axis.title.y=element_blank(),axis.text.y=element_text(size=8), \n",
    "              strip.placement=\"outside\", strip.text.y.left = element_text(angle=0, size=9)) \n",
    "    \n",
    "\n",
    "    rel = ggplot(temp) + \n",
    "   # geom_violin(aes(x=fct_rev(endpoint), y=delta), size=0.5) +\n",
    "        labs(y=\"Difference in Concordance Index\")+\n",
    "        geom_hline(yintercept=0, size=0.25, alpha=0.5, linetype=\"22\") + \n",
    "        stat_pointinterval(aes(x=fct_rev(ref_score), y=delta), size=0.5, alpha=0.7)+\n",
    "#\n",
    "        theme(axis.title.y=element_blank(),\n",
    "            axis.text.y=element_blank(),\n",
    "           axis.ticks.y=element_blank()) + \n",
    "        coord_flip(ylim=c(-0.01, 0.23))+\n",
    "    facet_grid(rows=vars(endpoint), labeller=labeller(endpoint=endpoint_map_wrapped), switch=\"both\")+\n",
    "        theme(legend.position=\"none\", axis.title.y=element_blank(),axis.text.y=element_blank(), \n",
    "              strip.placement=\"outside\", strip.text.y.left = element_blank()) \n",
    "    #print(abs|rel)\n",
    "    return(abs|rel)\n",
    "    #return(temp)\n",
    "    }"
   ]
  },
  {
   "cell_type": "code",
   "execution_count": null,
   "metadata": {
    "execution": {
     "iopub.execute_input": "2023-05-12T10:47:00.545201Z",
     "iopub.status.busy": "2023-05-12T10:47:00.544553Z",
     "iopub.status.idle": "2023-05-12T10:47:00.551367Z",
     "shell.execute_reply": "2023-05-12T10:47:00.550621Z"
    },
    "tags": []
   },
   "outputs": [],
   "source": [
    "library(ggdist)"
   ]
  },
  {
   "cell_type": "code",
   "execution_count": null,
   "metadata": {
    "execution": {
     "iopub.execute_input": "2023-05-12T10:47:00.839242Z",
     "iopub.status.busy": "2023-05-12T10:47:00.838518Z",
     "iopub.status.idle": "2023-05-12T10:47:00.848276Z",
     "shell.execute_reply": "2023-05-12T10:47:00.847556Z"
    },
    "tags": []
   },
   "outputs": [],
   "source": [
    "base_size = 8\n",
    "title_size = 10\n",
    "facet_size = 9\n",
    "geom_text_size=3\n",
    "theme_set(theme_classic(base_size = base_size) + \n",
    "          theme(strip.background = element_blank(), plot.title=element_text(size=title_size, hjust=0), \n",
    "                strip.text.x = element_text(size = facet_size),axis.title=element_text(size=10), axis.text=element_text(size=8, color=\"black\"),\n",
    "                legend.position=\"bottom\", axis.line = element_line(size = 0.2), axis.ticks=element_line(size=0.2), panel.grid.major=element_line()))"
   ]
  },
  {
   "cell_type": "code",
   "execution_count": null,
   "metadata": {
    "execution": {
     "iopub.execute_input": "2023-05-12T10:47:01.385704Z",
     "iopub.status.busy": "2023-05-12T10:47:01.385033Z",
     "iopub.status.idle": "2023-05-12T10:47:01.392044Z",
     "shell.execute_reply": "2023-05-12T10:47:01.391299Z"
    },
    "tags": []
   },
   "outputs": [],
   "source": [
    "endpoints_cvd = c(\n",
    "    'phecode_431-11', #  \"Cerebral infarction [Ischemic stroke]\",\n",
    "    'phecode_404', #  \"Ischemic heart disease\",\n",
    "    'phecode_404-1', #  \"Myocardial infarction [Heart attack]\", # intervention\n",
    "    'phecode_424', #  \"Heart failure\", # intervention\n",
    "    'phecode_420', #  \"Cardiac arrest\", # intervention\n",
    "    'OMOP_4306655' #  \"All-Cause Death\", # intervention\n",
    "   \n",
    ")"
   ]
  },
  {
   "cell_type": "code",
   "execution_count": null,
   "metadata": {
    "execution": {
     "iopub.execute_input": "2023-05-12T10:47:02.836844Z",
     "iopub.status.busy": "2023-05-12T10:47:02.836184Z",
     "iopub.status.idle": "2023-05-12T10:47:03.990110Z",
     "shell.execute_reply": "2023-05-12T10:47:03.989213Z"
    },
    "tags": []
   },
   "outputs": [],
   "source": [
    "plot_width = 8.25; plot_height=3.5; plot_res = 320\n",
    "options(repr.plot.width = plot_width, repr.plot.height = plot_height, repr.plot.res=plot_res)\n",
    "\n",
    "fig4ab = plot_against_score(\"Age+Sex\", \"Age+Sex+MedicalHistory\", endpoints_cvd) \n",
    "#fig2 = plot_against_score(\"SCORE2\", \"Age+Sex+MedicalHistory\", endpoints_cvd) \n",
    "#fig3 = plot_against_score(\"ASCVD\", \"Age+Sex+MedicalHistory\", endpoints_cvd)\n",
    "#fig4 = plot_against_score(\"QRISK3\", \"Age+Sex+MedicalHistory\", endpoints_cvd) \n",
    "\n",
    "#temp#/fig2/fig3/fig4 \n",
    "fig4ab"
   ]
  },
  {
   "cell_type": "code",
   "execution_count": null,
   "metadata": {
    "execution": {
     "iopub.execute_input": "2023-05-12T10:47:44.473558Z",
     "iopub.status.busy": "2023-05-12T10:47:44.472742Z",
     "iopub.status.idle": "2023-05-12T10:47:44.947613Z",
     "shell.execute_reply": "2023-05-12T10:47:44.946674Z"
    },
    "tags": []
   },
   "outputs": [],
   "source": [
    "library(gt)\n",
    "plot_name = \"SupplFigure6a_discriminative\"\n",
    "fig4ab %>% ggsave(filename=glue(\"outputs/{plot_name}.pdf\"), device=cairo_pdf, width=plot_width, height=plot_height, dpi=plot_res)"
   ]
  },
  {
   "cell_type": "code",
   "execution_count": null,
   "metadata": {},
   "outputs": [],
   "source": []
  },
  {
   "cell_type": "code",
   "execution_count": null,
   "metadata": {},
   "outputs": [],
   "source": []
  },
  {
   "cell_type": "code",
   "execution_count": null,
   "metadata": {
    "execution": {
     "iopub.execute_input": "2023-05-10T08:47:31.091651Z",
     "iopub.status.busy": "2023-05-10T08:47:31.090668Z",
     "iopub.status.idle": "2023-05-10T08:47:31.378550Z",
     "shell.execute_reply": "2023-05-10T08:47:31.377374Z"
    },
    "tags": []
   },
   "outputs": [],
   "source": [
    "temp = plot_against_score(\"Age+Sex\", \"Age+Sex+MedicalHistory\", endpoints_cvd)"
   ]
  },
  {
   "cell_type": "code",
   "execution_count": null,
   "metadata": {
    "execution": {
     "iopub.execute_input": "2023-05-10T08:50:15.154685Z",
     "iopub.status.busy": "2023-05-10T08:50:15.153749Z",
     "iopub.status.idle": "2023-05-10T08:50:17.531189Z",
     "shell.execute_reply": "2023-05-10T08:50:17.529852Z"
    },
    "tags": []
   },
   "outputs": [],
   "source": [
    "temp %>% group_by(endpoint, ref_score) %>% \n",
    "    median_qi(delta, .width=1-(0.05/24)) %>% \n",
    "    mutate(endpoint = recode(endpoint, !!!endpoint_map)) %>%\n",
    "    mutate(label = glue(\"{round(delta, 3)} ({round(.lower, 3)}, {round(.upper, 3)})\")) %>% \n",
    "    mutate(significance = case_when(.lower>0 ~ \"*\", TRUE ~ \"n.s.\")) %>%\n",
    "    select(endpoint, ref_score, label, significance)"
   ]
  },
  {
   "cell_type": "code",
   "execution_count": null,
   "metadata": {
    "execution": {
     "iopub.execute_input": "2023-05-10T08:48:00.524462Z",
     "iopub.status.busy": "2023-05-10T08:48:00.523470Z",
     "iopub.status.idle": "2023-05-10T08:48:02.891131Z",
     "shell.execute_reply": "2023-05-10T08:48:02.889356Z"
    },
    "tags": []
   },
   "outputs": [],
   "source": [
    "temp %>% group_by(endpoint, ref_score) %>% \n",
    "    median_qi(delta) %>% \n",
    "    mutate(endpoint = recode(endpoint, !!!endpoint_map)) %>%\n",
    "    mutate(label = glue(\"{round(delta, 3)} ({round(.lower, 3)}, {round(.upper, 3)})\")) %>% \n",
    "    mutate(significance = case_when(.lower>0 ~ \"*\", TRUE ~ \"n.s.\")) %>%\n",
    "    select(endpoint, ref_score, label, significance) %>%\n",
    "    write_csv(\"outputs/ST7_CVD_differences.csv\")"
   ]
  },
  {
   "cell_type": "code",
   "execution_count": null,
   "metadata": {
    "tags": []
   },
   "outputs": [],
   "source": [
    "temp %>% pivot_longer(c(\"Age+Sex\", \"SCORE2\", \"ASCVD\", \"QRISK3\"), names_to=\"ref_score\", values_to=\"cindex\")"
   ]
  },
  {
   "cell_type": "code",
   "execution_count": null,
   "metadata": {},
   "outputs": [],
   "source": [
    "temp"
   ]
  },
  {
   "cell_type": "code",
   "execution_count": null,
   "metadata": {
    "tags": []
   },
   "outputs": [],
   "source": [
    "plot_width = 8.25; plot_height=4; plot_res = 320\n",
    "options(repr.plot.width = plot_width, repr.plot.height = plot_height, repr.plot.res=plot_res)\n",
    "\n",
    "endpoints_cvd = c(\n",
    "    'phecode_404', #  \"Ischemic heart disease\",\n",
    "    'phecode_404-1', #  \"Myocardial infarction [Heart attack]\", # intervention\n",
    "    'phecode_431-11', #  \"Cerebral infarction [Ischemic stroke]\",\n",
    "    'phecode_424', #  \"Heart failure\", # intervention\n",
    "    'phecode_420' #  \"Cardiac arrest\", # intervention\n",
    ")\n",
    "\n",
    "fig2 = plot_against_score(\"SCORE2\", \"SCORE2+MedicalHistory\", endpoints_cvd) \n",
    "fig3 = plot_against_score(\"ASCVD\", \"ASCVD+MedicalHistory\", endpoints_cvd)\n",
    "fig4 = plot_against_score(\"QRISK3\", \"QRISK3+MedicalHistory\", endpoints_cvd) \n",
    "\n",
    "fig2/fig3/fig4 "
   ]
  },
  {
   "cell_type": "code",
   "execution_count": null,
   "metadata": {
    "tags": []
   },
   "outputs": [],
   "source": []
  },
  {
   "cell_type": "code",
   "execution_count": null,
   "metadata": {},
   "outputs": [],
   "source": []
  },
  {
   "cell_type": "code",
   "execution_count": null,
   "metadata": {},
   "outputs": [],
   "source": []
  },
  {
   "cell_type": "code",
   "execution_count": null,
   "metadata": {},
   "outputs": [],
   "source": []
  },
  {
   "cell_type": "code",
   "execution_count": null,
   "metadata": {},
   "outputs": [],
   "source": []
  },
  {
   "cell_type": "code",
   "execution_count": null,
   "metadata": {},
   "outputs": [],
   "source": []
  },
  {
   "cell_type": "code",
   "execution_count": null,
   "metadata": {},
   "outputs": [],
   "source": []
  },
  {
   "cell_type": "code",
   "execution_count": null,
   "metadata": {},
   "outputs": [],
   "source": []
  },
  {
   "cell_type": "code",
   "execution_count": null,
   "metadata": {
    "tags": []
   },
   "outputs": [],
   "source": [
    "ggplot(temp) + \n",
    "    geom_point(aes(x=endpoint, y=delta, color=highlight), size=0.5) +\n",
    "    geom_segment(aes(x=endpoint, xend=endpoint, y=0, yend=delta, color=highlight, size=highlight), alpha=0.5)+#+\n",
    "    scale_color_manual(values=c(\"NO\"=\"black\", \"YES\"=\"firebrick\"))+\n",
    "    #scale_alpha_manual(values=c(\"NO\"=0.3, \"YES\"=0.7))+\n",
    "    scale_size_manual(values=c(\"NO\"=0.1, \"YES\"=0.5))+\n",
    "    #scale_colour_manual(values = c(\"pos\"=\"forestgreen\", \"neg\" = \"firebrick\")) + \n",
    "    coord_cartesian(ylim=c(0, NA), clip = \"off\")+\n",
    "    scale_y_continuous(expand=c(0, 0))+\n",
    "    scale_x_discrete(expand=expansion(add=8))+\n",
    "    facet_grid(~phecode_category, scale=\"free_x\", space=\"free_x\")+#, switch=TRUE)+\n",
    "    theme(axis.title.x=element_blank(),\n",
    "        axis.text.x=element_blank(),\n",
    "        axis.ticks.x=element_blank(),\n",
    "     strip.text = element_text(angle=270)) + \n",
    "    theme(legend.position=\"none\")\n",
    "    \n",
    "    #geom_ribbon(aes(x=id, ymin=AgeSex, ymax=`Age+Sex+MedicalHistory`), fill=\"red\", alpha=0.2)\n",
    "#geom_violin(size=0.1) "
   ]
  },
  {
   "cell_type": "code",
   "execution_count": null,
   "metadata": {},
   "outputs": [],
   "source": [
    "library(ggdist)"
   ]
  },
  {
   "cell_type": "code",
   "execution_count": null,
   "metadata": {},
   "outputs": [],
   "source": [
    "table_2 = benchmark_endpoints %>% \n",
    "    filter(score %in% scores_plot) %>% \n",
    "    mutate(score = factor(score, levels=scores_plot)) %>%\n",
    "    mutate(endpoint = factor(endpoint, levels=endpoints_sorted)) %>%\n",
    "    group_by(endpoint, score, phecode_string, phecode_category) %>%\n",
    "    pivot_wider(names_from=score, values_from=cindex) %>% \n",
    "    mutate(id = row_number()) %>%\n",
    "    mutate(delta = `Age+Sex+MedicalHistory`-`Age+Sex`) %>%\n",
    "    #select(endpoint, iteration, phecode_string, phecode_category, sex, `Age+Sex`, `Age+Sex+MedicalHistory`, delta) %>%\n",
    "    pivot_longer(all_of(c(\"Age+Sex\", \"Age+Sex+MedicalHistory\", \"delta\")), names_to=\"type\", values_to=\"cindex\") %>%\n",
    "    group_by(endpoint, phecode_string, phecode_category, type) %>%\n",
    "    median_qi(cindex) %>%\n",
    "    #ungroup() %>%\n",
    "    mutate(agg = glue(\"{round(cindex, 3)} ({round(.lower, 3)}, {round(.upper, 3)})\")) %>%\n",
    "    ungroup() %>% select(endpoint, phecode_string, phecode_category, type, agg) %>%\n",
    "    pivot_wider(names_from=type, values_from=agg)\n",
    "    #mutate(pos = case_when(delta>=0 ~ \"pos\", delta < 0 ~\"neg\")) %>%\n",
    "    #mutate(endpoint = fct_reorder(endpoint, delta))# %>% filter(endpoint %in% endpoint_sample)"
   ]
  },
  {
   "cell_type": "code",
   "execution_count": null,
   "metadata": {},
   "outputs": [],
   "source": [
    "table_2 %>% \n",
    "    select(all_of(c(\"endpoint\", \"phecode_string\", \"Age+Sex\", 'Age+Sex+MedicalHistory', \"delta\"))) %>%\n",
    "    mutate(endpoint = factor(endpoint, levels = endpoint_order)) %>% \n",
    "    filter(endpoint %in% endpoint_selection) %>%\n",
    "    arrange(endpoint)"
   ]
  },
  {
   "cell_type": "code",
   "execution_count": null,
   "metadata": {},
   "outputs": [],
   "source": [
    "options(pillar.print_max = Inf)\n",
    "table_2 %>% \n",
    "    select(all_of(c(\"phecode_category\", \"endpoint\", \"phecode_string\", \"Age+Sex\", 'Age+Sex+MedicalHistory', \"delta\"))) %>%\n",
    "    mutate(endpoint = factor(endpoint, levels = endpoint_order)) %>% \n",
    "    #filter(endpoint %in% endpoint_selection) %>%\n",
    "    arrange(endpoint) %>% \n",
    "    write_csv(\"outputs/SupplTable1_DiscriminativePerformanceAll.csv\")"
   ]
  },
  {
   "cell_type": "code",
   "execution_count": null,
   "metadata": {},
   "outputs": [],
   "source": []
  },
  {
   "cell_type": "code",
   "execution_count": null,
   "metadata": {},
   "outputs": [],
   "source": [
    "table_2 %>% filter(endpoint %in% endpoint_selection) %>% arrange(as.character(endpoint))"
   ]
  }
 ],
 "metadata": {
  "hide_input": false,
  "kernelspec": {
   "display_name": "R [conda env:r_env]",
   "language": "R",
   "name": "conda-env-r_env-r"
  },
  "language_info": {
   "codemirror_mode": "r",
   "file_extension": ".r",
   "mimetype": "text/x-r-source",
   "name": "R",
   "pygments_lexer": "r",
   "version": "4.0.2"
  },
  "toc-autonumbering": false
 },
 "nbformat": 4,
 "nbformat_minor": 4
}
