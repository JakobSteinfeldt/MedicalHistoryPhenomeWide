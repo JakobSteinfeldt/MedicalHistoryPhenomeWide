{
 "cells": [
  {
   "cell_type": "markdown",
   "metadata": {},
   "source": [
    "# Benchmarks"
   ]
  },
  {
   "cell_type": "markdown",
   "metadata": {},
   "source": [
    "## Initialize"
   ]
  },
  {
   "cell_type": "code",
   "execution_count": null,
   "metadata": {
    "execution": {
     "iopub.execute_input": "2023-04-26T09:34:35.428144Z",
     "iopub.status.busy": "2023-04-26T09:34:35.427688Z",
     "iopub.status.idle": "2023-04-26T09:34:38.342054Z",
     "shell.execute_reply": "2023-04-26T09:34:38.341420Z",
     "shell.execute_reply.started": "2023-04-26T09:34:35.428121Z"
    },
    "tags": []
   },
   "outputs": [],
   "source": [
    "import os\n",
    "import math\n",
    "import pathlib\n",
    "import numpy as np\n",
    "import pandas as pd\n",
    "import pyarrow as pa\n",
    "import pyarrow.feather as feather\n",
    "from tqdm.auto import tqdm\n",
    "from IPython.display import clear_output\n",
    "\n",
    "import warnings\n",
    "from lifelines.utils import CensoringType\n",
    "from lifelines.utils import concordance_index"
   ]
  },
  {
   "cell_type": "code",
   "execution_count": null,
   "metadata": {
    "execution": {
     "iopub.execute_input": "2023-04-26T09:34:38.343037Z",
     "iopub.status.busy": "2023-04-26T09:34:38.342805Z",
     "iopub.status.idle": "2023-04-26T09:34:38.354248Z",
     "shell.execute_reply": "2023-04-26T09:34:38.353646Z",
     "shell.execute_reply.started": "2023-04-26T09:34:38.343020Z"
    },
    "tags": []
   },
   "outputs": [],
   "source": [
    "node = !hostname\n",
    "if \"sc\" in node[0]:\n",
    "    base_path = \"/sc-projects/sc-proj-ukb-cvd\"\n",
    "else: \n",
    "    base_path = \"/data/analysis/ag-reils/ag-reils-shared/cardioRS\"\n",
    "print(base_path)\n",
    "\n",
    "project_label = \"22_medical_records\"\n",
    "project_path = f\"{base_path}/results/projects/{project_label}\"\n",
    "figure_path = f\"{project_path}/figures\"\n",
    "output_path = f\"{project_path}/data\"\n",
    "\n",
    "pathlib.Path(figure_path).mkdir(parents=True, exist_ok=True)\n",
    "pathlib.Path(output_path).mkdir(parents=True, exist_ok=True)\n",
    "\n",
    "experiment = 230425\n",
    "experiment_path = f\"{output_path}/{experiment}\"\n",
    "pathlib.Path(experiment_path).mkdir(parents=True, exist_ok=True)"
   ]
  },
  {
   "cell_type": "code",
   "execution_count": null,
   "metadata": {
    "execution": {
     "iopub.execute_input": "2023-04-26T09:34:38.355841Z",
     "iopub.status.busy": "2023-04-26T09:34:38.355685Z",
     "iopub.status.idle": "2023-04-26T09:34:38.380664Z",
     "shell.execute_reply": "2023-04-26T09:34:38.380108Z",
     "shell.execute_reply.started": "2023-04-26T09:34:38.355825Z"
    },
    "tags": []
   },
   "outputs": [],
   "source": [
    "endpoints_md = pd.read_csv(f\"{experiment_path}/endpoints.csv\")\n",
    "endpoints = sorted(endpoints_md.endpoint.to_list())"
   ]
  },
  {
   "cell_type": "code",
   "execution_count": null,
   "metadata": {
    "execution": {
     "iopub.execute_input": "2023-04-26T09:34:38.382812Z",
     "iopub.status.busy": "2023-04-26T09:34:38.382669Z",
     "iopub.status.idle": "2023-04-26T09:34:50.349684Z",
     "shell.execute_reply": "2023-04-26T09:34:50.348926Z",
     "shell.execute_reply.started": "2023-04-26T09:34:38.382798Z"
    },
    "tags": []
   },
   "outputs": [],
   "source": [
    "baseline_covariates = pd.read_feather('/sc-projects/sc-proj-ukb-cvd/data/2_datasets_pre/230424_medicalhistory/baseline_covariates.feather').set_index(\"eid\")"
   ]
  },
  {
   "cell_type": "code",
   "execution_count": null,
   "metadata": {
    "execution": {
     "iopub.execute_input": "2023-04-26T09:34:50.350933Z",
     "iopub.status.busy": "2023-04-26T09:34:50.350641Z",
     "iopub.status.idle": "2023-04-26T09:34:56.624601Z",
     "shell.execute_reply": "2023-04-26T09:34:56.623973Z",
     "shell.execute_reply.started": "2023-04-26T09:34:50.350917Z"
    },
    "tags": []
   },
   "outputs": [],
   "source": [
    "baseline_records = pd.read_feather('/sc-projects/sc-proj-ukb-cvd/results/projects/22_medical_records/data/baseline_outcomes_220627.feather').set_index(\"eid\")"
   ]
  },
  {
   "cell_type": "code",
   "execution_count": null,
   "metadata": {
    "execution": {
     "iopub.execute_input": "2023-04-26T09:34:56.625485Z",
     "iopub.status.busy": "2023-04-26T09:34:56.625339Z",
     "iopub.status.idle": "2023-04-26T09:35:01.436438Z",
     "shell.execute_reply": "2023-04-26T09:35:01.435816Z",
     "shell.execute_reply.started": "2023-04-26T09:34:56.625470Z"
    },
    "tags": []
   },
   "outputs": [],
   "source": [
    "data_baseline = baseline_covariates.merge(baseline_records, left_index=True, right_index=True, how=\"left\")"
   ]
  },
  {
   "cell_type": "code",
   "execution_count": null,
   "metadata": {
    "execution": {
     "iopub.execute_input": "2023-04-26T09:35:01.437371Z",
     "iopub.status.busy": "2023-04-26T09:35:01.437225Z",
     "iopub.status.idle": "2023-04-26T09:35:07.238245Z",
     "shell.execute_reply": "2023-04-26T09:35:07.237687Z",
     "shell.execute_reply.started": "2023-04-26T09:35:01.437356Z"
    },
    "tags": []
   },
   "outputs": [],
   "source": [
    "data_baseline[[c for c in data_baseline.columns if \"fh\" in c]]"
   ]
  },
  {
   "cell_type": "code",
   "execution_count": null,
   "metadata": {
    "execution": {
     "iopub.execute_input": "2023-04-26T09:35:07.239098Z",
     "iopub.status.busy": "2023-04-26T09:35:07.238955Z",
     "iopub.status.idle": "2023-04-26T09:35:07.248579Z",
     "shell.execute_reply": "2023-04-26T09:35:07.248100Z",
     "shell.execute_reply.started": "2023-04-26T09:35:07.239083Z"
    },
    "tags": []
   },
   "outputs": [],
   "source": [
    "endpoints_md[endpoints_md.phecode_string.str.contains(\"erectile\")]"
   ]
  },
  {
   "cell_type": "code",
   "execution_count": null,
   "metadata": {
    "execution": {
     "iopub.execute_input": "2023-04-26T09:35:07.250546Z",
     "iopub.status.busy": "2023-04-26T09:35:07.250241Z",
     "iopub.status.idle": "2023-04-26T09:35:07.269169Z",
     "shell.execute_reply": "2023-04-26T09:35:07.268716Z",
     "shell.execute_reply.started": "2023-04-26T09:35:07.250530Z"
    },
    "tags": []
   },
   "outputs": [],
   "source": [
    "endpoints_md[endpoints_md.phecode==705.1]"
   ]
  },
  {
   "cell_type": "code",
   "execution_count": null,
   "metadata": {
    "execution": {
     "iopub.execute_input": "2023-04-26T09:35:07.269880Z",
     "iopub.status.busy": "2023-04-26T09:35:07.269744Z",
     "iopub.status.idle": "2023-04-26T09:35:07.278459Z",
     "shell.execute_reply": "2023-04-26T09:35:07.278012Z",
     "shell.execute_reply.started": "2023-04-26T09:35:07.269867Z"
    },
    "tags": []
   },
   "outputs": [],
   "source": [
    "# process for downstream cox models"
   ]
  },
  {
   "cell_type": "code",
   "execution_count": null,
   "metadata": {
    "execution": {
     "iopub.execute_input": "2023-04-26T09:35:07.279156Z",
     "iopub.status.busy": "2023-04-26T09:35:07.279027Z",
     "iopub.status.idle": "2023-04-26T09:35:07.293170Z",
     "shell.execute_reply": "2023-04-26T09:35:07.292727Z",
     "shell.execute_reply.started": "2023-04-26T09:35:07.279144Z"
    },
    "tags": []
   },
   "outputs": [],
   "source": [
    "covariate_map = {\n",
    "    'ATC_C02_antihypertensives_0_0': \"antihypertensives\",\n",
    "    'ATC_H02_corticosteroids_for_systemic_use_0_0': \"corticosteroids\",\n",
    "    'ATC_N05_psycholeptics_0_0': \"psycholeptics\",\n",
    "    'age_at_recruitment_f21022_0_0': \"age\",\n",
    "    'cholesterol_f30690_0_0': \"cholesterol\",\n",
    "    'ethnic_background_f21000_0_0': \"ethnic_background\",\n",
    "    'fh_heart_disease_0_0': \"fh_heart_disease\",\n",
    "    'hdl_cholesterol_f30760_0_0': \"hdl_cholesterol\",\n",
    "    'phecode_202-1_prev': \"diabetes1\",\n",
    "    'phecode_202-2_prev': \"diabetes2\",\n",
    "    'phecode_202_prev': \"diabetes\",\n",
    "    'phecode_286-1_prev': \"bipolar_disorder\",\n",
    "    'phecode_286-2_prev': \"major_depressive_disorder\",\n",
    "    'phecode_287-1_prev': \"schizophrenia\",\n",
    "    'phecode_331-6_prev': \"migraine\",\n",
    "    'phecode_416-21_prev': \"atrial_fibrillation\",\n",
    "    'phecode_584_prev': \"renal_failure\",\n",
    "    'phecode_605-1_prev': \"male_erectile_dysfunction\",\n",
    "    'phecode_700-11_prev': \"systemic_lupus_erythematosus\",\n",
    "    'phecode_705-1_prev': \"rheumatoid_arthritis\",\n",
    "    'sex_f31_0_0': \"sex\",\n",
    "    'smoking_status_f20116_0_0': \"smoking_status\",\n",
    "    'standing_height_f50_0_0': \"height\",\n",
    "    'systolic_blood_pressure_automated_reading_f4080_0_0': \"systolic_blood_pressure_0\",\n",
    "    'systolic_blood_pressure_automated_reading_f4080_0_1': \"systolic_blood_pressure_1\",\n",
    "    'weight_f21002_0_0': \"weight\",\n",
    "    \n",
    "        # comorbidities\n",
    "    'phecode_057-1_prev': 'aids',\n",
    "  'phecode_121_prev': 'leukemia',\n",
    "  'phecode_122_prev': 'lymphoma',\n",
    "  'phecode_130_prev': 'solid_tumor',\n",
    "  'phecode_202_prev': 'diabetes',\n",
    "  'phecode_328_prev': 'dementia',\n",
    "    \"phecode_436_prev\": \"atherosclerosis\",\n",
    "  'phecode_341-2_prev': 'hemiplegia',\n",
    "    \"phecode_401_prev\": \"hypertension\",\n",
    "  'phecode_404-1_prev': 'myocardial_infarction',\n",
    "  'phecode_424_prev': 'heart_failure',\n",
    "  'phecode_431_prev': 'stroke_tia',\n",
    "  'phecode_448_prev': 'pad',\n",
    "  'phecode_474_prev': 'copd',\n",
    "  'phecode_513_prev': 'peptic_ulcer',\n",
    "  'phecode_542_prev': 'chronic_liver_disease',\n",
    "  'phecode_583_prev': 'chronic_kidney_disease',\n",
    "    \"phecode_557_prev\": \"gi_hemorrhage\",\n",
    "  'phecode_700_prev': 'connective_tissue_disorder',\n",
    "}"
   ]
  },
  {
   "cell_type": "code",
   "execution_count": null,
   "metadata": {
    "execution": {
     "iopub.execute_input": "2023-04-26T09:35:07.293843Z",
     "iopub.status.busy": "2023-04-26T09:35:07.293714Z",
     "iopub.status.idle": "2023-04-26T09:35:07.325107Z",
     "shell.execute_reply": "2023-04-26T09:35:07.324444Z",
     "shell.execute_reply.started": "2023-04-26T09:35:07.293831Z"
    },
    "tags": []
   },
   "outputs": [],
   "source": [
    "data_covariates_pre = data_baseline[covariate_map]\n",
    "data_covariates_pre.columns = [covariate_map[c] for c in data_covariates_pre.columns]"
   ]
  },
  {
   "cell_type": "code",
   "execution_count": null,
   "metadata": {
    "execution": {
     "iopub.execute_input": "2023-04-26T09:35:07.326039Z",
     "iopub.status.busy": "2023-04-26T09:35:07.325888Z",
     "iopub.status.idle": "2023-04-26T09:35:07.388942Z",
     "shell.execute_reply": "2023-04-26T09:35:07.388326Z",
     "shell.execute_reply.started": "2023-04-26T09:35:07.326024Z"
    },
    "tags": []
   },
   "outputs": [],
   "source": [
    "# prepare new variables\n",
    "data_covariates = data_covariates_pre.copy()\n",
    "data_covariates[\"age\"] = data_covariates[\"age\"].astype(np.int32)\n",
    "data_covariates[\"bmi\"] = data_covariates[\"weight\"] / (data_covariates[\"height\"]/100)**2\n",
    "data_covariates[\"systolic_blood_pressure\"] = pd.concat([data_covariates[\"systolic_blood_pressure_0\"], data_covariates[\"systolic_blood_pressure_1\"]], axis=1).agg(np.mean, 1)\n",
    "\n",
    "ethn_bg_def = {\"White\": [\"White\", \"British\", \"Irish\", \"Any other white background\"],\n",
    "                \"Mixed\": [\"Mixed\", \"White and Black Caribbean\", \"White and Black African\", \"White and Asian\", \"Any other mixed background\"],  \n",
    "                \"Asian\": [\"Asian or Asian British\", \"Indian\", \"Pakistani\", \"Bangladeshi\", \"Any other Asian background\"], \n",
    "                \"Black\": [\"Black or Black British\", \"Caribbean\", \"African\", \"Any other Black background\"],\n",
    "                \"Chinese\": [\"Chinese\"],  \n",
    "                np.nan: [\"Other ethnic group\", \"Do not know\", \"Prefer not to answer\"]}\n",
    "\n",
    "ethn_bg_dict = {}\n",
    "for key, values in ethn_bg_def.items(): \n",
    "    for value in values:\n",
    "        ethn_bg_dict[value]=key \n",
    "        \n",
    "data_covariates[\"ethnic_background\"].replace(ethn_bg_dict, inplace=True)\n",
    "data_covariates[\"ethnic_background\"] = data_covariates[\"ethnic_background\"].astype(\"category\")"
   ]
  },
  {
   "cell_type": "code",
   "execution_count": null,
   "metadata": {
    "execution": {
     "iopub.execute_input": "2023-04-26T09:35:07.390034Z",
     "iopub.status.busy": "2023-04-26T09:35:07.389727Z",
     "iopub.status.idle": "2023-04-26T09:35:07.417202Z",
     "shell.execute_reply": "2023-04-26T09:35:07.416553Z",
     "shell.execute_reply.started": "2023-04-26T09:35:07.390017Z"
    },
    "tags": []
   },
   "outputs": [],
   "source": [
    "AgeSex = [\"age\", \"sex\"]\n",
    "\n",
    "SCORE2 = [\n",
    "    \"age\", \n",
    "    \"sex\",\n",
    "    \"smoking_status\", # current smoker\n",
    "    \"systolic_blood_pressure\",\n",
    "    \"cholesterol\",\n",
    "    \"hdl_cholesterol\",\n",
    "\n",
    "] \n",
    "\n",
    "ASCVD = [\n",
    "    \"age\", \n",
    "    \"sex\",\n",
    "    \"ethnic_background\",\n",
    "    \"smoking_status\", # current smoker\n",
    "    \"diabetes\", # diabetes\n",
    "    \"antihypertensives\", \n",
    "    \"systolic_blood_pressure\",\n",
    "    \"cholesterol\",\n",
    "    \"hdl_cholesterol\",\n",
    "] \n",
    "\n",
    "QRISK3 = [\n",
    "    \"age\", \n",
    "    \"sex\",\n",
    "    \"ethnic_background\",\n",
    "    \"smoking_status\", # current smoker\n",
    "    \"bmi\",\n",
    "    \"diabetes1\", # type 1 diabetes\n",
    "    \"diabetes2\", # type 1 diabetes\n",
    "    \"fh_heart_disease\",\n",
    "    \"renal_failure\", # renal failure\n",
    "    \"atrial_fibrillation\", # Atrial Fibrillation\n",
    "    \"migraine\", # Migraine\n",
    "    \"rheumatoid_arthritis\", # Rheumatoid Arthritis\n",
    "    \"systemic_lupus_erythematosus\", # SLE\n",
    "    \"schizophrenia\", # Schizophrenia\n",
    "    \"bipolar_disorder\", # Bipolar disorder\n",
    "    \"major_depressive_disorder\", # Major depressive disorder\n",
    "    \"male_erectile_dysfunction\", # Male Erectile dysfunction\n",
    "    \"antihypertensives\", \n",
    "    \"corticosteroids\",\n",
    "    \"psycholeptics\",\n",
    "    \"systolic_blood_pressure\",\n",
    "    \"cholesterol\",\n",
    "    \"hdl_cholesterol\",\n",
    "]\n",
    "\n",
    "Comorbidities = [\n",
    "    'aids',\n",
    "    'leukemia',\n",
    "    'lymphoma',\n",
    "    'solid_tumor',\n",
    "    'diabetes',\n",
    "    'dementia',\n",
    "    'hemiplegia',\n",
    "    'myocardial_infarction',\n",
    "    'heart_failure',\n",
    "    'stroke_tia',\n",
    "    'pad',\n",
    "    'copd',\n",
    "    'peptic_ulcer',\n",
    "    'chronic_liver_disease',\n",
    "    'chronic_kidney_disease', \n",
    "    'connective_tissue_disorder'\n",
    "]\n",
    "\n",
    "# assert, that all variables are available\n",
    "covariates_scores = sorted(list(set(AgeSex + SCORE2 + ASCVD + QRISK3 + Comorbidities)))\n",
    "if not set(covariates_scores).issubset(data_covariates.columns.to_list()):\n",
    "    print(\"Not all required covariates are prepared!\", list(set(covariates_scores).difference(data_covariates.columns.to_list())))\n",
    "else:\n",
    "    print(\"Success, all required covariates are prepared!\")\n",
    "    data_covariates = data_covariates[covariates_scores]"
   ]
  },
  {
   "cell_type": "code",
   "execution_count": null,
   "metadata": {
    "execution": {
     "iopub.execute_input": "2023-04-26T09:35:07.418091Z",
     "iopub.status.busy": "2023-04-26T09:35:07.417944Z",
     "iopub.status.idle": "2023-04-26T09:35:07.429196Z",
     "shell.execute_reply": "2023-04-26T09:35:07.428543Z",
     "shell.execute_reply.started": "2023-04-26T09:35:07.418076Z"
    },
    "tags": []
   },
   "outputs": [],
   "source": [
    "# prepare as float32\n",
    "data_covariates[data_covariates.select_dtypes(np.float64).columns] = data_covariates.select_dtypes(np.float64).astype(np.float32)"
   ]
  },
  {
   "cell_type": "code",
   "execution_count": null,
   "metadata": {
    "execution": {
     "iopub.execute_input": "2023-04-26T09:35:07.430072Z",
     "iopub.status.busy": "2023-04-26T09:35:07.429926Z",
     "iopub.status.idle": "2023-04-26T09:35:07.476020Z",
     "shell.execute_reply": "2023-04-26T09:35:07.475433Z",
     "shell.execute_reply.started": "2023-04-26T09:35:07.430058Z"
    },
    "tags": []
   },
   "outputs": [],
   "source": [
    "data_covariates"
   ]
  },
  {
   "cell_type": "code",
   "execution_count": null,
   "metadata": {
    "execution": {
     "iopub.execute_input": "2023-04-26T09:35:07.476922Z",
     "iopub.status.busy": "2023-04-26T09:35:07.476776Z",
     "iopub.status.idle": "2023-04-26T09:35:07.592910Z",
     "shell.execute_reply": "2023-04-26T09:35:07.592248Z",
     "shell.execute_reply.started": "2023-04-26T09:35:07.476908Z"
    },
    "tags": []
   },
   "outputs": [],
   "source": [
    "data_covariates.reset_index().to_feather(f\"{experiment_path}/data_covariates_full.feather\")"
   ]
  },
  {
   "cell_type": "code",
   "execution_count": null,
   "metadata": {
    "execution": {
     "iopub.execute_input": "2023-04-26T09:35:36.653175Z",
     "iopub.status.busy": "2023-04-26T09:35:36.652831Z",
     "iopub.status.idle": "2023-04-26T09:35:36.658155Z",
     "shell.execute_reply": "2023-04-26T09:35:36.657635Z",
     "shell.execute_reply.started": "2023-04-26T09:35:36.653158Z"
    },
    "tags": []
   },
   "outputs": [],
   "source": [
    "data_covariates.dtypes"
   ]
  },
  {
   "cell_type": "code",
   "execution_count": null,
   "metadata": {
    "execution": {
     "iopub.execute_input": "2023-04-26T09:35:39.061725Z",
     "iopub.status.busy": "2023-04-26T09:35:39.061011Z",
     "iopub.status.idle": "2023-04-26T09:35:39.075357Z",
     "shell.execute_reply": "2023-04-26T09:35:39.074799Z",
     "shell.execute_reply.started": "2023-04-26T09:35:39.061704Z"
    },
    "tags": []
   },
   "outputs": [],
   "source": [
    "data_covariates.isna().sum(axis=0)"
   ]
  },
  {
   "cell_type": "code",
   "execution_count": null,
   "metadata": {
    "execution": {
     "iopub.execute_input": "2023-04-26T09:35:46.152220Z",
     "iopub.status.busy": "2023-04-26T09:35:46.151447Z",
     "iopub.status.idle": "2023-04-26T09:35:46.343392Z",
     "shell.execute_reply": "2023-04-26T09:35:46.342839Z",
     "shell.execute_reply.started": "2023-04-26T09:35:46.152201Z"
    },
    "tags": []
   },
   "outputs": [],
   "source": [
    "data_covariates.describe(include=\"all\")"
   ]
  },
  {
   "cell_type": "code",
   "execution_count": null,
   "metadata": {},
   "outputs": [],
   "source": []
  }
 ],
 "metadata": {
  "kernelspec": {
   "display_name": "Python [conda env:udm]",
   "language": "python",
   "name": "conda-env-udm-py"
  },
  "language_info": {
   "codemirror_mode": {
    "name": "ipython",
    "version": 3
   },
   "file_extension": ".py",
   "mimetype": "text/x-python",
   "name": "python",
   "nbconvert_exporter": "python",
   "pygments_lexer": "ipython3",
   "version": "3.10.9"
  },
  "toc-autonumbering": false
 },
 "nbformat": 4,
 "nbformat_minor": 4
}
