{
 "cells": [
  {
   "cell_type": "markdown",
   "metadata": {},
   "source": [
    "## Initialize"
   ]
  },
  {
   "cell_type": "code",
   "execution_count": null,
   "metadata": {
    "ExecuteTime": {
     "end_time": "2021-01-05T11:03:09.852316Z",
     "start_time": "2021-01-05T11:03:07.701Z"
    },
    "execution": {
     "iopub.execute_input": "2022-07-06T11:58:01.420290Z",
     "iopub.status.busy": "2022-07-06T11:58:01.418093Z",
     "iopub.status.idle": "2022-07-06T11:58:05.181037Z",
     "shell.execute_reply": "2022-07-06T11:58:05.179574Z"
    },
    "tags": []
   },
   "outputs": [],
   "source": [
    "#library(Rmisc)\n",
    "library(dtplyr)\n",
    "library(tidyverse)\n",
    "library(glue)\n",
    "library(arrow)\n",
    "library(patchwork)\n",
    "library(data.table)\n",
    "library(\"jsonlite\")\n",
    "library(ggthemes)"
   ]
  },
  {
   "cell_type": "code",
   "execution_count": null,
   "metadata": {
    "ExecuteTime": {
     "end_time": "2021-01-05T11:03:10.491477Z",
     "start_time": "2021-01-05T11:03:10.445Z"
    },
    "execution": {
     "iopub.execute_input": "2022-07-06T11:58:05.206666Z",
     "iopub.status.busy": "2022-07-06T11:58:05.182922Z",
     "iopub.status.idle": "2022-07-06T11:58:05.226394Z",
     "shell.execute_reply": "2022-07-06T11:58:05.225289Z"
    },
    "tags": []
   },
   "outputs": [],
   "source": [
    "if (grepl(\"sc\", Sys.info()[[\"nodename\"]], fixed=TRUE)) {\n",
    "    base_path = \"/sc-projects/sc-proj-ukb-cvd\"\n",
    "} else {\n",
    "    base_path = \"/data/analysis/ag-reils/ag-reils-shared/cardioRS\"}\n",
    "print(base_path)\n",
    "\n",
    "project_label=\"22_medical_records\"\n",
    "project_path = glue(\"{base_path}/results/projects/{project_label}\")\n",
    "figure_path = glue(\"{project_path}/figures\")\n",
    "output_path = glue(\"{project_path}/data\")\n",
    "\n",
    "experiment = 220627\n",
    "experiment_path = glue(\"{output_path}/{experiment}\")"
   ]
  },
  {
   "cell_type": "code",
   "execution_count": null,
   "metadata": {
    "execution": {
     "iopub.execute_input": "2022-07-06T11:58:05.228951Z",
     "iopub.status.busy": "2022-07-06T11:58:05.227985Z",
     "iopub.status.idle": "2022-07-06T11:58:05.236782Z",
     "shell.execute_reply": "2022-07-06T11:58:05.235774Z"
    },
    "tags": []
   },
   "outputs": [],
   "source": [
    "library(data.table)\n",
    "library(arrow)"
   ]
  },
  {
   "cell_type": "code",
   "execution_count": null,
   "metadata": {
    "execution": {
     "iopub.execute_input": "2022-07-06T12:05:13.828702Z",
     "iopub.status.busy": "2022-07-06T12:05:13.827600Z",
     "iopub.status.idle": "2022-07-06T12:06:25.532766Z",
     "shell.execute_reply": "2022-07-06T12:06:25.531370Z"
    }
   },
   "outputs": [],
   "source": [
    "data_covariates = arrow::read_feather(glue(\"{experiment_path}/data_covariates_full.feather\"))\n",
    "data_records = arrow::read_feather(glue(\"{output_path}/baseline_records_220627.feather\", as_data_frame=FALSE)) \n",
    "concepts= fread(\"/sc-projects/sc-proj-ukb-cvd/data/mapping/athena/CONCEPT.csv\")"
   ]
  },
  {
   "cell_type": "code",
   "execution_count": null,
   "metadata": {
    "execution": {
     "iopub.execute_input": "2022-07-06T12:25:10.481017Z",
     "iopub.status.busy": "2022-07-06T12:25:10.479897Z",
     "iopub.status.idle": "2022-07-06T12:25:10.504340Z",
     "shell.execute_reply": "2022-07-06T12:25:10.503018Z"
    },
    "tags": []
   },
   "outputs": [],
   "source": [
    "endpoints_md = fread(glue(\"{experiment_path}/endpoints.csv\"), colClasses=c(\"phecode\"=\"character\")) %>% as_tibble()\n",
    "endpoints = sort(endpoints_md$endpoint)"
   ]
  },
  {
   "cell_type": "code",
   "execution_count": null,
   "metadata": {
    "execution": {
     "iopub.execute_input": "2022-07-06T11:58:05.279978Z",
     "iopub.status.busy": "2022-07-06T11:58:05.279066Z",
     "iopub.status.idle": "2022-07-06T11:58:06.439334Z",
     "shell.execute_reply": "2022-07-06T11:58:06.437977Z"
    },
    "tags": []
   },
   "outputs": [],
   "source": [
    "endpoint_defs = arrow::read_feather(glue(\"{output_path}/phecode_defs_220306.feather\")) %>% arrange(endpoint)"
   ]
  },
  {
   "cell_type": "code",
   "execution_count": null,
   "metadata": {
    "execution": {
     "iopub.execute_input": "2022-07-06T11:58:06.441816Z",
     "iopub.status.busy": "2022-07-06T11:58:06.440946Z",
     "iopub.status.idle": "2022-07-06T11:58:06.469750Z",
     "shell.execute_reply": "2022-07-06T11:58:06.468511Z"
    },
    "tags": []
   },
   "outputs": [],
   "source": [
    "endpoint_selection = c(\n",
    "    \n",
    "   'phecode_401', #  \"Hypertension\", # intervention\n",
    "    'phecode_202', #  \"Diabetes mellitus\", # intervention\n",
    "    'phecode_416-21', #  \"Atrial fibrillation\", # intervention\n",
    "    'phecode_468', #  \"Pneumonia\", # intervention\n",
    "    'phecode_474', #  \"Chronic obstructive pulmonary disease [COPD]\", # interventio\n",
    "    'phecode_583', #  \"Chronic kidney disease\", # intervention\n",
    "    \n",
    "    'phecode_404', #  \"Ischemic heart disease\",\n",
    "    'phecode_404-1', #  \"Myocardial infarction [Heart attack]\", # intervention\n",
    "    'phecode_431-11', #  \"Cerebral infarction [Ischemic stroke]\",\n",
    "    'phecode_424', #  \"Heart failure\", # intervention\n",
    "    'phecode_420', #  \"Cardiac arrest\", # intervention\n",
    "    'OMOP_4306655', #  \"All-Cause Death\", # intervention\n",
    "    \n",
    "    'phecode_438-11',   #  \"Abdominal aortic aneurysm\",\n",
    "    'phecode_440-3',#  \"Pulmonary embolism\", # intervention\n",
    "    'phecode_413-21',#  \"Aortic stenosis\", # intervention\n",
    "    'phecode_413-11', #  \"Mitral valve insufficiency\",\n",
    "    'phecode_410-2',#  \"Endocarditis\",\n",
    "    'phecode_400',#  \"Rheumatic fever and chronic rheumatic heart diseases\",\t\n",
    "    \n",
    "    'phecode_164', #  \"Anemia\", # intervention\n",
    "    'phecode_718',  #  \"Back pain\", # intervention\n",
    "    'phecode_324-11', #  \"Parkinson's disease (Primary)\",\n",
    "    'phecode_705-1', #  \"Rheumatoid arthritis\", # NEW + interventio\n",
    "    'phecode_665', #  \"Psoriasis\", # interesting\n",
    "    'phecode_284'#  \"Suicide ideation and attempt or self harm\" # intervention\n",
    ")\n",
    "\n",
    "endpoints_common = c(\n",
    "    'phecode_401', #  \"Hypertension\", # intervention\n",
    "    'phecode_202', #  \"Diabetes mellitus\", # intervention\n",
    "    'phecode_416-21', #  \"Atrial fibrillation\", # intervention\n",
    "    'phecode_468', #  \"Pneumonia\", # intervention\n",
    "    'phecode_474', #  \"Chronic obstructive pulmonary disease [COPD]\", # interventio\n",
    "    'phecode_583', #  \"Chronic kidney disease\", # intervention\n",
    "    \n",
    "    'phecode_404', #  \"Ischemic heart disease\",\n",
    "    'phecode_404-1', #  \"Myocardial infarction [Heart attack]\", # intervention\n",
    "    'phecode_431-11', #  \"Cerebral infarction [Ischemic stroke]\",\n",
    "    'phecode_424', #  \"Heart failure\", # intervention\n",
    "    'phecode_420', #  \"Cardiac arrest\", # intervention\n",
    "    'OMOP_4306655' #  \"All-Cause Death\", # intervention)\n",
    "    )\n",
    "    \n",
    "endpoints_cardio = c(\n",
    "    'phecode_438-11',   #  \"Abdominal aortic aneurysm\",\n",
    "    'phecode_440-3',#  \"Pulmonary embolism\", # intervention\n",
    "    'phecode_413-21',#  \"Aortic stenosis\", # intervention\n",
    "    'phecode_413-11', #  \"Mitral valve insufficiency\",\n",
    "    'phecode_410-2',#  \"Endocarditis\",\n",
    "    'phecode_400'#  \"Rheumatic fever and chronic rheumatic heart diseases\",\t\n",
    ")\n",
    "\n",
    "endpoints_interesting = c(\n",
    "    'phecode_164', #  \"Anemia\", # intervention\n",
    "    'phecode_718',  #  \"Back pain\", # intervention\n",
    "    'phecode_324-11', #  \"Parkinson's disease (Primary)\",\n",
    "    'phecode_705-1', #  \"Rheumatoid arthritis\", # NEW + interventio\n",
    "    'phecode_665', #  \"Psoriasis\", # interesting\n",
    "    'phecode_284'#  \"Suicide ideation and attempt or self harm\" # intervention\n",
    ")\n",
    "\n",
    "endpoint_defs = endpoint_defs %>% \n",
    "    mutate(name = phecode_string) %>%\n",
    "    mutate(name = \n",
    "           case_when( \n",
    "               phecode_string == \"Myocardial infarction [Heart attack]\"~\"Myocardial infarction\",\n",
    "               phecode_string == \"Cerebral infarction [Ischemic stroke]\"~\"Ischemic stroke\",\n",
    "               phecode_string == \"Chronic obstructive pulmonary disease [COPD]\"~\"Chronic obstructive pulmonary disease\",\n",
    "               phecode_string == \"Mitral valve insufficiency\"~\"Mitral insufficiency\",\n",
    "               phecode_string == \"Parkinson's disease (Primary)\"~\"Parkinson's disease\",\n",
    "               phecode_string == \"Suicide ideation and attempt or self harm\"~\"Suicide attempt\",\n",
    "               phecode_string == \"Ischemic heart disease\"~\"Coronary heart disease\",\n",
    "               phecode_string == \"Chronic kidney disease\"~\"Chronic kidney disease\",\n",
    "               phecode_string == \"Rheumatic fever and chronic rheumatic heart diseases\"~\"Rheumatic heart disease\",\n",
    "               phecode_string == \"Abdominal aortic aneurysm\"~\"Abdominal aortic aneurysm\",\n",
    "                  TRUE ~ name)\n",
    "           )\n",
    "            \n",
    "endpoint_map = endpoint_defs$name\n",
    "names(endpoint_map) =  endpoint_defs$endpoint\n",
    "#endpoint_order = (endpoint_defs %>% arrange(as.numeric(phecode)))$endpoint\n",
    "endpoint_order = endpoint_selection"
   ]
  },
  {
   "cell_type": "code",
   "execution_count": null,
   "metadata": {
    "execution": {
     "iopub.execute_input": "2022-07-06T11:58:55.440518Z",
     "iopub.status.busy": "2022-07-06T11:58:55.439507Z",
     "iopub.status.idle": "2022-07-06T11:59:17.608255Z",
     "shell.execute_reply": "2022-07-06T11:59:17.606990Z"
    },
    "tags": []
   },
   "outputs": [],
   "source": [
    "prediction_delta = arrow::read_feather(glue(\"{experiment_path}/coxph/prediction_deltas_individualchange.feather\"))"
   ]
  }
 ],
 "metadata": {
  "hide_input": false,
  "kernelspec": {
   "display_name": "R [conda env:r_env]",
   "language": "R",
   "name": "conda-env-r_env-r"
  },
  "language_info": {
   "codemirror_mode": "r",
   "file_extension": ".r",
   "mimetype": "text/x-r-source",
   "name": "R",
   "pygments_lexer": "r",
   "version": "4.0.2"
  },
  "toc-autonumbering": false
 },
 "nbformat": 4,
 "nbformat_minor": 4
}
