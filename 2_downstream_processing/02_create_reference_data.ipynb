{
 "cells": [
  {
   "cell_type": "code",
   "execution_count": null,
   "metadata": {
    "tags": []
   },
   "outputs": [],
   "source": [
    "import pandas as pd\n",
    "import numpy as np\n",
    "import pathlib\n",
    "from tqdm.auto import tqdm\n",
    "\n",
    "import hydra\n",
    "from omegaconf import DictConfig, OmegaConf\n",
    "\n",
    "import torch\n",
    "from torch_geometric import seed_everything\n",
    "\n",
    "import ray"
   ]
  },
  {
   "cell_type": "code",
   "execution_count": null,
   "metadata": {
    "tags": []
   },
   "outputs": [],
   "source": [
    "node = !hostname\n",
    "if \"sc\" in node[0]:\n",
    "    base_path = \"/sc-projects/sc-proj-ukb-cvd\"\n",
    "else: \n",
    "    base_path = \"/data/analysis/ag-reils/ag-reils-shared/cardioRS\"\n",
    "print(base_path)\n",
    "\n",
    "project_label = \"22_medical_records\"\n",
    "project_path = f\"{base_path}/results/projects/{project_label}\"\n",
    "figure_path = f\"{project_path}/figures\"\n",
    "output_path = f\"{project_path}/data\"\n",
    "\n",
    "pathlib.Path(figure_path).mkdir(parents=True, exist_ok=True)\n",
    "pathlib.Path(output_path).mkdir(parents=True, exist_ok=True)"
   ]
  },
  {
   "cell_type": "markdown",
   "metadata": {},
   "source": [
    "## Get Data"
   ]
  },
  {
   "cell_type": "code",
   "execution_count": null,
   "metadata": {
    "tags": []
   },
   "outputs": [],
   "source": [
    "from hydra import compose, initialize\n",
    "from omegaconf import OmegaConf\n",
    "hydra.core.global_hydra.GlobalHydra().clear()\n",
    "\n",
    "initialize(config_path=\"../../ehrgraphs/config\")\n",
    "args = compose(config_name=\"config\", overrides=[\"datamodule.partition=0\", \n",
    "                                                \"datamodule.use_top_n_phecodes=10000\",\n",
    "                                                \"setup.use_data_artifact_if_available=False\",\n",
    "                                                \"datamodule/covariates='no_covariates'\",\n",
    "                                                \"datamodule.t0_mode=recruitment\",\n",
    "                                                \"+use_phecode_inputs=False\",\n",
    "                                                \n",
    "                                               ])\n",
    "print(OmegaConf.to_yaml(args))"
   ]
  },
  {
   "cell_type": "raw",
   "metadata": {
    "execution": {
     "iopub.execute_input": "2022-06-27T07:07:11.481875Z",
     "iopub.status.busy": "2022-06-27T07:07:11.481413Z",
     "iopub.status.idle": "2022-06-27T07:07:11.674864Z",
     "shell.execute_reply": "2022-06-27T07:07:11.674248Z",
     "shell.execute_reply.started": "2022-06-27T07:07:11.481852Z"
    },
    "tags": []
   },
   "source": [
    "from hydra import compose, initialize\n",
    "from omegaconf import OmegaConf\n",
    "hydra.core.global_hydra.GlobalHydra().clear()\n",
    "\n",
    "initialize(config_path=\"../../ehrgraphs/config\")\n",
    "args = compose(config_name=\"config\", overrides=[\"datamodule.partition=0\", \n",
    "                                                \"setup.use_data_artifact_if_available=True\",\n",
    "                                                \"experiment=best_identity_220428_datafix_220624\",\n",
    "                                                \"use_phecode_inputs=False\",\n",
    "                                                \"datamodule/covariates='no_covariates'\",\n",
    "                                                \"datamodule.t0_mode=recruitment\",\n",
    "                                               ])\n",
    "print(OmegaConf.to_yaml(args))"
   ]
  },
  {
   "cell_type": "code",
   "execution_count": null,
   "metadata": {
    "tags": []
   },
   "outputs": [],
   "source": [
    "from ehrgraphs.training import setup_training\n",
    "\n",
    "seed_everything(0)\n",
    "\n",
    "datamodule, _, _ = setup_training(args)"
   ]
  },
  {
   "cell_type": "code",
   "execution_count": null,
   "metadata": {
    "tags": []
   },
   "outputs": [],
   "source": [
    "def extract_records_events_times(datamodule):\n",
    "    \n",
    "    records_list = []\n",
    "    outcomes_list = []\n",
    "    \n",
    "    # prepare extraction\n",
    "    record_cols = datamodule.record_cols_input\n",
    "    label_cols = list(datamodule.label_mapping.keys())\n",
    "    \n",
    "    for s in tqdm([\"train\", \"valid\", \"test\"]):\n",
    "        eids = datamodule.eids[s]\n",
    "        \n",
    "        if s==\"train\":  dataset = datamodule.train_dataloader(shuffle=False, drop_last=False).dataset\n",
    "        if s==\"valid\":  dataset = datamodule.val_dataloader().dataset\n",
    "        if s==\"test\":  dataset = datamodule.test_dataloader().dataset\n",
    "\n",
    "        # extract records\n",
    "        records_temp = pd.DataFrame.sparse.from_spmatrix(dataset.records, index=eids, columns=[f\"{c}\" for c in record_cols]).rename_axis(\"eid\")\n",
    "        records_list.append(records_temp)\n",
    "\n",
    "        # extract exclusion & events\n",
    "        exclusions_df = pd.DataFrame.sparse.from_spmatrix(dataset.exclusions, index=eids, columns=[f\"{c}_prev\" for c in label_cols]).rename_axis(\"eid\")\n",
    "        events_df = pd.DataFrame.sparse.from_spmatrix(dataset.labels_events, index=eids, columns=[f\"{c}_event\" for c in label_cols]).rename_axis(\"eid\")\n",
    "\n",
    "        times = dataset.labels_times.todense()\n",
    "        censorings = dataset.censorings\n",
    "\n",
    "        no_event_idxs = times == 0\n",
    "        times[no_event_idxs] = censorings[:, None].repeat(repeats=times.shape[1], axis=1)[no_event_idxs]\n",
    "\n",
    "        times_df = pd.DataFrame(data=times, index=eids, columns=[f\"{c}_time\" for c in label_cols]).rename_axis(\"eid\")\n",
    "\n",
    "        outcomes_temp = pd.concat([exclusions_df, events_df, times_df], axis=1)\n",
    "        outcomes_list.append(outcomes_temp)\n",
    "        \n",
    "    records_df = pd.concat(records_list, axis=0)\n",
    "    outcomes_df = pd.concat(outcomes_list, axis=0)\n",
    "        \n",
    "    return records_df, outcomes_df"
   ]
  },
  {
   "cell_type": "code",
   "execution_count": null,
   "metadata": {
    "tags": []
   },
   "outputs": [],
   "source": [
    "records_df, outcomes_df = extract_records_events_times(datamodule)"
   ]
  },
  {
   "cell_type": "markdown",
   "metadata": {},
   "source": [
    "## Write Records"
   ]
  },
  {
   "cell_type": "code",
   "execution_count": null,
   "metadata": {
    "tags": []
   },
   "outputs": [],
   "source": [
    "records_df.info()"
   ]
  },
  {
   "cell_type": "code",
   "execution_count": null,
   "metadata": {
    "tags": []
   },
   "outputs": [],
   "source": [
    "for c in tqdm(records_df.columns):\n",
    "    records_df[c] = records_df[c].astype(bool).sparse.to_dense()"
   ]
  },
  {
   "cell_type": "code",
   "execution_count": null,
   "metadata": {
    "tags": []
   },
   "outputs": [],
   "source": [
    "records_df = records_df.sort_index()"
   ]
  },
  {
   "cell_type": "code",
   "execution_count": null,
   "metadata": {
    "tags": []
   },
   "outputs": [],
   "source": [
    "records_df.info()"
   ]
  },
  {
   "cell_type": "code",
   "execution_count": null,
   "metadata": {
    "tags": []
   },
   "outputs": [],
   "source": [
    "records_df.reset_index().to_feather(f\"{output_path}/baseline_records_220627.feather\")"
   ]
  },
  {
   "cell_type": "markdown",
   "metadata": {},
   "source": [
    "## Records long"
   ]
  },
  {
   "cell_type": "code",
   "execution_count": null,
   "metadata": {
    "tags": []
   },
   "outputs": [],
   "source": [
    "record_ids = sorted([r for r in records_df.columns.unique().tolist() if not \"phecode\" in r])\n",
    "records_long = pd.DataFrame()\n",
    "\n",
    "records_df_list = []\n",
    "for r in tqdm(record_ids):\n",
    "    temp = records_df[[r]].assign(record = r).query(r)\n",
    "    temp.columns = [\"record\", \"concept\"]\n",
    "    records_df_list.append(temp)\n",
    "    \n",
    "records_long = pd.concat(records_df_list, axis=0)[[\"concept\", \"record\"]].assign(concept = lambda x: x.concept.astype(\"category\")).reset_index()"
   ]
  },
  {
   "cell_type": "code",
   "execution_count": null,
   "metadata": {
    "tags": []
   },
   "outputs": [],
   "source": [
    "records_long.info()"
   ]
  },
  {
   "cell_type": "code",
   "execution_count": null,
   "metadata": {
    "tags": []
   },
   "outputs": [],
   "source": [
    "records_long.to_feather(f\"{output_path}/baseline_records_long_220627.feather\")"
   ]
  },
  {
   "cell_type": "markdown",
   "metadata": {},
   "source": [
    "## Write Outcomes"
   ]
  },
  {
   "cell_type": "code",
   "execution_count": null,
   "metadata": {
    "tags": []
   },
   "outputs": [],
   "source": [
    "for c in tqdm(outcomes_df.columns):\n",
    "    if c.endswith(\"_prev\") or c.endswith(\"_event\"):\n",
    "        outcomes_df[c] = outcomes_df[c].astype(bool).sparse.to_dense()\n",
    "    if c.endswith(\"_time\"):\n",
    "        outcomes_df[c] = outcomes_df[c].astype(np.float32)"
   ]
  },
  {
   "cell_type": "code",
   "execution_count": null,
   "metadata": {
    "tags": []
   },
   "outputs": [],
   "source": [
    "outcomes_df = outcomes_df.sort_index()"
   ]
  },
  {
   "cell_type": "code",
   "execution_count": null,
   "metadata": {
    "tags": []
   },
   "outputs": [],
   "source": [
    "outcomes_df.info()"
   ]
  },
  {
   "cell_type": "code",
   "execution_count": null,
   "metadata": {
    "tags": []
   },
   "outputs": [],
   "source": [
    "outcomes_df.reset_index().to_feather(f\"{output_path}/baseline_outcomes_220627.feather\")"
   ]
  },
  {
   "cell_type": "markdown",
   "metadata": {},
   "source": [
    "### Outcomes long"
   ]
  },
  {
   "cell_type": "code",
   "execution_count": null,
   "metadata": {
    "tags": []
   },
   "outputs": [],
   "source": [
    "endpoints = sorted(outcomes_df.columns.str.replace(\"_prev|_event|_time\", \"\", regex=True).unique().tolist())"
   ]
  },
  {
   "cell_type": "code",
   "execution_count": null,
   "metadata": {
    "tags": []
   },
   "outputs": [],
   "source": [
    "outcomes_long = pd.DataFrame()"
   ]
  },
  {
   "cell_type": "code",
   "execution_count": null,
   "metadata": {
    "tags": []
   },
   "outputs": [],
   "source": [
    "outcomes_df_list = []\n",
    "cols = [\"prev\", \"event\", \"time\"]\n",
    "for e in tqdm(endpoints):\n",
    "    temp = outcomes_df[[f\"{e}_{c}\" for c in cols]].assign(endpoint = e)\n",
    "    temp.columns = cols + [\"endpoint\"]\n",
    "    outcomes_df_list.append(temp)"
   ]
  },
  {
   "cell_type": "code",
   "execution_count": null,
   "metadata": {
    "tags": []
   },
   "outputs": [],
   "source": [
    "outcomes_long = pd.concat(outcomes_df_list, axis=0)[[\"endpoint\"] + cols].assign(endpoint = lambda x: x.endpoint.astype(\"category\")).reset_index()"
   ]
  },
  {
   "cell_type": "code",
   "execution_count": null,
   "metadata": {
    "tags": []
   },
   "outputs": [],
   "source": [
    "outcomes_long.info()"
   ]
  },
  {
   "cell_type": "code",
   "execution_count": null,
   "metadata": {
    "tags": []
   },
   "outputs": [],
   "source": [
    "outcomes_long.to_feather(f\"{output_path}/baseline_outcomes_long_220627.feather\")"
   ]
  },
  {
   "cell_type": "code",
   "execution_count": null,
   "metadata": {},
   "outputs": [],
   "source": []
  }
 ],
 "metadata": {
  "interpreter": {
   "hash": "7fb005937abf8310e947cacdef9aa24b4c9570846765db425bfb20f46bc066c7"
  },
  "kernelspec": {
   "display_name": "Python [conda env:udm]",
   "language": "python",
   "name": "conda-env-udm-py"
  },
  "language_info": {
   "codemirror_mode": {
    "name": "ipython",
    "version": 3
   },
   "file_extension": ".py",
   "mimetype": "text/x-python",
   "name": "python",
   "nbconvert_exporter": "python",
   "pygments_lexer": "ipython3",
   "version": "3.10.9"
  }
 },
 "nbformat": 4,
 "nbformat_minor": 4
}
