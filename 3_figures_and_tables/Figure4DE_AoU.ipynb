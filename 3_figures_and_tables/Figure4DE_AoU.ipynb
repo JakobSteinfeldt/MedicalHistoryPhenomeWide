{
 "cells": [
  {
   "cell_type": "code",
   "execution_count": null,
   "id": "90132b08",
   "metadata": {
    "execution": {
     "iopub.execute_input": "2023-05-12T09:59:05.771750Z",
     "iopub.status.busy": "2023-05-12T09:59:05.770082Z",
     "iopub.status.idle": "2023-05-12T09:59:09.988090Z",
     "shell.execute_reply": "2023-05-12T09:59:09.987258Z"
    },
    "tags": [],
    "vscode": {
     "languageId": "r"
    }
   },
   "outputs": [],
   "source": [
    "library(ggplot2)\n",
    "library(dtplyr)\n",
    "library(tidyverse)\n",
    "library(glue)\n",
    "library(arrow)\n",
    "library(patchwork)\n",
    "library(data.table)\n",
    "library(\"jsonlite\")\n",
    "library(ggthemes)\n",
    "library(stringr)\n",
    "library(ggtext)\n",
    "library(ggdist)\n",
    "library(boot)\n",
    "library(dplyr)\n",
    "library(Hmisc)"
   ]
  },
  {
   "cell_type": "code",
   "execution_count": null,
   "id": "a9a61a35",
   "metadata": {
    "execution": {
     "iopub.execute_input": "2023-05-12T09:59:10.004063Z",
     "iopub.status.busy": "2023-05-12T09:59:09.989363Z",
     "iopub.status.idle": "2023-05-12T09:59:10.012363Z",
     "shell.execute_reply": "2023-05-12T09:59:10.011593Z"
    },
    "tags": [],
    "title": "codecell",
    "vscode": {
     "languageId": "r"
    }
   },
   "outputs": [],
   "source": [
    "base_path = \"/sc-projects/sc-proj-ukb-cvd/results/projects/22_medical_records/data/220823_allofus/230502_revision\"\n",
    "base_path"
   ]
  },
  {
   "cell_type": "code",
   "execution_count": null,
   "id": "0296e483",
   "metadata": {
    "execution": {
     "iopub.execute_input": "2023-05-12T09:59:10.014235Z",
     "iopub.status.busy": "2023-05-12T09:59:10.013589Z",
     "iopub.status.idle": "2023-05-12T09:59:10.076474Z",
     "shell.execute_reply": "2023-05-12T09:59:10.075658Z"
    },
    "lines_to_next_cell": 2,
    "tags": [],
    "title": "codecell",
    "vscode": {
     "languageId": "r"
    }
   },
   "outputs": [],
   "source": [
    "base_size = 8\n",
    "title_size = 10\n",
    "facet_size = 9\n",
    "geom_text_size=3\n",
    "theme_set(theme_classic(base_size = base_size) +\n",
    "          theme(strip.background = element_blank(), plot.title=element_text(size=title_size, hjust=0),\n",
    "                strip.text.x = element_text(size = facet_size),axis.title=element_text(size=10), axis.text=element_text(size=8, color=\"black\"),\n",
    "                legend.position=\"bottom\", axis.line = element_line(size = 0.2), axis.ticks=element_line(size=0.2), panel.grid.major.y=element_line()))"
   ]
  },
  {
   "cell_type": "code",
   "execution_count": null,
   "id": "362df534-8296-48c1-b8d4-80c6d91af996",
   "metadata": {
    "execution": {
     "iopub.execute_input": "2023-05-12T09:59:10.078410Z",
     "iopub.status.busy": "2023-05-12T09:59:10.077731Z",
     "iopub.status.idle": "2023-05-12T09:59:10.129575Z",
     "shell.execute_reply": "2023-05-12T09:59:10.128739Z"
    },
    "tags": []
   },
   "outputs": [],
   "source": [
    "endpoint_defs = arrow::read_feather(glue(\"{base_path}/phecode_defs_220306.feather\")) %>% arrange(endpoint)\n",
    "endpoints_md = fread(glue(\"{base_path}/endpoints.csv\"), colClasses=c(\"phecode\"=\"character\"))\n",
    "endpoints = sort(endpoints_md$endpoint)\n",
    "\n",
    "glue(\"{base_path}/phecode_defs_220306.feather\")"
   ]
  },
  {
   "cell_type": "code",
   "execution_count": null,
   "id": "94e313f6",
   "metadata": {},
   "outputs": [],
   "source": []
  },
  {
   "cell_type": "code",
   "execution_count": null,
   "id": "30282616",
   "metadata": {},
   "outputs": [],
   "source": []
  },
  {
   "cell_type": "code",
   "execution_count": null,
   "id": "0e135a45",
   "metadata": {},
   "outputs": [],
   "source": []
  },
  {
   "cell_type": "code",
   "execution_count": null,
   "id": "52fb9a24",
   "metadata": {},
   "outputs": [],
   "source": []
  },
  {
   "cell_type": "code",
   "execution_count": null,
   "id": "826949d2",
   "metadata": {},
   "outputs": [],
   "source": []
  },
  {
   "cell_type": "code",
   "execution_count": null,
   "id": "8b477c5c",
   "metadata": {},
   "outputs": [],
   "source": []
  },
  {
   "cell_type": "code",
   "execution_count": null,
   "id": "de43756f",
   "metadata": {},
   "outputs": [],
   "source": []
  },
  {
   "cell_type": "code",
   "execution_count": null,
   "id": "5bcf3175",
   "metadata": {},
   "outputs": [],
   "source": []
  },
  {
   "cell_type": "code",
   "execution_count": null,
   "id": "98a734fe",
   "metadata": {},
   "outputs": [],
   "source": []
  },
  {
   "cell_type": "code",
   "execution_count": null,
   "id": "fe0f6725",
   "metadata": {
    "vscode": {
     "languageId": "r"
    }
   },
   "outputs": [],
   "source": [
    "c(c(\"No UBR categorization\", \"Age >= 65\"), c(\"No UBR categorization\", \"Annual income < $25k\"))\n"
   ]
  },
  {
   "cell_type": "code",
   "execution_count": null,
   "id": "c1543b2e",
   "metadata": {
    "vscode": {
     "languageId": "r"
    }
   },
   "outputs": [],
   "source": [
    "install.packages(\"PMCMRplus\")"
   ]
  },
  {
   "cell_type": "code",
   "execution_count": null,
   "id": "00746abd",
   "metadata": {
    "vscode": {
     "languageId": "r"
    }
   },
   "outputs": [],
   "source": [
    "install.packages(\"ggsignif\")"
   ]
  },
  {
   "cell_type": "code",
   "execution_count": null,
   "id": "8427ceda",
   "metadata": {
    "vscode": {
     "languageId": "r"
    }
   },
   "outputs": [],
   "source": [
    "library(ggstatsplot)\n",
    "library(ggsignif)"
   ]
  },
  {
   "cell_type": "code",
   "execution_count": null,
   "id": "ca0db4d4",
   "metadata": {
    "vscode": {
     "languageId": "r"
    }
   },
   "outputs": [],
   "source": [
    "\n",
    "\n",
    "  geom_boxplot() + \n",
    "  #stat_halfeye(side='left', scale=0.5) + \n",
    "  coord_cartesian(ylim=c(0.7, 0.95), clip = \"on\")+\n",
    "  #stat_dotsinterval(side = \"right\", scale = 0.5, slab_size = NA) +\n",
    "  scale_fill_brewer(palette=\"Set1\") + \n",
    "  labs(x=\"Group\", y=\"C-Index\") + \n",
    "    theme(axis.title.x=element_blank(),\n",
    "      panel.grid.major=element_blank(),\n",
    "      strip.text = element_text(angle=270, hjust=1)\n",
    "    ) +\n",
    "    theme(legend.position=\"none\") + \n",
    "  scale_x_discrete(labels = function(x) str_wrap(x, width = 10))"
   ]
  },
  {
   "cell_type": "code",
   "execution_count": null,
   "id": "0773dcf9",
   "metadata": {
    "vscode": {
     "languageId": "r"
    }
   },
   "outputs": [],
   "source": []
  },
  {
   "cell_type": "code",
   "execution_count": null,
   "id": "1f0771bd",
   "metadata": {
    "vscode": {
     "languageId": "r"
    }
   },
   "outputs": [],
   "source": []
  },
  {
   "cell_type": "code",
   "execution_count": null,
   "id": "e312c664",
   "metadata": {
    "vscode": {
     "languageId": "r"
    }
   },
   "outputs": [],
   "source": []
  },
  {
   "cell_type": "code",
   "execution_count": null,
   "id": "6518e6e3",
   "metadata": {
    "vscode": {
     "languageId": "r"
    }
   },
   "outputs": [],
   "source": [
    "results %>%\n",
    "    mutate(Group=factor(Group)) %>%\n",
    "    group_by(Group) %>%\n",
    "    median_qi(cindex, .width = 0.95)"
   ]
  },
  {
   "cell_type": "code",
   "execution_count": null,
   "id": "b3188946",
   "metadata": {
    "vscode": {
     "languageId": "r"
    }
   },
   "outputs": [],
   "source": [
    "results[, list(list(boot(.SD, stat, R = 10))), by = Group]$V1"
   ]
  },
  {
   "cell_type": "code",
   "execution_count": null,
   "id": "07e625df",
   "metadata": {
    "vscode": {
     "languageId": "r"
    }
   },
   "outputs": [],
   "source": [
    "  results %>%\n",
    "    group_by(Group) %>% \n",
    "    bootstrap(., 10) %>% \n",
    "    do(tidy(median(cindex)))"
   ]
  },
  {
   "cell_type": "code",
   "execution_count": null,
   "id": "3996f116",
   "metadata": {
    "vscode": {
     "languageId": "r"
    }
   },
   "outputs": [],
   "source": [
    "install.packages(groupwiseMedian)\n",
    "library(groupwiseMedian)"
   ]
  },
  {
   "cell_type": "code",
   "execution_count": null,
   "id": "94f6aefe",
   "metadata": {
    "vscode": {
     "languageId": "r"
    }
   },
   "outputs": [],
   "source": [
    "devtools::install_github(\"DavisVaughan/strapgod\")"
   ]
  },
  {
   "cell_type": "code",
   "execution_count": null,
   "id": "1f58badc",
   "metadata": {
    "vscode": {
     "languageId": "r"
    }
   },
   "outputs": [],
   "source": [
    "install.packages('tidymodels')\n",
    "library(tidymodels)"
   ]
  },
  {
   "cell_type": "code",
   "execution_count": null,
   "id": "b1b8603b",
   "metadata": {
    "vscode": {
     "languageId": "r"
    }
   },
   "outputs": [],
   "source": [
    "median_as_tibble <- function(split) {\n",
    "  dat <- analysis(split)\n",
    "  tibble(\n",
    "    term = \"median\",\n",
    "    estimate = median(dat$cindex),\n",
    "    # don't know the analytical std.err so no t-intervals\n",
    "    std.err = NA_real_\n",
    "  )\n",
    "}\n",
    "\n",
    "results %>%\n",
    "    filter(Group == 'Entire population') %>%\n",
    "    bootstraps(times = 1000, apparent = TRUE) %>%\n",
    "    mutate(value = map(splits, median_as_tibble)) %>%\n",
    "    int_pctl(value)"
   ]
  },
  {
   "cell_type": "code",
   "execution_count": null,
   "id": "5765b1d7",
   "metadata": {
    "vscode": {
     "languageId": "r"
    }
   },
   "outputs": [],
   "source": [
    "median_as_tibble <- function(split) {\n",
    "  dat <- analysis(split)\n",
    "  tibble(\n",
    "    term = \"median\",\n",
    "    estimate = median(dat$cindex),\n",
    "    # don't know the analytical std.err so no t-intervals\n",
    "    std.err = NA_real_\n",
    "  )\n",
    "}\n",
    "\n",
    "bootstrap_median <- function(group) {\n",
    "    group %>%\n",
    "    bootstraps(times = 1000, apparent = TRUE) %>%\n",
    "    mutate(value = map(splits, median_as_tibble)) %>%\n",
    "    int_pctl(value)\n",
    "}"
   ]
  },
  {
   "cell_type": "code",
   "execution_count": null,
   "id": "fc6c0c1c",
   "metadata": {
    "vscode": {
     "languageId": "r"
    }
   },
   "outputs": [],
   "source": [
    "options(digits = 3) \n",
    "\n",
    "results %>% \n",
    "     select(Group, cindex) %>% \n",
    "     group_by(Group) %>%\n",
    "     group_modify(~ bootstrap_median(.x), .keep = TRUE)"
   ]
  },
  {
   "cell_type": "code",
   "execution_count": null,
   "id": "7e324eb0",
   "metadata": {
    "vscode": {
     "languageId": "r"
    }
   },
   "outputs": [],
   "source": [
    "results %>% boot(statistic = function(x,i) median(x %>% select(cindex)),R = 1000)"
   ]
  },
  {
   "cell_type": "code",
   "execution_count": null,
   "id": "19e1b4d8",
   "metadata": {
    "vscode": {
     "languageId": "r"
    }
   },
   "outputs": [],
   "source": [
    "results %>% \n",
    "     select(Group, cindex) %>% \n",
    "     group_by(Group) %>%\n",
    "     group_map(~ boot(cindex, statistic=median,R = 10))\n",
    "     \n",
    "     \n",
    "     # %>% \n",
    "     #group_map(~ smean.cl.boot(., conf.int = .95, B = 1000, na.rm = TRUE))# %>%\n",
    "     #bind_rows()"
   ]
  },
  {
   "cell_type": "code",
   "execution_count": null,
   "id": "f47bdbee",
   "metadata": {
    "vscode": {
     "languageId": "r"
    }
   },
   "outputs": [],
   "source": [
    "\n",
    "    mutate(score = factor(score, levels=scores_plot)) %>%\n",
    "    mutate(endpoint = factor(endpoint, levels=endpoints_sorted)) %>%\n",
    "    ungroup() %>%\n",
    "    pivot_wider(names_from=score, values_from=cindex, id_cols=c(uuid, partition, endpoint, phecode_category, phecode_string, num_events)) %>%\n",
    "    mutate(id = row_number()) %>%\n",
    "    rename(score1 = scores_plot[1], score2 = scores_plot[2]) %>%\n",
    "    mutate(delta=score2 - score1) %>%\n",
    "    group_by(endpoint, phecode_string, phecode_category) %>%\n",
    "    median_qi(num_events, delta, score1, score2) %>%\n",
    "    #mutate(pos = case_when(delta>=0 ~ \"pos\", delta < 0 ~\"neg\")) %>%\n",
    "    mutate(endpoint = fct_reorder(endpoint, delta)) %>%\n",
    "    mutate(highlight = case_when(endpoint %in% endpoint_selection ~ \"YES\", TRUE ~ \"NO\")) %>%# %>% filter(endpoint %in% endpoint_sample)\n",
    "    mutate(phecode_category = factor(phecode_category, levels=categories_sorted))\n",
    "\n",
    "temp_num_events"
   ]
  },
  {
   "cell_type": "code",
   "execution_count": null,
   "id": "1b3fe27e",
   "metadata": {
    "vscode": {
     "languageId": "r"
    }
   },
   "outputs": [],
   "source": [
    "\n",
    "\n",
    "  stat_dotsinterval(side = \"right\", scale = 0.5, slab_size = NA) +\n",
    "  #scale_fill_brewer(palette = \"Set3\") +\n",
    "  scale_fill_brewer(palette=\"Set1\") + \n",
    "  labs(x=\"Group\", y=\"C-Index\") + \n",
    "    theme(axis.title.x=element_blank(),\n",
    "      panel.grid.major=element_blank(),\n",
    "      strip.text = element_text(angle=270, hjust=1)\n",
    "    ) +\n",
    "    theme(legend.position=\"none\")"
   ]
  },
  {
   "cell_type": "code",
   "execution_count": null,
   "id": "44e7d732",
   "metadata": {
    "vscode": {
     "languageId": "r"
    }
   },
   "outputs": [],
   "source": [
    "\n",
    "overview = ggplot(temp) +\n",
    "    geom_ribbon(aes(x=endpoint, ymin=0, ymax=delta), fill=\"black\", alpha=0.2)+\n",
    "    geom_point(aes(x=endpoint, y=delta, color=highlight, size=highlight, alpha=highlight)) +\n",
    "    geom_text(data=temp %>% filter(highlight==\"YES\"), aes(x=endpoint, y=delta+0.1, label=\"↓\"), color=\"black\", size=5, alpha=0.7) +\n",
    "    #geom_segment(aes(x=endpoint, xend=endpoint, y=0, yend=delta, color=highlight, size=highlight), alpha=0.5)+#+\n",
    "    labs(x=\"Endpoints\", y=\"Delta C-Index\")+\n",
    "    scale_color_manual(values=c(\"NO\"=\"black\", \"YES\"=\"firebrick\"))+\n",
    "    scale_alpha_manual(values=c(\"NO\"=0.1, \"YES\"=1))+\n",
    "    scale_size_manual(values=c(\"NO\"=0.01, \"YES\"=1))+\n",
    "    #scale_colour_manual(values = c(\"pos\"=\"forestgreen\", \"neg\" = \"firebrick\")) +\n",
    "    #coord_polar() +\n",
    "    coord_cartesian(ylim=c(-0.3, 0.3), clip = \"off\")+\n",
    "    scale_y_continuous(expand=c(0, 0))+\n",
    "    scale_x_discrete(expand=expansion(add=20))+\n",
    "    facet_grid(~phecode_category, scales=\"free_x\", space=\"free_x\")+#, switch=TRUE)+\n",
    "    #facet_grid2(~phecode_category, scales = \"free\", independent = \"all\") +\n",
    "    theme(axis.title.x=element_blank(),\n",
    "        axis.text.x=element_blank(),\n",
    "        axis.ticks.x=element_blank(),\n",
    "        panel.grid.major=element_blank(),\n",
    "         strip.text = element_text(angle=270, hjust=1)) +\n",
    "    theme(legend.position=\"none\")\n",
    "\n",
    "    #geom_ribbon(aes(x=id, ymin=AgeSex, ymax=`Age+Sex+MedicalHistory`), fill=\"red\", alpha=0.2)\n",
    "#geom_violin(size=0.1)\n",
    "overview"
   ]
  },
  {
   "cell_type": "code",
   "execution_count": null,
   "id": "d47869e9",
   "metadata": {
    "vscode": {
     "languageId": "r"
    }
   },
   "outputs": [],
   "source": []
  },
  {
   "cell_type": "code",
   "execution_count": null,
   "id": "8af32588",
   "metadata": {
    "vscode": {
     "languageId": "r"
    }
   },
   "outputs": [],
   "source": []
  },
  {
   "cell_type": "code",
   "execution_count": null,
   "id": "7cf9a22f",
   "metadata": {
    "vscode": {
     "languageId": "r"
    }
   },
   "outputs": [],
   "source": []
  },
  {
   "cell_type": "code",
   "execution_count": null,
   "id": "149b5026",
   "metadata": {
    "title": "codecell",
    "vscode": {
     "languageId": "r"
    }
   },
   "outputs": [],
   "source": [
    "endpoint_defs = arrow::read_feather(glue(\"{base_path}/phecode_defs_220306.feather\")) %>% arrange(endpoint)\n",
    "endpoints_md = fread(glue(\"{base_path}/endpoints.csv\"), colClasses=c(\"phecode\"=\"character\"))\n",
    "endpoints = sort(endpoints_md$endpoint)\n",
    "\n",
    "glue(\"{base_path}/phecode_defs_220306.feather\")"
   ]
  },
  {
   "cell_type": "code",
   "execution_count": null,
   "id": "6c229366",
   "metadata": {
    "title": "codecell",
    "vscode": {
     "languageId": "r"
    }
   },
   "outputs": [],
   "source": [
    "endpoint_map = endpoint_defs$phecode_string\n",
    "names(endpoint_map) =  endpoint_defs$endpoint\n",
    "endpoint_order = (endpoint_defs %>% arrange(as.numeric(phecode)))$endpoint"
   ]
  },
  {
   "cell_type": "code",
   "execution_count": null,
   "id": "a26447c2",
   "metadata": {
    "vscode": {
     "languageId": "r"
    }
   },
   "outputs": [],
   "source": [
    "base_size = 8\n",
    "title_size = 10\n",
    "facet_size = 9\n",
    "geom_text_size=3\n",
    "theme_set(theme_classic(base_size = base_size) +\n",
    "          theme(strip.background = element_blank(), plot.title=element_text(size=title_size, hjust=0),\n",
    "                strip.text.x = element_text(size = facet_size),axis.title=element_text(size=10), axis.text=element_text(size=8, color=\"black\"),\n",
    "                legend.position=\"bottom\", axis.line = element_line(size = 0.2), axis.ticks=element_line(size=0.2), panel.grid.major.y=element_line()))"
   ]
  },
  {
   "cell_type": "code",
   "execution_count": null,
   "id": "51a5339d",
   "metadata": {
    "vscode": {
     "languageId": "r"
    }
   },
   "outputs": [],
   "source": [
    "endpoint_selection = c(\n",
    "\n",
    "   'phecode_401', #  \"Hypertension\", # intervention\n",
    "    'phecode_202', #  \"Diabetes mellitus\", # intervention\n",
    "    'phecode_416-21', #  \"Atrial fibrillation\", # intervention\n",
    "    'phecode_468', #  \"Pneumonia\", # intervention\n",
    "    'phecode_474', #  \"Chronic obstructive pulmonary disease [COPD]\", # interventio\n",
    "    'phecode_583', #  \"Chronic kidney disease\", # intervention\n",
    "\n",
    "    'phecode_404', #  \"Ischemic heart disease\",\n",
    "    'phecode_404-1', #  \"Myocardial infarction [Heart attack]\", # intervention\n",
    "    'phecode_431-11', #  \"Cerebral infarction [Ischemic stroke]\",\n",
    "    'phecode_424', #  \"Heart failure\", # intervention\n",
    "    'phecode_420', #  \"Cardiac arrest\", # intervention\n",
    "    'OMOP_4306655', #  \"All-Cause Death\", # intervention\n",
    "\n",
    "    'phecode_438-11',   #  \"Abdominal aortic aneurysm\",\n",
    "    'phecode_440-3',#  \"Pulmonary embolism\", # intervention\n",
    "    'phecode_413-21',#  \"Aortic stenosis\", # intervention\n",
    "    'phecode_413-11', #  \"Mitral valve insufficiency\",\n",
    "    'phecode_410-2',#  \"Endocarditis\",\n",
    "    'phecode_400',#  \"Rheumatic fever and chronic rheumatic heart diseases\",\n",
    "\n",
    "    'phecode_164', #  \"Anemia\", # intervention\n",
    "    'phecode_718',  #  \"Back pain\", # intervention\n",
    "    'phecode_324-11', #  \"Parkinson's disease (Primary)\",\n",
    "    'phecode_705-1', #  \"Rheumatoid arthritis\", # NEW + interventio\n",
    "    'phecode_665', #  \"Psoriasis\", # interesting\n",
    "    'phecode_284'#  \"Suicide ideation and attempt or self harm\" # intervention\n",
    ")\n",
    "endpoint_defs = endpoint_defs %>%\n",
    "    mutate(name = phecode_string) %>%\n",
    "    mutate(name =\n",
    "           case_when(\n",
    "               phecode_string == \"Myocardial infarction [Heart attack]\"~\"Myocardial infarction\",\n",
    "               phecode_string == \"Cerebral infarction [Ischemic stroke]\"~\"Ischemic stroke\",\n",
    "               phecode_string == \"Chronic obstructive pulmonary disease [COPD]\"~\"COPD\",\n",
    "               phecode_string == \"Mitral valve insufficiency\"~\"Mitral insufficiency\",\n",
    "               phecode_string == \"Parkinson's disease (Primary)\"~\"Parkinson's\",\n",
    "               phecode_string == \"Suicide ideation and attempt or self harm\"~\"Suicide attempt\",\n",
    "               phecode_string == \"Ischemic heart disease\"~\"Ischemic HD\",\n",
    "               phecode_string == \"Chronic kidney disease\"~\"Chronic KD\",\n",
    "               phecode_string == \"Rheumatic fever and chronic rheumatic heart diseases\"~\"Rheumatic HD\",\n",
    "               phecode_string == \"Abdominal aortic aneurysm\"~\"Abdominal AA\",\n",
    "                  TRUE ~ name)\n",
    "           )\n",
    "\n",
    "endpoint_map = endpoint_defs$name\n",
    "names(endpoint_map) =  endpoint_defs$endpoint\n",
    "#endpoint_order = (endpoint_defs %>% arrange(as.numeric(phecode)))$endpoint\n",
    "endpoint_order = endpoint_selection"
   ]
  },
  {
   "cell_type": "code",
   "execution_count": null,
   "id": "e852825c",
   "metadata": {
    "vscode": {
     "languageId": "r"
    }
   },
   "outputs": [],
   "source": [
    "name = \"220831_bootstrap_results\"\n",
    "benchmark_endpoints = arrow::read_feather(glue(\"{base_path}/{name}.feather\"))"
   ]
  },
  {
   "cell_type": "code",
   "execution_count": null,
   "id": "114d6216",
   "metadata": {
    "vscode": {
     "languageId": "r"
    }
   },
   "outputs": [],
   "source": [
    "benchmark_endpoints = benchmark_endpoints %>% group_by(endpoint, uuid) %>% filter(all(!is.na(cindex))) %>% ungroup()"
   ]
  },
  {
   "cell_type": "code",
   "execution_count": null,
   "id": "ce32608d",
   "metadata": {
    "vscode": {
     "languageId": "r"
    }
   },
   "outputs": [],
   "source": [
    "benchmark_endpoints = setDT(benchmark_endpoints)[, endpoint := str_replace(endpoint, \"\\\\.\", \"-\")] %>% as_tibble()"
   ]
  },
  {
   "cell_type": "code",
   "execution_count": null,
   "id": "46186ec7",
   "metadata": {
    "vscode": {
     "languageId": "r"
    }
   },
   "outputs": [],
   "source": [
    "benchmark_endpoints = benchmark_endpoints %>% left_join(endpoints_md)"
   ]
  },
  {
   "cell_type": "code",
   "execution_count": null,
   "id": "df841175",
   "metadata": {
    "vscode": {
     "languageId": "r"
    }
   },
   "outputs": [],
   "source": [
    "benchmark_endpoints %>% select(phecode_string) %>% filter(is.na(phecode_string))"
   ]
  },
  {
   "cell_type": "code",
   "execution_count": null,
   "id": "7a0252ca",
   "metadata": {
    "vscode": {
     "languageId": "r"
    }
   },
   "outputs": [],
   "source": [
    "benchmark_endpoints %>% group_by(endpoint, score)  %>% summarise(cindex=mean(cindex)) %>% group_by(score) %>% summarise(mean(cindex)) %>% arrange(`mean(cindex)`)"
   ]
  },
  {
   "cell_type": "code",
   "execution_count": null,
   "id": "1ba4d780",
   "metadata": {
    "vscode": {
     "languageId": "r"
    }
   },
   "outputs": [],
   "source": [
    "endpoints_sorted = (benchmark_endpoints %>%\n",
    "    filter(score == \"AgeSex+MedicalHistory_UKBBParams\") %>%\n",
    "    group_by(endpoint, score) %>%\n",
    "    summarise(cindex=mean(cindex, na.rm=TRUE)) %>%\n",
    "    arrange(cindex) %>% ungroup())$endpoint"
   ]
  },
  {
   "cell_type": "code",
   "execution_count": null,
   "id": "7e523596",
   "metadata": {
    "vscode": {
     "languageId": "r"
    }
   },
   "outputs": [],
   "source": [
    "categories_sorted = (endpoint_defs %>% distinct(phecode_category))$phecode_category"
   ]
  },
  {
   "cell_type": "code",
   "execution_count": null,
   "id": "3977cd44",
   "metadata": {
    "vscode": {
     "languageId": "r"
    }
   },
   "outputs": [],
   "source": [
    "temp_num_events = benchmark_endpoints %>%\n",
    "    filter(score %in% scores_plot) %>%\n",
    "    mutate(score = factor(score, levels=scores_plot)) %>%\n",
    "    mutate(endpoint = factor(endpoint, levels=endpoints_sorted)) %>%\n",
    "    ungroup() %>%\n",
    "    pivot_wider(names_from=score, values_from=cindex, id_cols=c(uuid, partition, endpoint, phecode_category, phecode_string, num_events)) %>%\n",
    "    mutate(id = row_number()) %>%\n",
    "    rename(score1 = scores_plot[1], score2 = scores_plot[2]) %>%\n",
    "    mutate(delta=score2 - score1) %>%\n",
    "    group_by(endpoint, phecode_string, phecode_category) %>%\n",
    "    median_qi(num_events, delta, score1, score2) %>%\n",
    "    #mutate(pos = case_when(delta>=0 ~ \"pos\", delta < 0 ~\"neg\")) %>%\n",
    "    mutate(endpoint = fct_reorder(endpoint, delta)) %>%\n",
    "    mutate(highlight = case_when(endpoint %in% endpoint_selection ~ \"YES\", TRUE ~ \"NO\")) %>%# %>% filter(endpoint %in% endpoint_sample)\n",
    "    mutate(phecode_category = factor(phecode_category, levels=categories_sorted))\n",
    "\n",
    "temp_num_events"
   ]
  },
  {
   "cell_type": "code",
   "execution_count": null,
   "id": "44e394d8",
   "metadata": {
    "vscode": {
     "languageId": "r"
    }
   },
   "outputs": [],
   "source": [
    "temp_num_events %>% filter(delta.upper < 0)"
   ]
  },
  {
   "cell_type": "code",
   "execution_count": null,
   "id": "ee774d27",
   "metadata": {
    "vscode": {
     "languageId": "r"
    }
   },
   "outputs": [],
   "source": [
    "plot_width = 8.25; plot_height=2.5; plot_res = 320\n",
    "options(repr.plot.width = plot_width, repr.plot.height = plot_height, repr.plot.res=plot_res)\n",
    "\n",
    "library(ggtext)\n",
    "library(ggdist)\n",
    "\n",
    "scores_plot = c(\"AgeSex_AoUCPH\", \"AgeSex+MedicalHistory_UKBBParams\")\n",
    "\n",
    "temp = benchmark_endpoints %>%\n",
    "    filter(score %in% scores_plot) %>%\n",
    "    mutate(score = factor(score, levels=scores_plot)) %>%\n",
    "    mutate(endpoint = factor(endpoint, levels=endpoints_sorted)) %>%\n",
    "    ungroup() %>%\n",
    "    pivot_wider(names_from=score, values_from=cindex, id_cols=c(uuid, partition, endpoint, phecode_category, phecode_string, num_events)) %>%\n",
    "    mutate(id = row_number()) %>%\n",
    "    rename(score1 = scores_plot[1], score2 = scores_plot[2]) %>%\n",
    "    mutate(delta=score2 - score1) %>%\n",
    "    group_by(endpoint, phecode_string, phecode_category) %>%\n",
    "    median_qi(delta) %>%\n",
    "    #mutate(pos = case_when(delta>=0 ~ \"pos\", delta < 0 ~\"neg\")) %>%\n",
    "    mutate(endpoint = fct_reorder(endpoint, delta)) %>%\n",
    "    mutate(highlight = case_when(endpoint %in% endpoint_selection ~ \"YES\", TRUE ~ \"NO\")) %>%# %>% filter(endpoint %in% endpoint_sample)\n",
    "    mutate(phecode_category = factor(phecode_category, levels=categories_sorted))"
   ]
  },
  {
   "cell_type": "code",
   "execution_count": null,
   "id": "f95eada8",
   "metadata": {
    "vscode": {
     "languageId": "r"
    }
   },
   "outputs": [],
   "source": [
    "temp"
   ]
  },
  {
   "cell_type": "code",
   "execution_count": null,
   "id": "dd3645b9",
   "metadata": {
    "vscode": {
     "languageId": "r"
    }
   },
   "outputs": [],
   "source": [
    "temp %>% filter(.lower > 0)"
   ]
  },
  {
   "cell_type": "code",
   "execution_count": null,
   "id": "5e6fa0bb",
   "metadata": {
    "vscode": {
     "languageId": "r"
    }
   },
   "outputs": [],
   "source": [
    "options(digits = 3) \n",
    "\n",
    "temp_num_events %>%\n",
    "    filter(endpoint %in% endpoint_selection) %>%\n",
    "    arrange(delta.lower)"
   ]
  },
  {
   "cell_type": "code",
   "execution_count": null,
   "id": "6cc893a9",
   "metadata": {
    "vscode": {
     "languageId": "r"
    }
   },
   "outputs": [],
   "source": [
    "endpoint_order = (temp %>% arrange(delta))$endpoint\n",
    "\n",
    "temp = temp %>% mutate(endpoint = factor(endpoint, levels=endpoint_order)) %>% ungroup() %>%\n",
    "    arrange(endpoint) %>% group_by(phecode_category) %>% mutate(endpoint = row_number()) %>%\n",
    "    filter(!phecode_category %in% c(\"Signs/Symptoms\", \"Preg\", \"Rx\", \"Stat\"))"
   ]
  },
  {
   "cell_type": "code",
   "execution_count": null,
   "id": "8b5d56a1",
   "metadata": {
    "vscode": {
     "languageId": "r"
    }
   },
   "outputs": [],
   "source": [
    "overview = ggplot(temp) +\n",
    "    geom_ribbon(aes(x=endpoint, ymin=0, ymax=delta), fill=\"black\", alpha=0.2)+\n",
    "    geom_point(aes(x=endpoint, y=delta, color=highlight, size=highlight, alpha=highlight)) +\n",
    "    geom_text(data=temp %>% filter(highlight==\"YES\"), aes(x=endpoint, y=delta+0.1, label=\"↓\"), color=\"black\", size=5, alpha=0.7) +\n",
    "    #geom_segment(aes(x=endpoint, xend=endpoint, y=0, yend=delta, color=highlight, size=highlight), alpha=0.5)+#+\n",
    "    labs(x=\"Endpoints\", y=\"Delta C-Index\")+\n",
    "    scale_color_manual(values=c(\"NO\"=\"black\", \"YES\"=\"firebrick\"))+\n",
    "    scale_alpha_manual(values=c(\"NO\"=0.1, \"YES\"=1))+\n",
    "    scale_size_manual(values=c(\"NO\"=0.01, \"YES\"=1))+\n",
    "    #scale_colour_manual(values = c(\"pos\"=\"forestgreen\", \"neg\" = \"firebrick\")) +\n",
    "    #coord_polar() +\n",
    "    coord_cartesian(ylim=c(-0.3, 0.3), clip = \"off\")+\n",
    "    scale_y_continuous(expand=c(0, 0))+\n",
    "    scale_x_discrete(expand=expansion(add=20))+\n",
    "    facet_grid(~phecode_category, scales=\"free_x\", space=\"free_x\")+#, switch=TRUE)+\n",
    "    #facet_grid2(~phecode_category, scales = \"free\", independent = \"all\") +\n",
    "    theme(axis.title.x=element_blank(),\n",
    "        axis.text.x=element_blank(),\n",
    "        axis.ticks.x=element_blank(),\n",
    "        panel.grid.major=element_blank(),\n",
    "         strip.text = element_text(angle=270, hjust=1)) +\n",
    "    theme(legend.position=\"none\")\n",
    "\n",
    "    #geom_ribbon(aes(x=id, ymin=AgeSex, ymax=`Age+Sex+MedicalHistory`), fill=\"red\", alpha=0.2)\n",
    "#geom_violin(size=0.1)\n",
    "overview"
   ]
  },
  {
   "cell_type": "code",
   "execution_count": null,
   "id": "cbc42b2f",
   "metadata": {
    "vscode": {
     "languageId": "r"
    }
   },
   "outputs": [],
   "source": [
    "#library(gt)\n",
    "figure_path = \"/sc-projects/sc-proj-ukb-cvd/results/projects/22_medical_records/figures/220823_allofus/\"\n",
    "plot_name = \"Figure5a_overview\"\n",
    "overview %>% ggsave(filename=glue(\"{figure_path}/{plot_name}.png\"), device=\"png\", width=plot_width, height=plot_height, dpi=plot_res)"
   ]
  },
  {
   "cell_type": "code",
   "execution_count": null,
   "id": "0c19bcfe",
   "metadata": {
    "vscode": {
     "languageId": "r"
    }
   },
   "outputs": [],
   "source": [
    "base_size = 8\n",
    "title_size = 10\n",
    "facet_size = 9\n",
    "geom_text_size=3\n",
    "theme_set(theme_classic(base_size = base_size) +\n",
    "          theme(strip.background = element_blank(), plot.title=element_text(size=title_size, hjust=0),\n",
    "                strip.text.x = element_text(size = facet_size),axis.title=element_text(size=10), axis.text=element_text(size=8, color=\"black\"),\n",
    "                legend.position=\"bottom\", axis.line = element_line(size = 0.2), axis.ticks=element_line(size=0.2), panel.grid.major=element_line()))"
   ]
  },
  {
   "cell_type": "code",
   "execution_count": null,
   "id": "e71b33dd",
   "metadata": {
    "vscode": {
     "languageId": "r"
    }
   },
   "outputs": [],
   "source": [
    "plot_width = 8.25; plot_height=2; plot_res = 320\n",
    "options(repr.plot.width = plot_width, repr.plot.height = plot_height, repr.plot.res=plot_res)\n",
    "\n",
    "plot_against_score = function(score1, score2, endpoint_order=c()){\n",
    "\n",
    "  scores_plot = c(score1, score2)#, \"AgeSexMedicalHistory\"\n",
    "\n",
    "  score_label = glue(\"{score1} vs. {score2}\")\n",
    "  #print(score_label)\n",
    "\n",
    "  temp = benchmark_endpoints %>%\n",
    "      filter(score %in% scores_plot) %>%\n",
    "      filter(endpoint %in% endpoint_selection) %>%\n",
    "      mutate(score = factor(score, levels=scores_plot)) %>%\n",
    "      mutate(endpoint = factor(endpoint, levels=sort(endpoint_selection))) %>%\n",
    "      group_by(endpoint, score, phecode_string, phecode_category) %>%\n",
    "      ungroup() %>%\n",
    "      pivot_wider(names_from=score, values_from=cindex, id_cols=c(uuid, partition, endpoint, phecode_category, phecode_string)) %>%\n",
    "      mutate(id = row_number()) %>%\n",
    "      mutate(delta = !!sym(score2)-!!sym(score1)) %>%\n",
    "      mutate(pos = case_when(delta>=0 ~ \"pos\", delta < 0 ~\"neg\")) %>%\n",
    "      mutate(endpoint = fct_reorder(endpoint, delta)) %>%\n",
    "      mutate(highlight = case_when(endpoint %in% endpoint_selection ~ \"YES\", TRUE ~ \"NO\")) %>%# %>% filter(endpoint %in% endpoint_sample)\n",
    "      mutate(phecode_category = factor(phecode_category, levels=categories_sorted)) %>%\n",
    "      filter(endpoint %in% endpoint_selection) #%>% mutate(endpoint=factor(endpoint, levels=endpoint_order_diff))\n",
    "\n",
    "  temp_abs = temp %>% group_by(endpoint) %>% summarise(delta=median(delta), m_score2=median(!!sym(score2)), m_score1=median(!!sym(score1))) %>% ungroup()\n",
    "  #print(levels(temp_abs$endpoint))\n",
    "\n",
    "  temp_abs_segment = temp_abs %>% rowwise() %>% mutate(min_cindex = min(m_score1, m_score2), max_cindex=max(m_score1, m_score2)) %>% ungroup()# %>% filter(abs(min_cindex-max_cindex)>0.02)\n",
    "\n",
    "  endpoint_order = (temp %>% group_by(endpoint) %>% summarise(delta=median(delta)) %>% arrange(delta))$endpoint\n",
    "  print(endpoint_order)\n",
    "\n",
    "  if (length(endpoint_order)>0){\n",
    "      temp = temp %>% filter(endpoint %in% endpoint_order) %>% mutate(endpoint=factor(endpoint, levels=endpoint_order))\n",
    "      temp_abs = temp_abs %>% filter(endpoint %in% endpoint_order) %>% mutate(endpoint=factor(endpoint, levels=endpoint_order))\n",
    "      temp_abs_segment = temp_abs_segment %>% filter(endpoint %in% endpoint_order) %>% mutate(endpoint=factor(endpoint, levels=endpoint_order))\n",
    "      }\n",
    "  #print(temp_abs_segment)\n",
    "\n",
    "  abs = ggplot(temp_abs) +\n",
    "      #geom_violin(aes(x=fct_rev(endpoint), y=delta), size=0.5) +\n",
    "      labs(y=\"Concordance Index\")+\n",
    "\n",
    "      #geom_segment(data=temp_abs_segment, mapping=aes(x=endpoint, xend=endpoint, y=min_cindex+0.01, yend=max_cindex-0.01), alpha=0.4)+#, arrow = arrow(length = unit(0.01, \"npc\")), arrow.fill=\"black\")+#+\n",
    "\n",
    "\n",
    "      geom_point(aes(x=fct_rev(endpoint), y=m_score1), size=1, color=\"black\", alpha=0.7)+\n",
    "      #geom_point(aes(x=fct_rev(endpoint), y=m_asm), size=1, color=\"#023768\", alpha=0.7)+\n",
    "      geom_point(aes(x=fct_rev(endpoint), y=m_score2), size=1.5, color=\"firebrick\", alpha=0.7)+\n",
    "      geom_segment(data=temp_abs %>% filter(abs(delta)>0.02) %>% mutate(endpoint=factor(endpoint, levels=endpoint_order)),\n",
    "                   aes(x=fct_rev(endpoint), xend=fct_rev(endpoint), y=m_score1+0.01, yend=m_score2-0.01), alpha=0.2, arrow = arrow(length = unit(0.01, \"npc\")), arrow.fill=\"black\")+#,\n",
    "\n",
    "      scale_x_discrete(labels=endpoint_map) +\n",
    "\n",
    "      coord_flip(ylim=c(0.5, 0.9))+\n",
    "       theme(strip.text = element_text(angle=270), axis.title.y=element_blank()) +\n",
    "      theme(legend.position=\"none\")\n",
    "\n",
    "      #geom_ribbon(aes(x=id, ymin=AgeSex, ymax=`Age+Sex+MedicalHistory`), fill=\"red\", alpha=0.2)\n",
    "  #geom_violin(size=0.1)\n",
    "  rel = ggplot(temp) +\n",
    "      #geom_violin(aes(x=fct_rev(endpoint), y=delta), size=0.5) +\n",
    "      labs(y=\"Difference in Concordance Index\")+\n",
    "      geom_hline(yintercept=0, size=0.25, alpha=0.5, linetype=\"22\") +\n",
    "      stat_pointinterval(aes(x=fct_rev(endpoint), y=delta), size=0.5, alpha=0.7)+\n",
    "\n",
    "      theme(axis.title.y=element_blank(),\n",
    "          axis.text.y=element_blank(),\n",
    "         axis.ticks.y=element_blank()) +\n",
    "      coord_flip(ylim=c(-0.01, 0.23))+\n",
    "       theme(strip.text = element_text(angle=270)) +\n",
    "      theme(legend.position=\"none\")\n",
    "\n",
    "      #geom_ribbon(aes(x=id, ymin=AgeSex, ymax=`Age+Sex+MedicalHistory`), fill=\"red\", alpha=0.2)\n",
    "  #geom_violin(size=0.1)\n",
    "  return(abs|rel)\n",
    "}"
   ]
  },
  {
   "cell_type": "code",
   "execution_count": null,
   "id": "7bfefad5",
   "metadata": {
    "vscode": {
     "languageId": "r"
    }
   },
   "outputs": [],
   "source": [
    "ase_size = 8\n",
    "title_size = 10\n",
    "facet_size = 9\n",
    "geom_text_size=3\n",
    "theme_set(theme_classic(base_size = base_size) +\n",
    "          theme(strip.background = element_blank(), plot.title=element_text(size=title_size, hjust=0),\n",
    "                strip.text.x = element_text(size = facet_size),axis.title=element_text(size=10), axis.text=element_text(size=8, color=\"black\"),\n",
    "                legend.position=\"bottom\", axis.line = element_line(size = 0.2), axis.ticks=element_line(size=0.2), panel.grid.major=element_line()))\n",
    "\n",
    "endpoint_order=c()\n",
    "length(endpoint_order)"
   ]
  },
  {
   "cell_type": "code",
   "execution_count": null,
   "id": "03c26183",
   "metadata": {
    "vscode": {
     "languageId": "r"
    }
   },
   "outputs": [],
   "source": [
    "plot_width = 8.25; plot_height=3.25; plot_res = 320\n",
    "options(repr.plot.width = plot_width, repr.plot.height = plot_height, repr.plot.res=plot_res)\n",
    "\n",
    "fig5b = plot_against_score(\"AgeSex_AoUCPH\", \"AgeSex+MedicalHistory_UKBBParams\")\n",
    "\n",
    "plot_name = \"Figure5b_performances\"\n",
    "fig5b %>% ggsave(filename=glue(\"{figure_path}/{plot_name}.png\"), device=\"png\", width=plot_width, height=plot_height, dpi=plot_res)"
   ]
  }
 ],
 "metadata": {
  "jupytext": {
   "cell_metadata_filter": "title,-all",
   "main_language": "R",
   "notebook_metadata_filter": "-all"
  },
  "kernelspec": {
   "display_name": "R [conda env:cm_r]",
   "language": "R",
   "name": "conda-env-cm_r-r"
  },
  "language_info": {
   "codemirror_mode": "r",
   "file_extension": ".r",
   "mimetype": "text/x-r-source",
   "name": "R",
   "pygments_lexer": "r",
   "version": "4.2.2"
  }
 },
 "nbformat": 4,
 "nbformat_minor": 5
}
