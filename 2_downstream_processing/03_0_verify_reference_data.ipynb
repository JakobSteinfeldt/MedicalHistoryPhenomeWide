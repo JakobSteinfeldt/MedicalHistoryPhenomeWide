{
 "cells": [
  {
   "cell_type": "code",
   "execution_count": null,
   "metadata": {
    "tags": []
   },
   "outputs": [],
   "source": [
    "import pandas as pd\n",
    "import numpy as np\n",
    "import pathlib\n",
    "from tqdm.auto import tqdm\n",
    "\n",
    "import hydra\n",
    "from omegaconf import DictConfig, OmegaConf\n",
    "\n",
    "import torch\n",
    "from torch_geometric import seed_everything\n",
    "\n",
    "import ray"
   ]
  },
  {
   "cell_type": "code",
   "execution_count": null,
   "metadata": {
    "tags": []
   },
   "outputs": [],
   "source": [
    "node = !hostname\n",
    "if \"sc\" in node[0]:\n",
    "    base_path = \"/sc-projects/sc-proj-ukb-cvd\"\n",
    "else: \n",
    "    base_path = \"/data/analysis/ag-reils/ag-reils-shared/cardioRS\"\n",
    "print(base_path)\n",
    "\n",
    "project_label = \"22_medical_records\"\n",
    "project_path = f\"{base_path}/results/projects/{project_label}\"\n",
    "figure_path = f\"{project_path}/figures\"\n",
    "output_path = f\"{project_path}/data\"\n",
    "\n",
    "pathlib.Path(figure_path).mkdir(parents=True, exist_ok=True)\n",
    "pathlib.Path(output_path).mkdir(parents=True, exist_ok=True)\n",
    "\n",
    "experiment = 220531\n",
    "experiment_path = f\"{output_path}/{experiment}\"\n",
    "pathlib.Path(experiment_path).mkdir(parents=True, exist_ok=True)"
   ]
  },
  {
   "cell_type": "code",
   "execution_count": null,
   "metadata": {
    "tags": []
   },
   "outputs": [],
   "source": [
    "records_long = pd.read_feather(\"/sc-projects/sc-proj-ukb-cvd/data/2_datasets_pre/211110_anewbeginning/artifacts/final_records_omop_220531.feather\")"
   ]
  },
  {
   "cell_type": "markdown",
   "metadata": {
    "tags": []
   },
   "source": [
    "## Check Records"
   ]
  },
  {
   "cell_type": "code",
   "execution_count": null,
   "metadata": {
    "tags": []
   },
   "outputs": [],
   "source": [
    "records_in = records_long[[\"eid\", \"concept_id\", \"date\", \"recruitment_date\"]]\\\n",
    "    .query(\"date<=recruitment_date\")\\\n",
    "    .drop_duplicates().assign(record_in=1.)\\\n",
    "    .rename(columns={\"concept_id\": \"concept\"})"
   ]
  },
  {
   "cell_type": "code",
   "execution_count": null,
   "metadata": {
    "tags": []
   },
   "outputs": [],
   "source": [
    "records_out = pd.read_feather(f\"{output_path}/baseline_records_long_220627.feather\")#.query(\"eid==@eids_no_prior_records\")\n",
    "records_out"
   ]
  },
  {
   "cell_type": "code",
   "execution_count": null,
   "metadata": {
    "tags": []
   },
   "outputs": [],
   "source": [
    "records_comparison = records_out.merge(records_in[[\"eid\", \"concept\", \"record_in\"]], on=[\"eid\",\"concept\"], how=\"outer\")\n",
    "records_comparison[\"record_in\"] = records_comparison[\"record_in\"].fillna(0).astype(bool)\n",
    "records_comparison[\"record\"] = records_comparison[\"record\"].fillna(0).astype(bool)"
   ]
  },
  {
   "cell_type": "code",
   "execution_count": null,
   "metadata": {
    "tags": []
   },
   "outputs": [],
   "source": [
    "records_comparison_clean = records_comparison[[\"eid\", \"concept\", \"record_in\", \"record\"]].drop_duplicates().reset_index(drop=True)"
   ]
  },
  {
   "cell_type": "code",
   "execution_count": null,
   "metadata": {
    "tags": []
   },
   "outputs": [],
   "source": [
    "records_comparison_clean.query(\"record_in==record\").sort_values(\"eid\")"
   ]
  },
  {
   "cell_type": "code",
   "execution_count": null,
   "metadata": {
    "tags": []
   },
   "outputs": [],
   "source": [
    "records_comparison_clean_mismatch = records_comparison_clean.query(\"record_in!=record\").sort_values(\"eid\")"
   ]
  },
  {
   "cell_type": "code",
   "execution_count": null,
   "metadata": {
    "tags": []
   },
   "outputs": [],
   "source": [
    "records_comparison_clean_mismatch.assign(vocab = lambda x: x.concept.str.split(pat=\"_\").str.get(0)).query(\"vocab!='phecode'\")"
   ]
  },
  {
   "cell_type": "code",
   "execution_count": null,
   "metadata": {
    "tags": []
   },
   "outputs": [],
   "source": [
    "records_comparison_clean.reset_index(drop=True).to_feather(f\"{experiment_path}/sanity_check_records_220627.feather\")"
   ]
  },
  {
   "cell_type": "markdown",
   "metadata": {},
   "source": [
    "## Check Outcomes"
   ]
  },
  {
   "cell_type": "code",
   "execution_count": null,
   "metadata": {},
   "outputs": [],
   "source": [
    "endpoints_in = records_long[[\"eid\", \"concept_id\", \"date\", \"recruitment_date\", \"exit_date\"]]\\\n",
    "    .query(\"date>recruitment_date\")\\\n",
    "    .query(\"date<=exit_date\")\\\n",
    "    .drop_duplicates().assign(event_in=1.)\\\n",
    "    .rename(columns={\"concept_id\": \"endpoint\"})\n",
    "\n",
    "endpoints_in[\"endpoint\"] = endpoints_in[\"endpoint\"].str.replace(\".\", \"-\")"
   ]
  },
  {
   "cell_type": "code",
   "execution_count": null,
   "metadata": {
    "tags": []
   },
   "outputs": [],
   "source": [
    "endpoints_out = pd.read_feather(f\"{output_path}/baseline_outcomes_long_220627.feather\")#.query(\"eid==@eids_no_prior_records\")\n",
    "endpoints_out"
   ]
  },
  {
   "cell_type": "code",
   "execution_count": null,
   "metadata": {
    "tags": []
   },
   "outputs": [],
   "source": [
    "endpoints_comparison = endpoints_out.merge(endpoints_in[[\"eid\", \"endpoint\", \"event_in\"]], on=[\"eid\",\"endpoint\"], how=\"left\")\n",
    "endpoints_comparison[\"event_in\"] = endpoints_comparison[\"event_in\"].fillna(0).astype(bool)"
   ]
  },
  {
   "cell_type": "code",
   "execution_count": null,
   "metadata": {
    "tags": []
   },
   "outputs": [],
   "source": [
    "endpoints_comparison_clean = endpoints_comparison[[\"eid\", \"endpoint\", \"event_in\", \"event\"]].drop_duplicates().reset_index(drop=True)"
   ]
  },
  {
   "cell_type": "code",
   "execution_count": null,
   "metadata": {
    "tags": []
   },
   "outputs": [],
   "source": [
    "endpoints_comparison_clean.query(\"event==event_in\").sort_values(\"eid\")"
   ]
  },
  {
   "cell_type": "code",
   "execution_count": null,
   "metadata": {
    "tags": []
   },
   "outputs": [],
   "source": [
    "endpoints_comparison_clean.query(\"event!=event_in\").sort_values(\"eid\")"
   ]
  },
  {
   "cell_type": "code",
   "execution_count": null,
   "metadata": {
    "tags": []
   },
   "outputs": [],
   "source": [
    "endpoints_comparison_clean.query(\"event!=event_in\").query(\"event_in==False\").sort_values(\"eid\")"
   ]
  },
  {
   "cell_type": "code",
   "execution_count": null,
   "metadata": {
    "tags": []
   },
   "outputs": [],
   "source": [
    "sanity_check_false = endpoints_comparison_clean.query(\"event!=event_in\").query(\"event_in==False\").sort_values(\"eid\")"
   ]
  },
  {
   "cell_type": "code",
   "execution_count": null,
   "metadata": {
    "tags": []
   },
   "outputs": [],
   "source": [
    "sanity_check_false.eid.nunique()"
   ]
  },
  {
   "cell_type": "code",
   "execution_count": null,
   "metadata": {},
   "outputs": [],
   "source": [
    "sanity_check_false.eid.nunique()"
   ]
  },
  {
   "cell_type": "code",
   "execution_count": null,
   "metadata": {
    "tags": []
   },
   "outputs": [],
   "source": [
    "endpoints_comparison_clean.reset_index(drop=True).to_feather(f\"{experiment_path}/sanity_check_220627.feather\")"
   ]
  },
  {
   "cell_type": "code",
   "execution_count": null,
   "metadata": {},
   "outputs": [],
   "source": [
    "f\"{experiment_path}/sanity_check_220627.feather\""
   ]
  },
  {
   "cell_type": "code",
   "execution_count": null,
   "metadata": {},
   "outputs": [],
   "source": []
  }
 ],
 "metadata": {
  "interpreter": {
   "hash": "7fb005937abf8310e947cacdef9aa24b4c9570846765db425bfb20f46bc066c7"
  },
  "kernelspec": {
   "display_name": "Python [conda env:udm]",
   "language": "python",
   "name": "conda-env-udm-py"
  },
  "language_info": {
   "codemirror_mode": {
    "name": "ipython",
    "version": 3
   },
   "file_extension": ".py",
   "mimetype": "text/x-python",
   "name": "python",
   "nbconvert_exporter": "python",
   "pygments_lexer": "ipython3",
   "version": "3.10.9"
  }
 },
 "nbformat": 4,
 "nbformat_minor": 4
}
