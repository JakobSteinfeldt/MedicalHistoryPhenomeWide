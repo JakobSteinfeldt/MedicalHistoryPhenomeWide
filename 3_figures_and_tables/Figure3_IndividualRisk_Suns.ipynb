{
 "cells": [
  {
   "cell_type": "markdown",
   "metadata": {},
   "source": [
    "## Initialize"
   ]
  },
  {
   "cell_type": "code",
   "execution_count": null,
   "metadata": {
    "ExecuteTime": {
     "end_time": "2021-01-05T11:03:09.852316Z",
     "start_time": "2021-01-05T11:03:07.701Z"
    },
    "tags": []
   },
   "outputs": [],
   "source": [
    "#library(Rmisc)\n",
    "library(dtplyr)\n",
    "library(tidyverse)\n",
    "library(glue)\n",
    "library(arrow)\n",
    "library(patchwork)\n",
    "library(data.table)\n",
    "library(\"jsonlite\")\n",
    "library(ggthemes)"
   ]
  },
  {
   "cell_type": "code",
   "execution_count": null,
   "metadata": {
    "ExecuteTime": {
     "end_time": "2021-01-05T11:03:10.491477Z",
     "start_time": "2021-01-05T11:03:10.445Z"
    },
    "tags": []
   },
   "outputs": [],
   "source": [
    "if (grepl(\"sc\", Sys.info()[[\"nodename\"]], fixed=TRUE)) {\n",
    "    base_path = \"/sc-projects/sc-proj-ukb-cvd\"\n",
    "} else {\n",
    "    base_path = \"/data/analysis/ag-reils/ag-reils-shared/cardioRS\"}\n",
    "print(base_path)\n",
    "\n",
    "project_label=\"22_medical_records\"\n",
    "project_path = glue(\"{base_path}/results/projects/{project_label}\")\n",
    "figure_path = glue(\"{project_path}/figures\")\n",
    "output_path = glue(\"{project_path}/data\")\n",
    "\n",
    "experiment = 220627\n",
    "experiment_path = glue(\"{output_path}/{experiment}\")"
   ]
  },
  {
   "cell_type": "code",
   "execution_count": null,
   "metadata": {
    "tags": []
   },
   "outputs": [],
   "source": [
    "library(data.table)\n",
    "library(arrow)"
   ]
  },
  {
   "cell_type": "code",
   "execution_count": null,
   "metadata": {
    "tags": []
   },
   "outputs": [],
   "source": [
    "endpoints_md = fread(glue(\"{experiment_path}/endpoints.csv\"), colClasses=c(\"phecode\"=\"character\")) %>% as_tibble()\n",
    "endpoints = sort(endpoints_md$endpoint)"
   ]
  },
  {
   "cell_type": "code",
   "execution_count": null,
   "metadata": {},
   "outputs": [],
   "source": [
    "endpoints_md"
   ]
  },
  {
   "cell_type": "code",
   "execution_count": null,
   "metadata": {
    "tags": []
   },
   "outputs": [],
   "source": [
    "endpoint_defs = arrow::read_feather(glue(\"{output_path}/phecode_defs_220306.feather\")) %>% arrange(endpoint)"
   ]
  },
  {
   "cell_type": "code",
   "execution_count": null,
   "metadata": {
    "tags": []
   },
   "outputs": [],
   "source": [
    "endpoint_selection = c(\n",
    "    \n",
    "   'phecode_401', #  \"Hypertension\", # intervention\n",
    "    'phecode_202', #  \"Diabetes mellitus\", # intervention\n",
    "    'phecode_416-21', #  \"Atrial fibrillation\", # intervention\n",
    "    'phecode_468', #  \"Pneumonia\", # intervention\n",
    "    'phecode_474', #  \"Chronic obstructive pulmonary disease [COPD]\", # interventio\n",
    "    'phecode_583', #  \"Chronic kidney disease\", # intervention\n",
    "    \n",
    "    'phecode_404', #  \"Ischemic heart disease\",\n",
    "    'phecode_404-1', #  \"Myocardial infarction [Heart attack]\", # intervention\n",
    "    'phecode_431-11', #  \"Cerebral infarction [Ischemic stroke]\",\n",
    "    'phecode_424', #  \"Heart failure\", # intervention\n",
    "    'phecode_420', #  \"Cardiac arrest\", # intervention\n",
    "    'OMOP_4306655', #  \"All-Cause Death\", # intervention\n",
    "    \n",
    "    'phecode_438-11',   #  \"Abdominal aortic aneurysm\",\n",
    "    'phecode_440-3',#  \"Pulmonary embolism\", # intervention\n",
    "    'phecode_413-21',#  \"Aortic stenosis\", # intervention\n",
    "    'phecode_413-11', #  \"Mitral valve insufficiency\",\n",
    "    'phecode_410-2',#  \"Endocarditis\",\n",
    "    'phecode_400',#  \"Rheumatic fever and chronic rheumatic heart diseases\",\t\n",
    "    \n",
    "    'phecode_164', #  \"Anemia\", # intervention\n",
    "    'phecode_718',  #  \"Back pain\", # intervention\n",
    "    'phecode_324-11', #  \"Parkinson's disease (Primary)\",\n",
    "    'phecode_705-1', #  \"Rheumatoid arthritis\", # NEW + interventio\n",
    "    'phecode_665', #  \"Psoriasis\", # interesting\n",
    "    'phecode_284'#  \"Suicide ideation and attempt or self harm\" # intervention\n",
    ")\n",
    "\n",
    "endpoints_common = c(\n",
    "    'phecode_401', #  \"Hypertension\", # intervention\n",
    "    'phecode_202', #  \"Diabetes mellitus\", # intervention\n",
    "    'phecode_416-21', #  \"Atrial fibrillation\", # intervention\n",
    "    'phecode_468', #  \"Pneumonia\", # intervention\n",
    "    'phecode_474', #  \"Chronic obstructive pulmonary disease [COPD]\", # interventio\n",
    "    'phecode_583', #  \"Chronic kidney disease\", # intervention\n",
    "    \n",
    "    'phecode_404', #  \"Ischemic heart disease\",\n",
    "    'phecode_404-1', #  \"Myocardial infarction [Heart attack]\", # intervention\n",
    "    'phecode_431-11', #  \"Cerebral infarction [Ischemic stroke]\",\n",
    "    'phecode_424', #  \"Heart failure\", # intervention\n",
    "    'phecode_420', #  \"Cardiac arrest\", # intervention\n",
    "    'OMOP_4306655' #  \"All-Cause Death\", # intervention)\n",
    "    )\n",
    "    \n",
    "endpoints_cardio = c(\n",
    "    'phecode_438-11',   #  \"Abdominal aortic aneurysm\",\n",
    "    'phecode_440-3',#  \"Pulmonary embolism\", # intervention\n",
    "    'phecode_413-21',#  \"Aortic stenosis\", # intervention\n",
    "    'phecode_413-11', #  \"Mitral valve insufficiency\",\n",
    "    'phecode_410-2',#  \"Endocarditis\",\n",
    "    'phecode_400'#  \"Rheumatic fever and chronic rheumatic heart diseases\",\t\n",
    ")\n",
    "\n",
    "endpoints_interesting = c(\n",
    "    'phecode_164', #  \"Anemia\", # intervention\n",
    "    'phecode_718',  #  \"Back pain\", # intervention\n",
    "    'phecode_324-11', #  \"Parkinson's disease (Primary)\",\n",
    "    'phecode_705-1', #  \"Rheumatoid arthritis\", # NEW + interventio\n",
    "    'phecode_665', #  \"Psoriasis\", # interesting\n",
    "    'phecode_284'#  \"Suicide ideation and attempt or self harm\" # intervention\n",
    ")\n",
    "\n",
    "endpoint_defs = endpoint_defs %>% \n",
    "    mutate(name = phecode_string) %>%\n",
    "    mutate(name = \n",
    "           case_when( \n",
    "               phecode_string == \"Myocardial infarction [Heart attack]\"~\"Myocardial infarction\",\n",
    "               phecode_string == \"Cerebral infarction [Ischemic stroke]\"~\"Ischemic stroke\",\n",
    "               phecode_string == \"Chronic obstructive pulmonary disease [COPD]\"~\"Chronic obstructive pulmonary disease\",\n",
    "               phecode_string == \"Mitral valve insufficiency\"~\"Mitral insufficiency\",\n",
    "               phecode_string == \"Parkinson's disease (Primary)\"~\"Parkinson's disease\",\n",
    "               phecode_string == \"Suicide ideation and attempt or self harm\"~\"Suicide attempt\",\n",
    "               phecode_string == \"Ischemic heart disease\"~\"Coronary heart disease\",\n",
    "               phecode_string == \"Chronic kidney disease\"~\"Chronic kidney disease\",\n",
    "               phecode_string == \"Rheumatic fever and chronic rheumatic heart diseases\"~\"Rheumatic heart disease\",\n",
    "               phecode_string == \"Abdominal aortic aneurysm\"~\"Abdominal aortic aneurysm\",\n",
    "                  TRUE ~ name)\n",
    "           )\n",
    "            \n",
    "endpoint_map = endpoint_defs$name\n",
    "names(endpoint_map) =  endpoint_defs$endpoint\n",
    "#endpoint_order = (endpoint_defs %>% arrange(as.numeric(phecode)))$endpoint\n",
    "endpoint_order = endpoint_selection"
   ]
  },
  {
   "cell_type": "code",
   "execution_count": null,
   "metadata": {
    "tags": []
   },
   "outputs": [],
   "source": [
    "individualrisks = arrow::read_feather(glue(\"{experiment_path}/coxph/prediction_deltas_individualchange.feather\"))"
   ]
  },
  {
   "cell_type": "code",
   "execution_count": null,
   "metadata": {},
   "outputs": [],
   "source": [
    "individualrisks"
   ]
  },
  {
   "cell_type": "code",
   "execution_count": null,
   "metadata": {
    "tags": []
   },
   "outputs": [],
   "source": [
    "library(scales)"
   ]
  },
  {
   "cell_type": "code",
   "execution_count": null,
   "metadata": {
    "tags": []
   },
   "outputs": [],
   "source": [
    "add.alpha <- function(col, alpha=1){\n",
    "  if(missing(col))\n",
    "    stop(\"Please provide a vector of colours.\")\n",
    "  apply(sapply(col, col2rgb)/255, 2, \n",
    "                     function(x) \n",
    "                       rgb(x[1], x[2], x[3], alpha=alpha))  \n",
    "}"
   ]
  },
  {
   "cell_type": "code",
   "execution_count": null,
   "metadata": {
    "tags": []
   },
   "outputs": [],
   "source": [
    "data_covariates = arrow::read_feather(glue(\"{output_path}/220627/data_covariates_full.feather\"), col_select=c(eid, age, sex))"
   ]
  },
  {
   "cell_type": "code",
   "execution_count": null,
   "metadata": {
    "tags": []
   },
   "outputs": [],
   "source": [
    "plot_individual = function(eid){\n",
    "    \n",
    "    set.seed(125)\n",
    "    library(circlize)\n",
    "    library(wesanderson)\n",
    "\n",
    "    options(repr.plot.width = 8, repr.plot.height = 8, repr.plot.res=320)\n",
    "\n",
    "    #https://www.rdocumentation.org/packages/circlize/versions/0.4.15/topics/CELL_META\n",
    "\n",
    "    endpoint_order = (endpoints_md)$endpoint\n",
    "\n",
    "    categories_for_agg = c(\"Rx\", \"Preg\", \"Stat\", \"Death\", \"Signs/Symptoms\")\n",
    "\n",
    "    endpoints_md_subset = endpoints_md %>% mutate(category = case_when(phecode_category %in% categories_for_agg ~ \"Other\", TRUE ~phecode_category)) #%>% filter(freq>0.01)\n",
    "\n",
    "    categories = (endpoints_md_subset %>% arrange(endpoint) %>% distinct(category))$category\n",
    "    categories = c(categories %>% tail(length(categories)-1), categories %>% head(1), \"Legend\")\n",
    "\n",
    "    df = individualrisks %>% filter(eid==!!eid) %>% \n",
    "        filter(endpoints %in% endpoints_md_subset$endpoint) %>%\n",
    "        left_join(endpoints_md %>% select(endpoint, phecode, phecode_string, phecode_category, sex)) %>% \n",
    "        mutate(endpoint = factor(endpoint, levels=endpoint_order)) %>% ungroup() %>%\n",
    "        mutate(category = case_when(phecode_category %in% categories_for_agg ~ \"Other\", TRUE ~phecode_category)) %>%\n",
    "        mutate(category = factor(category, levels=categories)) %>% group_by(category) %>% \n",
    "        arrange(endpoint) %>% mutate(x = row_number(endpoint)) %>% ungroup() %>%\n",
    "        mutate(prop_rel = case_when(prop_rel<1 ~ 1, TRUE ~prop_rel)) %>%\n",
    "        mutate(rel_alpha = case_when(prop_rel<50 ~ 0.02*prop_rel, TRUE ~ 1)) %>% \n",
    "        mutate(abs_alpha = case_when(`Age+Sex+MedicalHistory`<0.5 ~ `Age+Sex+MedicalHistory`, TRUE ~ 1))  \n",
    "\n",
    "    legend_x2 = round(200*nrow(endpoints_md_subset)/1883)\n",
    "\n",
    "    sectors = df %>% select(category, x) %>% group_by(category) %>% \n",
    "        summarise(x1=min(x), x2=max(x)+1) %>% mutate(xcenter = round(x2/2)) %>% \n",
    "        mutate(gap.after=case_when(category==\"Other\"~1, TRUE ~ 1)) %>%\n",
    "        add_row(category=\"Legend\", x1=1, x2=legend_x2, xcenter=round(legend_x2/2), gap.after=1) %>%\n",
    "        mutate(sep.col=case_when(category==\"Legend\"~\"White\", TRUE ~ add.alpha(\"black\", 0.7))) %>%\n",
    "        mutate(bg.col=case_when(category==\"Legend\"~\"White\", TRUE ~ add.alpha(\"black\", 0.05))) %>%\n",
    "        mutate(accent.col = add.alpha(c(wes_palette(\"Darjeeling1\", 16, type = \"continuous\"), \"White\"), 0.5))\n",
    "    \n",
    "    circos.clear()\n",
    "\n",
    "    circos.par(\"track.height\"=0.2, cell.padding = c(0, 0, 0, 0), gap.degree = 1, track.margin=c(.00,.00), start.degree=74, clock.wise=T, gap.after=sectors$gap.after)\n",
    "\n",
    "    circos.initialize(categories, xlim = sectors %>% select(x1, x2))\n",
    "\n",
    "    df_selection = df %>% filter((prop_rel>2&`Age+Sex+MedicalHistory`>0.1)) #%>% filter(prop_rel>5&`Age+Sex+MedicalHistory`>0.01)  filter(`Age+Sex+MedicalHistory`>0.1)\n",
    "    circos.labels(df_selection$category, x = df_selection$x, \n",
    "                  labels = str_wrap(glue(\"{df_selection$phecode_string} (x{round(df_selection$prop_rel, 1)}, {round(df_selection$`Age+Sex+MedicalHistory`*100, 1)}%)\"), 20), \n",
    "                  side = \"outside\", cex=0.5, niceFacing=TRUE)\n",
    "\n",
    "    circos.par(\"track.height\"=0.01)\n",
    "    circos.track(df$category, x = df$x, ylim=c(0, 1), bg.border = NA, bg.col=sectors$accent.col)\n",
    "\n",
    "    # absolute risk estimates\n",
    "    circos.par(\"track.height\"=0.3)\n",
    "    circos.track(df$category, x = df$x, y = df[[\"Age+Sex+MedicalHistory\"]], ylim=c(0, 0.7), panel.fun = function(x, y) {\n",
    "\n",
    "        # metadata\n",
    "        sector.name = get.cell.meta.data(\"sector.index\")\n",
    "        xcenter = round(get.cell.meta.data(\"xlim\")[\"max.data\"]/2)\n",
    "\n",
    "        # content\n",
    "        alpha = (df %>% filter(category==!!sector.name))$rel_alpha\n",
    "        circos.lines(x, y, lwd=2, col = add.alpha(\"black\", alpha), type=\"h\")\n",
    "        circos.points(x, y, pch = 20, cex = 0.7, col = add.alpha(\"black\", alpha))\n",
    "\n",
    "        #style    \n",
    "        if (sector.name!=\"Legend\"){\n",
    "\n",
    "            circos.text(xcenter, 0.65, sector.name, cex=0.55, facing=\"bending.inside\", niceFacing=TRUE, col=add.alpha(\"black\", 0.7))\n",
    "\n",
    "            for (y in c(0, 0.1, 0.2, 0.3, 0.4, 0.5)){\n",
    "                circos.lines(x, rep(y, length(x)), col=add.alpha(\"black\", 0.1), pch = 20, cex = 0.5)\n",
    "            }\n",
    "        }\n",
    "\n",
    "\n",
    "        if (sector.name==\"Legend\"){\n",
    "            legend_sector = sectors %>% filter(category==\"Legend\")\n",
    "            xs=0:legend_sector$x2\n",
    "\n",
    "            xcenter = round(get.cell.meta.data(\"xlim\")[\"max.data\"]/2)\n",
    "            circos.text(xcenter, 0.65, \"10-year risk\", cex=0.6, facing=\"bending.inside\", niceFacing=TRUE, col=add.alpha(\"black\", 0.7))\n",
    "\n",
    "            for (y in c(0, 0.1, 0.2, 0.3, 0.4, 0.5)){\n",
    "                circos.lines(xs, rep(y, length(xs)), col=add.alpha(\"black\", 0.1), pch = 20, cex = 0.5)\n",
    "                circos.text(xcenter, y+0.04, glue(\"{round(y*100)} %\"), cex=0.4, facing=\"bending.inside\", niceFacing=TRUE, col=add.alpha(\"black\", 0.7))\n",
    "                }\n",
    "        }\n",
    "\n",
    "\n",
    "    }, bg.border = NA, bg.col = sectors$bg.col)\n",
    "\n",
    "    # separation segment\n",
    "    set_track_gap(mm_h(1)) # 2mm\n",
    "\n",
    "    # predisposition\n",
    "    circos.par(\"track.height\"=0.3)\n",
    "    circos.track(df$category, x = df$x, y = log(df[[\"prop_rel\"]]), ylim=c(0, log(20000)), panel.fun = function(x, y) {\n",
    "\n",
    "        # metadata\n",
    "        sector.name = get.cell.meta.data(\"sector.index\")\n",
    "        xcenter = round(get.cell.meta.data(\"xlim\")[\"max.data\"]/2)\n",
    "\n",
    "        # content\n",
    "        alpha = (df %>% filter(category==!!sector.name))$rel_alpha\n",
    "        circos.lines(x, y, lwd=2, col = add.alpha(\"black\", alpha), type=\"h\")\n",
    "        circos.points(x, y, pch = 20, cex = 0.7, col = add.alpha(\"black\", alpha))\n",
    "\n",
    "\n",
    "        # style   \n",
    "        if (sector.name!=\"Legend\"){\n",
    "            for (y in c(log(1), log(10), log(100), log(1000))){\n",
    "                circos.lines(x, rep(y, length(x)), col=add.alpha(\"black\", 0.1), pch = 20, cex = 0.5)\n",
    "                }\n",
    "            }\n",
    "        else{\n",
    "            circos.text(xcenter, log(8000), \"Predisposition\", cex=0.6, facing=\"bending.inside\", niceFacing=TRUE, col=add.alpha(\"black\", 0.7))\n",
    "            for (y in c(log(1), log(10), log(100), log(1000))){\n",
    "                xs=0:(sectors %>% filter(category==\"Legend\"))$x2\n",
    "                circos.lines(xs, rep(y, length(xs)), col=add.alpha(\"black\", 0.1), pch = 20, cex = 0.5)\n",
    "\n",
    "                if (y==log(1)){label=\"x1\"}\n",
    "                if (y>log(1)){label=glue(\"x{round(exp(y))}\")}\n",
    "\n",
    "                circos.text(xcenter, log(exp(y)*2), label, cex=0.4, facing=\"bending.inside\", niceFacing=TRUE, col=add.alpha(\"black\", 0.7))\n",
    "                }\n",
    "            }\n",
    "\n",
    "\n",
    "    }, bg.border = NA, bg.col = sectors$bg.col)\n",
    "}"
   ]
  },
  {
   "cell_type": "code",
   "execution_count": null,
   "metadata": {
    "tags": []
   },
   "outputs": [],
   "source": [
    "# get medical history for the record\n",
    "\n",
    "# main figure\n",
    "#eid = XXXXX # main figure #XXXXX #XXXXX #ischemic heart disease\n",
    "\n",
    "### Supplement 2 - actionable and preventable - stop development\n",
    "#eid = XXXXX # all-cause death\n",
    "#eid = XXXXX # suicide\n",
    "\n",
    "### Supplement 3 - actionable and treatable -> slower progress\n",
    "#eid = XXXXX # aortic stenosis and mitral insufficiencies\n",
    "eid = XXXXX # anemia\n",
    "\n",
    "\n",
    "\n",
    "# Figure 4 - actionable cardiovascular endpoints\n",
    "#eid = XXXXX # ischemic heart disease\n",
    "\n",
    "\n",
    "### actionable and treatable -> slower progress\n",
    "# eid = XXXXX # hepatitis\n",
    "#eid = XXXXX #  sepsis\n",
    " #eid = XXXXX #XXXXX # heart failure\n",
    "# eid = XXXXX # backpain\n",
    "# eid = XXXXX # COPD\n",
    "# eid = XXXXX # Psoriasis\n",
    "# eid = XXXXX # rheumatoid arthritis\n",
    "#eid = XXXXX # anemia\n",
    "#eid = XXXXX # back pain\n",
    "\n",
    "### not medically actionable, no treatment but otherwise \n",
    "\n",
    "print(data_covariates %>% select(eid, age, sex) %>% filter(eid == !!eid))\n",
    "plot_individual(eid)\n",
    "\n",
    "# eid = XXXXX # individual is very sick\t# cardiac arrest # "
   ]
  },
  {
   "cell_type": "code",
   "execution_count": null,
   "metadata": {},
   "outputs": [],
   "source": [
    "eid = XXXXX\n",
    "pdf(glue(\"outputs/Figure3d_Individual_{eid}.pdf\"), width=8, height=8)\n",
    "plot_individual(eid)\n",
    "dev.off()"
   ]
  },
  {
   "cell_type": "code",
   "execution_count": null,
   "metadata": {},
   "outputs": [],
   "source": [
    "eid = XXXXX\n",
    "pdf(glue(\"outputs/SupplFigure2a_Individual_{eid}.pdf\"), width=8, height=8)\n",
    "plot_individual(eid)\n",
    "dev.off()"
   ]
  },
  {
   "cell_type": "code",
   "execution_count": null,
   "metadata": {},
   "outputs": [],
   "source": [
    "eid = XXXXX\n",
    "pdf(glue(\"outputs/SupplFigure2b_Individual_{eid}.pdf\"), width=8, height=8)\n",
    "plot_individual(eid)\n",
    "dev.off()"
   ]
  },
  {
   "cell_type": "code",
   "execution_count": null,
   "metadata": {},
   "outputs": [],
   "source": [
    "eid = XXXXX\n",
    "pdf(glue(\"outputs/SupplFigure3a_Individual_{eid}.pdf\"), width=8, height=8)\n",
    "plot_individual(eid)\n",
    "dev.off()"
   ]
  },
  {
   "cell_type": "code",
   "execution_count": null,
   "metadata": {
    "tags": []
   },
   "outputs": [],
   "source": [
    "eid = XXXXX\n",
    "pdf(glue(\"outputs/SupplFigure3b_Individual_{eid}.pdf\"), width=8, height=8)\n",
    "plot_individual(eid)\n",
    "dev.off()"
   ]
  }
 ],
 "metadata": {
  "hide_input": false,
  "kernelspec": {
   "display_name": "R [conda env:r_env]",
   "language": "R",
   "name": "conda-env-r_env-r"
  },
  "language_info": {
   "codemirror_mode": "r",
   "file_extension": ".r",
   "mimetype": "text/x-r-source",
   "name": "R",
   "pygments_lexer": "r",
   "version": "4.0.2"
  },
  "toc-autonumbering": false
 },
 "nbformat": 4,
 "nbformat_minor": 4
}