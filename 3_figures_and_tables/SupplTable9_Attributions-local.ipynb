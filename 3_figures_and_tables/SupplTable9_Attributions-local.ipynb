{
 "cells": [
  {
   "cell_type": "markdown",
   "metadata": {},
   "source": [
    "# Benchmarks"
   ]
  },
  {
   "cell_type": "markdown",
   "metadata": {},
   "source": [
    "## Initialize"
   ]
  },
  {
   "cell_type": "code",
   "execution_count": null,
   "metadata": {
    "ExecuteTime": {
     "end_time": "2021-01-05T11:03:09.852316Z",
     "start_time": "2021-01-05T11:03:07.701Z"
    },
    "execution": {
     "iopub.execute_input": "2023-05-10T13:53:53.896938Z",
     "iopub.status.busy": "2023-05-10T13:53:53.894811Z",
     "iopub.status.idle": "2023-05-10T13:53:57.832118Z",
     "shell.execute_reply": "2023-05-10T13:53:57.830414Z"
    },
    "tags": []
   },
   "outputs": [],
   "source": [
    "#library(Rmisc)\n",
    "library(dtplyr)\n",
    "library(tidyverse)\n",
    "library(glue)\n",
    "library(arrow)\n",
    "library(patchwork)\n",
    "library(data.table)\n",
    "library(\"jsonlite\")\n",
    "library(ggthemes)"
   ]
  },
  {
   "cell_type": "code",
   "execution_count": null,
   "metadata": {
    "ExecuteTime": {
     "end_time": "2021-01-05T11:03:10.491477Z",
     "start_time": "2021-01-05T11:03:10.445Z"
    },
    "execution": {
     "iopub.execute_input": "2023-05-10T13:53:57.868504Z",
     "iopub.status.busy": "2023-05-10T13:53:57.833976Z",
     "iopub.status.idle": "2023-05-10T13:53:57.887507Z",
     "shell.execute_reply": "2023-05-10T13:53:57.886394Z"
    },
    "tags": []
   },
   "outputs": [],
   "source": [
    "if (grepl(\"sc\", Sys.info()[[\"nodename\"]], fixed=TRUE)) {\n",
    "    base_path = \"/sc-projects/sc-proj-ukb-cvd\"\n",
    "} else {\n",
    "    base_path = \"/data/analysis/ag-reils/ag-reils-shared/cardioRS\"}\n",
    "print(base_path)\n",
    "\n",
    "project_label=\"22_medical_records\"\n",
    "project_path = glue(\"{base_path}/results/projects/{project_label}\")\n",
    "figure_path = glue(\"{project_path}/figures\")\n",
    "output_path = glue(\"{project_path}/data\")\n",
    "\n",
    "experiment = 220627\n",
    "experiment_path = glue(\"{output_path}/{experiment}\")"
   ]
  },
  {
   "cell_type": "code",
   "execution_count": null,
   "metadata": {
    "execution": {
     "iopub.execute_input": "2023-05-10T13:53:57.890019Z",
     "iopub.status.busy": "2023-05-10T13:53:57.889110Z",
     "iopub.status.idle": "2023-05-10T13:53:57.904276Z",
     "shell.execute_reply": "2023-05-10T13:53:57.903084Z"
    },
    "tags": []
   },
   "outputs": [],
   "source": [
    "base_size = 8\n",
    "title_size = 10\n",
    "facet_size = 10\n",
    "geom_text_size=3\n",
    "theme_set(theme_classic(base_size = base_size) + \n",
    "          theme(strip.background = element_blank(), plot.title=element_text(size=title_size, hjust=0), \n",
    "                strip.text.x = element_text(size = facet_size),axis.title=element_text(size=10), axis.text=element_text(size=8, color=\"black\"),\n",
    "                legend.position=\"bottom\", axis.line = element_line(size = 0.2), axis.ticks=element_line(size=0.2), panel.grid.major=element_line()))"
   ]
  },
  {
   "cell_type": "code",
   "execution_count": null,
   "metadata": {
    "execution": {
     "iopub.execute_input": "2023-05-10T13:53:57.906892Z",
     "iopub.status.busy": "2023-05-10T13:53:57.905906Z",
     "iopub.status.idle": "2023-05-10T13:53:57.913677Z",
     "shell.execute_reply": "2023-05-10T13:53:57.912620Z"
    },
    "tags": []
   },
   "outputs": [],
   "source": [
    "library(arrow)"
   ]
  },
  {
   "cell_type": "markdown",
   "metadata": {},
   "source": [
    "## Load Data"
   ]
  },
  {
   "cell_type": "code",
   "execution_count": null,
   "metadata": {
    "execution": {
     "iopub.execute_input": "2023-05-10T13:53:57.915986Z",
     "iopub.status.busy": "2023-05-10T13:53:57.915125Z",
     "iopub.status.idle": "2023-05-10T13:53:59.394451Z",
     "shell.execute_reply": "2023-05-10T13:53:59.392443Z"
    },
    "tags": []
   },
   "outputs": [],
   "source": [
    "endpoint_defs = arrow::read_feather(glue(\"{output_path}/phecode_defs_220306.feather\")) %>% arrange(endpoint)"
   ]
  },
  {
   "cell_type": "code",
   "execution_count": null,
   "metadata": {
    "execution": {
     "iopub.execute_input": "2023-05-10T13:54:02.998741Z",
     "iopub.status.busy": "2023-05-10T13:54:02.996985Z",
     "iopub.status.idle": "2023-05-10T13:54:14.828393Z",
     "shell.execute_reply": "2023-05-10T13:54:14.825646Z"
    },
    "tags": []
   },
   "outputs": [],
   "source": [
    "data_attrib_md = arrow::read_feather('/sc-projects/sc-proj-ukb-cvd/results/projects/22_medical_records/data/220627/attributions_prepared.feather')"
   ]
  },
  {
   "cell_type": "code",
   "execution_count": null,
   "metadata": {
    "execution": {
     "iopub.execute_input": "2023-05-10T13:54:32.802490Z",
     "iopub.status.busy": "2023-05-10T13:54:32.801462Z",
     "iopub.status.idle": "2023-05-10T13:54:33.636507Z",
     "shell.execute_reply": "2023-05-10T13:54:33.635489Z"
    },
    "tags": []
   },
   "outputs": [],
   "source": [
    "data_attrib_md %>% distinct(eid)"
   ]
  },
  {
   "cell_type": "code",
   "execution_count": null,
   "metadata": {
    "tags": []
   },
   "outputs": [],
   "source": [
    "endpoint_selection = unique(data_attrib_md$endpoint)"
   ]
  },
  {
   "cell_type": "code",
   "execution_count": null,
   "metadata": {
    "tags": []
   },
   "outputs": [],
   "source": [
    "endpoint_defs = endpoint_defs %>% \n",
    "    mutate(name = phecode_string) %>% \n",
    "    mutate(name = \n",
    "           case_when( \n",
    "               endpoint == \"phecode_008\"~\"H. pylori\", \n",
    "               endpoint == \"phecode_092-2\"~\"Sepsis\", \n",
    "               endpoint == \"phecode_105\"~\"Breast cancer\", \n",
    "                endpoint == \"phecode_107-2\"~\"Prostate cancer\", \n",
    "               endpoint == \"phecode_123\"~\"Malignant plasma cell neoplasms\", \n",
    "               endpoint == \"phecode_164\"~\"Anemia\", \n",
    "               endpoint == \"phecode_200-1\"~\"Hypothyroidism\", \n",
    "               endpoint == \"phecode_232\"~\"Vitamin deficiencies\", \n",
    "               endpoint == \"phecode_284\"~\"Suicide attempt or self harm\", \n",
    "               #endpoint == \"phecode_287-5\"~\"Drug-induced psychosis\", \n",
    "               endpoint == \"phecode_324-11\"~\"Parkinson's\",\n",
    "               endpoint == \"phecode_328\"~\"Dementia\", \n",
    "               #endpoint == \"phecode_404\"~\"Coronary heart disease\", \n",
    "               endpoint == \"phecode_424\"~\"Heart failure\", \n",
    "               endpoint == \"phecode_440-11\"~\"Deep vein thrombosis\", \n",
    "               endpoint == \"phecode_468\"~\"Pneumonia\", \n",
    "               endpoint == \"phecode_474\"~\"COPD\", \n",
    "               endpoint == \"phecode_518\"~\"Appendicitis\", \n",
    "               endpoint == \"phecode_542-1\"~\"Fibrosis and cirrhosis of liver\", \n",
    "               endpoint == \"phecode_583\"~\"Chronic kidney disease\", \n",
    "               endpoint == \"phecode_705-1\"~\"Rheumatoid arthritis\", \n",
    "               endpoint == \"phecode_908-1\"~\"(Pre)eclampsia\", \n",
    "               #endpoint == \"phecode_976\"~\"Complication of anesthesia\",\n",
    "               TRUE ~ name)\n",
    "           )\n",
    "endpoint_map = endpoint_defs$name\n",
    "names(endpoint_map) =  endpoint_defs$endpoint\n",
    "endpoint_order = (endpoint_defs %>% arrange(as.numeric(phecode)))$endpoint"
   ]
  },
  {
   "cell_type": "code",
   "execution_count": null,
   "metadata": {
    "tags": []
   },
   "outputs": [],
   "source": [
    "#data_attrib_md %>% filter(str_detect(concept_name, \"Psoriasis\"))"
   ]
  },
  {
   "cell_type": "markdown",
   "metadata": {},
   "source": [
    "## Verify link between attributions and outcomes"
   ]
  },
  {
   "cell_type": "markdown",
   "metadata": {},
   "source": [
    "## Local"
   ]
  },
  {
   "cell_type": "code",
   "execution_count": null,
   "metadata": {
    "tags": []
   },
   "outputs": [],
   "source": [
    "data_attrib_md_agg = data_attrib_md %>% #filter(eligable==1) %>% \n",
    "    group_by(endpoint, record, concept_name, n_records, n_events_record, freq_events_record, eligable) %>% \n",
    "    summarise(n_shapley=n(), mean_shapley = mean(shapley, na.rm=TRUE), sum_shapley = sum(shapley, na.rm=TRUE)) %>% \n",
    "    ungroup() %>% select(endpoint, record, concept_name, eligable, freq_events_record, n_shapley, mean_shapley, sum_shapley)"
   ]
  },
  {
   "cell_type": "code",
   "execution_count": null,
   "metadata": {
    "tags": []
   },
   "outputs": [],
   "source": [
    "data_attrib_md_agg %>% arrange(endpoint, record, eligable) #%>% mutate(%>% filter(n_shapley>100)"
   ]
  },
  {
   "cell_type": "code",
   "execution_count": null,
   "metadata": {
    "tags": []
   },
   "outputs": [],
   "source": [
    "library(ggpubr)"
   ]
  },
  {
   "cell_type": "code",
   "execution_count": null,
   "metadata": {
    "tags": []
   },
   "outputs": [],
   "source": [
    "plot_width = 15; plot_height=6; plot_res = 320\n",
    "options(repr.plot.width = plot_width, repr.plot.height = plot_height, repr.plot.res=plot_res)\n",
    "#temp_rank = event_rest %>% filter(features==\"Metabolomics\") %>% arrange(desc(MET10PercvsREST))\n",
    "endpoint_order = (endpoint_defs %>% mutate(phecode_rank = as.numeric(phecode)) %>% arrange(phecode_rank) %>% as_tibble())$endpoint\n",
    "temp = data_attrib_md_agg %>% mutate(endpoint = factor(endpoint, levels=endpoint_order)) %>% filter(endpoint %in% endpoint_selection) %>% ungroup() #%>%\n",
    "    #filter(n_records > 100) #%>% sample_n(10000)\n",
    "\n",
    "attrib_plot = ggplot(temp, aes(x=mean_shapley, y=freq_events_record)) + \n",
    "    labs(title=NULL, x=\"Shapley Value\", y=\"Incident Events (%)\") +\n",
    "    geom_point(alpha=0.7, size=0.3) + \n",
    "    geom_smooth(method=\"lm\") + \n",
    "    coord_cartesian(ylim=c(0, NA))+\n",
    "    #scale_colour_gradient(low = \"#7AC6FF\", high = \"#023768\", space = \"Lab\", na.value = \"grey50\", guide = \"colourbar\", aesthetics = \"colour\")+\n",
    "    #s#cale_y_continuous(limits=c(0, NA), expand=expansion(mult=c(0, .05)))+#, limits=c(0, NA))+\n",
    "    #scale_x_continuous(expand=expansion(add=c(0, 1)))+\n",
    "    facet_wrap(~endpoint, scale=\"free\", labeller = labeller(endpoint = as_labeller(endpoint_map, default=label_wrap_gen(20))), ncol=8) + \n",
    "    theme(legend.position=\"none\") #+ \n",
    "    #stat_cor(method = \"pearson\")\n",
    "attrib_plot"
   ]
  },
  {
   "cell_type": "code",
   "execution_count": null,
   "metadata": {
    "tags": []
   },
   "outputs": [],
   "source": [
    "plot_width = 15; plot_height=6; plot_res = 320\n",
    "options(repr.plot.width = plot_width, repr.plot.height = plot_height, repr.plot.res=plot_res)\n",
    "#temp_rank = event_rest %>% filter(features==\"Metabolomics\") %>% arrange(desc(MET10PercvsREST))\n",
    "endpoint_order = (endpoint_defs %>% mutate(phecode_rank = as.numeric(phecode)) %>% arrange(phecode_rank) %>% as_tibble())$endpoint\n",
    "temp = data_attrib_md_agg %>% mutate(endpoint = factor(endpoint, levels=endpoint_order)) %>% filter(endpoint %in% endpoint_selection) %>% ungroup() #%>%\n",
    "    #filter(n_records > 100) #%>% sample_n(10000)\n",
    "\n",
    "attrib_plot = ggplot(temp, aes(x=sum_shapley, y=freq_events_record)) + \n",
    "    labs(title=NULL, x=\"Shapley Value\", y=\"Incident Events (%)\") +\n",
    "    geom_point(alpha=0.7, size=0.3) + \n",
    "    geom_smooth(method=\"lm\") + \n",
    "    coord_cartesian(ylim=c(0, NA))+\n",
    "    #scale_colour_gradient(low = \"#7AC6FF\", high = \"#023768\", space = \"Lab\", na.value = \"grey50\", guide = \"colourbar\", aesthetics = \"colour\")+\n",
    "    #s#cale_y_continuous(limits=c(0, NA), expand=expansion(mult=c(0, .05)))+#, limits=c(0, NA))+\n",
    "    #scale_x_continuous(expand=expansion(add=c(0, 1)))+\n",
    "    facet_wrap(~endpoint, scale=\"free\", labeller = labeller(endpoint = as_labeller(endpoint_map, default=label_wrap_gen(20))), ncol=8) + \n",
    "    theme(legend.position=\"none\") #+ \n",
    "    #stat_cor(method = \"pearson\")\n",
    "attrib_plot"
   ]
  },
  {
   "cell_type": "code",
   "execution_count": null,
   "metadata": {
    "tags": []
   },
   "outputs": [],
   "source": [
    "attribution_summary = temp %>% mutate(endpoint = recode(endpoint, !!!endpoint_map)) %>% \n",
    "    mutate(setting = case_when(eligable==1 ~ factor(\"2_noprior\", levels=c(\"1_prior\", \"2_noprior\")), eligable==0 ~ factor(\"1_prior\", levels=c(\"1_prior\", \"2_noprior\")))) %>%\n",
    "    select(record, concept_name,  endpoint, setting, n_shapley, mean_shapley, sum_shapley) %>% \n",
    "    rename(`1_n_shapley` = `n_shapley`, `2_mean_shapley` = `mean_shapley`, `3_sum_shapley` = `sum_shapley`) %>%\n",
    "    pivot_wider(names_from=c(\"endpoint\", \"setting\"),values_from=c(\"1_n_shapley\", \"2_mean_shapley\", \"3_sum_shapley\"), \n",
    "                names_glue = \"{endpoint}\\n{setting}\\n{.value}\", names_sort=TRUE) %>% \n",
    "    select(record, concept_name, sort(current_vars()))\n",
    "    #arrange(desc(`All-Cause Death`))"
   ]
  },
  {
   "cell_type": "code",
   "execution_count": null,
   "metadata": {
    "tags": []
   },
   "outputs": [],
   "source": [
    "attribution_summary"
   ]
  },
  {
   "cell_type": "code",
   "execution_count": null,
   "metadata": {
    "tags": []
   },
   "outputs": [],
   "source": [
    "attribution_summary %>% write_csv(\"outputs/attributions_detail_all.csv\")"
   ]
  },
  {
   "cell_type": "markdown",
   "metadata": {},
   "source": [
    "# Very restricted"
   ]
  },
  {
   "cell_type": "code",
   "execution_count": null,
   "metadata": {
    "tags": []
   },
   "outputs": [],
   "source": [
    "attribution_summary = temp %>% mutate(endpoint = recode(endpoint, !!!endpoint_map)) %>% \n",
    "    filter(n_shapley>=16) %>%\n",
    "    mutate(setting = case_when(eligable==1 ~ factor(\"2_noprior\", levels=c(\"1_prior\", \"2_noprior\")), eligable==0 ~ factor(\"1_prior\", levels=c(\"1_prior\", \"2_noprior\")))) %>%\n",
    "    select(record, concept_name,  endpoint, setting, n_shapley, mean_shapley, sum_shapley) %>% \n",
    "    rename(`1_n_shapley` = `n_shapley`, `2_mean_shapley` = `mean_shapley`, `3_sum_shapley` = `sum_shapley`) %>%\n",
    "    pivot_wider(names_from=c(\"endpoint\", \"setting\"),values_from=c(\"1_n_shapley\", \"2_mean_shapley\", \"3_sum_shapley\"), \n",
    "                names_glue = \"{endpoint}\\n{setting}\\n{.value}\", names_sort=TRUE) %>% \n",
    "    select(record, concept_name, sort(current_vars()))\n",
    "    #arrange(desc(`All-Cause Death`))"
   ]
  },
  {
   "cell_type": "code",
   "execution_count": null,
   "metadata": {},
   "outputs": [],
   "source": [
    "attribution_summary"
   ]
  },
  {
   "cell_type": "code",
   "execution_count": null,
   "metadata": {
    "tags": []
   },
   "outputs": [],
   "source": [
    "attribution_summary %>% write_csv(\"outputs/attributions_detail_all_restricted.csv\")"
   ]
  },
  {
   "cell_type": "code",
   "execution_count": null,
   "metadata": {
    "tags": []
   },
   "outputs": [],
   "source": [
    "attribution_summary %>% write_csv(\"outputs/attributions_detail_all.csv\")"
   ]
  },
  {
   "cell_type": "code",
   "execution_count": null,
   "metadata": {},
   "outputs": [],
   "source": [
    "attribution_local #%>% write_csv(\"outputs/attributions_detail.csv\")"
   ]
  },
  {
   "cell_type": "code",
   "execution_count": null,
   "metadata": {
    "tags": []
   },
   "outputs": [],
   "source": [
    "top10_long = temp %>% mutate(endpoint = recode(endpoint, !!!endpoint_map)) %>% group_by(endpoint) %>% slice_max(mean_shapley, n=10) %>% mutate(rank=row_number()) %>% ungroup() "
   ]
  },
  {
   "cell_type": "code",
   "execution_count": null,
   "metadata": {
    "tags": []
   },
   "outputs": [],
   "source": [
    "t(top10_long %>% select(endpoint, concept_name, rank) %>% pivot_wider(names_from=\"rank\",values_from=\"concept_name\")) %>% as.data.frame() %>% write_csv(\"outputs/attributions_local_overview.csv\")"
   ]
  },
  {
   "cell_type": "code",
   "execution_count": null,
   "metadata": {
    "tags": []
   },
   "outputs": [],
   "source": [
    "top10_long %>% select(endpoint, concept_name) %>% pivot_wider(names_from=\"concept_name\")"
   ]
  },
  {
   "cell_type": "code",
   "execution_count": null,
   "metadata": {
    "tags": []
   },
   "outputs": [],
   "source": [
    "temp %>% mutate(endpoint = recode(endpoint, !!!endpoint_map)) %>% filter(endpoint==\"Heart failure\") %>% arrange(mean_shapley)"
   ]
  },
  {
   "cell_type": "markdown",
   "metadata": {},
   "source": [
    "## Global"
   ]
  },
  {
   "cell_type": "code",
   "execution_count": null,
   "metadata": {
    "tags": []
   },
   "outputs": [],
   "source": [
    "data_attrib_md_agg = data_attrib_md %>% filter(eligable==1) %>% group_by(endpoint, record, concept_name, n_records, n_events_record, freq_events_record) %>% summarise(sum_shapley = sum(shapley, na.rm=TRUE)) %>% ungroup()"
   ]
  },
  {
   "cell_type": "code",
   "execution_count": null,
   "metadata": {
    "tags": []
   },
   "outputs": [],
   "source": [
    "library(ggpubr)"
   ]
  },
  {
   "cell_type": "code",
   "execution_count": null,
   "metadata": {
    "tags": []
   },
   "outputs": [],
   "source": [
    "plot_width = 15; plot_height=6; plot_res = 320\n",
    "options(repr.plot.width = plot_width, repr.plot.height = plot_height, repr.plot.res=plot_res)\n",
    "#temp_rank = event_rest %>% filter(features==\"Metabolomics\") %>% arrange(desc(MET10PercvsREST))\n",
    "endpoint_order = (endpoint_defs %>% mutate(phecode_rank = as.numeric(phecode)) %>% arrange(phecode_rank) %>% as_tibble())$endpoint\n",
    "temp = data_attrib_md_agg %>% mutate(endpoint = factor(endpoint, levels=endpoint_order)) %>% filter(endpoint %in% endpoint_selection) %>% ungroup() #%>%\n",
    "    #filter(n_records > 100) #%>% sample_n(10000)\n",
    "\n",
    "attrib_plot = ggplot(temp, aes(x=sum_shapley, y=freq_events_record)) + \n",
    "    labs(title=NULL, x=\"Shapley Value\", y=\"Incident Events (%)\") +\n",
    "    geom_point(alpha=0.7, size=0.3) + \n",
    "    geom_smooth(method=\"lm\") + \n",
    "    coord_cartesian(ylim=c(0, NA))+\n",
    "    #scale_colour_gradient(low = \"#7AC6FF\", high = \"#023768\", space = \"Lab\", na.value = \"grey50\", guide = \"colourbar\", aesthetics = \"colour\")+\n",
    "    #s#cale_y_continuous(limits=c(0, NA), expand=expansion(mult=c(0, .05)))+#, limits=c(0, NA))+\n",
    "    #scale_x_continuous(expand=expansion(add=c(0, 1)))+\n",
    "    facet_wrap(~endpoint, scale=\"free\", labeller = labeller(endpoint = as_labeller(endpoint_map, default=label_wrap_gen(20))), ncol=8) + \n",
    "    theme(legend.position=\"none\") #+ \n",
    "    #stat_cor(method = \"pearson\")\n",
    "attrib_plot"
   ]
  },
  {
   "cell_type": "code",
   "execution_count": null,
   "metadata": {
    "tags": []
   },
   "outputs": [],
   "source": [
    "temp %>% mutate(endpoint = recode(endpoint, !!!endpoint_map)) %>% \n",
    "    left_join(temp %>% group_by(record) %>% summarise(mean_n_records = mean(n_records), mean_freq_records = mean(n_records/500000)), by=\"record\") %>% \n",
    "    select(record, concept_name, mean_n_records, mean_freq_records, endpoint, sum_shapley) %>% pivot_wider(names_from=\"endpoint\",values_from=\"sum_shapley\") %>% arrange(desc(`All-Cause Death`)) %>%\n",
    "    write_csv(\"outputs/attributions_global_detail.csv\")"
   ]
  },
  {
   "cell_type": "code",
   "execution_count": null,
   "metadata": {
    "tags": []
   },
   "outputs": [],
   "source": [
    "top10_long = temp %>% mutate(endpoint = recode(endpoint, !!!endpoint_map)) %>% group_by(endpoint) %>% slice_max(sum_shapley, n=10) %>% mutate(rank=row_number()) %>% ungroup() "
   ]
  },
  {
   "cell_type": "code",
   "execution_count": null,
   "metadata": {
    "tags": []
   },
   "outputs": [],
   "source": [
    "t(top10_long %>% select(endpoint, concept_name, rank) %>% pivot_wider(names_from=\"rank\",values_from=\"concept_name\")) %>% as.data.frame() %>% write_csv(\"outputs/attributions_global_overview.csv\")"
   ]
  },
  {
   "cell_type": "code",
   "execution_count": null,
   "metadata": {
    "tags": []
   },
   "outputs": [],
   "source": [
    "top10_long %>% select(endpoint, concept_name) %>% pivot_wider(names_from=\"concept_name\")"
   ]
  },
  {
   "cell_type": "code",
   "execution_count": null,
   "metadata": {
    "tags": []
   },
   "outputs": [],
   "source": [
    "temp %>% mutate(endpoint = recode(endpoint, !!!endpoint_map)) %>% filter(endpoint==\"Heart failure\") %>% arrange(sum_shapley)"
   ]
  },
  {
   "cell_type": "markdown",
   "metadata": {},
   "source": [
    "## Get Individual Attributions"
   ]
  },
  {
   "cell_type": "code",
   "execution_count": null,
   "metadata": {
    "tags": []
   },
   "outputs": [],
   "source": [
    "plot_width = 10; plot_height=4; plot_res = 320\n",
    "options(repr.plot.width = plot_width, repr.plot.height = plot_height, repr.plot.res=plot_res)\n",
    "\n",
    "endpoint = \"phecode_424\"\n",
    "eid = (data_attrib_md %>% filter(endpoint == !!endpoint) %>% sample_n(1))[[\"eid\"]]\n",
    "print(eid)\n",
    "#1487118 is nice!\n",
    "\n",
    "temp_ind = data_attrib_md %>% filter(eid == !!eid) %>% filter(endpoint == !!endpoint) %>% mutate(concept_name = fct_reorder(concept_name, shapley)) %>% slice_max(abs(shapley), n=20)\n",
    "\n",
    "ggplot(temp_ind, aes(x=concept_name, y=shapley, color=shapley<0)) + \n",
    "    labs(y=\"SHAPLEY\", x=\"Record\") + \n",
    "    geom_point() + \n",
    "    geom_segment(aes(xend=concept_name, y=0, yend=shapley)) + coord_flip() + \n",
    "    scale_x_discrete(labels = function(x) str_wrap(x, width = 40))"
   ]
  },
  {
   "cell_type": "markdown",
   "metadata": {},
   "source": [
    "## Create sets for ablations"
   ]
  },
  {
   "cell_type": "code",
   "execution_count": null,
   "metadata": {
    "tags": []
   },
   "outputs": [],
   "source": [
    "length(unique(data_attrib_md_agg$record))"
   ]
  },
  {
   "cell_type": "code",
   "execution_count": null,
   "metadata": {
    "tags": []
   },
   "outputs": [],
   "source": [
    "data_attrib_md_agg %>% group_by()"
   ]
  },
  {
   "cell_type": "code",
   "execution_count": null,
   "metadata": {},
   "outputs": [],
   "source": []
  },
  {
   "cell_type": "code",
   "execution_count": null,
   "metadata": {},
   "outputs": [],
   "source": []
  },
  {
   "cell_type": "code",
   "execution_count": null,
   "metadata": {},
   "outputs": [],
   "source": []
  },
  {
   "cell_type": "code",
   "execution_count": null,
   "metadata": {
    "tags": []
   },
   "outputs": [],
   "source": [
    "plot_width = 15; plot_height=12; plot_res = 320\n",
    "options(repr.plot.width = plot_width, repr.plot.height = plot_height, repr.plot.res=plot_res)\n",
    "#temp_rank = event_rest %>% filter(features==\"Metabolomics\") %>% arrange(desc(MET10PercvsREST))\n",
    "endpoint_order = (endpoint_defs %>% mutate(phecode_rank = as.numeric(phecode)) %>% arrange(phecode_rank) %>% as_tibble())$endpoint\n",
    "temp = data_attrib_md %>% mutate(endpoint = factor(endpoint, levels=endpoint_order)) %>% filter(endpoint %in% endpoint_selection) %>% ungroup() #%>% sample_n(10000)\n",
    "\n",
    "attrib_plot = ggplot(temp, aes(x=shap, y=freq_events_record)) + \n",
    "    labs(title=NULL, x=\"SHAP\", y=\"Incident Events (%)\") +\n",
    "    geom_point(alpha=0.7, size=0.3) + \n",
    "    geom_smooth(method=\"gam\") + \n",
    "    #scale_colour_gradient(low = \"#7AC6FF\", high = \"#023768\", space = \"Lab\", na.value = \"grey50\", guide = \"colourbar\", aesthetics = \"colour\")+\n",
    "    #s#cale_y_continuous(limits=c(0, NA), expand=expansion(mult=c(0, .05)))+#, limits=c(0, NA))+\n",
    "    #scale_x_continuous(expand=expansion(add=c(0, 1)))+\n",
    "    facet_wrap(~endpoint, scale=\"free\", labeller = labeller(endpoint = as_labeller(endpoint_map, default=label_wrap_gen(20))), ncol=6) + \n",
    "    theme(legend.position=\"none\")\n",
    "attrib_plot"
   ]
  },
  {
   "cell_type": "code",
   "execution_count": null,
   "metadata": {},
   "outputs": [],
   "source": [
    "plot_width = 15; plot_height=12; plot_res = 320\n",
    "options(repr.plot.width = plot_width, repr.plot.height = plot_height, repr.plot.res=plot_res)\n",
    "#temp_rank = event_rest %>% filter(features==\"Metabolomics\") %>% arrange(desc(MET10PercvsREST))\n",
    "endpoint_order = (endpoint_defs %>% mutate(phecode_rank = as.numeric(phecode)) %>% arrange(phecode_rank) %>% as_tibble())$endpoint\n",
    "temp = data_attrib_md %>% mutate(endpoint = factor(endpoint, levels=endpoint_order)) %>% filter(endpoint %in% endpoint_selection) %>% ungroup() #%>% sample_n(10000)\n",
    "\n",
    "attrib_plot = ggplot(temp, aes(x=shap, y=jaccard)) + \n",
    "    labs(title=NULL, x=\"SHAP\", y=\"Incident Events (%)\") +\n",
    "    geom_point(alpha=0.7, size=0.3) + \n",
    "    geom_smooth(method=\"gam\") + \n",
    "    #scale_colour_gradient(low = \"#7AC6FF\", high = \"#023768\", space = \"Lab\", na.value = \"grey50\", guide = \"colourbar\", aesthetics = \"colour\")+\n",
    "    #s#cale_y_continuous(limits=c(0, NA), expand=expansion(mult=c(0, .05)))+#, limits=c(0, NA))+\n",
    "    #scale_x_continuous(expand=expansion(add=c(0, 1)))+\n",
    "    facet_wrap(~endpoint, scale=\"free\", labeller = labeller(endpoint = as_labeller(endpoint_map, default=label_wrap_gen(20))), ncol=6) + \n",
    "    theme(legend.position=\"none\")\n",
    "attrib_plot"
   ]
  },
  {
   "cell_type": "code",
   "execution_count": null,
   "metadata": {
    "tags": []
   },
   "outputs": [],
   "source": [
    "require(scales)\n",
    "library(ggrepel)\n",
    "\n",
    "options(repr.plot.width=8.25, repr.plot.height=5, repr.plot.res=600)\n",
    "rf_plot = ggplot(data_attrib_md, aes(x=n_records/n_eligable, y=shap)) + \n",
    "    labs(x=\"Record Frequency\", y=\"SHAP [%]\") + \n",
    "    #scale_alpha_manual(values = c(\"Yes\" = 1, \"No\"=0.2))+\n",
    "    #scale_color_manual(values = c(\"Yes\" = \"red\", \"No\"=\"black\"))+\n",
    "    #scale_size_manual(values = c(\"Yes\" = 1, \"No\"=0.2))+\n",
    "    geom_smooth\n",
    "    scale_x_log10(expand=c(0, 0), labels = trans_format(\"log10\", math_format(10^.x)))+\n",
    "    #geom_text_repel(box.padding = 0.5, max.overlaps = Inf, size=3, color=\"black\", force=3) +\n",
    "    geom_point(size=0.1, alpha=0.6)+#alpha=0.2, size=0.2) + \n",
    "    theme(legend.position=\"none\")#+\n",
    "    #scale_x_continuous(expand=c(0, 0))\n",
    "rf_plot"
   ]
  },
  {
   "cell_type": "code",
   "execution_count": null,
   "metadata": {
    "tags": []
   },
   "outputs": [],
   "source": [
    "plot_width = 15; plot_height=12; plot_res = 320\n",
    "options(repr.plot.width = plot_width, repr.plot.height = plot_height, repr.plot.res=plot_res)\n",
    "#temp_rank = event_rest %>% filter(features==\"Metabolomics\") %>% arrange(desc(MET10PercvsREST))\n",
    "endpoint_order = (endpoint_defs %>% mutate(phecode_rank = as.numeric(phecode)) %>% arrange(phecode_rank) %>% as_tibble())$endpoint\n",
    "temp = data_attrib_md %>% mutate(endpoint = factor(endpoint, levels=endpoint_order)) %>% filter(endpoint %in% endpoint_selection) %>% ungroup() #%>% sample_n(10000)\n",
    "\n",
    "attrib_plot = ggplot(temp, aes(x=shap, y=freq_events)) + \n",
    "    labs(title=NULL, x=\"SHAP\", y=\"Incident Events (%)\") +\n",
    "    geom_point(alpha=0.7, size=0.3) + \n",
    "    geom_smooth(method=\"gam\") + \n",
    "    #scale_colour_gradient(low = \"#7AC6FF\", high = \"#023768\", space = \"Lab\", na.value = \"grey50\", guide = \"colourbar\", aesthetics = \"colour\")+\n",
    "    #s#cale_y_continuous(limits=c(0, NA), expand=expansion(mult=c(0, .05)))+#, limits=c(0, NA))+\n",
    "    #scale_x_continuous(expand=expansion(add=c(0, 1)))+\n",
    "    facet_wrap(~endpoint, scale=\"free\", labeller = labeller(endpoint = as_labeller(endpoint_map, default=label_wrap_gen(20))), ncol=6) + \n",
    "    theme(legend.position=\"none\")\n",
    "attrib_plot"
   ]
  },
  {
   "cell_type": "code",
   "execution_count": null,
   "metadata": {
    "tags": []
   },
   "outputs": [],
   "source": [
    "plot_width = 15; plot_height=12; plot_res = 320\n",
    "options(repr.plot.width = plot_width, repr.plot.height = plot_height, repr.plot.res=plot_res)\n",
    "#temp_rank = event_rest %>% filter(features==\"Metabolomics\") %>% arrange(desc(MET10PercvsREST))\n",
    "endpoint_order = (endpoint_defs %>% mutate(phecode_rank = as.numeric(phecode)) %>% arrange(phecode_rank) %>% as_tibble())$endpoint\n",
    "temp = data_attrib_md %>% mutate(endpoint = factor(endpoint, levels=endpoint_order)) %>% filter(endpoint %in% endpoint_selection) %>% ungroup() #%>% sample_n(10000)\n",
    "\n",
    "attrib_plot = ggplot(temp, aes(x=freq_events, y=shap)) + \n",
    "    labs(title=NULL, x=\"SHAP\", y=\"Incident Events (%)\") +\n",
    "    geom_point(alpha=0.7, size=0.3) + \n",
    "    geom_smooth(method=\"gam\") + \n",
    "    #scale_colour_gradient(low = \"#7AC6FF\", high = \"#023768\", space = \"Lab\", na.value = \"grey50\", guide = \"colourbar\", aesthetics = \"colour\")+\n",
    "    #s#cale_y_continuous(limits=c(0, NA), expand=expansion(mult=c(0, .05)))+#, limits=c(0, NA))+\n",
    "    #scale_x_continuous(expand=expansion(add=c(0, 1)))+\n",
    "    facet_wrap(~endpoint, scale=\"free_x\", labeller = labeller(endpoint = as_labeller(endpoint_map, default=label_wrap_gen(20))), ncol=6) + \n",
    "    theme(legend.position=\"none\")\n",
    "attrib_plot"
   ]
  },
  {
   "cell_type": "code",
   "execution_count": null,
   "metadata": {
    "tags": []
   },
   "outputs": [],
   "source": [
    "glue(\"{experiment_path}/shap_local.feather\")"
   ]
  },
  {
   "cell_type": "code",
   "execution_count": null,
   "metadata": {
    "tags": []
   },
   "outputs": [],
   "source": [
    "data_shap"
   ]
  },
  {
   "cell_type": "code",
   "execution_count": null,
   "metadata": {
    "tags": []
   },
   "outputs": [],
   "source": [
    "endpoints = colnames(data_shap)[2:length(colnames(data_shap))]"
   ]
  },
  {
   "cell_type": "markdown",
   "metadata": {},
   "source": [
    "## Load Metadata"
   ]
  },
  {
   "cell_type": "code",
   "execution_count": null,
   "metadata": {
    "tags": []
   },
   "outputs": [],
   "source": [
    "concepts_raw = fread(\"/sc-projects/sc-proj-ukb-cvd/data/mapping/athena/CONCEPT.csv\", quote=\"\")"
   ]
  },
  {
   "cell_type": "code",
   "execution_count": null,
   "metadata": {
    "tags": []
   },
   "outputs": [],
   "source": [
    "concept_defs = concepts_raw %>% as_tibble() %>% mutate(record = as.character(glue(\"OMOP_{concept_id}\"))) %>% select(record, concept_name, domain_id)"
   ]
  },
  {
   "cell_type": "code",
   "execution_count": null,
   "metadata": {
    "tags": []
   },
   "outputs": [],
   "source": [
    "endpoint_defs = arrow::read_feather(glue(\"{output_path}/phecode_defs_220306.feather\")) %>% filter(endpoint %in% endpoints) %>% arrange(endpoint)"
   ]
  },
  {
   "cell_type": "markdown",
   "metadata": {},
   "source": [
    "## Preparation"
   ]
  },
  {
   "cell_type": "code",
   "execution_count": null,
   "metadata": {
    "tags": []
   },
   "outputs": [],
   "source": [
    "data_shap"
   ]
  },
  {
   "cell_type": "code",
   "execution_count": null,
   "metadata": {
    "tags": []
   },
   "outputs": [],
   "source": [
    "data_shap_md = data_shap %>% left_join(data_records_agg) %>% left_join(concept_defs) %>% \n",
    "    rowwise() %>% mutate(overall = sum(c_across(OMOP_4306655:phecode_979), na.rm=TRUE)) %>% ungroup() %>% \n",
    "    select(record, concept_name, domain_id, n, freq, overall, everything())# %>% n, freq) %>% select(record, concept_name, domain_id,"
   ]
  },
  {
   "cell_type": "code",
   "execution_count": null,
   "metadata": {
    "tags": []
   },
   "outputs": [],
   "source": [
    "data_shap_md %>% filter(n<10)"
   ]
  },
  {
   "cell_type": "code",
   "execution_count": null,
   "metadata": {
    "tags": []
   },
   "outputs": [],
   "source": [
    "endpoint_defs %>% filter(str_detect(phecode_string, \"Anemia\"))"
   ]
  },
  {
   "cell_type": "code",
   "execution_count": null,
   "metadata": {
    "tags": []
   },
   "outputs": [],
   "source": [
    "unique(data_shap_md$domain_id)"
   ]
  },
  {
   "cell_type": "code",
   "execution_count": null,
   "metadata": {
    "tags": []
   },
   "outputs": [],
   "source": [
    "endpoint = \"phecode_164\"\n",
    "data_shap_md %>% \n",
    "    select(concept_name, domain_id, n, freq, all_of(endpoint)) %>% \n",
    "    #filter(domain_id == \"Drug\") %>%\n",
    "    filter(!is.na(concept_name)) %>%\n",
    "    #filter(n>200) %>%\n",
    "    arrange(desc(!!sym(endpoint))) "
   ]
  },
  {
   "cell_type": "code",
   "execution_count": null,
   "metadata": {},
   "outputs": [],
   "source": [
    "endpoint = \"phecode_175-2\"\n",
    "\n",
    "plot_width = 10; plot_height=5; plot_res = 320\n",
    "options(repr.plot.width = plot_width, repr.plot.height = plot_height, repr.plot.res=plot_res)\n",
    "endpoint_label = (endpoint_defs %>% filter(endpoint==!!endpoint))$phecode_string\n",
    "\n",
    "temp = data_shap_md %>% mutate(endpoint = factor(endpoint, levels=endpoint_defs$endpoint)) %>% filter(n>50)\n",
    "ggplot(temp, aes_string(x=\"record\", y=endpoint, color=endpoint)) + \n",
    "    labs(title = endpoint_label, y=\"SHAP\") +\n",
    "    geom_point(size=0.2) +\n",
    "    geom_text(data=temp %>% filter(abs(!!sym(endpoint))>0.15), \n",
    "              aes(label=stringr::str_wrap(concept_name, 30)), size=2, check_overlap = TRUE)+\n",
    "    #scale_x_log10()+\n",
    "    scale_colour_gradient2(low = \"blue\", mid = alpha(\"white\", 0.01), high = \"red\", midpoint = 0, limits=c(-0.1, 0.1), oob=scales::squish)+\n",
    "     #scale_color_viridis_c(option = \"plasma\")+\n",
    "    theme(plot.title = element_text(hjust=0.5), legend.position=\"None\")"
   ]
  },
  {
   "cell_type": "code",
   "execution_count": null,
   "metadata": {},
   "outputs": [],
   "source": [
    "data_shap_md %>% arrange(desc(overall)) %>% filter(n>10)"
   ]
  },
  {
   "cell_type": "code",
   "execution_count": null,
   "metadata": {},
   "outputs": [],
   "source": [
    "endpoint = \"OMOP_4306655\"\n",
    "\n",
    "plot_width = 10; plot_height=5; plot_res = 320\n",
    "options(repr.plot.width = plot_width, repr.plot.height = plot_height, repr.plot.res=plot_res)\n",
    "\n",
    "endpoint_label = (endpoint_defs %>% filter(endpoint==!!endpoint))$phecode_string\n",
    "ggplot(data_shap_md, aes_string(x=\"freq\", y=endpoint)) + \n",
    "    labs(title = endpoint_label, y=\"SHAP\") +\n",
    "    geom_point(size=0.2) +\n",
    "    #scale_x_log10()+\n",
    "    #scale_colour_gradient2(low = \"blue\", mid = alpha(\"white\", 0.1), high = \"red\", midpoint = 0, limits=c(-0.1, 0.1), oob=scales::squish)+\n",
    "     #scale_color_viridis_c(option = \"plasma\")+\n",
    "    theme(plot.title = element_text(hjust=0.5))"
   ]
  },
  {
   "cell_type": "code",
   "execution_count": null,
   "metadata": {},
   "outputs": [],
   "source": [
    "endpoint = \"OMOP_4306655\"\n",
    "\n",
    "plot_width = 10; plot_height=5; plot_res = 320\n",
    "options(repr.plot.width = plot_width, repr.plot.height = plot_height, repr.plot.res=plot_res)\n",
    "endpoint_label = (endpoint_defs %>% filter(endpoint==!!endpoint))$phecode_string\n",
    "\n",
    "temp = data_shap_md %>% filter(n>20)\n",
    "test = ggplot(temp, aes_string(x=\"record\", y=endpoint, color=endpoint)) + \n",
    "    labs(title = endpoint_label, y=\"SHAP\") +\n",
    "    geom_point(size=0.2) +\n",
    "    geom_text(data=temp %>% filter(abs(!!sym(endpoint))>0.15), \n",
    "              aes(label=stringr::str_wrap(concept_name, 30)), size=2, check_overlap = TRUE)+\n",
    "    #scale_x_log10()+\n",
    "    scale_colour_gradient2(low = \"blue\", mid = alpha(\"white\", 0.01), high = \"red\", midpoint = 0, limits=c(-0.1, 0.1), oob=scales::squish)+\n",
    "     #scale_color_viridis_c(option = \"plasma\")+\n",
    "    theme(plot.title = element_text(hjust=0.5), legend.position=\"None\")"
   ]
  },
  {
   "cell_type": "raw",
   "metadata": {},
   "source": [
    "temp %>% arrange(desc(OMOP_4306655))"
   ]
  },
  {
   "cell_type": "code",
   "execution_count": null,
   "metadata": {},
   "outputs": [],
   "source": [
    "library(plotly)"
   ]
  },
  {
   "cell_type": "code",
   "execution_count": null,
   "metadata": {},
   "outputs": [],
   "source": [
    "y = ggplotly(test, tooltip=\"concept_name\")"
   ]
  },
  {
   "cell_type": "code",
   "execution_count": null,
   "metadata": {},
   "outputs": [],
   "source": [
    "htmlwidgets::saveWidget(y, \"death_attributions.html\")"
   ]
  },
  {
   "cell_type": "markdown",
   "metadata": {},
   "source": [
    "## Compare agains event frequency\n",
    "-> x = SHAP, y=event rate"
   ]
  },
  {
   "cell_type": "code",
   "execution_count": null,
   "metadata": {},
   "outputs": [],
   "source": [
    "endpoint_defs"
   ]
  },
  {
   "cell_type": "code",
   "execution_count": null,
   "metadata": {},
   "outputs": [],
   "source": [
    "endpoint = \"OMOP_4306655\""
   ]
  },
  {
   "cell_type": "code",
   "execution_count": null,
   "metadata": {},
   "outputs": [],
   "source": [
    "plot_width = 10; plot_height=5; plot_res = 320\n",
    "options(repr.plot.width = plot_width, repr.plot.height = plot_height, repr.plot.res=plot_res)\n",
    "endpoint_label = (endpoint_defs %>% filter(endpoint==!!endpoint))$phecode_string\n",
    "ggplot(data_shap_md, aes_string(x=\"freq\", y=endpoint, color=endpoint)) + \n",
    "    labs(title = endpoint_label, y=\"SHAP\") +\n",
    "    geom_jitter(size=0.2) +\n",
    "    #scale_x_log10()+\n",
    "    scale_colour_gradient2(low = \"blue\", mid = alpha(\"white\", 0.1), high = \"red\", midpoint = 0, limits=c(-0.1, 0.1), oob=scales::squish)+\n",
    "     #scale_color_viridis_c(option = \"plasma\")+\n",
    "    theme(plot.title = element_text(hjust=0.5))"
   ]
  },
  {
   "cell_type": "code",
   "execution_count": null,
   "metadata": {},
   "outputs": [],
   "source": [
    "plot_width = 10; plot_height=5; plot_res = 320\n",
    "options(repr.plot.width = plot_width, repr.plot.height = plot_height, repr.plot.res=plot_res)\n",
    "endpoint_label = (endpoint_defs %>% filter(endpoint==!!endpoint))$phecode_string\n",
    "ggplot(data_shap_md, aes_string(x=\"freq\", y=endpoint)) + \n",
    "    labs(title = endpoint_label, y=\"SHAP\") +\n",
    "    geom_point(size=0.2) +\n",
    "    #scale_x_log10()+\n",
    "    #scale_colour_gradient2(low = \"blue\", mid = alpha(\"white\", 0.1), high = \"red\", midpoint = 0, limits=c(-0.1, 0.1), oob=scales::squish)+\n",
    "     #scale_color_viridis_c(option = \"plasma\")+\n",
    "    theme(plot.title = element_text(hjust=0.5))"
   ]
  },
  {
   "cell_type": "code",
   "execution_count": null,
   "metadata": {},
   "outputs": [],
   "source": [
    "data_shap_md %>% arrange(desc(OMOP_4306655)) %>% filter(n>10)"
   ]
  },
  {
   "cell_type": "code",
   "execution_count": null,
   "metadata": {},
   "outputs": [],
   "source": [
    "predictions = lazy_dt(bind_rows(p0, p1, p2, p3, p4, p5, p6, p7, p8, p9, p10, p11, p12, p13, p14)) "
   ]
  },
  {
   "cell_type": "code",
   "execution_count": null,
   "metadata": {},
   "outputs": [],
   "source": [
    "plot_width = 10; plot_height=10; plot_res = 320\n",
    "options(repr.plot.width = plot_width, repr.plot.height = plot_height, repr.plot.res=plot_res)\n",
    "temp %>% ggplot(aes(x=logh, color=partition, fill=partition)) + geom_density(alpha=0.2)"
   ]
  },
  {
   "cell_type": "code",
   "execution_count": null,
   "metadata": {},
   "outputs": [],
   "source": [
    "base_size = 8\n",
    "title_size = 10\n",
    "facet_size = 10\n",
    "geom_text_size=3\n",
    "theme_set(theme_classic(base_size = base_size) + \n",
    "          theme(strip.background = element_blank(), plot.title=element_text(size=title_size, hjust=0), \n",
    "                strip.text.x = element_text(size = facet_size),axis.title=element_text(size=10), axis.text=element_text(size=8, color=\"black\"),\n",
    "                legend.position=\"bottom\", axis.line = element_line(size = 0.2), axis.ticks=element_line(size=0.2)))"
   ]
  },
  {
   "cell_type": "code",
   "execution_count": null,
   "metadata": {
    "ExecuteTime": {
     "end_time": "2021-01-05T11:03:23.526022Z",
     "start_time": "2021-01-05T11:03:20.042Z"
    }
   },
   "outputs": [],
   "source": [
    "colors_dict = read_json(\"colors.json\")\n",
    "color_map <- c(\n",
    "    \"Identity(AgeSex)+MLP\" = colors_dict$pastel$red$mid,\n",
    "    \"Identity(Records)+MLP\" = colors_dict$pastel$red$mid,\n",
    "    \"GNN(Records)+MLP\" = colors_dict$pastel$red$mid,\n",
    "    \"Identity(AgeSex+Records)+MLP\" = colors_dict$pastel$red$mid,\n",
    "    \"GNN(AgeSex+Records)+MLP\" = colors_dict$pastel$red$mid\n",
    ")"
   ]
  },
  {
   "cell_type": "code",
   "execution_count": null,
   "metadata": {},
   "outputs": [],
   "source": [
    "phecode_defs_path = \"/sc-projects/sc-proj-ukb-cvd/data/mapping/phecodes/phecode_strings_V2.csv\"\n",
    "phecode_defs = fread(phecode_defs_path, colClasses=c(\"character\", \"character\", \"character\", \"character\", \"integer\", \"character\", \"integer\"))#, dtype={\"phecode\": str}).sort_values(\"phecode\")\n",
    "phecode_defs = phecode_defs %>% add_row(phecode = \"4306655\", phecode_string = \"All-Cause Death\", phecode_category = \"Death\", sex=\"Both\")\n",
    "phecode_defs = phecode_defs %>% as_tibble %>% separate(phecode, into=c(\"first\", \"second\"), remove=FALSE) %>% \n",
    "    mutate(comb = str_remove_all(glue(\"{first}-{second}\"), \"-NA\")) %>%\n",
    "    mutate(endpoint=case_when(comb == \"4306655\" ~ glue(\"OMOP_{comb}\"),\n",
    "                              TRUE ~ glue(\"phecode_{comb}\"))) %>%\n",
    "    select(phecode, endpoint, everything(), -first, -second, -comb)\n",
    "phecode_defs %>% sample_n(5)"
   ]
  },
  {
   "cell_type": "code",
   "execution_count": null,
   "metadata": {},
   "outputs": [],
   "source": [
    "outcome_freq = data_outcomes %>% filter(prevalent==0) %>% group_by(endpoint) %>% summarize(freq = sum(event)/n()) %>% as_tibble()\n",
    "outcome_freq %>% arrange(desc(freq))"
   ]
  },
  {
   "cell_type": "code",
   "execution_count": null,
   "metadata": {},
   "outputs": [],
   "source": [
    "endpoint_map = phecode_defs$phecode_string\n",
    "names(endpoint_map) =  phecode_defs$endpoint\n",
    "endpoint_order_freq = (outcome_freq %>% arrange(desc(freq)))$endpoint"
   ]
  },
  {
   "cell_type": "markdown",
   "metadata": {},
   "source": [
    "## Load data"
   ]
  },
  {
   "cell_type": "code",
   "execution_count": null,
   "metadata": {
    "ExecuteTime": {
     "end_time": "2021-01-05T11:03:12.470354Z",
     "start_time": "2021-01-05T11:03:11.387Z"
    }
   },
   "outputs": [],
   "source": [
    "list.dirs(path = project_path, full.names = TRUE, recursive = TRUE)"
   ]
  },
  {
   "cell_type": "markdown",
   "metadata": {},
   "source": [
    "# Figure 2: Selected Endpoints"
   ]
  },
  {
   "cell_type": "markdown",
   "metadata": {},
   "source": [
    "## MedicalHistory state and incident disease"
   ]
  },
  {
   "cell_type": "code",
   "execution_count": null,
   "metadata": {},
   "outputs": [],
   "source": [
    "pred_outcomes = predictions %>% left_join(data_outcomes, on=c(eid, endpoint)) %>% as.data.table() "
   ]
  },
  {
   "cell_type": "code",
   "execution_count": null,
   "metadata": {},
   "outputs": [],
   "source": [
    "logh_inc = pred_outcomes %>% filter(prevalent==0) %>% group_by(endpoint, model) %>% mutate(logh_perc = ntile(logh, 100)) %>% ungroup() %>% as_tibble()"
   ]
  },
  {
   "cell_type": "markdown",
   "metadata": {},
   "source": [
    "## No buffer"
   ]
  },
  {
   "cell_type": "code",
   "execution_count": null,
   "metadata": {},
   "outputs": [],
   "source": [
    "logh_T_agg = logh_inc %>% group_by(endpoint, model, logh_perc) %>% summarise(ratio = mean(event)) %>% as_tibble()"
   ]
  },
  {
   "cell_type": "code",
   "execution_count": null,
   "metadata": {},
   "outputs": [],
   "source": [
    "logh_T_agg %>% write_feather(glue(\"{output_path}/logh_agg_220224.feather\"))"
   ]
  },
  {
   "cell_type": "code",
   "execution_count": null,
   "metadata": {},
   "outputs": [],
   "source": [
    "plot_width = 50; plot_height=75; plot_res = 320\n",
    "options(repr.plot.width = plot_width, repr.plot.height = plot_height, repr.plot.res=plot_res)\n",
    "#temp_rank = event_rest %>% filter(features==\"Metabolomics\") %>% arrange(desc(MET10PercvsREST))\n",
    "endpoint_order = (phecode_defs %>% mutate(phecode_rank = as.numeric(phecode)) %>% arrange(phecode_rank) %>% as_tibble())$endpoint\n",
    "endpoint_selection = endpoint_order# %>% head(500)\n",
    "temp = logh_T_agg %>% filter(model==\"GNN(Records)+MLP\") %>% mutate(endpoint = factor(endpoint, levels=endpoint_order)) %>% filter(endpoint %in% endpoint_selection) %>% ungroup() #%>% sample_n(10000)\n",
    "\n",
    "mh_events = ggplot(temp, aes(x=logh_perc, y=ratio*100, color=logh_perc)) + \n",
    "    labs(title=NULL, x=\"Medical History Percentile [%]\", y=\"Observed Event Rate [%]\") +\n",
    "    geom_point(alpha=0.7, size=0.1) + \n",
    "    scale_colour_gradient(\n",
    "  low = \"#7AC6FF\",\n",
    "  high = \"#023768\",\n",
    "  space = \"Lab\",\n",
    "  na.value = \"grey50\",\n",
    "  guide = \"colourbar\",\n",
    "  aesthetics = \"colour\"\n",
    ")+\n",
    "    #scale_color_manual(values=c(\"Metabolomics\"=\"black\"))+\n",
    "    scale_y_continuous(limits=c(0, NA), expand=expansion(mult=c(0, .05)))+#, limits=c(0, NA))+\n",
    "    scale_x_continuous(expand=expansion(add=c(0, 1)))+\n",
    "    facet_wrap(~endpoint, scale=\"free\", labeller = labeller(endpoint = endpoint_map), ncol=25) + theme(legend.position=\"none\")"
   ]
  },
  {
   "cell_type": "code",
   "execution_count": null,
   "metadata": {},
   "outputs": [],
   "source": [
    "plot_name = \"MedicalHistoryRisk\"\n",
    "mh_events %>% ggsave(filename=glue(\"outputs/{plot_name}.pdf\"), device=\"pdf\", width=plot_width, height=plot_height, dpi=plot_res, limitsize=FALSE)"
   ]
  },
  {
   "cell_type": "code",
   "execution_count": null,
   "metadata": {},
   "outputs": [],
   "source": [
    "plot_name = \"MedicalHistoryRisk\"\n",
    "mh_events %>% ggsave(filename=glue(\"outputs/{plot_name}.png\"), device=\"png\", width=plot_width, height=plot_height, dpi=plot_res, limitsize=FALSE)"
   ]
  },
  {
   "cell_type": "markdown",
   "metadata": {},
   "source": [
    "## Add buffer"
   ]
  },
  {
   "cell_type": "code",
   "execution_count": null,
   "metadata": {},
   "outputs": [],
   "source": [
    "pred_outcomes %>% head()"
   ]
  },
  {
   "cell_type": "code",
   "execution_count": null,
   "metadata": {},
   "outputs": [],
   "source": [
    "logh_T_agg_buffer = pred_outcomes %>% filter(prevalent==0) %>% mutate(event_buffer = case_when((event!=0&time<1) ~ 0, TRUE ~ event)) %>% group_by(endpoint, model) %>% mutate(logh_perc = ntile(logh, 100)) %>% group_by(endpoint, model, logh_perc) %>% summarise(ratio = mean(event_buffer)) %>% as_tibble()"
   ]
  },
  {
   "cell_type": "code",
   "execution_count": null,
   "metadata": {},
   "outputs": [],
   "source": [
    "logh_T_agg_buffer %>% write_feather(glue(\"{output_path}/logh_agg_1ybuffer_220224.feather\"))"
   ]
  },
  {
   "cell_type": "code",
   "execution_count": null,
   "metadata": {},
   "outputs": [],
   "source": [
    "plot_width = 50; plot_height=75; plot_res = 320\n",
    "options(repr.plot.width = plot_width, repr.plot.height = plot_height, repr.plot.res=plot_res)\n",
    "#temp_rank = event_rest %>% filter(features==\"Metabolomics\") %>% arrange(desc(MET10PercvsREST))\n",
    "endpoint_order = (phecode_defs %>% mutate(phecode_rank = as.numeric(phecode)) %>% arrange(phecode_rank) %>% as_tibble())$endpoint\n",
    "endpoint_selection = endpoint_order# %>% head(500)\n",
    "temp = logh_T_agg_buffer %>% filter(model==\"GNN(Records)+MLP\") %>% mutate(endpoint = factor(endpoint, levels=endpoint_order)) %>% filter(endpoint %in% endpoint_selection) %>% ungroup() #%>% sample_n(10000)\n",
    "\n",
    "mh_events = ggplot(temp, aes(x=logh_perc, y=ratio*100, color=logh_perc)) + \n",
    "    labs(title=NULL, x=\"Medical History Percentile [%]\", y=\"Observed Event Rate [%]\") +\n",
    "    geom_point(alpha=0.7, size=0.1) + \n",
    "    scale_colour_gradient(\n",
    "  low = \"#7AC6FF\",\n",
    "  high = \"#023768\",\n",
    "  space = \"Lab\",\n",
    "  na.value = \"grey50\",\n",
    "  guide = \"colourbar\",\n",
    "  aesthetics = \"colour\"\n",
    ")+\n",
    "    #scale_color_manual(values=c(\"Metabolomics\"=\"black\"))+\n",
    "    scale_y_continuous(limits=c(0, NA), expand=expansion(mult=c(0, .05)))+#, limits=c(0, NA))+\n",
    "    scale_x_continuous(expand=expansion(add=c(0, 1)))+\n",
    "    facet_wrap(~endpoint, scale=\"free\", labeller = labeller(endpoint = endpoint_map), ncol=25) + theme(legend.position=\"none\")"
   ]
  },
  {
   "cell_type": "code",
   "execution_count": null,
   "metadata": {},
   "outputs": [],
   "source": [
    "plot_name = \"MedicalHistoryRisk_1ybuffer\"\n",
    "mh_events %>% ggsave(filename=glue(\"outputs/{plot_name}.png\"), device=\"png\", width=plot_width, height=plot_height, dpi=plot_res, limitsize=FALSE)"
   ]
  },
  {
   "cell_type": "markdown",
   "metadata": {
    "tags": []
   },
   "source": [
    "## MedicalHistory and Event Trajectories"
   ]
  },
  {
   "cell_type": "code",
   "execution_count": null,
   "metadata": {},
   "outputs": [],
   "source": []
  },
  {
   "cell_type": "code",
   "execution_count": null,
   "metadata": {},
   "outputs": [],
   "source": [
    "logh_mh = logh_inc %>% select(endpoint, model, eid, logh_perc, event, time) %>% group_by(endpoint) %>% \n",
    "    mutate(MH=case_when(logh_perc %in% 91:100 ~ \"High\", \n",
    "                        logh_perc %in% 45:55 ~ \"Mid\", \n",
    "                        logh_perc %in% 1:10 ~ \"Low\",\n",
    "                        TRUE ~ \"NA\")\n",
    "          ) %>% mutate(MET = fct_rev(factor(MET, levels=c(\"Low\", \"Mid\", \"High\")))) %>% ungroup() %>% \n",
    "    filter(MH!=\"NA\") #%>% select(eid, endpoint, logh, logh_group)"
   ]
  },
  {
   "cell_type": "code",
   "execution_count": null,
   "metadata": {},
   "outputs": [],
   "source": [
    "require(\"ggquickeda\")\n",
    "plot_width = 50; plot_height=75; plot_res = 320\n",
    "options(repr.plot.width = plot_width, repr.plot.height = plot_height, repr.plot.res=plot_res)\n",
    "met_map = c(\"High\"=\"#023768\", \"Mid\"=\"#4F8EC1\", \"Low\"=\"#7AC6FF\")\n",
    "\n",
    "endpoint_order = (phecode_defs %>% mutate(phecode_rank = as.numeric(phecode)) %>% arrange(phecode_rank) %>% as_tibble())$endpoint\n",
    "endpoint_selection = endpoint_order# %>% head(500)\n",
    "temp = logh_mh %>% mutate(endpoint = factor(endpoint, levels=endpoint_order)) %>% filter(endpoint %in% endpoint_selection) %>% ungroup() \n",
    "\n",
    "km_plot = ggplot(temp, aes(time = time, status = event, fill=MET, color=MET,group=MET)) +\n",
    "    geom_km(trans = \"event\") + \n",
    "    geom_kmticks(trans = \"event\", size=0.3) + geom_kmband(trans = \"event\") + \n",
    "    labs(x=\"Time [Years]\", y=\"Cumulative Events [%]\")+\n",
    "    scale_color_manual(values=met_map)+scale_fill_manual(values=met_map)+\n",
    "    scale_y_continuous(labels = function(x) round(x*100, 1), expand=c(0, 0))+\n",
    "    scale_x_continuous(expand=expansion(add=c(0, .1)), breaks=c(5, 10))+\n",
    "    facet_wrap(~ endpoint, scale=\"free\", labeller = labeller(endpoint = endpoint_map), ncol=25) + theme(legend.position=\"none\")"
   ]
  },
  {
   "cell_type": "code",
   "execution_count": null,
   "metadata": {},
   "outputs": [],
   "source": [
    "plot_name = \"MedicalHistory_KMs\"\n",
    "km_plot %>% ggsave(filename=glue(\"outputs/{plot_name}.png\"), device=\"png\", width=plot_width, height=plot_height, dpi=plot_res, limitsize=FALSE)"
   ]
  },
  {
   "cell_type": "markdown",
   "metadata": {},
   "source": [
    "# Top 1%"
   ]
  },
  {
   "cell_type": "code",
   "execution_count": null,
   "metadata": {},
   "outputs": [],
   "source": [
    "logh_mh = logh_inc %>% select(endpoint, model, eid, logh_perc, event, time) %>% group_by(endpoint) %>% \n",
    "    mutate(MH=case_when(logh_perc == 100 ~ \"High\", \n",
    "                        logh_perc %in% 50:51 ~ \"Mid\", \n",
    "                        logh_perc == 1 ~ \"Low\",\n",
    "                        TRUE ~ \"NA\")\n",
    "          ) %>% mutate(MET = fct_rev(factor(MH, levels=c(\"Low\", \"Mid\", \"High\")))) %>% ungroup() %>% \n",
    "    filter(MH!=\"NA\") #%>% select(eid, endpoint, logh, logh_group)"
   ]
  },
  {
   "cell_type": "code",
   "execution_count": null,
   "metadata": {},
   "outputs": [],
   "source": [
    "require(\"ggquickeda\")\n",
    "plot_width = 50; plot_height=75; plot_res = 320\n",
    "options(repr.plot.width = plot_width, repr.plot.height = plot_height, repr.plot.res=plot_res)\n",
    "mh_map = c(\"High\"=\"#023768\", \"Mid\"=\"#4F8EC1\", \"Low\"=\"#7AC6FF\")\n",
    "\n",
    "endpoint_order = (phecode_defs %>% mutate(phecode_rank = as.numeric(phecode)) %>% arrange(phecode_rank) %>% as_tibble())$endpoint\n",
    "endpoint_selection = endpoint_order# %>% head(500)\n",
    "temp = logh_mh %>% mutate(endpoint = factor(endpoint, levels=endpoint_order)) %>% filter(endpoint %in% endpoint_selection) %>% ungroup() \n",
    "\n",
    "km_plot = ggplot(temp, aes(time = time, status = event, fill=MH, color=MH,group=MH)) +\n",
    "    geom_km(trans = \"event\") + \n",
    "    geom_kmticks(trans = \"event\", size=0.3) + geom_kmband(trans = \"event\") + \n",
    "    labs(x=\"Time [Years]\", y=\"Cumulative Events [%]\")+\n",
    "    scale_color_manual(values=met_map)+scale_fill_manual(values=mh_map)+\n",
    "    scale_y_continuous(labels = function(x) round(x*100, 1), expand=c(0, 0))+\n",
    "    scale_x_continuous(expand=expansion(add=c(0, .1)), breaks=c(5, 10))+\n",
    "    facet_wrap(~ endpoint, scale=\"free\", labeller = labeller(endpoint = endpoint_map), ncol=25) + theme(legend.position=\"none\")"
   ]
  },
  {
   "cell_type": "code",
   "execution_count": null,
   "metadata": {},
   "outputs": [],
   "source": [
    "plot_name = \"MedicalHistory_KMs_Top1\"\n",
    "km_plot %>% ggsave(filename=glue(\"outputs/{plot_name}.png\"), device=\"png\", width=plot_width, height=plot_height, dpi=plot_res, limitsize=FALSE)"
   ]
  },
  {
   "cell_type": "markdown",
   "metadata": {},
   "source": [
    "# Figure 2"
   ]
  },
  {
   "cell_type": "code",
   "execution_count": null,
   "metadata": {},
   "outputs": [],
   "source": [
    "plot_width=8.25; plot_height=10; plot_dpi=320\n",
    "options(repr.plot.width = plot_width, repr.plot.height = plot_height, repr.plot.res=plot_dpi)\n",
    "fig2 = met_events / km_plot# +plot_annotation(tag_levels = 'A')"
   ]
  },
  {
   "cell_type": "code",
   "execution_count": null,
   "metadata": {},
   "outputs": [],
   "source": [
    "fig2"
   ]
  },
  {
   "cell_type": "code",
   "execution_count": null,
   "metadata": {},
   "outputs": [],
   "source": [
    "library(gt)\n",
    "plot_name = \"Figures_2_AB\"\n",
    "fig2 %>% ggsave(filename=glue(\"outputs/{plot_name}.pdf\"), device=\"pdf\", width=plot_width, height=plot_height, dpi=320)"
   ]
  },
  {
   "cell_type": "code",
   "execution_count": null,
   "metadata": {},
   "outputs": [],
   "source": []
  }
 ],
 "metadata": {
  "hide_input": false,
  "kernelspec": {
   "display_name": "R [conda env:r_env]",
   "language": "R",
   "name": "conda-env-r_env-r"
  },
  "language_info": {
   "codemirror_mode": "r",
   "file_extension": ".r",
   "mimetype": "text/x-r-source",
   "name": "R",
   "pygments_lexer": "r",
   "version": "4.0.2"
  },
  "toc-autonumbering": false
 },
 "nbformat": 4,
 "nbformat_minor": 4
}
