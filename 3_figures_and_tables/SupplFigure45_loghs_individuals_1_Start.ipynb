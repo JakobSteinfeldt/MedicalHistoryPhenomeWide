{
 "cells": [
  {
   "cell_type": "markdown",
   "metadata": {},
   "source": [
    "# Benchmarks"
   ]
  },
  {
   "cell_type": "markdown",
   "metadata": {},
   "source": [
    "## Initialize"
   ]
  },
  {
   "cell_type": "code",
   "execution_count": null,
   "metadata": {
    "ExecuteTime": {
     "end_time": "2021-01-05T11:03:09.852316Z",
     "start_time": "2021-01-05T11:03:07.701Z"
    },
    "tags": []
   },
   "outputs": [],
   "source": [
    "#library(Rmisc)\n",
    "library(dtplyr)\n",
    "library(tidyverse)\n",
    "library(glue)\n",
    "library(arrow)\n",
    "library(patchwork)\n",
    "library(data.table)\n",
    "library(\"jsonlite\")\n",
    "library(ggthemes)"
   ]
  },
  {
   "cell_type": "code",
   "execution_count": null,
   "metadata": {
    "ExecuteTime": {
     "end_time": "2021-01-05T11:03:10.491477Z",
     "start_time": "2021-01-05T11:03:10.445Z"
    },
    "tags": []
   },
   "outputs": [],
   "source": [
    "if (grepl(\"sc\", Sys.info()[[\"nodename\"]], fixed=TRUE)) {\n",
    "    base_path = \"/sc-projects/sc-proj-ukb-cvd\"\n",
    "} else {\n",
    "    base_path = \"/data/analysis/ag-reils/ag-reils-shared/cardioRS\"}\n",
    "print(base_path)\n",
    "\n",
    "project_label=\"22_medical_records\"\n",
    "project_path = glue(\"{base_path}/results/projects/{project_label}\")\n",
    "figure_path = glue(\"{project_path}/figures\")\n",
    "output_path = glue(\"{project_path}/data\")\n",
    "\n",
    "experiment = 220627\n",
    "experiment_path = glue(\"{output_path}/{experiment}\")"
   ]
  },
  {
   "cell_type": "code",
   "execution_count": null,
   "metadata": {
    "tags": []
   },
   "outputs": [],
   "source": [
    "library(data.table)\n",
    "library(arrow)"
   ]
  },
  {
   "cell_type": "code",
   "execution_count": null,
   "metadata": {
    "tags": []
   },
   "outputs": [],
   "source": [
    "endpoints_md = fread(glue(\"{experiment_path}/endpoints.csv\"), colClasses=c(\"phecode\"=\"character\"))\n",
    "endpoints = sort(endpoints_md$endpoint)"
   ]
  },
  {
   "cell_type": "code",
   "execution_count": null,
   "metadata": {
    "tags": []
   },
   "outputs": [],
   "source": [
    "endpoint_defs = arrow::read_feather(glue(\"{output_path}/phecode_defs_220306.feather\")) %>% arrange(endpoint)"
   ]
  },
  {
   "cell_type": "code",
   "execution_count": null,
   "metadata": {
    "tags": []
   },
   "outputs": [],
   "source": [
    "endpoint_selection = c(\n",
    "    \n",
    "   'phecode_401', #  \"Hypertension\", # intervention\n",
    "    'phecode_202', #  \"Diabetes mellitus\", # intervention\n",
    "    'phecode_416-21', #  \"Atrial fibrillation\", # intervention\n",
    "    'phecode_468', #  \"Pneumonia\", # intervention\n",
    "    'phecode_474', #  \"Chronic obstructive pulmonary disease [COPD]\", # interventio\n",
    "    'phecode_583', #  \"Chronic kidney disease\", # intervention\n",
    "    \n",
    "    'phecode_404', #  \"Ischemic heart disease\",\n",
    "    'phecode_404-1', #  \"Myocardial infarction [Heart attack]\", # intervention\n",
    "    'phecode_431-11', #  \"Cerebral infarction [Ischemic stroke]\",\n",
    "    'phecode_424', #  \"Heart failure\", # intervention\n",
    "    'phecode_420', #  \"Cardiac arrest\", # intervention\n",
    "    'OMOP_4306655', #  \"All-Cause Death\", # intervention\n",
    "    \n",
    "    'phecode_438-11',   #  \"Abdominal aortic aneurysm\",\n",
    "    'phecode_440-3',#  \"Pulmonary embolism\", # intervention\n",
    "    'phecode_413-21',#  \"Aortic stenosis\", # intervention\n",
    "    'phecode_413-11', #  \"Mitral valve insufficiency\",\n",
    "    'phecode_410-2',#  \"Endocarditis\",\n",
    "    'phecode_400',#  \"Rheumatic fever and chronic rheumatic heart diseases\",\t\n",
    "    \n",
    "    'phecode_164', #  \"Anemia\", # intervention\n",
    "    'phecode_718',  #  \"Back pain\", # intervention\n",
    "    'phecode_324-11', #  \"Parkinson's disease (Primary)\",\n",
    "    'phecode_705-1', #  \"Rheumatoid arthritis\", # NEW + interventio\n",
    "    'phecode_665', #  \"Psoriasis\", # interesting\n",
    "    'phecode_284'#  \"Suicide ideation and attempt or self harm\" # intervention\n",
    ")\n",
    "\n",
    "endpoints_common = c(\n",
    "    'phecode_401', #  \"Hypertension\", # intervention\n",
    "    'phecode_202', #  \"Diabetes mellitus\", # intervention\n",
    "    'phecode_416-21', #  \"Atrial fibrillation\", # intervention\n",
    "    'phecode_468', #  \"Pneumonia\", # intervention\n",
    "    'phecode_474', #  \"Chronic obstructive pulmonary disease [COPD]\", # interventio\n",
    "    'phecode_583', #  \"Chronic kidney disease\", # intervention\n",
    "    \n",
    "    'phecode_404', #  \"Ischemic heart disease\",\n",
    "    'phecode_404-1', #  \"Myocardial infarction [Heart attack]\", # intervention\n",
    "    'phecode_431-11', #  \"Cerebral infarction [Ischemic stroke]\",\n",
    "    'phecode_424', #  \"Heart failure\", # intervention\n",
    "    'phecode_420', #  \"Cardiac arrest\", # intervention\n",
    "    'OMOP_4306655' #  \"All-Cause Death\", # intervention)\n",
    "    )\n",
    "    \n",
    "endpoints_cardio = c(\n",
    "    'phecode_438-11',   #  \"Abdominal aortic aneurysm\",\n",
    "    'phecode_440-3',#  \"Pulmonary embolism\", # intervention\n",
    "    'phecode_413-21',#  \"Aortic stenosis\", # intervention\n",
    "    'phecode_413-11', #  \"Mitral valve insufficiency\",\n",
    "    'phecode_410-2',#  \"Endocarditis\",\n",
    "    'phecode_400'#  \"Rheumatic fever and chronic rheumatic heart diseases\",\t\n",
    ")\n",
    "\n",
    "endpoints_interesting = c(\n",
    "    'phecode_164', #  \"Anemia\", # intervention\n",
    "    'phecode_718',  #  \"Back pain\", # intervention\n",
    "    'phecode_324-11', #  \"Parkinson's disease (Primary)\",\n",
    "    'phecode_705-1', #  \"Rheumatoid arthritis\", # NEW + interventio\n",
    "    'phecode_665', #  \"Psoriasis\", # interesting\n",
    "    'phecode_284'#  \"Suicide ideation and attempt or self harm\" # intervention\n",
    ")\n",
    "\n",
    "endpoint_defs = endpoint_defs %>% \n",
    "    mutate(name = phecode_string) %>%\n",
    "    mutate(name = \n",
    "           case_when( \n",
    "               phecode_string == \"Myocardial infarction [Heart attack]\"~\"Myocardial infarction\",\n",
    "               phecode_string == \"Cerebral infarction [Ischemic stroke]\"~\"Ischemic stroke\",\n",
    "               phecode_string == \"Chronic obstructive pulmonary disease [COPD]\"~\"Chronic obstructive pulmonary disease\",\n",
    "               phecode_string == \"Mitral valve insufficiency\"~\"Mitral insufficiency\",\n",
    "               phecode_string == \"Parkinson's disease (Primary)\"~\"Parkinson's disease\",\n",
    "               phecode_string == \"Suicide ideation and attempt or self harm\"~\"Suicide attempt\",\n",
    "               phecode_string == \"Ischemic heart disease\"~\"Coronary heart disease\",\n",
    "               phecode_string == \"Chronic kidney disease\"~\"Chronic kidney disease\",\n",
    "               phecode_string == \"Rheumatic fever and chronic rheumatic heart diseases\"~\"Rheumatic heart disease\",\n",
    "               phecode_string == \"Abdominal aortic aneurysm\"~\"Abdominal aortic aneurysm\",\n",
    "                  TRUE ~ name)\n",
    "           )\n",
    "            \n",
    "endpoint_map = endpoint_defs$name\n",
    "names(endpoint_map) =  endpoint_defs$endpoint\n",
    "#endpoint_order = (endpoint_defs %>% arrange(as.numeric(phecode)))$endpoint\n",
    "endpoint_order = endpoint_selection"
   ]
  },
  {
   "cell_type": "code",
   "execution_count": null,
   "metadata": {
    "tags": []
   },
   "outputs": [],
   "source": [
    "endpoints_md %>% filter(endpoint %in% endpoint_selection) %>% as_tibble() %>% arrange(n)  %>%\n",
    "    mutate(endpoint = recode(endpoint, !!!endpoint_map)) %>% mutate(perc = freq*100)"
   ]
  },
  {
   "cell_type": "code",
   "execution_count": null,
   "metadata": {
    "tags": []
   },
   "outputs": [],
   "source": [
    "eligable_eids = arrow::read_feather(glue(\"{output_path}/eligable_eids_long_220627.feather\")) %>% \n",
    "    mutate(included = 1)\n",
    "eligable_eids$eid = as.numeric(levels(eligable_eids$eid))[eligable_eids$eid]"
   ]
  },
  {
   "cell_type": "code",
   "execution_count": null,
   "metadata": {
    "tags": []
   },
   "outputs": [],
   "source": [
    "data_outcomes = arrow::read_feather(glue(\"{output_path}/baseline_outcomes_long_220627.feather\", as_data_frame=FALSE)) "
   ]
  },
  {
   "cell_type": "code",
   "execution_count": null,
   "metadata": {},
   "outputs": [],
   "source": [
    "data_records = arrow::read_feather(glue(\"{output_path}/baseline_records_220627.feather\", as_data_frame=FALSE)) \n",
    "concepts= fread(\"/sc-projects/sc-proj-ukb-cvd/data/mapping/athena/CONCEPT.csv\")"
   ]
  },
  {
   "cell_type": "code",
   "execution_count": null,
   "metadata": {},
   "outputs": [],
   "source": []
  },
  {
   "cell_type": "raw",
   "metadata": {
    "execution": {
     "iopub.execute_input": "2022-06-30T18:03:59.126283Z",
     "iopub.status.busy": "2022-06-30T18:03:59.125414Z",
     "iopub.status.idle": "2022-06-30T18:03:59.145946Z",
     "shell.execute_reply": "2022-06-30T18:03:59.144848Z"
    },
    "tags": []
   },
   "source": [
    "partitions = 0:21\n",
    "partitions\n",
    "paths = c()\n",
    "for (p in partitions){\n",
    "    temp_path = glue(\"{experiment_path}/loghs/Identity(Records)+MLP/{p}/test.feather\")\n",
    "    paths = c(paths, temp_path)\n",
    "    }\n",
    "    predictions = paths %>% map_df(~suppressWarnings(read_feather(., col_select=c(\"eid\", all_of(endpoints_md$endpoint)))))"
   ]
  },
  {
   "cell_type": "code",
   "execution_count": null,
   "metadata": {
    "tags": []
   },
   "outputs": [],
   "source": [
    "partitions = 0:1#121\n",
    "\n",
    "get_endpoint_paths = function(endpoint, features, partitions){\n",
    "    paths = c()\n",
    "    for (f in features){\n",
    "        for (p in partitions){\n",
    "            temp_path = glue(\"{experiment_path}/coxph/predictions/{endpoint}_{f}_{p}.feather\")\n",
    "            paths = c(paths, temp_path)\n",
    "            }\n",
    "        }\n",
    "    return(paths)\n",
    "}"
   ]
  },
  {
   "cell_type": "code",
   "execution_count": null,
   "metadata": {
    "tags": []
   },
   "outputs": [],
   "source": [
    "read_endpoint = function(endpoint, features, partitions){\n",
    "    endpoint_paths = get_endpoint_paths(endpoint, features, partitions)\n",
    "    endpoint_df = endpoint_paths %>% map_df(~suppressWarnings(read_feather(., col_select=c(\"eid\", \"endpoint\", \"features\", \"Ft_10\")))) \n",
    "    endpoint_df = endpoint_df %>% rename(!!(endpoint_df %>% head(1))$endpoint := Ft_10) %>% select(-endpoint) #%>% arrange(features, eid)\n",
    "    return(endpoint_df)\n",
    "    }"
   ]
  },
  {
   "cell_type": "code",
   "execution_count": null,
   "metadata": {
    "tags": []
   },
   "outputs": [],
   "source": [
    "library(foreach)\n",
    "my.cluster <- parallel::makeCluster(100, type = \"PSOCK\")\n",
    "doParallel::registerDoParallel(cl = my.cluster)\n",
    "print(my.cluster)"
   ]
  },
  {
   "cell_type": "code",
   "execution_count": null,
   "metadata": {
    "tags": []
   },
   "outputs": [],
   "source": [
    "rm(endpoint_dfs)"
   ]
  },
  {
   "cell_type": "code",
   "execution_count": null,
   "metadata": {
    "tags": []
   },
   "outputs": [],
   "source": [
    "endpoints_list = endpoints \n",
    "endpoint_dfs <- foreach (e = endpoints_list, .final = function(e) setNames(e, endpoints_list)) %do% {\n",
    "    read_endpoint(e, features, partitions)\n",
    "    }"
   ]
  },
  {
   "cell_type": "code",
   "execution_count": null,
   "metadata": {
    "tags": []
   },
   "outputs": [],
   "source": [
    "parallel::stopCluster(cl = my.cluster)"
   ]
  },
  {
   "cell_type": "code",
   "execution_count": null,
   "metadata": {
    "tags": []
   },
   "outputs": [],
   "source": [
    "require(purrr)\n",
    "require(dplyr)\n",
    "\n",
    "prediction_df <- endpoint_dfs %>% reduce(left_join, by = c(\"features\", \"eid\"))"
   ]
  },
  {
   "cell_type": "code",
   "execution_count": null,
   "metadata": {},
   "outputs": [],
   "source": []
  },
  {
   "cell_type": "code",
   "execution_count": null,
   "metadata": {
    "tags": []
   },
   "outputs": [],
   "source": [
    "prediction_df %>% write_feather(glue(\"{experiment_path}/coxph/predictions_wide.feather\"))"
   ]
  },
  {
   "cell_type": "code",
   "execution_count": null,
   "metadata": {
    "tags": []
   },
   "outputs": [],
   "source": [
    "prediction_df = arrow::read_feather(glue(\"{experiment_path}/coxph/predictions_wide.feather\"))"
   ]
  },
  {
   "cell_type": "code",
   "execution_count": null,
   "metadata": {
    "tags": []
   },
   "outputs": [],
   "source": [
    "prediction_df_long = prediction_df %>% pivot_longer(all_of(endpoints), names_to=\"endpoint\", values_to=\"Ft_10\")"
   ]
  },
  {
   "cell_type": "code",
   "execution_count": null,
   "metadata": {
    "tags": []
   },
   "outputs": [],
   "source": [
    "prediction_df_features = prediction_df_long %>% pivot_wider(names_from=\"features\", values_from=\"Ft_10\")"
   ]
  },
  {
   "cell_type": "code",
   "execution_count": null,
   "metadata": {
    "tags": []
   },
   "outputs": [],
   "source": [
    "prediction_delta = prediction_df_features %>% \n",
    "    mutate(delta_abs = `Age+Sex+MedicalHistory` - `Age+Sex`) %>% \n",
    "    mutate(delta_rel = delta_abs/`Age+Sex`) %>%\n",
    "    mutate(prop_rel = delta_rel+1)\n",
    "           #case_when(delta_rel>0 ~ delta_rel+1, delta_rel<0 ~ delta_rel) \n",
    "    #mutate(risk_rel = `Age+Sex+MedicalHistory`/`Age+Sex`) %>%\n",
    "    #mutate(prop_rel = case_when(risk_rel>=1 ~ risk_rel, risk_rel<1 ~ -1/risk_rel))"
   ]
  },
  {
   "cell_type": "code",
   "execution_count": null,
   "metadata": {},
   "outputs": [],
   "source": [
    "prediction_delta %>% write_feather(glue(\"{experiment_path}/coxph/prediction_deltas_individualchange.feather\"))"
   ]
  },
  {
   "cell_type": "code",
   "execution_count": null,
   "metadata": {},
   "outputs": [],
   "source": [
    "glue(\"{experiment_path}/coxph/prediction_deltas_individualchange.feather\")"
   ]
  },
  {
   "cell_type": "code",
   "execution_count": null,
   "metadata": {
    "tags": []
   },
   "outputs": [],
   "source": [
    "test = prediction_delta %>% sample_n(3000) %>% arrange(delta_abs)"
   ]
  },
  {
   "cell_type": "raw",
   "metadata": {
    "execution": {
     "iopub.execute_input": "2022-07-01T11:49:17.729268Z",
     "iopub.status.busy": "2022-07-01T11:49:17.728192Z",
     "iopub.status.idle": "2022-07-01T11:49:19.209062Z",
     "shell.execute_reply": "2022-07-01T11:49:19.207522Z"
    },
    "tags": []
   },
   "source": [
    "temp = prediction_delta %>% \n",
    "        filter(eid==!!eid) %>% \n",
    "        #filter(eid=='XXXXX') %>% \n",
    "        left_join(endpoints_md %>% select(endpoint, phecode_string, phecode_category) %>% as_tibble()) %>%\n",
    "        mutate(phecode_category = factor(phecode_category, levels=categories_sorted)) %>%\n",
    "        mutate(endpoint = factor(endpoint, levels=endpoint_order)) %>% ungroup() %>%\n",
    "        arrange(endpoint) %>% group_by(phecode_category) %>% mutate(endpoint = row_number()) %>% ungroup()#%>%\n",
    "        #mutate(highlight = case_when(endpoint %in% endpoint_selection ~ \"YES\", TRUE ~ \"NO\")) \n",
    "\n",
    "overview_rel = ggplot(temp, aes(x=endpoint, y=delta_rel, color=delta_rel, size=delta_rel>5)) + \n",
    "    geom_point()+\n",
    "    labs(x=\"Endpoints\", y=\"Predisposition\") +\n",
    "    scale_size_manual(values=c(0.2, 1))+\n",
    "    scale_y_continuous(trans=pseudolog10_trans, breaks=c(-100, -10, 0, 10, 100))+\n",
    "    scale_x_discrete(expand=expansion(add=20))+\n",
    "    facet_grid(~phecode_category, scales=\"free_x\", space=\"free_x\")+\n",
    "    theme(axis.title.x=element_blank(),\n",
    "          axis.text.x=element_blank(),\n",
    "          axis.ticks.x=element_blank(),\n",
    "          panel.grid.major.y=element_line(), \n",
    "          strip.text = element_text(angle=270, hjust=0),\n",
    "          legend.position=\"none\"\n",
    "         ) +\n",
    "    #coord_cartesian(ylim=c(log(0.001), log(100))) + \n",
    "#scale_color_gradient2(low=\"blue\", mid=\"white\", high=\"red\", midpoint=1, limits=c(-5, 5), oob = scales::squish)+\n",
    "   # scale_colour_gradientn(colors=c(\"blue\", \"blue\", \"white\", \"firebrick\", \"firebrick\"),\n",
    "                          # values=c(log(0.2), log(.5), log(1), log(2), log(5)), scales::squish)\n",
    "coord_cartesian(ylim=c(-1000, 1000), clip = \"off\")+\n",
    "theme( strip.background = element_blank(),\n",
    "  strip.text.x = element_blank())\n",
    "\n",
    "overview_rel"
   ]
  },
  {
   "cell_type": "code",
   "execution_count": null,
   "metadata": {
    "tags": []
   },
   "outputs": [],
   "source": [
    "base_size = 8\n",
    "title_size = 10\n",
    "facet_size = 8.5\n",
    "geom_text_size=3\n",
    "theme_set(theme_classic(base_size = base_size) + \n",
    "          theme(strip.background = element_blank(), plot.title=element_text(size=title_size, hjust=0), \n",
    "                strip.text.x = element_text(size = facet_size),axis.title=element_text(size=10), axis.text=element_text(size=8, color=\"black\"),\n",
    "                legend.position=\"bottom\", axis.line = element_line(size = 0.2), axis.ticks=element_line(size=0.2)))"
   ]
  },
  {
   "cell_type": "code",
   "execution_count": null,
   "metadata": {
    "tags": []
   },
   "outputs": [],
   "source": [
    "library(ggallin)"
   ]
  },
  {
   "cell_type": "code",
   "execution_count": null,
   "metadata": {
    "tags": []
   },
   "outputs": [],
   "source": [
    "data_covariates = arrow::read_feather(glue(\"{experiment_path}/data_covariates_full.feather\"))"
   ]
  },
  {
   "cell_type": "raw",
   "metadata": {
    "execution": {
     "iopub.execute_input": "2022-07-03T07:19:29.220290Z",
     "iopub.status.busy": "2022-07-03T07:19:29.218670Z",
     "iopub.status.idle": "2022-07-03T07:19:34.626175Z",
     "shell.execute_reply": "2022-07-03T07:19:34.624092Z"
    },
    "tags": []
   },
   "source": [
    "library(ggtext)\n",
    "\n",
    "plot_width = 10; plot_height=5; plot_res = 320\n",
    "options(repr.plot.width = plot_width, repr.plot.height = plot_height, repr.plot.res=plot_res)\n",
    "\n",
    "categories_sorted = (endpoints_md %>% arrange(endpoint) %>% distinct(phecode_category) %>% as_tibble())$phecode_category\n",
    "endpoint_order = (endpoints_md)$endpoint\n",
    "eid_selection = unique(prediction_delta$eid) %>% sample(1)\n",
    "\n",
    "\n",
    "for (eid in eid_selection){\n",
    "    \n",
    "    eid_covs = data_covariates %>% filter(eid == !!eid) \n",
    "    eid_covs_true = colnames(eid_covs)[eid_covs[1,]==TRUE]\n",
    "    eid_covs_post = eid_covs %>% select(where(is.factor), where(is.numeric)) %>% \n",
    "        select(eid, age, sex, everything())\n",
    "    \n",
    "    temp = prediction_delta %>% \n",
    "        filter(eid==!!eid) %>% \n",
    "        #filter(eid=='XXXXX') %>% \n",
    "        left_join(endpoints_md %>% select(endpoint, phecode, phecode_string, phecode_category, sex) %>% as_tibble()) %>%\n",
    "        mutate(phecode_category = factor(phecode_category, levels=categories_sorted)) %>%\n",
    "        mutate(endpoint = factor(endpoint, levels=endpoint_order)) %>% ungroup() %>%\n",
    "        arrange(endpoint) %>% group_by(phecode_category) %>% mutate(endpoint = row_number()) %>% ungroup() %>%\n",
    "        mutate(size=case_when(\n",
    "            (prop_rel>2&prop_rel<5) ~ 0.2, \n",
    "            (prop_rel>5&prop_rel<10) ~0.5, \n",
    "            prop_rel>10~1, \n",
    "            TRUE ~ 0.05)\n",
    "              )\n",
    "    \n",
    "    temp_highrisk = temp %>% filter(prop_rel > 5)\n",
    "    temp_excluded = temp %>% filter((sex!=\"Both\")&(sex!=!!eid_covs_post$sex))\n",
    "    temp_prevalent = temp %>% filter(is.na(prop_rel)) %>% filter((sex==\"Both\")|(sex==!!eid_covs_post$sex))\n",
    "    \n",
    "    mh = (\n",
    "        temp %>% filter(is.na(delta_abs)) %>% filter((sex==!!eid_covs_post$sex)|sex==\"Both\") %>% filter(str_detect(phecode, \"\\\\.\")) %>% arrange(phecode)\n",
    "         )$phecode_string\n",
    "    \n",
    "    print(glue(\"eid: {eid}\"))\n",
    "    \n",
    "    print(\"General information\")\n",
    "    eid_covs_post %>% print(width=Inf)\n",
    "    \n",
    "    print(\"Medical History\")\n",
    "    temp_prevalent %>% select(phecode_category, phecode_string) %>% print(n=Inf)\n",
    "    \n",
    "    print(\"Higher risk indicated for:\")\n",
    "    temp_highrisk %>% select(phecode_category, phecode_string, prop_rel, `Age+Sex+MedicalHistory`) %>% \n",
    "        arrange(desc(`Age+Sex+MedicalHistory`)) %>% print(n=Inf)\n",
    "    \n",
    "        #mutate(highlight = case_when(endpoint %in% endpoint_selection ~ \"YES\", TRUE ~ \"NO\")) \n",
    "\n",
    "    overview = ggplot(temp, aes(x=endpoint, y=`Age+Sex+MedicalHistory`, color=delta_rel, size=factor(size))) + \n",
    "    \n",
    "        labs(x=\"Endpoints\", y=\"10-year risk (%)\") +   \n",
    "    \n",
    "        #geom_vline(data=temp_highrisk, aes(xintercept=endpoint), color=\"firebrick\", size=1, alpha=0.3)+\n",
    "        #geom_vline(data=temp_excluded, aes(xintercept=endpoint), color=\"black\", size=0.5, alpha=0.05)+\n",
    "        #geom_vline(data=temp_prevalent, aes(xintercept=endpoint), color=\"blue\", size=0.5, alpha=0.1)+\n",
    "    \n",
    "        #geom_col()+\n",
    "        geom_point()+\n",
    "        geom_segment(aes(xend=endpoint, yend=0), size=0.2)+\n",
    "        geom_text(data=temp_highrisk, aes(y=`Age+Sex+MedicalHistory`+0.05, \n",
    "                                          label=glue(\"{round(`Age+Sex+MedicalHistory`*100, 1)}% {phecode_string}\")), \n",
    "                  angle =90, hjust=0, size=3)+\n",
    "        facet_grid(~phecode_category, scales=\"free_x\", space=\"free_x\")+\n",
    "        \n",
    "        scale_size_manual(values=c(0.1, 0.5, 1, 2))+\n",
    "        scale_color_gradient2(low=\"blue\", mid=\"white\", high=\"red\", midpoint=1, limits=c(-0.2, 5), oob = scales::squish)+\n",
    "        \n",
    "        scale_x_discrete(expand=expansion(add=20))+\n",
    "        scale_y_continuous(expand=c(0, 0), labels=scales::percent) + #breaks = c(log(0.1), log(1), log(10)), labels=c(0.1, 1, 10))+\n",
    "\n",
    "        theme(axis.title.x=element_blank(),\n",
    "              axis.text.x=element_blank(),\n",
    "              axis.ticks.x=element_blank(),\n",
    "              panel.grid.major.y=element_line(), \n",
    "              strip.text = element_text(angle=270, hjust=1),\n",
    "              legend.position=\"none\"\n",
    "             ) +\n",
    "    \n",
    "        coord_cartesian(ylim=c(0, 1), clip = \"off\")\n",
    "        \n",
    "\n",
    "    overview_rel = ggplot(temp, aes(x=endpoint, y=prop_rel, color=delta_rel, size=factor(size))) + \n",
    "    \n",
    "        labs(x=\"Endpoints\", y=\"Predisposition\") +\n",
    "    \n",
    "        #geom_vline(data=temp_highrisk, aes(xintercept=endpoint), color=\"firebrick\", size=1, alpha=0.3)+\n",
    "        #geom_vline(data=temp_excluded, aes(xintercept=endpoint), color=\"black\", size=0.5, alpha=0.05)+\n",
    "        #geom_vline(data=temp_prevalent, aes(xintercept=endpoint), color=\"blue\", size=0.5, alpha=0.1)+\n",
    "    \n",
    "        #geom_col()+\n",
    "        geom_point()+\n",
    "        geom_segment(aes(xend=endpoint, yend=0), size=0.2)+\n",
    "        facet_grid(~phecode_category, scales=\"free_x\", space=\"free_x\")+\n",
    "\n",
    "        scale_size_manual(values=c(0.1, 0.5, 1, 2))+\n",
    "        scale_color_gradient2(low=\"blue\", mid=\"white\", high=\"red\", midpoint=0, limits=c(-0.2, 5), oob = scales::squish)+\n",
    "\n",
    "        scale_x_discrete(expand=expansion(add=20))+\n",
    "        #scale_y_continuous(expand=c(0, 0), trans = \"rev_pseudolog\")+\n",
    "        scale_y_continuous(expand=c(0, 0), \n",
    "                           trans=pseudolog10_trans, \n",
    "                           breaks=c(0, 1, 10, 100, 1000),\n",
    "                           labels=c(\"0x\", \"No change\", \"10x\",\"100x\", \"1000x\"))+\n",
    "                           #breaks=c(0, 1, 2, 5, 10, 20, 50, 100, 1000),\n",
    "                           #labels=c(\"0x\", \"No change\", \"2x\", \"5x\", \"10x\", \"20x\", \"50x\", \"100x\", \"1000x\"))+\n",
    "\n",
    "        coord_cartesian(ylim=c(1000, 0), clip = \"off\")+\n",
    "\n",
    "        theme(strip.background = element_blank(),\n",
    "              strip.text.x = element_blank(),\n",
    "              axis.title.x=element_blank(),\n",
    "              axis.text.x=element_blank(),\n",
    "              axis.ticks.x=element_blank(),\n",
    "              panel.grid.major.y=element_line(), \n",
    "              strip.text = element_text(angle=270, hjust=1),\n",
    "              legend.position=\"none\"\n",
    "         )\n",
    "\n",
    "    print(eid)\n",
    "    ov_individual = overview / overview_rel + plot_annotation(title=glue(\"{eid}\"))\n",
    "    print(ov_individual)                                      \n",
    "    flush.console()\n",
    "    }"
   ]
  },
  {
   "cell_type": "code",
   "execution_count": null,
   "metadata": {
    "tags": []
   },
   "outputs": [],
   "source": [
    "prep_eid_df = function(eid, endpoint_order, category_order){\n",
    "    \n",
    "    temp = prediction_delta %>% \n",
    "        filter(eid==!!eid) %>% \n",
    "        #filter(eid=='XXXXX') %>% \n",
    "        left_join(endpoints_md %>% select(endpoint, phecode, phecode_string, phecode_category, sex) %>% as_tibble()) %>%\n",
    "        mutate(phecode_category = factor(phecode_category, levels=categories_sorted)) %>%\n",
    "        filter(!phecode_category %in% c('Signs/Symptoms','Preg','Rx','Stat')) %>%\n",
    "        mutate(endpoint = factor(endpoint, levels=endpoint_order)) %>% ungroup() %>%\n",
    "        arrange(endpoint) %>% group_by(phecode_category) %>% #mutate(endpoint = row_number()) %>% \n",
    "        ungroup() %>%\n",
    "        mutate(size=case_when(\n",
    "            (prop_rel>2&prop_rel<5) ~ 0.2, \n",
    "            (prop_rel>5&prop_rel<10) ~0.5, \n",
    "            prop_rel>10~1, \n",
    "            TRUE ~ 0.05)\n",
    "              )\n",
    "    \n",
    "    return(temp)\n",
    "    }"
   ]
  },
  {
   "cell_type": "code",
   "execution_count": null,
   "metadata": {
    "tags": []
   },
   "outputs": [],
   "source": [
    "prep_subsets = function(eid, data_covariates, temp){\n",
    "    eid_covs = data_covariates %>% filter(eid == !!eid) \n",
    "    eid_covs_true = colnames(eid_covs)[eid_covs[1,]==TRUE]\n",
    "    eid_covs_post = eid_covs %>% select(where(is.factor), where(is.numeric)) %>% \n",
    "        select(eid, age, sex, everything())\n",
    "    \n",
    "    temp_highpredip = temp %>% filter(prop_rel > 5)\n",
    "    temp_highestpredip = temp_highpredip %>% arrange(delta_rel) %>% tail(10)\n",
    "    temp_highrisk = temp %>% filter(`Age+Sex+MedicalHistory` > 0.01)\n",
    "    temp_highestrisk = temp_highrisk %>% arrange(`Age+Sex+MedicalHistory`) %>% tail(10)\n",
    "    temp_labels = bind_rows(temp_highestpredip, temp_highestrisk) %>% distinct() %>% \n",
    "        mutate(phecode_category = factor(phecode_category, levels=categories_sorted))\n",
    "    \n",
    "    temp_excluded = temp %>% filter((sex!=\"Both\")&(sex!=!!eid_covs_post$sex))\n",
    "    temp_prevalent = temp %>% filter(is.na(prop_rel)) %>% filter((sex==\"Both\")|(sex==!!eid_covs_post$sex))\n",
    "    \n",
    "     mh = (\n",
    "        temp %>% filter(is.na(delta_abs)) %>% filter((sex==!!eid_covs_post$sex)|sex==\"Both\") %>% filter(str_detect(phecode, \"\\\\.\")) %>% arrange(phecode)\n",
    "         )$phecode_string\n",
    "    \n",
    "    print(glue(\"eid: {eid}\"))\n",
    "    \n",
    "    print(\"General information\")\n",
    "    eid_covs_post %>% print(width=Inf)\n",
    "    \n",
    "    print(\"Medical History and prior records\")\n",
    "    temp_prevalent %>% select(phecode_category, phecode_string) %>% print(n=Inf)\n",
    "    \n",
    "    plot_records(eid)\n",
    "    \n",
    "    \n",
    "    print(\"Highest predisposition for:\")\n",
    "    temp_highpredip %>% select(phecode_category, phecode_string, prop_rel, `Age+Sex+MedicalHistory`) %>% \n",
    "        arrange(desc(`Age+Sex+MedicalHistory`)) %>% print(n=Inf)\n",
    "    \n",
    "    temp_metadata = c()\n",
    "    temp_metadata[[\"highestpredip\"]] = temp_highestpredip\n",
    "    temp_metadata[[\"highestrisk\"]] = temp_highestrisk\n",
    "    return(temp_metadata)\n",
    "    }"
   ]
  },
  {
   "cell_type": "code",
   "execution_count": null,
   "metadata": {
    "tags": []
   },
   "outputs": [],
   "source": [
    "plot_absolute_risks = function(temp,temp_highestrisk){\n",
    "    overview = ggplot(temp, aes(x=endpoint, y=`Age+Sex+MedicalHistory`,  color=phecode_category)) + \n",
    "    \n",
    "        labs(x=\"Endpoints\", y=\"10-year risk (%)\") +   \n",
    "        \n",
    "        geom_text_repel(data=temp_highestrisk, aes(y=`Age+Sex+MedicalHistory`, label=str_wrap(glue(\"{phecode_string} ({round(`Age+Sex+MedicalHistory`*100, 1)}%)\"), 30)), \n",
    "                  hjust=0.5, size=3, ylim=c(0.5, 1.2), segment.size=0.2, segment.color=\"black\", segment.alpha=0.7, max.overlaps=Inf)+\n",
    "        geom_point(aes(alpha=delta_rel, size=factor(size)))+\n",
    "        geom_segment(aes(xend=endpoint, yend=0, alpha=delta_rel))+\n",
    "        #facet_grid(~phecode_category, scales=\"free_x\", space=\"free_x\")+\n",
    "        \n",
    "        scale_size_manual(values=c(0.1, 0.5, 1, 2))+\n",
    "        scale_color_manual(values=category_fill_map)+\n",
    "        #scale_color_gradient2(low=\"blue\", mid=\"white\", high=\"red\", midpoint=1, limits=c(-0.8, 5), oob = scales::squish)+\n",
    "        \n",
    "        scale_x_discrete(expand=expansion(add=20))+\n",
    "        scale_y_continuous(expand=c(0, 0), labels=scales::percent) + #breaks = c(log(0.1), log(1), log(10)), labels=c(0.1, 1, 10))+\n",
    "\n",
    "        theme(axis.title.x=element_blank(),\n",
    "              axis.text.x=element_blank(),\n",
    "              axis.ticks.x=element_blank(),\n",
    "              panel.grid.major.y=element_line(), \n",
    "              strip.text = element_text(angle=270, hjust=1),\n",
    "              legend.position=\"none\",\n",
    "              plot.margin = margin(0.1, 0, 0.1, 0, \"cm\")\n",
    "             ) +\n",
    "    \n",
    "        coord_cartesian(ylim=c(0, 1), clip = \"off\")\n",
    "    return(overview)\n",
    "    }"
   ]
  },
  {
   "cell_type": "raw",
   "metadata": {
    "execution": {
     "iopub.execute_input": "2022-07-03T13:52:08.676581Z",
     "iopub.status.busy": "2022-07-03T13:52:08.675722Z",
     "iopub.status.idle": "2022-07-03T13:52:08.744067Z",
     "shell.execute_reply": "2022-07-03T13:52:08.742687Z"
    },
    "tags": []
   },
   "source": [
    "temp %>% group_by(phecode_category) %>% slice_max(endpoint, n=2) %>% select(endpoint, phecode_string, phecode_category) %>% ungroup() %>% pivot_wider(names_from=endpoint, values_from=endpoint)"
   ]
  },
  {
   "cell_type": "code",
   "execution_count": null,
   "metadata": {
    "tags": []
   },
   "outputs": [],
   "source": [
    "plot_predispositions = function(temp, temp_highestpredip){\n",
    "    overview_rel = ggplot(temp, aes(x=endpoint, y=delta_rel, color=phecode_category)) + \n",
    "    \n",
    "        labs(x=\"Endpoints\", y=\"Predisposition\") +\n",
    " \n",
    "        #geom_hline(yintercept=0, color=\"black\", size=0.5, alpha=1)+\n",
    "    \n",
    "        #geom_col()+\n",
    "        #geom_segment(data=temp, aes(x=endpoint, xend=endpoint, y=0, yend=1, fill=phecode_category, alpha=.2), color=NA)+\n",
    "        geom_text_repel(data=temp_highestpredip, aes(y=delta_rel+1, label=str_wrap(glue(\"{phecode_string} (x{round(delta_rel+1, 1)})\"), 30)), \n",
    "                  hjust=0.5, size=3, ylim=c(1.5, 1000), segment.size=0.2, segment.color=\"black\", segment.alpha=0.7, max.overlaps=Inf)+\n",
    "        geom_point(aes(alpha=delta_rel, size=factor(size)))+\n",
    "        geom_segment(aes(xend=endpoint, yend=0, alpha=delta_rel))+\n",
    "        #facet_grid(~phecode_category, scales=\"free_x\", space=\"free_x\")+\n",
    "\n",
    "        scale_size_manual(values=c(0.1, 0.5, 1, 2))+\n",
    "        #scale_color_brewer(type = \"qual\")+#\n",
    "        scale_color_manual(values=category_fill_map)+\n",
    "        scale_fill_manual(values=category_fill_map)+\n",
    "        #scale_color_gradient2(low=\"blue\", mid=\"white\", high=\"red\", midpoint=0, limits=c(-0.8, 5), oob = scales::squish)+\n",
    "\n",
    "\n",
    "        scale_x_discrete(expand=expansion(add=20))+\n",
    "        #scale_y_continuous(expand=c(0, 0), trans = \"rev_pseudolog\")+\n",
    "        scale_y_continuous(expand=c(0, 0), \n",
    "                           trans=pseudolog10_trans, \n",
    "                           breaks=c(-1, 0, 1, 11, 101, 1001),\n",
    "                           labels=c(\"Reduced risk\", \"No change\", \"2x Risk\", \"10x Risk\",\"100x Risk\", \"1000x Risk\"))+\n",
    "                           #breaks=c(0, 1, 2, 5, 10, 20, 50, 100, 1000),\n",
    "                           #labels=c(\"0x\", \"No change\", \"2x\", \"5x\", \"10x\", \"20x\", \"50x\", \"100x\", \"1000x\"))+\n",
    "\n",
    "        coord_cartesian(ylim=c(1001, 0))+\n",
    "\n",
    "        theme(strip.background = element_blank(),\n",
    "              strip.text.x = element_blank(),\n",
    "              axis.title.x=element_blank(),\n",
    "              axis.text.x=element_blank(),\n",
    "              axis.ticks.x=element_blank(),\n",
    "              panel.grid.major.y=element_line(), \n",
    "              strip.text = element_text(angle=270, hjust=1),\n",
    "              legend.position=\"none\",\n",
    "              plot.margin = margin(0.1, 0, 0.1, 0, \"cm\")\n",
    "         )\n",
    "    return(overview_rel)\n",
    "    }"
   ]
  },
  {
   "cell_type": "code",
   "execution_count": null,
   "metadata": {
    "tags": []
   },
   "outputs": [],
   "source": [
    "plot_records = function(eid){\n",
    "    eid_records = t(data_records %>% filter(eid==!!eid)) %>% \n",
    "        as_tibble(rownames=NA) %>% filter(V1==1) %>% rownames_to_column(var=\"concept_id_raw\") %>% \n",
    "        filter(str_detect(concept_id_raw, \"OMOP_\")) %>% mutate(concept_id = as.numeric(str_replace_all(concept_id_raw, \"OMOP_\", \"\"))) %>% \n",
    "        left_join(concepts)\n",
    "    print(eid_records$concept_name)\n",
    "    }"
   ]
  },
  {
   "cell_type": "code",
   "execution_count": null,
   "metadata": {
    "tags": []
   },
   "outputs": [],
   "source": [
    "# 1585902 # alright sample"
   ]
  },
  {
   "cell_type": "code",
   "execution_count": null,
   "metadata": {
    "tags": []
   },
   "outputs": [],
   "source": [
    "library(ggtext)\n",
    "library(ggrepel)\n",
    "library(viridis)\n",
    "\n",
    "plot_width = 10; plot_height=5; plot_res = 320\n",
    "options(repr.plot.width = plot_width, repr.plot.height = plot_height, repr.plot.res=plot_res)\n",
    "\n",
    "categories_sorted = (endpoints_md %>% arrange(endpoint) %>% distinct(phecode_category) %>% as_tibble())$phecode_category\n",
    "\n",
    "category_color_map <- c(viridis::turbo(n = length(categories_sorted)))\n",
    "names(category_color_map) = categories_sorted\n",
    "\n",
    "category_fill_map <- rep_len(c(\"black\", \"gray20\"), length(categories_sorted))\n",
    "names(category_fill_map) = categories_sorted\n",
    "\n",
    "endpoint_order = (endpoints_md)$endpoint\n",
    "eid_selection = unique(prediction_delta$eid) %>% sample(1)\n",
    "\n",
    "for (eid in eid_selection){\n",
    "    \n",
    "    temp = prep_eid_df(eid, endpoint_order, category_order)\n",
    "    \n",
    "    temp_subsets = prep_subsets(eid, data_covariates, temp)\n",
    "\n",
    "    overview_abs = plot_absolute_risks(temp, temp_subsets[[\"highestrisk\"]])\n",
    "    overview_rel = plot_predispositions(temp, temp_subsets[[\"highestpredip\"]])\n",
    "    \n",
    "    ov_individual = overview_abs / overview_rel + plot_annotation(title=glue(\"{eid}\"))\n",
    "    \n",
    "    print(ov_individual)                                      \n",
    "    flush.console()\n",
    "    }"
   ]
  },
  {
   "cell_type": "code",
   "execution_count": null,
   "metadata": {
    "tags": []
   },
   "outputs": [],
   "source": []
  },
  {
   "cell_type": "code",
   "execution_count": null,
   "metadata": {
    "tags": []
   },
   "outputs": [],
   "source": []
  },
  {
   "cell_type": "code",
   "execution_count": null,
   "metadata": {
    "tags": []
   },
   "outputs": [],
   "source": []
  },
  {
   "cell_type": "code",
   "execution_count": null,
   "metadata": {
    "tags": []
   },
   "outputs": [],
   "source": [
    "eid_matrix = t(eid_records) \n",
    "concept_id = eid_matrix[1]"
   ]
  },
  {
   "cell_type": "code",
   "execution_count": null,
   "metadata": {},
   "outputs": [],
   "source": [
    "eid_matrix %>% mutate(concept_id=concept_id)"
   ]
  },
  {
   "cell_type": "code",
   "execution_count": null,
   "metadata": {
    "tags": []
   },
   "outputs": [],
   "source": [
    "temp_subsets[[\"highestrisk\"]]"
   ]
  },
  {
   "cell_type": "code",
   "execution_count": null,
   "metadata": {
    "tags": []
   },
   "outputs": [],
   "source": [
    "temp_subsets[[\"highestpredip\"]]"
   ]
  },
  {
   "cell_type": "code",
   "execution_count": null,
   "metadata": {},
   "outputs": [],
   "source": [
    "temp"
   ]
  },
  {
   "cell_type": "code",
   "execution_count": null,
   "metadata": {
    "tags": []
   },
   "outputs": [],
   "source": [
    "temp_highestrisk"
   ]
  },
  {
   "cell_type": "code",
   "execution_count": null,
   "metadata": {
    "tags": []
   },
   "outputs": [],
   "source": [
    "plot_width = 5; plot_height=2.5; plot_res = 320\n",
    "options(repr.plot.width = plot_width, repr.plot.height = plot_height, repr.plot.res=plot_res)\n",
    "ov_individual"
   ]
  },
  {
   "cell_type": "code",
   "execution_count": null,
   "metadata": {
    "tags": []
   },
   "outputs": [],
   "source": [
    "temp"
   ]
  },
  {
   "cell_type": "code",
   "execution_count": null,
   "metadata": {
    "tags": []
   },
   "outputs": [],
   "source": [
    "mh "
   ]
  },
  {
   "cell_type": "code",
   "execution_count": null,
   "metadata": {
    "tags": []
   },
   "outputs": [],
   "source": [
    "library(plotly)\n",
    "f1 = ggplotly(overview)\n",
    "f2 = ggplotly(overview_rel)\n",
    "f = subplot(f1, f2, nrows=2)"
   ]
  },
  {
   "cell_type": "code",
   "execution_count": null,
   "metadata": {
    "tags": []
   },
   "outputs": [],
   "source": [
    "htmlwidgets::saveWidget(f, \"ind_test.html\")"
   ]
  },
  {
   "cell_type": "code",
   "execution_count": null,
   "metadata": {
    "tags": []
   },
   "outputs": [],
   "source": [
    "t / overview_rel"
   ]
  },
  {
   "cell_type": "code",
   "execution_count": null,
   "metadata": {
    "tags": []
   },
   "outputs": [],
   "source": [
    "plot_width = 10; plot_height=2.5; plot_res = 320\n",
    "options(repr.plot.width = plot_width, repr.plot.height = plot_height, repr.plot.res=plot_res)\n",
    "\n",
    "library(ggtext)\n",
    "categories_sorted = (endpoints_md %>% arrange(endpoint) %>% distinct(phecode_category) %>% as_tibble())$phecode_category\n",
    "\n",
    "temp = prediction_delta %>% \n",
    "    #filter(eid=='XXXXX') %>% \n",
    "    filter(eid=='XXXXX') %>% \n",
    "    left_join(endpoints_md %>% select(endpoint, phecode_string, phecode_category) %>% as_tibble()) %>%\n",
    "    mutate(phecode_category = factor(phecode_category, levels=categories_sorted)) #%>%\n",
    "    #mutate(highlight = case_when(endpoint %in% endpoint_selection ~ \"YES\", TRUE ~ \"NO\")) \n",
    "\n",
    "\n",
    "endpoint_order = (endpoints_md)$endpoint\n",
    "\n",
    "temp = temp %>% mutate(endpoint = factor(endpoint, levels=endpoint_order)) %>% ungroup() %>% \n",
    "    arrange(endpoint) %>% group_by(phecode_category) %>% mutate(endpoint = row_number()) \n",
    "\n",
    "overview = ggplot(temp) +\n",
    "    #geom_ribbon(aes(x=endpoint, ymin=0, ymax=logh), fill=\"black\", alpha=0.2)+\n",
    "    geom_point(aes(x=endpoint, y=`Age+Sex+MedicalHistory`)+#, color=highlight, size=highlight, alpha=highlight)) +\n",
    "    #geom_text(data=temp %>% filter(highlight==\"YES\"), aes(x=endpoint, y=log_ratio+0.5, label=\"\u2193\", vjust=0), color=\"black\", size=5, alpha=0.7) +\n",
    "    #geom_segment(aes(x=endpoint, xend=endpoint, y=0, yend=delta, color=highlight, size=highlight), alpha=0.5)+#+\n",
    "    labs(x=\"Endpoints\", y=\"Rate Ratio\") +# (Top vs. Bottom 10%)\")+\n",
    "    #scale_color_manual(values=c(\"NO\"=\"black\", \"YES\"=\"firebrick\"))+\n",
    "    #scale_alpha_manual(values=c(\"NO\"=0.1, \"YES\"=1))+\n",
    "    #scale_size_manual(values=c(\"NO\"=0.01, \"YES\"=1))+\n",
    "    scale_y_continuous(breaks = c(log(0.1), log(1), log(10)), labels=c(0.1, 1, 10))+\n",
    "    scale_x_discrete(expand=expansion(add=20))+\n",
    "    facet_grid(~phecode_category, scales=\"free_x\", space=\"free_x\")+#, switch=TRUE)+\n",
    "    #facet_grid2(~phecode_category, scales = \"free\", independent = \"all\") + \n",
    "    theme(axis.title.x=element_blank(),\n",
    "        axis.text.x=element_blank(),\n",
    "        axis.ticks.x=element_blank(),\n",
    "        panel.grid.major.y=element_line(), \n",
    "         strip.text = element_text(angle=270, hjust=0)) + \n",
    "    theme(legend.position=\"none\") \n",
    "    \n",
    "    #geom_ribbon(aes(x=id, ymin=AgeSex, ymax=`Age+Sex+MedicalHistory`), fill=\"red\", alpha=0.2)\n",
    "#geom_violin(size=0.1)\n",
    "overview"
   ]
  }
 ],
 "metadata": {
  "hide_input": false,
  "kernelspec": {
   "display_name": "R [conda env:r_env]",
   "language": "R",
   "name": "conda-env-r_env-r"
  },
  "language_info": {
   "codemirror_mode": "r",
   "file_extension": ".r",
   "mimetype": "text/x-r-source",
   "name": "R",
   "pygments_lexer": "r",
   "version": "4.0.2"
  },
  "toc-autonumbering": false
 },
 "nbformat": 4,
 "nbformat_minor": 4
}