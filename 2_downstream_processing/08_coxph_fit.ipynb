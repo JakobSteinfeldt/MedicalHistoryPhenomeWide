{
 "cells": [
  {
   "cell_type": "markdown",
   "metadata": {},
   "source": [
    "# Fit Cox Models"
   ]
  },
  {
   "cell_type": "code",
   "execution_count": null,
   "metadata": {
    "execution": {
     "iopub.execute_input": "2023-04-27T12:41:40.410554Z",
     "iopub.status.busy": "2023-04-27T12:41:40.410224Z",
     "iopub.status.idle": "2023-04-27T12:41:43.428834Z",
     "shell.execute_reply": "2023-04-27T12:41:43.428170Z",
     "shell.execute_reply.started": "2023-04-27T12:41:40.410536Z"
    },
    "tags": []
   },
   "outputs": [],
   "source": [
    "import os\n",
    "import math\n",
    "import pathlib\n",
    "import numpy as np\n",
    "import pandas as pd\n",
    "from tqdm.auto import tqdm\n",
    "from IPython.display import clear_output\n",
    "import ray\n",
    "\n",
    "import warnings\n",
    "import lifelines\n",
    "from lifelines.utils import CensoringType\n",
    "from lifelines.utils import concordance_index"
   ]
  },
  {
   "cell_type": "markdown",
   "metadata": {},
   "source": [
    "## Submit CoxPH jobs"
   ]
  },
  {
   "cell_type": "code",
   "execution_count": null,
   "metadata": {
    "execution": {
     "iopub.execute_input": "2023-04-27T12:41:43.436491Z",
     "iopub.status.busy": "2023-04-27T12:41:43.436356Z",
     "iopub.status.idle": "2023-04-27T12:41:43.675445Z",
     "shell.execute_reply": "2023-04-27T12:41:43.674871Z",
     "shell.execute_reply.started": "2023-04-27T12:41:43.436476Z"
    },
    "tags": []
   },
   "outputs": [],
   "source": [
    "# %%\n",
    "import datetime\n",
    "import itertools\n",
    "import os\n",
    "import pathlib\n",
    "import re\n",
    "import subprocess\n",
    "\n",
    "import pandas as pd\n",
    "from omegaconf import OmegaConf\n",
    "from tqdm.auto import tqdm\n",
    "\n",
    "# %% codecell\n",
    "USER = \"USER\"  # Anonymized\n",
    "BASE = pathlib.Path(f\"/home/{USER}/code/\")\n",
    "\n",
    "EXPERIMENT_NAME = \"22_medhistory\"  # name under which to store the generated .sh scripts and yamls\n",
    "TEMPLATE_CONFIG = f\"{BASE}/config/\"  # template yaml to use\n",
    "TRAIN_SCRIPT = f\"{BASE}/MedicalHistoryPhenomeWide/2_downstream_processing/08_coxph_fit_partition.py\"\n",
    "ACTIVATE_ENV_CMD = \"\"\"mamba activate udm\"\"\"\n",
    "\n",
    "TAG = 230425\n",
    "JOBNAME = \"fit_coxph\""
   ]
  },
  {
   "cell_type": "code",
   "execution_count": null,
   "metadata": {
    "execution": {
     "iopub.execute_input": "2023-04-27T12:41:43.677651Z",
     "iopub.status.busy": "2023-04-27T12:41:43.677513Z",
     "iopub.status.idle": "2023-04-27T12:41:43.682425Z",
     "shell.execute_reply": "2023-04-27T12:41:43.681983Z",
     "shell.execute_reply.started": "2023-04-27T12:41:43.677637Z"
    },
    "tags": []
   },
   "outputs": [],
   "source": [
    "TRAIN_SCRIPT"
   ]
  },
  {
   "cell_type": "code",
   "execution_count": null,
   "metadata": {
    "execution": {
     "iopub.execute_input": "2023-04-27T12:41:43.684431Z",
     "iopub.status.busy": "2023-04-27T12:41:43.684291Z",
     "iopub.status.idle": "2023-04-27T12:41:43.702791Z",
     "shell.execute_reply": "2023-04-27T12:41:43.702337Z",
     "shell.execute_reply.started": "2023-04-27T12:41:43.684418Z"
    },
    "tags": []
   },
   "outputs": [],
   "source": [
    "os.makedirs(f\"/home/{USER}/tmp/{EXPERIMENT_NAME}/job_submissions\", exist_ok=True)\n",
    "os.makedirs(f\"/home/{USER}/tmp/{EXPERIMENT_NAME}/job_configs\", exist_ok=True)\n",
    "os.makedirs(f\"/home/{USER}/tmp/{EXPERIMENT_NAME}/job_outputs\", exist_ok=True)"
   ]
  },
  {
   "cell_type": "code",
   "execution_count": null,
   "metadata": {
    "execution": {
     "iopub.execute_input": "2023-04-27T12:41:43.704762Z",
     "iopub.status.busy": "2023-04-27T12:41:43.704624Z",
     "iopub.status.idle": "2023-04-27T12:41:43.711725Z",
     "shell.execute_reply": "2023-04-27T12:41:43.711274Z",
     "shell.execute_reply.started": "2023-04-27T12:41:43.704750Z"
    },
    "tags": []
   },
   "outputs": [],
   "source": [
    "def make_job_script(user, job_name, partition):\n",
    "\n",
    "    job_script_str = (\n",
    "        f\"\"\"#!/bin/bash\n",
    "\n",
    "#SBATCH --job-name={job_name}  # Specify job name\n",
    "#SBATCH --nodes=1              # Specify number of nodes\n",
    "#SBATCH --mem=485G              # Specify number of nodes\n",
    "#SBATCH --time=4:00:00        # Set a limit on the total run time\n",
    "#SBATCH --tasks-per-node=1\n",
    "#SBATCH --exclusive\n",
    "\n",
    "{ACTIVATE_ENV_CMD}\n",
    "\n",
    "ray start --head --port=6378 --num-cpus 24\n",
    "python {TRAIN_SCRIPT} {partition}\"\"\"\n",
    "            )\n",
    "\n",
    "    return job_script_str\n"
   ]
  },
  {
   "cell_type": "code",
   "execution_count": null,
   "metadata": {
    "execution": {
     "iopub.execute_input": "2023-04-27T12:41:43.715318Z",
     "iopub.status.busy": "2023-04-27T12:41:43.714925Z",
     "iopub.status.idle": "2023-04-27T12:41:43.727719Z",
     "shell.execute_reply": "2023-04-27T12:41:43.727260Z",
     "shell.execute_reply.started": "2023-04-27T12:41:43.715303Z"
    },
    "tags": []
   },
   "outputs": [],
   "source": [
    "def submit(path, job_name, job_script, time_stamp=None):\n",
    "    if not time_stamp:\n",
    "        time_stamp = datetime.datetime.now().strftime(\"%Y-%m-%d_%H:%M:%S\")\n",
    "\n",
    "    script_path_long = f\"{path}/{job_name}_{time_stamp}.sh\"\n",
    "\n",
    "    with open(script_path_long, \"w\") as outfile:\n",
    "        outfile.write(job_script)\n",
    "    script_path = f\"{path}/{job_name}.sh\"\n",
    "    try:\n",
    "        os.unlink(script_path)\n",
    "    except FileNotFoundError:  # because we cannot overwrite symlinks directly\n",
    "        pass\n",
    "    os.symlink(os.path.realpath(script_path_long), script_path)\n",
    "\n",
    "    output_path = f\"/home/{USER}/tmp/{EXPERIMENT_NAME}/job_outputs/{job_name}\"\n",
    "\n",
    "    print(job_script)\n",
    "    print(\"\\n\\nSubmission:\\n===========\\n\")\n",
    "    sub_cmd = (\n",
    "        f\"sbatch --error={output_path}_%j_stderr.out --output={output_path}_%j_stdout.out <\"\n",
    "        f\" {script_path}\"\n",
    "    )\n",
    "    print(sub_cmd)\n",
    "\n",
    "    ret = subprocess.run(sub_cmd, shell=True, cwd=os.getcwd(), capture_output=True)\n",
    "    print(ret.stdout.decode())"
   ]
  },
  {
   "cell_type": "code",
   "execution_count": null,
   "metadata": {
    "execution": {
     "iopub.execute_input": "2023-04-27T12:41:43.729790Z",
     "iopub.status.busy": "2023-04-27T12:41:43.729644Z",
     "iopub.status.idle": "2023-04-27T12:41:43.741492Z",
     "shell.execute_reply": "2023-04-27T12:41:43.741062Z",
     "shell.execute_reply.started": "2023-04-27T12:41:43.729778Z"
    },
    "tags": []
   },
   "outputs": [],
   "source": [
    "partitions = [i for i in range(19, 22)]\n",
    "partitions"
   ]
  },
  {
   "cell_type": "code",
   "execution_count": null,
   "metadata": {
    "execution": {
     "iopub.execute_input": "2023-04-27T12:41:43.743656Z",
     "iopub.status.busy": "2023-04-27T12:41:43.743521Z",
     "iopub.status.idle": "2023-04-27T12:41:43.754868Z",
     "shell.execute_reply": "2023-04-27T12:41:43.754420Z",
     "shell.execute_reply.started": "2023-04-27T12:41:43.743644Z"
    },
    "tags": []
   },
   "outputs": [],
   "source": [
    "#!rm -rf /tmp/ray"
   ]
  },
  {
   "cell_type": "code",
   "execution_count": null,
   "metadata": {
    "execution": {
     "iopub.execute_input": "2023-04-27T12:41:43.756901Z",
     "iopub.status.busy": "2023-04-27T12:41:43.756769Z",
     "iopub.status.idle": "2023-04-27T12:41:43.768269Z",
     "shell.execute_reply": "2023-04-27T12:41:43.767826Z",
     "shell.execute_reply.started": "2023-04-27T12:41:43.756888Z"
    },
    "tags": []
   },
   "outputs": [],
   "source": [
    "#!rm -rf /home/USER/tmp/22_medhistory/job_outputs"
   ]
  },
  {
   "cell_type": "code",
   "execution_count": null,
   "metadata": {
    "execution": {
     "iopub.execute_input": "2023-04-27T12:41:43.768922Z",
     "iopub.status.busy": "2023-04-27T12:41:43.768793Z",
     "iopub.status.idle": "2023-04-27T12:41:43.985082Z",
     "shell.execute_reply": "2023-04-27T12:41:43.984512Z",
     "shell.execute_reply.started": "2023-04-27T12:41:43.768910Z"
    },
    "tags": []
   },
   "outputs": [],
   "source": [
    "import time\n",
    "\n",
    "jobids = []\n",
    "for partition in partitions:\n",
    "\n",
    "    job_script = make_job_script(user=USER, job_name=JOBNAME, partition=partition)\n",
    "\n",
    "    jobid = submit(\n",
    "        path=f\"/home/{USER}/tmp/{EXPERIMENT_NAME}/job_submissions\",\n",
    "        job_name=JOBNAME + f\"_{partition}\",\n",
    "        job_script=job_script,\n",
    "    )\n",
    "\n",
    "    jobids.append(jobid)\n",
    "    #time.sleep(2)\n",
    "\n",
    "print(jobids)"
   ]
  },
  {
   "cell_type": "markdown",
   "metadata": {},
   "source": [
    "## Check progress"
   ]
  },
  {
   "cell_type": "code",
   "execution_count": null,
   "metadata": {
    "execution": {
     "iopub.execute_input": "2023-04-27T12:53:39.307769Z",
     "iopub.status.busy": "2023-04-27T12:53:39.307393Z",
     "iopub.status.idle": "2023-04-27T12:53:49.949389Z",
     "shell.execute_reply": "2023-04-27T12:53:49.948870Z",
     "shell.execute_reply.started": "2023-04-27T12:53:39.307752Z"
    },
    "tags": []
   },
   "outputs": [],
   "source": [
    "cox_paths = !ls \"/sc-projects/sc-proj-ukb-cvd/results/projects/22_medical_records/data/230425/coxph/models/\"\n",
    "\n",
    "path_df = pd.DataFrame(data = [p[:-2] for p in cox_paths]).rename(columns={0:\"path\"})\n",
    "path_df[[\"endpoint_1\", \"endpoint_2\", \"score\", \"partition\"]] = path_df.path.str.split(\"_\", expand=True,)\n",
    "path_df[\"endpoint\"] = path_df[\"endpoint_1\"] + \"_\" + path_df[\"endpoint_2\"]\n",
    "path_df[\"partition\"] = path_df[\"partition\"].astype(int)\n",
    "path_df.value_counts([\"partition\"]).to_frame().sort_index()"
   ]
  },
  {
   "cell_type": "code",
   "execution_count": null,
   "metadata": {
    "execution": {
     "iopub.execute_input": "2023-04-27T16:39:28.664151Z",
     "iopub.status.busy": "2023-04-27T16:39:28.663986Z",
     "iopub.status.idle": "2023-04-27T16:39:41.335009Z",
     "shell.execute_reply": "2023-04-27T16:39:41.334382Z",
     "shell.execute_reply.started": "2023-04-27T16:39:28.664133Z"
    },
    "tags": []
   },
   "outputs": [],
   "source": [
    "!ls -t \"/sc-projects/sc-proj-ukb-cvd/results/projects/22_medical_records/data/230425/coxph/predictions\" | head -n5"
   ]
  },
  {
   "cell_type": "markdown",
   "metadata": {},
   "source": [
    "## Fig Crashing CoxPH models"
   ]
  },
  {
   "cell_type": "code",
   "execution_count": null,
   "metadata": {
    "tags": []
   },
   "outputs": [],
   "source": [
    "node = !hostname\n",
    "if \"sc\" in node[0]:\n",
    "    base_path = \"/sc-projects/sc-proj-ukb-cvd\"\n",
    "else: \n",
    "    base_path = \"/data/analysis/ag-reils/ag-reils-shared/cardioRS\"\n",
    "print(base_path)\n",
    "\n",
    "project_label = \"22_medical_records\"\n",
    "project_path = f\"{base_path}/results/projects/{project_label}\"\n",
    "figure_path = f\"{project_path}/figures\"\n",
    "output_path = f\"{project_path}/data\"\n",
    "\n",
    "experiment = 220613\n",
    "experiment_path = f\"{output_path}/{experiment}\"\n",
    "pathlib.Path(experiment_path).mkdir(parents=True, exist_ok=True)"
   ]
  },
  {
   "cell_type": "code",
   "execution_count": null,
   "metadata": {
    "tags": []
   },
   "outputs": [],
   "source": [
    "endpoints_md = pd.read_csv(f\"{experiment_path}/endpoints.csv\")\n",
    "endpoints = sorted(endpoints_md.endpoint.to_list())"
   ]
  },
  {
   "cell_type": "code",
   "execution_count": null,
   "metadata": {
    "tags": []
   },
   "outputs": [],
   "source": [
    "endpoints_md = pd.read_csv(f\"{experiment_path}/endpoints.csv\")\n",
    "endpoints = sorted(endpoints_md.endpoint.to_list())"
   ]
  },
  {
   "cell_type": "code",
   "execution_count": null,
   "metadata": {
    "tags": []
   },
   "outputs": [],
   "source": [
    "import yaml\n",
    "import pickle\n",
    "import zstandard\n",
    "\n",
    "def get_score_defs():\n",
    "\n",
    "    with open(r'/home/USER/code/22_medical_records/1_processing/score_definitions.yaml') as file:\n",
    "        score_defs = yaml.full_load(file)\n",
    "    \n",
    "    return score_defs\n",
    "\n",
    "def get_features(endpoint, score_defs):\n",
    "    features = {\n",
    "        'Identity(Records)+MLP': {\n",
    "            \"Age+Sex\": score_defs[\"AgeSex\"],\n",
    "            \"SCORE2\": score_defs[\"SCORE2\"],\n",
    "            \"ASCVD\": score_defs[\"ASCVD\"],\n",
    "            \"QRISK3\": score_defs[\"QRISK3\"],\n",
    "            \"MedicalHistory\": [endpoint],\n",
    "            \"Age+Sex+MedicalHistory\": score_defs[\"AgeSex\"] + [endpoint],\n",
    "            }\n",
    "    }\n",
    "    return features\n",
    "\n",
    "def load_pickle(fp):\n",
    "    with open(fp, \"rb\") as fh:\n",
    "        dctx = zstandard.ZstdDecompressor()\n",
    "        with dctx.stream_reader(fh) as decompressor:\n",
    "            data = pickle.loads(decompressor.read())\n",
    "    return data\n",
    "\n",
    "def fit_cox(data_fit, feature_set, covariates, endpoint, penalizer, step_size=1):\n",
    "    cph = CoxPHFitter(penalizer=penalizer)\n",
    "    cph.fit(data_fit, f\"{endpoint}_time\", f\"{endpoint}_event\", step_size=step_size)\n",
    "    return cph\n",
    "\n",
    "score_defs = get_score_defs()"
   ]
  },
  {
   "cell_type": "code",
   "execution_count": null,
   "metadata": {
    "tags": []
   },
   "outputs": [],
   "source": [
    "def clean_covariates(endpoint, covariates):\n",
    "    if endpoint==\"phecode_181\": # Autoimmune disease\n",
    "        covariates = [c for c in covariates if c!=\"systemic_lupus_erythematosus\"]\n",
    "    if endpoint==\"phecode_202\": # Diabetes\n",
    "        covariates = [c for c in covariates if c not in ['diabetes1', 'diabetes2', 'diabetes']]\n",
    "    if endpoint==\"phecode_202-1\": # Diabetes 1\n",
    "        covariates = [c for c in covariates if c!=\"diabetes1\"]\n",
    "    if endpoint==\"phecode_202-2\": # Diabetes 1\n",
    "        covariates = [c for c in covariates if c!=\"diabetes2\"]\n",
    "    if endpoint==\"phecode_286\": # Mood [affective] disorders\n",
    "        covariates = [c for c in covariates if c not in ['bipolar_disorder', 'major_depressive_disorder']]\n",
    "    if endpoint==\"phecode_286-1\": # Bipolar disorder\n",
    "        covariates = [c for c in covariates if c not in ['bipolar_disorder']]\n",
    "    if endpoint==\"phecode_286-2\": # Major depressive disorder\n",
    "        covariates = [c for c in covariates if c not in ['major_depressive_disorder']]\n",
    "    if endpoint==\"phecode_287\": # psychotic disorders\n",
    "        covariates = [c for c in covariates if c not in ['schizophrenia']]\n",
    "    if endpoint==\"phecode_287-1\": # schizophrenia\n",
    "        covariates = [c for c in covariates if c not in ['schizophrenia']]\n",
    "    if endpoint==\"phecode_331\": # headache\n",
    "        covariates = [c for c in covariates if c!=\"migraine\"]\n",
    "    if endpoint==\"phecode_331-6\": # headache\n",
    "        covariates = [c for c in covariates if c!=\"migraine\"]\n",
    "    if endpoint==\"phecode_416\": # atrial fibrillation\n",
    "        covariates = [c for c in covariates if c not in ['atrial_fibrillation']]\n",
    "    if endpoint==\"phecode_416-2\": # atrial fibrillation and flutter\n",
    "        covariates = [c for c in covariates if c not in ['atrial_fibrillation']]\n",
    "    if endpoint==\"phecode_416-21\": # atrial fibrillation\n",
    "        covariates = [c for c in covariates if c not in ['atrial_fibrillation']]\n",
    "    if endpoint==\"phecode_584\": # Renal failure\n",
    "        covariates = [c for c in covariates if c not in ['renal_failure']]\n",
    "    if endpoint==\"phecode_605\": # Male sexual dysfuction\n",
    "        covariates = [c for c in covariates if c not in ['sex_Male', 'male_erectile_dysfunction']]\n",
    "    if endpoint==\"phecode_605-1\": # Male sexual dysfuction\n",
    "        covariates = [c for c in covariates if c not in ['sex_Male', 'male_erectile_dysfunction']]\n",
    "    if endpoint==\"phecode_700\": # Diffuse diseases of connective tissue\n",
    "        covariates = [c for c in covariates if c not in ['systemic_lupus_erythematosus']]\n",
    "    if endpoint==\"phecode_700-1\": # Lupus\n",
    "        covariates = [c for c in covariates if c not in ['systemic_lupus_erythematosus']]\n",
    "    if endpoint==\"phecode_700-11\": # Systemic lupus erythematosus [SLE]\t\n",
    "        covariates = [c for c in covariates if c not in ['systemic_lupus_erythematosus']]\n",
    "    if endpoint==\"phecode_705\": # Rheumatoid arthritis and other inflammatory\n",
    "        covariates = [c for c in covariates if c not in ['rheumatoid_arthritis']]\n",
    "    if endpoint==\"phecode_705-1\": # Rheumatoid arthritis and other inflammatory\n",
    "        covariates = [c for c in covariates if c not in ['rheumatoid_arthritis']]\n",
    "    return covariates"
   ]
  },
  {
   "cell_type": "code",
   "execution_count": null,
   "metadata": {
    "tags": []
   },
   "outputs": [],
   "source": [
    "# problematic endpoints\n",
    "problem_endpoints = [\n",
    "    \"phecode_181\",\n",
    "    \"phecode_202\",\n",
    "    \"phecode_202-1\",\n",
    "    \"phecode_286\",\n",
    "    \"phecode_287-1\",\n",
    "    \"phecode_331\",\n",
    "    \"phecode_416\",\n",
    "    \"phecode_416-2\",\n",
    "    \"phecode_416-21\",\n",
    "    \"phecode_584\", # \n",
    "    \"phecode_605\",\n",
    "    \"phecode_700\",\n",
    "    \"phecode_700-1\",\n",
    "    \"phecode_700-11\",\n",
    "    \"phecode_705\",\n",
    "    \"phecode_705-1\"\n",
    "]\n",
    "\n",
    "endpoints_md.query(\"endpoint==@problem_endpoints\")"
   ]
  },
  {
   "cell_type": "code",
   "execution_count": null,
   "metadata": {
    "tags": []
   },
   "outputs": [],
   "source": [
    "from lifelines import CoxPHFitter\n",
    "endpoint = \"phecode_202-2\"\n",
    "partition = 11\n",
    "feature_set = \"QRISK3\"\n",
    "display(endpoints_md.query(\"endpoint==@endpoint\"))\n",
    "\n",
    "test_data = load_pickle(f\"/sc-projects/sc-proj-ukb-cvd/results/projects/22_medical_records/data/220613/coxph/errordata_{endpoint}_{feature_set}_{partition}.p\")\n",
    "display(test_data.T)\n",
    "\n",
    "features = get_features(endpoint, score_defs)\n",
    "covariates = features[\"Identity(Records)+MLP\"][feature_set]\n",
    "\n",
    "# # clean covariates for the coxphs to fit\n",
    "covariates = clean_covariates(endpoint, covariates)\n",
    "print(covariates)\n",
    "\n",
    "data_endpoint = test_data[covariates + [f\"{endpoint}_event\", f\"{endpoint}_time\"]].astype(np.float32)\n",
    "\n",
    "cph = fit_cox(data_endpoint,#.drop(columns=[\"systemic_lupus_erythematosus\"]), \n",
    "              feature_set, covariates, endpoint, penalizer=0, step_size=0.1)\n",
    "cph.print_summary()"
   ]
  },
  {
   "cell_type": "code",
   "execution_count": null,
   "metadata": {
    "tags": []
   },
   "outputs": [],
   "source": []
  },
  {
   "cell_type": "code",
   "execution_count": null,
   "metadata": {},
   "outputs": [],
   "source": []
  },
  {
   "cell_type": "code",
   "execution_count": null,
   "metadata": {},
   "outputs": [],
   "source": []
  },
  {
   "cell_type": "code",
   "execution_count": null,
   "metadata": {},
   "outputs": [],
   "source": []
  },
  {
   "cell_type": "code",
   "execution_count": null,
   "metadata": {},
   "outputs": [],
   "source": [
    "jobids"
   ]
  },
  {
   "cell_type": "code",
   "execution_count": null,
   "metadata": {
    "tags": []
   },
   "outputs": [],
   "source": []
  },
  {
   "cell_type": "code",
   "execution_count": null,
   "metadata": {
    "tags": []
   },
   "outputs": [],
   "source": [
    "#fit_partition(in_path, model_path, score_defs, 0)"
   ]
  },
  {
   "cell_type": "code",
   "execution_count": null,
   "metadata": {
    "tags": []
   },
   "outputs": [],
   "source": [
    "import submitit\n",
    "\n",
    "partitions = [i for i in range(22)]\n",
    "\n",
    "executor = submitit.AutoExecutor(folder=\"log_test/%j\")\n",
    "# set timeout in min, and partition for running the job\n",
    "executor.update_parameters(slurm_array_parallelism=6,\n",
    "                           nodes=1,\n",
    "                           #slurm_mem=\"500G\",\n",
    "                           timeout_min=600,\n",
    "                          #slurm_setup=[\n",
    "                          #  \"\"\"export MKL_NUM_THREADS=1\"\"\",\n",
    "                          #  \"\"\"export NUMEXPR_NUM_THREADS=1\"\"\",\n",
    "                           # \"\"\"export OMP_NUM_THREADS=1\"\"\"]\n",
    "                          )\n",
    "\n",
    "job = executor.map_array(fit_partition, partitions)  \n",
    "\n",
    "\n",
    "# jobs = []\n",
    "# for partition in tqdm(partitions):\n",
    "#     job = executor.submit(fit_partition, in_path, model_path, score_defs, partition)\n",
    "#     jobs.append(job)"
   ]
  },
  {
   "cell_type": "code",
   "execution_count": null,
   "metadata": {},
   "outputs": [],
   "source": []
  },
  {
   "cell_type": "code",
   "execution_count": null,
   "metadata": {},
   "outputs": [],
   "source": []
  },
  {
   "cell_type": "code",
   "execution_count": null,
   "metadata": {},
   "outputs": [],
   "source": []
  },
  {
   "cell_type": "code",
   "execution_count": null,
   "metadata": {},
   "outputs": [],
   "source": []
  },
  {
   "cell_type": "code",
   "execution_count": null,
   "metadata": {},
   "outputs": [],
   "source": []
  },
  {
   "cell_type": "code",
   "execution_count": null,
   "metadata": {},
   "outputs": [],
   "source": []
  },
  {
   "cell_type": "code",
   "execution_count": null,
   "metadata": {},
   "outputs": [],
   "source": []
  },
  {
   "cell_type": "code",
   "execution_count": null,
   "metadata": {},
   "outputs": [],
   "source": []
  },
  {
   "cell_type": "code",
   "execution_count": null,
   "metadata": {
    "tags": []
   },
   "outputs": [],
   "source": [
    "%env MKL_NUM_THREADS=1\n",
    "%env NUMEXPR_NUM_THREADS=1\n",
    "%env OMP_NUM_THREADS=1\n",
    "\n",
    "import ray\n",
    "#ray start --head --port=6379 --num-cpus 64 # in terminal\n",
    "#ray.init(address='auto')#, dashboard_port=24762, dashboard_host=\"0.0.0.0\", include_dashboard=True)#, webui_url=\"0.0.0.0\"))\n",
    "#ray.init(num_cpus=32)#, dashboard_port=24762, dashboard_host=\"0.0.0.0\", include_dashboard=True)#, webui_url=\"0.0.0.0\"))"
   ]
  },
  {
   "cell_type": "code",
   "execution_count": null,
   "metadata": {
    "tags": []
   },
   "outputs": [],
   "source": [
    "ray.available_resources()"
   ]
  },
  {
   "cell_type": "code",
   "execution_count": null,
   "metadata": {
    "tags": []
   },
   "outputs": [],
   "source": []
  },
  {
   "cell_type": "code",
   "execution_count": null,
   "metadata": {},
   "outputs": [],
   "source": []
  },
  {
   "cell_type": "code",
   "execution_count": null,
   "metadata": {
    "tags": []
   },
   "outputs": [],
   "source": [
    "for partition in tqdm(partitions):\n",
    "    fit_partition()"
   ]
  },
  {
   "cell_type": "code",
   "execution_count": null,
   "metadata": {},
   "outputs": [],
   "source": []
  },
  {
   "cell_type": "code",
   "execution_count": null,
   "metadata": {},
   "outputs": [],
   "source": []
  },
  {
   "cell_type": "code",
   "execution_count": null,
   "metadata": {},
   "outputs": [],
   "source": []
  },
  {
   "cell_type": "code",
   "execution_count": null,
   "metadata": {},
   "outputs": [],
   "source": [
    "## Debugging"
   ]
  },
  {
   "cell_type": "code",
   "execution_count": null,
   "metadata": {
    "tags": []
   },
   "outputs": [],
   "source": [
    "# fit_endpoint(data_partition, eids_dict, endpoint_defs, endpoints[0], partition, models, model_path)"
   ]
  },
  {
   "cell_type": "code",
   "execution_count": null,
   "metadata": {},
   "outputs": [],
   "source": [
    "cph_1 = load_pickle(\"/sc-projects/sc-proj-ukb-cvd/results/projects/22_medical_records/data/220613/coxph/models/OMOP_4306655_QRISK3_0.p\")\n",
    "cph_2 = load_pickle(\"/sc-projects/sc-proj-ukb-cvd/results/projects/22_medical_records/data/220613/coxph/models/OMOP_4306655_Age+Sex+MedicalHistory_0.p\")"
   ]
  },
  {
   "cell_type": "code",
   "execution_count": null,
   "metadata": {},
   "outputs": [],
   "source": [
    "cph_1.print_summary()"
   ]
  },
  {
   "cell_type": "code",
   "execution_count": null,
   "metadata": {},
   "outputs": [],
   "source": [
    "cph_2.print_summary()"
   ]
  },
  {
   "cell_type": "code",
   "execution_count": null,
   "metadata": {},
   "outputs": [],
   "source": [
    "encode_cols = \n",
    "pd.get_dummies(data_partition['Identity(Records)+MLP'], columns=[\"ethnic_background\", \"sex\", \"smoking_status\"], prefix=)"
   ]
  },
  {
   "cell_type": "code",
   "execution_count": null,
   "metadata": {
    "tags": []
   },
   "outputs": [],
   "source": [
    "data_partition['Identity(Records)+MLP'].select_dtypes(\"category\")"
   ]
  },
  {
   "cell_type": "code",
   "execution_count": null,
   "metadata": {},
   "outputs": [],
   "source": [
    "load_pickle(\"/sc-projects/sc-proj-ukb-cvd/results/projects/22_medical_records/data/220413/coxph/errordata_phecode_002-1_Age+Sex+MedicalHistory+I(Age*MH)_0.p\")"
   ]
  },
  {
   "cell_type": "code",
   "execution_count": null,
   "metadata": {
    "tags": []
   },
   "outputs": [],
   "source": [
    "data_partition['Identity(Records)+MLP']['phecode_977']"
   ]
  },
  {
   "cell_type": "code",
   "execution_count": null,
   "metadata": {},
   "outputs": [],
   "source": []
  }
 ],
 "metadata": {
  "kernelspec": {
   "display_name": "Python [conda env:udm]",
   "language": "python",
   "name": "conda-env-udm-py"
  },
  "language_info": {
   "codemirror_mode": {
    "name": "ipython",
    "version": 3
   },
   "file_extension": ".py",
   "mimetype": "text/x-python",
   "name": "python",
   "nbconvert_exporter": "python",
   "pygments_lexer": "ipython3",
   "version": "3.10.9"
  },
  "toc-autonumbering": false
 },
 "nbformat": 4,
 "nbformat_minor": 4
}