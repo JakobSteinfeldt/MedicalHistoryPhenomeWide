{
 "cells": [
  {
   "cell_type": "markdown",
   "metadata": {},
   "source": [
    "# 1. Standardize Codes into our Standard OMOP Concepts"
   ]
  },
  {
   "cell_type": "code",
   "execution_count": null,
   "metadata": {
    "ExecuteTime": {
     "end_time": "2020-12-23T09:27:43.184073Z",
     "start_time": "2020-12-23T09:27:38.838Z"
    },
    "tags": []
   },
   "outputs": [],
   "source": [
    "try(library(tidyverse), silent=TRUE)\n",
    "library(lubridate)\n",
    "library(glue)\n",
    "library(data.table)\n",
    "library(tidyfast)\n",
    "library(\"magrittr\")\n",
    "setwd(\"/\")\n",
    "base_path = \"/sc-projects/sc-proj-ukb-cvd/data\"\n",
    "data_path = glue(\"{base_path}/0_raw/showcase_48024/tables_220317\")\n",
    "mapping_path = glue(\"{base_path}/mapping\")\n",
    "out_path = glue(\"{base_path}/1_decoded\")\n",
    "#data_path = \"/data/analysis/ag-reils/ag-reils-shared/cardioRS/data\""
   ]
  },
  {
   "cell_type": "code",
   "execution_count": null,
   "metadata": {
    "tags": []
   },
   "outputs": [],
   "source": [
    "library(dtplyr)"
   ]
  },
  {
   "cell_type": "code",
   "execution_count": null,
   "metadata": {},
   "outputs": [],
   "source": [
    "records = arrow::read_feather(glue(\"{out_path}/dataportal_records_omop_220407.feather\"))"
   ]
  },
  {
   "cell_type": "code",
   "execution_count": null,
   "metadata": {},
   "outputs": [],
   "source": [
    "# check cumulative records\n",
    "records %>% group_by(domain_id) %>% tally() %>% arrange(desc(n))"
   ]
  },
  {
   "cell_type": "code",
   "execution_count": null,
   "metadata": {},
   "outputs": [],
   "source": [
    "# check distinct records\n",
    "records %>% select(domain_id, concept_id) %>% distinct() %>% group_by(domain_id) %>% tally() %>% arrange(desc(n))"
   ]
  },
  {
   "cell_type": "code",
   "execution_count": null,
   "metadata": {},
   "outputs": [],
   "source": [
    "check_common_records = function(domain){\n",
    "    records %>% \n",
    "        filter(domain_id==!!domain) %>% \n",
    "        group_by(concept_id, concept_name, domain_id, vocabulary_id, concept_class_id) %>% \n",
    "        tally() %>% arrange(desc(n)) %>% ungroup() %>%\n",
    "        mutate(concept_name = fct_rev(fct_reorder(concept_name, n))) %>%\n",
    "        mutate(i = row_number())\n",
    "    }"
   ]
  },
  {
   "cell_type": "code",
   "execution_count": null,
   "metadata": {},
   "outputs": [],
   "source": [
    "plot_width=10; plot_height=5; plot_dpi=320\n",
    "options(repr.plot.width = plot_width, repr.plot.height = plot_height, repr.plot.res=plot_dpi)\n",
    "drug = t = check_common_records(\"Drug\")\n",
    "ggplot(t, aes(x=i, y=n)) + geom_point(size=0.1) + theme_classic() + scale_y_log10()"
   ]
  },
  {
   "cell_type": "code",
   "execution_count": null,
   "metadata": {},
   "outputs": [],
   "source": [
    "drug %>% head()"
   ]
  },
  {
   "cell_type": "code",
   "execution_count": null,
   "metadata": {},
   "outputs": [],
   "source": [
    "plot_width=10; plot_height=5; plot_dpi=320\n",
    "options(repr.plot.width = plot_width, repr.plot.height = plot_height, repr.plot.res=plot_dpi)\n",
    "obs = t = check_common_records(\"Observation\")\n",
    "ggplot(t, aes(x=i, y=n)) + geom_point(size=0.1) + theme_classic() + scale_y_log10()#+ geom_vline(xintercept=which(levels(t$concept_name) %in% c(\"1000\")))"
   ]
  },
  {
   "cell_type": "code",
   "execution_count": null,
   "metadata": {},
   "outputs": [],
   "source": [
    "obs %>% head()"
   ]
  },
  {
   "cell_type": "code",
   "execution_count": null,
   "metadata": {},
   "outputs": [],
   "source": [
    "plot_width=10; plot_height=5; plot_dpi=320\n",
    "options(repr.plot.width = plot_width, repr.plot.height = plot_height, repr.plot.res=plot_dpi)\n",
    "cond = t = check_common_records(\"Condition\")\n",
    "ggplot(t, aes(x=i, y=n)) + geom_point(size=0.1) + theme_classic() + scale_y_log10()#+ geom_vline(xintercept=which(levels(t$concept_name) %in% c(\"1000\")))"
   ]
  },
  {
   "cell_type": "code",
   "execution_count": null,
   "metadata": {},
   "outputs": [],
   "source": [
    "cond %>% head()"
   ]
  },
  {
   "cell_type": "code",
   "execution_count": null,
   "metadata": {},
   "outputs": [],
   "source": [
    "plot_width=10; plot_height=5; plot_dpi=320\n",
    "options(repr.plot.width = plot_width, repr.plot.height = plot_height, repr.plot.res=plot_dpi)\n",
    "proc = t = check_common_records(\"Procedure\")\n",
    "ggplot(t, aes(x=i, y=n)) + geom_point(size=0.1) + theme_classic() + scale_y_log10()#+ geom_vline(xintercept=which(levels(t$concept_name) %in% c(\"1000\")))"
   ]
  },
  {
   "cell_type": "code",
   "execution_count": null,
   "metadata": {},
   "outputs": [],
   "source": [
    "proc %>% head()"
   ]
  },
  {
   "cell_type": "code",
   "execution_count": null,
   "metadata": {},
   "outputs": [],
   "source": [
    "plot_width=10; plot_height=5; plot_dpi=320\n",
    "options(repr.plot.width = plot_width, repr.plot.height = plot_height, repr.plot.res=plot_dpi)\n",
    "device = t = check_common_records(\"Device\")\n",
    "ggplot(t, aes(x=i, y=n)) + geom_point(size=0.1) + theme_classic() + scale_y_log10()#+ geom_vline(xintercept=which(levels(t$concept_name) %in% c(\"1000\")))"
   ]
  },
  {
   "cell_type": "code",
   "execution_count": null,
   "metadata": {},
   "outputs": [],
   "source": [
    "device %>% head()"
   ]
  }
 ],
 "metadata": {
  "hide_input": false,
  "kernelspec": {
   "display_name": "R [conda env:r_env]",
   "language": "R",
   "name": "conda-env-r_env-r"
  },
  "language_info": {
   "codemirror_mode": "r",
   "file_extension": ".r",
   "mimetype": "text/x-r-source",
   "name": "R",
   "pygments_lexer": "r",
   "version": "4.0.2"
  }
 },
 "nbformat": 4,
 "nbformat_minor": 4
}
