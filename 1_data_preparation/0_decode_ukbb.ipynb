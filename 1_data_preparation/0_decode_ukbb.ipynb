{
 "cells": [
  {
   "cell_type": "code",
   "execution_count": null,
   "metadata": {},
   "outputs": [],
   "source": [
    "library(ukbtools)"
   ]
  },
  {
   "cell_type": "code",
   "execution_count": null,
   "metadata": {},
   "outputs": [],
   "source": [
    "!rsync -auv --no-o --no-g --no-perms USER@SERVER_IP:/data/project/uk_bb/cvd/data/ukb_downloads/showcase_48024/ /sc-projects/sc-proj-ukb-cvd/data/0_raw/showcase_48024/ "
   ]
  },
  {
   "cell_type": "code",
   "execution_count": null,
   "metadata": {},
   "outputs": [],
   "source": [
    "my_ukb_data <- ukb_df(\"decoded\", path = \"/sc-projects/sc-proj-ukb-cvd/data/0_raw/showcase_48024/ukb_data\")"
   ]
  },
  {
   "cell_type": "code",
   "execution_count": null,
   "metadata": {},
   "outputs": [],
   "source": [
    "my_ukb_data"
   ]
  },
  {
   "cell_type": "code",
   "execution_count": null,
   "metadata": {},
   "outputs": [],
   "source": [
    "df_field <- ukb_df_field(\"decoded\", path = \"/sc-projects/sc-proj-ukb-cvd/data/0_raw/showcase_48024/ukb_data\")"
   ]
  },
  {
   "cell_type": "code",
   "execution_count": null,
   "metadata": {},
   "outputs": [],
   "source": [
    "arrow::write_feather(my_ukb_data, \"/sc-projects/sc-proj-ukb-cvd/data/1_decoded/ukb_data.feather\")\n",
    "arrow::write_feather(df_field, \"/sc-projects/sc-proj-ukb-cvd/data/1_decoded/ukb_data_field.feather\")"
   ]
  },
  {
   "cell_type": "code",
   "execution_count": null,
   "metadata": {},
   "outputs": [],
   "source": []
  }
 ],
 "metadata": {
  "kernelspec": {
   "display_name": "R [conda env:r_env]",
   "language": "R",
   "name": "conda-env-r_env-r"
  },
  "language_info": {
   "codemirror_mode": "r",
   "file_extension": ".r",
   "mimetype": "text/x-r-source",
   "name": "R",
   "pygments_lexer": "r",
   "version": "4.0.2"
  }
 },
 "nbformat": 4,
 "nbformat_minor": 4
}