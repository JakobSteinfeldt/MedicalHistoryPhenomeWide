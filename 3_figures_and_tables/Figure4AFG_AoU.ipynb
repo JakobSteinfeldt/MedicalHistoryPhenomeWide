{
 "cells": [
  {
   "cell_type": "code",
   "execution_count": null,
   "id": "90132b08",
   "metadata": {
    "execution": {
     "iopub.execute_input": "2023-05-11T09:55:50.760642Z",
     "iopub.status.busy": "2023-05-11T09:55:50.758807Z",
     "iopub.status.idle": "2023-05-11T09:55:53.992296Z",
     "shell.execute_reply": "2023-05-11T09:55:53.991343Z"
    },
    "tags": []
   },
   "outputs": [],
   "source": [
    "library(ggplot2)\n",
    "library(dtplyr)\n",
    "library(tidyverse)\n",
    "library(glue)\n",
    "library(arrow)\n",
    "library(patchwork)\n",
    "library(data.table)\n",
    "library(\"jsonlite\")\n",
    "library(ggthemes)\n",
    "library(stringr)\n",
    "library(ggtext)\n",
    "library(ggdist)"
   ]
  },
  {
   "cell_type": "code",
   "execution_count": null,
   "id": "a9a61a35",
   "metadata": {
    "execution": {
     "iopub.execute_input": "2023-05-11T09:55:54.010748Z",
     "iopub.status.busy": "2023-05-11T09:55:53.994601Z",
     "iopub.status.idle": "2023-05-11T09:55:54.019881Z",
     "shell.execute_reply": "2023-05-11T09:55:54.019090Z"
    },
    "tags": [],
    "title": "codecell"
   },
   "outputs": [],
   "source": [
    "base_path = \"/sc-projects/sc-proj-ukb-cvd/results/projects/22_medical_records/data/220823_allofus/230502_revision\"\n",
    "base_path"
   ]
  },
  {
   "cell_type": "code",
   "execution_count": null,
   "id": "0296e483",
   "metadata": {
    "execution": {
     "iopub.execute_input": "2023-05-11T09:55:54.021764Z",
     "iopub.status.busy": "2023-05-11T09:55:54.021083Z",
     "iopub.status.idle": "2023-05-11T09:55:54.087202Z",
     "shell.execute_reply": "2023-05-11T09:55:54.086381Z"
    },
    "lines_to_next_cell": 2,
    "tags": [],
    "title": "codecell"
   },
   "outputs": [],
   "source": [
    "base_size = 8\n",
    "title_size = 10\n",
    "facet_size = 9\n",
    "geom_text_size=3\n",
    "theme_set(theme_classic(base_size = base_size) +\n",
    "          theme(strip.background = element_blank(), plot.title=element_text(size=title_size, hjust=0),\n",
    "                strip.text.x = element_text(size = facet_size),axis.title=element_text(size=10), axis.text=element_text(size=8, color=\"black\"),\n",
    "                legend.position=\"bottom\", axis.line = element_line(size = 0.2), axis.ticks=element_line(size=0.2), panel.grid.major.y=element_line()))"
   ]
  },
  {
   "cell_type": "code",
   "execution_count": null,
   "id": "149b5026",
   "metadata": {
    "execution": {
     "iopub.execute_input": "2023-05-11T09:55:54.089156Z",
     "iopub.status.busy": "2023-05-11T09:55:54.088490Z",
     "iopub.status.idle": "2023-05-11T09:55:54.181022Z",
     "shell.execute_reply": "2023-05-11T09:55:54.180186Z"
    },
    "tags": [],
    "title": "codecell"
   },
   "outputs": [],
   "source": [
    "endpoint_defs = arrow::read_feather(glue(\"{base_path}/phecode_defs_220306.feather\")) %>% arrange(endpoint)\n",
    "endpoints_md = fread(glue(\"{base_path}/endpoints.csv\"), colClasses=c(\"phecode\"=\"character\"))\n",
    "endpoints = sort(endpoints_md$endpoint)\n",
    "\n",
    "glue(\"{base_path}/phecode_defs_220306.feather\")"
   ]
  },
  {
   "cell_type": "code",
   "execution_count": null,
   "id": "6c229366",
   "metadata": {
    "execution": {
     "iopub.execute_input": "2023-05-11T09:55:54.182991Z",
     "iopub.status.busy": "2023-05-11T09:55:54.182257Z",
     "iopub.status.idle": "2023-05-11T09:55:54.192352Z",
     "shell.execute_reply": "2023-05-11T09:55:54.191567Z"
    },
    "tags": [],
    "title": "codecell"
   },
   "outputs": [],
   "source": [
    "endpoint_map = endpoint_defs$phecode_string\n",
    "names(endpoint_map) =  endpoint_defs$endpoint\n",
    "endpoint_order = (endpoint_defs %>% arrange(as.numeric(phecode)))$endpoint"
   ]
  },
  {
   "cell_type": "code",
   "execution_count": null,
   "id": "a26447c2",
   "metadata": {
    "execution": {
     "iopub.execute_input": "2023-05-11T09:55:54.194176Z",
     "iopub.status.busy": "2023-05-11T09:55:54.193528Z",
     "iopub.status.idle": "2023-05-11T09:55:54.225822Z",
     "shell.execute_reply": "2023-05-11T09:55:54.225023Z"
    },
    "tags": []
   },
   "outputs": [],
   "source": [
    "base_size = 8\n",
    "title_size = 10\n",
    "facet_size = 9\n",
    "geom_text_size=3\n",
    "theme_set(theme_classic(base_size = base_size) +\n",
    "          theme(strip.background = element_blank(), plot.title=element_text(size=title_size, hjust=0),\n",
    "                strip.text.x = element_text(size = facet_size),axis.title=element_text(size=10), axis.text=element_text(size=8, color=\"black\"),\n",
    "                legend.position=\"bottom\", axis.line = element_line(size = 0.2), axis.ticks=element_line(size=0.2), panel.grid.major.y=element_line()))"
   ]
  },
  {
   "cell_type": "code",
   "execution_count": null,
   "id": "51a5339d",
   "metadata": {
    "execution": {
     "iopub.execute_input": "2023-05-11T09:55:54.227700Z",
     "iopub.status.busy": "2023-05-11T09:55:54.227041Z",
     "iopub.status.idle": "2023-05-11T09:55:54.273746Z",
     "shell.execute_reply": "2023-05-11T09:55:54.272930Z"
    },
    "tags": []
   },
   "outputs": [],
   "source": [
    "endpoint_selection = c(\n",
    "\n",
    "   'phecode_401', #  \"Hypertension\", # intervention\n",
    "    'phecode_202', #  \"Diabetes mellitus\", # intervention\n",
    "    'phecode_416-21', #  \"Atrial fibrillation\", # intervention\n",
    "    'phecode_468', #  \"Pneumonia\", # intervention\n",
    "    'phecode_474', #  \"Chronic obstructive pulmonary disease [COPD]\", # interventio\n",
    "    'phecode_583', #  \"Chronic kidney disease\", # intervention\n",
    "\n",
    "    'phecode_404', #  \"Ischemic heart disease\",\n",
    "    'phecode_404-1', #  \"Myocardial infarction [Heart attack]\", # intervention\n",
    "    'phecode_431-11', #  \"Cerebral infarction [Ischemic stroke]\",\n",
    "    'phecode_424', #  \"Heart failure\", # intervention\n",
    "    'phecode_420', #  \"Cardiac arrest\", # intervention\n",
    "    'OMOP_4306655', #  \"All-Cause Death\", # intervention\n",
    "\n",
    "    'phecode_438-11',   #  \"Abdominal aortic aneurysm\",\n",
    "    'phecode_440-3',#  \"Pulmonary embolism\", # intervention\n",
    "    'phecode_413-21',#  \"Aortic stenosis\", # intervention\n",
    "    'phecode_413-11', #  \"Mitral valve insufficiency\",\n",
    "    'phecode_410-2',#  \"Endocarditis\",\n",
    "    'phecode_400',#  \"Rheumatic fever and chronic rheumatic heart diseases\",\n",
    "\n",
    "    'phecode_164', #  \"Anemia\", # intervention\n",
    "    'phecode_718',  #  \"Back pain\", # intervention\n",
    "    'phecode_324-11', #  \"Parkinson's disease (Primary)\",\n",
    "    'phecode_705-1', #  \"Rheumatoid arthritis\", # NEW + interventio\n",
    "    'phecode_665', #  \"Psoriasis\", # interesting\n",
    "    'phecode_284'#  \"Suicide ideation and attempt or self harm\" # intervention\n",
    ")\n",
    "endpoint_defs = endpoint_defs %>%\n",
    "    mutate(name = phecode_string) %>%\n",
    "    mutate(name =\n",
    "           case_when(\n",
    "               phecode_string == \"Myocardial infarction [Heart attack]\"~\"Myocardial infarction\",\n",
    "               phecode_string == \"Cerebral infarction [Ischemic stroke]\"~\"Ischemic stroke\",\n",
    "               phecode_string == \"Chronic obstructive pulmonary disease [COPD]\"~\"COPD\",\n",
    "               phecode_string == \"Mitral valve insufficiency\"~\"Mitral insufficiency\",\n",
    "               phecode_string == \"Parkinson's disease (Primary)\"~\"Parkinson's\",\n",
    "               phecode_string == \"Suicide ideation and attempt or self harm\"~\"Suicide attempt\",\n",
    "               phecode_string == \"Ischemic heart disease\"~\"Ischemic HD\",\n",
    "               phecode_string == \"Chronic kidney disease\"~\"Chronic KD\",\n",
    "               phecode_string == \"Rheumatic fever and chronic rheumatic heart diseases\"~\"Rheumatic HD\",\n",
    "               phecode_string == \"Abdominal aortic aneurysm\"~\"Abdominal AA\",\n",
    "                  TRUE ~ name)\n",
    "           )\n",
    "\n",
    "endpoint_map = endpoint_defs$name\n",
    "names(endpoint_map) =  endpoint_defs$endpoint\n",
    "#endpoint_order = (endpoint_defs %>% arrange(as.numeric(phecode)))$endpoint\n",
    "endpoint_order = endpoint_selection"
   ]
  },
  {
   "cell_type": "code",
   "execution_count": null,
   "id": "e852825c",
   "metadata": {
    "execution": {
     "iopub.execute_input": "2023-05-11T10:02:23.208977Z",
     "iopub.status.busy": "2023-05-11T10:02:23.208152Z",
     "iopub.status.idle": "2023-05-11T10:02:23.230648Z",
     "shell.execute_reply": "2023-05-11T10:02:23.229819Z"
    },
    "tags": []
   },
   "outputs": [],
   "source": [
    "name = \"230503_bootstrap_results_revision_ensemble\"\n",
    "benchmark_endpoints = arrow::read_feather(glue(\"{base_path}/{name}.feather\"))"
   ]
  },
  {
   "cell_type": "code",
   "execution_count": null,
   "id": "6199390b",
   "metadata": {
    "execution": {
     "iopub.execute_input": "2023-05-11T10:02:26.976861Z",
     "iopub.status.busy": "2023-05-11T10:02:26.976128Z",
     "iopub.status.idle": "2023-05-11T10:02:27.059408Z",
     "shell.execute_reply": "2023-05-11T10:02:27.058613Z"
    },
    "tags": []
   },
   "outputs": [],
   "source": [
    "incident_events = read_csv(glue(\"{base_path}/../221011_incident_events.csv\"))\n",
    "incident_events = incident_events %>% rename(endpoint = \"...1\")\n",
    "incident_events = setDT(incident_events)[, endpoint := str_replace(endpoint, \"\\\\.\", \"-\")] %>% as_tibble()"
   ]
  },
  {
   "cell_type": "code",
   "execution_count": null,
   "id": "114d6216",
   "metadata": {
    "execution": {
     "iopub.execute_input": "2023-05-11T10:02:28.820304Z",
     "iopub.status.busy": "2023-05-11T10:02:28.819624Z",
     "iopub.status.idle": "2023-05-11T10:02:29.586951Z",
     "shell.execute_reply": "2023-05-11T10:02:29.585939Z"
    },
    "tags": []
   },
   "outputs": [],
   "source": [
    "benchmark_endpoints = benchmark_endpoints %>% group_by(endpoint, uuid) %>% filter(all(!is.na(cindex))) %>% ungroup()\n",
    "benchmark_endpoints = setDT(benchmark_endpoints)[, endpoint := str_replace(endpoint, \"\\\\.\", \"-\")] %>% as_tibble()\n",
    "benchmark_endpoints = benchmark_endpoints %>% left_join(endpoints_md) %>% left_join(incident_events, by='endpoint') %>% filter(num_incident_events >= 100)"
   ]
  },
  {
   "cell_type": "code",
   "execution_count": null,
   "id": "1ba4d780",
   "metadata": {
    "execution": {
     "iopub.execute_input": "2023-05-11T10:02:43.383075Z",
     "iopub.status.busy": "2023-05-11T10:02:43.382348Z",
     "iopub.status.idle": "2023-05-11T10:02:43.433989Z",
     "shell.execute_reply": "2023-05-11T10:02:43.433123Z"
    },
    "tags": []
   },
   "outputs": [],
   "source": [
    "endpoints_sorted = (benchmark_endpoints %>%\n",
    "    filter(score == \"AgeSex+MedicalHistory_UKBBParams\") %>%\n",
    "    group_by(endpoint, score) %>%\n",
    "    summarise(cindex=mean(cindex, na.rm=TRUE)) %>%\n",
    "    arrange(cindex) %>% ungroup())$endpoint"
   ]
  },
  {
   "cell_type": "code",
   "execution_count": null,
   "id": "7e523596",
   "metadata": {
    "execution": {
     "iopub.execute_input": "2023-05-11T10:04:58.797025Z",
     "iopub.status.busy": "2023-05-11T10:04:58.796224Z",
     "iopub.status.idle": "2023-05-11T10:04:58.807348Z",
     "shell.execute_reply": "2023-05-11T10:04:58.806550Z"
    },
    "tags": []
   },
   "outputs": [],
   "source": [
    "categories_sorted = (endpoint_defs %>% distinct(phecode_category))$phecode_category"
   ]
  },
  {
   "cell_type": "code",
   "execution_count": null,
   "id": "70591c4e",
   "metadata": {
    "execution": {
     "iopub.execute_input": "2023-05-11T10:04:59.349205Z",
     "iopub.status.busy": "2023-05-11T10:04:59.348532Z",
     "iopub.status.idle": "2023-05-11T10:04:59.354348Z",
     "shell.execute_reply": "2023-05-11T10:04:59.353584Z"
    },
    "tags": []
   },
   "outputs": [],
   "source": [
    "plot_width = 8.25; plot_height=2.5; plot_res = 600"
   ]
  },
  {
   "cell_type": "code",
   "execution_count": null,
   "id": "ee774d27",
   "metadata": {
    "execution": {
     "iopub.execute_input": "2023-05-11T10:05:01.930896Z",
     "iopub.status.busy": "2023-05-11T10:05:01.930177Z",
     "iopub.status.idle": "2023-05-11T10:05:03.085276Z",
     "shell.execute_reply": "2023-05-11T10:05:03.084305Z"
    },
    "tags": []
   },
   "outputs": [],
   "source": [
    "plot_width = 8.25; plot_height=2.5; plot_res = 320\n",
    "options(repr.plot.width = plot_width, repr.plot.height = plot_height, repr.plot.res=plot_res)\n",
    "\n",
    "library(ggtext)\n",
    "library(ggdist)\n",
    "\n",
    "scores_plot = c(\"AgeSex_AoUCPH\", \"AgeSex+MedicalHistory_UKBBParams\")\n",
    "\n",
    "temp = benchmark_endpoints %>%\n",
    "    filter(score %in% scores_plot) %>%\n",
    "    mutate(score = factor(score, levels=scores_plot)) %>%\n",
    "    mutate(endpoint = factor(endpoint, levels=endpoints_sorted)) %>%\n",
    "    ungroup() %>%\n",
    "    pivot_wider(names_from=score, values_from=cindex, id_cols=c(uuid, partition, endpoint, phecode_category, phecode_string)) %>%\n",
    "    mutate(id = row_number()) %>%\n",
    "    rename(score1 = scores_plot[1], score2 = scores_plot[2]) %>%\n",
    "    mutate(delta=score2 - score1) %>%\n",
    "    group_by(endpoint, phecode_string, phecode_category) %>%\n",
    "    median_qi(delta) %>%\n",
    "    #mutate(pos = case_when(delta>=0 ~ \"pos\", delta < 0 ~\"neg\")) %>%\n",
    "    mutate(endpoint = fct_reorder(endpoint, delta)) %>%\n",
    "    mutate(highlight = case_when(endpoint %in% endpoint_selection ~ \"YES\", TRUE ~ \"NO\")) %>%# %>% filter(endpoint %in% endpoint_sample)\n",
    "    mutate(phecode_category = factor(phecode_category, levels=categories_sorted))"
   ]
  },
  {
   "cell_type": "code",
   "execution_count": null,
   "id": "6cc893a9",
   "metadata": {
    "execution": {
     "iopub.execute_input": "2023-05-11T10:05:03.087249Z",
     "iopub.status.busy": "2023-05-11T10:05:03.086593Z",
     "iopub.status.idle": "2023-05-11T10:05:03.107677Z",
     "shell.execute_reply": "2023-05-11T10:05:03.106900Z"
    },
    "tags": []
   },
   "outputs": [],
   "source": [
    "endpoint_order = (temp %>% arrange(delta))$endpoint\n",
    "\n",
    "temp = temp %>% mutate(endpoint = factor(endpoint, levels=endpoint_order)) %>% ungroup() %>%\n",
    "    arrange(endpoint) %>% group_by(phecode_category) %>% mutate(endpoint = row_number()) %>%\n",
    "    filter(!phecode_category %in% c(\"Signs/Symptoms\", \"Preg\", \"Rx\", \"Stat\"))"
   ]
  },
  {
   "cell_type": "code",
   "execution_count": null,
   "id": "786d535c",
   "metadata": {
    "execution": {
     "iopub.execute_input": "2023-05-11T10:05:03.211037Z",
     "iopub.status.busy": "2023-05-11T10:05:03.210350Z",
     "iopub.status.idle": "2023-05-11T10:05:03.765785Z",
     "shell.execute_reply": "2023-05-11T10:05:03.764936Z"
    },
    "tags": []
   },
   "outputs": [],
   "source": [
    "overview = ggplot(temp) +\n",
    "    geom_ribbon(aes(x=endpoint, ymin=0, ymax=delta), fill=\"black\", alpha=0.2)+\n",
    "    geom_point(aes(x=endpoint, y=delta, color=highlight, size=highlight, alpha=highlight)) +\n",
    "    #geom_text(data=temp %>% filter(highlight==\"YES\"), aes(x=endpoint, y=delta+0.045, label=\"↓\"), color=\"black\", size=5, alpha=0.7) +\n",
    "    #geom_segment(aes(x=endpoint, xend=endpoint, y=0, yend=delta, color=highlight, size=highlight), alpha=0.5)+#+\n",
    "    labs(x=\"Endpoints\", y=\"Delta C-Index\")+\n",
    "    scale_color_manual(values=c(\"NO\"=\"black\", \"YES\"=\"firebrick\"))+\n",
    "    scale_alpha_manual(values=c(\"NO\"=0.5, \"YES\"=1))+\n",
    "    scale_size_manual(values=c(\"NO\"=0.01, \"YES\"=1))+\n",
    "    #scale_colour_manual(values = c(\"pos\"=\"forestgreen\", \"neg\" = \"firebrick\")) + \n",
    "    #coord_polar() +\n",
    "    coord_cartesian(ylim=c(-0.35, 0.4), clip = \"off\")+\n",
    "    scale_y_continuous(expand=c(0, 0))+\n",
    "    scale_x_discrete(expand=expansion(add=20))+\n",
    "    facet_grid(~phecode_category, scales=\"free_x\", space=\"free_x\")+#, switch=TRUE)+\n",
    "    #facet_grid2(~phecode_category, scales = \"free\", independent = \"all\") + \n",
    "    theme(axis.title.x=element_blank(),\n",
    "        axis.text.x=element_blank(),\n",
    "        axis.ticks.x=element_blank(),\n",
    "        panel.grid.major=element_blank(), \n",
    "         strip.text = element_text(angle=270, hjust=1)) + \n",
    "    theme(legend.position=\"none\") \n",
    "\n",
    "overview"
   ]
  },
  {
   "cell_type": "code",
   "execution_count": null,
   "id": "cbc42b2f",
   "metadata": {
    "execution": {
     "iopub.execute_input": "2023-05-11T10:06:59.277944Z",
     "iopub.status.busy": "2023-05-11T10:06:59.277117Z",
     "iopub.status.idle": "2023-05-11T10:07:00.103420Z",
     "shell.execute_reply": "2023-05-11T10:07:00.102420Z"
    },
    "tags": []
   },
   "outputs": [],
   "source": [
    "#library(gt)\n",
    "plot_name = \"Figure4a_AoU_Overview\"\n",
    "overview %>% ggsave(filename=glue(\"outputs/{plot_name}.png\"), device=\"png\", width=plot_width, height=plot_height, dpi=plot_res)\n",
    "overview %>% ggsave(filename=glue(\"outputs/{plot_name}.pdf\"), device=\"pdf\", width=plot_width, height=plot_height, dpi=plot_res)"
   ]
  },
  {
   "cell_type": "code",
   "execution_count": null,
   "id": "0c19bcfe",
   "metadata": {
    "execution": {
     "iopub.execute_input": "2023-05-11T10:05:56.206905Z",
     "iopub.status.busy": "2023-05-11T10:05:56.206179Z",
     "iopub.status.idle": "2023-05-11T10:05:56.233052Z",
     "shell.execute_reply": "2023-05-11T10:05:56.232251Z"
    },
    "tags": []
   },
   "outputs": [],
   "source": [
    "base_size = 8\n",
    "title_size = 10\n",
    "facet_size = 9\n",
    "geom_text_size=3\n",
    "theme_set(theme_classic(base_size = base_size) +\n",
    "          theme(strip.background = element_blank(), plot.title=element_text(size=title_size, hjust=0),\n",
    "                strip.text.x = element_text(size = facet_size),axis.title=element_text(size=10), axis.text=element_text(size=8, color=\"black\"),\n",
    "                legend.position=\"bottom\", axis.line = element_line(size = 0.2), axis.ticks=element_line(size=0.2), panel.grid.major=element_line()))"
   ]
  },
  {
   "cell_type": "code",
   "execution_count": null,
   "id": "e71b33dd",
   "metadata": {
    "execution": {
     "iopub.execute_input": "2023-05-11T10:05:57.301246Z",
     "iopub.status.busy": "2023-05-11T10:05:57.300537Z",
     "iopub.status.idle": "2023-05-11T10:05:57.314417Z",
     "shell.execute_reply": "2023-05-11T10:05:57.313628Z"
    },
    "tags": []
   },
   "outputs": [],
   "source": [
    "plot_width = 8.25; plot_height=2; plot_res = 320\n",
    "options(repr.plot.width = plot_width, repr.plot.height = plot_height, repr.plot.res=plot_res)\n",
    "\n",
    "plot_against_score = function(score1, score2, endpoint_order=c()){\n",
    "\n",
    "  scores_plot = c(score1, score2)#, \"AgeSexMedicalHistory\"\n",
    "\n",
    "  score_label = glue(\"{score1} vs. {score2}\")\n",
    "  #print(score_label)\n",
    "\n",
    "  temp = benchmark_endpoints %>%\n",
    "      filter(score %in% scores_plot) %>%\n",
    "      filter(endpoint %in% endpoint_selection) %>%\n",
    "      mutate(score = factor(score, levels=scores_plot)) %>%\n",
    "      mutate(endpoint = factor(endpoint, levels=sort(endpoint_selection))) %>%\n",
    "      group_by(endpoint, score, phecode_string, phecode_category) %>%\n",
    "      ungroup() %>%\n",
    "      pivot_wider(names_from=score, values_from=cindex, id_cols=c(uuid, partition, endpoint, phecode_category, phecode_string)) %>%\n",
    "      mutate(id = row_number()) %>%\n",
    "      mutate(delta = !!sym(score2)-!!sym(score1)) %>%\n",
    "      mutate(pos = case_when(delta>=0 ~ \"pos\", delta < 0 ~\"neg\")) %>%\n",
    "      mutate(endpoint = fct_reorder(endpoint, delta)) %>%\n",
    "      mutate(highlight = case_when(endpoint %in% endpoint_selection ~ \"YES\", TRUE ~ \"NO\")) %>%# %>% filter(endpoint %in% endpoint_sample)\n",
    "      mutate(phecode_category = factor(phecode_category, levels=categories_sorted)) %>%\n",
    "      filter(endpoint %in% endpoint_selection) #%>% mutate(endpoint=factor(endpoint, levels=endpoint_order_diff))\n",
    "\n",
    "  temp_abs = temp %>% group_by(endpoint) %>% summarise(delta=median(delta), m_score2=median(!!sym(score2)), m_score1=median(!!sym(score1))) %>% ungroup()\n",
    "  #print(levels(temp_abs$endpoint))\n",
    "\n",
    "  temp_abs_segment = temp_abs %>% rowwise() %>% mutate(min_cindex = min(m_score1, m_score2), max_cindex=max(m_score1, m_score2)) %>% ungroup()# %>% filter(abs(min_cindex-max_cindex)>0.02)\n",
    "\n",
    "  endpoint_order = (temp %>% group_by(endpoint) %>% summarise(delta=median(delta)) %>% arrange(delta))$endpoint\n",
    "  print(endpoint_order)\n",
    "\n",
    "  if (length(endpoint_order)>0){\n",
    "      temp = temp %>% filter(endpoint %in% endpoint_order) %>% mutate(endpoint=factor(endpoint, levels=endpoint_order))\n",
    "      temp_abs = temp_abs %>% filter(endpoint %in% endpoint_order) %>% mutate(endpoint=factor(endpoint, levels=endpoint_order))\n",
    "      temp_abs_segment = temp_abs_segment %>% filter(endpoint %in% endpoint_order) %>% mutate(endpoint=factor(endpoint, levels=endpoint_order))\n",
    "      }\n",
    "  #print(temp_abs_segment)\n",
    "\n",
    "  abs = ggplot(temp_abs) +\n",
    "      #geom_violin(aes(x=fct_rev(endpoint), y=delta), size=0.5) +\n",
    "      labs(y=\"Concordance Index\")+\n",
    "\n",
    "      #geom_segment(data=temp_abs_segment, mapping=aes(x=endpoint, xend=endpoint, y=min_cindex+0.01, yend=max_cindex-0.01), alpha=0.4)+#, arrow = arrow(length = unit(0.01, \"npc\")), arrow.fill=\"black\")+#+\n",
    "\n",
    "\n",
    "      geom_point(aes(x=fct_rev(endpoint), y=m_score1), size=1, color=\"black\", alpha=0.7)+\n",
    "      #geom_point(aes(x=fct_rev(endpoint), y=m_asm), size=1, color=\"#023768\", alpha=0.7)+\n",
    "      geom_point(aes(x=fct_rev(endpoint), y=m_score2), size=1.5, color=\"firebrick\", alpha=0.7)+\n",
    "      geom_segment(data=temp_abs %>% filter(abs(delta)>0.02) %>% mutate(endpoint=factor(endpoint, levels=endpoint_order)),\n",
    "                   aes(x=fct_rev(endpoint), xend=fct_rev(endpoint), y=m_score1+0.01, yend=m_score2-0.01), alpha=0.2, arrow = arrow(length = unit(0.01, \"npc\")), arrow.fill=\"black\")+#,\n",
    "\n",
    "      scale_x_discrete(labels=endpoint_map) +\n",
    "\n",
    "      coord_flip(ylim=c(0.5, 0.9))+\n",
    "       theme(strip.text = element_text(angle=270), axis.title.y=element_blank()) +\n",
    "      theme(legend.position=\"none\")\n",
    "\n",
    "      #geom_ribbon(aes(x=id, ymin=AgeSex, ymax=`Age+Sex+MedicalHistory`), fill=\"red\", alpha=0.2)\n",
    "  #geom_violin(size=0.1)\n",
    "  rel = ggplot(temp) +\n",
    "      #geom_violin(aes(x=fct_rev(endpoint), y=delta), size=0.5) +\n",
    "      labs(y=\"Difference in Concordance Index\")+\n",
    "      geom_hline(yintercept=0, size=0.25, alpha=0.5, linetype=\"22\") +\n",
    "      stat_pointinterval(aes(x=fct_rev(endpoint), y=delta), size=0.5, alpha=0.7)+\n",
    "\n",
    "      theme(axis.title.y=element_blank(),\n",
    "          axis.text.y=element_blank(),\n",
    "         axis.ticks.y=element_blank()) +\n",
    "      coord_flip(ylim=c(-0.01, 0.23))+\n",
    "       theme(strip.text = element_text(angle=270)) +\n",
    "      theme(legend.position=\"none\")\n",
    "\n",
    "      #geom_ribbon(aes(x=id, ymin=AgeSex, ymax=`Age+Sex+MedicalHistory`), fill=\"red\", alpha=0.2)\n",
    "  #geom_violin(size=0.1)\n",
    "  return(abs|rel)\n",
    "}"
   ]
  },
  {
   "cell_type": "code",
   "execution_count": null,
   "id": "7bfefad5",
   "metadata": {
    "execution": {
     "iopub.execute_input": "2023-05-11T10:06:01.304090Z",
     "iopub.status.busy": "2023-05-11T10:06:01.303381Z",
     "iopub.status.idle": "2023-05-11T10:06:01.335723Z",
     "shell.execute_reply": "2023-05-11T10:06:01.334923Z"
    },
    "tags": []
   },
   "outputs": [],
   "source": [
    "ase_size = 8\n",
    "title_size = 10\n",
    "facet_size = 9\n",
    "geom_text_size=3\n",
    "theme_set(theme_classic(base_size = base_size) +\n",
    "          theme(strip.background = element_blank(), plot.title=element_text(size=title_size, hjust=0),\n",
    "                strip.text.x = element_text(size = facet_size),axis.title=element_text(size=10), axis.text=element_text(size=8, color=\"black\"),\n",
    "                legend.position=\"bottom\", axis.line = element_line(size = 0.2), axis.ticks=element_line(size=0.2), panel.grid.major=element_line()))\n",
    "\n",
    "endpoint_order=c()\n",
    "length(endpoint_order)"
   ]
  },
  {
   "cell_type": "code",
   "execution_count": null,
   "id": "a28764be",
   "metadata": {
    "execution": {
     "iopub.execute_input": "2023-05-11T10:07:20.652048Z",
     "iopub.status.busy": "2023-05-11T10:07:20.651242Z",
     "iopub.status.idle": "2023-05-11T10:07:21.198515Z",
     "shell.execute_reply": "2023-05-11T10:07:21.197592Z"
    },
    "tags": []
   },
   "outputs": [],
   "source": [
    "plot_width = 8.25; plot_height=3.25; plot_res = 320\n",
    "options(repr.plot.width = plot_width, repr.plot.height = plot_height, repr.plot.res=plot_res)\n",
    "\n",
    "fig5b = plot_against_score(\"AgeSex_AoUCPH\", \"AgeSex+MedicalHistory_UKBBParams\")\n",
    "\n",
    "plot_name = \"Figure4fg_AoU_Subset\"\n",
    "fig5b"
   ]
  },
  {
   "cell_type": "code",
   "execution_count": null,
   "id": "c7a811a2",
   "metadata": {
    "execution": {
     "iopub.execute_input": "2023-05-11T10:07:25.359574Z",
     "iopub.status.busy": "2023-05-11T10:07:25.358802Z",
     "iopub.status.idle": "2023-05-11T10:07:26.050046Z",
     "shell.execute_reply": "2023-05-11T10:07:26.049004Z"
    },
    "tags": []
   },
   "outputs": [],
   "source": [
    "fig5b %>% ggsave(filename=glue(\"outputs/{plot_name}.png\"), device=\"png\", width=plot_width, height=plot_height, dpi=plot_res)\n",
    "fig5b %>% ggsave(filename=glue(\"outputs/{plot_name}.pdf\"), device=\"pdf\", width=plot_width, height=plot_height, dpi=plot_res)"
   ]
  },
  {
   "cell_type": "code",
   "execution_count": null,
   "id": "fd874305",
   "metadata": {},
   "outputs": [],
   "source": []
  }
 ],
 "metadata": {
  "jupytext": {
   "cell_metadata_filter": "title,-all",
   "main_language": "R",
   "notebook_metadata_filter": "-all"
  },
  "kernelspec": {
   "display_name": "R [conda env:cm_r]",
   "language": "R",
   "name": "conda-env-cm_r-r"
  },
  "language_info": {
   "codemirror_mode": "r",
   "file_extension": ".r",
   "mimetype": "text/x-r-source",
   "name": "R",
   "pygments_lexer": "r",
   "version": "4.2.2"
  }
 },
 "nbformat": 4,
 "nbformat_minor": 5
}
