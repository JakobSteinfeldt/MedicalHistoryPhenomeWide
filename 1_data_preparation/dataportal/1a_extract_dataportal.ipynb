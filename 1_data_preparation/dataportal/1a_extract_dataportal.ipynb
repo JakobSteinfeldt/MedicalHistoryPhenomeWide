{
 "cells": [
  {
   "cell_type": "markdown",
   "metadata": {},
   "source": [
    "# 1. Data Portal Preprocessing"
   ]
  },
  {
   "cell_type": "code",
   "execution_count": null,
   "metadata": {
    "ExecuteTime": {
     "end_time": "2020-12-23T09:27:43.184073Z",
     "start_time": "2020-12-23T09:27:38.838Z"
    },
    "tags": [],
    "vscode": {
     "languageId": "r"
    }
   },
   "outputs": [],
   "source": [
    "try(library(tidyverse), silent=TRUE)\n",
    "library(lubridate)\n",
    "library(glue)\n",
    "library(data.table)\n",
    "library(tidyfast)\n",
    "library(\"magrittr\")\n",
    "setwd(\"/\")\n",
    "base_path = \"/sc-projects/sc-proj-ukb-cvd/data\"\n",
    "data_path = glue(\"{base_path}/0_raw/showcase_48024/tables_220317\")\n",
    "mapping_path = glue(\"{base_path}/mapping\")\n",
    "out_path = glue(\"{base_path}/1_decoded\")\n",
    "#data_path = \"/data/analysis/ag-reils/ag-reils-shared/cardioRS/data\""
   ]
  },
  {
   "cell_type": "markdown",
   "metadata": {},
   "source": [
    "## Schema"
   ]
  },
  {
   "cell_type": "raw",
   "metadata": {},
   "source": [
    "# GP noncovid -> we dont care\n",
    "# GP COVID\n",
    "- \"Clinical\" -> SNOMED/CTV3 -map-> SNOMED\n",
    "- \"Prescriptions\" -> dm+d -map-> SNOMED/RxNorm/RxNormExtended -map-map-map...map-> Rxnorm Ingredient\n",
    "# HES\n",
    "- \"Diagnoses\" - ICD10 -map-> SNOMED\n",
    "- \"Procedure\" - OPCS4 -map-> SNOMED\n",
    "# ONS\n",
    "- \"Death diagnoses\" - ICD10 -map-> SNOMED"
   ]
  },
  {
   "cell_type": "code",
   "execution_count": null,
   "metadata": {
    "tags": [],
    "vscode": {
     "languageId": "r"
    }
   },
   "outputs": [],
   "source": [
    "list.files(path = data_path)"
   ]
  },
  {
   "cell_type": "code",
   "execution_count": null,
   "metadata": {
    "tags": [],
    "vscode": {
     "languageId": "r"
    }
   },
   "outputs": [],
   "source": [
    "print(system(glue(\"ls -ll {data_path}\"), intern=TRUE))"
   ]
  },
  {
   "cell_type": "markdown",
   "metadata": {},
   "source": [
    "## Load Athena Vocabulary"
   ]
  },
  {
   "cell_type": "code",
   "execution_count": null,
   "metadata": {
    "tags": [],
    "vscode": {
     "languageId": "r"
    }
   },
   "outputs": [],
   "source": [
    "vocab_dir = glue(\"{mapping_path}/athena\")\n",
    "concept =fread(glue(\"{vocab_dir}/CONCEPT.csv\"), sep='\\t', quote = \"\")"
   ]
  },
  {
   "cell_type": "code",
   "execution_count": null,
   "metadata": {
    "tags": [],
    "vscode": {
     "languageId": "r"
    }
   },
   "outputs": [],
   "source": [
    "relationship = fread(glue(\"{vocab_dir}/RELATIONSHIP.csv\"), sep='\\t')"
   ]
  },
  {
   "cell_type": "code",
   "execution_count": null,
   "metadata": {
    "tags": [],
    "vscode": {
     "languageId": "r"
    }
   },
   "outputs": [],
   "source": [
    "vocabulary =  fread(glue(\"{vocab_dir}/VOCABULARY.csv\"), sep='\\t')"
   ]
  },
  {
   "cell_type": "code",
   "execution_count": null,
   "metadata": {
    "tags": [],
    "vscode": {
     "languageId": "r"
    }
   },
   "outputs": [],
   "source": [
    "concept_relationship = fread(glue(\"{vocab_dir}/CONCEPT_RELATIONSHIP.csv\"), sep='\\t')"
   ]
  },
  {
   "cell_type": "code",
   "execution_count": null,
   "metadata": {
    "vscode": {
     "languageId": "r"
    }
   },
   "outputs": [],
   "source": [
    "concept_ancestor = fread(glue(\"{vocab_dir}/CONCEPT_ANCESTOR.csv\"), sep='\\t')"
   ]
  },
  {
   "cell_type": "code",
   "execution_count": null,
   "metadata": {
    "vscode": {
     "languageId": "r"
    }
   },
   "outputs": [],
   "source": [
    "rxconso = fread(glue(\"{mapping_path}/umls/RXNCONSO_220328.RRF\"))"
   ]
  },
  {
   "cell_type": "code",
   "execution_count": null,
   "metadata": {
    "vscode": {
     "languageId": "r"
    }
   },
   "outputs": [],
   "source": [
    "rxconso# %>% filter(V12==\"RxNorm\")"
   ]
  },
  {
   "cell_type": "markdown",
   "metadata": {},
   "source": [
    "## Hospital Episode Statistics"
   ]
  },
  {
   "cell_type": "code",
   "execution_count": null,
   "metadata": {
    "vscode": {
     "languageId": "r"
    }
   },
   "outputs": [],
   "source": [
    "hesin = fread(glue(\"{data_path}/hesin.txt\"))"
   ]
  },
  {
   "cell_type": "code",
   "execution_count": null,
   "metadata": {
    "vscode": {
     "languageId": "r"
    }
   },
   "outputs": [],
   "source": [
    "hesin_diag = fread(glue(\"{data_path}/hesin_diag.txt\"))"
   ]
  },
  {
   "cell_type": "code",
   "execution_count": null,
   "metadata": {
    "vscode": {
     "languageId": "r"
    }
   },
   "outputs": [],
   "source": [
    "hesin_critical = fread(glue(\"{data_path}/hesin_critical.txt\")) #fread(\"/data/project/uk_bb/cvd/data/ukb_downloads/updated_showcase_43098/ukb_data/records/hesin_critical.txt\")"
   ]
  },
  {
   "cell_type": "code",
   "execution_count": null,
   "metadata": {
    "vscode": {
     "languageId": "r"
    }
   },
   "outputs": [],
   "source": [
    "#hesin_psych = fread(glue(\"{data_path}/hesin_psych.txt\"))"
   ]
  },
  {
   "cell_type": "code",
   "execution_count": null,
   "metadata": {
    "vscode": {
     "languageId": "r"
    }
   },
   "outputs": [],
   "source": [
    "#hesin_delivery = fread(glue(\"{data_path}/hesin_delivery.txt\"))\n",
    "#hesin_maternity = fread(glue(\"{data_path}/hesin_maternity.txt\"))"
   ]
  },
  {
   "cell_type": "markdown",
   "metadata": {},
   "source": [
    "### Diagnoses - ICD10"
   ]
  },
  {
   "cell_type": "code",
   "execution_count": null,
   "metadata": {
    "vscode": {
     "languageId": "r"
    }
   },
   "outputs": [],
   "source": [
    "## icd9 to icd10 mapping\n",
    "icd9to10_df = fread(glue(\"{mapping_path}/codings/coding1836.tsv\"))\n",
    "icd9to10_mapping = split(icd9to10_df$meaning, icd9to10_df$coding)\n",
    "hesin_diag_icd9 = hesin_diag %>% filter(diag_icd9!=\"\") %>% dplyr::rowwise() %>% mutate(diag_icd10 = list(icd9to10_mapping[[diag_icd9]])) %>% drop_na(diag_icd10)\n",
    "hesin_diag = rbind(hesin_diag %>% filter(diag_icd9==\"\") %>% mutate(origin=\"hes_icd10\"), hesin_diag_icd9  %>% mutate(origin=\"hes_icd9\"))"
   ]
  },
  {
   "cell_type": "code",
   "execution_count": null,
   "metadata": {
    "vscode": {
     "languageId": "r"
    }
   },
   "outputs": [],
   "source": [
    "hes_join = hesin[hesin_diag, on=c(\"eid\", \"ins_index\")]\n",
    "hes_join = hes_join[, c(\"eid\", \"origin\",\"ins_index\", \"arr_index\", \"level\", \"epistart\", \"diag_icd10\")][order(eid, ins_index, arr_index),]"
   ]
  },
  {
   "cell_type": "code",
   "execution_count": null,
   "metadata": {
    "vscode": {
     "languageId": "r"
    }
   },
   "outputs": [],
   "source": [
    "hes_join_date = hes_join %>% rename(date=\"epistart\") %>% mutate(date = ymd(as.Date(fast_strptime(date, \"%d/%m/%Y\"))))"
   ]
  },
  {
   "cell_type": "code",
   "execution_count": null,
   "metadata": {
    "tags": [],
    "vscode": {
     "languageId": "r"
    }
   },
   "outputs": [],
   "source": [
    "hes_diagnoses_pre = hes_join_date %>% drop_na(date) %>% rename(code = \"diag_icd10\") %>% mutate(instance=ins_index) %>% group_by(eid) %>% mutate(n = arr_index)"
   ]
  },
  {
   "cell_type": "code",
   "execution_count": null,
   "metadata": {
    "tags": [],
    "vscode": {
     "languageId": "r"
    }
   },
   "outputs": [],
   "source": [
    "hes_diagnoses_pre = hes_diagnoses_pre %>% \n",
    "    mutate(vocabulary_origin=\"ICD10\", code_origin=unlist(code), level_origin=level) %>% \n",
    "    select(eid, origin, vocabulary_origin, code_origin, level_origin, date) %>% ungroup()"
   ]
  },
  {
   "cell_type": "code",
   "execution_count": null,
   "metadata": {
    "vscode": {
     "languageId": "r"
    }
   },
   "outputs": [],
   "source": [
    "nrow(hes_diagnoses_pre)\n",
    "head(hes_diagnoses_pre %>% arrange(desc(date)))"
   ]
  },
  {
   "cell_type": "code",
   "execution_count": null,
   "metadata": {
    "vscode": {
     "languageId": "r"
    }
   },
   "outputs": [],
   "source": [
    "concept_ids_in = concept %>% filter(vocabulary_id == \"ICD10\") %>% mutate(concept_code = str_replace(concept_code, \"\\\\.\", \"\"))\n",
    "concept_ids_out = concept %>% filter(vocabulary_id == \"SNOMED\" & standard_concept %in% c(\"S\", \"C\")) \n",
    "\n",
    "# check necessary opcs4 concept ids\n",
    "concept_ids = concept_ids_in %>% mutate(concept_id_1 = concept_id)\n",
    "\n",
    "cr_filtered = concept_relationship %>% filter(concept_id_1 %in% concept_ids_in$concept_id) %>% filter(concept_id_2 %in% concept_ids_out$concept_id) %>% arrange(concept_id_1)"
   ]
  },
  {
   "cell_type": "code",
   "execution_count": null,
   "metadata": {
    "vscode": {
     "languageId": "r"
    }
   },
   "outputs": [],
   "source": [
    "mapping_out = concept_ids_in %>% \n",
    "    left_join(cr_filtered %>% select(concept_id_1, concept_id_2), by=c(\"concept_id\"=\"concept_id_1\")) %>% \n",
    "    left_join(concept_ids_out %>% select(concept_id, concept_code, concept_name), by=c(\"concept_id_2\"=\"concept_id\")) %>% \n",
    "    mutate(code_origin = concept_code.x, code=concept_code.y, name=concept_name.y)"
   ]
  },
  {
   "cell_type": "code",
   "execution_count": null,
   "metadata": {
    "vscode": {
     "languageId": "r"
    }
   },
   "outputs": [],
   "source": [
    "hes_diagnoses = hes_diagnoses_pre %>% \n",
    "    left_join(mapping_out %>% select(code_origin, code, name), by=\"code_origin\") %>% \n",
    "    ungroup() %>% filter(!is.na(date)&!is.na(code)) %>% \n",
    "    mutate(vocabulary=\"SNOMED\") %>%\n",
    "    select(eid, origin, vocabulary_origin, code_origin, level_origin, vocabulary, code, name, date) %>%\n",
    "    mutate(origin=factor(origin), vocabulary_origin=factor(vocabulary_origin), \n",
    "           code_origin=factor(code_origin), vocabulary=factor(vocabulary), code=factor(code), name=factor(name))"
   ]
  },
  {
   "cell_type": "code",
   "execution_count": null,
   "metadata": {
    "vscode": {
     "languageId": "r"
    }
   },
   "outputs": [],
   "source": [
    "nrow(hes_diagnoses)\n",
    "head(hes_diagnoses %>% arrange(desc(date)))"
   ]
  },
  {
   "cell_type": "code",
   "execution_count": null,
   "metadata": {
    "vscode": {
     "languageId": "r"
    }
   },
   "outputs": [],
   "source": [
    "arrow::write_feather(hes_diagnoses, glue(\"{out_path}/codes_hes_diagnoses_220328.feather\"))"
   ]
  },
  {
   "cell_type": "markdown",
   "metadata": {},
   "source": [
    "### Procedures - Snomed CT"
   ]
  },
  {
   "cell_type": "code",
   "execution_count": null,
   "metadata": {
    "vscode": {
     "languageId": "r"
    }
   },
   "outputs": [],
   "source": [
    "# just do opcs4 for now..., no good opcs3 mapping available => SnomedCT Mapping probably the most reasonable..."
   ]
  },
  {
   "cell_type": "code",
   "execution_count": null,
   "metadata": {
    "vscode": {
     "languageId": "r"
    }
   },
   "outputs": [],
   "source": [
    "hesin_oper = fread(glue(\"{data_path}/hesin_oper.txt\"))#fread(\"/data/project/uk_bb/cvd/data/ukb_downloads/updated_showcase_43098/ukb_data/records/hesin_oper.txt\")"
   ]
  },
  {
   "cell_type": "code",
   "execution_count": null,
   "metadata": {
    "vscode": {
     "languageId": "r"
    }
   },
   "outputs": [],
   "source": [
    "hesin_oper[hesin_oper == \"\"] <- NA"
   ]
  },
  {
   "cell_type": "code",
   "execution_count": null,
   "metadata": {
    "vscode": {
     "languageId": "r"
    }
   },
   "outputs": [],
   "source": [
    "library(visdat)\n",
    "df = hesin_oper %>% sample_n(1000)\n",
    "vis_miss(df)"
   ]
  },
  {
   "cell_type": "code",
   "execution_count": null,
   "metadata": {
    "vscode": {
     "languageId": "r"
    }
   },
   "outputs": [],
   "source": [
    "hesin_oper %>% ungroup() %>% sample_n(1000000) %>% group_by(is.na(opdate)) %>% tally()#summarise(mean = nrow(~is.na(opdate))/nrow())"
   ]
  },
  {
   "cell_type": "code",
   "execution_count": null,
   "metadata": {
    "vscode": {
     "languageId": "r"
    }
   },
   "outputs": [],
   "source": [
    "hesin_oper_pre = hesin_oper %>% rename(date=\"opdate\", code=\"oper4\") %>% \n",
    "    mutate(date = ymd(as.Date(fast_strptime(date, \"%d/%m/%Y\"))))  %>%\n",
    "    mutate(origin=\"hes_opcs4\", instance=ins_index, code_origin=code) %>% group_by(eid) %>% mutate(n = arr_index) %>% select(eid, origin, instance, n, level, code_origin, date)"
   ]
  },
  {
   "cell_type": "code",
   "execution_count": null,
   "metadata": {
    "vscode": {
     "languageId": "r"
    }
   },
   "outputs": [],
   "source": [
    "concept_ids_opcs4 = concept %>% filter(vocabulary_id == \"OPCS4\") %>% mutate(concept_code = str_replace(concept_code, \"\\\\.\", \"\"))\n",
    "concept_ids_snomed = concept %>% filter(vocabulary_id == \"SNOMED\" & domain_id==\"Procedure\" & standard_concept %in% c(\"S\", \"C\")) \n",
    "\n",
    "# check necessary opcs4 concept ids\n",
    "concept_ids = concept_ids_opcs4 %>% mutate(concept_id_1 = concept_id)\n",
    "\n",
    "cr_filtered = concept_relationship %>% filter(concept_id_1 %in% concept_ids_opcs4$concept_id) %>% filter(concept_id_2 %in% concept_ids_snomed$concept_id) %>% arrange(concept_id_1)"
   ]
  },
  {
   "cell_type": "code",
   "execution_count": null,
   "metadata": {
    "vscode": {
     "languageId": "r"
    }
   },
   "outputs": [],
   "source": [
    "mapping_opcs4_snomed = concept_ids_opcs4 %>% \n",
    "    left_join(cr_filtered %>% select(concept_id_1, concept_id_2), by=c(\"concept_id\"=\"concept_id_1\")) %>% \n",
    "    left_join(concept_ids_snomed %>% select(concept_id, concept_code, concept_name), by=c(\"concept_id_2\"=\"concept_id\")) %>% \n",
    "    mutate(code_origin = concept_code.x, code=concept_code.y, name=concept_name.y)"
   ]
  },
  {
   "cell_type": "code",
   "execution_count": null,
   "metadata": {
    "vscode": {
     "languageId": "r"
    }
   },
   "outputs": [],
   "source": [
    "hes_procedures = hesin_oper_pre %>% left_join(mapping_opcs4_snomed %>% select(code_origin, code, name), by=\"code_origin\") %>% \n",
    "    ungroup() %>% filter(!is.na(date)&!is.na(code)) %>% \n",
    "    mutate(vocabulary_origin=\"OPCS4\", vocabulary=\"SNOMED\", level_origin=level) %>% \n",
    "    select(eid, origin, vocabulary_origin, code_origin, level_origin, vocabulary, code,\tname, date) %>%\n",
    "    mutate(origin=factor(origin), vocabulary_origin=factor(vocabulary_origin), \n",
    "           code_origin=factor(code_origin), vocabulary=factor(vocabulary), \n",
    "           code=factor(code), name=factor(name))\n",
    "nrow(hes_procedures)\n",
    "hes_procedures %>% arrange(desc(date)) %>% head()#sample_n(5)"
   ]
  },
  {
   "cell_type": "code",
   "execution_count": null,
   "metadata": {
    "vscode": {
     "languageId": "r"
    }
   },
   "outputs": [],
   "source": [
    "arrow::write_feather(hes_procedures, glue(\"{out_path}/codes_hes_procedures_220328.feather\"))"
   ]
  },
  {
   "cell_type": "code",
   "execution_count": null,
   "metadata": {
    "vscode": {
     "languageId": "r"
    }
   },
   "outputs": [],
   "source": [
    "test =  arrow::read_feather(glue(\"{out_path}/codes_hes_procedures_220317.feather\"))\n",
    "test %>% head()"
   ]
  },
  {
   "cell_type": "markdown",
   "metadata": {},
   "source": [
    "## Mortality Records - ICD10"
   ]
  },
  {
   "cell_type": "code",
   "execution_count": null,
   "metadata": {
    "tags": [],
    "vscode": {
     "languageId": "r"
    }
   },
   "outputs": [],
   "source": [
    "death = fread(glue(\"{data_path}/death.txt\")) #fread(\"/data/project/uk_bb/cvd/data/ukb_downloads/updated_showcase_43098/ukb_data/records/death.txt\")\n",
    "death_cause =  fread(glue(\"{data_path}/death_cause.txt\"))"
   ]
  },
  {
   "cell_type": "code",
   "execution_count": null,
   "metadata": {
    "tags": [],
    "vscode": {
     "languageId": "r"
    }
   },
   "outputs": [],
   "source": [
    "death_join = death[death_cause, on=c(\"eid\", \"ins_index\")]"
   ]
  },
  {
   "cell_type": "code",
   "execution_count": null,
   "metadata": {
    "tags": [],
    "vscode": {
     "languageId": "r"
    }
   },
   "outputs": [],
   "source": [
    "death_join = death_join[, c(\"eid\", \"ins_index\", \"arr_index\", \"level\", \"date_of_death\", \"cause_icd10\")][order(eid, ins_index, arr_index),]"
   ]
  },
  {
   "cell_type": "code",
   "execution_count": null,
   "metadata": {
    "tags": [],
    "vscode": {
     "languageId": "r"
    }
   },
   "outputs": [],
   "source": [
    "death_join_date = death_join %>% rename(date=\"date_of_death\") %>% rename(code = \"cause_icd10\") %>% mutate(date = ymd(as.Date(fast_strptime(date, \"%d/%m/%Y\"))))"
   ]
  },
  {
   "cell_type": "code",
   "execution_count": null,
   "metadata": {
    "tags": [],
    "vscode": {
     "languageId": "r"
    }
   },
   "outputs": [],
   "source": [
    "codes_death = death_join_date  %>% mutate(instance=0) %>% mutate(origin=\"death_records\") %>% group_by(eid) %>% mutate(n=row_number())\n",
    "codes_death = codes_death %>% mutate(meaning=str_sub(code, 1, 3)) %>% select(c(eid, origin, instance, n, level, code, meaning, date)) %>% ungroup()"
   ]
  },
  {
   "cell_type": "code",
   "execution_count": null,
   "metadata": {
    "tags": [],
    "vscode": {
     "languageId": "r"
    }
   },
   "outputs": [],
   "source": [
    "concept_ids_in = concept %>% filter(vocabulary_id == \"ICD10\") %>% mutate(concept_code = str_replace(concept_code, \"\\\\.\", \"\"))\n",
    "concept_ids_out = concept %>% filter(vocabulary_id == \"SNOMED\" & standard_concept %in% c(\"S\", \"C\")) \n",
    "\n",
    "# check necessary opcs4 concept ids\n",
    "concept_ids = concept_ids_in %>% mutate(concept_id_1 = concept_id)\n",
    "\n",
    "cr_filtered = concept_relationship %>% filter(concept_id_1 %in% concept_ids_in$concept_id) %>% filter(concept_id_2 %in% concept_ids_out$concept_id) %>% arrange(concept_id_1)"
   ]
  },
  {
   "cell_type": "code",
   "execution_count": null,
   "metadata": {
    "vscode": {
     "languageId": "r"
    }
   },
   "outputs": [],
   "source": [
    "mapping_out = concept_ids_in %>% \n",
    "    left_join(cr_filtered %>% select(concept_id_1, concept_id_2), by=c(\"concept_id\"=\"concept_id_1\")) %>% \n",
    "    left_join(concept_ids_out %>% select(concept_id, concept_code, concept_name), by=c(\"concept_id_2\"=\"concept_id\")) %>% \n",
    "    mutate(code_origin = concept_code.x, code=concept_code.y, name=concept_name.y)"
   ]
  },
  {
   "cell_type": "code",
   "execution_count": null,
   "metadata": {
    "vscode": {
     "languageId": "r"
    }
   },
   "outputs": [],
   "source": [
    "codes_death = codes_death %>% \n",
    "    mutate(vocabulary_origin=\"ICD10\", code_origin=code, level_origin=level) %>%\n",
    "    select(eid, origin, vocabulary_origin, code_origin, level_origin, date) %>%\n",
    "    left_join(mapping_out %>% select(code_origin, code, name), by=\"code_origin\") %>% \n",
    "    ungroup() %>% filter(!is.na(date)&!is.na(code)) %>% \n",
    "    mutate(vocabulary=\"SNOMED\") %>%\n",
    "    select(eid, origin, vocabulary_origin, code_origin, level_origin, vocabulary, code, name, date) %>%\n",
    "    mutate(origin=factor(origin), vocabulary_origin=factor(vocabulary_origin), \n",
    "           code_origin=factor(code_origin), vocabulary=factor(vocabulary), \n",
    "           code=factor(code), name=factor(name))"
   ]
  },
  {
   "cell_type": "code",
   "execution_count": null,
   "metadata": {
    "vscode": {
     "languageId": "r"
    }
   },
   "outputs": [],
   "source": [
    "nrow(codes_death)"
   ]
  },
  {
   "cell_type": "code",
   "execution_count": null,
   "metadata": {
    "vscode": {
     "languageId": "r"
    }
   },
   "outputs": [],
   "source": [
    "head(codes_death %>% arrange(desc(date)))"
   ]
  },
  {
   "cell_type": "code",
   "execution_count": null,
   "metadata": {
    "vscode": {
     "languageId": "r"
    }
   },
   "outputs": [],
   "source": [
    "arrow::write_feather(codes_death, glue(\"{out_path}/codes_death_records_220328.feather\"))"
   ]
  },
  {
   "cell_type": "markdown",
   "metadata": {},
   "source": [
    "## GP Records"
   ]
  },
  {
   "cell_type": "code",
   "execution_count": null,
   "metadata": {
    "vscode": {
     "languageId": "r"
    }
   },
   "outputs": [],
   "source": [
    "library(dtplyr)\n",
    "library(dplyr, warn.conflicts = FALSE)"
   ]
  },
  {
   "cell_type": "code",
   "execution_count": null,
   "metadata": {
    "vscode": {
     "languageId": "r"
    }
   },
   "outputs": [],
   "source": [
    "gp_code_types = fread(glue(\"{mapping_path}/codings/coding3175.tsv\"))\n",
    "gp_code_type_map = gp_code_types$meaning\n",
    "names(gp_code_type_map) = gp_code_types$coding"
   ]
  },
  {
   "cell_type": "raw",
   "metadata": {},
   "source": [
    "Encoding Coding classification system\n",
    "0 CTV3 code\n",
    "1 Local TPP code\n",
    "2 SNOMED CT\n",
    "3 Local EMIS code\n",
    "5 Local EMIS test request code (OLTR)\n",
    "6 dm+d"
   ]
  },
  {
   "cell_type": "markdown",
   "metadata": {},
   "source": [
    "#### Clinical"
   ]
  },
  {
   "cell_type": "code",
   "execution_count": null,
   "metadata": {
    "vscode": {
     "languageId": "r"
    }
   },
   "outputs": [],
   "source": [
    "## emis"
   ]
  },
  {
   "cell_type": "code",
   "execution_count": null,
   "metadata": {
    "vscode": {
     "languageId": "r"
    }
   },
   "outputs": [],
   "source": [
    "gp_clinical_emis_raw = fread(\n",
    "    glue(\"{data_path}/covid19_emis_gp_clinical.txt\"), \n",
    "    colClasses = c(\"eid\"=\"integer\", \n",
    "                   \"event_dt\"=\"character\", \n",
    "                   \"code_type\"=\"character\", \n",
    "                   \"code\"=\"character\",\n",
    "                   \"value\"=\"character\", \n",
    "                   \"unit\"=\"character\"))"
   ]
  },
  {
   "cell_type": "code",
   "execution_count": null,
   "metadata": {
    "vscode": {
     "languageId": "r"
    }
   },
   "outputs": [],
   "source": [
    "nrow(gp_clinical_emis_raw)\n",
    "gp_clinical_emis_raw %>% sample(5)"
   ]
  },
  {
   "cell_type": "code",
   "execution_count": null,
   "metadata": {
    "vscode": {
     "languageId": "r"
    }
   },
   "outputs": [],
   "source": [
    "gp_clinical_emis_raw = lazy_dt(gp_clinical_emis_raw)"
   ]
  },
  {
   "cell_type": "code",
   "execution_count": null,
   "metadata": {
    "vscode": {
     "languageId": "r"
    }
   },
   "outputs": [],
   "source": [
    "gp_clinical_emis = gp_clinical_emis_raw %>%\n",
    "    mutate(code_type=as.factor(code_type), code=as.factor(code)) %>%\n",
    "    mutate(date = ymd(as.Date(fast_strptime(event_dt, \"%d/%m/%Y\")))) %>% \n",
    "    select(eid, code_type, code, date)"
   ]
  },
  {
   "cell_type": "code",
   "execution_count": null,
   "metadata": {
    "vscode": {
     "languageId": "r"
    }
   },
   "outputs": [],
   "source": [
    "## tpp"
   ]
  },
  {
   "cell_type": "code",
   "execution_count": null,
   "metadata": {
    "vscode": {
     "languageId": "r"
    }
   },
   "outputs": [],
   "source": [
    "gp_clinical_tpp_raw = fread(\n",
    "    glue(\"{data_path}/covid19_tpp_gp_clinical.txt\"), \n",
    "    colClasses = c(\"eid\"=\"integer\", \n",
    "                   \"event_dt\"=\"character\", \n",
    "                   \"code_type\"=\"character\", \n",
    "                   \"code\"=\"character\",\n",
    "                   \"value\"=\"character\")\n",
    "    )"
   ]
  },
  {
   "cell_type": "code",
   "execution_count": null,
   "metadata": {
    "vscode": {
     "languageId": "r"
    }
   },
   "outputs": [],
   "source": [
    "nrow(gp_clinical_tpp_raw)\n",
    "gp_clinical_tpp_raw %>% sample(5)"
   ]
  },
  {
   "cell_type": "code",
   "execution_count": null,
   "metadata": {
    "vscode": {
     "languageId": "r"
    }
   },
   "outputs": [],
   "source": [
    "gp_clinical_tpp_raw = lazy_dt(gp_clinical_tpp_raw)"
   ]
  },
  {
   "cell_type": "code",
   "execution_count": null,
   "metadata": {
    "vscode": {
     "languageId": "r"
    }
   },
   "outputs": [],
   "source": [
    "gp_clinical_tpp = gp_clinical_tpp_raw %>%\n",
    "    mutate(code_type=as.factor(code_type), code=as.factor(code)) %>%\n",
    "    mutate(date = ymd(as.Date(fast_strptime(event_dt, \"%d/%m/%Y\")))) %>% \n",
    "    select(eid, code_type, code, date)"
   ]
  },
  {
   "cell_type": "code",
   "execution_count": null,
   "metadata": {
    "vscode": {
     "languageId": "r"
    }
   },
   "outputs": [],
   "source": [
    "gp_clinical = bind_rows(gp_clinical_emis %>% as.data.table(), \n",
    "                        gp_clinical_tpp %>% as.data.table()\n",
    "                       )"
   ]
  },
  {
   "cell_type": "code",
   "execution_count": null,
   "metadata": {
    "vscode": {
     "languageId": "r"
    }
   },
   "outputs": [],
   "source": [
    "gp_clinical$code_type = recode(gp_clinical$code_type, !!!gp_code_type_map)#%>% sample_n(100)"
   ]
  },
  {
   "cell_type": "code",
   "execution_count": null,
   "metadata": {
    "vscode": {
     "languageId": "r"
    }
   },
   "outputs": [],
   "source": [
    "gp_clinical %>% head()"
   ]
  },
  {
   "cell_type": "code",
   "execution_count": null,
   "metadata": {
    "vscode": {
     "languageId": "r"
    }
   },
   "outputs": [],
   "source": [
    "# write intermediate results\n",
    "arrow::write_feather(gp_clinical, glue(\"{out_path}/codes_gp_clinical_raw_220317.feather\"))"
   ]
  },
  {
   "cell_type": "code",
   "execution_count": null,
   "metadata": {
    "vscode": {
     "languageId": "r"
    }
   },
   "outputs": [],
   "source": [
    "gp_clinical = gp_clinical %>% filter(code_type %in% c(\"SNOMED CT\", \"CTV3\"))"
   ]
  },
  {
   "cell_type": "code",
   "execution_count": null,
   "metadata": {
    "vscode": {
     "languageId": "r"
    }
   },
   "outputs": [],
   "source": [
    "# get snomed records\n",
    "gp_clinical_sct = gp_clinical %>% \n",
    "    filter(code_type==\"SNOMED CT\") %>% \n",
    "    mutate(origin=\"gp_sct\") %>% \n",
    "    mutate(vocabulary_origin=\"SNOMED\", code_origin = code) %>%\n",
    "    mutate(vocabulary=\"SNOMED\") %>%\n",
    "    select(eid, origin, vocabulary_origin, code_origin, vocabulary, code, date) %>%\n",
    "    as.data.table()"
   ]
  },
  {
   "cell_type": "code",
   "execution_count": null,
   "metadata": {
    "vscode": {
     "languageId": "r"
    }
   },
   "outputs": [],
   "source": [
    "# get and map ctv3 records\n",
    "readv3_sct = fread(glue(\"{mapping_path}/gp_codings/CTV3SCTMAP.csv\")) %>% \n",
    "    rename(SCUI=\"V1\", STUI=\"V2\", TCUI=\"V3\", TTUI=\"V4\")%>% rename(code_origin=\"SCUI\", code=\"TCUI\") %>% \n",
    "    select(code_origin, code)"
   ]
  },
  {
   "cell_type": "code",
   "execution_count": null,
   "metadata": {
    "vscode": {
     "languageId": "r"
    }
   },
   "outputs": [],
   "source": [
    "gp_clinical_ctv3 = gp_clinical %>% \n",
    "    filter(code_type==\"CTV3\") %>% \n",
    "    mutate(origin=\"gp_ctv3\") %>% \n",
    "    mutate(vocabulary_origin=\"CTV3\", code_origin = code) %>%\n",
    "    select(eid, origin, vocabulary_origin, code_origin, date) "
   ]
  },
  {
   "cell_type": "code",
   "execution_count": null,
   "metadata": {
    "vscode": {
     "languageId": "r"
    }
   },
   "outputs": [],
   "source": [
    "# map read3 records to snomed\n",
    "gp_clinical_ctv3_sct = gp_clinical_ctv3 %>% \n",
    "    left_join(readv3_sct, by=\"code_origin\") %>% \n",
    "    mutate(vocabulary=\"SNOMED\") %>%\n",
    "    select(eid, origin, vocabulary_origin, code_origin, vocabulary, code, date) %>%\n",
    "    as.data.table()"
   ]
  },
  {
   "cell_type": "code",
   "execution_count": null,
   "metadata": {
    "vscode": {
     "languageId": "r"
    }
   },
   "outputs": [],
   "source": [
    "gp_clinical_all = bind_rows(gp_clinical_sct, gp_clinical_ctv3_sct)"
   ]
  },
  {
   "cell_type": "code",
   "execution_count": null,
   "metadata": {
    "vscode": {
     "languageId": "r"
    }
   },
   "outputs": [],
   "source": [
    "gp_clinical_all = gp_clinical_all %>% \n",
    "    mutate(origin = factor(origin),\n",
    "           vocabulary_origin = factor(vocabulary_origin),\n",
    "           code_origin = factor(code_origin),\n",
    "           vocabulary = factor(vocabulary),\n",
    "           code = factor(code)\n",
    "          )"
   ]
  },
  {
   "cell_type": "code",
   "execution_count": null,
   "metadata": {
    "tags": [],
    "vscode": {
     "languageId": "r"
    }
   },
   "outputs": [],
   "source": [
    "# clean impossible dates"
   ]
  },
  {
   "cell_type": "code",
   "execution_count": null,
   "metadata": {
    "vscode": {
     "languageId": "r"
    }
   },
   "outputs": [],
   "source": [
    "gp_clinical_cleaned = gp_clinical_all %>% filter(date>=\"1902-02-02\"&date<\"2037-07-07\") %>% as.data.table()"
   ]
  },
  {
   "cell_type": "code",
   "execution_count": null,
   "metadata": {
    "vscode": {
     "languageId": "r"
    }
   },
   "outputs": [],
   "source": [
    "gp_clinical_cleaned %>% arrange(date) %>% head()"
   ]
  },
  {
   "cell_type": "code",
   "execution_count": null,
   "metadata": {
    "vscode": {
     "languageId": "r"
    }
   },
   "outputs": [],
   "source": [
    "# write intermediate results\n",
    "arrow::write_feather(gp_clinical_cleaned, glue(\"{out_path}/codes_gp_clinical_220317.feather\"))"
   ]
  },
  {
   "cell_type": "code",
   "execution_count": null,
   "metadata": {
    "vscode": {
     "languageId": "r"
    }
   },
   "outputs": [],
   "source": [
    "### prepare for later"
   ]
  },
  {
   "cell_type": "code",
   "execution_count": null,
   "metadata": {
    "vscode": {
     "languageId": "r"
    }
   },
   "outputs": [],
   "source": [
    "gp_clinical_cleaned = arrow::read_feather(glue(\"{out_path}/codes_gp_clinical_220317.feather\"))"
   ]
  },
  {
   "cell_type": "code",
   "execution_count": null,
   "metadata": {
    "vscode": {
     "languageId": "r"
    }
   },
   "outputs": [],
   "source": [
    "gp_clinical_cleaned %>% head()"
   ]
  },
  {
   "cell_type": "code",
   "execution_count": null,
   "metadata": {
    "vscode": {
     "languageId": "r"
    }
   },
   "outputs": [],
   "source": [
    "concept_join = concept %>% filter(vocabulary_id==\"SNOMED\") %>% select(concept_code, domain_id, concept_name) %>% mutate(concept_code = factor(concept_code))"
   ]
  },
  {
   "cell_type": "code",
   "execution_count": null,
   "metadata": {
    "vscode": {
     "languageId": "r"
    }
   },
   "outputs": [],
   "source": [
    "test = gp_clinical_cleaned  %>% left_join(concept_join, by=c(\"code\"=\"concept_code\"))"
   ]
  },
  {
   "cell_type": "code",
   "execution_count": null,
   "metadata": {
    "vscode": {
     "languageId": "r"
    }
   },
   "outputs": [],
   "source": [
    "test %>% head()"
   ]
  },
  {
   "cell_type": "markdown",
   "metadata": {},
   "source": [
    "#### Prescriptions"
   ]
  },
  {
   "cell_type": "code",
   "execution_count": null,
   "metadata": {
    "vscode": {
     "languageId": "r"
    }
   },
   "outputs": [],
   "source": [
    "gp_code_types = fread(glue(\"{mapping_path}/codings/coding3175.tsv\"))\n",
    "gp_code_type_map = gp_code_types$meaning\n",
    "names(gp_code_type_map) = gp_code_types$coding"
   ]
  },
  {
   "cell_type": "code",
   "execution_count": null,
   "metadata": {
    "vscode": {
     "languageId": "r"
    }
   },
   "outputs": [],
   "source": [
    "# EMIS"
   ]
  },
  {
   "cell_type": "code",
   "execution_count": null,
   "metadata": {
    "vscode": {
     "languageId": "r"
    }
   },
   "outputs": [],
   "source": [
    "gp_emis_scripts = fread(glue(\"{data_path}/covid19_emis_gp_scripts.txt\"))\n",
    "nrow(gp_emis_scripts)"
   ]
  },
  {
   "cell_type": "code",
   "execution_count": null,
   "metadata": {
    "vscode": {
     "languageId": "r"
    }
   },
   "outputs": [],
   "source": [
    "gp_emis_scripts$code_type = recode(gp_emis_scripts$code_type, !!!gp_code_type_map)#%>% sample_n(100)"
   ]
  },
  {
   "cell_type": "code",
   "execution_count": null,
   "metadata": {
    "vscode": {
     "languageId": "r"
    }
   },
   "outputs": [],
   "source": [
    "gp_emis_scripts = gp_emis_scripts %>% mutate(date = ymd(as.Date(fast_strptime(issue_date, \"%d/%m/%Y\"))))"
   ]
  },
  {
   "cell_type": "code",
   "execution_count": null,
   "metadata": {
    "vscode": {
     "languageId": "r"
    }
   },
   "outputs": [],
   "source": [
    "gp_emis_scripts = gp_emis_scripts %>% select(eid, code_type, code, date)"
   ]
  },
  {
   "cell_type": "code",
   "execution_count": null,
   "metadata": {
    "tags": [],
    "vscode": {
     "languageId": "r"
    }
   },
   "outputs": [],
   "source": [
    "gp_emis_scripts %>% group_by(code_type) %>% as.data.frame() %>% tally()"
   ]
  },
  {
   "cell_type": "code",
   "execution_count": null,
   "metadata": {
    "vscode": {
     "languageId": "r"
    }
   },
   "outputs": [],
   "source": [
    "gp_emis_scripts = gp_emis_scripts %>% filter(code_type==\"dm+d\") %>% \n",
    "    select(-code_type) %>% mutate(origin=\"gp_scripts_emis\", vocabulary_origin=\"dm+d\", code_origin=code) %>% \n",
    "    select(eid, origin, vocabulary_origin, code_origin, date)"
   ]
  },
  {
   "cell_type": "code",
   "execution_count": null,
   "metadata": {
    "vscode": {
     "languageId": "r"
    }
   },
   "outputs": [],
   "source": [
    "gp_emis_scripts %>% head() "
   ]
  },
  {
   "cell_type": "code",
   "execution_count": null,
   "metadata": {
    "vscode": {
     "languageId": "r"
    }
   },
   "outputs": [],
   "source": [
    "# TPP"
   ]
  },
  {
   "cell_type": "code",
   "execution_count": null,
   "metadata": {
    "vscode": {
     "languageId": "r"
    }
   },
   "outputs": [],
   "source": [
    "# tpp\n",
    "gp_tpp_scripts = fread(glue(\"{data_path}/covid19_tpp_gp_scripts.txt\"), \n",
    "                       colClasses=c(\"integer\", \"character\", \"character\")) \n",
    "nrow(gp_tpp_scripts)"
   ]
  },
  {
   "cell_type": "code",
   "execution_count": null,
   "metadata": {
    "vscode": {
     "languageId": "r"
    }
   },
   "outputs": [],
   "source": [
    "gp_tpp_scripts = gp_tpp_scripts %>% \n",
    "    mutate(date = ymd(as.Date(fast_strptime(issue_date, \"%d/%m/%Y\")))) %>% \n",
    "    mutate(origin=\"gp_scripts_tpp\", vocabulary_origin=\"dm+d\", code_origin=dmd_code)  %>%\n",
    "    select(eid, origin, vocabulary_origin, code_origin, date)\n",
    "nrow(gp_tpp_scripts)"
   ]
  },
  {
   "cell_type": "code",
   "execution_count": null,
   "metadata": {
    "vscode": {
     "languageId": "r"
    }
   },
   "outputs": [],
   "source": [
    "gp_scripts = bind_rows(gp_emis_scripts, gp_tpp_scripts)"
   ]
  },
  {
   "cell_type": "code",
   "execution_count": null,
   "metadata": {
    "vscode": {
     "languageId": "r"
    }
   },
   "outputs": [],
   "source": [
    "arrow::write_feather(gp_scripts, glue(\"{out_path}/codes_gp_scripts_raw_220317.feather\"))"
   ]
  },
  {
   "cell_type": "code",
   "execution_count": null,
   "metadata": {
    "tags": [],
    "vscode": {
     "languageId": "r"
    }
   },
   "outputs": [],
   "source": [
    "gp_scripts = arrow::read_feather(glue(\"{out_path}/codes_gp_scripts_raw_220317.feather\"))"
   ]
  },
  {
   "cell_type": "code",
   "execution_count": null,
   "metadata": {
    "vscode": {
     "languageId": "r"
    }
   },
   "outputs": [],
   "source": [
    "map_codes = function(concept_ids_in, concept_ids_out){\n",
    "    concept_ids = concept_ids_in %>% mutate(concept_id_1 = concept_id)\n",
    "    cr_filtered = concept_relationship %>% filter(concept_id_1 %in% concept_ids_in$concept_id) %>% filter(concept_id_2 %in% concept_ids_out$concept_id) %>% arrange(concept_id_1)\n",
    "    \n",
    "    mapping =  concept_ids_in %>% \n",
    "        left_join(cr_filtered %>% select(concept_id_1, relationship_id, concept_id_2), by=c(\"concept_id\"=\"concept_id_1\")) %>%\n",
    "        left_join(concept_ids_out %>% select(concept_id, vocabulary_id, concept_code, concept_name, domain_id, concept_class_id), by=c(\"concept_id_2\"=\"concept_id\")) %>% \n",
    "        mutate(code_origin = concept_code.x, vocabulary=vocabulary_id.y, code=concept_code.y, name=concept_name.y, id_origin=concept_id_2, domain=domain_id.y, concept_class=concept_class_id.y) %>%\n",
    "        select(code_origin, vocabulary, code, name, relationship_id, id_origin, domain, concept_class) %>% distinct() %>% filter(!is.na(id_origin))\n",
    "    return(mapping)\n",
    "    }"
   ]
  },
  {
   "cell_type": "code",
   "execution_count": null,
   "metadata": {
    "vscode": {
     "languageId": "r"
    }
   },
   "outputs": [],
   "source": [
    "find_ancestors = function(mapping_in){\n",
    "    mapping_anc = mapping_in %>% left_join(concept_ancestor, by=c(\"id_origin\"=\"descendant_concept_id\"))\n",
    "    mapping_anc_md = mapping_anc %>% left_join(concept, by=c(\"ancestor_concept_id\"=\"concept_id\"))\n",
    "    return(mapping_anc_md)\n",
    "    }"
   ]
  },
  {
   "cell_type": "code",
   "execution_count": null,
   "metadata": {
    "vscode": {
     "languageId": "r"
    }
   },
   "outputs": [],
   "source": [
    "find_descendant = function(mapping_in){\n",
    "    mapping_desc = mapping_in %>% left_join(concept_ancestor, by=c(\"id_origin\"=\"ancestor_concept_id\"))\n",
    "    mapping_desc_md = mapping_desc %>% left_join(concept, by=c(\"descendant_concept_id\"=\"concept_id\"))\n",
    "    return(mapping_anc_md)\n",
    "    }"
   ]
  },
  {
   "cell_type": "markdown",
   "metadata": {},
   "source": [
    "##### Drugs to ingredients"
   ]
  },
  {
   "cell_type": "code",
   "execution_count": null,
   "metadata": {
    "tags": [],
    "vscode": {
     "languageId": "r"
    }
   },
   "outputs": [],
   "source": [
    "concept_ids_in = concept %>% filter(vocabulary_id %in% c(\"dm+d\", \"SNOMED\"))\n",
    "concept_ids_out = concept %>% filter(vocabulary_id %in% c(\"RxNorm\", \"RxNorm Extension\", \"SNOMED\"))  # & standard_concept %in% c(\"S\", \"C\")) \n",
    "\n",
    "mapping_dmd_drugs = map_codes(concept_ids_in, concept_ids_out) %>% filter(domain==\"Drug\") \n",
    "mapping_drugs_ingredient = find_ancestors(mapping_dmd_drugs) %>% filter(concept_class_id==\"Ingredient\", vocabulary_id==\"RxNorm\", standard_concept %in% c(\"S\", \"C\")) %>% arrange(code_origin)"
   ]
  },
  {
   "cell_type": "code",
   "execution_count": null,
   "metadata": {
    "vscode": {
     "languageId": "r"
    }
   },
   "outputs": [],
   "source": [
    "mapping_drugs_ingredient_clean = mapping_drugs_ingredient %>% \n",
    "    mutate(code = factor(concept_code), vocabulary=factor(vocabulary_id), name=factor(concept_name)) %>%\n",
    "    select(code_origin, vocabulary, code, name) %>% \n",
    "    distinct()\n",
    "\n",
    "print(length(unique(mapping_drugs_ingredient_clean$code_origin)))\n",
    "mapping_drugs_ingredient_clean %>% head()"
   ]
  },
  {
   "cell_type": "raw",
   "metadata": {},
   "source": [
    "mapping_dmd_unmapped =  mapping_dmd %>% filter(is.na(domain))\n",
    "mapping_dmd_drugs =  mapping_dmd %>% filter(domain==\"Drug\")\n",
    "mapping_dmd_nondrugs = mapping_dmd %>% filter(domain==\"Device\")"
   ]
  },
  {
   "cell_type": "markdown",
   "metadata": {},
   "source": [
    "##### Drugs to vaccines"
   ]
  },
  {
   "cell_type": "code",
   "execution_count": null,
   "metadata": {
    "tags": [],
    "vscode": {
     "languageId": "r"
    }
   },
   "outputs": [],
   "source": [
    "concept_ids_in = concept %>% filter(vocabulary_id %in% c(\"SNOMED\", \"dm+d\"))\n",
    "concept_ids_out = concept %>% filter(vocabulary_id %in% c(\"RxNorm\", \"RxNorm Extension\", \"SNOMED\", \"CVX\"))# & standard_concept %in% c(\"S\", \"C\")) \n",
    "\n",
    "mapping_dmd_vaccine = map_codes(concept_ids_in, concept_ids_out) %>% filter(domain==\"Drug\") \n",
    "mapping_drugs_vaccine = find_ancestors(mapping_dmd_vaccine) %>% filter(vocabulary_id==\"CVX\", standard_concept %in% c(\"S\", \"C\")) %>% arrange(code_origin)"
   ]
  },
  {
   "cell_type": "code",
   "execution_count": null,
   "metadata": {
    "vscode": {
     "languageId": "r"
    }
   },
   "outputs": [],
   "source": [
    "mapping_drugs_vaccine_clean = mapping_drugs_vaccine %>% \n",
    "    mutate(code = factor(concept_code), vocabulary=factor(vocabulary_id), name=factor(concept_name)) %>%\n",
    "    select(code_origin, vocabulary, code, name) %>% \n",
    "    distinct()\n",
    "\n",
    "print(length(unique(mapping_drugs_vaccine_clean$code_origin)))\n",
    "mapping_drugs_vaccine_clean %>% head()"
   ]
  },
  {
   "cell_type": "code",
   "execution_count": null,
   "metadata": {
    "vscode": {
     "languageId": "r"
    }
   },
   "outputs": [],
   "source": [
    "mapping_drugs_vaccine_clean %>% head()"
   ]
  },
  {
   "cell_type": "markdown",
   "metadata": {},
   "source": [
    "##### Drugs to devices"
   ]
  },
  {
   "cell_type": "code",
   "execution_count": null,
   "metadata": {
    "vscode": {
     "languageId": "r"
    }
   },
   "outputs": [],
   "source": [
    "## prepare map"
   ]
  },
  {
   "cell_type": "raw",
   "metadata": {
    "tags": []
   },
   "source": [
    "# get dmd concept_classes\n",
    "concept_ids_in = concept %>% filter(vocabulary_id %in% c(\"dm+d\")) %>% filter(domain_id==\"Device\") \n",
    "concept_ids_out = concept %>% filter(vocabulary_id %in% c(\"SNOMED\")) %>% filter(domain_id==\"Device\")  %>% filter(domain_id==\"Device\") \n",
    "\n",
    "dmd_classes = map_codes(concept_ids_in, concept_ids_out) %>% distinct(code_origin, concept_class) %>% rename(dmd_group = concept_class)"
   ]
  },
  {
   "cell_type": "code",
   "execution_count": null,
   "metadata": {
    "vscode": {
     "languageId": "r"
    }
   },
   "outputs": [],
   "source": [
    "dmd_devices_vocab = concept %>% filter(vocabulary_id %in% c(\"dm+d\")) %>% filter(domain_id==\"Device\")  %>% select(concept_code, concept_class_id, concept_name) %>%\n",
    "    rename(dmd_concept_class_id = concept_class_id, dmd_concept_name = concept_name) %>%\n",
    "    left_join(concept %>% filter(vocabulary_id==\"SNOMED\") , by=\"concept_code\")"
   ]
  },
  {
   "cell_type": "code",
   "execution_count": null,
   "metadata": {
    "vscode": {
     "languageId": "r"
    }
   },
   "outputs": [],
   "source": [
    "dmd_devices_vocab %>% head()"
   ]
  },
  {
   "cell_type": "code",
   "execution_count": null,
   "metadata": {
    "vscode": {
     "languageId": "r"
    }
   },
   "outputs": [],
   "source": [
    "vmpps = (dmd_devices_vocab %>% filter(dmd_concept_class_id=='VMPP'))$concept_id\n",
    "vmps =  (dmd_devices_vocab %>% filter(dmd_concept_class_id=='VMP'))$concept_id\n",
    "ampps = (dmd_devices_vocab %>% filter(dmd_concept_class_id=='AMPP'))$concept_id\n",
    "amps =  (dmd_devices_vocab %>% filter(dmd_concept_class_id=='AMP'))$concept_id"
   ]
  },
  {
   "cell_type": "code",
   "execution_count": null,
   "metadata": {
    "vscode": {
     "languageId": "r"
    }
   },
   "outputs": [],
   "source": [
    "from_vmpp_to_vmp = concept_relationship %>% filter((concept_id_1 %in% vmpps) & (relationship_id == 'Has VMP')) \n",
    "from_vmpp_to_vmp %>% head()"
   ]
  },
  {
   "cell_type": "code",
   "execution_count": null,
   "metadata": {
    "vscode": {
     "languageId": "r"
    }
   },
   "outputs": [],
   "source": [
    "from_amp_to_vmp = concept_relationship %>% filter((concept_id_1 %in% amps) & (relationship_id == 'Is a') & (concept_id_2 %in% vmps))\n",
    "from_amp_to_vmp %>% head()"
   ]
  },
  {
   "cell_type": "code",
   "execution_count": null,
   "metadata": {
    "vscode": {
     "languageId": "r"
    }
   },
   "outputs": [],
   "source": [
    "from_ampp_to_amp = concept_relationship %>% filter((concept_id_1 %in% ampps) & (relationship_id == 'Has AMP')) \n",
    "from_ampp_to_amp %>% head()"
   ]
  },
  {
   "cell_type": "code",
   "execution_count": null,
   "metadata": {
    "vscode": {
     "languageId": "r"
    }
   },
   "outputs": [],
   "source": [
    "# prepare prescriptions for map"
   ]
  },
  {
   "cell_type": "code",
   "execution_count": null,
   "metadata": {
    "vscode": {
     "languageId": "r"
    }
   },
   "outputs": [],
   "source": [
    "gp_scripts_devices = gp_scripts %>% group_by(code_origin) %>% summarise(count = n()) %>% arrange(desc(count))"
   ]
  },
  {
   "cell_type": "code",
   "execution_count": null,
   "metadata": {
    "vscode": {
     "languageId": "r"
    }
   },
   "outputs": [],
   "source": [
    "gp_scripts_devices_md = gp_scripts_devices %>% left_join(dmd_devices_vocab %>% select(concept_code, dmd_concept_class_id, concept_id), by=c(\"code_origin\"=\"concept_code\")) %>% filter(!is.na(dmd_concept_class_id))"
   ]
  },
  {
   "cell_type": "code",
   "execution_count": null,
   "metadata": {
    "vscode": {
     "languageId": "r"
    }
   },
   "outputs": [],
   "source": [
    "# only AMPs and VMPs exist\n",
    "gp_scripts_devices_md %>% group_by(dmd_concept_class_id) %>% summarise(n=n(), n_sum=sum(count))"
   ]
  },
  {
   "cell_type": "code",
   "execution_count": null,
   "metadata": {
    "vscode": {
     "languageId": "r"
    }
   },
   "outputs": [],
   "source": [
    "# map VMP directly to VMP\n",
    "gp_scripts_vmp_to_vmp = gp_scripts_devices_md %>% filter(dmd_concept_class_id==\"VMP\") %>% left_join(concept, by=\"concept_id\")\n",
    "gp_scripts_vmp_to_vmp %>% head()"
   ]
  },
  {
   "cell_type": "code",
   "execution_count": null,
   "metadata": {
    "vscode": {
     "languageId": "r"
    }
   },
   "outputs": [],
   "source": [
    "# map AMP to VMP\n",
    "gp_scripts_amp_to_vmp = gp_scripts_devices_md %>% filter(dmd_concept_class_id==\"AMP\") %>% \n",
    "    rename(amp_concept_id = concept_id) %>% \n",
    "    left_join(from_amp_to_vmp, by=c(\"amp_concept_id\" = \"concept_id_1\")) %>%\n",
    "    rename(concept_id = concept_id_2) %>%\n",
    "    select(code_origin, count, dmd_concept_class_id, amp_concept_id, concept_id) %>%\n",
    "    left_join(concept, by=\"concept_id\")\n",
    "gp_scripts_amp_to_vmp %>% head()"
   ]
  },
  {
   "cell_type": "code",
   "execution_count": null,
   "metadata": {
    "vscode": {
     "languageId": "r"
    }
   },
   "outputs": [],
   "source": [
    "mapping_devices_vmps_clean = bind_rows(gp_scripts_vmp_to_vmp, gp_scripts_amp_to_vmp) %>% #standard_concept %in% c(\"S\", \"C\") %>%\n",
    "    select(code_origin, count, concept_code, concept_name, vocabulary_id) %>% distinct() %>% arrange(desc(count)) %>%\n",
    "    mutate(code = factor(concept_code), vocabulary=factor(vocabulary_id), name=factor(concept_name)) %>%\n",
    "    select(code_origin, vocabulary, code, name) %>% \n",
    "    distinct()\n",
    "    \n",
    "mapping_devices_vmps_clean %>% head()"
   ]
  },
  {
   "cell_type": "code",
   "execution_count": null,
   "metadata": {
    "vscode": {
     "languageId": "r"
    }
   },
   "outputs": [],
   "source": [
    "length(unique(mapping_dmd_devices$id_origin))"
   ]
  },
  {
   "cell_type": "code",
   "execution_count": null,
   "metadata": {
    "vscode": {
     "languageId": "r"
    }
   },
   "outputs": [],
   "source": [
    "mapping_devices_anc = mapping_dmd_devices %>% left_join(concept_ancestor, by=c(\"id_origin\"=\"descendant_concept_id\"))\n",
    "mapping_devices_anc_md = mapping_devices_anc %>% left_join(concept, by=c(\"ancestor_concept_id\"=\"concept_id\"))"
   ]
  },
  {
   "cell_type": "code",
   "execution_count": null,
   "metadata": {
    "tags": [],
    "vscode": {
     "languageId": "r"
    }
   },
   "outputs": [],
   "source": [
    "mapping_devices_anc_md_clean = mapping_devices_anc_md %>% \n",
    "    filter(!concept_name %in% c(\"Device\", \n",
    "                                \"Physical object\", \n",
    "                                \"NHS dm+d virtual appliance pack\", \n",
    "                                \"NHS dm+d actual appliance pack\", \n",
    "                                \"UK device\", \n",
    "                                \"NHS dm+d virtual appliance\", \n",
    "                                \"NHS dm+d actual appliance\", \n",
    "                                \"Biomedical device\",\n",
    "                               \"Clinical equipment and/or device\"))"
   ]
  },
  {
   "cell_type": "code",
   "execution_count": null,
   "metadata": {
    "vscode": {
     "languageId": "r"
    }
   },
   "outputs": [],
   "source": [
    "mapping_devices_anc_md_clean %>% group_by(concept_name) %>% tally() %>% arrange(desc(n))"
   ]
  },
  {
   "cell_type": "code",
   "execution_count": null,
   "metadata": {
    "vscode": {
     "languageId": "r"
    }
   },
   "outputs": [],
   "source": [
    "mapping_drugs_ingredient = mapping_drugs_anc_md %>% filter(concept_class_id==\"Ingredient\", vocabulary_id==\"RxNorm\") %>% arrange(code_origin)"
   ]
  },
  {
   "cell_type": "code",
   "execution_count": null,
   "metadata": {
    "vscode": {
     "languageId": "r"
    }
   },
   "outputs": [],
   "source": []
  },
  {
   "cell_type": "code",
   "execution_count": null,
   "metadata": {
    "vscode": {
     "languageId": "r"
    }
   },
   "outputs": [],
   "source": [
    "mapping_dmd_device_md"
   ]
  },
  {
   "cell_type": "code",
   "execution_count": null,
   "metadata": {
    "vscode": {
     "languageId": "r"
    }
   },
   "outputs": [],
   "source": [
    "mapping_dmd_nondrugs_md %>% group_by(domain_id) %>% tally()"
   ]
  },
  {
   "cell_type": "code",
   "execution_count": null,
   "metadata": {
    "vscode": {
     "languageId": "r"
    }
   },
   "outputs": [],
   "source": [
    "mapping_dmd_nondrugs_md %>% group_by(vocabulary_id) %>% tally()"
   ]
  },
  {
   "cell_type": "markdown",
   "metadata": {},
   "source": [
    "##### Rest to Standards"
   ]
  },
  {
   "cell_type": "code",
   "execution_count": null,
   "metadata": {
    "vscode": {
     "languageId": "r"
    }
   },
   "outputs": [],
   "source": [
    "mapping_successful = bind_rows(mapping_drugs_vaccine_clean, mapping_drugs_ingredient_clean, mapping_devices_vmps_clean) \n",
    "mapping_unsuccessful = gp_scripts %>% select(code_origin) %>% distinct() %>% left_join(mapping_successful) %>% filter(is.na(code))"
   ]
  },
  {
   "cell_type": "code",
   "execution_count": null,
   "metadata": {
    "vscode": {
     "languageId": "r"
    }
   },
   "outputs": [],
   "source": [
    "gp_unmapped = gp_scripts %>% \n",
    "    left_join(mapping_unsuccessful %>% select(code_origin) %>% mutate(unmapped=1), by='code_origin') %>%\n",
    "    select(eid, origin, vocabulary_origin, code_origin, date, unmapped) %>% filter(unmapped==1)"
   ]
  },
  {
   "cell_type": "code",
   "execution_count": null,
   "metadata": {
    "vscode": {
     "languageId": "r"
    }
   },
   "outputs": [],
   "source": [
    "missing_md = gp_unmapped  %>% group_by(code_origin) %>% tally() %>% arrange(desc(n)) %>% \n",
    "    left_join(concept %>% mutate(concept_code = as.character(concept_code)), by=c(\"code_origin\"=\"concept_code\")) %>% \n",
    "    filter(vocabulary_id==\"dm+d\")# %>% "
   ]
  },
  {
   "cell_type": "markdown",
   "metadata": {},
   "source": [
    "##### Execute mapping to prescriptions"
   ]
  },
  {
   "cell_type": "code",
   "execution_count": null,
   "metadata": {
    "tags": [],
    "vscode": {
     "languageId": "r"
    }
   },
   "outputs": [],
   "source": [
    "gp_mapped = gp_scripts %>% \n",
    "    left_join(mapping_successful, by='code_origin') %>%\n",
    "    select(eid, origin, vocabulary_origin, code_origin, vocabulary, code, name, date) %>%\n",
    "    mutate(origin = factor(origin),\n",
    "           vocabulary_origin = factor(vocabulary_origin),\n",
    "           code_origin = factor(code_origin),\n",
    "           vocabulary = factor(vocabulary),\n",
    "           code = factor(code),\n",
    "            name = factor(name)\n",
    "          ) %>%\n",
    "    filter(date < \"2022-03-28\")"
   ]
  },
  {
   "cell_type": "code",
   "execution_count": null,
   "metadata": {
    "vscode": {
     "languageId": "r"
    }
   },
   "outputs": [],
   "source": [
    "gp_mapped %>% head()"
   ]
  },
  {
   "cell_type": "raw",
   "metadata": {},
   "source": [
    "# original\n",
    "mapped_md = gp_mapped  %>% group_by(code_origin) %>% tally() %>% arrange(desc(n)) %>% \n",
    "    left_join(concept %>% mutate(concept_code = as.character(concept_code)), by=c(\"code_origin\"=\"concept_code\")) %>% \n",
    "    filter(vocabulary_id==\"dm+d\")# %>% "
   ]
  },
  {
   "cell_type": "code",
   "execution_count": null,
   "metadata": {
    "vscode": {
     "languageId": "r"
    }
   },
   "outputs": [],
   "source": [
    "mapped_md = gp_mapped  %>% group_by(code) %>% tally() %>% arrange(desc(n)) %>% \n",
    "    left_join(concept %>% mutate(concept_code = as.character(concept_code)), by=c(\"code\"=\"concept_code\")) %>% \n",
    "    filter(vocabulary_id %in% c(\"SNOMED\", \"RxNorm\", \"CVX\"))# %>% "
   ]
  },
  {
   "cell_type": "code",
   "execution_count": null,
   "metadata": {
    "tags": [],
    "vscode": {
     "languageId": "r"
    }
   },
   "outputs": [],
   "source": [
    "arrow::write_feather(gp_mapped, glue('{out_path}/codes_gp_presciptions_220407.feather'))"
   ]
  }
 ],
 "metadata": {
  "hide_input": false,
  "kernelspec": {
   "display_name": "R [conda env:r_env]",
   "language": "R",
   "name": "conda-env-r_env-r"
  },
  "language_info": {
   "codemirror_mode": "r",
   "file_extension": ".r",
   "mimetype": "text/x-r-source",
   "name": "R",
   "pygments_lexer": "r",
   "version": "4.0.2"
  }
 },
 "nbformat": 4,
 "nbformat_minor": 4
}
