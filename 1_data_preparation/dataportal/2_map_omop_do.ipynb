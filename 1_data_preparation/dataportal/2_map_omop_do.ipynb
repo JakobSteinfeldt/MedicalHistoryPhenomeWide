{
 "cells": [
  {
   "cell_type": "markdown",
   "metadata": {},
   "source": [
    "# 1. Standardize Codes into our Standard OMOP Concepts"
   ]
  },
  {
   "cell_type": "code",
   "execution_count": null,
   "metadata": {
    "ExecuteTime": {
     "end_time": "2020-12-23T09:27:43.184073Z",
     "start_time": "2020-12-23T09:27:38.838Z"
    },
    "tags": []
   },
   "outputs": [],
   "source": [
    "try(library(tidyverse), silent=TRUE)\n",
    "library(lubridate)\n",
    "library(glue)\n",
    "library(data.table)\n",
    "library(tidyfast)\n",
    "library(\"magrittr\")\n",
    "setwd(\"/\")\n",
    "base_path = \"/sc-projects/sc-proj-ukb-cvd/data\"\n",
    "data_path = glue(\"{base_path}/0_raw/showcase_48024/tables_220317\")\n",
    "mapping_path = glue(\"{base_path}/mapping\")\n",
    "out_path = glue(\"{base_path}/1_decoded\")\n",
    "#data_path = \"/data/analysis/ag-reils/ag-reils-shared/cardioRS/data\""
   ]
  },
  {
   "cell_type": "code",
   "execution_count": null,
   "metadata": {
    "tags": []
   },
   "outputs": [],
   "source": [
    "library(dtplyr)"
   ]
  },
  {
   "cell_type": "markdown",
   "metadata": {},
   "source": [
    "## Schema"
   ]
  },
  {
   "cell_type": "markdown",
   "metadata": {},
   "source": [
    "## Load Athena Vocabulary"
   ]
  },
  {
   "cell_type": "code",
   "execution_count": null,
   "metadata": {
    "tags": []
   },
   "outputs": [],
   "source": [
    "vocab_dir = glue(\"{mapping_path}/athena\")\n",
    "concept =fread(glue(\"{vocab_dir}/CONCEPT.csv\"), sep='\\t', quote = \"\")"
   ]
  },
  {
   "cell_type": "code",
   "execution_count": null,
   "metadata": {
    "tags": []
   },
   "outputs": [],
   "source": [
    "relationship = fread(glue(\"{vocab_dir}/RELATIONSHIP.csv\"), sep='\\t')"
   ]
  },
  {
   "cell_type": "code",
   "execution_count": null,
   "metadata": {
    "tags": []
   },
   "outputs": [],
   "source": [
    "vocabulary =  fread(glue(\"{vocab_dir}/VOCABULARY.csv\"), sep='\\t')"
   ]
  },
  {
   "cell_type": "code",
   "execution_count": null,
   "metadata": {
    "tags": []
   },
   "outputs": [],
   "source": [
    "concept_relationship = fread(glue(\"{vocab_dir}/CONCEPT_RELATIONSHIP.csv\"), sep='\\t')"
   ]
  },
  {
   "cell_type": "markdown",
   "metadata": {},
   "source": [
    "# Load all data and check standard adherence"
   ]
  },
  {
   "cell_type": "markdown",
   "metadata": {},
   "source": [
    "## GP"
   ]
  },
  {
   "cell_type": "code",
   "execution_count": null,
   "metadata": {
    "tags": []
   },
   "outputs": [],
   "source": [
    "# clinical\n",
    "gp_clinical = arrow::read_feather(glue(\"{out_path}/codes_gp_clinical_220317.feather\")) "
   ]
  },
  {
   "cell_type": "code",
   "execution_count": null,
   "metadata": {},
   "outputs": [],
   "source": [
    "gp_clinical %>% head()"
   ]
  },
  {
   "cell_type": "code",
   "execution_count": null,
   "metadata": {},
   "outputs": [],
   "source": [
    "# prescriptions\n",
    "gp_scripts = arrow::read_feather(glue('{out_path}/codes_gp_presciptions_220407.feather'))"
   ]
  },
  {
   "cell_type": "code",
   "execution_count": null,
   "metadata": {},
   "outputs": [],
   "source": [
    "gp_scripts %>% head()"
   ]
  },
  {
   "cell_type": "markdown",
   "metadata": {},
   "source": [
    "## HES/ONS"
   ]
  },
  {
   "cell_type": "code",
   "execution_count": null,
   "metadata": {
    "tags": []
   },
   "outputs": [],
   "source": [
    "hes_diagnoses = arrow::read_feather(glue(\"{out_path}/codes_hes_diagnoses_220328.feather\"))\n",
    "hes_diagnoses %>% head()"
   ]
  },
  {
   "cell_type": "code",
   "execution_count": null,
   "metadata": {
    "tags": []
   },
   "outputs": [],
   "source": [
    "hes_procedures = arrow::read_feather(glue(\"{out_path}/codes_hes_procedures_220328.feather\"))\n",
    "hes_procedures %>% head()"
   ]
  },
  {
   "cell_type": "code",
   "execution_count": null,
   "metadata": {
    "tags": []
   },
   "outputs": [],
   "source": [
    "death_diagnoses = arrow::read_feather(glue(\"{out_path}/codes_death_records_220328.feather\"))\n",
    "death_diagnoses %>% head()"
   ]
  },
  {
   "cell_type": "markdown",
   "metadata": {},
   "source": [
    "### bind data"
   ]
  },
  {
   "cell_type": "code",
   "execution_count": null,
   "metadata": {},
   "outputs": [],
   "source": [
    "records_raw = bind_rows(hes_diagnoses, hes_procedures, death_diagnoses, gp_clinical, gp_scripts) %>% \n",
    "    mutate(origin = factor(origin), \n",
    "           vocabulary_origin=factor(vocabulary_origin), \n",
    "           code_origin=factor(code_origin), \n",
    "           vocabulary=factor(vocabulary), \n",
    "           code=factor(code)) %>%\n",
    "    select(eid, origin, vocabulary_origin, code_origin, vocabulary, code, date)"
   ]
  },
  {
   "cell_type": "code",
   "execution_count": null,
   "metadata": {},
   "outputs": [],
   "source": [
    "records_raw %>% sample_n(10)"
   ]
  },
  {
   "cell_type": "code",
   "execution_count": null,
   "metadata": {},
   "outputs": [],
   "source": [
    "# check that no records are clean!\n",
    "records_future = records_raw %>% filter(date > \"2022-03-28\") \n",
    "records_future"
   ]
  },
  {
   "cell_type": "code",
   "execution_count": null,
   "metadata": {},
   "outputs": [],
   "source": [
    "record_codes = records_raw %>% select(vocabulary, code) %>% distinct()"
   ]
  },
  {
   "cell_type": "code",
   "execution_count": null,
   "metadata": {},
   "outputs": [],
   "source": [
    "record_codes_md = record_codes %>% \n",
    "    left_join(concept, by=c(\"vocabulary\" = \"vocabulary_id\", \n",
    "                            \"code\"=\"concept_code\"))"
   ]
  },
  {
   "cell_type": "code",
   "execution_count": null,
   "metadata": {},
   "outputs": [],
   "source": [
    "record_codes_md %>% filter(!standard_concept %in% c(\"S\", \"C\"))"
   ]
  },
  {
   "cell_type": "code",
   "execution_count": null,
   "metadata": {},
   "outputs": [],
   "source": [
    "concept_ids_in = record_codes_md %>% select(vocabulary, code, concept_id) %>% as_tibble()\n",
    "concept_ids_out = concept %>% \n",
    "    filter(vocabulary_id %in% c(\"SNOMED\", \"RxNorm\", \"CVX\"), standard_concept %in% c(\"S\", \"C\")) %>% \n",
    "    as_tibble()"
   ]
  },
  {
   "cell_type": "code",
   "execution_count": null,
   "metadata": {},
   "outputs": [],
   "source": [
    "concept_ids = concept_ids_in %>% mutate(concept_id_1 = concept_id)\n",
    "cr_filtered = concept_relationship %>% \n",
    "    filter(concept_id_1 %in% concept_ids_in$concept_id) %>% \n",
    "    filter(concept_id_2 %in% concept_ids_out$concept_id) %>% \n",
    "    filter(relationship_id %in% c(\"Maps to\")) %>%\n",
    "    arrange(concept_id_1) %>% as_tibble()"
   ]
  },
  {
   "cell_type": "code",
   "execution_count": null,
   "metadata": {},
   "outputs": [],
   "source": [
    "mapping_omop =  concept_ids_in %>% \n",
    "    left_join(cr_filtered %>% select(concept_id_1, relationship_id, concept_id_2), by=c(\"concept_id\"=\"concept_id_1\")) %>%\n",
    "    left_join(concept_ids_out %>% \n",
    "              select(concept_id, vocabulary_id, concept_code, concept_name, domain_id), \n",
    "              by=c(\"concept_id_2\"=\"concept_id\")) %>%\n",
    "    rename(omop_id=concept_id_2) %>% \n",
    "    #select(vocabulary, code, omop_id, concept_name) %>%\n",
    "    distinct() %>% filter(!is.na(omop_id))\n",
    "    #mutate(code = concept_code.x, omop_id=concept_id_2.y) %>%\n",
    "    #select(code, omop_id) %>% distinct() #%>% filter(!is.na(omop_id))"
   ]
  },
  {
   "cell_type": "code",
   "execution_count": null,
   "metadata": {},
   "outputs": [],
   "source": [
    "records_omop = records_raw %>% \n",
    "    left_join(mapping_omop %>% \n",
    "              select(vocabulary, code, omop_id), \n",
    "              by=c(\"vocabulary\", \"code\")\n",
    "              )"
   ]
  },
  {
   "cell_type": "code",
   "execution_count": null,
   "metadata": {},
   "outputs": [],
   "source": [
    "concept_factor = concept %>% mutate(\n",
    "    concept_name=factor(concept_name), \n",
    "    domain_id = factor(domain_id),\n",
    "    vocabulary_id=factor(vocabulary_id),\n",
    "    concept_class_id=factor(concept_class_id),\n",
    "    standard_concept = factor(standard_concept),\n",
    "    concept_code = factor(concept_code)) %>%\n",
    "    select(concept_id, concept_name, domain_id, vocabulary_id, concept_class_id, standard_concept, concept_code) %>% \n",
    "    as_tibble()"
   ]
  },
  {
   "cell_type": "code",
   "execution_count": null,
   "metadata": {},
   "outputs": [],
   "source": [
    "record_omop_md = records_omop %>% \n",
    "    left_join(concept_factor, by=c(\"omop_id\"=\"concept_id\"))"
   ]
  },
  {
   "cell_type": "code",
   "execution_count": null,
   "metadata": {},
   "outputs": [],
   "source": [
    "record_omop_md = record_omop_md %>% filter(!is.na(omop_id))"
   ]
  },
  {
   "cell_type": "code",
   "execution_count": null,
   "metadata": {},
   "outputs": [],
   "source": [
    "domain_selection = c(\"Observation\", \"Condition\", \"Procedure\", \"Drug\", \"Device\")"
   ]
  },
  {
   "cell_type": "code",
   "execution_count": null,
   "metadata": {},
   "outputs": [],
   "source": [
    "record_omop_filtered = record_omop_md %>% \n",
    "    filter(domain_id %in% domain_selection) %>%\n",
    "    mutate(code=factor(code), concept_id=omop_id) %>%\n",
    "    select(eid, origin, vocabulary_origin, code_origin, date, concept_id, code, concept_name, domain_id, concept_class_id, vocabulary_id) "
   ]
  },
  {
   "cell_type": "code",
   "execution_count": null,
   "metadata": {},
   "outputs": [],
   "source": [
    "arrow::write_feather(record_omop_filtered, glue(\"{out_path}/dataportal_records_omop_220407.feather\"))"
   ]
  },
  {
   "cell_type": "code",
   "execution_count": null,
   "metadata": {},
   "outputs": [],
   "source": []
  }
 ],
 "metadata": {
  "hide_input": false,
  "kernelspec": {
   "display_name": "R [conda env:r_env]",
   "language": "R",
   "name": "conda-env-r_env-r"
  },
  "language_info": {
   "codemirror_mode": "r",
   "file_extension": ".r",
   "mimetype": "text/x-r-source",
   "name": "R",
   "pygments_lexer": "r",
   "version": "4.0.2"
  }
 },
 "nbformat": 4,
 "nbformat_minor": 4
}
