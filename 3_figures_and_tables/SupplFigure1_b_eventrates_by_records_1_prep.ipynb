{
 "cells": [
  {
   "cell_type": "markdown",
   "metadata": {},
   "source": [
    "# Benchmarks"
   ]
  },
  {
   "cell_type": "markdown",
   "metadata": {},
   "source": [
    "## Initialize"
   ]
  },
  {
   "cell_type": "code",
   "execution_count": null,
   "metadata": {
    "ExecuteTime": {
     "end_time": "2021-01-05T11:03:10.491477Z",
     "start_time": "2021-01-05T11:03:10.445Z"
    },
    "execution": {
     "iopub.execute_input": "2022-07-20T21:39:15.509237Z",
     "iopub.status.busy": "2022-07-20T21:39:15.508864Z",
     "iopub.status.idle": "2022-07-20T21:39:18.048638Z",
     "shell.execute_reply": "2022-07-20T21:39:18.048153Z",
     "shell.execute_reply.started": "2022-07-20T21:39:15.509194Z"
    },
    "tags": []
   },
   "outputs": [],
   "source": [
    "import os\n",
    "import math\n",
    "import pathlib\n",
    "import numpy as np\n",
    "import pandas as pd\n",
    "from tqdm.auto import tqdm\n",
    "from IPython.display import clear_output\n",
    "\n",
    "import warnings\n",
    "from lifelines.utils import CensoringType\n",
    "from lifelines.utils import concordance_index"
   ]
  },
  {
   "cell_type": "code",
   "execution_count": null,
   "metadata": {
    "execution": {
     "iopub.execute_input": "2022-07-20T21:39:18.782824Z",
     "iopub.status.busy": "2022-07-20T21:39:18.782631Z",
     "iopub.status.idle": "2022-07-20T21:39:18.802312Z",
     "shell.execute_reply": "2022-07-20T21:39:18.801773Z",
     "shell.execute_reply.started": "2022-07-20T21:39:18.782806Z"
    },
    "tags": []
   },
   "outputs": [],
   "source": [
    "node = !hostname\n",
    "if \"sc\" in node[0]:\n",
    "    base_path = \"/sc-projects/sc-proj-ukb-cvd\"\n",
    "else: \n",
    "    base_path = \"/data/analysis/ag-reils/ag-reils-shared/cardioRS\"\n",
    "print(base_path)\n",
    "\n",
    "project_label = \"22_medical_records\"\n",
    "project_path = f\"{base_path}/results/projects/{project_label}\"\n",
    "figure_path = f\"{project_path}/figures\"\n",
    "output_path = f\"{project_path}/data\"\n",
    "\n",
    "experiment = 220627\n",
    "experiment_path = f\"{output_path}/{experiment}\"\n",
    "pathlib.Path(experiment_path).mkdir(parents=True, exist_ok=True)"
   ]
  },
  {
   "cell_type": "code",
   "execution_count": null,
   "metadata": {
    "execution": {
     "iopub.execute_input": "2022-07-20T21:39:19.288605Z",
     "iopub.status.busy": "2022-07-20T21:39:19.288123Z",
     "iopub.status.idle": "2022-07-20T21:39:19.325441Z",
     "shell.execute_reply": "2022-07-20T21:39:19.324956Z",
     "shell.execute_reply.started": "2022-07-20T21:39:19.288584Z"
    },
    "tags": []
   },
   "outputs": [],
   "source": [
    "endpoint_defs = pd.read_feather(f\"{output_path}/phecode_defs_220306.feather\").sort_values(\"endpoint\")"
   ]
  },
  {
   "cell_type": "code",
   "execution_count": null,
   "metadata": {
    "execution": {
     "iopub.execute_input": "2022-07-20T21:39:19.850090Z",
     "iopub.status.busy": "2022-07-20T21:39:19.849875Z",
     "iopub.status.idle": "2022-07-20T21:39:19.852758Z",
     "shell.execute_reply": "2022-07-20T21:39:19.852413Z",
     "shell.execute_reply.started": "2022-07-20T21:39:19.850072Z"
    },
    "tags": []
   },
   "outputs": [],
   "source": [
    "#endpoints = [e[:-6] for e in data_outcomes.columns if \"_event\" in e]\n",
    "endpoints = [\n",
    "#    \"phecode_008\",\n",
    "#    \"phecode_092-2\",\n",
    "#    \"phecode_105\",\n",
    "#    \"phecode_107-2\",\n",
    "#    \"phecode_164\",\n",
    "#    \"phecode_202-2\",\n",
    "#    \"phecode_284\",\n",
    "#    \"phecode_292\",\n",
    "#    \"phecode_324-11\",\n",
    "#    \"phecode_328\",\n",
    "#    \"phecode_371\",\n",
    "#    \"phecode_401\",\n",
    "#    \"phecode_404\",\n",
    "#    \"phecode_424\",\n",
    "#    \"phecode_440-11\",\n",
    "#    \"phecode_468\",\n",
    "#    \"phecode_474\",\n",
    "#    \"phecode_522-1\",\n",
    "#    \"phecode_542-1\",\n",
    "#    \"phecode_581-1\",\n",
    "#    \"phecode_583\",\n",
    "#    \"phecode_665\",\n",
    "#    \"phecode_705-1\",\n",
    "    \"OMOP_4306655\"  \n",
    "]"
   ]
  },
  {
   "cell_type": "code",
   "execution_count": null,
   "metadata": {
    "execution": {
     "iopub.execute_input": "2022-07-20T21:39:20.345538Z",
     "iopub.status.busy": "2022-07-20T21:39:20.345428Z",
     "iopub.status.idle": "2022-07-20T21:39:24.210217Z",
     "shell.execute_reply": "2022-07-20T21:39:24.209670Z",
     "shell.execute_reply.started": "2022-07-20T21:39:20.345525Z"
    },
    "tags": []
   },
   "outputs": [],
   "source": [
    "data_outcomes = pd.read_feather(f\"{output_path}/baseline_outcomes_220627.feather\").set_index(\"eid\")\n",
    "data_outcomes = data_outcomes[[c for c in data_outcomes.columns if \"_event\" in c and c[:-6] in endpoints]]"
   ]
  },
  {
   "cell_type": "code",
   "execution_count": null,
   "metadata": {
    "execution": {
     "iopub.execute_input": "2022-07-20T21:39:24.211422Z",
     "iopub.status.busy": "2022-07-20T21:39:24.211182Z"
    },
    "tags": []
   },
   "outputs": [],
   "source": [
    "data_records = pd.read_feather(f\"{output_path}/baseline_records_220627.feather\").set_index(\"eid\")"
   ]
  },
  {
   "cell_type": "code",
   "execution_count": null,
   "metadata": {
    "tags": []
   },
   "outputs": [],
   "source": [
    "data_records = data_records[[c for c in tqdm(data_records.columns.to_list()) if \"OMOP_\" in c]]"
   ]
  },
  {
   "cell_type": "code",
   "execution_count": null,
   "metadata": {
    "tags": []
   },
   "outputs": [],
   "source": [
    "records = data_records.columns.to_list()"
   ]
  },
  {
   "cell_type": "code",
   "execution_count": null,
   "metadata": {
    "tags": []
   },
   "outputs": [],
   "source": [
    "data_all = data_records.merge(data_outcomes, left_index=True, right_index=True, how=\"left\")"
   ]
  },
  {
   "cell_type": "code",
   "execution_count": null,
   "metadata": {
    "tags": []
   },
   "outputs": [],
   "source": [
    "eligable_eids = pd.read_feather(f\"{output_path}/eligable_eids_220627.feather\")\n",
    "eids_dict = eligable_eids.set_index(\"endpoint\")[\"eid_list\"].to_dict()"
   ]
  },
  {
   "cell_type": "code",
   "execution_count": null,
   "metadata": {
    "tags": []
   },
   "outputs": [],
   "source": [
    "record_freqs = data_records.sum().sort_values(ascending=False).pipe(lambda x: x[x>=50])\n",
    "record_freqs"
   ]
  },
  {
   "cell_type": "code",
   "execution_count": null,
   "metadata": {
    "tags": []
   },
   "outputs": [],
   "source": [
    "import ray\n",
    "\n",
    "ray.init(num_cpus=24, include_dashboard=False)#dashboard_port=24763, dashboard_host=\"0.0.0.0\", include_dashboard=True)#, webui_url=\"0.0.0.0\"))"
   ]
  },
  {
   "cell_type": "code",
   "execution_count": null,
   "metadata": {
    "tags": []
   },
   "outputs": [],
   "source": [
    "@ray.remote\n",
    "def calc_ratio(data_all, eids_dict, record, eids_record, eids_nonrecord, endpoints):\n",
    "    r_ds = []\n",
    "    \n",
    "    for endpoint in endpoints:\n",
    "        eids_endpoint = eids_dict[endpoint]\n",
    "        \n",
    "        # record set\n",
    "        eid_idxs_dict = {}\n",
    "        eid_idxs_dict[\"record\"] = np.where(np.in1d(eids_endpoint, eids_record, assume_unique=True))[0]\n",
    "        eid_idxs_dict[\"nonrecord\"] = np.where(np.in1d(eids_endpoint, eids_nonrecord, assume_unique=True))[0]\n",
    "\n",
    "        for key, eid_idxs in eid_idxs_dict.items():\n",
    "            eids_temp = eids_endpoint[eid_idxs]\n",
    "            s = data_all[f\"{endpoint}_event\"].loc[eids_temp]\n",
    "            n=s.sum()\n",
    "            freq = n/len(s)\n",
    "            \n",
    "            if key==\"record\":\n",
    "                s_record\n",
    "                n_record = n\n",
    "                freq_record = freq\n",
    "                \n",
    "            if key==\"nonrecord\":\n",
    "                s_nonrecord = s\n",
    "                n_nonrecord = n\n",
    "                freq_nonrecord = freq\n",
    "        \n",
    "        #jaccard = n_record / (n_nonrecord + len(eid_idxs_dict[\"record\"])) \n",
    "        \n",
    "        r_ds.append({\"endpoint\": endpoint, \"n_eligable\": len(eids_dict[endpoint]), \n",
    "                  \"record\": record, \"n_records\": len(eids_record), \n",
    "                  \"n_events_record\": n_record, \"freq_events_record\": freq_record,\n",
    "                    \"n_events_nonrecord\": n_nonrecord, \"freq_events_nonrecord\": freq_nonrecord})\n",
    "    return r_ds"
   ]
  },
  {
   "cell_type": "code",
   "execution_count": null,
   "metadata": {
    "tags": []
   },
   "outputs": [],
   "source": [
    "d_nested = []\n",
    "ref_data_all = ray.put(data_all)\n",
    "ref_eids_dict = ray.put(eids_dict)\n",
    "for record in tqdm(record_freqs.index):\n",
    "    s_record = data_all[record]\n",
    "    eids_record = s_record[s_record==True].index.values\n",
    "    eids_nonrecord = s_record[s_record==False].index.values\n",
    "    ref_results = calc_ratio.remote(ref_data_all, ref_eids_dict, record, eids_record, eids_nonrecord, endpoints)\n",
    "    d_nested.append(ref_results)\n",
    "d_nested = [ray.get(e) for e in tqdm(d_nested)]\n",
    "del ref_data_all\n",
    "del ref_eids_dict"
   ]
  },
  {
   "cell_type": "code",
   "execution_count": null,
   "metadata": {
    "tags": []
   },
   "outputs": [],
   "source": [
    "from itertools import chain\n",
    "\n",
    "d = list(chain(*d_nested))"
   ]
  },
  {
   "cell_type": "code",
   "execution_count": null,
   "metadata": {
    "tags": []
   },
   "outputs": [],
   "source": [
    "endpoints_freqs = pd.DataFrame().from_dict(d)"
   ]
  },
  {
   "cell_type": "code",
   "execution_count": null,
   "metadata": {
    "tags": []
   },
   "outputs": [],
   "source": [
    "endpoints_freqs.to_feather(f\"{experiment_path}/records_inc_disease_freq.feather\")"
   ]
  }
 ],
 "metadata": {
  "hide_input": false,
  "kernelspec": {
   "display_name": "Python [conda env:ehrgraphs]",
   "language": "python",
   "name": "conda-env-ehrgraphs-py"
  },
  "language_info": {
   "codemirror_mode": {
    "name": "ipython",
    "version": 3
   },
   "file_extension": ".py",
   "mimetype": "text/x-python",
   "name": "python",
   "nbconvert_exporter": "python",
   "pygments_lexer": "ipython3",
   "version": "3.9.7"
  },
  "toc-autonumbering": false
 },
 "nbformat": 4,
 "nbformat_minor": 4
}
