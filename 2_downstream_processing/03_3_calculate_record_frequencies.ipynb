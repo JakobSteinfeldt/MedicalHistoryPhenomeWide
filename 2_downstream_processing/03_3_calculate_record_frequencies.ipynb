{
 "cells": [
  {
   "cell_type": "code",
   "execution_count": null,
   "metadata": {
    "execution": {
     "iopub.execute_input": "2023-05-12T06:33:01.880187Z",
     "iopub.status.busy": "2023-05-12T06:33:01.879986Z",
     "iopub.status.idle": "2023-05-12T06:33:03.152357Z",
     "shell.execute_reply": "2023-05-12T06:33:03.151928Z",
     "shell.execute_reply.started": "2023-05-12T06:33:01.880169Z"
    },
    "tags": []
   },
   "outputs": [],
   "source": [
    "import pandas as pd\n",
    "import numpy as np\n",
    "import pathlib\n",
    "from tqdm.auto import tqdm\n",
    "\n",
    "import hydra\n",
    "from omegaconf import DictConfig, OmegaConf\n",
    "\n",
    "import ray"
   ]
  },
  {
   "cell_type": "code",
   "execution_count": null,
   "metadata": {
    "execution": {
     "iopub.execute_input": "2023-05-12T06:33:03.616382Z",
     "iopub.status.busy": "2023-05-12T06:33:03.616118Z",
     "iopub.status.idle": "2023-05-12T06:33:03.677831Z",
     "shell.execute_reply": "2023-05-12T06:33:03.677489Z",
     "shell.execute_reply.started": "2023-05-12T06:33:03.616368Z"
    },
    "tags": []
   },
   "outputs": [],
   "source": [
    "node = !hostname\n",
    "if \"sc\" in node[0]:\n",
    "    base_path = \"/sc-projects/sc-proj-ukb-cvd\"\n",
    "else: \n",
    "    base_path = \"/data/analysis/ag-reils/ag-reils-shared/cardioRS\"\n",
    "print(base_path)\n",
    "\n",
    "project_label = \"22_medical_records\"\n",
    "project_path = f\"{base_path}/results/projects/{project_label}\"\n",
    "figure_path = f\"{project_path}/figures\"\n",
    "output_path = f\"{project_path}/data\"\n",
    "\n",
    "pathlib.Path(figure_path).mkdir(parents=True, exist_ok=True)\n",
    "pathlib.Path(output_path).mkdir(parents=True, exist_ok=True)"
   ]
  },
  {
   "cell_type": "code",
   "execution_count": null,
   "metadata": {
    "execution": {
     "iopub.execute_input": "2023-05-12T06:33:04.318213Z",
     "iopub.status.busy": "2023-05-12T06:33:04.317912Z",
     "iopub.status.idle": "2023-05-12T06:33:20.682984Z",
     "shell.execute_reply": "2023-05-12T06:33:20.681776Z",
     "shell.execute_reply.started": "2023-05-12T06:33:04.318186Z"
    },
    "tags": []
   },
   "outputs": [],
   "source": [
    "records = pd.read_feather(f\"{output_path}/baseline_records_220627.feather\").set_index(\"eid\")"
   ]
  },
  {
   "cell_type": "code",
   "execution_count": null,
   "metadata": {
    "execution": {
     "iopub.execute_input": "2023-05-12T06:33:28.774546Z",
     "iopub.status.busy": "2023-05-12T06:33:28.774277Z",
     "iopub.status.idle": "2023-05-12T06:33:28.820146Z",
     "shell.execute_reply": "2023-05-12T06:33:28.819661Z",
     "shell.execute_reply.started": "2023-05-12T06:33:28.774528Z"
    },
    "tags": []
   },
   "outputs": [],
   "source": [
    "records"
   ]
  },
  {
   "cell_type": "code",
   "execution_count": null,
   "metadata": {
    "execution": {
     "iopub.execute_input": "2023-05-12T06:35:28.389118Z",
     "iopub.status.busy": "2023-05-12T06:35:28.388922Z",
     "iopub.status.idle": "2023-05-12T06:35:41.150620Z",
     "shell.execute_reply": "2023-05-12T06:35:41.149864Z",
     "shell.execute_reply.started": "2023-05-12T06:35:28.389104Z"
    },
    "tags": []
   },
   "outputs": [],
   "source": [
    "records_per_individual = records.sum(axis=1).to_frame(\"n_records\").reset_index()"
   ]
  },
  {
   "cell_type": "code",
   "execution_count": null,
   "metadata": {
    "execution": {
     "iopub.execute_input": "2023-05-12T06:35:43.934310Z",
     "iopub.status.busy": "2023-05-12T06:35:43.934048Z",
     "iopub.status.idle": "2023-05-12T06:35:43.940432Z",
     "shell.execute_reply": "2023-05-12T06:35:43.940060Z",
     "shell.execute_reply.started": "2023-05-12T06:35:43.934295Z"
    },
    "tags": []
   },
   "outputs": [],
   "source": [
    "records_per_individual"
   ]
  },
  {
   "cell_type": "code",
   "execution_count": null,
   "metadata": {
    "execution": {
     "iopub.execute_input": "2023-05-12T06:35:47.113366Z",
     "iopub.status.busy": "2023-05-12T06:35:47.113169Z",
     "iopub.status.idle": "2023-05-12T06:35:47.164566Z",
     "shell.execute_reply": "2023-05-12T06:35:47.164083Z",
     "shell.execute_reply.started": "2023-05-12T06:35:47.113351Z"
    },
    "tags": []
   },
   "outputs": [],
   "source": [
    "records_per_individual.to_feather(\"/sc-projects/sc-proj-ukb-cvd/data/2_datasets_pre/211110_anewbeginning/artifacts/records_per_individual_220627.feather\")"
   ]
  },
  {
   "cell_type": "code",
   "execution_count": null,
   "metadata": {
    "tags": []
   },
   "outputs": [],
   "source": [
    "records.info()"
   ]
  },
  {
   "cell_type": "code",
   "execution_count": null,
   "metadata": {
    "tags": []
   },
   "outputs": [],
   "source": [
    "records_freq = records.sum(axis=0).sort_values(ascending=False).to_frame().reset_index()\n",
    "records_freq.columns = [\"record\", \"n\"]\n",
    "records_freq = records_freq.set_index(\"record\")\n",
    "records_freq"
   ]
  },
  {
   "cell_type": "code",
   "execution_count": null,
   "metadata": {
    "tags": []
   },
   "outputs": [],
   "source": [
    "concepts_raw = pd.read_csv(\"/sc-projects/sc-proj-ukb-cvd/data/mapping/athena/CONCEPT.csv\", sep=\"\\t\", engine=\"c\", dtype={\"concept_id\": str})\n",
    "concepts_raw[\"record\"] = \"OMOP_\" + concepts_raw[\"concept_id\"]\n",
    "concept_raw = concepts_raw.set_index(\"record\")"
   ]
  },
  {
   "cell_type": "code",
   "execution_count": null,
   "metadata": {
    "tags": []
   },
   "outputs": [],
   "source": [
    "records_freq_md = records_freq.merge(concept_raw, left_index=True, right_index=True, how=\"left\")"
   ]
  },
  {
   "cell_type": "code",
   "execution_count": null,
   "metadata": {
    "tags": []
   },
   "outputs": [],
   "source": [
    "records_freq_md.query(\"n>1000\").shape"
   ]
  },
  {
   "cell_type": "code",
   "execution_count": null,
   "metadata": {
    "tags": []
   },
   "outputs": [],
   "source": [
    "records_freq_md.query(\"n>100\").shape"
   ]
  },
  {
   "cell_type": "code",
   "execution_count": null,
   "metadata": {
    "tags": []
   },
   "outputs": [],
   "source": [
    "records_freq_md.query(\"n>50\").shape"
   ]
  },
  {
   "cell_type": "code",
   "execution_count": null,
   "metadata": {
    "tags": []
   },
   "outputs": [],
   "source": [
    "records_freq_md.query(\"n>25\").shape"
   ]
  },
  {
   "cell_type": "code",
   "execution_count": null,
   "metadata": {
    "tags": []
   },
   "outputs": [],
   "source": [
    "records_freq_md.query(\"n>10\").shape"
   ]
  },
  {
   "cell_type": "code",
   "execution_count": null,
   "metadata": {
    "tags": []
   },
   "outputs": [],
   "source": [
    "records_freq_md.query(\"n>5\").shape"
   ]
  },
  {
   "cell_type": "code",
   "execution_count": null,
   "metadata": {
    "tags": []
   },
   "outputs": [],
   "source": [
    "artifact_path = \"/sc-projects/sc-proj-ukb-cvd/data/2_datasets_pre/211110_anewbeginning/artifacts/record_frequencies_220627.feather\""
   ]
  },
  {
   "cell_type": "code",
   "execution_count": null,
   "metadata": {
    "tags": []
   },
   "outputs": [],
   "source": [
    "records_freq_md.reset_index()[[\"record\", \"n\", \"concept_id\", \"concept_name\", \"domain_id\", \"vocabulary_id\", \"concept_class_id\", \"standard_concept\"]].to_feather(artifact_path)"
   ]
  },
  {
   "cell_type": "code",
   "execution_count": null,
   "metadata": {
    "tags": []
   },
   "outputs": [],
   "source": [
    "import wandb\n",
    "\n",
    "run = wandb.init(project=\"RecordGraphs\", entity=\"cardiors\", tags=[\"artifacts\"])\n",
    "\n",
    "artifact = wandb.Artifact(\"RecordFrequencies\", type=\"prepare_records\")\n",
    "artifact.add_reference(f\"file://{artifact_path}\", \"RecordsMetadata\", checksum=True)\n",
    "run.log_artifact(artifact)\n",
    "\n",
    "run.finish()"
   ]
  },
  {
   "cell_type": "code",
   "execution_count": null,
   "metadata": {
    "tags": []
   },
   "outputs": [],
   "source": [
    "records_freq_md.reset_index()"
   ]
  },
  {
   "cell_type": "code",
   "execution_count": null,
   "metadata": {},
   "outputs": [],
   "source": []
  }
 ],
 "metadata": {
  "interpreter": {
   "hash": "7fb005937abf8310e947cacdef9aa24b4c9570846765db425bfb20f46bc066c7"
  },
  "kernelspec": {
   "display_name": "Python [conda env:udm]",
   "language": "python",
   "name": "conda-env-udm-py"
  },
  "language_info": {
   "codemirror_mode": {
    "name": "ipython",
    "version": 3
   },
   "file_extension": ".py",
   "mimetype": "text/x-python",
   "name": "python",
   "nbconvert_exporter": "python",
   "pygments_lexer": "ipython3",
   "version": "3.10.9"
  }
 },
 "nbformat": 4,
 "nbformat_minor": 4
}
