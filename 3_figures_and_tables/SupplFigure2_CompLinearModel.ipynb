{
 "cells": [
  {
   "cell_type": "markdown",
   "metadata": {},
   "source": [
    "# Benchmarks"
   ]
  },
  {
   "cell_type": "markdown",
   "metadata": {},
   "source": [
    "## Initialize"
   ]
  },
  {
   "cell_type": "code",
   "execution_count": null,
   "metadata": {
    "ExecuteTime": {
     "end_time": "2021-01-05T11:03:09.852316Z",
     "start_time": "2021-01-05T11:03:07.701Z"
    },
    "execution": {
     "iopub.execute_input": "2023-05-12T13:34:02.208347Z",
     "iopub.status.busy": "2023-05-12T13:34:02.205949Z",
     "iopub.status.idle": "2023-05-12T13:34:06.047003Z",
     "shell.execute_reply": "2023-05-12T13:34:06.045634Z"
    },
    "tags": []
   },
   "outputs": [],
   "source": [
    "#library(Rmisc)\n",
    "library(dtplyr)\n",
    "library(tidyverse)\n",
    "library(glue)\n",
    "library(arrow)\n",
    "library(patchwork)\n",
    "library(data.table)\n",
    "library(\"jsonlite\")\n",
    "library(ggthemes)"
   ]
  },
  {
   "cell_type": "code",
   "execution_count": null,
   "metadata": {
    "ExecuteTime": {
     "end_time": "2021-01-05T11:03:10.491477Z",
     "start_time": "2021-01-05T11:03:10.445Z"
    },
    "execution": {
     "iopub.execute_input": "2023-05-12T13:34:06.079143Z",
     "iopub.status.busy": "2023-05-12T13:34:06.048853Z",
     "iopub.status.idle": "2023-05-12T13:34:06.096264Z",
     "shell.execute_reply": "2023-05-12T13:34:06.095240Z"
    },
    "tags": []
   },
   "outputs": [],
   "source": [
    "if (grepl(\"sc\", Sys.info()[[\"nodename\"]], fixed=TRUE)) {\n",
    "    base_path = \"/sc-projects/sc-proj-ukb-cvd\"\n",
    "} else {\n",
    "    base_path = \"/data/analysis/ag-reils/ag-reils-shared/cardioRS\"}\n",
    "print(base_path)\n",
    "\n",
    "project_label=\"22_medical_records\"\n",
    "project_path = glue(\"{base_path}/results/projects/{project_label}\")\n",
    "figure_path = glue(\"{project_path}/figures\")\n",
    "output_path = glue(\"{project_path}/data\")\n",
    "\n",
    "experiment = 230425\n",
    "experiment_path = glue(\"{output_path}/{experiment}\")"
   ]
  },
  {
   "cell_type": "code",
   "execution_count": null,
   "metadata": {
    "execution": {
     "iopub.execute_input": "2023-05-12T13:34:06.098594Z",
     "iopub.status.busy": "2023-05-12T13:34:06.097709Z",
     "iopub.status.idle": "2023-05-12T13:34:06.111615Z",
     "shell.execute_reply": "2023-05-12T13:34:06.110540Z"
    },
    "tags": []
   },
   "outputs": [],
   "source": [
    "base_size = 8\n",
    "title_size = 10\n",
    "facet_size = 9\n",
    "geom_text_size=3\n",
    "theme_set(theme_classic(base_size = base_size) + \n",
    "          theme(strip.background = element_blank(), plot.title=element_text(size=title_size, hjust=0), \n",
    "                strip.text.x = element_text(size = facet_size),axis.title=element_text(size=10), axis.text=element_text(size=8, color=\"black\"),\n",
    "                legend.position=\"bottom\", axis.line = element_line(size = 0.2), axis.ticks=element_line(size=0.2), panel.grid.major.y=element_line()))"
   ]
  },
  {
   "cell_type": "code",
   "execution_count": null,
   "metadata": {
    "ExecuteTime": {
     "end_time": "2021-01-05T11:03:23.526022Z",
     "start_time": "2021-01-05T11:03:20.042Z"
    },
    "execution": {
     "iopub.execute_input": "2023-05-12T13:34:06.113950Z",
     "iopub.status.busy": "2023-05-12T13:34:06.113094Z",
     "iopub.status.idle": "2023-05-12T13:34:06.125314Z",
     "shell.execute_reply": "2023-05-12T13:34:06.124330Z"
    },
    "tags": []
   },
   "outputs": [],
   "source": [
    "colors_dict = read_json(\"colors.json\")\n",
    "color_map <- c(\n",
    "    \"Identity(AgeSex)+MLP\" = colors_dict$pastel$red$mid,\n",
    "    \"Identity(Records)+MLP\" = colors_dict$pastel$red$mid,\n",
    "    \"GNN(Records)+MLP\" = colors_dict$pastel$red$mid,\n",
    "    \"Identity(AgeSex+Records)+MLP\" = colors_dict$pastel$red$mid,\n",
    "    \"GNN(AgeSex+Records)+MLP\" = colors_dict$pastel$red$mid\n",
    ")"
   ]
  },
  {
   "cell_type": "code",
   "execution_count": null,
   "metadata": {
    "execution": {
     "iopub.execute_input": "2023-05-12T13:34:06.127604Z",
     "iopub.status.busy": "2023-05-12T13:34:06.126777Z",
     "iopub.status.idle": "2023-05-12T13:34:08.260102Z",
     "shell.execute_reply": "2023-05-12T13:34:08.257773Z"
    },
    "tags": []
   },
   "outputs": [],
   "source": [
    "endpoint_defs = arrow::read_feather(glue(\"{output_path}/phecode_defs_220306.feather\")) %>% arrange(endpoint)\n",
    "endpoints_md = fread(glue(\"{experiment_path}/endpoints.csv\"), colClasses=c(\"phecode\"=\"character\"))\n",
    "endpoints = sort(endpoints_md$endpoint)"
   ]
  },
  {
   "cell_type": "code",
   "execution_count": null,
   "metadata": {
    "execution": {
     "iopub.execute_input": "2023-05-12T13:34:08.263362Z",
     "iopub.status.busy": "2023-05-12T13:34:08.262233Z",
     "iopub.status.idle": "2023-05-12T13:34:08.278803Z",
     "shell.execute_reply": "2023-05-12T13:34:08.277636Z"
    },
    "tags": []
   },
   "outputs": [],
   "source": [
    "endpoint_map = endpoint_defs$phecode_string\n",
    "names(endpoint_map) =  endpoint_defs$endpoint\n",
    "endpoint_order = (endpoint_defs %>% arrange(as.numeric(phecode)))$endpoint"
   ]
  },
  {
   "cell_type": "code",
   "execution_count": null,
   "metadata": {
    "execution": {
     "iopub.execute_input": "2023-05-12T13:34:08.281872Z",
     "iopub.status.busy": "2023-05-12T13:34:08.280498Z",
     "iopub.status.idle": "2023-05-12T13:34:08.319149Z",
     "shell.execute_reply": "2023-05-12T13:34:08.316925Z"
    },
    "tags": []
   },
   "outputs": [],
   "source": [
    "endpoint_selection = c(\n",
    "    \n",
    "   'phecode_401', #  \"Hypertension\", # intervention\n",
    "    'phecode_202', #  \"Diabetes mellitus\", # intervention\n",
    "    'phecode_416-21', #  \"Atrial fibrillation\", # intervention\n",
    "    'phecode_468', #  \"Pneumonia\", # intervention\n",
    "    'phecode_474', #  \"Chronic obstructive pulmonary disease [COPD]\", # interventio\n",
    "    'phecode_583', #  \"Chronic kidney disease\", # intervention\n",
    "    \n",
    "    'phecode_404', #  \"Ischemic heart disease\",\n",
    "    'phecode_404-1', #  \"Myocardial infarction [Heart attack]\", # intervention\n",
    "    'phecode_431-11', #  \"Cerebral infarction [Ischemic stroke]\",\n",
    "    'phecode_424', #  \"Heart failure\", # intervention\n",
    "    'phecode_420', #  \"Cardiac arrest\", # intervention\n",
    "    'OMOP_4306655', #  \"All-Cause Death\", # intervention\n",
    "    \n",
    "    'phecode_438-11',   #  \"Abdominal aortic aneurysm\",\n",
    "    'phecode_440-3',#  \"Pulmonary embolism\", # intervention\n",
    "    'phecode_413-21',#  \"Aortic stenosis\", # intervention\n",
    "    'phecode_413-11', #  \"Mitral valve insufficiency\",\n",
    "    'phecode_410-2',#  \"Endocarditis\",\n",
    "    'phecode_400',#  \"Rheumatic fever and chronic rheumatic heart diseases\",\t\n",
    "    \n",
    "    'phecode_164', #  \"Anemia\", # intervention\n",
    "    'phecode_718',  #  \"Back pain\", # intervention\n",
    "    'phecode_324-11', #  \"Parkinson's disease (Primary)\",\n",
    "    'phecode_705-1', #  \"Rheumatoid arthritis\", # NEW + interventio\n",
    "    'phecode_665', #  \"Psoriasis\", # interesting\n",
    "    'phecode_284'#  \"Suicide ideation and attempt or self harm\" # intervention\n",
    ")\n",
    "endpoint_defs = endpoint_defs %>% \n",
    "    mutate(name = phecode_string) %>%\n",
    "    mutate(name = \n",
    "           case_when( \n",
    "               phecode_string == \"Myocardial infarction [Heart attack]\"~\"Myocardial infarction\",\n",
    "               phecode_string == \"Cerebral infarction [Ischemic stroke]\"~\"Ischemic stroke\",\n",
    "               phecode_string == \"Chronic obstructive pulmonary disease [COPD]\"~\"COPD\",\n",
    "               phecode_string == \"Mitral valve insufficiency\"~\"Mitral insufficiency\",\n",
    "               phecode_string == \"Parkinson's disease (Primary)\"~\"Parkinson's\",\n",
    "               phecode_string == \"Suicide ideation and attempt or self harm\"~\"Suicide attempt\",\n",
    "               phecode_string == \"Ischemic heart disease\"~\"Ischemic HD\",\n",
    "               phecode_string == \"Chronic kidney disease\"~\"Chronic KD\",\n",
    "               phecode_string == \"Rheumatic fever and chronic rheumatic heart diseases\"~\"Rheumatic HD\",\n",
    "               phecode_string == \"Abdominal aortic aneurysm\"~\"Abdominal AA\",\n",
    "                  TRUE ~ name)\n",
    "           )\n",
    "            \n",
    "endpoint_map = endpoint_defs$name\n",
    "names(endpoint_map) =  endpoint_defs$endpoint\n",
    "#endpoint_order = (endpoint_defs %>% arrange(as.numeric(phecode)))$endpoint\n",
    "endpoint_order = endpoint_selection"
   ]
  },
  {
   "cell_type": "markdown",
   "metadata": {},
   "source": [
    "## Load data"
   ]
  },
  {
   "cell_type": "markdown",
   "metadata": {},
   "source": [
    "# Load Benchmarks"
   ]
  },
  {
   "cell_type": "code",
   "execution_count": null,
   "metadata": {
    "execution": {
     "iopub.execute_input": "2023-05-12T13:34:08.322069Z",
     "iopub.status.busy": "2023-05-12T13:34:08.321173Z",
     "iopub.status.idle": "2023-05-12T13:34:10.353674Z",
     "shell.execute_reply": "2023-05-12T13:34:10.352234Z"
    },
    "tags": []
   },
   "outputs": [],
   "source": [
    "name = \"benchmarks_cindex_230425\"\n",
    "benchmark_endpoints = arrow::read_feather(glue(\"{experiment_path}/{name}.feather\")) %>% left_join(endpoints_md) "
   ]
  },
  {
   "cell_type": "code",
   "execution_count": null,
   "metadata": {
    "execution": {
     "iopub.execute_input": "2023-05-12T13:34:10.356112Z",
     "iopub.status.busy": "2023-05-12T13:34:10.355255Z",
     "iopub.status.idle": "2023-05-12T13:34:10.887849Z",
     "shell.execute_reply": "2023-05-12T13:34:10.886689Z"
    },
    "tags": []
   },
   "outputs": [],
   "source": [
    "benchmark_endpoints %>% group_by(endpoint, score)  %>% summarise(cindex=mean(cindex)) %>% group_by(score) %>% summarise(mean(cindex)) %>% arrange(`mean(cindex)`)"
   ]
  },
  {
   "cell_type": "code",
   "execution_count": null,
   "metadata": {
    "execution": {
     "iopub.execute_input": "2023-05-12T13:34:10.898290Z",
     "iopub.status.busy": "2023-05-12T13:34:10.889488Z",
     "iopub.status.idle": "2023-05-12T13:34:11.021790Z",
     "shell.execute_reply": "2023-05-12T13:34:11.020471Z"
    },
    "tags": []
   },
   "outputs": [],
   "source": [
    "endpoints_sorted = (benchmark_endpoints %>% \n",
    "    filter(score == \"Age+Sex+MedicalHistory\") %>% \n",
    "    group_by(endpoint, score) %>% \n",
    "    summarise(cindex=mean(cindex, na.rm=TRUE)) %>% \n",
    "    arrange(cindex) %>% ungroup())$endpoint"
   ]
  },
  {
   "cell_type": "code",
   "execution_count": null,
   "metadata": {
    "execution": {
     "iopub.execute_input": "2023-05-12T13:34:11.024275Z",
     "iopub.status.busy": "2023-05-12T13:34:11.023391Z",
     "iopub.status.idle": "2023-05-12T13:34:11.033389Z",
     "shell.execute_reply": "2023-05-12T13:34:11.032321Z"
    },
    "tags": []
   },
   "outputs": [],
   "source": [
    "categories_sorted = (endpoint_defs %>% distinct(phecode_category))$phecode_category"
   ]
  },
  {
   "cell_type": "code",
   "execution_count": null,
   "metadata": {
    "execution": {
     "iopub.execute_input": "2023-05-12T13:34:11.035797Z",
     "iopub.status.busy": "2023-05-12T13:34:11.034903Z",
     "iopub.status.idle": "2023-05-12T13:34:11.136097Z",
     "shell.execute_reply": "2023-05-12T13:34:11.134949Z"
    },
    "tags": []
   },
   "outputs": [],
   "source": [
    "endpoints_md"
   ]
  },
  {
   "cell_type": "code",
   "execution_count": null,
   "metadata": {
    "execution": {
     "iopub.execute_input": "2023-05-12T13:34:11.388420Z",
     "iopub.status.busy": "2023-05-12T13:34:11.387433Z",
     "iopub.status.idle": "2023-05-12T13:34:11.709335Z",
     "shell.execute_reply": "2023-05-12T13:34:11.708228Z"
    },
    "tags": []
   },
   "outputs": [],
   "source": [
    "benchmarks_lm = benchmark_endpoints %>% \n",
    "    filter(score %in% c(\"MedicalHistory\", \"MedicalHistoryLM\")) %>% \n",
    "    group_by(endpoint, score) %>%\n",
    "    summarise(median_cindex = median(cindex)) %>%\n",
    "    pivot_wider(names_from=\"score\", values_from=\"median_cindex\") %>% \n",
    "    mutate(delta = MedicalHistory-MedicalHistoryLM) %>%\n",
    "    ungroup() %>% left_join(endpoints_md) "
   ]
  },
  {
   "cell_type": "code",
   "execution_count": null,
   "metadata": {
    "execution": {
     "iopub.execute_input": "2023-05-12T13:34:11.711622Z",
     "iopub.status.busy": "2023-05-12T13:34:11.710786Z",
     "iopub.status.idle": "2023-05-12T13:34:12.814807Z",
     "shell.execute_reply": "2023-05-12T13:34:12.813634Z"
    },
    "tags": []
   },
   "outputs": [],
   "source": [
    "plot_width = 8.25; plot_height=8.25; plot_res = 320\n",
    "options(repr.plot.width = plot_width, repr.plot.height = plot_height, repr.plot.res=plot_res)\n",
    "\n",
    "suppl_lm = benchmarks_lm %>% \n",
    "    ggplot(aes(x=`MedicalHistoryLM`, y=`MedicalHistory`)) + \n",
    "    labs(x=\"Concordance Index (LM)\", y=\"Concordance Index (MLP)\")+\n",
    "    geom_point(alpha=0.3, size=0.3)+\n",
    "    geom_abline(alpha=0.3, linetype=\"22\")\n",
    "\n",
    "suppl_lm "
   ]
  },
  {
   "cell_type": "code",
   "execution_count": null,
   "metadata": {
    "execution": {
     "iopub.execute_input": "2023-05-12T13:34:13.691692Z",
     "iopub.status.busy": "2023-05-12T13:34:13.690731Z",
     "iopub.status.idle": "2023-05-12T13:34:15.447806Z",
     "shell.execute_reply": "2023-05-12T13:34:15.446719Z"
    },
    "tags": []
   },
   "outputs": [],
   "source": [
    "plot_width = 8.25; plot_height=8.25; plot_res = 320\n",
    "options(repr.plot.width = plot_width, repr.plot.height = plot_height, repr.plot.res=plot_res)\n",
    "\n",
    "suppl_delta = benchmarks_lm %>% \n",
    "    ggplot(aes(x=log(freq), y=delta)) + \n",
    "    labs(x=\"Incident event frequency (%)\", y=\"Difference in Concordance Index\")+\n",
    "    geom_point(alpha=0.3, size=0.3)+\n",
    "    geom_smooth(color=\"black\", alpha=0.5)+\n",
    "    #coord_cartesian(xlim=c(-Inf, NA))+\n",
    "    scale_x_continuous(breaks=c(log(0.0002), log(0.002), log(0.02), log(0.2)), labels=c(\"0.02\", \"0.2\", \"2\", \"20\"))+\n",
    "    geom_hline(yintercept=0, alpha=0.3, linetype=\"22\")\n",
    "\n",
    "suppl_delta "
   ]
  },
  {
   "cell_type": "code",
   "execution_count": null,
   "metadata": {
    "execution": {
     "iopub.execute_input": "2023-05-12T13:34:43.970604Z",
     "iopub.status.busy": "2023-05-12T13:34:43.969342Z",
     "iopub.status.idle": "2023-05-12T13:34:44.583465Z",
     "shell.execute_reply": "2023-05-12T13:34:44.582361Z"
    },
    "tags": []
   },
   "outputs": [],
   "source": [
    "plot_width = 8.25; plot_height=4; plot_res = 320\n",
    "options(repr.plot.width = plot_width, repr.plot.height = plot_height, repr.plot.res=plot_res)\n",
    "\n",
    "lm_bc = suppl_lm | suppl_delta\n",
    "lm_bc"
   ]
  },
  {
   "cell_type": "code",
   "execution_count": null,
   "metadata": {
    "execution": {
     "iopub.execute_input": "2023-05-12T13:35:08.589502Z",
     "iopub.status.busy": "2023-05-12T13:35:08.588358Z",
     "iopub.status.idle": "2023-05-12T13:35:09.254837Z",
     "shell.execute_reply": "2023-05-12T13:35:09.253449Z"
    },
    "tags": []
   },
   "outputs": [],
   "source": [
    "plot_name = \"SupplFigure2bc\"\n",
    "lm_bc %>% ggsave(filename=glue(\"outputs/{plot_name}.pdf\"), device=\"pdf\", width=plot_width, height=plot_height, dpi=plot_res)"
   ]
  },
  {
   "cell_type": "markdown",
   "metadata": {},
   "source": [
    "benchmark_endpoints## General Performance"
   ]
  },
  {
   "cell_type": "code",
   "execution_count": null,
   "metadata": {
    "execution": {
     "iopub.execute_input": "2023-05-12T13:36:01.690527Z",
     "iopub.status.busy": "2023-05-12T13:36:01.689144Z",
     "iopub.status.idle": "2023-05-12T13:38:56.291206Z",
     "shell.execute_reply": "2023-05-12T13:38:56.290137Z"
    },
    "tags": []
   },
   "outputs": [],
   "source": [
    "plot_width = 8.25; plot_height=2.5; plot_res = 320\n",
    "options(repr.plot.width = plot_width, repr.plot.height = plot_height, repr.plot.res=plot_res)\n",
    "\n",
    "library(ggtext)\n",
    "library(ggdist)\n",
    "\n",
    "scores_plot = c(\"MedicalHistoryLM\", \"MedicalHistory\")#, \"AgeSexMedicalHistory\")\n",
    "\n",
    "temp = benchmark_endpoints %>% \n",
    "    filter(score %in% scores_plot) %>% \n",
    "    mutate(score = factor(score, levels=scores_plot)) %>%\n",
    "    mutate(endpoint = factor(endpoint, levels=endpoints_sorted)) %>%\n",
    "    ungroup() %>%\n",
    "    pivot_wider(names_from=score, values_from=cindex) %>% \n",
    "    mutate(id = row_number()) %>%\n",
    "    mutate(delta = !!sym(scores_plot[2])-!!sym(scores_plot[1])) %>%\n",
    "    group_by(endpoint, phecode_string, freq, phecode_category) %>%\n",
    "    median_qi(delta) %>%\n",
    "    mutate(pos = case_when(delta>=0 ~ \"pos\", delta < 0 ~\"neg\")) %>%\n",
    "    mutate(endpoint = fct_reorder(endpoint, delta)) %>%\n",
    "    mutate(highlight = case_when(endpoint %in% endpoint_selection ~ \"YES\", TRUE ~ \"NO\")) %>%# %>% filter(endpoint %in% endpoint_sample)\n",
    "    mutate(phecode_category = factor(phecode_category, levels=categories_sorted))\n",
    "\n",
    "endpoint_order = (temp %>% arrange(delta))$endpoint\n",
    "\n",
    "temp = temp %>% mutate(endpoint = factor(endpoint, levels=endpoint_order)) %>% ungroup() %>% \n",
    "    arrange(endpoint) %>% group_by(phecode_category) %>% mutate(endpoint = row_number()) %>%\n",
    "    filter(!phecode_category %in% c(\"Signs/Symptoms\", \"Preg\", \"Rx\", \"Stat\"))\n",
    "\n",
    "overview = ggplot(temp) +\n",
    "    geom_ribbon(aes(x=endpoint, ymin=0, ymax=delta), fill=\"black\", alpha=0.2)+\n",
    "    geom_point(aes(x=endpoint, y=delta, color=highlight, size=highlight, alpha=highlight)) +\n",
    "    #geom_text(data=temp %>% filter(highlight==\"YES\"), aes(x=endpoint, y=delta+0.045, label=\"↓\"), color=\"black\", size=5, alpha=0.7) +\n",
    "    #geom_segment(aes(x=endpoint, xend=endpoint, y=0, yend=delta, color=highlight, size=highlight), alpha=0.5)+#+\n",
    "    labs(x=\"Endpoints\", y=\"Delta C-Index\")+\n",
    "    scale_color_manual(values=c(\"NO\"=\"black\", \"YES\"=\"firebrick\"))+\n",
    "    scale_alpha_manual(values=c(\"NO\"=0.1, \"YES\"=1))+\n",
    "    scale_size_manual(values=c(\"NO\"=0.01, \"YES\"=1))+\n",
    "    #scale_colour_manual(values = c(\"pos\"=\"forestgreen\", \"neg\" = \"firebrick\")) + \n",
    "    #coord_polar() +\n",
    "    coord_cartesian(ylim=c(-0.4, 0.4), clip = \"off\")+\n",
    "    scale_y_continuous(expand=c(0, 0))+\n",
    "    scale_x_discrete(expand=expansion(add=20))+\n",
    "    facet_grid(~phecode_category, scales=\"free_x\", space=\"free_x\")+#, switch=TRUE)+\n",
    "    #facet_grid2(~phecode_category, scales = \"free\", independent = \"all\") + \n",
    "    theme(axis.title.x=element_blank(),\n",
    "        axis.text.x=element_blank(),\n",
    "        axis.ticks.x=element_blank(),\n",
    "        panel.grid.major=element_blank(), \n",
    "         strip.text = element_text(angle=270, hjust=1)) + \n",
    "    theme(legend.position=\"none\") \n",
    "    \n",
    "    #geom_ribbon(aes(x=id, ymin=AgeSex, ymax=`Age+Sex+MedicalHistory`), fill=\"red\", alpha=0.2)\n",
    "#geom_violin(size=0.1)\n",
    "overview"
   ]
  },
  {
   "cell_type": "code",
   "execution_count": null,
   "metadata": {
    "execution": {
     "iopub.execute_input": "2023-05-12T13:39:29.681280Z",
     "iopub.status.busy": "2023-05-12T13:39:29.680323Z",
     "iopub.status.idle": "2023-05-12T13:39:30.120371Z",
     "shell.execute_reply": "2023-05-12T13:39:30.119176Z"
    },
    "tags": []
   },
   "outputs": [],
   "source": [
    "library(gt)\n",
    "plot_name = \"SupplFigure2a_CompLM\"\n",
    "overview %>% ggsave(filename=glue(\"outputs/{plot_name}.pdf\"), device=\"pdf\", width=plot_width, height=plot_height, dpi=plot_res)"
   ]
  },
  {
   "cell_type": "code",
   "execution_count": null,
   "metadata": {},
   "outputs": [],
   "source": [
    "temp %>% write_feather(\"outputs/cindexdeltas.feather\")\n",
    "temp %>% write_csv(\"outputs/cindexdeltas.csv\")"
   ]
  },
  {
   "cell_type": "code",
   "execution_count": null,
   "metadata": {
    "tags": []
   },
   "outputs": [],
   "source": [
    "temp %>% ungroup() %>% group_by(.lower>0) %>% tally()"
   ]
  },
  {
   "cell_type": "code",
   "execution_count": null,
   "metadata": {
    "tags": []
   },
   "outputs": [],
   "source": [
    "1800/1883"
   ]
  },
  {
   "cell_type": "code",
   "execution_count": null,
   "metadata": {
    "tags": []
   },
   "outputs": [],
   "source": [
    "temp %>% ungroup() %>% filter(.lower>0) %>% median_qi(delta, .width = c(.25)) %>% select(.lower, delta, .upper)"
   ]
  },
  {
   "cell_type": "code",
   "execution_count": null,
   "metadata": {
    "tags": []
   },
   "outputs": [],
   "source": [
    "base_size = 8\n",
    "title_size = 10\n",
    "facet_size = 9\n",
    "geom_text_size=3\n",
    "theme_set(theme_classic(base_size = base_size) + \n",
    "          theme(strip.background = element_blank(), plot.title=element_text(size=title_size, hjust=0), \n",
    "                strip.text.x = element_text(size = facet_size),axis.title=element_text(size=10), axis.text=element_text(size=8, color=\"black\"),\n",
    "                legend.position=\"bottom\", axis.line = element_line(size = 0.2), axis.ticks=element_line(size=0.2), panel.grid.major=element_line()))"
   ]
  },
  {
   "cell_type": "markdown",
   "metadata": {
    "execution": {
     "iopub.execute_input": "2022-06-15T09:54:05.829379Z",
     "iopub.status.busy": "2022-06-15T09:54:05.828551Z",
     "iopub.status.idle": "2022-06-15T09:54:05.842105Z",
     "shell.execute_reply": "2022-06-15T09:54:05.840873Z"
    }
   },
   "source": [
    "## Performance against CVD Scores"
   ]
  },
  {
   "cell_type": "code",
   "execution_count": null,
   "metadata": {},
   "outputs": [],
   "source": [
    "SCORE2: Myocardial infarction, Stroke, hypertensive heart disease, Ischemic heart disease, heart failure, arrhythmias, cardiovascular death + cardiac arrest\n",
    "ASCVD: \n",
    "QRISK3:  Ischemic heart disease, Myocardial infarction, TIA, stroke\n",
    "\n",
    "AF: some scores ESC\n"
   ]
  },
  {
   "cell_type": "code",
   "execution_count": null,
   "metadata": {
    "tags": []
   },
   "outputs": [],
   "source": [
    "endpoint_selection"
   ]
  },
  {
   "cell_type": "code",
   "execution_count": null,
   "metadata": {
    "execution": {
     "iopub.execute_input": "2023-05-11T14:12:39.020251Z",
     "iopub.status.busy": "2023-05-11T14:12:39.019239Z",
     "iopub.status.idle": "2023-05-11T14:12:39.032216Z",
     "shell.execute_reply": "2023-05-11T14:12:39.031108Z"
    },
    "tags": []
   },
   "outputs": [],
   "source": [
    "plot_width = 8.25; plot_height=2; plot_res = 320\n",
    "options(repr.plot.width = plot_width, repr.plot.height = plot_height, repr.plot.res=plot_res)\n",
    "\n",
    "plot_against_score = function(score1, score2, endpoint_order=c()){\n",
    "    \n",
    "    scores_plot = c(score1, score2)#, \"AgeSexMedicalHistory\"\n",
    "    \n",
    "    score_label = glue(\"{score1} vs. {score2}\")\n",
    "    #print(score_label)\n",
    "\n",
    "    temp = benchmark_endpoints %>% \n",
    "        filter(score %in% scores_plot) %>% \n",
    "        filter(endpoint %in% endpoint_selection) %>%\n",
    "        mutate(score = factor(score, levels=scores_plot)) %>%\n",
    "        mutate(endpoint = factor(endpoint, levels=sort(endpoint_selection))) %>%\n",
    "        group_by(endpoint, score, phecode_string, phecode_category) %>%\n",
    "        ungroup() %>%\n",
    "        pivot_wider(names_from=score, values_from=cindex) %>% \n",
    "        mutate(id = row_number()) %>%\n",
    "        mutate(delta = !!sym(score2)-!!sym(score1)) %>%\n",
    "        mutate(pos = case_when(delta>=0 ~ \"pos\", delta < 0 ~\"neg\")) %>%\n",
    "        mutate(endpoint = fct_reorder(endpoint, delta)) %>%\n",
    "        mutate(highlight = case_when(endpoint %in% endpoint_selection ~ \"YES\", TRUE ~ \"NO\")) %>%# %>% filter(endpoint %in% endpoint_sample)\n",
    "        mutate(phecode_category = factor(phecode_category, levels=categories_sorted)) %>%\n",
    "        filter(endpoint %in% endpoint_selection) #%>% mutate(endpoint=factor(endpoint, levels=endpoint_order_diff))\n",
    "    \n",
    "    temp_abs = temp %>% group_by(endpoint) %>% summarise(delta=median(delta), m_score2=median(!!sym(score2)), m_score1=median(!!sym(score1))) %>% ungroup() \n",
    "    #print(levels(temp_abs$endpoint))\n",
    "    \n",
    "    temp_abs_segment = temp_abs %>% rowwise() %>% mutate(min_cindex = min(m_score1, m_score2), max_cindex=max(m_score1, m_score2)) %>% ungroup()# %>% filter(abs(min_cindex-max_cindex)>0.02) \n",
    "    \n",
    "    endpoint_order = (temp %>% group_by(endpoint) %>% summarise(delta=median(delta)) %>% arrange(delta))$endpoint\n",
    "    print(endpoint_order)\n",
    "    \n",
    "    if (length(endpoint_order)>0){\n",
    "        temp = temp %>% filter(endpoint %in% endpoint_order) %>% mutate(endpoint=factor(endpoint, levels=endpoint_order))\n",
    "        temp_abs = temp_abs %>% filter(endpoint %in% endpoint_order) %>% mutate(endpoint=factor(endpoint, levels=endpoint_order))\n",
    "        temp_abs_segment = temp_abs_segment %>% filter(endpoint %in% endpoint_order) %>% mutate(endpoint=factor(endpoint, levels=endpoint_order))\n",
    "        }\n",
    "    #print(temp_abs_segment)\n",
    "    \n",
    "    abs = ggplot(temp_abs) + \n",
    "        #geom_violin(aes(x=fct_rev(endpoint), y=delta), size=0.5) +\n",
    "        labs(y=\"Concordance Index\")+\n",
    "\n",
    "        #geom_segment(data=temp_abs_segment, mapping=aes(x=endpoint, xend=endpoint, y=min_cindex+0.01, yend=max_cindex-0.01), alpha=0.4)+#, arrow = arrow(length = unit(0.01, \"npc\")), arrow.fill=\"black\")+#+\n",
    "\n",
    "    \n",
    "        geom_point(aes(x=fct_rev(endpoint), y=m_score1), size=1, color=\"black\", alpha=0.7)+\n",
    "        #geom_point(aes(x=fct_rev(endpoint), y=m_asm), size=1, color=\"#023768\", alpha=0.7)+\n",
    "        geom_point(aes(x=fct_rev(endpoint), y=m_score2), size=1.5, color=\"firebrick\", alpha=0.7)+\n",
    "        geom_segment(data=temp_abs %>% filter(abs(delta)>0.02) %>% mutate(endpoint=factor(endpoint, levels=endpoint_order)), \n",
    "                     aes(x=fct_rev(endpoint), xend=fct_rev(endpoint), y=m_score1+0.01, yend=m_score2-0.01), alpha=0.2, arrow = arrow(length = unit(0.01, \"npc\")), arrow.fill=\"black\")+#,\n",
    "\n",
    "        scale_x_discrete(labels=endpoint_map) +\n",
    "\n",
    "        coord_flip(ylim=c(0.5, 0.9))+\n",
    "         theme(strip.text = element_text(angle=270), axis.title.y=element_blank()) + \n",
    "        theme(legend.position=\"none\")\n",
    "\n",
    "        #geom_ribbon(aes(x=id, ymin=AgeSex, ymax=`Age+Sex+MedicalHistory`), fill=\"red\", alpha=0.2)\n",
    "    #geom_violin(size=0.1)\n",
    "    rel = ggplot(temp) + \n",
    "        #geom_violin(aes(x=fct_rev(endpoint), y=delta), size=0.5) +\n",
    "        labs(y=\"Difference in Concordance Index\")+\n",
    "        geom_hline(yintercept=0, size=0.25, alpha=0.5, linetype=\"22\") + \n",
    "        stat_pointinterval(aes(x=fct_rev(endpoint), y=delta), size=0.5, alpha=0.7)+\n",
    "\n",
    "        theme(axis.title.y=element_blank(),\n",
    "            axis.text.y=element_blank(),\n",
    "           axis.ticks.y=element_blank()) + \n",
    "        coord_flip(ylim=c(-0.01, 0.23))+\n",
    "         theme(strip.text = element_text(angle=270)) + \n",
    "        theme(legend.position=\"none\")\n",
    "\n",
    "        #geom_ribbon(aes(x=id, ymin=AgeSex, ymax=`Age+Sex+MedicalHistory`), fill=\"red\", alpha=0.2)\n",
    "    #geom_violin(size=0.1) \n",
    "    return(abs|rel)\n",
    "    }"
   ]
  },
  {
   "cell_type": "code",
   "execution_count": null,
   "metadata": {
    "execution": {
     "iopub.execute_input": "2023-05-11T14:12:38.138547Z",
     "iopub.status.busy": "2023-05-11T14:12:38.137536Z",
     "iopub.status.idle": "2023-05-11T14:12:38.146836Z",
     "shell.execute_reply": "2023-05-11T14:12:38.145560Z"
    },
    "tags": []
   },
   "outputs": [],
   "source": [
    "library(ggdist)"
   ]
  },
  {
   "cell_type": "code",
   "execution_count": null,
   "metadata": {
    "execution": {
     "iopub.execute_input": "2023-05-11T14:12:38.149440Z",
     "iopub.status.busy": "2023-05-11T14:12:38.148581Z",
     "iopub.status.idle": "2023-05-11T14:12:38.163859Z",
     "shell.execute_reply": "2023-05-11T14:12:38.162882Z"
    },
    "tags": []
   },
   "outputs": [],
   "source": [
    "base_size = 8\n",
    "title_size = 10\n",
    "facet_size = 9\n",
    "geom_text_size=3\n",
    "theme_set(theme_classic(base_size = base_size) + \n",
    "          theme(strip.background = element_blank(), plot.title=element_text(size=title_size, hjust=0), \n",
    "                strip.text.x = element_text(size = facet_size),axis.title=element_text(size=10), axis.text=element_text(size=8, color=\"black\"),\n",
    "                legend.position=\"bottom\", axis.line = element_line(size = 0.2), axis.ticks=element_line(size=0.2), panel.grid.major=element_line()))"
   ]
  },
  {
   "cell_type": "code",
   "execution_count": null,
   "metadata": {
    "execution": {
     "iopub.execute_input": "2023-05-11T14:12:38.166059Z",
     "iopub.status.busy": "2023-05-11T14:12:38.165252Z",
     "iopub.status.idle": "2023-05-11T14:12:38.176007Z",
     "shell.execute_reply": "2023-05-11T14:12:38.175061Z"
    },
    "tags": []
   },
   "outputs": [],
   "source": [
    "endpoint_order=c()\n",
    "length(endpoint_order)"
   ]
  },
  {
   "cell_type": "code",
   "execution_count": null,
   "metadata": {
    "execution": {
     "iopub.execute_input": "2023-05-11T14:12:38.178276Z",
     "iopub.status.busy": "2023-05-11T14:12:38.177353Z",
     "iopub.status.idle": "2023-05-11T14:12:38.186799Z",
     "shell.execute_reply": "2023-05-11T14:12:38.185853Z"
    },
    "tags": []
   },
   "outputs": [],
   "source": [
    "sort(endpoint_selection)"
   ]
  },
  {
   "cell_type": "code",
   "execution_count": null,
   "metadata": {
    "execution": {
     "iopub.execute_input": "2023-05-11T14:12:38.188951Z",
     "iopub.status.busy": "2023-05-11T14:12:38.188136Z",
     "iopub.status.idle": "2023-05-11T14:12:39.016825Z",
     "shell.execute_reply": "2023-05-11T14:12:39.014918Z"
    },
    "tags": []
   },
   "outputs": [],
   "source": [
    "plot_width = 8.25; plot_height=3.25; plot_res = 320\n",
    "options(repr.plot.width = plot_width, repr.plot.height = plot_height, repr.plot.res=plot_res)\n",
    "\n",
    "fig3b = plot_against_score(\"Age+Sex+MedicalHistoryLM\", \"Age+Sex+MedicalHistory\")\n",
    "fig3b"
   ]
  },
  {
   "cell_type": "code",
   "execution_count": null,
   "metadata": {
    "execution": {
     "iopub.execute_input": "2023-04-28T09:24:26.061367Z",
     "iopub.status.busy": "2023-04-28T09:24:26.060403Z",
     "iopub.status.idle": "2023-04-28T09:24:26.370532Z",
     "shell.execute_reply": "2023-04-28T09:24:26.369316Z"
    },
    "tags": []
   },
   "outputs": [],
   "source": [
    "library(gt)\n",
    "plot_name = \"SupplFig2_CompLM_selection\"\n",
    "fig3b %>% ggsave(filename=glue(\"outputs/{plot_name}.pdf\"), device=cairo_pdf, width=plot_width, height=plot_height, dpi=plot_res)"
   ]
  },
  {
   "cell_type": "code",
   "execution_count": null,
   "metadata": {
    "tags": []
   },
   "outputs": [],
   "source": [
    "library(ggdist)"
   ]
  },
  {
   "cell_type": "code",
   "execution_count": null,
   "metadata": {
    "execution": {
     "iopub.execute_input": "2023-05-11T14:14:17.186191Z",
     "iopub.status.busy": "2023-05-11T14:14:17.184945Z"
    },
    "tags": []
   },
   "outputs": [],
   "source": [
    "table_2 = benchmark_endpoints %>% \n",
    "    filter(score %in% scores_plot) %>% \n",
    "    mutate(score = factor(score, levels=scores_plot)) %>%\n",
    "    mutate(endpoint = factor(endpoint, levels=endpoints_sorted)) %>%\n",
    "    group_by(endpoint, score, phecode_string, phecode_category) %>%\n",
    "    pivot_wider(names_from=score, values_from=cindex) %>% \n",
    "    mutate(id = row_number()) %>%\n",
    "    mutate(delta = `MedicalHistory`-`MedicalHistoryLM`) %>%\n",
    "    #select(endpoint, iteration, phecode_string, phecode_category, sex, `Age+Sex`, `Age+Sex+MedicalHistory`, delta) %>%\n",
    "    pivot_longer(all_of(c(\"MedicalHistoryLM\", \"MedicalHistory\", \"delta\")), names_to=\"type\", values_to=\"cindex\") %>%\n",
    "    group_by(endpoint, phecode_string, phecode_category, type) %>%\n",
    "    median_qi(cindex, .width=1-(0.05/1883)) %>%\n",
    "    mutate(agg = glue(\"{round(cindex, 3)} ({round(.lower, 3)}, {round(.upper, 3)})\")) %>%\n",
    "    ungroup() %>% select(endpoint, phecode_string, phecode_category, type, agg) %>%\n",
    "    pivot_wider(names_from=type, values_from=agg) %>%\n",
    "      mutate(delta2 = str_replace_all(delta, \"\\\\(\", \",\")) %>% mutate(delta2 = str_replace_all(delta2, \"\\\\)\", \"\")) %>% #mutate(delta2 = str_replace_all(delta2, \",\", \" \")) %>%#mutate(delta2 = gsub(\")\", \"\", delta2)) %>%\n",
    "    separate(delta2, into = c(\"delta_median\", \"delta_lower\", \"delta_upper\"), sep = \",\", remove = TRUE, extra = \"merge\") %>%\n",
    "      mutate(delta_median= as.numeric(delta_median),\n",
    "             delta_lower = as.numeric(delta_lower),\n",
    "             delta_upper = as.numeric(delta_upper)) %>%\n",
    "    mutate(sign = case_when(\n",
    "        delta_upper<0 ~ \"-\",\n",
    "        delta_lower>0 ~ \"+\",\n",
    "        TRUE ~ \"ns\")) %>%\n",
    "    select(-delta_upper, -delta_lower) %>% arrange(as.character(endpoint)) %>% \n",
    "    rename(delta_lm=delta, sign_lm=sign, delta_median_lm = delta_median)\n",
    "\n",
    "table_2"
   ]
  },
  {
   "cell_type": "code",
   "execution_count": null,
   "metadata": {},
   "outputs": [],
   "source": [
    "table_2 %>% group_by(sign_lm) %>% tally() %>% mutate(freq=n/sum(n))"
   ]
  },
  {
   "cell_type": "code",
   "execution_count": null,
   "metadata": {},
   "outputs": [],
   "source": []
  },
  {
   "cell_type": "code",
   "execution_count": null,
   "metadata": {
    "tags": []
   },
   "outputs": [],
   "source": [
    "table_2 %>% \n",
    "    select(all_of(c(\"endpoint\", \"phecode_string\", \"Age+Sex\", 'Age+Sex+MedicalHistory', \"delta\"))) %>%\n",
    "    mutate(endpoint = factor(endpoint, levels = endpoints_md$endpoint)) %>% \n",
    "    filter(endpoint %in% endpoint_selection) %>%\n",
    "    arrange(endpoint)"
   ]
  },
  {
   "cell_type": "code",
   "execution_count": null,
   "metadata": {
    "tags": []
   },
   "outputs": [],
   "source": [
    "options(pillar.print_max = Inf)\n",
    "table_2 %>% \n",
    "    select(all_of(c(\"phecode_category\", \"endpoint\", \"phecode_string\", \"Age+Sex\", 'Age+Sex+MedicalHistory', \"delta\"))) %>%\n",
    "    mutate(endpoint = factor(endpoint, levels = endpoints_md$endpoint)) %>% \n",
    "    #filter(endpoint %in% endpoint_selection) %>%\n",
    "    arrange(endpoint) %>% \n",
    "    write_csv(\"outputs/SupplTable5_DiscriminativePerformanceAll.csv\")"
   ]
  },
  {
   "cell_type": "code",
   "execution_count": null,
   "metadata": {},
   "outputs": [],
   "source": []
  },
  {
   "cell_type": "code",
   "execution_count": null,
   "metadata": {
    "tags": []
   },
   "outputs": [],
   "source": [
    "table_2 %>% filter(endpoint %in% endpoint_selection) %>% arrange(as.character(endpoint)) %>% arrange(delta)"
   ]
  },
  {
   "cell_type": "code",
   "execution_count": null,
   "metadata": {},
   "outputs": [],
   "source": []
  }
 ],
 "metadata": {
  "hide_input": false,
  "kernelspec": {
   "display_name": "R [conda env:r_env]",
   "language": "R",
   "name": "conda-env-r_env-r"
  },
  "language_info": {
   "codemirror_mode": "r",
   "file_extension": ".r",
   "mimetype": "text/x-r-source",
   "name": "R",
   "pygments_lexer": "r",
   "version": "4.0.2"
  },
  "toc-autonumbering": false
 },
 "nbformat": 4,
 "nbformat_minor": 4
}
