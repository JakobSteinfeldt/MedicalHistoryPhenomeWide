{
 "cells": [
  {
   "cell_type": "markdown",
   "metadata": {},
   "source": [
    "# Benchmarks"
   ]
  },
  {
   "cell_type": "markdown",
   "metadata": {},
   "source": [
    "## Initialize"
   ]
  },
  {
   "cell_type": "code",
   "execution_count": null,
   "metadata": {
    "tags": []
   },
   "outputs": [],
   "source": [
    "%load_ext autoreload\n",
    "%autoreload 2\n",
    "\n",
    "import os\n",
    "import math\n",
    "import pathlib\n",
    "import numpy as np\n",
    "import pandas as pd\n",
    "from tqdm.auto import tqdm\n",
    "from IPython.display import clear_output\n",
    "\n",
    "import warnings\n",
    "from lifelines.utils import CensoringType\n",
    "from lifelines.utils import concordance_index"
   ]
  },
  {
   "cell_type": "code",
   "execution_count": null,
   "metadata": {
    "tags": []
   },
   "outputs": [],
   "source": [
    "node = !hostname\n",
    "if \"sc\" in node[0]:\n",
    "    base_path = \"/sc-projects/sc-proj-ukb-cvd\"\n",
    "else: \n",
    "    base_path = \"/data/analysis/ag-reils/ag-reils-shared/cardioRS\"\n",
    "print(base_path)\n",
    "\n",
    "project_label = \"22_medical_records\"\n",
    "project_path = f\"{base_path}/results/projects/{project_label}\"\n",
    "figure_path = f\"{project_path}/figures\"\n",
    "output_path = f\"{project_path}/data\"\n",
    "\n",
    "pathlib.Path(figure_path).mkdir(parents=True, exist_ok=True)\n",
    "pathlib.Path(output_path).mkdir(parents=True, exist_ok=True)\n",
    "\n",
    "experiment = 220627\n",
    "experiment_path = f\"{output_path}/{experiment}\"\n",
    "pathlib.Path(experiment_path).mkdir(parents=True, exist_ok=True)"
   ]
  },
  {
   "cell_type": "code",
   "execution_count": null,
   "metadata": {
    "tags": []
   },
   "outputs": [],
   "source": [
    "data_outcomes = pd.read_feather(f\"{output_path}/baseline_outcomes_220627.feather\").set_index(\"eid\")\n",
    "endpoints = [e[:-6] for e in data_outcomes.columns if \"_event\" in e]\n",
    "del data_outcomes"
   ]
  },
  {
   "cell_type": "code",
   "execution_count": null,
   "metadata": {
    "tags": []
   },
   "outputs": [],
   "source": [
    "endpoint_defs = pd.read_feather(f\"{output_path}/phecode_defs_220306.feather\").query(\"endpoint==@endpoints\").sort_values(\"endpoint\").set_index(\"endpoint\")"
   ]
  },
  {
   "cell_type": "code",
   "execution_count": null,
   "metadata": {
    "tags": []
   },
   "outputs": [],
   "source": [
    "data_covariates = pd.read_feather(\"/sc-projects/sc-proj-ukb-cvd/data/2_datasets_pre/211110_anewbeginning/baseline_covariates_211209.feather\")[[\"eid\", \"sex_f31_0_0\"]].set_index(\"eid\")"
   ]
  },
  {
   "cell_type": "code",
   "execution_count": null,
   "metadata": {
    "tags": []
   },
   "outputs": [],
   "source": [
    "data_outcomes = pd.read_feather(f\"{output_path}/baseline_outcomes_long_220627.feather\").set_index(\"eid\")"
   ]
  },
  {
   "cell_type": "code",
   "execution_count": null,
   "metadata": {
    "tags": []
   },
   "outputs": [],
   "source": [
    "data_all = data_outcomes.merge(data_covariates, left_index=True, right_index=True, how=\"left\").reset_index(drop=False).set_index(\"endpoint\")"
   ]
  },
  {
   "cell_type": "code",
   "execution_count": null,
   "metadata": {
    "tags": []
   },
   "outputs": [],
   "source": [
    "data_all.head()"
   ]
  },
  {
   "cell_type": "code",
   "execution_count": null,
   "metadata": {
    "tags": []
   },
   "outputs": [],
   "source": [
    "data_dict = {e: df.reset_index(drop=True).set_index(\"eid\") for e, df in data_all.groupby('endpoint')}"
   ]
  },
  {
   "cell_type": "code",
   "execution_count": null,
   "metadata": {
    "tags": []
   },
   "outputs": [],
   "source": [
    "endpoint_defs.sex.unique()"
   ]
  },
  {
   "cell_type": "code",
   "execution_count": null,
   "metadata": {
    "tags": []
   },
   "outputs": [],
   "source": [
    "def get_eligable_eids(data_dict, endpoint):\n",
    "\n",
    "    data_temp = data_dict[endpoint]\n",
    "    eligibility = endpoint_defs.loc[endpoint][\"sex\"]\n",
    "    \n",
    "    if eligibility == \"Both\": \n",
    "        eids_incl = data_temp.copy().query(f\"prev==0\").index.to_list()\n",
    "    else:\n",
    "        eids_incl = data_temp.copy().query(f\"prev==0&sex_f31_0_0==@eligibility\").index.to_list()\n",
    "        \n",
    "    return {\"endpoint\": endpoint, \n",
    "            \"n_eids\": len(eids_incl), \n",
    "            \"eid_list\": eids_incl}"
   ]
  },
  {
   "cell_type": "code",
   "execution_count": null,
   "metadata": {
    "tags": []
   },
   "outputs": [],
   "source": [
    "d_list = [get_eligable_eids(data_dict, endpoint) for endpoint in tqdm(endpoints)]\n",
    "eid_df = pd.DataFrame.from_dict(d_list)"
   ]
  },
  {
   "cell_type": "code",
   "execution_count": null,
   "metadata": {
    "tags": []
   },
   "outputs": [],
   "source": [
    "#eid_df.set_index(\"endpoint\")[\"eid_list\"].to_dict()"
   ]
  },
  {
   "cell_type": "code",
   "execution_count": null,
   "metadata": {
    "tags": []
   },
   "outputs": [],
   "source": [
    "eid_df.to_feather(f\"{output_path}/eligable_eids_220627.feather\")"
   ]
  },
  {
   "cell_type": "code",
   "execution_count": null,
   "metadata": {
    "tags": []
   },
   "outputs": [],
   "source": [
    "eid_df_long = eid_df[[\"endpoint\", \"eid_list\"]].explode(\"eid_list\").reset_index(drop=True)\n",
    "eid_df_long.columns = [\"endpoint\", \"eid\"]\n",
    "eid_df_long[\"endpoint\"] = eid_df_long[\"endpoint\"].astype(\"category\")\n",
    "eid_df_long[\"eid\"] = eid_df_long[\"eid\"].astype(\"category\")"
   ]
  },
  {
   "cell_type": "code",
   "execution_count": null,
   "metadata": {
    "tags": []
   },
   "outputs": [],
   "source": [
    "eid_df_long.to_feather(f\"{output_path}/eligable_eids_long_220627.feather\")"
   ]
  },
  {
   "cell_type": "code",
   "execution_count": null,
   "metadata": {},
   "outputs": [],
   "source": []
  }
 ],
 "metadata": {
  "kernelspec": {
   "display_name": "Python [conda env:udm]",
   "language": "python",
   "name": "conda-env-udm-py"
  },
  "language_info": {
   "codemirror_mode": {
    "name": "ipython",
    "version": 3
   },
   "file_extension": ".py",
   "mimetype": "text/x-python",
   "name": "python",
   "nbconvert_exporter": "python",
   "pygments_lexer": "ipython3",
   "version": "3.10.9"
  },
  "toc-autonumbering": false
 },
 "nbformat": 4,
 "nbformat_minor": 4
}
