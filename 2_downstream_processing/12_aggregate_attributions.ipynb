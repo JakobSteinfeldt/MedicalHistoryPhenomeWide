{
 "cells": [
  {
   "cell_type": "code",
   "execution_count": null,
   "metadata": {
    "tags": []
   },
   "outputs": [],
   "source": [
    "import pandas as pd\n",
    "import numpy as np\n",
    "import pathlib\n",
    "from tqdm.auto import tqdm\n",
    "\n",
    "import hydra\n",
    "from omegaconf import DictConfig, OmegaConf\n",
    "\n",
    "import torch\n",
    "from torch_geometric import seed_everything\n",
    "import pathlib\n",
    "\n",
    "import ray"
   ]
  },
  {
   "cell_type": "code",
   "execution_count": null,
   "metadata": {
    "tags": []
   },
   "outputs": [],
   "source": [
    "node = !hostname\n",
    "if \"sc\" in node[0]:\n",
    "    base_path = \"/sc-projects/sc-proj-ukb-cvd\"\n",
    "else: \n",
    "    base_path = \"/data/analysis/ag-reils/ag-reils-shared/cardioRS\"\n",
    "print(base_path)\n",
    "\n",
    "project_label = \"22_medical_records\"\n",
    "project_path = f\"{base_path}/results/projects/{project_label}\"\n",
    "figure_path = f\"{project_path}/figures\"\n",
    "output_path = f\"{project_path}/data\"\n",
    "\n",
    "experiment = 220627\n",
    "experiment_path = f\"{output_path}/{experiment}\"\n",
    "pathlib.Path(experiment_path).mkdir(parents=True, exist_ok=True)"
   ]
  },
  {
   "cell_type": "code",
   "execution_count": null,
   "metadata": {
    "tags": []
   },
   "outputs": [],
   "source": [
    "endpoint_defs = pd.read_feather(f\"{output_path}/phecode_defs_220306.feather\").sort_values(\"endpoint\")\n",
    "endpoints_md = pd.read_csv(f\"{experiment_path}/endpoints.csv\")\n",
    "endpoints = sorted(endpoints_md.endpoint.to_list())"
   ]
  },
  {
   "cell_type": "code",
   "execution_count": null,
   "metadata": {
    "tags": []
   },
   "outputs": [],
   "source": [
    "records=pd.read_feather(\"/sc-projects/sc-proj-ukb-cvd/data/2_datasets_pre/211110_anewbeginning/artifacts/record_frequencies_220627.feather\").record.to_list()"
   ]
  },
  {
   "cell_type": "code",
   "execution_count": null,
   "metadata": {
    "tags": []
   },
   "outputs": [],
   "source": [
    "data_outcomes = pd.read_feather(f\"{output_path}/baseline_outcomes_220627.feather\").set_index(\"eid\")"
   ]
  },
  {
   "cell_type": "code",
   "execution_count": null,
   "metadata": {
    "tags": []
   },
   "outputs": [],
   "source": [
    "data_records = pd.read_feather(f\"{output_path}/baseline_records_220627.feather\", columns=[\"eid\"] + records).set_index(\"eid\")\n",
    "data_all = data_records.merge(data_outcomes, left_index=True, right_index=True, how=\"left\")"
   ]
  },
  {
   "cell_type": "code",
   "execution_count": null,
   "metadata": {
    "tags": []
   },
   "outputs": [],
   "source": [
    "eligable_eids = pd.read_feather(f\"{output_path}/eligable_eids_220627.feather\")\n",
    "eids_dict = eligable_eids.set_index(\"endpoint\")[\"eid_list\"].to_dict()"
   ]
  },
  {
   "cell_type": "markdown",
   "metadata": {},
   "source": [
    "# Augment attributions with eligability"
   ]
  },
  {
   "cell_type": "code",
   "execution_count": null,
   "metadata": {
    "tags": []
   },
   "outputs": [],
   "source": [
    "path = pathlib.Path('/sc-projects/sc-proj-ukb-cvd/results/recordgraphs/attributions/')\n",
    "files = list(path.glob('2207*fijcpulg*.feather'))"
   ]
  },
  {
   "cell_type": "code",
   "execution_count": null,
   "metadata": {
    "tags": []
   },
   "outputs": [],
   "source": [
    "# make sure its from the correct run"
   ]
  },
  {
   "cell_type": "code",
   "execution_count": null,
   "metadata": {
    "tags": []
   },
   "outputs": [],
   "source": [
    "len(files)"
   ]
  },
  {
   "cell_type": "code",
   "execution_count": null,
   "metadata": {},
   "outputs": [],
   "source": []
  },
  {
   "cell_type": "code",
   "execution_count": null,
   "metadata": {
    "tags": []
   },
   "outputs": [],
   "source": [
    "def prepare_df(fp):\n",
    "    fp_split = str(fp).split(\"_\")\n",
    "    long_df = pd.read_feather(fp)\\\n",
    "            .assign(run_id=fp_split[-5])\\\n",
    "            .assign(iterations=fp_split[-4])\\\n",
    "            .assign(endpoint=fp_split[-3] + \"_\" + fp_split[-2].replace(\".\", \"-\"))\\\n",
    "            .melt(id_vars=[\"eid\", \"run_id\", \"iterations\", \"endpoint\"], var_name=\"record\", value_name=\"shapley\")\\\n",
    "            .dropna()\n",
    "    return long_df"
   ]
  },
  {
   "cell_type": "code",
   "execution_count": null,
   "metadata": {
    "tags": []
   },
   "outputs": [],
   "source": [
    "attribution_df = pd.concat([prepare_df(fp) for fp in tqdm(files)], axis=0)[[\"eid\", \"endpoint\", \"record\", \"shapley\"]].sort_values([\"endpoint\", \"eid\", \"record\"]).reset_index(drop=True)"
   ]
  },
  {
   "cell_type": "code",
   "execution_count": null,
   "metadata": {
    "tags": []
   },
   "outputs": [],
   "source": [
    "attribution_df.query(\"shapley==shapley\")"
   ]
  },
  {
   "cell_type": "code",
   "execution_count": null,
   "metadata": {
    "tags": []
   },
   "outputs": [],
   "source": [
    "eligable_eids_long = pd.read_feather(f\"{output_path}/eligable_eids_long_220627.feather\").assign(eligable=1)\n",
    "attribution_df_eligable = attribution_df.merge(eligable_eids_long, how=\"left\", on=[\"eid\", \"endpoint\"])#.query(\"eligable==1\")"
   ]
  },
  {
   "cell_type": "code",
   "execution_count": null,
   "metadata": {
    "tags": []
   },
   "outputs": [],
   "source": [
    "attribution_df_eligable = attribution_df_eligable.fillna(0).reset_index(drop=True)"
   ]
  },
  {
   "cell_type": "code",
   "execution_count": null,
   "metadata": {},
   "outputs": [],
   "source": []
  },
  {
   "cell_type": "code",
   "execution_count": null,
   "metadata": {},
   "outputs": [],
   "source": []
  },
  {
   "cell_type": "code",
   "execution_count": null,
   "metadata": {
    "tags": []
   },
   "outputs": [],
   "source": [
    "# just a short sanity check\n",
    "attribution_df_agg = attribution_df_eligable.groupby([\"endpoint\", \"record\"])[[\"shapley\"]].agg(count=(\"shapley\", \"size\"), mean_shapley=(\"shapley\", \"mean\")).sort_values(\"mean_shapley\", ascending=False).reset_index()\n",
    "concept = pd.read_csv(f\"{base_path}/data/mapping/athena/CONCEPT.csv\", sep='\\t')\n",
    "concept_clean = concept.assign(record= lambda x: \"OMOP_\" + x.concept_id.astype(str))[[\"record\", \"concept_name\", \"domain_id\", \"concept_class_id\"]]\n",
    "attribution_df_prepared = attribution_df_agg.merge(endpoints_md[[\"endpoint\", \"phecode_string\"]], on=\"endpoint\", how=\"left\").merge(concept_clean, on=\"record\", how=\"left\")\n",
    "attribution_df_prepared"
   ]
  },
  {
   "cell_type": "code",
   "execution_count": null,
   "metadata": {
    "tags": []
   },
   "outputs": [],
   "source": [
    "attribution_df_prepared.query(\"count>100\").query(\"phecode_string=='Myocardial infarction [Heart attack]'\").sort_values(\"mean_shapley\", ascending=False)"
   ]
  },
  {
   "cell_type": "code",
   "execution_count": null,
   "metadata": {
    "tags": []
   },
   "outputs": [],
   "source": [
    "pd.set_option('display.max_rows', 100)\n",
    "test_rank = (attribution_df_prepared.query(\"count>10\")\n",
    "     .sort_values('mean_shapley')\n",
    "     .groupby(['endpoint'])\n",
    "     .tail(10)\n",
    "     .sort_values(\"endpoint\")\n",
    "     .reset_index(drop=True)\n",
    ")[[\"phecode_string\", \"concept_name\"]]\n",
    "test_rank['rank'] = test_rank.groupby([\"phecode_string\"]).cumcount()+1\n",
    "test_rank.pivot(index=\"phecode_string\", columns='rank',values='concept_name')"
   ]
  },
  {
   "cell_type": "code",
   "execution_count": null,
   "metadata": {
    "tags": []
   },
   "outputs": [],
   "source": [
    "attribution_df_eligable.to_feather(f\"{experiment_path}/attributions_pre.feather\")"
   ]
  },
  {
   "cell_type": "code",
   "execution_count": null,
   "metadata": {},
   "outputs": [],
   "source": []
  }
 ],
 "metadata": {
  "interpreter": {
   "hash": "7fb005937abf8310e947cacdef9aa24b4c9570846765db425bfb20f46bc066c7"
  },
  "kernelspec": {
   "display_name": "Python [conda env:udm]",
   "language": "python",
   "name": "conda-env-udm-py"
  },
  "language_info": {
   "codemirror_mode": {
    "name": "ipython",
    "version": 3
   },
   "file_extension": ".py",
   "mimetype": "text/x-python",
   "name": "python",
   "nbconvert_exporter": "python",
   "pygments_lexer": "ipython3",
   "version": "3.10.9"
  }
 },
 "nbformat": 4,
 "nbformat_minor": 4
}
