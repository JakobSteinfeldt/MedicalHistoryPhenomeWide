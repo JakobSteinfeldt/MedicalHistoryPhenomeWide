{
 "cells": [
  {
   "cell_type": "markdown",
   "metadata": {},
   "source": [
    "# Benchmarks"
   ]
  },
  {
   "cell_type": "markdown",
   "metadata": {},
   "source": [
    "## Initialize"
   ]
  },
  {
   "cell_type": "code",
   "execution_count": null,
   "metadata": {
    "ExecuteTime": {
     "end_time": "2021-01-05T11:03:09.852316Z",
     "start_time": "2021-01-05T11:03:07.701Z"
    },
    "tags": []
   },
   "outputs": [],
   "source": [
    "#library(Rmisc)\n",
    "library(dtplyr)\n",
    "library(tidyverse)\n",
    "library(glue)\n",
    "library(arrow)\n",
    "library(patchwork)\n",
    "library(data.table)\n",
    "library(\"jsonlite\")\n",
    "library(ggthemes)"
   ]
  },
  {
   "cell_type": "code",
   "execution_count": null,
   "metadata": {
    "ExecuteTime": {
     "end_time": "2021-01-05T11:03:10.491477Z",
     "start_time": "2021-01-05T11:03:10.445Z"
    },
    "tags": []
   },
   "outputs": [],
   "source": [
    "if (grepl(\"sc\", Sys.info()[[\"nodename\"]], fixed=TRUE)) {\n",
    "    base_path = \"/sc-projects/sc-proj-ukb-cvd\"\n",
    "} else {\n",
    "    base_path = \"/data/analysis/ag-reils/ag-reils-shared/cardioRS\"}\n",
    "print(base_path)\n",
    "\n",
    "project_label=\"22_medical_records\"\n",
    "project_path = glue(\"{base_path}/results/projects/{project_label}\")\n",
    "figure_path = glue(\"{project_path}/figures\")\n",
    "output_path = glue(\"{project_path}/data\")\n",
    "\n",
    "experiment = 220627\n",
    "experiment_path = glue(\"{output_path}/{experiment}\")"
   ]
  },
  {
   "cell_type": "code",
   "execution_count": null,
   "metadata": {
    "tags": []
   },
   "outputs": [],
   "source": [
    "concept = fread(\"/sc-projects/sc-proj-ukb-cvd/data/mapping/athena/CONCEPT.csv\")"
   ]
  },
  {
   "cell_type": "markdown",
   "metadata": {},
   "source": [
    "## Generate Data"
   ]
  },
  {
   "cell_type": "code",
   "execution_count": null,
   "metadata": {
    "tags": []
   },
   "outputs": [],
   "source": [
    "records = arrow::read_feather(\"/sc-projects/sc-proj-ukb-cvd/data/2_datasets_pre/211110_anewbeginning/artifacts/final_records_omop_220531.feather\")\t"
   ]
  },
  {
   "cell_type": "code",
   "execution_count": null,
   "metadata": {
    "tags": []
   },
   "outputs": [],
   "source": [
    "records_omop = records %>% \n",
    "    filter(vocabulary==\"OMOP\") %>% \n",
    "    mutate(date = as.Date(date)) %>%\n",
    "    filter(between(date, \"1903-03-04\", \"2022-07-19\")) %>% \n",
    "    arrange(date)"
   ]
  },
  {
   "cell_type": "code",
   "execution_count": null,
   "metadata": {
    "tags": []
   },
   "outputs": [],
   "source": [
    "temp = records_omop %>% \n",
    "    mutate(origin_simple = case_when(\n",
    "        stringr::str_detect(origin, \"gp_\") ~ factor(\"GP\", levels=c(\"GP\", \"HES\", \"Death\")), \n",
    "        stringr::str_detect(origin, \"hes_\") ~ factor(\"HES\", levels=c(\"GP\", \"HES\", \"Death\")), \n",
    "        stringr::str_detect(origin, \"death_\") ~ factor(\"Death\", levels=c(\"GP\", \"HES\", \"Death\"))\n",
    "    )\n",
    ") "
   ]
  },
  {
   "cell_type": "code",
   "execution_count": null,
   "metadata": {},
   "outputs": [],
   "source": [
    "nrow(temp)"
   ]
  },
  {
   "cell_type": "code",
   "execution_count": null,
   "metadata": {
    "tags": []
   },
   "outputs": [],
   "source": [
    "10000000"
   ]
  },
  {
   "cell_type": "code",
   "execution_count": null,
   "metadata": {
    "tags": []
   },
   "outputs": [],
   "source": [
    "temp_plot = temp %>% sample_n(round(nrow(temp)/100))"
   ]
  },
  {
   "cell_type": "code",
   "execution_count": null,
   "metadata": {
    "tags": []
   },
   "outputs": [],
   "source": [
    "base_size = 8\n",
    "title_size = 10\n",
    "facet_size = 8.5\n",
    "geom_text_size=3\n",
    "theme_set(theme_classic(base_size = base_size) + \n",
    "          theme(strip.background = element_blank(), plot.title=element_text(size=title_size, hjust=0), \n",
    "                strip.text.x = element_text(size = facet_size),axis.title=element_text(size=10), axis.text=element_text(size=8, color=\"black\"),\n",
    "                legend.position=\"bottom\", axis.line = element_line(size = 0.2), axis.ticks=element_line(size=0.2)))"
   ]
  },
  {
   "cell_type": "code",
   "execution_count": null,
   "metadata": {
    "tags": []
   },
   "outputs": [],
   "source": [
    "library(wesanderson)"
   ]
  },
  {
   "cell_type": "code",
   "execution_count": null,
   "metadata": {
    "tags": []
   },
   "outputs": [],
   "source": [
    "options(repr.plot.width=4, repr.plot.height=3, repr.plot.dpi=320)\n",
    "origin = ggplot(temp_plot %>% filter(between(date, \"1980-01-01\", \"2022-07-19\")), aes(x=date, fill=origin_simple, color=origin_simple)) + \n",
    "    labs(y=\"Number of Records\", x=NULL) + \n",
    "    geom_area(aes(y = ..count..*100), stat = \"bin\", alpha=0.7, binwidth=200) +\n",
    "    #geom_histogram(bins=200, alpha=0.3) +  \n",
    "    scale_color_manual(values= wes_palette(\"Darjeeling1\", n = 3), name=\"Source\") +\n",
    "    scale_fill_manual(values= wes_palette(\"Darjeeling1\", n = 3), name=\"Source\") +\n",
    "    scale_x_date(expand=c(0, 0))+scale_y_continuous(expand=c(0, 0), labels = scales::unit_format(unit = \"M\", scale = 1e-6))+\n",
    "    theme(legend.position=c(0.2, 0.7))\n",
    "origin"
   ]
  },
  {
   "cell_type": "raw",
   "metadata": {
    "execution": {
     "iopub.execute_input": "2022-08-06T13:32:23.783952Z",
     "iopub.status.busy": "2022-08-06T13:32:23.783058Z",
     "iopub.status.idle": "2022-08-06T13:32:26.264946Z",
     "shell.execute_reply": "2022-08-06T13:32:26.263884Z"
    },
    "tags": []
   },
   "source": [
    "options(repr.plot.width=4, repr.plot.height=3, repr.plot.dpi=320)\n",
    "domain = ggplot(temp_plot %>% \n",
    "                    filter(between(date, \"1980-01-01\", \"2022-07-19\")) %>%\n",
    "                    mutate(domain_id = factor(domain_id, levels=c(\"Condition\", \"Procedure\", \"Drug\", \"Observation\", \"Device\"))),\n",
    "                aes(x=date, fill=domain_id, color=domain_id)) + \n",
    "    geom_histogram(bins=200, alpha=0.7) + \n",
    "    scale_color_manual(values= wes_palette(\"Zissou1\", n = 5), name=\"Domain\") +\n",
    "    scale_fill_manual(values= wes_palette(\"Zissou1\", n = 5), name=\"Domain\") +\n",
    "    scale_x_date(expand=c(0, 0))+scale_y_continuous(expand=c(0, 0))+\n",
    "    theme(legend.position=c(0.2, 0.7))\n",
    "domain"
   ]
  },
  {
   "cell_type": "code",
   "execution_count": null,
   "metadata": {
    "tags": []
   },
   "outputs": [],
   "source": [
    "options(repr.plot.width=4, repr.plot.height=3, repr.plot.dpi=320)\n",
    "domain = ggplot(temp_plot %>% \n",
    "                    filter(between(date, \"1980-01-01\", \"2022-07-19\")) %>%\n",
    "                    mutate(domain_id = factor(domain_id, levels=c(\"Condition\", \"Procedure\", \"Drug\", \"Observation\", \"Device\"))),\n",
    "                aes(x=date, fill=domain_id, color=domain_id)) + \n",
    "     labs(y=\"Number of Records\", x=NULL) + \n",
    "    geom_area(aes(y = ..count..*100), stat = \"bin\", alpha=0.7, binwidth=200) + \n",
    "    scale_color_manual(values= wes_palette(\"Zissou1\", n = 5), name=\"Domain\") +\n",
    "    scale_fill_manual(values= wes_palette(\"Zissou1\", n = 5), name=\"Domain\") +\n",
    "    scale_x_date(expand=c(0, 0))+scale_y_continuous(expand=c(0, 0), labels = scales::unit_format(unit = \"M\", scale = 1e-6))+\n",
    "    theme(legend.position=c(0.2, 0.7))\n",
    "domain"
   ]
  },
  {
   "cell_type": "code",
   "execution_count": null,
   "metadata": {
    "tags": []
   },
   "outputs": [],
   "source": [
    "plot_width=8.25; plot_height=3; plot_res=320\n",
    "options(repr.plot.width=plot_width, repr.plot.height=plot_height, repr.plot.dpi=plot_res)\n",
    "records_plot = origin|domain \n",
    "records_plot"
   ]
  },
  {
   "cell_type": "code",
   "execution_count": null,
   "metadata": {
    "tags": []
   },
   "outputs": [],
   "source": [
    "library(gt)\n",
    "plot_name = \"SupplFigure1a_recordstime\"\n",
    "records_plot %>% ggsave(filename=glue(\"outputs/{plot_name}.pdf\"), device=cairo_pdf, width=plot_width, height=plot_height, dpi=plot_res)"
   ]
  },
  {
   "cell_type": "code",
   "execution_count": null,
   "metadata": {},
   "outputs": [],
   "source": []
  },
  {
   "cell_type": "code",
   "execution_count": null,
   "metadata": {},
   "outputs": [],
   "source": []
  },
  {
   "cell_type": "code",
   "execution_count": null,
   "metadata": {},
   "outputs": [],
   "source": []
  }
 ],
 "metadata": {
  "hide_input": false,
  "kernelspec": {
   "display_name": "R [conda env:r_env]",
   "language": "R",
   "name": "conda-env-r_env-r"
  },
  "language_info": {
   "codemirror_mode": "r",
   "file_extension": ".r",
   "mimetype": "text/x-r-source",
   "name": "R",
   "pygments_lexer": "r",
   "version": "4.0.2"
  },
  "toc-autonumbering": false
 },
 "nbformat": 4,
 "nbformat_minor": 4
}
