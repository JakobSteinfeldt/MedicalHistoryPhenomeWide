{
 "cells": [
  {
   "cell_type": "markdown",
   "id": "6ddbfa7a-75a7-4688-9573-77939f7de536",
   "metadata": {},
   "source": [
    "# Loading"
   ]
  },
  {
   "cell_type": "code",
   "execution_count": null,
   "id": "a9b2ef37-d37e-4473-8584-fc0ead2d28a0",
   "metadata": {
    "tags": []
   },
   "outputs": [],
   "source": [
    "import pandas as pd\n",
    "import networkx as nx\n",
    "from tqdm.notebook import trange, tqdm"
   ]
  },
  {
   "cell_type": "code",
   "execution_count": null,
   "id": "47321601-865b-43f6-9cbf-bce54bf27e0e",
   "metadata": {
    "tags": []
   },
   "outputs": [],
   "source": [
    "# read in all relevant data:\n",
    "base_path = \"/sc-projects/sc-proj-ukb-cvd/data\"\n",
    "data_path = f\"{base_path}/0_raw/showcase_48024/tables_220317\"\n",
    "mapping_path = f\"{base_path}/mapping\"\n",
    "out_path = f\"{base_path}/1_decoded\""
   ]
  },
  {
   "cell_type": "code",
   "execution_count": null,
   "id": "718723d2-f3e8-4e51-8c68-57fbbd20bb80",
   "metadata": {
    "tags": []
   },
   "outputs": [],
   "source": [
    "# vocabulary\n",
    "vocab_dir = f\"{mapping_path}/athena\"\n",
    "concept = pd.read_csv(f\"{vocab_dir}/CONCEPT.csv\", sep='\\t')\n",
    "concept.head()"
   ]
  },
  {
   "cell_type": "code",
   "execution_count": null,
   "id": "f8837b8a-8737-4ddc-816f-edd8d9b8b9ba",
   "metadata": {
    "tags": []
   },
   "outputs": [],
   "source": [
    "relationship = pd.read_csv(f\"{vocab_dir}/RELATIONSHIP.csv\", sep='\\t')\n",
    "vocabulary = pd.read_csv(f\"{vocab_dir}/VOCABULARY.csv\", sep='\\t')"
   ]
  },
  {
   "cell_type": "code",
   "execution_count": null,
   "id": "b1d4e1b6-79ee-472e-8183-e4d940d9aec7",
   "metadata": {
    "tags": []
   },
   "outputs": [],
   "source": [
    "concept_relationship = pd.read_csv(f\"{vocab_dir}/CONCEPT_RELATIONSHIP.csv\", sep='\\t')"
   ]
  },
  {
   "cell_type": "code",
   "execution_count": null,
   "id": "629230cf-6418-4151-a0d7-ffb3de5e322e",
   "metadata": {
    "tags": []
   },
   "outputs": [],
   "source": [
    "# coding\n",
    "gp_code_types = pd.read_csv(f\"{mapping_path}/codings/coding3175.tsv\")"
   ]
  },
  {
   "cell_type": "code",
   "execution_count": null,
   "id": "36f34dc9-b389-49c5-bb63-86452e4c1873",
   "metadata": {
    "tags": []
   },
   "outputs": [],
   "source": [
    "# data:\n",
    "gp_scripts = pd.read_feather(f\"{out_path}/codes_gp_scripts_raw_220317.feather\")\n"
   ]
  },
  {
   "cell_type": "markdown",
   "id": "bfd810f3-22f5-4f0e-b9b8-3a37326a6ce0",
   "metadata": {},
   "source": [
    "# Graph stuff"
   ]
  },
  {
   "cell_type": "code",
   "execution_count": null,
   "id": "c6471adb-133c-4ccd-ad7a-67eab4d6a96b",
   "metadata": {
    "tags": []
   },
   "outputs": [],
   "source": [
    "mapping_dmd_device = pd.read_feather(f\"{out_path}/mapping_dmd_device_220330.feather\")\n",
    "mapping_dmd_device.head()"
   ]
  },
  {
   "cell_type": "code",
   "execution_count": null,
   "id": "ea334a7f-6794-4ecb-87e1-f1895f7252c0",
   "metadata": {},
   "outputs": [],
   "source": [
    "dmd_devices = mapping_dmd_device[[\"code_origin\"]].drop_duplicates().merge(concept.query(\"vocabulary_id=='dm+d'\"), left_on=\"code_origin\", right_on=\"concept_code\")"
   ]
  },
  {
   "cell_type": "code",
   "execution_count": null,
   "id": "58851805-60e4-495f-90ec-fdbeddb233e1",
   "metadata": {},
   "outputs": [],
   "source": [
    "dmd_devices.value_counts(\"concept_class_id\")"
   ]
  },
  {
   "cell_type": "code",
   "execution_count": null,
   "id": "5ef0c40c-daf7-45dd-b0a0-d459ca0a1561",
   "metadata": {},
   "outputs": [],
   "source": [
    "dmd_devices.query(\"concept_class_id=='VMP'\")"
   ]
  },
  {
   "cell_type": "code",
   "execution_count": null,
   "id": "3aaa1dc4-da1a-45cf-adcd-46baba81149c",
   "metadata": {},
   "outputs": [],
   "source": [
    "start_nodes = mapping_dmd_device.id_origin.to_list()\n",
    "target_nodes = concept.query('vocabulary_id==\"dm+d\" & concept_class_id==\"VMP\" & domain_id==\"Device\"')['concept_id'].values.tolist()"
   ]
  },
  {
   "cell_type": "code",
   "execution_count": null,
   "id": "e419fd35-b20b-42d2-8618-47bb9f6e95d7",
   "metadata": {},
   "outputs": [],
   "source": [
    "devices = concept.query(\"(domain_id=='Device'&vocabulary_id=='SNOMED'&(standard_concept==standard_concept))|concept_id==@start_nodes|concept_id==@target_nodes\")\\\n",
    "    [['concept_id', 'concept_name', 'domain_id', 'vocabulary_id','concept_class_id', 'concept_code']]"
   ]
  },
  {
   "cell_type": "code",
   "execution_count": null,
   "id": "c16508d5-c473-4537-9551-bd1d913e0140",
   "metadata": {},
   "outputs": [],
   "source": [
    "devices1 = devices.copy()\n",
    "devices2 = devices.copy()\n",
    "devices1.columns = [f\"{c}_1\" for c in devices.columns]\n",
    "devices2.columns = [f\"{c}_2\" for c in devices.columns]"
   ]
  },
  {
   "cell_type": "code",
   "execution_count": null,
   "id": "b290f64b-95d9-4d87-8665-02551da7221d",
   "metadata": {},
   "outputs": [],
   "source": [
    "devices_ids = devices.concept_id.to_list()"
   ]
  },
  {
   "cell_type": "code",
   "execution_count": null,
   "id": "73737c53-22d9-45f6-a39c-3e044593984d",
   "metadata": {},
   "outputs": [],
   "source": [
    "device_relations = concept_relationship.query(\"concept_id_1==@devices_ids&concept_id_2==@devices_ids\")[[\"concept_id_1\", \"relationship_id\", \"concept_id_2\"]]"
   ]
  },
  {
   "cell_type": "code",
   "execution_count": null,
   "id": "1c1ae2b2-67c8-40ba-bf3d-71beab43cdcc",
   "metadata": {},
   "outputs": [],
   "source": [
    "device_relations = device_relations.merge(devices1).merge(devices2)[devices1.columns.to_list()+[\"relationship_id\"] + devices2.columns.to_list()].query(\"concept_id_1!=concept_id_2\")"
   ]
  },
  {
   "cell_type": "code",
   "execution_count": null,
   "id": "07de864a-4e94-4142-b740-4af6f03016f9",
   "metadata": {},
   "outputs": [],
   "source": [
    "import networkx as nx\n",
    "from tqdm.auto import tqdm"
   ]
  },
  {
   "cell_type": "code",
   "execution_count": null,
   "id": "d7ba0617-e22c-47d1-9a82-cf63b2910834",
   "metadata": {},
   "outputs": [],
   "source": [
    "nodes = devices#.set_index(\"concept_id\")#.to_dict(orient=\"index\")\n",
    "edges = device_relations[[\"concept_id_1\", \"relationship_id\", \"concept_id_2\"]].rename(columns={\"concept_id_1\":\"from\", \"concept_id_2\": \"to\"})#.reset_index(drop=True).to_dict(orient=\"index\")"
   ]
  },
  {
   "cell_type": "code",
   "execution_count": null,
   "id": "148a8db7-9e48-41cb-ac6b-1c8abfbbf86d",
   "metadata": {
    "tags": []
   },
   "outputs": [],
   "source": [
    "nodes.head()"
   ]
  },
  {
   "cell_type": "code",
   "execution_count": null,
   "id": "452216d0-5d41-4e6a-9f46-c2bc0a6d0de5",
   "metadata": {
    "tags": []
   },
   "outputs": [],
   "source": [
    "edges.head()"
   ]
  },
  {
   "cell_type": "code",
   "execution_count": null,
   "id": "c45fcc7f-0a25-4daf-860f-a90534e656e4",
   "metadata": {},
   "outputs": [],
   "source": [
    "target_nodes = [node for node in tqdm(target_nodes) if node not in start_nodes]"
   ]
  },
  {
   "cell_type": "code",
   "execution_count": null,
   "id": "1cbf5664-459c-4c01-93a3-73274c207b19",
   "metadata": {},
   "outputs": [],
   "source": [
    "start_nodes = [node for node in tqdm(start_nodes) if node not in target_nodes]"
   ]
  },
  {
   "cell_type": "code",
   "execution_count": null,
   "id": "c07e0f62-d3e6-4326-894b-0e4c8a7ec786",
   "metadata": {
    "tags": []
   },
   "outputs": [],
   "source": [
    "# add dummy node:\n",
    "dummy_edges = pd.DataFrame(target_nodes, columns=['from'])\n",
    "dummy_edges['to'] = 'DUMMYOUT'\n",
    "dummy_edges['relationship_id'] = 'dummy out'\n",
    "\n",
    "dummy_edges_in = pd.DataFrame(start_nodes, columns=['to'])\n",
    "dummy_edges_in['from'] = 'DUMMYIN'\n",
    "dummy_edges_in['relationship_id'] = 'dummy in'\n",
    "\n",
    "edges = pd.concat([edges, dummy_edges, dummy_edges_in], axis=0)"
   ]
  },
  {
   "cell_type": "code",
   "execution_count": null,
   "id": "545df591-0f96-484e-a729-f9055033293f",
   "metadata": {
    "tags": []
   },
   "outputs": [],
   "source": [
    "G = nx.from_pandas_edgelist(edges, 'from', 'to', edge_attr=['relationship_id'], create_using=nx.DiGraph)\n",
    "node_attribute_dict = nodes.set_index('concept_id').to_dict('index')\n",
    "nx.set_node_attributes(G, node_attribute_dict)"
   ]
  },
  {
   "cell_type": "code",
   "execution_count": null,
   "id": "cdd652a5-6070-488c-a89e-4d094900ca69",
   "metadata": {},
   "outputs": [],
   "source": [
    "nx.info(G)"
   ]
  },
  {
   "cell_type": "code",
   "execution_count": null,
   "id": "f1d711c2-91cd-43b1-8467-dfda8cd5bd72",
   "metadata": {
    "tags": []
   },
   "outputs": [],
   "source": [
    "paths = [p for p in nx.all_simple_paths(G,\n",
    "                                        source='DUMMYIN',\n",
    "                                        target='DUMMYOUT',\n",
    "                                        cutoff=3)]"
   ]
  },
  {
   "cell_type": "code",
   "execution_count": null,
   "id": "2932e8fc-d634-4dc1-8099-c1a4168e6b14",
   "metadata": {},
   "outputs": [],
   "source": [
    "paths"
   ]
  },
  {
   "cell_type": "code",
   "execution_count": null,
   "id": "5c53936a-cae0-4096-9120-6ed67f14eebc",
   "metadata": {
    "tags": []
   },
   "outputs": [],
   "source": [
    "paths_df = pd.DataFrame([[p[1] for p in paths],  \n",
    "                         paths[1:-1],\n",
    "                         [len(p) for p in paths],  \n",
    "                         [p[-2] for p in paths]],  \n",
    "                         index=['source_concept_id', \n",
    "                               'full_path',\n",
    "                               'length',\n",
    "                               'target_concept_id']).transpose().reset_index()"
   ]
  },
  {
   "cell_type": "code",
   "execution_count": null,
   "id": "33a144eb-05bf-49cb-a20a-170d642544df",
   "metadata": {
    "tags": []
   },
   "outputs": [],
   "source": [
    "paths_df_clean = paths_df.set_index('index')\n",
    "paths_df_clean['length_no_dummy'] = paths_df_clean['length'] - 2"
   ]
  },
  {
   "cell_type": "code",
   "execution_count": null,
   "id": "b8c9ee53-3bec-45a9-9ac5-d173a3955e52",
   "metadata": {
    "tags": []
   },
   "outputs": [],
   "source": [
    "paths_df_clean.reindex().head()"
   ]
  },
  {
   "cell_type": "code",
   "execution_count": null,
   "id": "d561bdec-fef6-42d1-90fc-8cd1e9af52cc",
   "metadata": {
    "tags": []
   },
   "outputs": [],
   "source": [
    "paths_df_clean.reset_index().to_feather(f'{out_path}/all_paths_210322.feather')"
   ]
  },
  {
   "cell_type": "code",
   "execution_count": null,
   "id": "09a98597-fe0a-4961-8465-ac2cf47ac15c",
   "metadata": {
    "tags": []
   },
   "outputs": [],
   "source": [
    "# drop duplicate source/target pairs\n",
    "paths_df_clean = paths_df_clean.drop_duplicates(subset=['source_concept_id',\n",
    "                                       'target_concept_id'],\n",
    "                               keep='first').reset_index().drop('index', axis=1)\n"
   ]
  },
  {
   "cell_type": "code",
   "execution_count": null,
   "id": "9d890cde-bb09-412e-8b0c-dc73edec32fe",
   "metadata": {
    "tags": []
   },
   "outputs": [],
   "source": [
    "paths_df_clean.head()"
   ]
  },
  {
   "cell_type": "code",
   "execution_count": null,
   "id": "9fc0e72e-bf18-42c0-88e6-6ba4934de6c5",
   "metadata": {
    "tags": []
   },
   "outputs": [],
   "source": [
    "# drop source concepts that are ingredients -> only allow self reference!\n",
    "all_ingredients = concept.query('concept_class_id==\"Ingredient\"')\n",
    "all_ingredients.head()\n"
   ]
  },
  {
   "cell_type": "code",
   "execution_count": null,
   "id": "484e81a8-09fa-4f62-8cb0-05fafea06879",
   "metadata": {
    "tags": []
   },
   "outputs": [],
   "source": [
    "# left join the concepts and clean up:\n",
    "temp = paths_df_clean.rename({'target_concept_id': 'concept_id'}, axis=1).drop('full_path', axis=1)\n",
    "for c in temp.columns:\n",
    "    temp[c] = pd.to_numeric(temp[c], errors='ignore')\n",
    "                    \n",
    "paths_with_ingredient_info = pd.merge(temp,\n",
    "                                      all_ingredients,\n",
    "                                      on='concept_id',how='left')\n",
    "\n",
    "paths_with_ingredient_info.head()"
   ]
  },
  {
   "cell_type": "code",
   "execution_count": null,
   "id": "80a7f85d-2b48-46ec-876a-f83b4f1af6a1",
   "metadata": {
    "tags": []
   },
   "outputs": [],
   "source": [
    "# get source concepts that are ingredients:\n",
    "og_ingredients = list(set(all_ingredients.concept_id.values.tolist()).intersection(\n",
    "    set(paths_with_ingredient_info.source_concept_id.values.tolist())))\n",
    "\n",
    "other_paths = paths_with_ingredient_info.query('source_concept_id!=@og_ingredients')\n",
    "ingredient_source_paths = paths_with_ingredient_info.query('source_concept_id==@og_ingredients').query('source_concept_id==concept_id')\n",
    "ingredient_source_paths.head()"
   ]
  },
  {
   "cell_type": "code",
   "execution_count": null,
   "id": "78223529-db1a-47e4-bff5-a0593a10a5f0",
   "metadata": {
    "tags": []
   },
   "outputs": [],
   "source": [
    "all_paths_clean = pd.concat([ingredient_source_paths, other_paths], axis=0).reset_index().drop('index', axis=1)\n",
    "all_paths_clean.head()"
   ]
  },
  {
   "cell_type": "code",
   "execution_count": null,
   "id": "7c5bd899-31c3-48fd-bed0-24ca57c30c9f",
   "metadata": {
    "tags": []
   },
   "outputs": [],
   "source": [
    "# convert to numeric what is possible:\n",
    "for c in all_paths_clean.columns:\n",
    "    all_paths_clean[c] = pd.to_numeric(all_paths_clean[c], errors='ignore')\n",
    "\n",
    "all_paths_clean.to_feather(\n",
    "    f'{out_path}/clean_paths_210322.feather')"
   ]
  }
 ],
 "metadata": {
  "kernelspec": {
   "display_name": "Python [conda env:ehrgraphs]",
   "language": "python",
   "name": "conda-env-ehrgraphs-py"
  },
  "language_info": {
   "codemirror_mode": {
    "name": "ipython",
    "version": 3
   },
   "file_extension": ".py",
   "mimetype": "text/x-python",
   "name": "python",
   "nbconvert_exporter": "python",
   "pygments_lexer": "ipython3",
   "version": "3.9.7"
  }
 },
 "nbformat": 4,
 "nbformat_minor": 5
}
