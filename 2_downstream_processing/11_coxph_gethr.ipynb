{
 "cells": [
  {
   "cell_type": "markdown",
   "metadata": {},
   "source": [
    "# Benchmarks"
   ]
  },
  {
   "cell_type": "markdown",
   "metadata": {},
   "source": [
    "## Initialize"
   ]
  },
  {
   "cell_type": "code",
   "execution_count": null,
   "metadata": {
    "execution": {
     "iopub.execute_input": "2023-05-10T09:01:34.949471Z",
     "iopub.status.busy": "2023-05-10T09:01:34.948890Z",
     "iopub.status.idle": "2023-05-10T09:01:34.952319Z",
     "shell.execute_reply": "2023-05-10T09:01:34.951875Z",
     "shell.execute_reply.started": "2023-05-10T09:01:34.949439Z"
    },
    "tags": []
   },
   "outputs": [],
   "source": [
    "import os\n",
    "import math\n",
    "import pathlib\n",
    "import numpy as np\n",
    "import pandas as pd\n",
    "from tqdm.auto import tqdm\n",
    "from IPython.display import clear_output\n",
    "\n",
    "import warnings\n",
    "from lifelines.utils import CensoringType\n",
    "from lifelines.utils import concordance_index"
   ]
  },
  {
   "cell_type": "code",
   "execution_count": null,
   "metadata": {
    "execution": {
     "iopub.execute_input": "2023-05-10T09:01:35.187980Z",
     "iopub.status.busy": "2023-05-10T09:01:35.187569Z",
     "iopub.status.idle": "2023-05-10T09:01:35.201200Z",
     "shell.execute_reply": "2023-05-10T09:01:35.200578Z",
     "shell.execute_reply.started": "2023-05-10T09:01:35.187964Z"
    },
    "tags": []
   },
   "outputs": [],
   "source": [
    "node = !hostname\n",
    "if \"sc\" in node[0]:\n",
    "    base_path = \"/sc-projects/sc-proj-ukb-cvd\"\n",
    "else: \n",
    "    base_path = \"/data/analysis/ag-reils/ag-reils-shared/cardioRS\"\n",
    "print(base_path)\n",
    "\n",
    "project_label = \"22_medical_records\"\n",
    "project_path = f\"{base_path}/results/projects/{project_label}\"\n",
    "figure_path = f\"{project_path}/figures\"\n",
    "output_path = f\"{project_path}/data\"\n",
    "\n",
    "experiment = 230425\n",
    "experiment_path = f\"{output_path}/{experiment}\"\n",
    "pathlib.Path(experiment_path).mkdir(parents=True, exist_ok=True)"
   ]
  },
  {
   "cell_type": "code",
   "execution_count": null,
   "metadata": {
    "execution": {
     "iopub.execute_input": "2023-05-10T09:01:35.529652Z",
     "iopub.status.busy": "2023-05-10T09:01:35.529208Z",
     "iopub.status.idle": "2023-05-10T09:01:35.549436Z",
     "shell.execute_reply": "2023-05-10T09:01:35.548974Z",
     "shell.execute_reply.started": "2023-05-10T09:01:35.529632Z"
    },
    "tags": []
   },
   "outputs": [],
   "source": [
    "endpoints_md = pd.read_csv(f\"{experiment_path}/endpoints.csv\")\n",
    "endpoints = sorted(endpoints_md.endpoint.to_list())"
   ]
  },
  {
   "cell_type": "code",
   "execution_count": null,
   "metadata": {
    "execution": {
     "iopub.execute_input": "2023-05-10T09:01:35.873800Z",
     "iopub.status.busy": "2023-05-10T09:01:35.873404Z",
     "iopub.status.idle": "2023-05-10T09:01:35.876107Z",
     "shell.execute_reply": "2023-05-10T09:01:35.875661Z",
     "shell.execute_reply.started": "2023-05-10T09:01:35.873783Z"
    },
    "tags": []
   },
   "outputs": [],
   "source": [
    "partitions = [p for p in range(0, 22)]\n",
    "splits = [\"train\", \"valid\", \"test\"]"
   ]
  },
  {
   "cell_type": "code",
   "execution_count": null,
   "metadata": {
    "execution": {
     "iopub.execute_input": "2023-05-10T09:01:36.169193Z",
     "iopub.status.busy": "2023-05-10T09:01:36.168846Z",
     "iopub.status.idle": "2023-05-10T09:01:36.208608Z",
     "shell.execute_reply": "2023-05-10T09:01:36.208015Z",
     "shell.execute_reply.started": "2023-05-10T09:01:36.169177Z"
    },
    "tags": []
   },
   "outputs": [],
   "source": [
    "endpoint_defs = pd.read_feather(f\"{output_path}/phecode_defs_220306.feather\").query(\"endpoint==@endpoints\").sort_values(\"endpoint\").set_index(\"endpoint\")"
   ]
  },
  {
   "cell_type": "code",
   "execution_count": null,
   "metadata": {
    "execution": {
     "iopub.execute_input": "2023-05-10T09:01:36.716298Z",
     "iopub.status.busy": "2023-05-10T09:01:36.715727Z",
     "iopub.status.idle": "2023-05-10T09:02:00.746924Z",
     "shell.execute_reply": "2023-05-10T09:02:00.746268Z",
     "shell.execute_reply.started": "2023-05-10T09:01:36.716279Z"
    },
    "tags": []
   },
   "outputs": [],
   "source": [
    "eligable_eids = pd.read_feather(f\"{output_path}/eligable_eids_220627.feather\")\n",
    "eids_dict = eligable_eids.set_index(\"endpoint\")[\"eid_list\"].to_dict()"
   ]
  },
  {
   "cell_type": "code",
   "execution_count": null,
   "metadata": {
    "execution": {
     "iopub.execute_input": "2023-05-10T09:02:00.748402Z",
     "iopub.status.busy": "2023-05-10T09:02:00.748085Z",
     "iopub.status.idle": "2023-05-10T09:02:00.752475Z",
     "shell.execute_reply": "2023-05-10T09:02:00.751996Z",
     "shell.execute_reply.started": "2023-05-10T09:02:00.748384Z"
    },
    "tags": []
   },
   "outputs": [],
   "source": [
    "%env MKL_NUM_THREADS=1\n",
    "%env NUMEXPR_NUM_THREADS=2\n",
    "%env OMP_NUM_THREADS=1"
   ]
  },
  {
   "cell_type": "code",
   "execution_count": null,
   "metadata": {},
   "outputs": [],
   "source": [
    "ray.shutdown()"
   ]
  },
  {
   "cell_type": "code",
   "execution_count": null,
   "metadata": {
    "execution": {
     "iopub.execute_input": "2023-05-10T09:02:00.753367Z",
     "iopub.status.busy": "2023-05-10T09:02:00.753083Z",
     "iopub.status.idle": "2023-05-10T09:02:30.863987Z",
     "shell.execute_reply": "2023-05-10T09:02:30.863344Z",
     "shell.execute_reply.started": "2023-05-10T09:02:00.753352Z"
    },
    "tags": []
   },
   "outputs": [],
   "source": [
    "import ray\n",
    "\n",
    "#ray.init(address=\"auto\")#, dashboard_port=24762, dashboard_host=\"0.0.0.0\", include_dashboard=True)#, webui_url=\"0.0.0.0\"))\n",
    "ray.init(num_cpus=24)"
   ]
  },
  {
   "cell_type": "markdown",
   "metadata": {},
   "source": [
    "# Train COX"
   ]
  },
  {
   "cell_type": "code",
   "execution_count": null,
   "metadata": {
    "execution": {
     "iopub.execute_input": "2023-05-10T09:02:30.866287Z",
     "iopub.status.busy": "2023-05-10T09:02:30.865524Z",
     "iopub.status.idle": "2023-05-10T09:02:30.872358Z",
     "shell.execute_reply": "2023-05-10T09:02:30.871894Z",
     "shell.execute_reply.started": "2023-05-10T09:02:30.866266Z"
    },
    "tags": []
   },
   "outputs": [],
   "source": [
    "in_path = pathlib.Path(f\"{experiment_path}/coxph/input\")\n",
    "model_path = f\"{experiment_path}/coxph/models\"\n",
    "\n",
    "out_path = f\"{experiment_path}/coxph/predictions\"\n",
    "pathlib.Path(out_path).mkdir(parents=True, exist_ok=True)"
   ]
  },
  {
   "cell_type": "code",
   "execution_count": null,
   "metadata": {
    "execution": {
     "iopub.execute_input": "2023-05-10T09:02:30.873349Z",
     "iopub.status.busy": "2023-05-10T09:02:30.872996Z",
     "iopub.status.idle": "2023-05-10T09:02:30.885678Z",
     "shell.execute_reply": "2023-05-10T09:02:30.885230Z",
     "shell.execute_reply.started": "2023-05-10T09:02:30.873332Z"
    },
    "tags": []
   },
   "outputs": [],
   "source": [
    "import pickle\n",
    "import zstandard\n",
    "\n",
    "def load_pickle(fp):\n",
    "    with open(fp, \"rb\") as fh:\n",
    "        dctx = zstandard.ZstdDecompressor()\n",
    "        with dctx.stream_reader(fh) as decompressor:\n",
    "            data = pickle.loads(decompressor.read())\n",
    "    return data"
   ]
  },
  {
   "cell_type": "code",
   "execution_count": null,
   "metadata": {
    "execution": {
     "iopub.execute_input": "2023-05-10T09:02:30.886676Z",
     "iopub.status.busy": "2023-05-10T09:02:30.886299Z",
     "iopub.status.idle": "2023-05-10T09:02:43.366912Z",
     "shell.execute_reply": "2023-05-10T09:02:43.366304Z",
     "shell.execute_reply.started": "2023-05-10T09:02:30.886661Z"
    },
    "tags": []
   },
   "outputs": [],
   "source": [
    "cox_paths = !ls $model_path\n",
    "cox_paths = [p for p in cox_paths if \"_MedicalHistory\" in p or \"+MedicalHistory\" in p or \"I(\" in p]\n",
    "cox = pd.Series(cox_paths).str.split(\"_\", expand=True)\\\n",
    "    .assign(path = cox_paths)\\\n",
    "    .assign(endpoint = lambda x: x[0]+\"_\"+x[1])\\\n",
    "    .assign(score = lambda x: x[2])\\\n",
    "    .assign(partition = lambda x: x[3].str.replace(\".p\", \"\", regex=True).astype(int))\\\n",
    "    [[\"endpoint\", \"score\", \"partition\", \"path\"]].sort_values([\"endpoint\", \"score\", \"partition\"])\\\n",
    "    .query(\"endpoint ==@ endpoints\")\\\n",
    "    .reset_index(drop=True)\n",
    "cox"
   ]
  },
  {
   "cell_type": "raw",
   "metadata": {
    "execution": {
     "iopub.execute_input": "2022-04-21T12:03:31.795593Z",
     "iopub.status.busy": "2022-04-21T12:03:31.795400Z",
     "iopub.status.idle": "2022-04-21T12:03:31.801297Z",
     "shell.execute_reply": "2022-04-21T12:03:31.800939Z",
     "shell.execute_reply.started": "2022-04-21T12:03:31.795581Z"
    },
    "tags": []
   },
   "source": [
    "cox = cox.query(\"endpoint == 'phecode_101-8'\")#&score=='Age+Sex+MedicalHistory+I(Age*MH)'\")"
   ]
  },
  {
   "cell_type": "code",
   "execution_count": null,
   "metadata": {
    "execution": {
     "iopub.execute_input": "2023-05-10T09:02:43.367997Z",
     "iopub.status.busy": "2023-05-10T09:02:43.367705Z",
     "iopub.status.idle": "2023-05-10T09:02:43.419174Z",
     "shell.execute_reply": "2023-05-10T09:02:43.418506Z",
     "shell.execute_reply.started": "2023-05-10T09:02:43.367979Z"
    },
    "tags": []
   },
   "outputs": [],
   "source": [
    "#endpoints = sorted(cox.endpoint.unique().tolist())\n",
    "scores = sorted(cox.score.unique().tolist())\n",
    "partitions = sorted(cox.partition.unique().tolist())"
   ]
  },
  {
   "cell_type": "code",
   "execution_count": null,
   "metadata": {
    "execution": {
     "iopub.execute_input": "2023-05-10T09:02:43.420328Z",
     "iopub.status.busy": "2023-05-10T09:02:43.420011Z",
     "iopub.status.idle": "2023-05-10T09:02:43.425517Z",
     "shell.execute_reply": "2023-05-10T09:02:43.425053Z",
     "shell.execute_reply.started": "2023-05-10T09:02:43.420311Z"
    },
    "tags": []
   },
   "outputs": [],
   "source": [
    "import ray\n",
    "\n",
    "@ray.remote\n",
    "def get_cox_info(p):\n",
    "    cph = load_pickle(f\"{model_path}/{p}\")\n",
    "    p_split = p.split(\"_\")\n",
    "    endpoint = f\"{p_split[0]}_{p_split[1]}\"\n",
    "    score = p_split[2]\n",
    "    partition = p_split[3][:-2]\n",
    "    hrs = cph.hazard_ratios_.to_dict()\n",
    "    \n",
    "    if score==\"Age+Sex+MedicalHistory+I(Age*MH)\":\n",
    "        hr_mh = hrs[endpoint.replace(\"-\", \"\")]\n",
    "        \n",
    "        key_int_age = [k for k in hrs if \"age_at_recruitment_f21022_0_0\" in k and endpoint.replace(\"-\", \"\") in k][0]\n",
    "        hr_mh_age = hrs[key_int_age]\n",
    "        \n",
    "        try:\n",
    "            key_int_sex = [k for k in hrs if \"sex_f31_0_0\" in k and endpoint.replace(\"-\", \"\") in k][0]\n",
    "            hr_mh_sex = hrs[key_int_sex]\n",
    "        except:\n",
    "            hr_mh_sex = np.nan\n",
    "    else:\n",
    "        hr_mh = hrs[endpoint] \n",
    "        hr_mh_age = np.nan\n",
    "        hr_mh_sex = np.nan\n",
    "        \n",
    "    return {\"endpoint\": endpoint, \"score\": score, \"partition\": partition, \"hrs\": hrs, \n",
    "            \"hrs_mh\": hr_mh, \n",
    "            \"hrs_mh_age\": hr_mh_age, \n",
    "            \"hrs_mh_sex\": hr_mh_sex\n",
    "           }"
   ]
  },
  {
   "cell_type": "code",
   "execution_count": null,
   "metadata": {
    "execution": {
     "iopub.execute_input": "2023-05-10T09:02:43.426480Z",
     "iopub.status.busy": "2023-05-10T09:02:43.426121Z",
     "iopub.status.idle": "2023-05-10T09:03:16.300358Z",
     "shell.execute_reply": "2023-05-10T09:03:16.299796Z",
     "shell.execute_reply.started": "2023-05-10T09:02:43.426464Z"
    },
    "tags": []
   },
   "outputs": [],
   "source": [
    "rows = []\n",
    "\n",
    "for p in tqdm(cox.path.tolist()):\n",
    "    rows.append(get_cox_info.remote(p))"
   ]
  },
  {
   "cell_type": "code",
   "execution_count": null,
   "metadata": {
    "execution": {
     "iopub.execute_input": "2023-05-10T09:03:16.302199Z",
     "iopub.status.busy": "2023-05-10T09:03:16.301912Z",
     "iopub.status.idle": "2023-05-10T09:36:58.242576Z",
     "shell.execute_reply": "2023-05-10T09:36:58.241644Z",
     "shell.execute_reply.started": "2023-05-10T09:03:16.302182Z"
    },
    "tags": []
   },
   "outputs": [],
   "source": [
    "rows = [ray.get(r) for r in tqdm(rows)]"
   ]
  },
  {
   "cell_type": "code",
   "execution_count": null,
   "metadata": {
    "execution": {
     "iopub.execute_input": "2023-05-10T09:36:58.244251Z",
     "iopub.status.busy": "2023-05-10T09:36:58.243870Z",
     "iopub.status.idle": "2023-05-10T09:36:58.990552Z",
     "shell.execute_reply": "2023-05-10T09:36:58.989681Z",
     "shell.execute_reply.started": "2023-05-10T09:36:58.244227Z"
    },
    "tags": []
   },
   "outputs": [],
   "source": [
    "hrs_endpoints = pd.DataFrame(rows)"
   ]
  },
  {
   "cell_type": "code",
   "execution_count": null,
   "metadata": {
    "execution": {
     "iopub.execute_input": "2023-05-10T09:36:58.992075Z",
     "iopub.status.busy": "2023-05-10T09:36:58.991625Z",
     "iopub.status.idle": "2023-05-10T09:37:37.720348Z",
     "shell.execute_reply": "2023-05-10T09:37:37.718626Z",
     "shell.execute_reply.started": "2023-05-10T09:36:58.992054Z"
    },
    "tags": []
   },
   "outputs": [],
   "source": [
    "name = f\"hrs_endpoints\"\n",
    "hrs_endpoints.to_feather(f\"{experiment_path}/{name}.feather\")"
   ]
  },
  {
   "cell_type": "code",
   "execution_count": null,
   "metadata": {
    "execution": {
     "iopub.execute_input": "2023-05-05T07:46:08.755471Z",
     "iopub.status.busy": "2023-05-05T07:46:08.755104Z",
     "iopub.status.idle": "2023-05-05T07:46:09.367111Z",
     "shell.execute_reply": "2023-05-05T07:46:09.366340Z",
     "shell.execute_reply.started": "2023-05-05T07:46:08.755453Z"
    },
    "tags": []
   },
   "outputs": [],
   "source": [
    "!df"
   ]
  },
  {
   "cell_type": "code",
   "execution_count": null,
   "metadata": {
    "execution": {
     "iopub.execute_input": "2023-05-04T16:11:38.692443Z",
     "iopub.status.busy": "2023-05-04T16:11:38.692118Z",
     "iopub.status.idle": "2023-05-04T16:11:38.696505Z",
     "shell.execute_reply": "2023-05-04T16:11:38.696001Z",
     "shell.execute_reply.started": "2023-05-04T16:11:38.692420Z"
    },
    "tags": []
   },
   "outputs": [],
   "source": [
    "1+1"
   ]
  }
 ],
 "metadata": {
  "kernelspec": {
   "display_name": "Python [conda env:udm]",
   "language": "python",
   "name": "conda-env-udm-py"
  },
  "language_info": {
   "codemirror_mode": {
    "name": "ipython",
    "version": 3
   },
   "file_extension": ".py",
   "mimetype": "text/x-python",
   "name": "python",
   "nbconvert_exporter": "python",
   "pygments_lexer": "ipython3",
   "version": "3.10.9"
  },
  "toc-autonumbering": false
 },
 "nbformat": 4,
 "nbformat_minor": 4
}
