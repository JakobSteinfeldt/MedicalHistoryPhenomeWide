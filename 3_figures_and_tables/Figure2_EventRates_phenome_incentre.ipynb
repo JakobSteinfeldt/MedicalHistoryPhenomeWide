{
 "cells": [
  {
   "cell_type": "markdown",
   "metadata": {},
   "source": [
    "# Benchmarks"
   ]
  },
  {
   "cell_type": "markdown",
   "metadata": {},
   "source": [
    "## Initialize"
   ]
  },
  {
   "cell_type": "code",
   "execution_count": null,
   "metadata": {
    "ExecuteTime": {
     "end_time": "2021-01-05T11:03:09.852316Z",
     "start_time": "2021-01-05T11:03:07.701Z"
    },
    "execution": {
     "iopub.execute_input": "2023-05-04T07:01:45.601371Z",
     "iopub.status.busy": "2023-05-04T07:01:45.598829Z",
     "iopub.status.idle": "2023-05-04T07:01:50.559370Z",
     "shell.execute_reply": "2023-05-04T07:01:50.557812Z"
    },
    "tags": []
   },
   "outputs": [],
   "source": [
    "#library(Rmisc)\n",
    "library(dtplyr)\n",
    "library(tidyverse)\n",
    "library(glue)\n",
    "library(arrow)\n",
    "library(patchwork)\n",
    "library(data.table)\n",
    "library(\"jsonlite\")\n",
    "library(ggthemes)"
   ]
  },
  {
   "cell_type": "code",
   "execution_count": null,
   "metadata": {
    "ExecuteTime": {
     "end_time": "2021-01-05T11:03:10.491477Z",
     "start_time": "2021-01-05T11:03:10.445Z"
    },
    "execution": {
     "iopub.execute_input": "2023-05-04T07:01:50.595785Z",
     "iopub.status.busy": "2023-05-04T07:01:50.561328Z",
     "iopub.status.idle": "2023-05-04T07:01:50.620368Z",
     "shell.execute_reply": "2023-05-04T07:01:50.618242Z"
    },
    "tags": []
   },
   "outputs": [],
   "source": [
    "if (grepl(\"sc\", Sys.info()[[\"nodename\"]], fixed=TRUE)) {\n",
    "    base_path = \"/sc-projects/sc-proj-ukb-cvd\"\n",
    "} else {\n",
    "    base_path = \"/data/analysis/ag-reils/ag-reils-shared/cardioRS\"}\n",
    "print(base_path)\n",
    "\n",
    "project_label=\"22_medical_records\"\n",
    "project_path = glue(\"{base_path}/results/projects/{project_label}\")\n",
    "figure_path = glue(\"{project_path}/figures\")\n",
    "output_path = glue(\"{project_path}/data\")\n",
    "\n",
    "experiment = 230425\n",
    "experiment_path = glue(\"{output_path}/{experiment}\")"
   ]
  },
  {
   "cell_type": "code",
   "execution_count": null,
   "metadata": {
    "execution": {
     "iopub.execute_input": "2023-05-04T07:01:50.624397Z",
     "iopub.status.busy": "2023-05-04T07:01:50.622974Z",
     "iopub.status.idle": "2023-05-04T07:01:50.637336Z",
     "shell.execute_reply": "2023-05-04T07:01:50.635635Z"
    },
    "tags": []
   },
   "outputs": [],
   "source": [
    "library(data.table)\n",
    "library(arrow)"
   ]
  },
  {
   "cell_type": "code",
   "execution_count": null,
   "metadata": {
    "execution": {
     "iopub.execute_input": "2023-05-04T07:01:50.640268Z",
     "iopub.status.busy": "2023-05-04T07:01:50.639317Z",
     "iopub.status.idle": "2023-05-04T07:01:50.755871Z",
     "shell.execute_reply": "2023-05-04T07:01:50.754338Z"
    },
    "tags": []
   },
   "outputs": [],
   "source": [
    "endpoints_md = fread(glue(\"{experiment_path}/endpoints.csv\"), colClasses=c(\"phecode\"=\"character\"))\n",
    "endpoints = sort(endpoints_md$endpoint)"
   ]
  },
  {
   "cell_type": "code",
   "execution_count": null,
   "metadata": {
    "execution": {
     "iopub.execute_input": "2023-05-04T07:01:50.759020Z",
     "iopub.status.busy": "2023-05-04T07:01:50.757731Z",
     "iopub.status.idle": "2023-05-04T07:01:52.053970Z",
     "shell.execute_reply": "2023-05-04T07:01:52.052583Z"
    },
    "tags": []
   },
   "outputs": [],
   "source": [
    "endpoint_defs = arrow::read_feather(glue(\"{output_path}/phecode_defs_220306.feather\")) %>% arrange(endpoint)"
   ]
  },
  {
   "cell_type": "code",
   "execution_count": null,
   "metadata": {
    "execution": {
     "iopub.execute_input": "2023-05-04T07:01:52.056458Z",
     "iopub.status.busy": "2023-05-04T07:01:52.055581Z",
     "iopub.status.idle": "2023-05-04T07:01:52.088485Z",
     "shell.execute_reply": "2023-05-04T07:01:52.087151Z"
    },
    "tags": []
   },
   "outputs": [],
   "source": [
    "endpoint_selection = c(\n",
    "    \n",
    "   'phecode_401', #  \"Hypertension\", # intervention\n",
    "    'phecode_202', #  \"Diabetes mellitus\", # intervention\n",
    "    'phecode_416-21', #  \"Atrial fibrillation\", # intervention\n",
    "    'phecode_468', #  \"Pneumonia\", # intervention\n",
    "    'phecode_474', #  \"Chronic obstructive pulmonary disease [COPD]\", # interventio\n",
    "    'phecode_583', #  \"Chronic kidney disease\", # intervention\n",
    "    \n",
    "    'phecode_404', #  \"Ischemic heart disease\",\n",
    "    'phecode_404-1', #  \"Myocardial infarction [Heart attack]\", # intervention\n",
    "    'phecode_431-11', #  \"Cerebral infarction [Ischemic stroke]\",\n",
    "    'phecode_424', #  \"Heart failure\", # intervention\n",
    "    'phecode_420', #  \"Cardiac arrest\", # intervention\n",
    "    'OMOP_4306655', #  \"All-Cause Death\", # intervention\n",
    "    \n",
    "    'phecode_438-11',   #  \"Abdominal aortic aneurysm\",\n",
    "    'phecode_440-3',#  \"Pulmonary embolism\", # intervention\n",
    "    'phecode_413-21',#  \"Aortic stenosis\", # intervention\n",
    "    'phecode_413-11', #  \"Mitral valve insufficiency\",\n",
    "    'phecode_410-2',#  \"Endocarditis\",\n",
    "    'phecode_400',#  \"Rheumatic fever and chronic rheumatic heart diseases\",\t\n",
    "    \n",
    "    'phecode_164', #  \"Anemia\", # intervention\n",
    "    'phecode_718',  #  \"Back pain\", # intervention\n",
    "    'phecode_324-11', #  \"Parkinson's disease (Primary)\",\n",
    "    'phecode_705-1', #  \"Rheumatoid arthritis\", # NEW + interventio\n",
    "    'phecode_665', #  \"Psoriasis\", # interesting\n",
    "    'phecode_284'#  \"Suicide ideation and attempt or self harm\" # intervention\n",
    ")\n",
    "\n",
    "endpoints_common = c(\n",
    "    'phecode_401', #  \"Hypertension\", # intervention\n",
    "    'phecode_202', #  \"Diabetes mellitus\", # intervention\n",
    "    'phecode_416-21', #  \"Atrial fibrillation\", # intervention\n",
    "    'phecode_468', #  \"Pneumonia\", # intervention\n",
    "    'phecode_474', #  \"Chronic obstructive pulmonary disease [COPD]\", # interventio\n",
    "    'phecode_583', #  \"Chronic kidney disease\", # intervention\n",
    "    \n",
    "    'phecode_404', #  \"Ischemic heart disease\",\n",
    "    'phecode_404-1', #  \"Myocardial infarction [Heart attack]\", # intervention\n",
    "    'phecode_431-11', #  \"Cerebral infarction [Ischemic stroke]\",\n",
    "    'phecode_424', #  \"Heart failure\", # intervention\n",
    "    'phecode_420', #  \"Cardiac arrest\", # intervention\n",
    "    'OMOP_4306655' #  \"All-Cause Death\", # intervention)\n",
    "    )\n",
    "    \n",
    "endpoints_cardio = c(\n",
    "    'phecode_438-11',   #  \"Abdominal aortic aneurysm\",\n",
    "    'phecode_440-3',#  \"Pulmonary embolism\", # intervention\n",
    "    'phecode_413-21',#  \"Aortic stenosis\", # intervention\n",
    "    'phecode_413-11', #  \"Mitral valve insufficiency\",\n",
    "    'phecode_410-2',#  \"Endocarditis\",\n",
    "    'phecode_400'#  \"Rheumatic fever and chronic rheumatic heart diseases\",\t\n",
    ")\n",
    "\n",
    "endpoints_interesting = c(\n",
    "    'phecode_164', #  \"Anemia\", # intervention\n",
    "    'phecode_718',  #  \"Back pain\", # intervention\n",
    "    'phecode_324-11', #  \"Parkinson's disease (Primary)\",\n",
    "    'phecode_705-1', #  \"Rheumatoid arthritis\", # NEW + interventio\n",
    "    'phecode_665', #  \"Psoriasis\", # interesting\n",
    "    'phecode_284'#  \"Suicide ideation and attempt or self harm\" # intervention\n",
    ")\n",
    "\n",
    "endpoint_defs = endpoint_defs %>% \n",
    "    mutate(name = phecode_string) %>%\n",
    "    mutate(name = \n",
    "           case_when( \n",
    "               phecode_string == \"Myocardial infarction [Heart attack]\"~\"Myocardial infarction\",\n",
    "               phecode_string == \"Cerebral infarction [Ischemic stroke]\"~\"Ischemic stroke\",\n",
    "               phecode_string == \"Chronic obstructive pulmonary disease [COPD]\"~\"Chronic obstructive pulmonary disease\",\n",
    "               phecode_string == \"Mitral valve insufficiency\"~\"Mitral insufficiency\",\n",
    "               phecode_string == \"Parkinson's disease (Primary)\"~\"Parkinson's disease\",\n",
    "               phecode_string == \"Suicide ideation and attempt or self harm\"~\"Suicide attempt\",\n",
    "               phecode_string == \"Ischemic heart disease\"~\"Ischemic heart disease\",\n",
    "               phecode_string == \"Chronic kidney disease\"~\"Chronic kidney disease\",\n",
    "               phecode_string == \"Rheumatic fever and chronic rheumatic heart diseases\"~\"Rheumatic heart disease\",\n",
    "               phecode_string == \"Abdominal aortic aneurysm\"~\"Abdominal aortic aneurysm\",\n",
    "                  TRUE ~ name)\n",
    "           )\n",
    "            \n",
    "endpoint_map = endpoint_defs$name\n",
    "names(endpoint_map) =  endpoint_defs$endpoint\n",
    "#endpoint_order = (endpoint_defs %>% arrange(as.numeric(phecode)))$endpoint\n",
    "endpoint_order = endpoint_selection"
   ]
  },
  {
   "cell_type": "code",
   "execution_count": null,
   "metadata": {
    "execution": {
     "iopub.execute_input": "2023-05-04T07:01:52.090887Z",
     "iopub.status.busy": "2023-05-04T07:01:52.090023Z",
     "iopub.status.idle": "2023-05-04T07:01:52.286207Z",
     "shell.execute_reply": "2023-05-04T07:01:52.284793Z"
    },
    "tags": []
   },
   "outputs": [],
   "source": [
    "endpoints_md %>% filter(endpoint %in% endpoint_selection) %>% as_tibble() %>% arrange(n)  %>%\n",
    "    mutate(endpoint = recode(endpoint, !!!endpoint_map)) %>% mutate(perc = freq*100)"
   ]
  },
  {
   "cell_type": "code",
   "execution_count": null,
   "metadata": {
    "execution": {
     "iopub.execute_input": "2023-04-28T08:49:43.434232Z",
     "iopub.status.busy": "2023-04-28T08:49:43.433360Z",
     "iopub.status.idle": "2023-04-28T08:50:19.090263Z",
     "shell.execute_reply": "2023-04-28T08:50:19.088952Z"
    },
    "tags": []
   },
   "outputs": [],
   "source": [
    "eligable_eids = arrow::read_feather(glue(\"{output_path}/eligable_eids_long_220627.feather\")) %>% \n",
    "    mutate(included = 1)\n",
    "eligable_eids$eid = as.numeric(levels(eligable_eids$eid))[eligable_eids$eid]"
   ]
  },
  {
   "cell_type": "code",
   "execution_count": null,
   "metadata": {
    "execution": {
     "iopub.execute_input": "2023-04-28T08:50:19.092556Z",
     "iopub.status.busy": "2023-04-28T08:50:19.091715Z",
     "iopub.status.idle": "2023-04-28T08:51:24.443781Z",
     "shell.execute_reply": "2023-04-28T08:51:24.441954Z"
    },
    "tags": []
   },
   "outputs": [],
   "source": [
    "data_outcomes = arrow::read_feather(glue(\"{output_path}/baseline_outcomes_long_220627.feather\", as_data_frame=FALSE)) "
   ]
  },
  {
   "cell_type": "code",
   "execution_count": null,
   "metadata": {
    "execution": {
     "iopub.execute_input": "2023-04-28T08:51:24.446510Z",
     "iopub.status.busy": "2023-04-28T08:51:24.445533Z",
     "iopub.status.idle": "2023-04-28T08:51:24.469171Z",
     "shell.execute_reply": "2023-04-28T08:51:24.468010Z"
    },
    "tags": []
   },
   "outputs": [],
   "source": [
    "partitions = 0:21\n",
    "partitions\n",
    "paths = c()\n",
    "for (p in partitions){\n",
    "    temp_path = glue(\"{experiment_path}/loghs/Identity(Records)+MLP/{p}/test.feather\")\n",
    "    paths = c(paths, temp_path)\n",
    "    }"
   ]
  },
  {
   "cell_type": "code",
   "execution_count": null,
   "metadata": {
    "execution": {
     "iopub.execute_input": "2023-04-28T12:30:41.267743Z",
     "iopub.status.busy": "2023-04-28T12:30:41.266644Z",
     "iopub.status.idle": "2023-04-28T12:30:41.276907Z",
     "shell.execute_reply": "2023-04-28T12:30:41.275804Z"
    },
    "tags": []
   },
   "outputs": [],
   "source": [
    "read_predictions = function(paths, endpoint_list){\n",
    "    predictions = paths %>% map_df(\n",
    "        ~suppressWarnings(read_feather(., col_select=c(\"eid\", all_of(endpoint_list)))) %>% \n",
    "        pivot_longer(all_of(endpoint_list), names_to=\"endpoint\", values_to=\"logh\") %>%\n",
    "        mutate(eid = as.integer(as.character(eid))) %>%\n",
    "        select(endpoint, eid, logh))# %>% arrange(endpoint, eid)\n",
    "    return(predictions)\n",
    "    }\n",
    "\n",
    "calc_ratios = function(pred_outcomes, endpoints_md){\n",
    "    \n",
    "    logh_inc = pred_outcomes %>% \n",
    "        filter(included==1) %>% \n",
    "        group_by(endpoint) %>% \n",
    "        mutate(logh_perc = ntile(logh, 10)) %>% \n",
    "        ungroup()\n",
    "\n",
    "    logh_T_agg = logh_inc %>% group_by(endpoint, logh_perc) %>% summarise(n=sum(event, na.rm=TRUE), ratio = mean(event)) #%>% as_tibble()\n",
    "    temp_ordered = logh_T_agg %>% mutate(endpoint = factor(endpoint, levels=endpoints_md$endpoint)) \n",
    "    temp_ratios = temp_ordered %>% #filter(logh_perc %in% c(1, 10)) %>% \n",
    "        pivot_wider(names_from=logh_perc, values_from=c(n, ratio)) %>% \n",
    "        mutate(ratio=ratio_10/ratio_1) %>%\n",
    "        #mutate(endpoint_string = recode(endpoint, !!!endpoint_map)) %>%\n",
    "        select(endpoint, starts_with(\"n_\"), starts_with(\"ratio_\"), ratio) %>%\n",
    "        arrange(ratio) #%>% as_tibble()\n",
    "    return(temp_ratios)\n",
    "    }"
   ]
  },
  {
   "cell_type": "code",
   "execution_count": null,
   "metadata": {
    "execution": {
     "iopub.execute_input": "2023-04-28T12:30:42.819634Z",
     "iopub.status.busy": "2023-04-28T12:30:42.818722Z",
     "iopub.status.idle": "2023-04-28T12:30:42.826480Z",
     "shell.execute_reply": "2023-04-28T12:30:42.825412Z"
    },
    "tags": []
   },
   "outputs": [],
   "source": [
    "prepare_ratios = function(temp_outcomes){\n",
    "    \n",
    "    endpoint_list = unique(temp_outcomes %>% pull(endpoint))\n",
    "    \n",
    "    #temp_outcomes = data_outcomes %>% filter(endpoint %in% endpoint_list)\n",
    "    temp_eligability = eligable_eids %>% filter(endpoint %in% endpoint_list)\n",
    "    temp_outcomes_eligability = temp_outcomes %>% left_join(temp_eligability, by=c(\"eid\", \"endpoint\"))\n",
    "    pred_outcomes = read_predictions(paths, endpoint_list) %>% left_join(temp_outcomes_eligability, on=c(eid, endpoint)) %>% as_tibble()\n",
    "    temp_df = calc_ratios(pred_outcomes, endpoints_md)\n",
    "    \n",
    "    return(temp_df)\n",
    "    }"
   ]
  },
  {
   "cell_type": "code",
   "execution_count": null,
   "metadata": {
    "execution": {
     "iopub.execute_input": "2023-04-28T12:30:43.284649Z",
     "iopub.status.busy": "2023-04-28T12:30:43.283740Z",
     "iopub.status.idle": "2023-04-28T12:30:43.292704Z",
     "shell.execute_reply": "2023-04-28T12:30:43.291642Z"
    },
    "tags": []
   },
   "outputs": [],
   "source": [
    "ep_chunks = split(endpoints_md$endpoint, ceiling(seq_along(endpoints_md$endpoint)/500))"
   ]
  },
  {
   "cell_type": "code",
   "execution_count": null,
   "metadata": {
    "execution": {
     "iopub.execute_input": "2023-04-28T12:30:43.633727Z",
     "iopub.status.busy": "2023-04-28T12:30:43.632827Z",
     "iopub.status.idle": "2023-04-28T12:30:43.639496Z",
     "shell.execute_reply": "2023-04-28T12:30:43.638439Z"
    },
    "tags": []
   },
   "outputs": [],
   "source": [
    "#library(furrr)\n",
    "#library(future)\n",
    "# Set the number of cores to be used for parallel processing\n",
    "#plan(multicore(workers = 64))"
   ]
  },
  {
   "cell_type": "code",
   "execution_count": null,
   "metadata": {
    "execution": {
     "iopub.execute_input": "2023-04-28T12:30:43.828353Z",
     "iopub.status.busy": "2023-04-28T12:30:43.827437Z",
     "iopub.status.idle": "2023-04-28T12:30:43.834034Z",
     "shell.execute_reply": "2023-04-28T12:30:43.832943Z"
    },
    "tags": []
   },
   "outputs": [],
   "source": [
    "#options(future.globals.maxSize = 60 * 1024^3)"
   ]
  },
  {
   "cell_type": "code",
   "execution_count": null,
   "metadata": {
    "execution": {
     "iopub.execute_input": "2023-04-28T12:30:43.983377Z",
     "iopub.status.busy": "2023-04-28T12:30:43.982395Z",
     "iopub.status.idle": "2023-04-28T12:30:43.989018Z",
     "shell.execute_reply": "2023-04-28T12:30:43.987970Z"
    },
    "tags": []
   },
   "outputs": [],
   "source": [
    "#ratio_dfs <- future_map(ep_chunks, ~ prepare_ratios(data_outcomes %>% filter(endpoint %in% .x)))"
   ]
  },
  {
   "cell_type": "code",
   "execution_count": null,
   "metadata": {},
   "outputs": [],
   "source": []
  },
  {
   "cell_type": "code",
   "execution_count": null,
   "metadata": {},
   "outputs": [],
   "source": []
  },
  {
   "cell_type": "code",
   "execution_count": null,
   "metadata": {
    "execution": {
     "iopub.execute_input": "2023-04-28T12:30:45.015832Z",
     "iopub.status.busy": "2023-04-28T12:30:45.014921Z",
     "iopub.status.idle": "2023-04-28T13:13:06.770665Z",
     "shell.execute_reply": "2023-04-28T13:13:06.769580Z"
    },
    "tags": []
   },
   "outputs": [],
   "source": [
    "ratio_dfs = c()\n",
    "#i=1\n",
    "for (i in 1:length(ep_chunks[])){\n",
    "    endpoint_list = ep_chunks[[i]]\n",
    "    ratio_dfs[[i]] = prepare_ratios(data_outcomes %>% filter(endpoint %in% endpoint_list))\n",
    "    print(ratio_dfs[[i]])\n",
    "    flush.console()\n",
    "}"
   ]
  },
  {
   "cell_type": "code",
   "execution_count": null,
   "metadata": {
    "execution": {
     "iopub.execute_input": "2023-04-28T13:35:03.558965Z",
     "iopub.status.busy": "2023-04-28T13:35:03.557840Z",
     "iopub.status.idle": "2023-04-28T13:35:03.922239Z",
     "shell.execute_reply": "2023-04-28T13:35:03.921021Z"
    },
    "tags": []
   },
   "outputs": [],
   "source": [
    "ratio_df_complete = bind_rows(ratio_dfs) %>% ungroup() %>%\n",
    "    mutate(endpoint_string = recode(endpoint, !!!endpoint_map)) %>% \n",
    "    select(endpoint, endpoint_string, starts_with(\"n_\"), starts_with(\"ratio_\"), ratio) %>%\n",
    "    arrange(ratio) %>% left_join(endpoints_md %>% select(endpoint, phecode_category) %>% as_tibble(), by=\"endpoint\")"
   ]
  },
  {
   "cell_type": "code",
   "execution_count": null,
   "metadata": {
    "execution": {
     "iopub.execute_input": "2023-04-28T13:35:04.174205Z",
     "iopub.status.busy": "2023-04-28T13:35:04.173081Z",
     "iopub.status.idle": "2023-04-28T13:35:08.578941Z",
     "shell.execute_reply": "2023-04-28T13:35:08.577526Z"
    },
    "tags": []
   },
   "outputs": [],
   "source": [
    "ratio_df_complete %>% write_feather(\"outputs/rateratios_loghincentre.feather\")\n",
    "ratio_df_complete %>% write_csv(\"outputs/rateratios_loghincentre.csv\")"
   ]
  },
  {
   "cell_type": "code",
   "execution_count": null,
   "metadata": {
    "execution": {
     "iopub.execute_input": "2023-05-04T07:02:02.328984Z",
     "iopub.status.busy": "2023-05-04T07:02:02.327874Z",
     "iopub.status.idle": "2023-05-04T07:02:02.354871Z",
     "shell.execute_reply": "2023-05-04T07:02:02.352026Z"
    },
    "tags": []
   },
   "outputs": [],
   "source": [
    "ratio_df_complete = arrow::read_feather(\"outputs/rateratios.feather\")"
   ]
  },
  {
   "cell_type": "code",
   "execution_count": null,
   "metadata": {
    "execution": {
     "iopub.execute_input": "2023-05-04T07:02:06.437423Z",
     "iopub.status.busy": "2023-05-04T07:02:06.436307Z",
     "iopub.status.idle": "2023-05-04T07:02:06.631438Z",
     "shell.execute_reply": "2023-05-04T07:02:06.628852Z"
    },
    "tags": []
   },
   "outputs": [],
   "source": [
    "t = ratio_df_complete %>% filter(ratio>1) %>% arrange(desc(ratio)) #%>% filter(!str_detect(endpoint, \"-\"))\n",
    "print(nrow(t)/nrow(ratio_df_complete))\n",
    "t"
   ]
  },
  {
   "cell_type": "code",
   "execution_count": null,
   "metadata": {
    "execution": {
     "iopub.execute_input": "2023-04-28T13:35:26.551442Z",
     "iopub.status.busy": "2023-04-28T13:35:26.550382Z",
     "iopub.status.idle": "2023-04-28T13:35:26.566022Z",
     "shell.execute_reply": "2023-04-28T13:35:26.564878Z"
    },
    "tags": []
   },
   "outputs": [],
   "source": [
    "base_size = 8\n",
    "title_size = 10\n",
    "facet_size = 8.5\n",
    "geom_text_size=3\n",
    "theme_set(theme_classic(base_size = base_size) + \n",
    "          theme(strip.background = element_blank(), plot.title=element_text(size=title_size, hjust=0), \n",
    "                strip.text.x = element_text(size = facet_size),axis.title=element_text(size=10), axis.text=element_text(size=8, color=\"black\"),\n",
    "                legend.position=\"bottom\", axis.line = element_line(size = 0.2), axis.ticks=element_line(size=0.2)))"
   ]
  },
  {
   "cell_type": "markdown",
   "metadata": {},
   "source": [
    "## Nice overview over all categories"
   ]
  },
  {
   "cell_type": "code",
   "execution_count": null,
   "metadata": {
    "execution": {
     "iopub.execute_input": "2023-04-28T13:35:27.323341Z",
     "iopub.status.busy": "2023-04-28T13:35:27.322215Z",
     "iopub.status.idle": "2023-04-28T13:35:28.091613Z",
     "shell.execute_reply": "2023-04-28T13:35:28.090561Z"
    },
    "tags": []
   },
   "outputs": [],
   "source": [
    "plot_width = 8.25; plot_height=2; plot_res = 320\n",
    "options(repr.plot.width = plot_width, repr.plot.height = plot_height, repr.plot.res=plot_res)\n",
    "\n",
    "library(ggtext)\n",
    "categories_sorted = (endpoints_md %>% arrange(endpoint) %>% distinct(phecode_category) %>% as_tibble())$phecode_category\n",
    "\n",
    "temp = ratio_df_complete %>%\n",
    "    mutate(phecode_category = factor(phecode_category, levels=categories_sorted)) %>%\n",
    "    mutate(highlight = case_when(endpoint %in% endpoint_selection ~ \"YES\", TRUE ~ \"NO\")) \n",
    "#+    mutate(score = factor(score, levels=scores_plot)) %>%\n",
    "#+    mutate(endpoint = factor(endpoint, levels=endpoints_sorted)) %>%\n",
    "#+    ungroup() %>%\n",
    "#+    pivot_wider(names_from=score, values_from=cindex) %>% \n",
    "#+    mutate(id = row_number()) %>%\n",
    "#+    mutate(delta = `Age+Sex+MedicalHistory`-`Age+Sex`) %>%\n",
    "#+    group_by(endpoint, phecode_string, phecode_category) %>%\n",
    "#+    summarise(delta = median(delta)) %>%\n",
    "#+    mutate(pos = case_when(delta>=0 ~ \"pos\", delta < 0 ~\"neg\")) %>%\n",
    "#+    mutate(endpoint = fct_reorder(endpoint, delta)) %>%\n",
    "    # %>%# %>% filter(endpoint %in% endpoint_sample)\n",
    "#+    \n",
    "\n",
    "endpoint_order = (temp %>% arrange(ratio))$endpoint\n",
    "\n",
    "temp = temp %>% mutate(endpoint = factor(endpoint, levels=endpoint_order)) %>% ungroup() %>% \n",
    "    arrange(endpoint) %>% group_by(phecode_category) %>% mutate(endpoint = row_number()) %>% mutate(log_ratio = log(ratio)) %>%\n",
    "    filter(!phecode_category %in% c(\"Signs/Symptoms\", \"Preg\", \"Rx\", \"Stat\"))\n",
    "\n",
    "overview = ggplot(temp) +\n",
    "    geom_ribbon(aes(x=endpoint, ymin=0, ymax=log_ratio), fill=\"black\", alpha=0.2)+\n",
    "    geom_point(aes(x=endpoint, y=log_ratio, color=highlight, size=highlight, alpha=highlight)) +\n",
    "    geom_text(data=temp %>% filter(highlight==\"YES\"), aes(x=endpoint, y=log_ratio+0.5, label=\"↓\", vjust=0), color=\"black\", size=5, alpha=0.7) +\n",
    "    #geom_segment(aes(x=endpoint, xend=endpoint, y=0, yend=delta, color=highlight, size=highlight), alpha=0.5)+#+\n",
    "    labs(x=\"Endpoints\", y=\"Rate Ratio\") +# (Top vs. Bottom 10%)\")+\n",
    "    scale_color_manual(values=c(\"NO\"=\"black\", \"YES\"=\"firebrick\"))+\n",
    "    scale_alpha_manual(values=c(\"NO\"=0.1, \"YES\"=1))+\n",
    "    scale_size_manual(values=c(\"NO\"=0.01, \"YES\"=1))+\n",
    "    #scale_colour_manual(values = c(\"pos\"=\"forestgreen\", \"neg\" = \"firebrick\")) + \n",
    "    #coord_polar() +\n",
    "    coord_cartesian(ylim=c(0, NA), clip = \"off\")+\n",
    "    scale_y_continuous(expand=c(0, 0), breaks=c(log(1), log(10), log(100), log(1000)), labels=c(1, 10, 100, 1000)) +\n",
    "    #scale_y_continuous(, trans='log10')+\n",
    "    scale_x_discrete(expand=expansion(add=20))+\n",
    "    facet_grid(~phecode_category, scales=\"free_x\", space=\"free_x\")+#, switch=TRUE)+\n",
    "    #facet_grid2(~phecode_category, scales = \"free\", independent = \"all\") + \n",
    "    theme(axis.title.x=element_blank(),\n",
    "        axis.text.x=element_blank(),\n",
    "        axis.ticks.x=element_blank(),\n",
    "        panel.grid.major.y=element_line(), \n",
    "         strip.text = element_text(angle=270, hjust=1)) + \n",
    "    theme(legend.position=\"none\") \n",
    "    \n",
    "    #geom_ribbon(aes(x=id, ymin=AgeSex, ymax=`Age+Sex+MedicalHistory`), fill=\"red\", alpha=0.2)\n",
    "#geom_violin(size=0.1)\n",
    "overview"
   ]
  },
  {
   "cell_type": "code",
   "execution_count": null,
   "metadata": {
    "execution": {
     "iopub.execute_input": "2023-04-28T06:27:39.080295Z",
     "iopub.status.busy": "2023-04-28T06:27:39.079290Z",
     "iopub.status.idle": "2023-04-28T06:27:39.674480Z",
     "shell.execute_reply": "2023-04-28T06:27:39.673216Z"
    },
    "tags": []
   },
   "outputs": [],
   "source": [
    "library(gt)\n",
    "plot_name = \"Figure2a_overview\"\n",
    "overview %>% ggsave(filename=glue(\"outputs/{plot_name}.pdf\"), device=cairo_pdf, width=plot_width, height=plot_height, dpi=plot_res)"
   ]
  },
  {
   "cell_type": "code",
   "execution_count": null,
   "metadata": {},
   "outputs": [],
   "source": []
  }
 ],
 "metadata": {
  "hide_input": false,
  "kernelspec": {
   "display_name": "R [conda env:r_env]",
   "language": "R",
   "name": "conda-env-r_env-r"
  },
  "language_info": {
   "codemirror_mode": "r",
   "file_extension": ".r",
   "mimetype": "text/x-r-source",
   "name": "R",
   "pygments_lexer": "r",
   "version": "4.0.2"
  },
  "toc-autonumbering": false
 },
 "nbformat": 4,
 "nbformat_minor": 4
}
