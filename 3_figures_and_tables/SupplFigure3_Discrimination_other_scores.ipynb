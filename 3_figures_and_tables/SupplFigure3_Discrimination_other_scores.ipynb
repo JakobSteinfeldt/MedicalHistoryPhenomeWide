{
 "cells": [
  {
   "cell_type": "markdown",
   "metadata": {},
   "source": [
    "# Benchmarks"
   ]
  },
  {
   "cell_type": "markdown",
   "metadata": {},
   "source": [
    "## Initialize"
   ]
  },
  {
   "cell_type": "code",
   "execution_count": null,
   "metadata": {
    "ExecuteTime": {
     "end_time": "2021-01-05T11:03:09.852316Z",
     "start_time": "2021-01-05T11:03:07.701Z"
    },
    "execution": {
     "iopub.execute_input": "2023-05-12T13:44:46.136688Z",
     "iopub.status.busy": "2023-05-12T13:44:46.134506Z",
     "iopub.status.idle": "2023-05-12T13:44:50.101726Z",
     "shell.execute_reply": "2023-05-12T13:44:50.100203Z"
    },
    "tags": []
   },
   "outputs": [],
   "source": [
    "#library(Rmisc)\n",
    "library(dtplyr)\n",
    "library(tidyverse)\n",
    "library(glue)\n",
    "library(arrow)\n",
    "library(patchwork)\n",
    "library(data.table)\n",
    "library(\"jsonlite\")\n",
    "library(ggthemes)"
   ]
  },
  {
   "cell_type": "code",
   "execution_count": null,
   "metadata": {
    "ExecuteTime": {
     "end_time": "2021-01-05T11:03:10.491477Z",
     "start_time": "2021-01-05T11:03:10.445Z"
    },
    "execution": {
     "iopub.execute_input": "2023-05-12T13:44:50.128282Z",
     "iopub.status.busy": "2023-05-12T13:44:50.103841Z",
     "iopub.status.idle": "2023-05-12T13:44:50.165467Z",
     "shell.execute_reply": "2023-05-12T13:44:50.164113Z"
    },
    "tags": []
   },
   "outputs": [],
   "source": [
    "if (grepl(\"sc\", Sys.info()[[\"nodename\"]], fixed=TRUE)) {\n",
    "    base_path = \"/sc-projects/sc-proj-ukb-cvd\"\n",
    "} else {\n",
    "    base_path = \"/data/analysis/ag-reils/ag-reils-shared/cardioRS\"}\n",
    "print(base_path)\n",
    "\n",
    "project_label=\"22_medical_records\"\n",
    "project_path = glue(\"{base_path}/results/projects/{project_label}\")\n",
    "figure_path = glue(\"{project_path}/figures\")\n",
    "output_path = glue(\"{project_path}/data\")\n",
    "\n",
    "experiment = 230425\n",
    "experiment_path = glue(\"{output_path}/{experiment}\")"
   ]
  },
  {
   "cell_type": "code",
   "execution_count": null,
   "metadata": {
    "execution": {
     "iopub.execute_input": "2023-05-12T13:44:50.168755Z",
     "iopub.status.busy": "2023-05-12T13:44:50.167646Z",
     "iopub.status.idle": "2023-05-12T13:44:50.263715Z",
     "shell.execute_reply": "2023-05-12T13:44:50.262436Z"
    },
    "tags": []
   },
   "outputs": [],
   "source": [
    "base_size = 8\n",
    "title_size = 10\n",
    "facet_size = 9\n",
    "geom_text_size=3\n",
    "theme_set(theme_classic(base_size = base_size) + \n",
    "          theme(strip.background = element_blank(), plot.title=element_text(size=title_size, hjust=0), \n",
    "                strip.text.x = element_text(size = facet_size),axis.title=element_text(size=10), axis.text=element_text(size=8, color=\"black\"),\n",
    "                legend.position=\"bottom\", axis.line = element_line(size = 0.2), axis.ticks=element_line(size=0.2), panel.grid.major.y=element_line()))"
   ]
  },
  {
   "cell_type": "code",
   "execution_count": null,
   "metadata": {
    "ExecuteTime": {
     "end_time": "2021-01-05T11:03:23.526022Z",
     "start_time": "2021-01-05T11:03:20.042Z"
    },
    "execution": {
     "iopub.execute_input": "2023-05-12T13:44:50.266666Z",
     "iopub.status.busy": "2023-05-12T13:44:50.265670Z",
     "iopub.status.idle": "2023-05-12T13:44:50.278611Z",
     "shell.execute_reply": "2023-05-12T13:44:50.277408Z"
    },
    "tags": []
   },
   "outputs": [],
   "source": [
    "colors_dict = read_json(\"colors.json\")\n",
    "color_map <- c(\n",
    "    \"Identity(AgeSex)+MLP\" = colors_dict$pastel$red$mid,\n",
    "    \"Identity(Records)+MLP\" = colors_dict$pastel$red$mid,\n",
    "    \"GNN(Records)+MLP\" = colors_dict$pastel$red$mid,\n",
    "    \"Identity(AgeSex+Records)+MLP\" = colors_dict$pastel$red$mid,\n",
    "    \"GNN(AgeSex+Records)+MLP\" = colors_dict$pastel$red$mid\n",
    ")"
   ]
  },
  {
   "cell_type": "code",
   "execution_count": null,
   "metadata": {
    "execution": {
     "iopub.execute_input": "2023-05-12T13:44:50.281432Z",
     "iopub.status.busy": "2023-05-12T13:44:50.280416Z",
     "iopub.status.idle": "2023-05-12T13:44:50.417513Z",
     "shell.execute_reply": "2023-05-12T13:44:50.415287Z"
    },
    "tags": []
   },
   "outputs": [],
   "source": [
    "endpoint_defs = arrow::read_feather(glue(\"{output_path}/phecode_defs_220306.feather\")) %>% arrange(endpoint)\n",
    "endpoints_md = fread(glue(\"{experiment_path}/endpoints.csv\"), colClasses=c(\"phecode\"=\"character\"))\n",
    "endpoints = sort(endpoints_md$endpoint)"
   ]
  },
  {
   "cell_type": "code",
   "execution_count": null,
   "metadata": {
    "execution": {
     "iopub.execute_input": "2023-05-12T13:44:50.421403Z",
     "iopub.status.busy": "2023-05-12T13:44:50.420125Z",
     "iopub.status.idle": "2023-05-12T13:44:50.462033Z",
     "shell.execute_reply": "2023-05-12T13:44:50.460660Z"
    },
    "tags": []
   },
   "outputs": [],
   "source": [
    "endpoint_map = endpoint_defs$phecode_string\n",
    "names(endpoint_map) =  endpoint_defs$endpoint\n",
    "endpoint_order = (endpoint_defs %>% arrange(as.numeric(phecode)))$endpoint"
   ]
  },
  {
   "cell_type": "code",
   "execution_count": null,
   "metadata": {
    "execution": {
     "iopub.execute_input": "2023-05-12T13:44:50.465046Z",
     "iopub.status.busy": "2023-05-12T13:44:50.464004Z",
     "iopub.status.idle": "2023-05-12T13:44:50.537183Z",
     "shell.execute_reply": "2023-05-12T13:44:50.535535Z"
    },
    "tags": []
   },
   "outputs": [],
   "source": [
    "endpoint_selection = c(\n",
    "    \n",
    "   'phecode_401', #  \"Hypertension\", # intervention\n",
    "    'phecode_202', #  \"Diabetes mellitus\", # intervention\n",
    "    'phecode_416-21', #  \"Atrial fibrillation\", # intervention\n",
    "    'phecode_468', #  \"Pneumonia\", # intervention\n",
    "    'phecode_474', #  \"Chronic obstructive pulmonary disease [COPD]\", # interventio\n",
    "    'phecode_583', #  \"Chronic kidney disease\", # intervention\n",
    "    \n",
    "    'phecode_404', #  \"Ischemic heart disease\",\n",
    "    'phecode_404-1', #  \"Myocardial infarction [Heart attack]\", # intervention\n",
    "    'phecode_431-11', #  \"Cerebral infarction [Ischemic stroke]\",\n",
    "    'phecode_424', #  \"Heart failure\", # intervention\n",
    "    'phecode_420', #  \"Cardiac arrest\", # intervention\n",
    "    'OMOP_4306655', #  \"All-Cause Death\", # intervention\n",
    "    \n",
    "    'phecode_438-11',   #  \"Abdominal aortic aneurysm\",\n",
    "    'phecode_440-3',#  \"Pulmonary embolism\", # intervention\n",
    "    'phecode_413-21',#  \"Aortic stenosis\", # intervention\n",
    "    'phecode_413-11', #  \"Mitral valve insufficiency\",\n",
    "    'phecode_410-2',#  \"Endocarditis\",\n",
    "    'phecode_400',#  \"Rheumatic fever and chronic rheumatic heart diseases\",\t\n",
    "    \n",
    "    'phecode_164', #  \"Anemia\", # intervention\n",
    "    'phecode_718',  #  \"Back pain\", # intervention\n",
    "    'phecode_324-11', #  \"Parkinson's disease (Primary)\",\n",
    "    'phecode_705-1', #  \"Rheumatoid arthritis\", # NEW + interventio\n",
    "    'phecode_665', #  \"Psoriasis\", # interesting\n",
    "    'phecode_284'#  \"Suicide ideation and attempt or self harm\" # intervention\n",
    ")\n",
    "endpoint_defs = endpoint_defs %>% \n",
    "    mutate(name = phecode_string) %>%\n",
    "    mutate(name = \n",
    "           case_when( \n",
    "               phecode_string == \"Myocardial infarction [Heart attack]\"~\"Myocardial infarction\",\n",
    "               phecode_string == \"Cerebral infarction [Ischemic stroke]\"~\"Ischemic stroke\",\n",
    "               phecode_string == \"Chronic obstructive pulmonary disease [COPD]\"~\"COPD\",\n",
    "               phecode_string == \"Mitral valve insufficiency\"~\"Mitral insufficiency\",\n",
    "               phecode_string == \"Parkinson's disease (Primary)\"~\"Parkinson's\",\n",
    "               phecode_string == \"Suicide ideation and attempt or self harm\"~\"Suicide attempt\",\n",
    "               phecode_string == \"Ischemic heart disease\"~\"Ischemic HD\",\n",
    "               phecode_string == \"Chronic kidney disease\"~\"Chronic KD\",\n",
    "               phecode_string == \"Rheumatic fever and chronic rheumatic heart diseases\"~\"Rheumatic HD\",\n",
    "               phecode_string == \"Abdominal aortic aneurysm\"~\"Abdominal AA\",\n",
    "                  TRUE ~ name)\n",
    "           )\n",
    "            \n",
    "endpoint_map = endpoint_defs$name\n",
    "names(endpoint_map) =  endpoint_defs$endpoint\n",
    "#endpoint_order = (endpoint_defs %>% arrange(as.numeric(phecode)))$endpoint\n",
    "endpoint_order = endpoint_selection"
   ]
  },
  {
   "cell_type": "markdown",
   "metadata": {},
   "source": [
    "## Load data"
   ]
  },
  {
   "cell_type": "markdown",
   "metadata": {},
   "source": [
    "# Load Benchmarks"
   ]
  },
  {
   "cell_type": "code",
   "execution_count": null,
   "metadata": {
    "execution": {
     "iopub.execute_input": "2023-05-12T13:44:50.540214Z",
     "iopub.status.busy": "2023-05-12T13:44:50.539193Z",
     "iopub.status.idle": "2023-05-12T13:44:52.071842Z",
     "shell.execute_reply": "2023-05-12T13:44:52.070242Z"
    },
    "tags": []
   },
   "outputs": [],
   "source": [
    "name = \"benchmarks_cindex_230425\"\n",
    "benchmark_endpoints = arrow::read_feather(glue(\"{experiment_path}/{name}.feather\")) %>% left_join(endpoints_md) "
   ]
  },
  {
   "cell_type": "code",
   "execution_count": null,
   "metadata": {
    "execution": {
     "iopub.execute_input": "2023-05-12T13:44:52.074742Z",
     "iopub.status.busy": "2023-05-12T13:44:52.073831Z",
     "iopub.status.idle": "2023-05-12T13:44:52.587343Z",
     "shell.execute_reply": "2023-05-12T13:44:52.586110Z"
    },
    "tags": []
   },
   "outputs": [],
   "source": [
    "benchmark_endpoints %>% group_by(endpoint, score)  %>% summarise(cindex=mean(cindex)) %>% group_by(score) %>% summarise(mean(cindex)) %>% arrange(`mean(cindex)`)"
   ]
  },
  {
   "cell_type": "code",
   "execution_count": null,
   "metadata": {
    "execution": {
     "iopub.execute_input": "2023-05-12T13:44:52.590205Z",
     "iopub.status.busy": "2023-05-12T13:44:52.589262Z",
     "iopub.status.idle": "2023-05-12T13:44:52.708102Z",
     "shell.execute_reply": "2023-05-12T13:44:52.706658Z"
    },
    "tags": []
   },
   "outputs": [],
   "source": [
    "endpoints_sorted = (benchmark_endpoints %>% \n",
    "    filter(score == \"Age+Sex+MedicalHistory\") %>% \n",
    "    group_by(endpoint, score) %>% \n",
    "    summarise(cindex=mean(cindex, na.rm=TRUE)) %>% \n",
    "    arrange(cindex) %>% ungroup())$endpoint"
   ]
  },
  {
   "cell_type": "code",
   "execution_count": null,
   "metadata": {
    "execution": {
     "iopub.execute_input": "2023-05-12T13:44:52.710858Z",
     "iopub.status.busy": "2023-05-12T13:44:52.709924Z",
     "iopub.status.idle": "2023-05-12T13:44:52.719383Z",
     "shell.execute_reply": "2023-05-12T13:44:52.718290Z"
    },
    "tags": []
   },
   "outputs": [],
   "source": [
    "categories_sorted = (endpoint_defs %>% distinct(phecode_category))$phecode_category"
   ]
  },
  {
   "cell_type": "code",
   "execution_count": null,
   "metadata": {
    "execution": {
     "iopub.execute_input": "2023-05-12T13:44:52.731786Z",
     "iopub.status.busy": "2023-05-12T13:44:52.730279Z",
     "iopub.status.idle": "2023-05-12T13:44:52.849453Z",
     "shell.execute_reply": "2023-05-12T13:44:52.848209Z"
    },
    "tags": []
   },
   "outputs": [],
   "source": [
    "benchmark_endpoints"
   ]
  },
  {
   "cell_type": "markdown",
   "metadata": {},
   "source": [
    "benchmark_endpoints## General Performance"
   ]
  },
  {
   "cell_type": "code",
   "execution_count": null,
   "metadata": {
    "execution": {
     "iopub.execute_input": "2023-05-12T13:44:52.852372Z",
     "iopub.status.busy": "2023-05-12T13:44:52.851422Z",
     "iopub.status.idle": "2023-05-12T13:44:57.044316Z",
     "shell.execute_reply": "2023-05-12T13:44:57.043208Z"
    },
    "tags": []
   },
   "outputs": [],
   "source": [
    "plot_width = 8.25; plot_height=2.5; plot_res = 320\n",
    "options(repr.plot.width = plot_width, repr.plot.height = plot_height, repr.plot.res=plot_res)\n",
    "\n",
    "library(ggtext)\n",
    "library(ggdist)\n",
    "\n",
    "scores_plot = c(\"Age+Sex\", \"Age+Sex+MedicalHistory\")#, \"AgeSexMedicalHistory\")\n",
    "\n",
    "temp = benchmark_endpoints %>% \n",
    "    filter(score %in% scores_plot) %>% \n",
    "    mutate(score = factor(score, levels=scores_plot)) %>%\n",
    "    mutate(endpoint = factor(endpoint, levels=endpoints_sorted)) %>%\n",
    "    ungroup() %>%\n",
    "    pivot_wider(names_from=score, values_from=cindex) %>% \n",
    "    mutate(id = row_number()) %>%\n",
    "    mutate(delta = `Age+Sex+MedicalHistory`-`Age+Sex`) %>%\n",
    "    group_by(endpoint, phecode_string, freq, phecode_category) %>%\n",
    "    median_qi(delta) %>%\n",
    "    mutate(pos = case_when(delta>=0 ~ \"pos\", delta < 0 ~\"neg\")) %>%\n",
    "    mutate(endpoint = fct_reorder(endpoint, delta)) %>%\n",
    "    mutate(highlight = case_when(endpoint %in% endpoint_selection ~ \"YES\", TRUE ~ \"NO\")) %>%# %>% filter(endpoint %in% endpoint_sample)\n",
    "    mutate(phecode_category = factor(phecode_category, levels=categories_sorted))\n",
    "\n",
    "endpoint_order = (temp %>% arrange(delta))$endpoint\n",
    "\n",
    "temp = temp %>% mutate(endpoint = factor(endpoint, levels=endpoint_order)) %>% ungroup() %>% \n",
    "    arrange(endpoint) %>% group_by(phecode_category) %>% mutate(endpoint = row_number()) #%>%\n",
    "\n",
    "temp_plot = temp %>% filter(!phecode_category %in% c(\"Signs/Symptoms\", \"Preg\", \"Rx\", \"Stat\"))\n",
    "\n",
    "overview = ggplot(temp_plot) +\n",
    "    geom_ribbon(aes(x=endpoint, ymin=0, ymax=delta), fill=\"black\", alpha=0.2)+\n",
    "    geom_point(aes(x=endpoint, y=delta, color=highlight, size=highlight, alpha=highlight)) +\n",
    "    #geom_text(data=temp %>% filter(highlight==\"YES\"), aes(x=endpoint, y=delta+0.045, label=\"↓\"), color=\"black\", size=5, alpha=0.7) +\n",
    "    #geom_segment(aes(x=endpoint, xend=endpoint, y=0, yend=delta, color=highlight, size=highlight), alpha=0.5)+#+\n",
    "    labs(x=\"Endpoints\", y=\"Delta C-Index\")+\n",
    "    scale_color_manual(values=c(\"NO\"=\"black\", \"YES\"=\"firebrick\"))+\n",
    "    scale_alpha_manual(values=c(\"NO\"=0.1, \"YES\"=1))+\n",
    "    scale_size_manual(values=c(\"NO\"=0.01, \"YES\"=1))+\n",
    "    #scale_colour_manual(values = c(\"pos\"=\"forestgreen\", \"neg\" = \"firebrick\")) + \n",
    "    #coord_polar() +\n",
    "    coord_cartesian(ylim=c(-0.4, 0.4), clip = \"off\")+\n",
    "    scale_y_continuous(expand=c(0, 0))+\n",
    "    scale_x_discrete(expand=expansion(add=20))+\n",
    "    facet_grid(~phecode_category, scales=\"free_x\", space=\"free_x\")+#, switch=TRUE)+\n",
    "    #facet_grid2(~phecode_category, scales = \"free\", independent = \"all\") + \n",
    "    theme(axis.title.x=element_blank(),\n",
    "        axis.text.x=element_blank(),\n",
    "        axis.ticks.x=element_blank(),\n",
    "        panel.grid.major=element_blank(), \n",
    "         strip.text = element_text(angle=270, hjust=1)) + \n",
    "    theme(legend.position=\"none\") \n",
    "    \n",
    "    #geom_ribbon(aes(x=id, ymin=AgeSex, ymax=`Age+Sex+MedicalHistory`), fill=\"red\", alpha=0.2)\n",
    "#geom_violin(size=0.1)\n",
    "overview"
   ]
  },
  {
   "cell_type": "code",
   "execution_count": null,
   "metadata": {
    "execution": {
     "iopub.execute_input": "2023-05-12T13:44:57.047054Z",
     "iopub.status.busy": "2023-05-12T13:44:57.046103Z",
     "iopub.status.idle": "2023-05-12T13:44:57.934478Z",
     "shell.execute_reply": "2023-05-12T13:44:57.932878Z"
    },
    "tags": []
   },
   "outputs": [],
   "source": [
    "library(gt)\n",
    "plot_name = \"Figure3a_overview\"\n",
    "overview %>% ggsave(filename=glue(\"outputs/{plot_name}.pdf\"), device=\"pdf\", width=plot_width, height=plot_height, dpi=plot_res)"
   ]
  },
  {
   "cell_type": "code",
   "execution_count": null,
   "metadata": {
    "execution": {
     "iopub.execute_input": "2023-04-28T08:01:53.878784Z",
     "iopub.status.busy": "2023-04-28T08:01:53.877901Z",
     "iopub.status.idle": "2023-04-28T08:01:54.224977Z",
     "shell.execute_reply": "2023-04-28T08:01:54.223283Z"
    }
   },
   "outputs": [],
   "source": [
    "temp %>% write_feather(\"outputs/cindexdeltas.feather\")\n",
    "temp %>% write_csv(\"outputs/cindexdeltas.csv\")"
   ]
  },
  {
   "cell_type": "code",
   "execution_count": null,
   "metadata": {
    "execution": {
     "iopub.execute_input": "2023-05-12T13:46:51.623301Z",
     "iopub.status.busy": "2023-05-12T13:46:51.622003Z",
     "iopub.status.idle": "2023-05-12T13:46:51.655496Z",
     "shell.execute_reply": "2023-05-12T13:46:51.654240Z"
    },
    "tags": []
   },
   "outputs": [],
   "source": [
    "temp %>% ungroup() %>% group_by(.lower>=0) %>% tally()"
   ]
  },
  {
   "cell_type": "code",
   "execution_count": null,
   "metadata": {
    "execution": {
     "iopub.execute_input": "2023-05-12T13:46:52.210976Z",
     "iopub.status.busy": "2023-05-12T13:46:52.209867Z",
     "iopub.status.idle": "2023-05-12T13:46:52.243579Z",
     "shell.execute_reply": "2023-05-12T13:46:52.242367Z"
    },
    "tags": []
   },
   "outputs": [],
   "source": [
    "temp %>% ungroup() %>% filter(.lower>0) %>% median_qi(delta, .width = c(.25)) %>% select(.lower, delta, .upper)"
   ]
  },
  {
   "cell_type": "code",
   "execution_count": null,
   "metadata": {
    "execution": {
     "iopub.execute_input": "2023-05-12T13:46:52.889617Z",
     "iopub.status.busy": "2023-05-12T13:46:52.888406Z",
     "iopub.status.idle": "2023-05-12T13:46:52.923192Z",
     "shell.execute_reply": "2023-05-12T13:46:52.921803Z"
    },
    "tags": []
   },
   "outputs": [],
   "source": [
    "base_size = 8\n",
    "title_size = 10\n",
    "facet_size = 9\n",
    "geom_text_size=3\n",
    "theme_set(theme_classic(base_size = base_size) + \n",
    "          theme(strip.background = element_blank(), plot.title=element_text(size=title_size, hjust=0), \n",
    "                strip.text.x = element_text(size = facet_size),axis.title=element_text(size=10), axis.text=element_text(size=8, color=\"black\"),\n",
    "                legend.position=\"bottom\", axis.line = element_line(size = 0.2), axis.ticks=element_line(size=0.2), panel.grid.major=element_line()))"
   ]
  },
  {
   "cell_type": "code",
   "execution_count": null,
   "metadata": {
    "execution": {
     "iopub.execute_input": "2023-05-12T13:46:53.534727Z",
     "iopub.status.busy": "2023-05-12T13:46:53.533730Z",
     "iopub.status.idle": "2023-05-12T13:46:56.738078Z",
     "shell.execute_reply": "2023-05-12T13:46:56.736145Z"
    },
    "tags": []
   },
   "outputs": [],
   "source": [
    "plot_width = 8.25; plot_height=2.5; plot_res = 600\n",
    "options(repr.plot.width = plot_width, repr.plot.height = plot_height, repr.plot.res=plot_res)\n",
    "\n",
    "library(ggtext)\n",
    "library(ggdist)\n",
    "\n",
    "scores_plot = c(\"Age+Sex\", \"Age+Sex+Comorbidities\")#, \"AgeSexMedicalHistory\")\n",
    "plot_title = glue(\"{scores_plot[1]} + **Charlson Comorbidity Index (CCI)**\")\n",
    "\n",
    "temp = benchmark_endpoints %>% \n",
    "    filter(score %in% scores_plot) %>% \n",
    "    mutate(score = factor(score, levels=scores_plot)) %>%\n",
    "    mutate(endpoint = factor(endpoint, levels=endpoints_sorted)) %>%\n",
    "    ungroup() %>%\n",
    "    pivot_wider(names_from=score, values_from=cindex) %>% \n",
    "    mutate(id = row_number()) %>%\n",
    "    mutate(delta = !!sym(scores_plot[2])-!!sym(scores_plot[1])) %>%\n",
    "    group_by(endpoint, phecode_string, freq, phecode_category) %>%\n",
    "    median_qi(delta) %>%\n",
    "    mutate(pos = case_when(delta>=0 ~ \"pos\", delta < 0 ~\"neg\")) %>%\n",
    "    mutate(endpoint = fct_reorder(endpoint, delta)) %>%\n",
    "    mutate(highlight = case_when(endpoint %in% endpoint_selection ~ \"YES\", TRUE ~ \"NO\")) %>%# %>% filter(endpoint %in% endpoint_sample)\n",
    "    mutate(phecode_category = factor(phecode_category, levels=categories_sorted))\n",
    "\n",
    "temp = bind_rows(temp, \n",
    "                 temp %>% filter(endpoint == \"OMOP_4306655\") %>% mutate(delta=0, highlight=\"NO\", endpoint=\"2\"),\n",
    "                temp %>% filter(endpoint == \"OMOP_4306655\") %>% mutate(delta=0, highlight=\"NO\", endpoint=\"1\"))\n",
    "\n",
    "endpoint_order = (temp %>% arrange(delta))$endpoint\n",
    "\n",
    "temp = temp %>% mutate(endpoint = factor(endpoint, levels=endpoint_order)) %>% ungroup() %>% \n",
    "    arrange(endpoint) %>% group_by(phecode_category) %>% mutate(endpoint_id = row_number()) #%>%\n",
    "\n",
    "temp_plot = temp %>% filter(!phecode_category %in% c(\"Signs/Symptoms\", \"Preg\", \"Rx\", \"Stat\"))\n",
    "\n",
    "overview_a = ggplot(temp_plot) +\n",
    "    geom_ribbon(aes(x=endpoint_id, ymin=0, ymax=delta), fill=\"black\", alpha=0.2)+\n",
    "    geom_point(aes(x=endpoint_id, y=delta, color=highlight, size=highlight, alpha=highlight)) +\n",
    "    #geom_text(data=temp %>% filter(highlight==\"YES\"), aes(x=endpoint, y=delta+0.045, label=\"↓\"), color=\"black\", size=5, alpha=0.7) +\n",
    "    #geom_segment(aes(x=endpoint, xend=endpoint, y=0, yend=delta, color=highlight, size=highlight), alpha=0.5)+#+\n",
    "    labs(title=plot_title, x=\"Endpoints\", y=\"Delta C-Index\")+\n",
    "    scale_color_manual(values=c(\"NO\"=\"black\", \"YES\"=\"firebrick\"))+\n",
    "    scale_alpha_manual(values=c(\"NO\"=0.1, \"YES\"=1))+\n",
    "    scale_size_manual(values=c(\"NO\"=0.01, \"YES\"=1))+\n",
    "    #scale_colour_manual(values = c(\"pos\"=\"forestgreen\", \"neg\" = \"firebrick\")) + \n",
    "    #coord_polar() +\n",
    "    coord_cartesian(ylim=c(-0.1, 0.4), clip = \"off\")+\n",
    "    scale_y_continuous(expand=c(0, 0))+\n",
    "    scale_x_discrete(expand=expansion(add=20))+\n",
    "    facet_grid(~phecode_category, scales=\"free_x\", space=\"free_x\")+#, switch=TRUE)+\n",
    "    #facet_grid2(~phecode_category, scales = \"free\", independent = \"all\") + \n",
    "    theme(axis.title.x=element_blank(),\n",
    "        axis.text.x=element_blank(),\n",
    "        axis.ticks.x=element_blank(),\n",
    "        panel.grid.major=element_blank(), \n",
    "         strip.text = element_text(angle=270, hjust=1),\n",
    "    plot.title = element_markdown()) + \n",
    "    theme(legend.position=\"none\") \n",
    "\n",
    "temp = temp %>% filter(!(phecode_category == \"Death\" & highlight==\"NO\")) \n",
    "    \n",
    "    #geom_ribbon(aes(x=id, ymin=AgeSex, ymax=`Age+Sex+MedicalHistory`), fill=\"red\", alpha=0.2)\n",
    "#geom_violin(size=0.1)\n",
    "overview_a"
   ]
  },
  {
   "cell_type": "code",
   "execution_count": null,
   "metadata": {
    "execution": {
     "iopub.execute_input": "2023-05-12T13:46:56.742663Z",
     "iopub.status.busy": "2023-05-12T13:46:56.741127Z",
     "iopub.status.idle": "2023-05-12T13:46:59.731323Z",
     "shell.execute_reply": "2023-05-12T13:46:59.729921Z"
    },
    "tags": []
   },
   "outputs": [],
   "source": [
    "plot_width = 8.25; plot_height=2.5; plot_res = 600\n",
    "options(repr.plot.width = plot_width, repr.plot.height = plot_height, repr.plot.res=plot_res)\n",
    "\n",
    "library(ggtext)\n",
    "library(ggdist)\n",
    "\n",
    "scores_plot = c(\"Age+Sex+Comorbidities\", \"Age+Sex+MedicalHistory\")#, \"AgeSexMedicalHistory\")\n",
    "#plot_title = glue(\"Charlson Comorbidity Index (CCI) + {scores_plot[2]}\")\n",
    "plot_title = glue(\"Charlson Comorbidity Index (CCI) vs. **Age+Sex+Medical History**\")\n",
    "\n",
    "temp = benchmark_endpoints %>% \n",
    "    filter(score %in% scores_plot) %>% \n",
    "    mutate(score = factor(score, levels=scores_plot)) %>%\n",
    "    mutate(endpoint = factor(endpoint, levels=endpoints_sorted)) %>%\n",
    "    ungroup() %>%\n",
    "    pivot_wider(names_from=score, values_from=cindex) %>% \n",
    "    mutate(id = row_number()) %>%\n",
    "    mutate(delta = !!sym(scores_plot[2])-!!sym(scores_plot[1])) %>%\n",
    "    group_by(endpoint, phecode_string, freq, phecode_category) %>%\n",
    "    median_qi(delta) %>%\n",
    "    mutate(pos = case_when(delta>=0 ~ \"pos\", delta < 0 ~\"neg\")) %>%\n",
    "    mutate(endpoint = fct_reorder(endpoint, delta)) %>%\n",
    "    mutate(highlight = case_when(endpoint %in% endpoint_selection ~ \"YES\", TRUE ~ \"NO\")) %>%# %>% filter(endpoint %in% endpoint_sample)\n",
    "    mutate(phecode_category = factor(phecode_category, levels=categories_sorted))\n",
    "\n",
    "temp = bind_rows(temp, \n",
    "                 temp %>% filter(endpoint == \"OMOP_4306655\") %>% mutate(delta=0, highlight=\"NO\", endpoint=\"2\"),\n",
    "                temp %>% filter(endpoint == \"OMOP_4306655\") %>% mutate(delta=0, highlight=\"NO\", endpoint=\"1\"))\n",
    "\n",
    "endpoint_order = (temp %>% arrange(delta))$endpoint\n",
    "\n",
    "temp = temp %>% mutate(endpoint = factor(endpoint, levels=endpoint_order)) %>% ungroup() %>% \n",
    "    arrange(endpoint) %>% group_by(phecode_category) %>% mutate(endpoint_id = row_number()) #%>%\n",
    "\n",
    "temp_plot = temp %>% filter(!phecode_category %in% c(\"Signs/Symptoms\", \"Preg\", \"Rx\", \"Stat\"))\n",
    "\n",
    "overview_b = ggplot(temp_plot) +\n",
    "    geom_ribbon(aes(x=endpoint_id, ymin=0, ymax=delta), fill=\"black\", alpha=0.2)+\n",
    "    geom_point(aes(x=endpoint_id, y=delta, color=highlight, size=highlight, alpha=highlight)) +\n",
    "    #geom_text(data=temp %>% filter(highlight==\"YES\"), aes(x=endpoint, y=delta+0.045, label=\"↓\"), color=\"black\", size=5, alpha=0.7) +\n",
    "    #geom_segment(aes(x=endpoint, xend=endpoint, y=0, yend=delta, color=highlight, size=highlight), alpha=0.5)+#+\n",
    "    labs(title=plot_title, x=\"Endpoints\", y=\"Delta C-Index\")+\n",
    "    scale_color_manual(values=c(\"NO\"=\"black\", \"YES\"=\"firebrick\"))+\n",
    "    scale_alpha_manual(values=c(\"NO\"=0.1, \"YES\"=1))+\n",
    "    scale_size_manual(values=c(\"NO\"=0.01, \"YES\"=1))+\n",
    "    #scale_colour_manual(values = c(\"pos\"=\"forestgreen\", \"neg\" = \"firebrick\")) + \n",
    "    #coord_polar() +\n",
    "    coord_cartesian(ylim=c(-0.1, 0.4), clip = \"off\")+\n",
    "    scale_y_continuous(expand=c(0, 0))+\n",
    "    scale_x_discrete(expand=expansion(add=20))+\n",
    "    facet_grid(~phecode_category, scales=\"free_x\", space=\"free_x\")+#, switch=TRUE)+\n",
    "    #facet_grid2(~phecode_category, scales = \"free\", independent = \"all\") + \n",
    "    theme(axis.title.x=element_blank(),\n",
    "        axis.text.x=element_blank(),\n",
    "        axis.ticks.x=element_blank(),\n",
    "        panel.grid.major=element_blank(), \n",
    "         strip.text = element_text(angle=270, hjust=1),\n",
    "            strip.background = element_blank(),\n",
    "  strip.text.x = element_blank(),\n",
    "    plot.title = element_markdown()) +  \n",
    "    theme(legend.position=\"none\") \n",
    "\n",
    "temp = temp %>% filter(!(phecode_category == \"Death\" & highlight==\"NO\")) \n",
    "    \n",
    "    #geom_ribbon(aes(x=id, ymin=AgeSex, ymax=`Age+Sex+MedicalHistory`), fill=\"red\", alpha=0.2)\n",
    "#geom_violin(size=0.1)\n",
    "overview_b"
   ]
  },
  {
   "cell_type": "code",
   "execution_count": null,
   "metadata": {
    "execution": {
     "iopub.execute_input": "2023-05-12T13:59:26.496525Z",
     "iopub.status.busy": "2023-05-12T13:59:26.495106Z",
     "iopub.status.idle": "2023-05-12T13:59:29.385847Z",
     "shell.execute_reply": "2023-05-12T13:59:29.384148Z"
    },
    "tags": []
   },
   "outputs": [],
   "source": [
    "plot_width = 8.25; plot_height=2.5; plot_res = 600\n",
    "options(repr.plot.width = plot_width, repr.plot.height = plot_height, repr.plot.res=plot_res)\n",
    "\n",
    "library(ggtext)\n",
    "library(ggdist)\n",
    "\n",
    "scores_plot = c(\"Age+Sex+Comorbidities\", \"Age+Sex+Comorbidities+MedicalHistory\")#, \"AgeSexMedicalHistory\")\n",
    "#plot_title = glue(\"Charlson Comorbidity Index (CCI) + {scores_plot[2]}\")\n",
    "plot_title = glue(\"Charlson Comorbidity Index (based on routine health records) **+ MedicalHistory**\")\n",
    "\n",
    "temp = benchmark_endpoints %>% \n",
    "    filter(score %in% scores_plot) %>% \n",
    "    mutate(score = factor(score, levels=scores_plot)) %>%\n",
    "    mutate(endpoint = factor(endpoint, levels=endpoints_sorted)) %>%\n",
    "    ungroup() %>%\n",
    "    pivot_wider(names_from=score, values_from=cindex) %>% \n",
    "    mutate(id = row_number()) %>%\n",
    "    mutate(delta = !!sym(scores_plot[2])-!!sym(scores_plot[1])) %>%\n",
    "    group_by(endpoint, phecode_string, freq, phecode_category) %>%\n",
    "    median_qi(delta) %>%\n",
    "    mutate(pos = case_when(delta>=0 ~ \"pos\", delta < 0 ~\"neg\")) %>%\n",
    "    mutate(endpoint = fct_reorder(endpoint, delta)) %>%\n",
    "    mutate(highlight = case_when(endpoint %in% endpoint_selection ~ \"YES\", TRUE ~ \"NO\")) %>%# %>% filter(endpoint %in% endpoint_sample)\n",
    "    mutate(phecode_category = factor(phecode_category, levels=categories_sorted))\n",
    "\n",
    "temp = bind_rows(temp, \n",
    "                 temp %>% filter(endpoint == \"OMOP_4306655\") %>% mutate(delta=0, highlight=\"NO\", endpoint=\"2\"),\n",
    "                temp %>% filter(endpoint == \"OMOP_4306655\") %>% mutate(delta=0, highlight=\"NO\", endpoint=\"1\"))\n",
    "\n",
    "endpoint_order = (temp %>% arrange(delta))$endpoint\n",
    "\n",
    "temp = temp %>% mutate(endpoint = factor(endpoint, levels=endpoint_order)) %>% ungroup() %>% \n",
    "    arrange(endpoint) %>% group_by(phecode_category) %>% mutate(endpoint_id = row_number()) #%>%\n",
    "\n",
    "temp_plot = temp %>% filter(!phecode_category %in% c(\"Signs/Symptoms\", \"Preg\", \"Rx\", \"Stat\"))\n",
    "\n",
    "overview_c = ggplot(temp_plot) +\n",
    "    geom_ribbon(aes(x=endpoint_id, ymin=0, ymax=delta), fill=\"black\", alpha=0.2)+\n",
    "    geom_point(aes(x=endpoint_id, y=delta, color=highlight, size=highlight, alpha=highlight)) +\n",
    "    #geom_text(data=temp %>% filter(highlight==\"YES\"), aes(x=endpoint, y=delta+0.045, label=\"↓\"), color=\"black\", size=5, alpha=0.7) +\n",
    "    #geom_segment(aes(x=endpoint, xend=endpoint, y=0, yend=delta, color=highlight, size=highlight), alpha=0.5)+#+\n",
    "    labs(title=plot_title, x=\"Endpoints\", y=\"Delta C-Index\")+\n",
    "    scale_color_manual(values=c(\"NO\"=\"black\", \"YES\"=\"firebrick\"))+\n",
    "    scale_alpha_manual(values=c(\"NO\"=0.1, \"YES\"=1))+\n",
    "    scale_size_manual(values=c(\"NO\"=0.01, \"YES\"=1))+\n",
    "    #scale_colour_manual(values = c(\"pos\"=\"forestgreen\", \"neg\" = \"firebrick\")) + \n",
    "    #coord_polar() +\n",
    "    coord_cartesian(ylim=c(-0.1, 0.4), clip = \"off\")+\n",
    "    scale_y_continuous(expand=c(0, 0))+\n",
    "    scale_x_discrete(expand=expansion(add=20))+\n",
    "    facet_grid(~phecode_category, scales=\"free_x\", space=\"free_x\")+#, switch=TRUE)+\n",
    "    #facet_grid2(~phecode_category, scales = \"free\", independent = \"all\") + \n",
    "    theme(#axis.title.x=element_blank(),\n",
    "        axis.text.x=element_blank(),\n",
    "        axis.ticks.x=element_blank(),\n",
    "        panel.grid.major=element_blank(), \n",
    "         strip.text = element_text(angle=270, hjust=1),\n",
    "            strip.background = element_blank(),\n",
    "  strip.text.x = element_blank(),\n",
    "    plot.title = element_markdown()) +  \n",
    "    theme(legend.position=\"none\") \n",
    "\n",
    "temp = temp %>% filter(!(phecode_category == \"Death\" & highlight==\"NO\")) \n",
    "    \n",
    "    #geom_ribbon(aes(x=id, ymin=AgeSex, ymax=`Age+Sex+MedicalHistory`), fill=\"red\", alpha=0.2)\n",
    "#geom_violin(size=0.1)\n",
    "overview_c"
   ]
  },
  {
   "cell_type": "code",
   "execution_count": null,
   "metadata": {
    "execution": {
     "iopub.execute_input": "2023-05-12T13:47:02.606352Z",
     "iopub.status.busy": "2023-05-12T13:47:02.605424Z",
     "iopub.status.idle": "2023-05-12T13:47:05.436713Z",
     "shell.execute_reply": "2023-05-12T13:47:05.435581Z"
    },
    "tags": []
   },
   "outputs": [],
   "source": [
    "plot_width = 8.25; plot_height=2.5; plot_res = 600\n",
    "options(repr.plot.width = plot_width, repr.plot.height = plot_height, repr.plot.res=plot_res)\n",
    "\n",
    "library(ggtext)\n",
    "library(ggdist)\n",
    "\n",
    "scores_plot = c(\"Age+Sex\", \"ASCVD\")#, \"AgeSexMedicalHistory\")\n",
    "plot_title = glue(\"{scores_plot[1]} + **{scores_plot[2]}**\")\n",
    "\n",
    "\n",
    "temp = benchmark_endpoints %>% \n",
    "    filter(score %in% scores_plot) %>% \n",
    "    mutate(score = factor(score, levels=scores_plot)) %>%\n",
    "    mutate(endpoint = factor(endpoint, levels=endpoints_sorted)) %>%\n",
    "    ungroup() %>%\n",
    "    pivot_wider(names_from=score, values_from=cindex) %>% \n",
    "    mutate(id = row_number()) %>%\n",
    "    mutate(delta = !!sym(scores_plot[2])-!!sym(scores_plot[1])) %>%\n",
    "    group_by(endpoint, phecode_string, freq, phecode_category) %>%\n",
    "    median_qi(delta) %>%\n",
    "    mutate(pos = case_when(delta>=0 ~ \"pos\", delta < 0 ~\"neg\")) %>%\n",
    "    mutate(endpoint = fct_reorder(endpoint, delta)) %>%\n",
    "    mutate(highlight = case_when(endpoint %in% endpoint_selection ~ \"YES\", TRUE ~ \"NO\")) %>%# %>% filter(endpoint %in% endpoint_sample)\n",
    "    mutate(phecode_category = factor(phecode_category, levels=categories_sorted))\n",
    "\n",
    "temp = bind_rows(temp, \n",
    "                 temp %>% filter(endpoint == \"OMOP_4306655\") %>% mutate(delta=0, highlight=\"NO\", endpoint=\"2\"),\n",
    "                temp %>% filter(endpoint == \"OMOP_4306655\") %>% mutate(delta=0, highlight=\"NO\", endpoint=\"1\"))\n",
    "\n",
    "endpoint_order = (temp %>% arrange(delta))$endpoint\n",
    "\n",
    "temp = temp %>% mutate(endpoint = factor(endpoint, levels=endpoint_order)) %>% ungroup() %>% \n",
    "    arrange(endpoint) %>% group_by(phecode_category) %>% mutate(endpoint_id = row_number()) #%>%\n",
    "\n",
    "temp_plot = temp %>% filter(!phecode_category %in% c(\"Signs/Symptoms\", \"Preg\", \"Rx\", \"Stat\"))\n",
    "\n",
    "overview_d = ggplot(temp_plot) +\n",
    "    geom_ribbon(aes(x=endpoint_id, ymin=0, ymax=delta), fill=\"black\", alpha=0.2)+\n",
    "    geom_point(aes(x=endpoint_id, y=delta, color=highlight, size=highlight, alpha=highlight)) +\n",
    "    #geom_text(data=temp %>% filter(highlight==\"YES\"), aes(x=endpoint, y=delta+0.045, label=\"↓\"), color=\"black\", size=5, alpha=0.7) +\n",
    "    #geom_segment(aes(x=endpoint, xend=endpoint, y=0, yend=delta, color=highlight, size=highlight), alpha=0.5)+#+\n",
    "    labs(title=plot_title, x=\"Endpoints\", y=\"Delta C-Index\")+\n",
    "    scale_color_manual(values=c(\"NO\"=\"black\", \"YES\"=\"firebrick\"))+\n",
    "    scale_alpha_manual(values=c(\"NO\"=0.1, \"YES\"=1))+\n",
    "    scale_size_manual(values=c(\"NO\"=0.01, \"YES\"=1))+\n",
    "    #scale_colour_manual(values = c(\"pos\"=\"forestgreen\", \"neg\" = \"firebrick\")) + \n",
    "    #coord_polar() +\n",
    "    coord_cartesian(ylim=c(-0.1, 0.4), clip = \"off\")+\n",
    "    scale_y_continuous(expand=c(0, 0))+\n",
    "    scale_x_discrete(expand=expansion(add=20))+\n",
    "    facet_grid(~phecode_category, scales=\"free_x\", space=\"free_x\")+#, switch=TRUE)+\n",
    "    #facet_grid2(~phecode_category, scales = \"free\", independent = \"all\") + \n",
    "     theme(#axis.title.x=element_blank(),\n",
    "        axis.text.x=element_blank(),\n",
    "        axis.ticks.x=element_blank(),\n",
    "        panel.grid.major=element_blank(), \n",
    "         strip.text = element_text(angle=270, hjust=1),\n",
    "            strip.background = element_blank(),\n",
    "  strip.text.x = element_blank(),\n",
    "    plot.title = element_markdown()) +  \n",
    "    theme(legend.position=\"none\") \n",
    "\n",
    "temp = temp %>% filter(!(phecode_category == \"Death\" & highlight==\"NO\")) \n",
    "    \n",
    "    #geom_ribbon(aes(x=id, ymin=AgeSex, ymax=`Age+Sex+MedicalHistory`), fill=\"red\", alpha=0.2)\n",
    "#geom_violin(size=0.1)\n",
    "overview_d"
   ]
  },
  {
   "cell_type": "code",
   "execution_count": null,
   "metadata": {
    "execution": {
     "iopub.execute_input": "2023-05-12T13:58:49.584553Z",
     "iopub.status.busy": "2023-05-12T13:58:49.583484Z",
     "iopub.status.idle": "2023-05-12T13:58:52.401713Z",
     "shell.execute_reply": "2023-05-12T13:58:52.400630Z"
    },
    "tags": []
   },
   "outputs": [],
   "source": [
    "plot_width = 8.25; plot_height=2.5; plot_res = 600\n",
    "options(repr.plot.width = plot_width, repr.plot.height = plot_height, repr.plot.res=plot_res)\n",
    "\n",
    "library(ggtext)\n",
    "library(ggdist)\n",
    "\n",
    "scores_plot = c(\"ASCVD\", \"Age+Sex+MedicalHistory\")#, \"AgeSexMedicalHistory\")\n",
    "plot_title = glue(\"{scores_plot[1]} vs **Age+Sex+MedicalHistory**\")\n",
    "\n",
    "temp = benchmark_endpoints %>% \n",
    "    filter(score %in% scores_plot) %>% \n",
    "    mutate(score = factor(score, levels=scores_plot)) %>%\n",
    "    mutate(endpoint = factor(endpoint, levels=endpoints_sorted)) %>%\n",
    "    ungroup() %>%\n",
    "    pivot_wider(names_from=score, values_from=cindex) %>% \n",
    "    mutate(id = row_number()) %>%\n",
    "    mutate(delta = !!sym(scores_plot[2])-!!sym(scores_plot[1])) %>%\n",
    "    group_by(endpoint, phecode_string, freq, phecode_category) %>%\n",
    "    median_qi(delta) %>%\n",
    "    mutate(pos = case_when(delta>=0 ~ \"pos\", delta < 0 ~\"neg\")) %>%\n",
    "    mutate(endpoint = fct_reorder(endpoint, delta)) %>%\n",
    "    mutate(highlight = case_when(endpoint %in% endpoint_selection ~ \"YES\", TRUE ~ \"NO\")) %>%# %>% filter(endpoint %in% endpoint_sample)\n",
    "    mutate(phecode_category = factor(phecode_category, levels=categories_sorted))\n",
    "\n",
    "temp = bind_rows(temp, \n",
    "                 temp %>% filter(endpoint == \"OMOP_4306655\") %>% mutate(delta=0, highlight=\"NO\", endpoint=\"2\"),\n",
    "                temp %>% filter(endpoint == \"OMOP_4306655\") %>% mutate(delta=0, highlight=\"NO\", endpoint=\"1\"))\n",
    "\n",
    "endpoint_order = (temp %>% arrange(delta))$endpoint\n",
    "\n",
    "temp = temp %>% mutate(endpoint = factor(endpoint, levels=endpoint_order)) %>% ungroup() %>% \n",
    "    arrange(endpoint) %>% group_by(phecode_category) %>% mutate(endpoint_id = row_number()) #%>%\n",
    "\n",
    "temp_plot = temp %>% filter(!phecode_category %in% c(\"Signs/Symptoms\", \"Preg\", \"Rx\", \"Stat\"))\n",
    "\n",
    "overview_e = ggplot(temp_plot) +\n",
    "    geom_ribbon(aes(x=endpoint_id, ymin=0, ymax=delta), fill=\"black\", alpha=0.2)+\n",
    "    geom_point(aes(x=endpoint_id, y=delta, color=highlight, size=highlight, alpha=highlight)) +\n",
    "    #geom_text(data=temp %>% filter(highlight==\"YES\"), aes(x=endpoint, y=delta+0.045, label=\"↓\"), color=\"black\", size=5, alpha=0.7) +\n",
    "    #geom_segment(aes(x=endpoint, xend=endpoint, y=0, yend=delta, color=highlight, size=highlight), alpha=0.5)+#+\n",
    "    labs(title=plot_title, x=\"Endpoints\", y=\"Delta C-Index\")+\n",
    "    scale_color_manual(values=c(\"NO\"=\"black\", \"YES\"=\"firebrick\"))+\n",
    "    scale_alpha_manual(values=c(\"NO\"=0.1, \"YES\"=1))+\n",
    "    scale_size_manual(values=c(\"NO\"=0.01, \"YES\"=1))+\n",
    "    #scale_colour_manual(values = c(\"pos\"=\"forestgreen\", \"neg\" = \"firebrick\")) + \n",
    "    #coord_polar() +\n",
    "    coord_cartesian(ylim=c(-0.1, 0.4), clip = \"off\")+\n",
    "    scale_y_continuous(expand=c(0, 0))+\n",
    "    scale_x_discrete(expand=expansion(add=20))+\n",
    "    facet_grid(~phecode_category, scales=\"free_x\", space=\"free_x\")+#, switch=TRUE)+\n",
    "    #facet_grid2(~phecode_category, scales = \"free\", independent = \"all\") + \n",
    "    theme(#axis.title.x=element_blank(),\n",
    "        axis.text.x=element_blank(),\n",
    "        axis.ticks.x=element_blank(),\n",
    "        panel.grid.major=element_blank(), \n",
    "         strip.text = element_text(angle=270, hjust=1),\n",
    "            strip.background = element_blank(),\n",
    "  strip.text.x = element_blank(),\n",
    "    plot.title = element_markdown()) +  \n",
    "    theme(legend.position=\"none\") \n",
    "\n",
    "temp = temp %>% filter(!(phecode_category == \"Death\" & highlight==\"NO\")) \n",
    "    \n",
    "    #geom_ribbon(aes(x=id, ymin=AgeSex, ymax=`Age+Sex+MedicalHistory`), fill=\"red\", alpha=0.2)\n",
    "#geom_violin(size=0.1)\n",
    "overview_e"
   ]
  },
  {
   "cell_type": "code",
   "execution_count": null,
   "metadata": {
    "execution": {
     "iopub.execute_input": "2023-05-12T13:59:38.126788Z",
     "iopub.status.busy": "2023-05-12T13:59:38.125166Z",
     "iopub.status.idle": "2023-05-12T13:59:41.045438Z",
     "shell.execute_reply": "2023-05-12T13:59:41.044296Z"
    },
    "tags": []
   },
   "outputs": [],
   "source": [
    "plot_width = 8.25; plot_height=2.5; plot_res = 600\n",
    "options(repr.plot.width = plot_width, repr.plot.height = plot_height, repr.plot.res=plot_res)\n",
    "\n",
    "library(ggtext)\n",
    "library(ggdist)\n",
    "\n",
    "scores_plot = c(\"ASCVD\", \"ASCVD+MedicalHistory\")#, \"AgeSexMedicalHistory\")\n",
    "plot_title = glue(\"{scores_plot[1]} (requires an extra blood draw) **+ Medical History**\")\n",
    "\n",
    "temp = benchmark_endpoints %>% \n",
    "    filter(score %in% scores_plot) %>% \n",
    "    mutate(score = factor(score, levels=scores_plot)) %>%\n",
    "    mutate(endpoint = factor(endpoint, levels=endpoints_sorted)) %>%\n",
    "    ungroup() %>%\n",
    "    pivot_wider(names_from=score, values_from=cindex) %>% \n",
    "    mutate(id = row_number()) %>%\n",
    "    mutate(delta = !!sym(scores_plot[2])-!!sym(scores_plot[1])) %>%\n",
    "    group_by(endpoint, phecode_string, freq, phecode_category) %>%\n",
    "    median_qi(delta) %>%\n",
    "    mutate(pos = case_when(delta>=0 ~ \"pos\", delta < 0 ~\"neg\")) %>%\n",
    "    mutate(endpoint = fct_reorder(endpoint, delta)) %>%\n",
    "    mutate(highlight = case_when(endpoint %in% endpoint_selection ~ \"YES\", TRUE ~ \"NO\")) %>%# %>% filter(endpoint %in% endpoint_sample)\n",
    "    mutate(phecode_category = factor(phecode_category, levels=categories_sorted))\n",
    "\n",
    "temp = bind_rows(temp, \n",
    "                 temp %>% filter(endpoint == \"OMOP_4306655\") %>% mutate(delta=0, highlight=\"NO\", endpoint=\"2\"),\n",
    "                temp %>% filter(endpoint == \"OMOP_4306655\") %>% mutate(delta=0, highlight=\"NO\", endpoint=\"1\"))\n",
    "\n",
    "endpoint_order = (temp %>% arrange(delta))$endpoint\n",
    "\n",
    "temp = temp %>% mutate(endpoint = factor(endpoint, levels=endpoint_order)) %>% ungroup() %>% \n",
    "    arrange(endpoint) %>% group_by(phecode_category) %>% mutate(endpoint_id = row_number()) #%>%\n",
    "\n",
    "temp_plot = temp %>% filter(!phecode_category %in% c(\"Signs/Symptoms\", \"Preg\", \"Rx\", \"Stat\"))\n",
    "\n",
    "overview_f = ggplot(temp_plot) +\n",
    "    geom_ribbon(aes(x=endpoint_id, ymin=0, ymax=delta), fill=\"black\", alpha=0.2)+\n",
    "    geom_point(aes(x=endpoint_id, y=delta, color=highlight, size=highlight, alpha=highlight)) +\n",
    "    #geom_text(data=temp %>% filter(highlight==\"YES\"), aes(x=endpoint, y=delta+0.045, label=\"↓\"), color=\"black\", size=5, alpha=0.7) +\n",
    "    #geom_segment(aes(x=endpoint, xend=endpoint, y=0, yend=delta, color=highlight, size=highlight), alpha=0.5)+#+\n",
    "    labs(title=plot_title, x=\"Endpoints\", y=\"Delta C-Index\")+\n",
    "    scale_color_manual(values=c(\"NO\"=\"black\", \"YES\"=\"firebrick\"))+\n",
    "    scale_alpha_manual(values=c(\"NO\"=0.1, \"YES\"=1))+\n",
    "    scale_size_manual(values=c(\"NO\"=0.01, \"YES\"=1))+\n",
    "    #scale_colour_manual(values = c(\"pos\"=\"forestgreen\", \"neg\" = \"firebrick\")) + \n",
    "    #coord_polar() +\n",
    "    coord_cartesian(ylim=c(-0.1, 0.4), clip = \"off\")+\n",
    "    scale_y_continuous(expand=c(0, 0))+\n",
    "    scale_x_discrete(expand=expansion(add=20))+\n",
    "    facet_grid(~phecode_category, scales=\"free_x\", space=\"free_x\")+#, switch=TRUE)+\n",
    "    #facet_grid2(~phecode_category, scales = \"free\", independent = \"all\") + \n",
    "    theme(#axis.title.x=element_blank(),\n",
    "        axis.text.x=element_blank(),\n",
    "        axis.ticks.x=element_blank(),\n",
    "        panel.grid.major=element_blank(), \n",
    "         strip.text = element_text(angle=270, hjust=1),\n",
    "            strip.background = element_blank(),\n",
    "  strip.text.x = element_blank(),\n",
    "    plot.title = element_markdown()) +  \n",
    "    theme(legend.position=\"none\") \n",
    "\n",
    "temp = temp %>% filter(!(phecode_category == \"Death\" & highlight==\"NO\")) \n",
    "    \n",
    "    #geom_ribbon(aes(x=id, ymin=AgeSex, ymax=`Age+Sex+MedicalHistory`), fill=\"red\", alpha=0.2)\n",
    "#geom_violin(size=0.1)\n",
    "overview_f"
   ]
  },
  {
   "cell_type": "code",
   "execution_count": null,
   "metadata": {
    "execution": {
     "iopub.execute_input": "2023-05-12T14:01:13.301668Z",
     "iopub.status.busy": "2023-05-12T14:01:13.300634Z",
     "iopub.status.idle": "2023-05-12T14:01:14.362627Z",
     "shell.execute_reply": "2023-05-12T14:01:14.361510Z"
    },
    "tags": []
   },
   "outputs": [],
   "source": [
    "plot_width = 8.25; plot_height=3; plot_res = 600\n",
    "options(repr.plot.width = plot_width, repr.plot.height = plot_height, repr.plot.res=plot_res)\n",
    "\n",
    "overview_a "
   ]
  },
  {
   "cell_type": "code",
   "execution_count": null,
   "metadata": {
    "execution": {
     "iopub.execute_input": "2023-05-12T14:01:14.365325Z",
     "iopub.status.busy": "2023-05-12T14:01:14.364361Z",
     "iopub.status.idle": "2023-05-12T14:01:14.960331Z",
     "shell.execute_reply": "2023-05-12T14:01:14.959035Z"
    },
    "tags": []
   },
   "outputs": [],
   "source": [
    "library(gt)\n",
    "plot_name = \"SupplFigure3_facet\"\n",
    "overview_a %>% ggsave(filename=glue(\"outputs/{plot_name}.pdf\"), device=cairo_pdf, width=plot_width, height=plot_height, dpi=plot_res)"
   ]
  },
  {
   "cell_type": "code",
   "execution_count": null,
   "metadata": {},
   "outputs": [],
   "source": []
  },
  {
   "cell_type": "code",
   "execution_count": null,
   "metadata": {
    "execution": {
     "iopub.execute_input": "2023-05-12T14:01:15.729262Z",
     "iopub.status.busy": "2023-05-12T14:01:15.728335Z",
     "iopub.status.idle": "2023-05-12T14:01:17.313838Z",
     "shell.execute_reply": "2023-05-12T14:01:17.312721Z"
    },
    "tags": []
   },
   "outputs": [],
   "source": [
    "plot_width = 8.25; plot_height=3; plot_res = 600\n",
    "options(repr.plot.width = plot_width, repr.plot.height = plot_height, repr.plot.res=plot_res)\n",
    "overview_other_scores = overview_c / overview_f #+ plot_layout(heights = c())\n",
    "overview_other_scores"
   ]
  },
  {
   "cell_type": "code",
   "execution_count": null,
   "metadata": {
    "execution": {
     "iopub.execute_input": "2023-05-12T14:01:17.316497Z",
     "iopub.status.busy": "2023-05-12T14:01:17.315586Z",
     "iopub.status.idle": "2023-05-12T14:01:18.371588Z",
     "shell.execute_reply": "2023-05-12T14:01:18.370270Z"
    },
    "tags": []
   },
   "outputs": [],
   "source": [
    "library(gt)\n",
    "plot_name = \"SupplFigure3_other_scores\"\n",
    "overview_other_scores %>% ggsave(filename=glue(\"outputs/{plot_name}.pdf\"), device=cairo_pdf, width=plot_width, height=plot_height, dpi=plot_res)"
   ]
  },
  {
   "cell_type": "code",
   "execution_count": null,
   "metadata": {},
   "outputs": [],
   "source": []
  },
  {
   "cell_type": "code",
   "execution_count": null,
   "metadata": {},
   "outputs": [],
   "source": []
  },
  {
   "cell_type": "code",
   "execution_count": null,
   "metadata": {},
   "outputs": [],
   "source": []
  },
  {
   "cell_type": "code",
   "execution_count": null,
   "metadata": {},
   "outputs": [],
   "source": []
  },
  {
   "cell_type": "code",
   "execution_count": null,
   "metadata": {},
   "outputs": [],
   "source": []
  },
  {
   "cell_type": "code",
   "execution_count": null,
   "metadata": {},
   "outputs": [],
   "source": []
  },
  {
   "cell_type": "code",
   "execution_count": null,
   "metadata": {},
   "outputs": [],
   "source": []
  },
  {
   "cell_type": "code",
   "execution_count": null,
   "metadata": {},
   "outputs": [],
   "source": []
  },
  {
   "cell_type": "code",
   "execution_count": null,
   "metadata": {
    "execution": {
     "iopub.execute_input": "2023-04-28T08:39:48.661575Z",
     "iopub.status.busy": "2023-04-28T08:39:48.660537Z",
     "iopub.status.idle": "2023-04-28T08:39:52.283113Z",
     "shell.execute_reply": "2023-04-28T08:39:52.282014Z"
    },
    "tags": []
   },
   "outputs": [],
   "source": [
    "plot_width = 8.25; plot_height=2.25; plot_res = 1200\n",
    "options(repr.plot.width = plot_width, repr.plot.height = plot_height, repr.plot.res=plot_res)\n",
    "\n",
    "library(ggtext)\n",
    "library(ggdist)\n",
    "\n",
    "scores_plot = c(\"QRISK3\", \"QRISK3+MedicalHistory\")#, \"AgeSexMedicalHistory\")\n",
    "\n",
    "temp = benchmark_endpoints %>% \n",
    "    filter(score %in% scores_plot) %>% \n",
    "    mutate(score = factor(score, levels=scores_plot)) %>%\n",
    "    mutate(endpoint = factor(endpoint, levels=endpoints_sorted)) %>%\n",
    "    ungroup() %>%\n",
    "    pivot_wider(names_from=score, values_from=cindex) %>% \n",
    "    mutate(id = row_number()) %>%\n",
    "    mutate(delta = !!sym(scores_plot[2])-!!sym(scores_plot[1])) %>%\n",
    "    group_by(endpoint, phecode_string, freq, phecode_category) %>%\n",
    "    median_qi(delta) %>%\n",
    "    mutate(pos = case_when(delta>=0 ~ \"pos\", delta < 0 ~\"neg\")) %>%\n",
    "    mutate(endpoint = fct_reorder(endpoint, delta)) %>%\n",
    "    mutate(highlight = case_when(endpoint %in% endpoint_selection ~ \"YES\", TRUE ~ \"NO\")) %>%# %>% filter(endpoint %in% endpoint_sample)\n",
    "    mutate(phecode_category = factor(phecode_category, levels=categories_sorted)) \n",
    "\n",
    "temp = bind_rows(temp, \n",
    "                 temp %>% filter(endpoint == \"OMOP_4306655\") %>% mutate(delta=0, highlight=\"NO\", endpoint=\"2\"),\n",
    "                temp %>% filter(endpoint == \"OMOP_4306655\") %>% mutate(delta=0, highlight=\"NO\", endpoint=\"0\"))\n",
    "\n",
    "endpoint_order = (temp %>% arrange(delta))$endpoint\n",
    "\n",
    "temp = temp %>% mutate(endpoint = factor(endpoint, levels=endpoint_order)) %>% ungroup() %>% \n",
    "    arrange(endpoint) %>% group_by(phecode_category) %>% mutate(endpoint = row_number()) #%>%\n",
    "\n",
    "temp_plot = temp %>% filter(!phecode_category %in% c(\"Signs/Symptoms\", \"Preg\", \"Rx\", \"Stat\"))\n",
    "\n",
    "overview = ggplot(temp_plot) +\n",
    "    geom_ribbon(aes(x=endpoint, ymin=0, ymax=delta), fill=\"black\", alpha=0.2)+\n",
    "    geom_point(aes(x=endpoint, y=delta, color=highlight, size=highlight, alpha=highlight)) +\n",
    "    #geom_text(data=temp %>% filter(highlight==\"YES\"), aes(x=endpoint, y=delta+0.045, label=\"↓\"), color=\"black\", size=5, alpha=0.7) +\n",
    "    #geom_segment(aes(x=endpoint, xend=endpoint, y=0, yend=delta, color=highlight, size=highlight), alpha=0.5)+#+\n",
    "    labs(x=\"Endpoints\", y=\"Delta C-Index\")+\n",
    "    scale_color_manual(values=c(\"NO\"=\"black\", \"YES\"=\"firebrick\"))+\n",
    "    scale_alpha_manual(values=c(\"NO\"=0.1, \"YES\"=1))+\n",
    "    scale_size_manual(values=c(\"NO\"=0.01, \"YES\"=1))+\n",
    "    #scale_colour_manual(values = c(\"pos\"=\"forestgreen\", \"neg\" = \"firebrick\")) + \n",
    "    #coord_polar() +\n",
    "    coord_cartesian(ylim=c(-0.1, 0.4), clip = \"off\")+\n",
    "    scale_y_continuous(expand=c(0, 0))+\n",
    "    scale_x_discrete(expand=expansion(add=20))+\n",
    "    facet_grid(~phecode_category, scales=\"free_x\", space=\"free_x\")+#, switch=TRUE)+\n",
    "    #facet_grid2(~phecode_category, scales = \"free\", independent = \"all\") + \n",
    "    theme(axis.title.x=element_blank(),\n",
    "        axis.text.x=element_blank(),\n",
    "        axis.ticks.x=element_blank(),\n",
    "        panel.grid.major=element_blank(), \n",
    "         strip.text = element_text(angle=270, hjust=1)) + \n",
    "    theme(legend.position=\"none\") \n",
    "    \n",
    "    #geom_ribbon(aes(x=id, ymin=AgeSex, ymax=`Age+Sex+MedicalHistory`), fill=\"red\", alpha=0.2)\n",
    "#geom_violin(size=0.1)\n",
    "overview"
   ]
  },
  {
   "cell_type": "code",
   "execution_count": null,
   "metadata": {
    "execution": {
     "iopub.execute_input": "2023-04-28T08:38:36.302233Z",
     "iopub.status.busy": "2023-04-28T08:38:36.294550Z",
     "iopub.status.idle": "2023-04-28T08:38:36.435664Z",
     "shell.execute_reply": "2023-04-28T08:38:36.434558Z"
    },
    "tags": []
   },
   "outputs": [],
   "source": [
    "temp %>% arrange(phecode_category, endpoint)"
   ]
  },
  {
   "cell_type": "markdown",
   "metadata": {
    "execution": {
     "iopub.execute_input": "2022-06-15T09:54:05.829379Z",
     "iopub.status.busy": "2022-06-15T09:54:05.828551Z",
     "iopub.status.idle": "2022-06-15T09:54:05.842105Z",
     "shell.execute_reply": "2022-06-15T09:54:05.840873Z"
    }
   },
   "source": [
    "## Performance against CVD Scores"
   ]
  },
  {
   "cell_type": "code",
   "execution_count": null,
   "metadata": {},
   "outputs": [],
   "source": [
    "SCORE2: Myocardial infarction, Stroke, hypertensive heart disease, Ischemic heart disease, heart failure, arrhythmias, cardiovascular death + cardiac arrest\n",
    "ASCVD: \n",
    "QRISK3:  Ischemic heart disease, Myocardial infarction, TIA, stroke\n",
    "\n",
    "AF: some scores ESC\n"
   ]
  },
  {
   "cell_type": "code",
   "execution_count": null,
   "metadata": {
    "tags": []
   },
   "outputs": [],
   "source": [
    "endpoint_selection"
   ]
  },
  {
   "cell_type": "code",
   "execution_count": null,
   "metadata": {
    "execution": {
     "iopub.execute_input": "2023-04-28T08:21:25.912314Z",
     "iopub.status.busy": "2023-04-28T08:21:25.911405Z",
     "iopub.status.idle": "2023-04-28T08:21:25.928425Z",
     "shell.execute_reply": "2023-04-28T08:21:25.921770Z"
    },
    "tags": []
   },
   "outputs": [],
   "source": [
    "plot_width = 8.25; plot_height=2; plot_res = 320\n",
    "options(repr.plot.width = plot_width, repr.plot.height = plot_height, repr.plot.res=plot_res)\n",
    "\n",
    "plot_against_score = function(score1, score2, endpoint_order=c()){\n",
    "    \n",
    "    scores_plot = c(score1, score2)#, \"AgeSexMedicalHistory\"\n",
    "    \n",
    "    score_label = glue(\"{score1} vs. {score2}\")\n",
    "    #print(score_label)\n",
    "\n",
    "    temp = benchmark_endpoints %>% \n",
    "        filter(score %in% scores_plot) %>% \n",
    "        filter(endpoint %in% endpoint_selection) %>%\n",
    "        mutate(score = factor(score, levels=scores_plot)) %>%\n",
    "        mutate(endpoint = factor(endpoint, levels=sort(endpoint_selection))) %>%\n",
    "        group_by(endpoint, score, phecode_string, phecode_category) %>%\n",
    "        ungroup() %>%\n",
    "        pivot_wider(names_from=score, values_from=cindex) %>% \n",
    "        mutate(id = row_number()) %>%\n",
    "        mutate(delta = !!sym(score2)-!!sym(score1)) %>%\n",
    "        mutate(pos = case_when(delta>=0 ~ \"pos\", delta < 0 ~\"neg\")) %>%\n",
    "        mutate(endpoint = fct_reorder(endpoint, delta)) %>%\n",
    "        mutate(highlight = case_when(endpoint %in% endpoint_selection ~ \"YES\", TRUE ~ \"NO\")) %>%# %>% filter(endpoint %in% endpoint_sample)\n",
    "        mutate(phecode_category = factor(phecode_category, levels=categories_sorted)) %>%\n",
    "        filter(endpoint %in% endpoint_selection) #%>% mutate(endpoint=factor(endpoint, levels=endpoint_order_diff))\n",
    "    \n",
    "    temp_abs = temp %>% group_by(endpoint) %>% summarise(delta=median(delta), m_score2=median(!!sym(score2)), m_score1=median(!!sym(score1))) %>% ungroup() \n",
    "    #print(levels(temp_abs$endpoint))\n",
    "    \n",
    "    temp_abs_segment = temp_abs %>% rowwise() %>% mutate(min_cindex = min(m_score1, m_score2), max_cindex=max(m_score1, m_score2)) %>% ungroup()# %>% filter(abs(min_cindex-max_cindex)>0.02) \n",
    "    \n",
    "    endpoint_order = (temp %>% group_by(endpoint) %>% summarise(delta=median(delta)) %>% arrange(delta))$endpoint\n",
    "    print(endpoint_order)\n",
    "    \n",
    "    if (length(endpoint_order)>0){\n",
    "        temp = temp %>% filter(endpoint %in% endpoint_order) %>% mutate(endpoint=factor(endpoint, levels=endpoint_order))\n",
    "        temp_abs = temp_abs %>% filter(endpoint %in% endpoint_order) %>% mutate(endpoint=factor(endpoint, levels=endpoint_order))\n",
    "        temp_abs_segment = temp_abs_segment %>% filter(endpoint %in% endpoint_order) %>% mutate(endpoint=factor(endpoint, levels=endpoint_order))\n",
    "        }\n",
    "    #print(temp_abs_segment)\n",
    "    \n",
    "    abs = ggplot(temp_abs) + \n",
    "        #geom_violin(aes(x=fct_rev(endpoint), y=delta), size=0.5) +\n",
    "        labs(y=\"Concordance Index\")+\n",
    "\n",
    "        #geom_segment(data=temp_abs_segment, mapping=aes(x=endpoint, xend=endpoint, y=min_cindex+0.01, yend=max_cindex-0.01), alpha=0.4)+#, arrow = arrow(length = unit(0.01, \"npc\")), arrow.fill=\"black\")+#+\n",
    "\n",
    "    \n",
    "        geom_point(aes(x=fct_rev(endpoint), y=m_score1), size=1, color=\"black\", alpha=0.7)+\n",
    "        #geom_point(aes(x=fct_rev(endpoint), y=m_asm), size=1, color=\"#023768\", alpha=0.7)+\n",
    "        geom_point(aes(x=fct_rev(endpoint), y=m_score2), size=1.5, color=\"firebrick\", alpha=0.7)+\n",
    "        geom_segment(data=temp_abs %>% filter(abs(delta)>0.02) %>% mutate(endpoint=factor(endpoint, levels=endpoint_order)), \n",
    "                     aes(x=fct_rev(endpoint), xend=fct_rev(endpoint), y=m_score1+0.01, yend=m_score2-0.01), alpha=0.2, arrow = arrow(length = unit(0.01, \"npc\")), arrow.fill=\"black\")+#,\n",
    "\n",
    "        scale_x_discrete(labels=endpoint_map) +\n",
    "\n",
    "        coord_flip(ylim=c(0.5, 0.9))+\n",
    "         theme(strip.text = element_text(angle=270), axis.title.y=element_blank()) + \n",
    "        theme(legend.position=\"none\")\n",
    "\n",
    "        #geom_ribbon(aes(x=id, ymin=AgeSex, ymax=`Age+Sex+MedicalHistory`), fill=\"red\", alpha=0.2)\n",
    "    #geom_violin(size=0.1)\n",
    "    rel = ggplot(temp) + \n",
    "        #geom_violin(aes(x=fct_rev(endpoint), y=delta), size=0.5) +\n",
    "        labs(y=\"Difference in Concordance Index\")+\n",
    "        geom_hline(yintercept=0, size=0.25, alpha=0.5, linetype=\"22\") + \n",
    "        stat_pointinterval(aes(x=fct_rev(endpoint), y=delta), size=0.5, alpha=0.7)+\n",
    "\n",
    "        theme(axis.title.y=element_blank(),\n",
    "            axis.text.y=element_blank(),\n",
    "           axis.ticks.y=element_blank()) + \n",
    "        coord_flip(ylim=c(-0.01, 0.23))+\n",
    "         theme(strip.text = element_text(angle=270)) + \n",
    "        theme(legend.position=\"none\")\n",
    "\n",
    "        #geom_ribbon(aes(x=id, ymin=AgeSex, ymax=`Age+Sex+MedicalHistory`), fill=\"red\", alpha=0.2)\n",
    "    #geom_violin(size=0.1) \n",
    "    return(abs|rel)\n",
    "    }"
   ]
  },
  {
   "cell_type": "code",
   "execution_count": null,
   "metadata": {
    "execution": {
     "iopub.execute_input": "2023-04-28T08:21:26.501861Z",
     "iopub.status.busy": "2023-04-28T08:21:26.500823Z",
     "iopub.status.idle": "2023-04-28T08:21:26.508615Z",
     "shell.execute_reply": "2023-04-28T08:21:26.507526Z"
    },
    "tags": []
   },
   "outputs": [],
   "source": [
    "library(ggdist)"
   ]
  },
  {
   "cell_type": "code",
   "execution_count": null,
   "metadata": {
    "execution": {
     "iopub.execute_input": "2023-04-28T08:21:30.253645Z",
     "iopub.status.busy": "2023-04-28T08:21:30.252730Z",
     "iopub.status.idle": "2023-04-28T08:21:30.286367Z",
     "shell.execute_reply": "2023-04-28T08:21:30.285060Z"
    },
    "tags": []
   },
   "outputs": [],
   "source": [
    "base_size = 8\n",
    "title_size = 10\n",
    "facet_size = 9\n",
    "geom_text_size=3\n",
    "theme_set(theme_classic(base_size = base_size) + \n",
    "          theme(strip.background = element_blank(), plot.title=element_text(size=title_size, hjust=0), \n",
    "                strip.text.x = element_text(size = facet_size),axis.title=element_text(size=10), axis.text=element_text(size=8, color=\"black\"),\n",
    "                legend.position=\"bottom\", axis.line = element_line(size = 0.2), axis.ticks=element_line(size=0.2), panel.grid.major=element_line()))"
   ]
  },
  {
   "cell_type": "code",
   "execution_count": null,
   "metadata": {
    "execution": {
     "iopub.execute_input": "2023-04-28T08:21:30.528506Z",
     "iopub.status.busy": "2023-04-28T08:21:30.527562Z",
     "iopub.status.idle": "2023-04-28T08:21:30.538487Z",
     "shell.execute_reply": "2023-04-28T08:21:30.537446Z"
    },
    "tags": []
   },
   "outputs": [],
   "source": [
    "endpoint_order=c(\"phecode_324-11\", \"phecode_438-11\", \"phecode_431-11\", \"phecode_401\",\n",
    "                 \"phecode_413-21\", \"phecode_413-11\", \"phecode_404\",   \"phecode_416-21\", \"phecode_400\",   \"phecode_440-3\",\n",
    "\"phecode_404-1\",  \"phecode_583\",    \"phecode_410-2\",  \"phecode_424\",    \"phecode_468\",  \n",
    "\"phecode_164\",    \"phecode_420\",    \"phecode_202\",    \"phecode_705-1\",  \"phecode_474\",   \n",
    "\"OMOP_4306655\",   \"phecode_665\",    \"phecode_284\",    \"phecode_718\")\n",
    "length(endpoint_order)"
   ]
  },
  {
   "cell_type": "code",
   "execution_count": null,
   "metadata": {
    "execution": {
     "iopub.execute_input": "2023-04-28T08:21:30.962467Z",
     "iopub.status.busy": "2023-04-28T08:21:30.961557Z",
     "iopub.status.idle": "2023-04-28T08:21:30.978096Z",
     "shell.execute_reply": "2023-04-28T08:21:30.977030Z"
    },
    "tags": []
   },
   "outputs": [],
   "source": [
    "sort(endpoint_selection)"
   ]
  },
  {
   "cell_type": "code",
   "execution_count": null,
   "metadata": {
    "execution": {
     "iopub.execute_input": "2023-04-28T08:21:56.973113Z",
     "iopub.status.busy": "2023-04-28T08:21:56.972195Z",
     "iopub.status.idle": "2023-04-28T08:21:57.677597Z",
     "shell.execute_reply": "2023-04-28T08:21:57.676550Z"
    },
    "tags": []
   },
   "outputs": [],
   "source": [
    "plot_width = 8.25; plot_height=3; plot_res = 320\n",
    "options(repr.plot.width = plot_width, repr.plot.height = plot_height, repr.plot.res=plot_res)\n",
    "\n",
    "fig_a = plot_against_score(\"Age+Sex\", \"Age+Sex+Comorbidities\", endpoint_order)\n",
    "fig_a"
   ]
  },
  {
   "cell_type": "code",
   "execution_count": null,
   "metadata": {
    "execution": {
     "iopub.execute_input": "2023-04-28T08:22:41.231070Z",
     "iopub.status.busy": "2023-04-28T08:22:41.230157Z",
     "iopub.status.idle": "2023-04-28T08:22:41.958107Z",
     "shell.execute_reply": "2023-04-28T08:22:41.956995Z"
    },
    "tags": []
   },
   "outputs": [],
   "source": [
    "plot_width = 8.25; plot_height=3; plot_res = 320\n",
    "options(repr.plot.width = plot_width, repr.plot.height = plot_height, repr.plot.res=plot_res)\n",
    "\n",
    "fig_b = plot_against_score(\"Age+Sex\", \"SCORE2\", endpoint_order)\n",
    "fig_b"
   ]
  },
  {
   "cell_type": "code",
   "execution_count": null,
   "metadata": {
    "execution": {
     "iopub.execute_input": "2023-04-28T08:09:34.233026Z",
     "iopub.status.busy": "2023-04-28T08:09:34.232099Z",
     "iopub.status.idle": "2023-04-28T08:09:34.973240Z",
     "shell.execute_reply": "2023-04-28T08:09:34.972147Z"
    },
    "tags": []
   },
   "outputs": [],
   "source": [
    "plot_width = 8.25; plot_height=3.25; plot_res = 320\n",
    "options(repr.plot.width = plot_width, repr.plot.height = plot_height, repr.plot.res=plot_res)\n",
    "\n",
    "fig3b = plot_against_score(\"Age+Sex\", \"Age+Sex+Comorbidities\", endpoint_order)\n",
    "fig3b"
   ]
  },
  {
   "cell_type": "code",
   "execution_count": null,
   "metadata": {
    "execution": {
     "iopub.execute_input": "2023-04-28T08:04:59.766864Z",
     "iopub.status.busy": "2023-04-28T08:04:59.765809Z",
     "iopub.status.idle": "2023-04-28T08:05:00.510862Z",
     "shell.execute_reply": "2023-04-28T08:05:00.509799Z"
    },
    "tags": []
   },
   "outputs": [],
   "source": [
    "plot_width = 8.25; plot_height=3.25; plot_res = 320\n",
    "options(repr.plot.width = plot_width, repr.plot.height = plot_height, repr.plot.res=plot_res)\n",
    "\n",
    "fig3b = plot_against_score(\"Age+Sex\", \"SCORE2\")\n",
    "fig3b"
   ]
  },
  {
   "cell_type": "code",
   "execution_count": null,
   "metadata": {
    "execution": {
     "iopub.execute_input": "2023-04-28T08:05:17.772878Z",
     "iopub.status.busy": "2023-04-28T08:05:17.771846Z",
     "iopub.status.idle": "2023-04-28T08:05:18.503411Z",
     "shell.execute_reply": "2023-04-28T08:05:18.502328Z"
    },
    "tags": []
   },
   "outputs": [],
   "source": [
    "plot_width = 8.25; plot_height=3.25; plot_res = 320\n",
    "options(repr.plot.width = plot_width, repr.plot.height = plot_height, repr.plot.res=plot_res)\n",
    "\n",
    "fig3b = plot_against_score(\"Age+Sex\", \"ASCVD\")\n",
    "fig3b"
   ]
  },
  {
   "cell_type": "code",
   "execution_count": null,
   "metadata": {
    "execution": {
     "iopub.execute_input": "2023-04-28T08:05:26.032116Z",
     "iopub.status.busy": "2023-04-28T08:05:26.031044Z",
     "iopub.status.idle": "2023-04-28T08:05:26.755249Z",
     "shell.execute_reply": "2023-04-28T08:05:26.754213Z"
    },
    "tags": []
   },
   "outputs": [],
   "source": [
    "plot_width = 8.25; plot_height=3.25; plot_res = 320\n",
    "options(repr.plot.width = plot_width, repr.plot.height = plot_height, repr.plot.res=plot_res)\n",
    "\n",
    "fig3b = plot_against_score(\"Age+Sex\", \"QRISK3\")\n",
    "fig3b"
   ]
  },
  {
   "cell_type": "code",
   "execution_count": null,
   "metadata": {
    "execution": {
     "iopub.execute_input": "2023-04-28T08:05:47.722842Z",
     "iopub.status.busy": "2023-04-28T08:05:47.721812Z",
     "iopub.status.idle": "2023-04-28T08:05:48.438555Z",
     "shell.execute_reply": "2023-04-28T08:05:48.437489Z"
    },
    "tags": []
   },
   "outputs": [],
   "source": [
    "plot_width = 8.25; plot_height=3.25; plot_res = 320\n",
    "options(repr.plot.width = plot_width, repr.plot.height = plot_height, repr.plot.res=plot_res)\n",
    "\n",
    "fig3b = plot_against_score(\"QRISK3\", \"Age+Sex+MedicalHistory\")\n",
    "fig3b"
   ]
  },
  {
   "cell_type": "code",
   "execution_count": null,
   "metadata": {
    "execution": {
     "iopub.execute_input": "2023-04-28T08:10:34.864698Z",
     "iopub.status.busy": "2023-04-28T08:10:34.863602Z",
     "iopub.status.idle": "2023-04-28T08:10:35.598827Z",
     "shell.execute_reply": "2023-04-28T08:10:35.597757Z"
    },
    "tags": []
   },
   "outputs": [],
   "source": [
    "plot_width = 8.25; plot_height=3.25; plot_res = 320\n",
    "options(repr.plot.width = plot_width, repr.plot.height = plot_height, repr.plot.res=plot_res)\n",
    "\n",
    "fig3b = plot_against_score(\"QRISK3\", \"QRISK3+MedicalHistory\")\n",
    "fig3b"
   ]
  },
  {
   "cell_type": "code",
   "execution_count": null,
   "metadata": {
    "tags": []
   },
   "outputs": [],
   "source": [
    "library(gt)\n",
    "plot_name = \"Figure3b_performances\"\n",
    "fig3b %>% ggsave(filename=glue(\"outputs/{plot_name}.pdf\"), device=cairo_pdf, width=plot_width, height=plot_height, dpi=plot_res)"
   ]
  },
  {
   "cell_type": "code",
   "execution_count": null,
   "metadata": {
    "tags": []
   },
   "outputs": [],
   "source": [
    "library(ggdist)"
   ]
  },
  {
   "cell_type": "code",
   "execution_count": null,
   "metadata": {
    "tags": []
   },
   "outputs": [],
   "source": [
    "table_2 = benchmark_endpoints %>% \n",
    "    filter(score %in% scores_plot) %>% \n",
    "    mutate(score = factor(score, levels=scores_plot)) %>%\n",
    "    mutate(endpoint = factor(endpoint, levels=endpoints_sorted)) %>%\n",
    "    group_by(endpoint, score, phecode_string, phecode_category) %>%\n",
    "    pivot_wider(names_from=score, values_from=cindex) %>% \n",
    "    mutate(id = row_number()) %>%\n",
    "    mutate(delta = `Age+Sex+MedicalHistory`-`Age+Sex`) %>%\n",
    "    #select(endpoint, iteration, phecode_string, phecode_category, sex, `Age+Sex`, `Age+Sex+MedicalHistory`, delta) %>%\n",
    "    pivot_longer(all_of(c(\"Age+Sex\", \"Age+Sex+MedicalHistory\", \"delta\")), names_to=\"type\", values_to=\"cindex\") %>%\n",
    "    group_by(endpoint, phecode_string, phecode_category, type) %>%\n",
    "    median_qi(cindex) %>%\n",
    "    #ungroup() %>%\n",
    "    mutate(agg = glue(\"{round(cindex, 3)} ({round(.lower, 3)}, {round(.upper, 3)})\")) %>%\n",
    "    ungroup() %>% select(endpoint, phecode_string, phecode_category, type, agg) %>%\n",
    "    pivot_wider(names_from=type, values_from=agg)\n",
    "    #mutate(pos = case_when(delta>=0 ~ \"pos\", delta < 0 ~\"neg\")) %>%\n",
    "    #mutate(endpoint = fct_reorder(endpoint, delta))# %>% filter(endpoint %in% endpoint_sample)"
   ]
  },
  {
   "cell_type": "code",
   "execution_count": null,
   "metadata": {
    "tags": []
   },
   "outputs": [],
   "source": [
    "table_2 %>% \n",
    "    select(all_of(c(\"endpoint\", \"phecode_string\", \"Age+Sex\", 'Age+Sex+MedicalHistory', \"delta\"))) %>%\n",
    "    mutate(endpoint = factor(endpoint, levels = endpoints_md$endpoint)) %>% \n",
    "    filter(endpoint %in% endpoint_selection) %>%\n",
    "    arrange(endpoint)"
   ]
  },
  {
   "cell_type": "code",
   "execution_count": null,
   "metadata": {
    "tags": []
   },
   "outputs": [],
   "source": [
    "options(pillar.print_max = Inf)\n",
    "table_2 %>% \n",
    "    select(all_of(c(\"phecode_category\", \"endpoint\", \"phecode_string\", \"Age+Sex\", 'Age+Sex+MedicalHistory', \"delta\"))) %>%\n",
    "    mutate(endpoint = factor(endpoint, levels = endpoints_md$endpoint)) %>% \n",
    "    #filter(endpoint %in% endpoint_selection) %>%\n",
    "    arrange(endpoint) %>% \n",
    "    write_csv(\"outputs/SupplTable5_DiscriminativePerformanceAll.csv\")"
   ]
  },
  {
   "cell_type": "code",
   "execution_count": null,
   "metadata": {},
   "outputs": [],
   "source": []
  },
  {
   "cell_type": "code",
   "execution_count": null,
   "metadata": {
    "tags": []
   },
   "outputs": [],
   "source": [
    "table_2 %>% filter(endpoint %in% endpoint_selection) %>% arrange(as.character(endpoint)) %>% arrange(delta)"
   ]
  },
  {
   "cell_type": "code",
   "execution_count": null,
   "metadata": {},
   "outputs": [],
   "source": []
  }
 ],
 "metadata": {
  "hide_input": false,
  "kernelspec": {
   "display_name": "R [conda env:cm_r]",
   "language": "R",
   "name": "conda-env-cm_r-r"
  },
  "language_info": {
   "codemirror_mode": "r",
   "file_extension": ".r",
   "mimetype": "text/x-r-source",
   "name": "R",
   "pygments_lexer": "r",
   "version": "4.2.2"
  },
  "toc-autonumbering": false
 },
 "nbformat": 4,
 "nbformat_minor": 4
}
