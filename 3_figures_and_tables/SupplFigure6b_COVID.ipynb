{
 "cells": [
  {
   "cell_type": "markdown",
   "metadata": {},
   "source": [
    "# Benchmarks"
   ]
  },
  {
   "cell_type": "markdown",
   "metadata": {},
   "source": [
    "## Initialize"
   ]
  },
  {
   "cell_type": "code",
   "execution_count": null,
   "metadata": {
    "ExecuteTime": {
     "end_time": "2021-01-05T11:03:09.852316Z",
     "start_time": "2021-01-05T11:03:07.701Z"
    },
    "execution": {
     "iopub.execute_input": "2023-05-12T10:52:39.072784Z",
     "iopub.status.busy": "2023-05-12T10:52:39.071115Z",
     "iopub.status.idle": "2023-05-12T10:52:41.300855Z",
     "shell.execute_reply": "2023-05-12T10:52:41.299791Z"
    },
    "tags": []
   },
   "outputs": [],
   "source": [
    "#library(Rmisc)\n",
    "#library(dtplyr)\n",
    "library(tidyverse)\n",
    "library(glue)\n",
    "library(arrow)\n",
    "library(patchwork)\n",
    "#library(data.table)\n",
    "library(\"jsonlite\")\n",
    "library(ggthemes)"
   ]
  },
  {
   "cell_type": "code",
   "execution_count": null,
   "metadata": {
    "ExecuteTime": {
     "end_time": "2021-01-05T11:03:10.491477Z",
     "start_time": "2021-01-05T11:03:10.445Z"
    },
    "execution": {
     "iopub.execute_input": "2023-05-12T10:52:41.319590Z",
     "iopub.status.busy": "2023-05-12T10:52:41.302220Z",
     "iopub.status.idle": "2023-05-12T10:52:41.335190Z",
     "shell.execute_reply": "2023-05-12T10:52:41.334269Z"
    },
    "tags": []
   },
   "outputs": [],
   "source": [
    "if (grepl(\"sc\", Sys.info()[[\"nodename\"]], fixed=TRUE)) {\n",
    "    base_path = \"/sc-projects/sc-proj-ukb-cvd\"\n",
    "} else {\n",
    "    base_path = \"/data/analysis/ag-reils/ag-reils-shared/cardioRS\"}\n",
    "print(base_path)\n",
    "\n",
    "project_label=\"22_medical_records\"\n",
    "project_path = glue(\"{base_path}/results/projects/{project_label}\")\n",
    "figure_path = glue(\"{project_path}/figures\")\n",
    "output_path = glue(\"{project_path}/data\")\n",
    "\n",
    "experiment = \"230425\"\n",
    "experiment_path = glue(\"{output_path}/{experiment}\")"
   ]
  },
  {
   "cell_type": "code",
   "execution_count": null,
   "metadata": {
    "execution": {
     "iopub.execute_input": "2023-05-12T10:52:41.341895Z",
     "iopub.status.busy": "2023-05-12T10:52:41.336498Z",
     "iopub.status.idle": "2023-05-12T10:52:41.429702Z",
     "shell.execute_reply": "2023-05-12T10:52:41.428955Z"
    },
    "tags": []
   },
   "outputs": [],
   "source": [
    "library(data.table)\n",
    "library(arrow)"
   ]
  },
  {
   "cell_type": "code",
   "execution_count": null,
   "metadata": {
    "execution": {
     "iopub.execute_input": "2023-05-12T10:52:41.431416Z",
     "iopub.status.busy": "2023-05-12T10:52:41.430771Z",
     "iopub.status.idle": "2023-05-12T10:52:41.459645Z",
     "shell.execute_reply": "2023-05-12T10:52:41.458654Z"
    },
    "tags": []
   },
   "outputs": [],
   "source": [
    "endpoints_md = fread(glue(\"{experiment_path}/endpoints.csv\"), colClasses=c(\"phecode\"=\"character\"))\n",
    "endpoints = sort(endpoints_md$endpoint)"
   ]
  },
  {
   "cell_type": "code",
   "execution_count": null,
   "metadata": {
    "execution": {
     "iopub.execute_input": "2023-05-12T10:52:41.461482Z",
     "iopub.status.busy": "2023-05-12T10:52:41.460812Z",
     "iopub.status.idle": "2023-05-12T10:52:42.241808Z",
     "shell.execute_reply": "2023-05-12T10:52:42.240743Z"
    },
    "tags": []
   },
   "outputs": [],
   "source": [
    "endpoint_defs = arrow::read_feather(glue(\"{output_path}/phecode_defs_220306.feather\")) %>% arrange(endpoint)"
   ]
  },
  {
   "cell_type": "code",
   "execution_count": null,
   "metadata": {
    "execution": {
     "iopub.execute_input": "2023-05-12T10:52:42.243685Z",
     "iopub.status.busy": "2023-05-12T10:52:42.242996Z",
     "iopub.status.idle": "2023-05-12T10:52:42.275228Z",
     "shell.execute_reply": "2023-05-12T10:52:42.271381Z"
    },
    "tags": []
   },
   "outputs": [],
   "source": [
    "endpoint_defs %>% group_by(phecode_category) %>% tally()"
   ]
  },
  {
   "cell_type": "code",
   "execution_count": null,
   "metadata": {
    "execution": {
     "iopub.execute_input": "2023-05-12T10:52:43.673846Z",
     "iopub.status.busy": "2023-05-12T10:52:43.673068Z",
     "iopub.status.idle": "2023-05-12T10:52:43.709089Z",
     "shell.execute_reply": "2023-05-12T10:52:43.708329Z"
    },
    "tags": []
   },
   "outputs": [],
   "source": [
    "endpoint_defs %>% filter(phecode_category %in% c(\"Death\", \"ID\", \"Pulmo\", \"Cardio\")) %>% group_by(phecode_category) %>% tally()"
   ]
  },
  {
   "cell_type": "raw",
   "metadata": {
    "execution": {
     "iopub.execute_input": "2022-06-30T09:01:56.789795Z",
     "iopub.status.busy": "2022-06-30T09:01:56.788551Z",
     "iopub.status.idle": "2022-06-30T09:01:56.841823Z",
     "shell.execute_reply": "2022-06-30T09:01:56.824463Z"
    },
    "tags": []
   },
   "source": [
    "endpoints_md %>% filter(endpoint %in% endpoint_selection) %>% as_tibble() %>% arrange(n)  %>%\n",
    "    mutate(endpoint = recode(endpoint, !!!endpoint_map)) %>% mutate(perc = freq*100)"
   ]
  },
  {
   "cell_type": "code",
   "execution_count": null,
   "metadata": {
    "execution": {
     "iopub.execute_input": "2023-05-12T10:52:44.319704Z",
     "iopub.status.busy": "2023-05-12T10:52:44.319025Z",
     "iopub.status.idle": "2023-05-12T10:53:03.028192Z",
     "shell.execute_reply": "2023-05-12T10:53:03.027199Z"
    },
    "tags": []
   },
   "outputs": [],
   "source": [
    "data_outcomes = arrow::read_feather(glue(\"{output_path}/baseline_outcomes_220627.feather\", as_data_frame=FALSE)) "
   ]
  },
  {
   "cell_type": "code",
   "execution_count": null,
   "metadata": {
    "execution": {
     "iopub.execute_input": "2023-05-12T10:53:03.029993Z",
     "iopub.status.busy": "2023-05-12T10:53:03.029354Z",
     "iopub.status.idle": "2023-05-12T10:54:42.818524Z",
     "shell.execute_reply": "2023-05-12T10:54:42.817509Z"
    },
    "tags": []
   },
   "outputs": [],
   "source": [
    "records_long = arrow::read_feather(\"/sc-projects/sc-proj-ukb-cvd/data/2_datasets_pre/211110_anewbeginning/artifacts/final_records_omop_220531.feather\",\n",
    "                                  col_select=all_of(c(\"eid\", \"birth_date\", \"exit_date\", \"concept_id\", \"date\", \"vocabulary\", \"origin\"))) %>% \n",
    "                filter(vocabulary==\"phecode\") %>% mutate(concept_id = str_replace_all(concept_id, \"\\\\.\", \"\\\\-\")) %>%\n",
    "        mutate(severity = case_when(\n",
    "        origin %in% c(\"gp_ctv3\", \"gp_sct\") ~ \"Light\",\n",
    "        origin %in% c(\"hes_icd9\", \"hes_icd10\") ~ \"Severe\",\n",
    "        origin == \"death_records\" ~ \"Fatal\")) %>%\n",
    "    mutate(severity = factor(severity, levels=c(\"Light\", \"Severe\", \"Fatal\")))"
   ]
  },
  {
   "cell_type": "code",
   "execution_count": null,
   "metadata": {
    "execution": {
     "iopub.execute_input": "2023-05-12T10:54:42.820353Z",
     "iopub.status.busy": "2023-05-12T10:54:42.819699Z",
     "iopub.status.idle": "2023-05-12T10:54:42.834534Z",
     "shell.execute_reply": "2023-05-12T10:54:42.833762Z"
    },
    "tags": []
   },
   "outputs": [],
   "source": [
    "partitions = 0:21\n",
    "partitions\n",
    "paths = c()\n",
    "for (p in partitions){\n",
    "    temp_path = glue(\"{experiment_path}/loghs_covid/Identity(Records)+MLP/{p}/test.feather\")\n",
    "    paths = c(paths, temp_path)\n",
    "    }"
   ]
  },
  {
   "cell_type": "raw",
   "metadata": {
    "execution": {
     "iopub.execute_input": "2022-06-21T08:26:23.152044Z",
     "iopub.status.busy": "2022-06-21T08:26:23.151128Z",
     "iopub.status.idle": "2022-06-21T08:26:23.162843Z",
     "shell.execute_reply": "2022-06-21T08:26:23.161707Z"
    },
    "tags": []
   },
   "source": [
    "p=0\n",
    "paths = c()\n",
    "temp_path = glue(\"{experiment_path}/loghs/Identity(Records)+MLP/{p}/train.feather\")\n",
    "paths = c(paths, temp_path)"
   ]
  },
  {
   "cell_type": "code",
   "execution_count": null,
   "metadata": {
    "execution": {
     "iopub.execute_input": "2023-05-12T10:54:42.836236Z",
     "iopub.status.busy": "2023-05-12T10:54:42.835610Z",
     "iopub.status.idle": "2023-05-12T10:55:07.039464Z",
     "shell.execute_reply": "2023-05-12T10:55:07.038571Z"
    },
    "tags": []
   },
   "outputs": [],
   "source": [
    "predictions = paths %>% map_df(\n",
    "    ~suppressWarnings(read_feather(.))) %>% \n",
    "    #pivot_longer(endpoint_selection, names_to=\"endpoint\", values_to=\"logh\") %>%\n",
    "    mutate(eid = as.integer(as.character(eid))) #%>%\n",
    "    #select(endpoint, eid, logh))# %>% arrange(endpoint, eid)\n",
    "predictions_nocovid = predictions %>% arrange(eid)\n",
    "predictions_nocovid %>% head()"
   ]
  },
  {
   "cell_type": "code",
   "execution_count": null,
   "metadata": {
    "execution": {
     "iopub.execute_input": "2023-05-12T10:55:07.041532Z",
     "iopub.status.busy": "2023-05-12T10:55:07.040746Z",
     "iopub.status.idle": "2023-05-12T10:55:07.171373Z",
     "shell.execute_reply": "2023-05-12T10:55:07.170444Z"
    },
    "tags": []
   },
   "outputs": [],
   "source": [
    "data_covariates = arrow::read_feather(glue(\"{output_path}/220627/data_covariates_full.feather\"))"
   ]
  },
  {
   "cell_type": "code",
   "execution_count": null,
   "metadata": {
    "execution": {
     "iopub.execute_input": "2023-05-12T10:55:07.173190Z",
     "iopub.status.busy": "2023-05-12T10:55:07.172537Z",
     "iopub.status.idle": "2023-05-12T10:55:07.177636Z",
     "shell.execute_reply": "2023-05-12T10:55:07.176883Z"
    },
    "tags": []
   },
   "outputs": [],
   "source": [
    "#predictions = bind_rows(predictions_recruitment %>% mutate(t0=\"covid\", endpoints=\"), predictions_2020 %>% mutate(t0=\"covid\")) %>% left_join(data_covariates)"
   ]
  },
  {
   "cell_type": "code",
   "execution_count": null,
   "metadata": {
    "execution": {
     "iopub.execute_input": "2023-05-12T10:55:07.179316Z",
     "iopub.status.busy": "2023-05-12T10:55:07.178702Z",
     "iopub.status.idle": "2023-05-12T10:55:09.625646Z",
     "shell.execute_reply": "2023-05-12T10:55:09.624662Z"
    },
    "tags": []
   },
   "outputs": [],
   "source": [
    "predictions = predictions_nocovid %>% left_join(data_covariates)"
   ]
  },
  {
   "cell_type": "code",
   "execution_count": null,
   "metadata": {
    "execution": {
     "iopub.execute_input": "2023-05-12T10:55:09.627391Z",
     "iopub.status.busy": "2023-05-12T10:55:09.626759Z",
     "iopub.status.idle": "2023-05-12T10:55:09.642401Z",
     "shell.execute_reply": "2023-05-12T10:55:09.641674Z"
    },
    "tags": []
   },
   "outputs": [],
   "source": [
    "endpoints_md %>% filter(str_detect(phecode_string, \"Death|Pneumonia$|Sepsis$\"))"
   ]
  },
  {
   "cell_type": "code",
   "execution_count": null,
   "metadata": {
    "execution": {
     "iopub.execute_input": "2023-05-12T10:55:09.644045Z",
     "iopub.status.busy": "2023-05-12T10:55:09.643433Z",
     "iopub.status.idle": "2023-05-12T10:55:09.723609Z",
     "shell.execute_reply": "2023-05-12T10:55:09.722742Z"
    },
    "tags": []
   },
   "outputs": [],
   "source": [
    "endpoints_md %>% \n",
    "    #filter(str_detect(phecode_string, \"virus\")) %>% \n",
    "    filter(str_detect(phecode_category, \"ID\"))"
   ]
  },
  {
   "cell_type": "code",
   "execution_count": null,
   "metadata": {
    "execution": {
     "iopub.execute_input": "2023-05-12T10:55:09.725400Z",
     "iopub.status.busy": "2023-05-12T10:55:09.724744Z",
     "iopub.status.idle": "2023-05-12T10:55:09.737678Z",
     "shell.execute_reply": "2023-05-12T10:55:09.736909Z"
    },
    "tags": []
   },
   "outputs": [],
   "source": [
    "endpoints_md %>% \n",
    "    filter(str_detect(phecode_string, \"Infections\")) #%>% \n",
    "    #filter(str_detect(phecode_category, \"ID\"))"
   ]
  },
  {
   "cell_type": "code",
   "execution_count": null,
   "metadata": {
    "execution": {
     "iopub.execute_input": "2023-05-12T10:55:09.739410Z",
     "iopub.status.busy": "2023-05-12T10:55:09.738773Z",
     "iopub.status.idle": "2023-05-12T10:55:09.744709Z",
     "shell.execute_reply": "2023-05-12T10:55:09.743949Z"
    },
    "tags": []
   },
   "outputs": [],
   "source": [
    "t0_date = as.Date(\"2019-12-31\")"
   ]
  },
  {
   "cell_type": "code",
   "execution_count": null,
   "metadata": {
    "execution": {
     "iopub.execute_input": "2023-05-12T10:55:09.746410Z",
     "iopub.status.busy": "2023-05-12T10:55:09.745772Z",
     "iopub.status.idle": "2023-05-12T10:55:23.233031Z",
     "shell.execute_reply": "2023-05-12T10:55:23.231334Z"
    },
    "tags": []
   },
   "outputs": [],
   "source": [
    "library(lubridate)\n",
    "data_outcomes_long = records_long %>% filter(date>t0_date) %>% filter(t0_date<exit_date) %>% \n",
    "    mutate(event=1, time=time_length(difftime(date, t0_date), \"years\")) %>%\n",
    "    arrange(eid, concept_id, severity, time) "
   ]
  },
  {
   "cell_type": "code",
   "execution_count": null,
   "metadata": {
    "execution": {
     "iopub.execute_input": "2023-05-12T10:55:23.235506Z",
     "iopub.status.busy": "2023-05-12T10:55:23.234700Z",
     "iopub.status.idle": "2023-05-12T10:55:25.700461Z",
     "shell.execute_reply": "2023-05-12T10:55:25.699474Z"
    },
    "tags": []
   },
   "outputs": [],
   "source": [
    "library(survcomp)"
   ]
  },
  {
   "cell_type": "code",
   "execution_count": null,
   "metadata": {
    "execution": {
     "iopub.execute_input": "2023-05-12T10:55:25.702577Z",
     "iopub.status.busy": "2023-05-12T10:55:25.701699Z",
     "iopub.status.idle": "2023-05-12T10:55:26.530812Z",
     "shell.execute_reply": "2023-05-12T10:55:26.530008Z"
    },
    "tags": []
   },
   "outputs": [],
   "source": [
    "library(survival)\n",
    "library(survminer)\n",
    "require(\"ggquickeda\")\n",
    "\n",
    "mh_map = c(\"20\"=\"#023768\", \"10\"=\"#4F8EC1\", \"1\"=\"#7AC6FF\")\n",
    "\n",
    "calc_km = function(predictors, endpoint, t0, severity){\n",
    "    temp_outcomes = data_outcomes_long %>% \n",
    "        filter(concept_id==!!endpoint) %>%\n",
    "        filter(severity==!!severity) %>%\n",
    "        select(eid, event, time) %>% group_by(eid) %>% slice_min(time, with_ties=FALSE) %>% ungroup()\n",
    "    \n",
    "    km_df = predictions %>% \n",
    "        filter(t0==!!t0) %>%\n",
    "        select(eid, all_of(predictors)) %>% \n",
    "        mutate(across(all_of(predictors), ~ntile(., 100))) %>%\n",
    "        mutate(predictor = rowSums(across(all_of(predictors)))) %>%\n",
    "        left_join(temp_outcomes, by=\"eid\") %>%\n",
    "        replace_na(list(event=FALSE, time=time_length(difftime(max(data_outcomes_long$exit_date), t0_date), \"years\"))) %>%\n",
    "        rename(logh=predictor) %>% ungroup() %>%\n",
    "        mutate(logh_bin = factor(ntile(logh, 20)))\n",
    "    return(km_df)\n",
    "    }\n",
    "\n",
    "get_cindex_df = function(predictors, endpoint, t0, severity){\n",
    "    temp_outcomes = data_outcomes_long %>% \n",
    "        filter(concept_id==!!endpoint) %>%\n",
    "        filter(severity==!!severity) %>%\n",
    "        select(eid, event, time) %>% group_by(eid) %>% slice_min(time, with_ties=FALSE) %>% ungroup()\n",
    "    \n",
    "    km_df = predictions %>% \n",
    "        filter(t0==!!t0) %>%\n",
    "        select(eid, all_of(predictors)) %>% \n",
    "        mutate(across(all_of(predictors), ~ntile(., 100))) %>%\n",
    "        mutate(predictor = rowSums(across(all_of(predictors)))) %>%\n",
    "        left_join(temp_outcomes, by=\"eid\") %>%\n",
    "        replace_na(list(event=FALSE, time=time_length(difftime(max(data_outcomes_long$exit_date), t0_date), \"years\"))) %>%\n",
    "        rename(logh=predictor) %>%\n",
    "        mutate(logh_bin = factor(ntile(logh, 20)))\n",
    "    \n",
    "    return(km_df %>% mutate(predictors = paste(predictors, collapse=\", \"), severity=severity))\n",
    "    }\n",
    "\n",
    "plot_km = function(predictors, endpoint, t0, severity){\n",
    "    temp_outcomes = data_outcomes_long %>% \n",
    "        filter(concept_id==!!endpoint) %>%\n",
    "        filter(severity==!!severity) %>%\n",
    "        select(eid, event, time) %>% group_by(eid) %>% slice_min(time, with_ties=FALSE) %>% ungroup()\n",
    "    \n",
    "    km_df = predictions %>% \n",
    "        filter(t0==!!t0) %>%\n",
    "        select(eid, all_of(predictors)) %>% \n",
    "        mutate(across(all_of(predictors), ~ntile(., 100))) %>%\n",
    "        mutate(predictor = rowSums(across(all_of(predictors)))) %>%\n",
    "        left_join(temp_outcomes, by=\"eid\") %>%\n",
    "        replace_na(list(event=FALSE, time=time_length(difftime(max(data_outcomes_long$exit_date), t0_date), \"years\"))) %>%\n",
    "        rename(logh=predictor) %>%\n",
    "        mutate(logh_bin = factor(ntile(logh, 20)))\n",
    "    \n",
    "    \n",
    "    \n",
    "   #print(km_df)\n",
    "    cindex_df = km_df %>% sample_n(100000)\n",
    "    print(severity)\n",
    "    print((concordance.index(x=cindex_df$logh, surv.time=cindex_df$time, surv.event = cindex_df$event))$c.index)\n",
    "    \n",
    "    ratio = round((km_df %>% summarise(ratio = mean(event)))$ratio*100, 2)\n",
    "    #print(ratio)\n",
    "    \n",
    "    \n",
    "    g = ggplot(km_df %>% filter(logh_bin %in% c(1, 10, 20)), aes(time = time, status = event, fill=logh_bin, color=logh_bin, group=logh_bin)) +\n",
    "    \n",
    "        labs(title=glue(\"{severity} ({ratio}%)\"), y=\"Cumulative Incidence (%)\", x=NULL) + \n",
    "        geom_hline(yintercept=as.numeric(ratio)/100, color=\"black\", alpha=0.5, linetype=\"21\")+\n",
    "    \n",
    "        annotate(\"rect\", xmin=0.22, xmax=0.45, ymin=0, ymax=Inf, fill=\"black\", alpha=0.02) +\n",
    "        annotate(\"rect\", xmin=0.7, xmax=1.25, ymin=0, ymax=Inf, fill=\"black\", alpha=0.02) +\n",
    "    \n",
    "        annotate(\"text\", label=\"First\\nWave\", x=0.335, y=0.07, hjust=0.5)+#, size=3) +\n",
    "        annotate(\"text\", label=\"Second\\nWave\", x=0.99, y=0.07, hjust=0.5)+#, size=3) +\n",
    "    \n",
    "        geom_km(trans = \"event\") + \n",
    "        geom_kmticks(trans = \"event\", size=0.2, alpha=0.01) + \n",
    "        geom_kmband(trans = \"event\") + \n",
    "    \n",
    "        scale_color_manual(values=mh_map)+scale_fill_manual(values=mh_map)+\n",
    "    \n",
    "        scale_y_continuous(labels = function(x) round(x*100, 1), expand=c(0, 0))+\n",
    "        scale_x_continuous(expand=expansion(add=c(0, .1)), \n",
    "                           breaks=c(0, 0.25, 0.5, 0.75, 1, 1.25, 1.5), \n",
    "                           labels=c(\"Jan 20\", \"April 20\", \"July 20\", \"Oct 20\", \"Jan 21\", \"April 21\", \"July 21\")) +\n",
    "        coord_cartesian(xlim=c(0, 1.6), ylim=c(0,0.025))+#+\n",
    "                           \n",
    "        theme(legend.position=\"none\", plot.title = element_text(hjust = 0.5))                    \n",
    "    \n",
    "    return(g)\n",
    "    }"
   ]
  },
  {
   "cell_type": "code",
   "execution_count": null,
   "metadata": {
    "execution": {
     "iopub.execute_input": "2023-05-12T10:55:26.532590Z",
     "iopub.status.busy": "2023-05-12T10:55:26.531951Z",
     "iopub.status.idle": "2023-05-12T10:55:26.539157Z",
     "shell.execute_reply": "2023-05-12T10:55:26.538411Z"
    },
    "tags": []
   },
   "outputs": [],
   "source": [
    "breaks=c(0, 0.25, 0.5, 0.75, 1, 1.25, 1.5)\n",
    "labels=c(\"Jan 20\", \"April 20\", \"July 20\", \"Oct 20\", \"Jan 21\", \"April 21\", \"July 21\")\n",
    "\n",
    "#end of first wave 0.45\n",
    "#end of second wave 0.99\n",
    "#August 2021 1.6"
   ]
  },
  {
   "cell_type": "raw",
   "metadata": {
    "execution": {
     "iopub.execute_input": "2022-06-29T14:52:46.180728Z",
     "iopub.status.busy": "2022-06-29T14:52:46.179877Z",
     "iopub.status.idle": "2022-06-29T14:52:46.190578Z",
     "shell.execute_reply": "2022-06-29T14:52:46.189544Z"
    },
    "jupyter": {
     "source_hidden": true
    },
    "tags": []
   },
   "source": [
    "library(survival)\n",
    "library(survminer)\n",
    "\n",
    "plot_km = function(predictors, endpoint, t0, severity){\n",
    "    temp_outcomes = data_outcomes_long %>% \n",
    "        filter(concept_id==!!endpoint) %>%\n",
    "        filter(severity==!!severity) %>%\n",
    "        select(eid, event, time) %>% group_by(eid) %>% slice_min(time, with_ties=FALSE) %>% ungroup()\n",
    "    \n",
    "    km_df = predictions %>% \n",
    "        filter(t0==!!t0) %>%\n",
    "        select(eid, all_of(predictors)) %>% mutate(predictor = rowSums(across(all_of(predictors)))) %>%\n",
    "        left_join(temp_outcomes, by=\"eid\") %>%\n",
    "        replace_na(list(event=FALSE, time=time_length(difftime(max(data_outcomes_long$exit_date), t0_date), \"years\"))) %>%\n",
    "        rename(logh=predictor) %>%\n",
    "        mutate(logh_bin = ntile(logh, 100))\n",
    "    \n",
    "   #print(km_df)\n",
    "    \n",
    "    ratio = round((km_df %>% summarise(ratio = mean(event)))$ratio*100, 2)\n",
    "    print(ratio)\n",
    "    \n",
    "    #print(levels(km_df$logh_bin))\n",
    "\n",
    "    fit <- survfit(Surv(time,event)~logh_bin, data=km_df %>% filter(logh_bin %in% c(1, 50, 100)))\n",
    "    \n",
    "\n",
    "    g = ggsurvplot(fit,fun = \"event\",data=km_df, conf.int = TRUE)\n",
    "    g = g$plot +    \n",
    "        labs(title=glue(\"{severity} ({ratio}%)\"), y=\"Cumulative Incidence (%)\") + \n",
    "    \n",
    "        geom_hline(yintercept=as.numeric(ratio)/100, color=\"black\", alpha=0.5, linetype=\"21\")+\n",
    "\n",
    "        #scale_colour_viridis_d() + scale_fill_viridis_d()+\n",
    "        scale_colour_manual(values=c(`logh_bin=1`=\"forestgreen\", `logh_bin=50`=\"black\", `logh_bin=100`=\"firebrick\")) + \n",
    "        scale_fill_manual(values=c(`logh_bin=1`=\"forestgreen\", `logh_bin=50`=\"black\", `logh_bin=100`=\"firebrick\")) + #scale_fill_viridis_d()+\n",
    "    \n",
    "        scale_y_continuous(expand=c(0, 0), labels = scales::percent) + \n",
    "        scale_x_continuous(expand=c(0, 0), breaks=c(0, 0.25, 0.5, 0.75, 1, 1.25, 1.5), labels=c(\"Jan 20\", \"April 20\", \"July 20\", \"Oct 20\", \"Jan 21\", \"April 21\", \"July 21\")) + \n",
    "    \n",
    "        coord_cartesian(xlim=c(0, 1.6), ylim=c(0, 0.08))#+\n",
    "        theme(legend.position=\"none\") \n",
    "    \n",
    "    g$layers = c(annotate(\"rect\", xmin=0.22, xmax=0.45, ymin=0, ymax=Inf, fill=\"black\", alpha=0.05), g$layers)\n",
    "    g$layers = c(annotate(\"rect\", xmin=0.7, xmax=1.25, ymin=0, ymax=Inf, fill=\"black\", alpha=0.05), g$layers)\n",
    "    \n",
    "   # g$layers = c(annotate(\"hline\", yintercept=as.numeric(ratio)/100, alpha=0.5), g$layers)\n",
    "    \n",
    "    return(g)\n",
    "    }"
   ]
  },
  {
   "cell_type": "code",
   "execution_count": null,
   "metadata": {
    "execution": {
     "iopub.execute_input": "2023-05-12T10:55:26.540901Z",
     "iopub.status.busy": "2023-05-12T10:55:26.540245Z",
     "iopub.status.idle": "2023-05-12T10:55:26.550621Z",
     "shell.execute_reply": "2023-05-12T10:55:26.549871Z"
    },
    "tags": []
   },
   "outputs": [],
   "source": [
    "base_size = 8\n",
    "title_size = 10\n",
    "facet_size = 8.5\n",
    "geom_text_size=3\n",
    "theme_set(theme_classic(base_size = base_size) + \n",
    "          theme(strip.background = element_blank(), plot.title=element_text(size=title_size, hjust=0), \n",
    "                strip.text.x = element_text(size = facet_size),axis.title=element_text(size=10), axis.text=element_text(size=8, color=\"black\"),\n",
    "                legend.position=\"bottom\", axis.line = element_line(size = 0.2), axis.ticks=element_line(size=0.2)))"
   ]
  },
  {
   "cell_type": "code",
   "execution_count": null,
   "metadata": {
    "execution": {
     "iopub.execute_input": "2023-05-12T10:55:26.552330Z",
     "iopub.status.busy": "2023-05-12T10:55:26.551702Z",
     "iopub.status.idle": "2023-05-12T10:55:26.558457Z",
     "shell.execute_reply": "2023-05-12T10:55:26.557716Z"
    },
    "tags": []
   },
   "outputs": [],
   "source": [
    "plot_width = 4.125; plot_height=6; plot_res = 320\n",
    "options(repr.plot.width = plot_width, repr.plot.height = plot_height, repr.plot.res=plot_res)"
   ]
  },
  {
   "cell_type": "code",
   "execution_count": null,
   "metadata": {
    "execution": {
     "iopub.execute_input": "2023-05-12T10:55:26.560150Z",
     "iopub.status.busy": "2023-05-12T10:55:26.559532Z",
     "iopub.status.idle": "2023-05-12T10:55:32.010407Z",
     "shell.execute_reply": "2023-05-12T10:55:32.009271Z"
    },
    "tags": []
   },
   "outputs": [],
   "source": [
    "endpoint = \"phecode_059\"\n",
    "\n",
    "predictors= c(\"age\")\n",
    "cindex_df_age = bind_rows(get_cindex_df(predictors, endpoint, \"covid\", \"Severe\"), get_cindex_df(predictors, endpoint, \"covid\", \"Fatal\"))\n",
    "\n",
    "predictors= c(\"age\", \"OMOP_4306655\", \"phecode_468\", \"phecode_092-2\")\n",
    "cindex_df_agemh = bind_rows(get_cindex_df(predictors, endpoint, \"covid\", \"Severe\"), get_cindex_df(predictors, endpoint, \"covid\", \"Fatal\"))\n",
    "\n",
    "cindex_df = bind_rows(cindex_df_age, cindex_df_agemh)"
   ]
  },
  {
   "cell_type": "code",
   "execution_count": null,
   "metadata": {
    "execution": {
     "iopub.execute_input": "2023-05-12T10:55:32.012475Z",
     "iopub.status.busy": "2023-05-12T10:55:32.011759Z",
     "iopub.status.idle": "2023-05-12T10:55:32.967132Z",
     "shell.execute_reply": "2023-05-12T10:55:32.965969Z"
    },
    "tags": []
   },
   "outputs": [],
   "source": [
    "cindex_df %>% write_feather(\"outputs/covid_cindeces_230425.feather\")"
   ]
  },
  {
   "cell_type": "code",
   "execution_count": null,
   "metadata": {
    "execution": {
     "iopub.execute_input": "2023-05-12T10:55:32.969260Z",
     "iopub.status.busy": "2023-05-12T10:55:32.968541Z",
     "iopub.status.idle": "2023-05-12T10:56:01.338442Z",
     "shell.execute_reply": "2023-05-12T10:56:01.337460Z"
    },
    "tags": []
   },
   "outputs": [],
   "source": [
    "predictors= c(\"age\")\n",
    "endpoint = \"phecode_059\"\n",
    "predictor_label = toString((endpoints_md %>% filter(endpoint %in% predictors))$phecode_string)\n",
    "\n",
    "g1 = plot_km(predictors, endpoint, \"covid\", \"Severe\")\n",
    "df_1 = calc_km(predictors, endpoint, \"covid\", \"Severe\") %>% mutate(score = \"age only\")\n",
    "g2 = plot_km(predictors, endpoint, \"covid\", \"Fatal\")\n",
    "df_2 = calc_km(predictors, endpoint, \"covid\", \"Fatal\") %>% mutate(score = \"age only\")\n",
    "\n",
    "strat_age = (g1/g2) + plot_annotation(title = glue('COVID outcomes stratified by {predictors}'))\n",
    "strat_age "
   ]
  },
  {
   "cell_type": "code",
   "execution_count": null,
   "metadata": {
    "execution": {
     "iopub.execute_input": "2023-05-12T10:56:01.340551Z",
     "iopub.status.busy": "2023-05-12T10:56:01.339854Z",
     "iopub.status.idle": "2023-05-12T10:56:27.482427Z",
     "shell.execute_reply": "2023-05-12T10:56:27.481576Z"
    },
    "tags": []
   },
   "outputs": [],
   "source": [
    "predictors= c(\"age\", \"OMOP_4306655\", \"phecode_468\", \"phecode_092-2\")\n",
    "endpoint = \"phecode_059\"\n",
    "predictor_label = toString((endpoints_md %>% filter(endpoint %in% predictors))$phecode_string)\n",
    "\n",
    "g3 = plot_km(predictors, endpoint, \"covid\", \"Severe\")\n",
    "df_3 = calc_km(predictors, endpoint, \"covid\", \"Severe\") %>% mutate(score = \"age+mh\")\n",
    "g4 = plot_km(predictors, endpoint, \"covid\", \"Fatal\")\n",
    "df_4 = calc_km(predictors, endpoint, \"covid\", \"Fatal\") %>% mutate(score = \"age+mh\")\n",
    "\n",
    "strat_score = (g3/g4) + plot_annotation(title = glue('COVID outcomes stratified by aggregated\\npartial hazards of {predictor_label}'))\n",
    "strat_score"
   ]
  },
  {
   "cell_type": "code",
   "execution_count": null,
   "metadata": {
    "execution": {
     "iopub.execute_input": "2023-05-12T10:56:27.484272Z",
     "iopub.status.busy": "2023-05-12T10:56:27.483613Z",
     "iopub.status.idle": "2023-05-12T10:56:29.233877Z",
     "shell.execute_reply": "2023-05-12T10:56:29.233087Z"
    },
    "tags": []
   },
   "outputs": [],
   "source": [
    "plot_width = 8.25; plot_height=6; plot_res = 320\n",
    "options(repr.plot.width = plot_width, repr.plot.height = plot_height, repr.plot.res=plot_res)\n",
    "\n",
    "fig_covid = strat_age | strat_score\n",
    "fig_covid"
   ]
  },
  {
   "cell_type": "code",
   "execution_count": null,
   "metadata": {
    "execution": {
     "iopub.execute_input": "2023-05-12T10:58:48.868123Z",
     "iopub.status.busy": "2023-05-12T10:58:48.867267Z",
     "iopub.status.idle": "2023-05-12T10:58:50.372447Z",
     "shell.execute_reply": "2023-05-12T10:58:50.371468Z"
    },
    "tags": []
   },
   "outputs": [],
   "source": [
    "plot_name = \"SupplFigure6d_covid\"\n",
    "fig_covid %>% ggsave(filename=glue(\"outputs/{plot_name}.pdf\"), device=\"pdf\", width=plot_width, height=plot_height, dpi=plot_res)"
   ]
  },
  {
   "cell_type": "code",
   "execution_count": null,
   "metadata": {
    "execution": {
     "iopub.execute_input": "2023-05-12T10:56:30.847867Z",
     "iopub.status.busy": "2023-05-12T10:56:30.847207Z",
     "iopub.status.idle": "2023-05-12T10:56:30.958061Z",
     "shell.execute_reply": "2023-05-12T10:56:30.957116Z"
    },
    "tags": []
   },
   "outputs": [],
   "source": [
    "age_new = arrow::read_feather('/sc-projects/sc-proj-ukb-cvd/data/2_datasets_pre/220603_medicalhistory/baseline_covariates.feather', \n",
    "                                       col_select=c(\"eid\", \"age_at_recruitment_f21022_0_0\", \"date_of_attending_assessment_centre_f53_0_0\")) %>%\n",
    "    mutate(date_covid = as.Date(\"2019-12-31\")) %>%\n",
    "    mutate(diff_covid = time_length(difftime(date_covid, date_of_attending_assessment_centre_f53_0_0), \"years\")) %>%\n",
    "    mutate(age_covid = floor(age_at_recruitment_f21022_0_0 + diff_covid)) %>% select(eid, age_covid)"
   ]
  },
  {
   "cell_type": "code",
   "execution_count": null,
   "metadata": {
    "execution": {
     "iopub.execute_input": "2023-05-12T10:56:30.959869Z",
     "iopub.status.busy": "2023-05-12T10:56:30.959233Z",
     "iopub.status.idle": "2023-05-12T10:56:31.996005Z",
     "shell.execute_reply": "2023-05-12T10:56:31.995215Z"
    },
    "tags": []
   },
   "outputs": [],
   "source": [
    "predictions %>% left_join(age_new) %>% select(eid, age, age_covid) %>% mutate(age_bin=ntile(age, 20)) %>% filter(age_bin==20) %>% arrange(age_covid) %>% ggdist::median_qi(age_covid)"
   ]
  },
  {
   "cell_type": "code",
   "execution_count": null,
   "metadata": {
    "execution": {
     "iopub.execute_input": "2023-05-12T10:56:31.997821Z",
     "iopub.status.busy": "2023-05-12T10:56:31.997175Z",
     "iopub.status.idle": "2023-05-12T10:56:32.002924Z",
     "shell.execute_reply": "2023-05-12T10:56:32.002197Z"
    },
    "tags": []
   },
   "outputs": [],
   "source": [
    "calc_km_df = function(df){\n",
    "    fit <- survfit(Surv(time, event) ~ logh_bin, data=df %>% filter(logh_bin==20))\n",
    "    surv_summary(fit) %>% \n",
    "        mutate(cumevents = cumsum(n.event)) %>% \n",
    "        mutate(label = glue(\"{round((1-surv)*100, 2)}% (CI {round((1-upper)*100, 2)}%, {round((1-lower)*100, 2)}%), {cumevents} events\")) %>%\n",
    "        mutate(link=\"yes\") %>% left_join(data.frame(link = c(\"yes\", \"yes\", \"yes\"), times = c(0.45, 0.99, 1.6)), by=\"link\") %>%\n",
    "        filter(time<times) %>% group_by(times) %>% slice_max(time) %>% ungroup()\n",
    "    }"
   ]
  },
  {
   "cell_type": "code",
   "execution_count": null,
   "metadata": {
    "execution": {
     "iopub.execute_input": "2023-05-12T10:56:32.004617Z",
     "iopub.status.busy": "2023-05-12T10:56:32.003992Z",
     "iopub.status.idle": "2023-05-12T10:56:32.203611Z",
     "shell.execute_reply": "2023-05-12T10:56:32.202636Z"
    },
    "tags": []
   },
   "outputs": [],
   "source": [
    "km_df_all = bind_rows(\n",
    "    calc_km_df(df_1) %>% mutate(score=\"age only\", severity=\"Severe\"),\n",
    "    calc_km_df(df_2) %>% mutate(score=\"age only\", severity=\"Fatal\"),\n",
    "    calc_km_df(df_3) %>% mutate(score=\"age+hr\", severity=\"Severe\"),\n",
    "    calc_km_df(df_4) %>% mutate(score=\"age+hr\", severity=\"Fatal\")\n",
    "    ) %>%\n",
    "    select(times, score, severity, label) %>% pivot_wider(names_from=\"times\", values_from=\"label\") %>% arrange(desc(severity))"
   ]
  },
  {
   "cell_type": "code",
   "execution_count": null,
   "metadata": {
    "execution": {
     "iopub.execute_input": "2023-05-12T10:56:32.205494Z",
     "iopub.status.busy": "2023-05-12T10:56:32.204801Z",
     "iopub.status.idle": "2023-05-12T10:56:32.211089Z",
     "shell.execute_reply": "2023-05-12T10:56:32.210345Z"
    },
    "tags": []
   },
   "outputs": [],
   "source": [
    "colnames(km_df_all) = c(\"score\", \"severity\", \"after first wave\", \"after second wave\", \"until August 21\")"
   ]
  },
  {
   "cell_type": "code",
   "execution_count": null,
   "metadata": {
    "execution": {
     "iopub.execute_input": "2023-05-12T10:56:32.212807Z",
     "iopub.status.busy": "2023-05-12T10:56:32.212168Z",
     "iopub.status.idle": "2023-05-12T10:56:32.232718Z",
     "shell.execute_reply": "2023-05-12T10:56:32.231948Z"
    },
    "tags": []
   },
   "outputs": [],
   "source": [
    "km_df_all %>% arrange(score, desc(severity))"
   ]
  },
  {
   "cell_type": "code",
   "execution_count": null,
   "metadata": {},
   "outputs": [],
   "source": []
  }
 ],
 "metadata": {
  "hide_input": false,
  "kernelspec": {
   "display_name": "R [conda env:r_env]",
   "language": "R",
   "name": "conda-env-r_env-r"
  },
  "language_info": {
   "codemirror_mode": "r",
   "file_extension": ".r",
   "mimetype": "text/x-r-source",
   "name": "R",
   "pygments_lexer": "r",
   "version": "4.0.2"
  },
  "toc-autonumbering": false
 },
 "nbformat": 4,
 "nbformat_minor": 4
}
